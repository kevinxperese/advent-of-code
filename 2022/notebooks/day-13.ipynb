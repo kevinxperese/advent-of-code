{
 "cells": [
  {
   "attachments": {},
   "cell_type": "markdown",
   "metadata": {},
   "source": [
    "# --- Day 13 Distress Signal ---\n",
    "\n",
    "https://adventofcode.com/2022/day/13"
   ]
  },
  {
   "cell_type": "markdown",
   "metadata": {},
   "source": [
    "## Get Input Data"
   ]
  },
  {
   "cell_type": "code",
   "execution_count": 1,
   "metadata": {},
   "outputs": [],
   "source": [
    "import json"
   ]
  },
  {
   "cell_type": "code",
   "execution_count": 25,
   "metadata": {},
   "outputs": [],
   "source": [
    "def get_data(filename):\n",
    "    \"\"\"Get input data for puzzle.\n",
    "    \n",
    "    Use json.loads() to parse string data into list object.\n",
    "\n",
    "    Parameters\n",
    "    ----------\n",
    "    filename : str\n",
    "        The name of the *.txt file in the inputs/ directory.\n",
    "    \n",
    "    Returns\n",
    "    -------\n",
    "    packets : dict of dicts\n",
    "        keys for outside dict are ints, starting at 1, so they can be used in the calculation\n",
    "        of which packet pairs are in the right order.\n",
    "\n",
    "        keys for inside dict:\n",
    "        'left' : str\n",
    "            First packet in pair\n",
    "        'right' : str\n",
    "            Second packet in pair\n",
    "        'right_order' : Boolean\n",
    "            Currently all filled with False\n",
    "    \"\"\"\n",
    "\n",
    "    with open(f'../inputs/{filename}.txt') as file:\n",
    "        packet_pairs = file.read().rstrip('\\n').split('\\n\\n')\n",
    "\n",
    "    packets = {}\n",
    "    for i, pair in enumerate(packet_pairs):\n",
    "        # Use i+1 as keys to dict, so can use those values when summing up which pairs\n",
    "        # are in the right order, which is what the puzzle asks us to solve for.\n",
    "        packets[i+1] = {}\n",
    "        packets[i+1]['left'], packets[i+1]['right'] = [json.loads(p) for p in pair.split('\\n')]\n",
    "        packets[i+1]['right_order'] = None\n",
    "\n",
    "    return packets"
   ]
  },
  {
   "cell_type": "code",
   "execution_count": 26,
   "metadata": {},
   "outputs": [
    {
     "data": {
      "text/plain": [
       "{1: {'left': [1, 1, 3, 1, 1], 'right': [1, 1, 5, 1, 1], 'right_order': False},\n",
       " 2: {'left': [[1], [2, 3, 4]], 'right': [[1], 4], 'right_order': False},\n",
       " 3: {'left': [9], 'right': [[8, 7, 6]], 'right_order': False},\n",
       " 4: {'left': [[4, 4], 4, 4], 'right': [[4, 4], 4, 4, 4], 'right_order': False},\n",
       " 5: {'left': [7, 7, 7, 7], 'right': [7, 7, 7], 'right_order': False},\n",
       " 6: {'left': [], 'right': [3], 'right_order': False},\n",
       " 7: {'left': [[[]]], 'right': [[]], 'right_order': False},\n",
       " 8: {'left': [1, [2, [3, [4, [5, 6, 7]]]], 8, 9],\n",
       "  'right': [1, [2, [3, [4, [5, 6, 0]]]], 8, 9],\n",
       "  'right_order': False}}"
      ]
     },
     "execution_count": 26,
     "metadata": {},
     "output_type": "execute_result"
    }
   ],
   "source": [
    "test_packet_pairs = get_data('test_packet_pairs')\n",
    "test_packet_pairs"
   ]
  },
  {
   "cell_type": "code",
   "execution_count": 29,
   "metadata": {},
   "outputs": [
    {
     "data": {
      "text/plain": [
       "{1: {'left': [[[[], 3], [5, [1], [8, 5], 10, [5, 8]]], [], [1]],\n",
       "  'right': [[9, [4, 9]]],\n",
       "  'right_order': False},\n",
       " 2: {'left': [[[[0, 5], 0], [[2]]],\n",
       "   [7, [4, [2]], 3, 3],\n",
       "   [[[], 5, 5, [4]], 1, [0, [0], [9, 10, 5, 5], [2, 2]], 2]],\n",
       "  'right': [[[6, [1], 3, [9, 3], 10], 1, [[], [3, 7, 7, 5, 5]], 6]],\n",
       "  'right_order': False},\n",
       " 3: {'left': [[0, [0], 6]], 'right': [[9, 1, 5, []]], 'right_order': False},\n",
       " 4: {'left': [[0, [[], []], [[0, 2], [8, 4, 1, 6], 5]], [[0], [9]]],\n",
       "  'right': [[0, 2, 9, 5]],\n",
       "  'right_order': False},\n",
       " 5: {'left': [[]],\n",
       "  'right': [[1, [0, 1, [0, 1, 3, 8, 7]], 5, 1],\n",
       "   [[[8, 8], 4]],\n",
       "   [[[2, 2, 6], 6],\n",
       "    [[4, 2, 8, 8], [1, 6, 2, 8, 6], 2, 7],\n",
       "    5,\n",
       "    7,\n",
       "    [0, 3, 3, [4], [7, 8, 6, 0, 4]]],\n",
       "   [[[4, 0, 7], 9, 4, 0, 7], [6], 4],\n",
       "   [6, 6, [[7]], 2]],\n",
       "  'right_order': False}}"
      ]
     },
     "execution_count": 29,
     "metadata": {},
     "output_type": "execute_result"
    }
   ],
   "source": [
    "packet_pairs = get_data('packet_pairs')\n",
    "{k: packet_pairs[k] for k in list(packet_pairs)[:5]}"
   ]
  },
  {
   "cell_type": "markdown",
   "metadata": {},
   "source": [
    "## Part 1\n",
    "---"
   ]
  },
  {
   "cell_type": "code",
   "execution_count": 141,
   "metadata": {},
   "outputs": [],
   "source": [
    "from itertools import zip_longest"
   ]
  },
  {
   "cell_type": "code",
   "execution_count": 482,
   "metadata": {},
   "outputs": [],
   "source": [
    "def compare(left, right):\n",
    "    \"\"\"Recursively compare two lists, according to rules in the puzzle.\n",
    "    \n",
    "    Parameters\n",
    "    ----------\n",
    "    left : list\n",
    "    right : list\n",
    "\n",
    "    Returns\n",
    "    -------\n",
    "    right_order : bool    \n",
    "    \"\"\"\n",
    "\n",
    "    right_order = None\n",
    "\n",
    "    for l, r in zip_longest(left, right):\n",
    "\n",
    "        if l == None:\n",
    "            right_order = True\n",
    "        elif r == None:\n",
    "            right_order = False\n",
    "\n",
    "        elif isinstance(l, int) and isinstance(r, int):\n",
    "            if l < r:\n",
    "                right_order = True\n",
    "            elif l > r:\n",
    "                right_order = False\n",
    "            else:\n",
    "                pass\n",
    "\n",
    "        elif isinstance(l, list) and isinstance(r, list):\n",
    "            right_order = compare(l, r)\n",
    "\n",
    "        elif isinstance(l, int) and isinstance(r, list):\n",
    "            right_order = compare([l], r)\n",
    "\n",
    "        elif isinstance(l, list) and isinstance(r, int):\n",
    "            right_order = compare(l, [r])\n",
    "\n",
    "        if right_order != None:\n",
    "            return right_order"
   ]
  },
  {
   "cell_type": "code",
   "execution_count": 487,
   "metadata": {},
   "outputs": [
    {
     "data": {
      "text/plain": [
       "False"
      ]
     },
     "execution_count": 487,
     "metadata": {},
     "output_type": "execute_result"
    }
   ],
   "source": [
    "compare([[1], 2], [[1], 1])"
   ]
  },
  {
   "cell_type": "code",
   "execution_count": 484,
   "metadata": {},
   "outputs": [],
   "source": [
    "def solve(packet_pairs):\n",
    "    total = 0\n",
    "    \n",
    "    for k in packet_pairs:\n",
    "        packet_pairs[k]['right_order'] = compare(packet_pairs[k]['left'], packet_pairs[k]['right'])\n",
    "        try:\n",
    "            total += k * packet_pairs[k]['right_order']\n",
    "        except:\n",
    "            print(k, packet_pairs[k])\n",
    "\n",
    "    return total"
   ]
  },
  {
   "cell_type": "markdown",
   "metadata": {},
   "source": [
    "### Run on Test Data"
   ]
  },
  {
   "cell_type": "code",
   "execution_count": 485,
   "metadata": {},
   "outputs": [
    {
     "data": {
      "text/plain": [
       "True"
      ]
     },
     "execution_count": 485,
     "metadata": {},
     "output_type": "execute_result"
    }
   ],
   "source": [
    "solve(get_data('test_packet_pairs')) == 13"
   ]
  },
  {
   "cell_type": "markdown",
   "metadata": {},
   "source": [
    "### Run on Input Data"
   ]
  },
  {
   "cell_type": "code",
   "execution_count": 486,
   "metadata": {},
   "outputs": [
    {
     "data": {
      "text/plain": [
       "6086"
      ]
     },
     "execution_count": 486,
     "metadata": {},
     "output_type": "execute_result"
    }
   ],
   "source": [
    "solve(get_data('packet_pairs'))"
   ]
  },
  {
   "cell_type": "markdown",
   "metadata": {},
   "source": [
    "## Part 2\n",
    "---"
   ]
  },
  {
   "cell_type": "code",
   "execution_count": null,
   "metadata": {},
   "outputs": [],
   "source": []
  },
  {
   "cell_type": "markdown",
   "metadata": {},
   "source": [
    "### Run on Test Data"
   ]
  },
  {
   "cell_type": "code",
   "execution_count": null,
   "metadata": {},
   "outputs": [],
   "source": []
  },
  {
   "cell_type": "markdown",
   "metadata": {},
   "source": [
    "### Run on Input Data"
   ]
  },
  {
   "cell_type": "code",
   "execution_count": null,
   "metadata": {},
   "outputs": [],
   "source": []
  }
 ],
 "metadata": {
  "kernelspec": {
   "display_name": "Python 3.8.8 ('base')",
   "language": "python",
   "name": "python3"
  },
  "language_info": {
   "codemirror_mode": {
    "name": "ipython",
    "version": 3
   },
   "file_extension": ".py",
   "mimetype": "text/x-python",
   "name": "python",
   "nbconvert_exporter": "python",
   "pygments_lexer": "ipython3",
   "version": "3.8.8"
  },
  "vscode": {
   "interpreter": {
    "hash": "f49206fcf84a9145e7e21228cbafa911d1ac18292303b01e865d8267a9c448f7"
   }
  }
 },
 "nbformat": 4,
 "nbformat_minor": 4
}
