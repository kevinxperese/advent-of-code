{
 "cells": [
  {
   "cell_type": "markdown",
   "metadata": {},
   "source": [
    "# --- Day 11 Monkey in the Middle ---\n",
    "\n",
    "https://adventofcode.com/2022/day/11"
   ]
  },
  {
   "cell_type": "code",
   "execution_count": 1,
   "metadata": {},
   "outputs": [],
   "source": [
    "from collections import defaultdict"
   ]
  },
  {
   "cell_type": "markdown",
   "metadata": {},
   "source": [
    "## Get Input Data"
   ]
  },
  {
   "cell_type": "code",
   "execution_count": 3,
   "metadata": {},
   "outputs": [
    {
     "data": {
      "text/plain": [
       "10"
      ]
     },
     "execution_count": 3,
     "metadata": {},
     "output_type": "execute_result"
    }
   ],
   "source": [
    "old = 5\n",
    "eval('old + 5')"
   ]
  },
  {
   "cell_type": "code",
   "execution_count": 42,
   "metadata": {},
   "outputs": [],
   "source": [
    "def get_data(filename):\n",
    "\n",
    "    monkey_notes = defaultdict(dict)\n",
    "\n",
    "    with open(f'../inputs/{filename}.txt') as _file:\n",
    "        for line in _file:\n",
    "            line = line.rstrip()\n",
    "            if line.startswith('Monkey'):\n",
    "                ID = int(line[-2])  # There're only 8 monkeys in the input file\n",
    "                # monkey_notes[ID] = {}\n",
    "            elif line.startswith('  Starting items:'):\n",
    "                monkey_notes[ID]['items'] = [int(x) for x in line[18:].split(',')]\n",
    "            elif line.startswith('  Operation:'):\n",
    "                monkey_notes[ID]['op'] = line[19:]\n",
    "            elif line.startswith('  Test:'):\n",
    "                monkey_notes[ID]['test'] = int(line[21:])\n",
    "            elif line.startswith('    If true:'):\n",
    "                monkey_notes[ID]['true'] = int(line[-1])\n",
    "            elif line.startswith('    If false:'):\n",
    "                monkey_notes[ID]['false'] = int(line[-1])\n",
    "\n",
    "    return monkey_notes"
   ]
  },
  {
   "cell_type": "code",
   "execution_count": 43,
   "metadata": {},
   "outputs": [
    {
     "data": {
      "text/plain": [
       "defaultdict(dict,\n",
       "            {0: {'items': [79, 98],\n",
       "              'op': 'old * 19',\n",
       "              'test': 23,\n",
       "              'true': 2,\n",
       "              'false': 3},\n",
       "             1: {'items': [54, 65, 75, 74],\n",
       "              'op': 'old + 6',\n",
       "              'test': 19,\n",
       "              'true': 2,\n",
       "              'false': 0},\n",
       "             2: {'items': [79, 60, 97],\n",
       "              'op': 'old * old',\n",
       "              'test': 13,\n",
       "              'true': 1,\n",
       "              'false': 3},\n",
       "             3: {'items': [74],\n",
       "              'op': 'old + 3',\n",
       "              'test': 17,\n",
       "              'true': 0,\n",
       "              'false': 1}})"
      ]
     },
     "execution_count": 43,
     "metadata": {},
     "output_type": "execute_result"
    }
   ],
   "source": [
    "test_monkey_notes = get_data('test_monkey_notes')\n",
    "test_monkey_notes"
   ]
  },
  {
   "cell_type": "markdown",
   "metadata": {},
   "source": [
    "## Part 1\n",
    "---"
   ]
  },
  {
   "cell_type": "code",
   "execution_count": 70,
   "metadata": {},
   "outputs": [],
   "source": [
    "def pass_items_around(monkey_notes):\n",
    "    \"\"\"Simulate 20 rounds of monkeys inspecting items in your backpak and thowing them to another monkey.\n",
    "    \n",
    "    Parameters\n",
    "    ----------\n",
    "    monkey_notes : dict\n",
    "        Contains details of 'worry level' for each item that a monkey has taken from your backpack.\n",
    "    \n",
    "    Returns\n",
    "    -------\n",
    "    monkey_business : int\n",
    "        Measure of the product of the top two most productive monkeys \n",
    "        (those who have inspected the most items)\n",
    "    \"\"\"\n",
    "    # Keep track of how many items each monkey has inspected\n",
    "    inspected_counts = [0] * len(monkey_notes)\n",
    "    \n",
    "    for round in range(20):\n",
    "        for m in range(len(monkey_notes)):\n",
    "            for item in monkey_notes[m]['items']:\n",
    "                inspected_counts[m] += 1\n",
    "                old = item  # Use 'old', because that's what the op says\n",
    "                new = eval(monkey_notes[m]['op']) // 3\n",
    "                test = new % monkey_notes[m]['test'] == 0\n",
    "                if test:\n",
    "                    next_monkey = monkey_notes[m]['true']\n",
    "                else:\n",
    "                    next_monkey = monkey_notes[m]['false']\n",
    "                # Throw the item to the next monkey\n",
    "                monkey_notes[next_monkey]['items'].append(new)\n",
    "            \n",
    "            # Clear current monkey's items list\n",
    "            monkey_notes[m]['items'] = []\n",
    "\n",
    "    # Calculate \"monkey business\" metric\n",
    "    top_two = sorted(inspected_counts)[-2:]\n",
    "    monkey_business = top_two[0] * top_two[1]\n",
    "\n",
    "    return monkey_business"
   ]
  },
  {
   "cell_type": "markdown",
   "metadata": {},
   "source": [
    "### Run on Test Data"
   ]
  },
  {
   "cell_type": "code",
   "execution_count": 71,
   "metadata": {},
   "outputs": [
    {
     "data": {
      "text/plain": [
       "True"
      ]
     },
     "execution_count": 71,
     "metadata": {},
     "output_type": "execute_result"
    }
   ],
   "source": [
    "pass_items_around(get_data('test_monkey_notes')) == 10605"
   ]
  },
  {
   "cell_type": "markdown",
   "metadata": {},
   "source": [
    "### Run on Input Data"
   ]
  },
  {
   "cell_type": "code",
   "execution_count": 72,
   "metadata": {},
   "outputs": [
    {
     "data": {
      "text/plain": [
       "55458"
      ]
     },
     "execution_count": 72,
     "metadata": {},
     "output_type": "execute_result"
    }
   ],
   "source": [
    "pass_items_around(get_data('monkey_notes'))"
   ]
  },
  {
   "cell_type": "markdown",
   "metadata": {},
   "source": [
    "## Part 2\n",
    "---"
   ]
  },
  {
   "cell_type": "code",
   "execution_count": null,
   "metadata": {},
   "outputs": [],
   "source": []
  },
  {
   "cell_type": "markdown",
   "metadata": {},
   "source": [
    "### Run on Test Data"
   ]
  },
  {
   "cell_type": "code",
   "execution_count": null,
   "metadata": {},
   "outputs": [],
   "source": [
    "test_data = {\n",
    "    \n",
    "}"
   ]
  },
  {
   "cell_type": "code",
   "execution_count": null,
   "metadata": {},
   "outputs": [],
   "source": [
    "for k, v in test_data.items():\n",
    "    assert bar(k) == v\n",
    "print('Woot! Passed test cases!')"
   ]
  },
  {
   "cell_type": "markdown",
   "metadata": {},
   "source": [
    "### Run on Input Data"
   ]
  },
  {
   "cell_type": "code",
   "execution_count": null,
   "metadata": {},
   "outputs": [],
   "source": []
  }
 ],
 "metadata": {
  "kernelspec": {
   "display_name": "Python 3.8.8 ('base')",
   "language": "python",
   "name": "python3"
  },
  "language_info": {
   "codemirror_mode": {
    "name": "ipython",
    "version": 3
   },
   "file_extension": ".py",
   "mimetype": "text/x-python",
   "name": "python",
   "nbconvert_exporter": "python",
   "pygments_lexer": "ipython3",
   "version": "3.8.8"
  },
  "vscode": {
   "interpreter": {
    "hash": "f49206fcf84a9145e7e21228cbafa911d1ac18292303b01e865d8267a9c448f7"
   }
  }
 },
 "nbformat": 4,
 "nbformat_minor": 4
}
