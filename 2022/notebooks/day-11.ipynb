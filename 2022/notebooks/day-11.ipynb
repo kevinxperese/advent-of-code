{
 "cells": [
  {
   "cell_type": "markdown",
   "metadata": {},
   "source": [
    "# --- Day 11 Monkey in the Middle ---\n",
    "\n",
    "https://adventofcode.com/2022/day/11"
   ]
  },
  {
   "cell_type": "code",
   "execution_count": 1,
   "metadata": {},
   "outputs": [],
   "source": [
    "from collections import defaultdict"
   ]
  },
  {
   "cell_type": "markdown",
   "metadata": {},
   "source": [
    "## Get Input Data"
   ]
  },
  {
   "cell_type": "code",
   "execution_count": 2,
   "metadata": {},
   "outputs": [],
   "source": [
    "def get_data(filename):\n",
    "    \"\"\"Get input data for day 11 puzzle.\n",
    "    \n",
    "    Parameters\n",
    "    ----------\n",
    "    filename : str\n",
    "    \n",
    "    Returns\n",
    "    -------\n",
    "    monkey_notes : dict\n",
    "        Dictionary of details about how each monkey handles items in your backpack.\n",
    "    \"\"\"\n",
    "    monkey_notes = defaultdict(dict)\n",
    "\n",
    "    with open(f'../inputs/{filename}.txt') as _file:\n",
    "        for line in _file:\n",
    "            line = line.rstrip()\n",
    "            if line.startswith('Monkey'):\n",
    "                ID = int(line[-2])  # There're only 8 monkeys in the input file\n",
    "            elif line.startswith('  Starting items:'):\n",
    "                monkey_notes[ID]['items'] = [int(x) for x in line[18:].split(',')]\n",
    "            elif line.startswith('  Operation:'):\n",
    "                monkey_notes[ID]['op'] = line[19:]\n",
    "            elif line.startswith('  Test:'):\n",
    "                monkey_notes[ID]['test'] = int(line[21:])\n",
    "            elif line.startswith('    If true:'):\n",
    "                monkey_notes[ID]['true'] = int(line[-1])\n",
    "            elif line.startswith('    If false:'):\n",
    "                monkey_notes[ID]['false'] = int(line[-1])\n",
    "\n",
    "    return monkey_notes"
   ]
  },
  {
   "cell_type": "code",
   "execution_count": 3,
   "metadata": {},
   "outputs": [
    {
     "data": {
      "text/plain": [
       "defaultdict(dict,\n",
       "            {0: {'items': [79, 98],\n",
       "              'op': 'old * 19',\n",
       "              'test': 23,\n",
       "              'true': 2,\n",
       "              'false': 3},\n",
       "             1: {'items': [54, 65, 75, 74],\n",
       "              'op': 'old + 6',\n",
       "              'test': 19,\n",
       "              'true': 2,\n",
       "              'false': 0},\n",
       "             2: {'items': [79, 60, 97],\n",
       "              'op': 'old * old',\n",
       "              'test': 13,\n",
       "              'true': 1,\n",
       "              'false': 3},\n",
       "             3: {'items': [74],\n",
       "              'op': 'old + 3',\n",
       "              'test': 17,\n",
       "              'true': 0,\n",
       "              'false': 1}})"
      ]
     },
     "execution_count": 3,
     "metadata": {},
     "output_type": "execute_result"
    }
   ],
   "source": [
    "test_monkey_notes = get_data('test_monkey_notes')\n",
    "test_monkey_notes"
   ]
  },
  {
   "cell_type": "markdown",
   "metadata": {},
   "source": [
    "## Part 1\n",
    "---"
   ]
  },
  {
   "cell_type": "code",
   "execution_count": 4,
   "metadata": {},
   "outputs": [],
   "source": [
    "def pass_items_around(monkey_notes):\n",
    "    \"\"\"Simulate 20 rounds of monkeys inspecting items in your backpak and thowing\n",
    "    them to another monkey.\n",
    "\n",
    "    Parameters\n",
    "    ----------\n",
    "    monkey_notes : dict\n",
    "        Contains details of 'worry level' for each item that a monkey has taken\n",
    "        from your backpack.\n",
    "\n",
    "    Returns\n",
    "    -------\n",
    "    monkey_business : int\n",
    "        Measure of the product of the top two most productive monkeys \n",
    "        (those who have inspected the most items)\n",
    "    \"\"\"\n",
    "\n",
    "    # Keep track of how many items each monkey has inspected\n",
    "    inspected_counts = [0] * len(monkey_notes)\n",
    "    \n",
    "    for round in range(20):\n",
    "        for m in range(len(monkey_notes)):\n",
    "            for item in monkey_notes[m]['items']:\n",
    "                inspected_counts[m] += 1\n",
    "\n",
    "                old = item  # Use 'old', because that's what the op says\n",
    "                new_worry_level = eval(monkey_notes[m]['op']) // 3\n",
    "\n",
    "                if new_worry_level % monkey_notes[m]['test'] == 0:\n",
    "                    next_monkey = monkey_notes[m]['true']\n",
    "                else:\n",
    "                    next_monkey = monkey_notes[m]['false']\n",
    "\n",
    "                # Throw the item to the next monkey\n",
    "                monkey_notes[next_monkey]['items'].append(new_worry_level)\n",
    "            \n",
    "            # Clear current monkey's items list\n",
    "            monkey_notes[m]['items'] = []\n",
    "\n",
    "    # Calculate \"monkey business\" metric\n",
    "    top_two = sorted(inspected_counts)[-2:]\n",
    "    monkey_business = top_two[0] * top_two[1]\n",
    "\n",
    "    return monkey_business"
   ]
  },
  {
   "cell_type": "markdown",
   "metadata": {},
   "source": [
    "### Run on Test Data"
   ]
  },
  {
   "cell_type": "code",
   "execution_count": 5,
   "metadata": {},
   "outputs": [
    {
     "data": {
      "text/plain": [
       "True"
      ]
     },
     "execution_count": 5,
     "metadata": {},
     "output_type": "execute_result"
    }
   ],
   "source": [
    "pass_items_around(get_data('test_monkey_notes')) == 10605"
   ]
  },
  {
   "cell_type": "markdown",
   "metadata": {},
   "source": [
    "### Run on Input Data"
   ]
  },
  {
   "cell_type": "code",
   "execution_count": 6,
   "metadata": {},
   "outputs": [
    {
     "data": {
      "text/plain": [
       "55458"
      ]
     },
     "execution_count": 6,
     "metadata": {},
     "output_type": "execute_result"
    }
   ],
   "source": [
    "pass_items_around(get_data('monkey_notes'))"
   ]
  },
  {
   "cell_type": "markdown",
   "metadata": {},
   "source": [
    "## Part 2\n",
    "---"
   ]
  },
  {
   "cell_type": "markdown",
   "metadata": {},
   "source": [
    "## Dan Ready to the Rescue!\n",
    "\n",
    "I would have **NEVER** gotten this on my own.  \n",
    "[https://github.com/dready10/AOC22/blob/master/day11.c](https://github.com/dready10/AOC22/blob/master/day11.c)"
   ]
  },
  {
   "cell_type": "code",
   "execution_count": 7,
   "metadata": {},
   "outputs": [],
   "source": [
    "def get_data2(filename):\n",
    "    \"\"\"Get input data for day 11 puzzle.\n",
    "    \n",
    "    Parameters\n",
    "    ----------\n",
    "    filename : str\n",
    "    \n",
    "    Returns\n",
    "    -------\n",
    "    monkey_notes : dict\n",
    "        Dictionary of details about how each monkey handles items in your backpack.\n",
    "    \"\"\"\n",
    "    monkey_notes = defaultdict(dict)\n",
    "\n",
    "    with open(f'../inputs/{filename}.txt') as _file:\n",
    "        for line in _file:\n",
    "            line = line.rstrip()\n",
    "            if line.startswith('Monkey'):\n",
    "                ID = int(line[-2])  # There're only 8 monkeys in the input file\n",
    "            elif line.startswith('  Starting items:'):\n",
    "                monkey_notes[ID]['items'] = [float(x) for x in line[18:].split(',')]\n",
    "            elif line.startswith('  Operation:'):\n",
    "                op_line = line[23:]\n",
    "                if op_line == '* old':\n",
    "                    monkey_notes[ID]['op'] = 'exp'\n",
    "                    monkey_notes[ID]['operand'] = 2.0\n",
    "                elif op_line.startswith('*'):\n",
    "                    monkey_notes[ID]['op'] = 'mult'\n",
    "                    monkey_notes[ID]['operand'] = float(op_line[2:])\n",
    "                elif op_line.startswith('+'):\n",
    "                    monkey_notes[ID]['op'] = 'add'\n",
    "                    monkey_notes[ID]['operand'] = float(op_line[2:])\n",
    "            elif line.startswith('  Test:'):\n",
    "                monkey_notes[ID]['test'] = float(line[21:])\n",
    "            elif line.startswith('    If true:'):\n",
    "                monkey_notes[ID]['true'] = int(line[-1])\n",
    "            elif line.startswith('    If false:'):\n",
    "                monkey_notes[ID]['false'] = int(line[-1])\n",
    "\n",
    "    return monkey_notes"
   ]
  },
  {
   "cell_type": "code",
   "execution_count": 8,
   "metadata": {},
   "outputs": [],
   "source": [
    "import math"
   ]
  },
  {
   "cell_type": "code",
   "execution_count": 9,
   "metadata": {},
   "outputs": [],
   "source": [
    "def pass_items_around2(monkey_notes, num_rounds):\n",
    "    \"\"\"Simulate 20 rounds of monkeys inspecting items in your backpak and thowing\n",
    "    them to another monkey.\n",
    "\n",
    "    Parameters\n",
    "    ----------\n",
    "    monkey_notes : dict\n",
    "        Contains details of 'worry level' for each item that a monkey has taken\n",
    "        from your backpack.\n",
    "\n",
    "    Returns\n",
    "    -------\n",
    "    monkey_business : int\n",
    "        Measure of the product of the top two most productive monkeys \n",
    "        (those who have inspected the most items)\n",
    "    \"\"\"\n",
    "\n",
    "    # Keep track of how many items each monkey has inspected\n",
    "    inspected_counts = [0] * len(monkey_notes)\n",
    "    \n",
    "    # THIS IS THE TRICK TO REDUCE THE WORRY LEVEL TO MANAGABLE SIZE!\n",
    "    # Calculate the lowest common multiple (lcm) of all the 'test' values.\n",
    "    # These are all primes, so the lcm is equal to the pruduct of them all.\n",
    "    # Then, this can be used to scale the worry level because all the actual\n",
    "    # tests are whether the worry level is divisible by the 'test value.\n",
    "    # \n",
    "    # When scaling, we calculate the reduced_worry_level as the modulo of\n",
    "    # new_worry_level / test_lcm.\n",
    "    #\n",
    "    # AND THEN, when the modulo of reduced_worry_level / test == 0, gives the \n",
    "    # same result as it would if the worry_level wasn't reduce.\n",
    "    test_lcm = math.prod([monkey_notes[m]['test'] for m in range(len(monkey_notes))])\n",
    "\n",
    "    for _ in range(num_rounds):\n",
    "        for m in range(len(monkey_notes)):\n",
    "            \n",
    "            for item in monkey_notes[m]['items']:\n",
    "                inspected_counts[m] += 1\n",
    "\n",
    "                if monkey_notes[m]['op'] == 'exp':\n",
    "                    new_worry_level = item ** monkey_notes[m]['operand']\n",
    "                elif monkey_notes[m]['op'] == 'mult':\n",
    "                    new_worry_level = item * monkey_notes[m]['operand']\n",
    "                elif monkey_notes[m]['op'] == 'add':\n",
    "                    new_worry_level = item + monkey_notes[m]['operand']\n",
    "\n",
    "                # THIS IS THE TRICK TO REDUCE THE WORRY LEVEL TO MANAGABLE SIZE!\n",
    "                # current_worry_level = new_worry_level // 3\n",
    "                reduced_worry_level = new_worry_level % test_lcm\n",
    "\n",
    "                if reduced_worry_level % monkey_notes[m]['test'] == 0:\n",
    "                    next_monkey = monkey_notes[m]['true']\n",
    "                else:\n",
    "                    next_monkey = monkey_notes[m]['false']\n",
    "\n",
    "                # Throw the item to the next monkey\n",
    "                monkey_notes[next_monkey]['items'].append(reduced_worry_level)\n",
    "\n",
    "            # Clear current monkey's items list\n",
    "            monkey_notes[m]['items'] = []\n",
    "\n",
    "    # Calculate \"monkey business\" metric\n",
    "    top_two = sorted(inspected_counts)[-2:]\n",
    "    monkey_business = top_two[0] * top_two[1]\n",
    "    print(inspected_counts)\n",
    "\n",
    "    return monkey_business"
   ]
  },
  {
   "cell_type": "markdown",
   "metadata": {},
   "source": [
    "## Run on Test Data"
   ]
  },
  {
   "cell_type": "code",
   "execution_count": 10,
   "metadata": {},
   "outputs": [
    {
     "name": "stdout",
     "output_type": "stream",
     "text": [
      "[52166, 47830, 1938, 52013]\n"
     ]
    },
    {
     "data": {
      "text/plain": [
       "True"
      ]
     },
     "execution_count": 10,
     "metadata": {},
     "output_type": "execute_result"
    }
   ],
   "source": [
    "pass_items_around2(get_data2('test_monkey_notes'), 10_000) == 2713310158"
   ]
  },
  {
   "cell_type": "code",
   "execution_count": 11,
   "metadata": {},
   "outputs": [
    {
     "name": "stdout",
     "output_type": "stream",
     "text": [
      "[120477, 5452, 16145, 109710, 16135, 113731, 109712, 120422]\n"
     ]
    },
    {
     "data": {
      "text/plain": [
       "14508081294"
      ]
     },
     "execution_count": 11,
     "metadata": {},
     "output_type": "execute_result"
    }
   ],
   "source": [
    "pass_items_around2(get_data2('monkey_notes'), 10_000)"
   ]
  },
  {
   "cell_type": "markdown",
   "metadata": {},
   "source": [
    "## How the `test_lcm` works\n",
    "Work out a simple example with just two test values, which are prime: `13` and `17`."
   ]
  },
  {
   "cell_type": "code",
   "execution_count": 12,
   "metadata": {},
   "outputs": [
    {
     "data": {
      "text/plain": [
       "221"
      ]
     },
     "execution_count": 12,
     "metadata": {},
     "output_type": "execute_result"
    }
   ],
   "source": [
    "lcm = 13 * 17\n",
    "lcm"
   ]
  },
  {
   "cell_type": "code",
   "execution_count": 13,
   "metadata": {},
   "outputs": [
    {
     "name": "stdout",
     "output_type": "stream",
     "text": [
      "13:  1 13 0\n",
      "17:  1 17 0\n",
      "13:  2 169 0\n",
      "17:  2 68 0\n",
      "13:  3 208 0\n",
      "17:  3 51 0\n",
      "13:  4 52 0\n",
      "17:  4 204 0\n",
      "13:  5 13 0\n",
      "17:  5 153 0\n",
      "13:  6 169 0\n",
      "17:  6 170 0\n",
      "13:  7 208 0\n",
      "17:  7 17 0\n",
      "13:  8 52 0\n",
      "17:  8 68 0\n",
      "13:  9 13 0\n",
      "17:  9 51 0\n"
     ]
    }
   ],
   "source": [
    "for i in range(1, 10):\n",
    "    reduced13 = (13 ** i) % lcm\n",
    "    modulo13 = reduced13 % 13  # Should be 0 for all values of reduced13\n",
    "\n",
    "    reduced17 = (17 ** i) % lcm\n",
    "    modulo17 = reduced17 % 17  # Should be 0 for all values of reduced17\n",
    "\n",
    "    print('13: ', i, reduced13, modulo13)\n",
    "    print('17: ', i, reduced17, modulo17)"
   ]
  },
  {
   "cell_type": "markdown",
   "metadata": {},
   "source": [
    "# Second Failed Attempt!\n",
    "I thought maybe I would just need to fiddle with the data type being used to store the `worry_level` values...\n",
    "\n",
    "Nope!\n",
    "\n",
    "That doesn't work..."
   ]
  },
  {
   "cell_type": "code",
   "execution_count": 14,
   "metadata": {},
   "outputs": [],
   "source": [
    "# import numpy as np"
   ]
  },
  {
   "cell_type": "code",
   "execution_count": 15,
   "metadata": {},
   "outputs": [],
   "source": [
    "# def get_data2(filename):\n",
    "#     \"\"\"Get input data for day 11 puzzle.\n",
    "    \n",
    "#     Parameters\n",
    "#     ----------\n",
    "#     filename : str\n",
    "    \n",
    "#     Returns\n",
    "#     -------\n",
    "#     monkey_notes : dict\n",
    "#         Dictionary of details about how each monkey handles items in your backpack.\n",
    "#     \"\"\"\n",
    "#     monkey_notes = defaultdict(dict)\n",
    "\n",
    "#     with open(f'../inputs/{filename}.txt') as _file:\n",
    "#         for line in _file:\n",
    "#             line = line.rstrip()\n",
    "#             if line.startswith('Monkey'):\n",
    "#                 ID = int(line[-2])  # There're only 8 monkeys in the input file\n",
    "#             elif line.startswith('  Starting items:'):\n",
    "#                 items = [float(x) for x in line[18:].split(',')]\n",
    "#                 monkey_notes[ID]['items'] = np.array(items, dtype=np.longdouble)\n",
    "#                 # monkey_notes[ID]['item_factors'] = [find_prime_factors(x) for x in monkey_notes[ID]['items']]\n",
    "#             elif line.startswith('  Operation:'):\n",
    "#                 op_line = line[23:]\n",
    "#                 if op_line == '* old':\n",
    "#                     monkey_notes[ID]['op'] = 'exp'\n",
    "#                     monkey_notes[ID]['operand'] = 2.0\n",
    "#                 elif op_line.startswith('*'):\n",
    "#                     monkey_notes[ID]['op'] = 'mult'\n",
    "#                     monkey_notes[ID]['operand'] = float(op_line[2:])\n",
    "#                 elif op_line.startswith('+'):\n",
    "#                     monkey_notes[ID]['op'] = 'add'\n",
    "#                     monkey_notes[ID]['operand'] = float(op_line[2:])\n",
    "#             elif line.startswith('  Test:'):\n",
    "#                 monkey_notes[ID]['test'] = float(line[21:])\n",
    "#             elif line.startswith('    If true:'):\n",
    "#                 monkey_notes[ID]['true'] = int(line[-1])\n",
    "#             elif line.startswith('    If false:'):\n",
    "#                 monkey_notes[ID]['false'] = int(line[-1])\n",
    "\n",
    "#     return monkey_notes"
   ]
  },
  {
   "cell_type": "code",
   "execution_count": 16,
   "metadata": {},
   "outputs": [],
   "source": [
    "# def pass_items_around3(monkey_notes, num_rounds):\n",
    "#     \"\"\"Simulate 20 rounds of monkeys inspecting items in your backpak and thowing\n",
    "#     them to another monkey.\n",
    "\n",
    "#     Parameters\n",
    "#     ----------\n",
    "#     monkey_notes : dict\n",
    "#         Contains details of 'worry level' for each item that a monkey has taken\n",
    "#         from your backpack.\n",
    "\n",
    "#     Returns\n",
    "#     -------\n",
    "#     monkey_business : int\n",
    "#         Measure of the product of the top two most productive monkeys \n",
    "#         (those who have inspected the most items)\n",
    "#     \"\"\"\n",
    "\n",
    "#     # Keep track of how many items each monkey has inspected\n",
    "#     inspected_counts = [0] * len(monkey_notes)\n",
    "    \n",
    "#     for _ in range(num_rounds):\n",
    "#         for m in range(len(monkey_notes)):\n",
    "            \n",
    "#             # print('monkey ', m)\n",
    "#             # print('before')\n",
    "#             # print('monkey 0: ', monkey_notes[0]['items'])\n",
    "#             # print('monkey 1: ', monkey_notes[1]['items'])\n",
    "#             # print('monkey 2: ', monkey_notes[2]['items'])\n",
    "#             # print('monkey 3: ', monkey_notes[3]['items'])\n",
    "\n",
    "#             for item in monkey_notes[m]['items']:\n",
    "#                 inspected_counts[m] += 1\n",
    "\n",
    "#                 if monkey_notes[m]['op'] == 'exp':\n",
    "#                     new_worry_level = item ** monkey_notes[m]['operand']\n",
    "#                 elif monkey_notes[m]['op'] == 'mult':\n",
    "#                     new_worry_level = item * monkey_notes[m]['operand']\n",
    "#                 elif monkey_notes[m]['op'] == 'add':\n",
    "#                     new_worry_level = item + monkey_notes[m]['operand']\n",
    "\n",
    "#                 # current_worry_level = new_worry_level // 3\n",
    "#                 current_worry_level = new_worry_level\n",
    "\n",
    "#                 if current_worry_level % monkey_notes[m]['test'] == 0:\n",
    "#                     next_monkey = monkey_notes[m]['true']\n",
    "#                 else:\n",
    "#                     next_monkey = monkey_notes[m]['false']\n",
    "\n",
    "#                 # print(new_worry_level, monkey_notes[m]['test'], new_worry_level % monkey_notes[m]['test'], \n",
    "#                 # next_monkey, current_worry_level\n",
    "#                 # )\n",
    "\n",
    "\n",
    "#                 # Throw the item to the next monkey\n",
    "#                 monkey_notes[next_monkey]['items'] = np.append(monkey_notes[next_monkey]['items'], current_worry_level)\n",
    "#                 # print(monkey_notes[next_monkey]['items'])\n",
    "\n",
    "#             # Clear current monkey's items list\n",
    "#             monkey_notes[m]['items'] = np.array([], dtype=np.longdouble)\n",
    "\n",
    "#             # print('after')\n",
    "#             # print('monkey 0: ', monkey_notes[0]['items'])\n",
    "#             # print('monkey 1: ', monkey_notes[1]['items'])\n",
    "#             # print('monkey 2: ', monkey_notes[2]['items'])\n",
    "#             # print('monkey 3: ', monkey_notes[3]['items'])\n",
    "#             # print('\\n')\n",
    "\n",
    "#     # Calculate \"monkey business\" metric\n",
    "#     top_two = sorted(inspected_counts)[-2:]\n",
    "#     monkey_business = top_two[0] * top_two[1]\n",
    "#     print(inspected_counts)\n",
    "\n",
    "#     return monkey_business"
   ]
  },
  {
   "cell_type": "markdown",
   "metadata": {},
   "source": [
    "# First Failed Attempt at Part 2\n",
    "I initially went down the path of storing the large `worry_level` values as prime factors...  \n",
    "That doesn't work."
   ]
  },
  {
   "cell_type": "code",
   "execution_count": 17,
   "metadata": {},
   "outputs": [],
   "source": [
    "# import math"
   ]
  },
  {
   "cell_type": "code",
   "execution_count": 18,
   "metadata": {},
   "outputs": [],
   "source": [
    "# def find_prime_factors(n):\n",
    "#     factors = []\n",
    "\n",
    "#     while n % 2 == 0:\n",
    "#         factors.append(2)\n",
    "#         n /= 2\n",
    "    \n",
    "#     for i in range(3, int(math.sqrt(n))+1, 2):\n",
    "#         while n % i == 0:\n",
    "#             factors.append(i)\n",
    "#             n /= i\n",
    "    \n",
    "#     if n > 2:\n",
    "#         factors.append(int(n))\n",
    "\n",
    "#     return factors"
   ]
  },
  {
   "cell_type": "code",
   "execution_count": 19,
   "metadata": {},
   "outputs": [],
   "source": [
    "# def pass_items_around2(monkey_notes):\n",
    "#     \"\"\"Simulate 10,000(!) rounds of monkeys inspecting items in your backpak and throwing\n",
    "#     them to another monkey.\n",
    "    \n",
    "#     In this calc, worry levels are NOT floor divided by 3 to keep them in check...\n",
    "\n",
    "#     Parameters\n",
    "#     ----------\n",
    "#     monkey_notes : dict\n",
    "#         Contains details of 'worry level' for each item that a monkey has taken from your backpack.\n",
    "    \n",
    "#     Returns\n",
    "#     -------\n",
    "#     monkey_business : int\n",
    "#         Measure of the product of the top two most productive monkeys \n",
    "#         (those who have inspected the most items)\n",
    "#     \"\"\"\n",
    "#     # Keep track of how many items each monkey has inspected\n",
    "#     inspected_counts = [0] * len(monkey_notes)\n",
    "    \n",
    "#     for round in range(20):\n",
    "#         for m in range(len(monkey_notes)):\n",
    "#             for item in monkey_notes[m]['item_factors']:\n",
    "#                 inspected_counts[m] += 1\n",
    "                \n",
    "#                 if monkey_notes[m]['op'] == '* old':\n",
    "#                     # Double the prime factors\n",
    "#                     item = item * 2\n",
    "#                 elif monkey_notes[m]['op'][0] == '*':\n",
    "#                     # Add the new factor to the list of prime factors (these are always prime)\n",
    "#                     new_factor = int(monkey_notes[m]['op'][2:])\n",
    "#                     item.append(new_factor)\n",
    "#                 elif monkey_notes[m]['op'][0] == '+':\n",
    "#                     add_value = int(monkey_notes[m]['op'][2:])\n",
    "#                     big_num = math.prod(item) + add_value\n",
    "#                     item = find_prime_factors(big_num)\n",
    "\n",
    "#                 denom = monkey_notes[m]['test']\n",
    "\n",
    "#                 if denom in item:\n",
    "#                     next_monkey = monkey_notes[m]['true']\n",
    "#                 else:\n",
    "#                     next_monkey = monkey_notes[m]['false']\n",
    "                \n",
    "#                 # Throw the item to the next monkey\n",
    "#                 monkey_notes[next_monkey]['item_factors'].append(item)\n",
    "            \n",
    "#             # Clear current monkey's items list\n",
    "#             monkey_notes[m]['item_factors'] = []\n",
    "\n",
    "#     # Calculate \"monkey business\" metric\n",
    "#     top_two = sorted(inspected_counts)[-2:]\n",
    "#     monkey_business = top_two[0] * top_two[1]\n",
    "#     print(inspected_counts)\n",
    "\n",
    "#     return monkey_businessa"
   ]
  }
 ],
 "metadata": {
  "kernelspec": {
   "display_name": "Python 3.8.8 ('base')",
   "language": "python",
   "name": "python3"
  },
  "language_info": {
   "codemirror_mode": {
    "name": "ipython",
    "version": 3
   },
   "file_extension": ".py",
   "mimetype": "text/x-python",
   "name": "python",
   "nbconvert_exporter": "python",
   "pygments_lexer": "ipython3",
   "version": "3.8.8"
  },
  "vscode": {
   "interpreter": {
    "hash": "f49206fcf84a9145e7e21228cbafa911d1ac18292303b01e865d8267a9c448f7"
   }
  }
 },
 "nbformat": 4,
 "nbformat_minor": 4
}
