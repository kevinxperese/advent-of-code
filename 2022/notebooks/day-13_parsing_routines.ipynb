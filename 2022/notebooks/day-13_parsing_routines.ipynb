{
 "cells": [
  {
   "attachments": {},
   "cell_type": "markdown",
   "metadata": {},
   "source": [
    "# --- Day 13 Distress Signal ---\n",
    "\n",
    "https://adventofcode.com/2022/day/13"
   ]
  },
  {
   "attachments": {},
   "cell_type": "markdown",
   "metadata": {},
   "source": [
    "## Parsing options\n",
    "\n",
    "This problem starts off with input data that are string representations of a list, containing either itegers or other lists.  \n",
    "(So, potentially nested lists.)\n",
    "\n",
    "Converting that string to an actual list object can be done in multiple ways:\n",
    "\n",
    "1. Use Python's built-in `eval()` function,\n",
    "2. Use Python's built-in `ast.literal_eval()` function,\n",
    "3. Use Python's `json` package, because the string is actually in valid JSON format, or \n",
    "4. Write a custom parsing routine"
   ]
  },
  {
   "attachments": {},
   "cell_type": "markdown",
   "metadata": {},
   "source": [
    "## 1. Use Python's built-in `eval()` function\n",
    "\n",
    "**NOTE**: This is typically frowned upon, because it's potentially risky if you don't know the source of the input data that is being evaluated.\n",
    "\n",
    "See:  \n",
    "https://www.reddit.com/r/adventofcode/comments/zkoc0o/2022_day_13_got_some_weird_input_today_hope_none/  \n",
    "https://www.reddit.com/r/adventofcode/comments/zlb1qr/2022_day_13_python_users_giving_in_and_using_eval/  \n",
    "https://www.reddit.com/r/adventofcode/comments/zkxxyt/2022_day_13_python_ftw/  \n",
    "\n",
    "But it works quite swell:"
   ]
  },
  {
   "cell_type": "code",
   "execution_count": 1,
   "metadata": {},
   "outputs": [
    {
     "name": "stdout",
     "output_type": "stream",
     "text": [
      "[1, 1, 3, 1, 1]\n",
      "[1, 1, 5, 1, 1]\n",
      "[[1], [2, 3, 4]]\n",
      "[[1], 4]\n",
      "[9]\n",
      "[[8, 7, 6]]\n",
      "[[4, 4], 4, 4]\n",
      "[[4, 4], 4, 4, 4]\n",
      "[7, 7, 7, 7]\n",
      "[7, 7, 7]\n",
      "[]\n",
      "[3]\n",
      "[[[]]]\n",
      "[[]]\n",
      "[1, [2, [3, [4, [5, 6, 7]]]], 8, 9]\n",
      "[1, [2, [3, [4, [5, 6, 0]]]], 8, 9]\n"
     ]
    }
   ],
   "source": [
    "with open(\"../inputs/test_packet_pairs.txt\") as file:\n",
    "    for line in file:\n",
    "        if line != '\\n': \n",
    "            print(eval(line))"
   ]
  },
  {
   "attachments": {},
   "cell_type": "markdown",
   "metadata": {},
   "source": [
    "A safe way to use the `eval()` function would be to combine it with a regex check to make sure the line  \n",
    "only contains acceptable characters, like so:"
   ]
  },
  {
   "cell_type": "code",
   "execution_count": 2,
   "metadata": {},
   "outputs": [
    {
     "name": "stdout",
     "output_type": "stream",
     "text": [
      "[1, 1, 3, 1, 1]\n",
      "[1, 1, 5, 1, 1]\n",
      "[[1], [2, 3, 4]]\n",
      "[[1], 4]\n",
      "[9]\n",
      "[[8, 7, 6]]\n",
      "[[4, 4], 4, 4]\n",
      "[[4, 4], 4, 4, 4]\n",
      "[7, 7, 7, 7]\n",
      "[7, 7, 7]\n",
      "[3]\n",
      "[[[]]]\n",
      "[[]]\n",
      "[1, [2, [3, [4, [5, 6, 7]]]], 8, 9]\n",
      "[1, [2, [3, [4, [5, 6, 0]]]], 8, 9]\n"
     ]
    }
   ],
   "source": [
    "import re\n",
    "acceptable_line = re.compile(r\"^\\[[\\d\\[\\],]+\\]$\")\n",
    "\n",
    "with open(\"../inputs/test_packet_pairs.txt\") as file:\n",
    "    for line in file:\n",
    "        if re.match(acceptable_line, line.strip()): \n",
    "            print(eval(line))"
   ]
  },
  {
   "attachments": {},
   "cell_type": "markdown",
   "metadata": {},
   "source": [
    "## 2. Use Python's built-in `ast.literal_eval()` function\n",
    "\n",
    "Python's `ast` package (\"ast\" means \"abstract syntax tree\") is used for parsing syntax into grammars.  \n",
    "https://docs.python.org/3/library/ast.html\n",
    "\n",
    "I **think**(?) this defines how Python parses python scripts into a tree data structure that then gets sent  \n",
    "for compilation through the interpreter.\n",
    "\n",
    "The **key** difference between `eval()` and `ast.literal_eval()` is that the latter has some internal  \n",
    "checks to make sure no system code is being evaluated and only data structures are being returned."
   ]
  },
  {
   "cell_type": "code",
   "execution_count": 3,
   "metadata": {},
   "outputs": [],
   "source": [
    "import ast"
   ]
  },
  {
   "cell_type": "code",
   "execution_count": 4,
   "metadata": {},
   "outputs": [
    {
     "name": "stdout",
     "output_type": "stream",
     "text": [
      "[1, 1, 3, 1, 1]\n",
      "[1, 1, 5, 1, 1]\n",
      "[[1], [2, 3, 4]]\n",
      "[[1], 4]\n",
      "[9]\n",
      "[[8, 7, 6]]\n",
      "[[4, 4], 4, 4]\n",
      "[[4, 4], 4, 4, 4]\n",
      "[7, 7, 7, 7]\n",
      "[7, 7, 7]\n",
      "[]\n",
      "[3]\n",
      "[[[]]]\n",
      "[[]]\n",
      "[1, [2, [3, [4, [5, 6, 7]]]], 8, 9]\n",
      "[1, [2, [3, [4, [5, 6, 0]]]], 8, 9]\n"
     ]
    }
   ],
   "source": [
    "with open(\"../inputs/test_packet_pairs.txt\") as file:\n",
    "    for line in file:\n",
    "        if line != '\\n': \n",
    "            print(ast.literal_eval(line))"
   ]
  },
  {
   "attachments": {},
   "cell_type": "markdown",
   "metadata": {},
   "source": [
    "## 3. Use Python's `json` package\n",
    "\n",
    "Hat tip to Nabeel for pointing out that the string is valid JSON!  \n",
    "This works like a charm."
   ]
  },
  {
   "cell_type": "code",
   "execution_count": 2,
   "metadata": {},
   "outputs": [],
   "source": [
    "import json"
   ]
  },
  {
   "cell_type": "code",
   "execution_count": 4,
   "metadata": {},
   "outputs": [
    {
     "name": "stdout",
     "output_type": "stream",
     "text": [
      "[1, 1, 3, 1, 1]\n",
      "[1, 1, 5, 1, 1]\n",
      "[[1], [2, 3, 4]]\n",
      "[[1], 4]\n",
      "[9]\n",
      "[[8, 7, 6]]\n",
      "[[4, 4], 4, 4]\n",
      "[[4, 4], 4, 4, 4]\n",
      "[7, 7, 7, 7]\n",
      "[7, 7, 7]\n",
      "[]\n",
      "[3]\n",
      "[[[]]]\n",
      "[[]]\n",
      "[1, [2, [3, [4, [5, 6, 7]]]], 8, 9]\n",
      "[1, [2, [3, [4, [5, 6, 0]]]], 8, 9]\n"
     ]
    }
   ],
   "source": [
    "with open(\"../inputs/test_packet_pairs.txt\") as file:\n",
    "    for line in file:\n",
    "        if line != '\\n': \n",
    "            print(json.loads(line))"
   ]
  },
  {
   "attachments": {},
   "cell_type": "markdown",
   "metadata": {},
   "source": [
    "## 4. Write a custom parsing function\n",
    "\n",
    "By **FAR** the hardest route to take... (\"No pain, no gain.\")\n",
    "\n",
    "Below, is a slightly modified (and highly annotated) version of the code that Dan Ready wrote:\n",
    "https://github.com/dready10/AOC22/blob/master/day13_pyparser.py, which is based on his C implementation found here:\n",
    "https://github.com/dready10/AOC22/blob/master/day13.c"
   ]
  },
  {
   "cell_type": "code",
   "execution_count": 7,
   "metadata": {},
   "outputs": [],
   "source": [
    "def dan_parse(_string, parent_list):\n",
    "    \"\"\"Parse a string containing a list, containing either (potentially nested) list(s), or digits.\n",
    "    \n",
    "    Recursive function that returns the number of characters \"eaten\" as the string is parsed.\n",
    "\n",
    "    Parameters\n",
    "    ----------\n",
    "    _string : str\n",
    "        The string to be parsed.\n",
    "    parent_list : list, default []\n",
    "        The list object that gets populated along the way as the function runs.\n",
    "\n",
    "    Returns\n",
    "    -------\n",
    "    i : int\n",
    "        The number of characters \"eaten\".\n",
    "    \"\"\"\n",
    "\n",
    "    # i is the first counter moving over the _string\n",
    "    # The first character in _string will always be '['.\n",
    "    # Don't need it, so skip it.\n",
    "    i = 1\n",
    "    \n",
    "    # digit_start is a second counter that typically lags i and marks the potential begining of\n",
    "    # a digit character, which can be more than 1 character in length.\n",
    "    digit_start = 1\n",
    "\n",
    "    while i < len(_string):\n",
    "\n",
    "        # Happens in all calls to dan_parse()\n",
    "        if _string[i] == ',':\n",
    "            # If previous character is a digit...\n",
    "            if _string[i-1].isdigit():\n",
    "                # ...then every character from digit_start to i (a comma here) is a digit\n",
    "                # (digits can be longer than 1 character), so we convert that string slice\n",
    "                # to an int and append it to the parent_list\n",
    "                parent_list.append(int(_string[digit_start:i]))\n",
    "                \n",
    "                # Also, advance digit_start counter to be ahead of current i counter.\n",
    "                # (The current i counter, however, will be advanced at the bottom of the while loop.\n",
    "                # so they'll start off in the same position again for next iteration of while loop.)\n",
    "                digit_start = i + 1\n",
    "\n",
    "        # Recursive case.\n",
    "        # We are at the beginning of a child_list, so create an empty child_list then parse it.\n",
    "        # NB: The dan_parse() function alters the object passed as a reference, so need to create\n",
    "        # it first, and then it will be populated after returning the characters eaten along the way.\n",
    "        elif _string[i] == '[':\n",
    "            child_list = []\n",
    "            chars_eaten = dan_parse(_string[i:], child_list)\n",
    "            parent_list.append(child_list)\n",
    "\n",
    "            # Advance counters appropriately\n",
    "            i += chars_eaten\n",
    "            digit_start = i + 2  # This confuses me... Why increment by 2?  digit_start will be ahead of i now, even after the i += 1 at the end of the while loop...\n",
    "\n",
    "        # Base case.\n",
    "        # We reached the end of either a child_list or the parent_list.\n",
    "        elif _string[i] == ']':\n",
    "            # If there's a digit before the last bracket...\n",
    "            if _string[i-1].isdigit():\n",
    "                # ...then every character from digit_start to i (a comma here) is a digit\n",
    "                # (digits can be longer than 1 character), so we convert that string slice\n",
    "                # to an int and append it to the parent_list\n",
    "                parent_list.append(int(_string[digit_start:i]))\n",
    "\n",
    "            # Return the number of characters eaten by this call to dan_parse()\n",
    "            return i\n",
    "\n",
    "        # Increment to next position in the string\n",
    "        i += 1\n"
   ]
  },
  {
   "cell_type": "code",
   "execution_count": 8,
   "metadata": {},
   "outputs": [
    {
     "name": "stdout",
     "output_type": "stream",
     "text": [
      "[1, 1, 3, 1, 1]\n",
      "[1, 1, 5, 1, 1]\n",
      "[[1], [2, 3, 4]]\n",
      "[[1], 4]\n",
      "[9]\n",
      "[[8, 7, 6]]\n",
      "[[4, 4], 4, 4]\n",
      "[[4, 4], 4, 4, 4]\n",
      "[7, 7, 7, 7]\n",
      "[7, 7, 7]\n",
      "[]\n",
      "[3]\n",
      "[[[]]]\n",
      "[[]]\n",
      "[1, [2, [3, [4, [5, 6, 7]]]], 8, 9]\n",
      "[1, [2, [3, [4, [5, 6, 0]]]], 8, 9]\n"
     ]
    }
   ],
   "source": [
    "with open(\"../inputs/test_packet_pairs.txt\") as file:\n",
    "    for line in file:\n",
    "        if line != '\\n':\n",
    "            _list = []\n",
    "            dan_parse(line.strip(), _list)\n",
    "            print(_list)"
   ]
  }
 ],
 "metadata": {
  "kernelspec": {
   "display_name": "Python 3.8.8 ('base')",
   "language": "python",
   "name": "python3"
  },
  "language_info": {
   "codemirror_mode": {
    "name": "ipython",
    "version": 3
   },
   "file_extension": ".py",
   "mimetype": "text/x-python",
   "name": "python",
   "nbconvert_exporter": "python",
   "pygments_lexer": "ipython3",
   "version": "3.8.8"
  },
  "vscode": {
   "interpreter": {
    "hash": "f49206fcf84a9145e7e21228cbafa911d1ac18292303b01e865d8267a9c448f7"
   }
  }
 },
 "nbformat": 4,
 "nbformat_minor": 4
}
