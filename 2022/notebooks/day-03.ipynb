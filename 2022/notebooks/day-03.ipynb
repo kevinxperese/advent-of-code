{
 "cells": [
  {
   "cell_type": "markdown",
   "metadata": {},
   "source": [
    "# --- Day 3: Rucksack Reorganization ---\n",
    "\n",
    "https://adventofcode.com/2022/day/3"
   ]
  },
  {
   "cell_type": "code",
   "execution_count": 1,
   "metadata": {},
   "outputs": [],
   "source": [
    "import string"
   ]
  },
  {
   "cell_type": "markdown",
   "metadata": {},
   "source": [
    "## Get Input Data"
   ]
  },
  {
   "cell_type": "code",
   "execution_count": 2,
   "metadata": {},
   "outputs": [
    {
     "data": {
      "text/plain": [
       "['vJrwpWtwJgWrhcsFMMfFFhFp',\n",
       " 'jqHRNqRjqzjGDLGLrsFMfFZSrLrFZsSL',\n",
       " 'PmmdzqPrVvPwwTWBwg',\n",
       " 'wMqvLMZHhHMvwLHjbvcjnnSBnvTQFn',\n",
       " 'ttgJtRGJQctTZtZT',\n",
       " 'CrZsJsPPZsGzwwsLwLmpwMDw']"
      ]
     },
     "execution_count": 2,
     "metadata": {},
     "output_type": "execute_result"
    }
   ],
   "source": [
    "with open('../inputs/test_rucksack.txt') as f:\n",
    "    test_rucksack = [line.rstrip() for line in f]\n",
    "test_rucksack"
   ]
  },
  {
   "cell_type": "code",
   "execution_count": 3,
   "metadata": {},
   "outputs": [
    {
     "data": {
      "text/plain": [
       "['jVTBgVbgJQVrTLRRsLvRzWcZvnDs',\n",
       " 'dhtmhfdfNlNNldfqmPCflqGbNZDHsDWcRzvczWsczZNzHz',\n",
       " 'tmwwwCCfbJSMbwMb',\n",
       " 'hsrZZhHlhrHmPPbMbDFDQdnQgLfMFDdDQQ',\n",
       " 'GpBtwtqrcCcjgnLgqfgDDgRn']"
      ]
     },
     "execution_count": 3,
     "metadata": {},
     "output_type": "execute_result"
    }
   ],
   "source": [
    "with open('../inputs/rucksack.txt') as f:\n",
    "    rucksack = [line.strip() for line in f]\n",
    "rucksack[:5]"
   ]
  },
  {
   "cell_type": "markdown",
   "metadata": {},
   "source": [
    "## Part 1\n",
    "---"
   ]
  },
  {
   "cell_type": "code",
   "execution_count": 4,
   "metadata": {},
   "outputs": [],
   "source": [
    "def calc_priority(items):\n",
    "    \"\"\"Calculate the priority score for the contents of a rucksack.\n",
    "    \n",
    "    Parameters\n",
    "    ----------\n",
    "    items : str\n",
    "\n",
    "    Returns\n",
    "    -------\n",
    "    priority : int\n",
    "    \"\"\"\n",
    "\n",
    "    midpoint = int(len(items) / 2)\n",
    "    item1 = set(items[:midpoint])\n",
    "    item2 = set(items[midpoint:])\n",
    "\n",
    "    same = item1 & item2  # & is the intersection operator for two sets\n",
    "\n",
    "    priority = string.ascii_letters.index(list(same)[0]) + 1\n",
    "\n",
    "    return priority"
   ]
  },
  {
   "cell_type": "markdown",
   "metadata": {},
   "source": [
    "### Run on Test Data"
   ]
  },
  {
   "cell_type": "code",
   "execution_count": 5,
   "metadata": {},
   "outputs": [
    {
     "data": {
      "text/plain": [
       "True"
      ]
     },
     "execution_count": 5,
     "metadata": {},
     "output_type": "execute_result"
    }
   ],
   "source": [
    "sum(map(calc_priority, test_rucksack)) == 157"
   ]
  },
  {
   "cell_type": "markdown",
   "metadata": {},
   "source": [
    "### Run on Input Data"
   ]
  },
  {
   "cell_type": "code",
   "execution_count": 6,
   "metadata": {},
   "outputs": [
    {
     "data": {
      "text/plain": [
       "8109"
      ]
     },
     "execution_count": 6,
     "metadata": {},
     "output_type": "execute_result"
    }
   ],
   "source": [
    "sum(map(calc_priority, rucksack))"
   ]
  },
  {
   "cell_type": "markdown",
   "metadata": {},
   "source": [
    "## Part 2\n",
    "---"
   ]
  },
  {
   "cell_type": "code",
   "execution_count": 11,
   "metadata": {},
   "outputs": [],
   "source": [
    "def find_badge(rucksacks):\n",
    "    \"\"\"Find the priority score for the badge (same item) across three rucksacks.\n",
    "    \n",
    "    Parameters\n",
    "    ----------\n",
    "    rucksacks : list of length 3\n",
    "\n",
    "    Returns\n",
    "    -------\n",
    "    badge_priority : int\n",
    "    \"\"\"\n",
    "\n",
    "    badge = list(set(rucksacks[0]) & set(rucksacks[1]) & set(rucksacks[2]))[0]\n",
    "    badge_priority = string.ascii_letters.index(badge) + 1\n",
    "\n",
    "    return badge_priority"
   ]
  },
  {
   "cell_type": "markdown",
   "metadata": {},
   "source": [
    "### Run on Test Data"
   ]
  },
  {
   "cell_type": "code",
   "execution_count": 12,
   "metadata": {},
   "outputs": [
    {
     "name": "stdout",
     "output_type": "stream",
     "text": [
      "True\n",
      "True\n"
     ]
    }
   ],
   "source": [
    "print(find_badge(test_rucksack[:3]) == 18)\n",
    "print(find_badge(test_rucksack[3:]) == 52)"
   ]
  },
  {
   "cell_type": "code",
   "execution_count": 13,
   "metadata": {},
   "outputs": [
    {
     "data": {
      "text/plain": [
       "True"
      ]
     },
     "execution_count": 13,
     "metadata": {},
     "output_type": "execute_result"
    }
   ],
   "source": [
    "sum(map(find_badge, [test_rucksack[i:i+3] for i in range(0, len(test_rucksack), 3)])) == 70"
   ]
  },
  {
   "cell_type": "markdown",
   "metadata": {},
   "source": [
    "### Run on Input Data"
   ]
  },
  {
   "cell_type": "code",
   "execution_count": 14,
   "metadata": {},
   "outputs": [
    {
     "data": {
      "text/plain": [
       "2738"
      ]
     },
     "execution_count": 14,
     "metadata": {},
     "output_type": "execute_result"
    }
   ],
   "source": [
    "sum(map(find_badge, [rucksack[i:i+3] for i in range(0, len(rucksack), 3)]))"
   ]
  }
 ],
 "metadata": {
  "kernelspec": {
   "display_name": "Python 3.8.8 ('base')",
   "language": "python",
   "name": "python3"
  },
  "language_info": {
   "codemirror_mode": {
    "name": "ipython",
    "version": 3
   },
   "file_extension": ".py",
   "mimetype": "text/x-python",
   "name": "python",
   "nbconvert_exporter": "python",
   "pygments_lexer": "ipython3",
   "version": "3.8.8"
  },
  "vscode": {
   "interpreter": {
    "hash": "f49206fcf84a9145e7e21228cbafa911d1ac18292303b01e865d8267a9c448f7"
   }
  }
 },
 "nbformat": 4,
 "nbformat_minor": 4
}
