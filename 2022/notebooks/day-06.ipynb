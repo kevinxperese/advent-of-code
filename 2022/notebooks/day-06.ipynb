{
 "cells": [
  {
   "cell_type": "markdown",
   "metadata": {},
   "source": [
    "# --- Day 6: Tuning Trouble ---\n",
    "\n",
    "https://adventofcode.com/2022/day/6"
   ]
  },
  {
   "cell_type": "code",
   "execution_count": 1,
   "metadata": {},
   "outputs": [],
   "source": [
    "import re"
   ]
  },
  {
   "cell_type": "markdown",
   "metadata": {},
   "source": [
    "## Get Input Data"
   ]
  },
  {
   "cell_type": "code",
   "execution_count": 2,
   "metadata": {},
   "outputs": [
    {
     "data": {
      "text/plain": [
       "'czfztznzpn'"
      ]
     },
     "execution_count": 2,
     "metadata": {},
     "output_type": "execute_result"
    }
   ],
   "source": [
    "with open('../inputs/signal.txt') as f:\n",
    "    signal = f.read().rstrip()\n",
    "signal[:10]"
   ]
  },
  {
   "cell_type": "markdown",
   "metadata": {},
   "source": [
    "## Part 1\n",
    "---"
   ]
  },
  {
   "cell_type": "code",
   "execution_count": 3,
   "metadata": {},
   "outputs": [],
   "source": [
    "def find_start_of_packet_marker(signal):\n",
    "    \"\"\"Find the position of the first start of packet marker.\n",
    "    A start of packet marker is a *previous* string of 4 *unique* characters.\n",
    "    \n",
    "    Parameters\n",
    "    ----------\n",
    "    signal : str\n",
    "\n",
    "    Returns\n",
    "    -------\n",
    "    packet_pos : int\n",
    "    \"\"\"\n",
    "\n",
    "    for i in range(3, len(signal)):\n",
    "        if len(set(signal[i-3:i+1])) == 4:\n",
    "            return i + 1"
   ]
  },
  {
   "cell_type": "markdown",
   "metadata": {},
   "source": [
    "### Run on Test Data"
   ]
  },
  {
   "cell_type": "code",
   "execution_count": 4,
   "metadata": {},
   "outputs": [],
   "source": [
    "test_data = {\n",
    "    'mjqjpqmgbljsphdztnvjfqwrcgsmlb' : 7,\n",
    "    'bvwbjplbgvbhsrlpgdmjqwftvncz' : 5,\n",
    "    'nppdvjthqldpwncqszvftbrmjlhg' : 6,\n",
    "    'nznrnfrfntjfmvfwmzdfjlvtqnbhcprsg' : 10,\n",
    "    'zcfzfwzzqfrljwzlrfnpqdbhtmscgvjw' : 11\n",
    "}"
   ]
  },
  {
   "cell_type": "code",
   "execution_count": 5,
   "metadata": {},
   "outputs": [
    {
     "name": "stdout",
     "output_type": "stream",
     "text": [
      "Woot! Passed test cases!\n"
     ]
    }
   ],
   "source": [
    "for k, v in test_data.items():\n",
    "    try:\n",
    "        assert find_start_of_packet_marker(k) == v\n",
    "    except AssertionError:\n",
    "        print(f\"Whoops. Something's not quite right. find_start_of_packet_marker({k}) equals {find_start_of_packet_marker(k)}, NOT {v}\")\n",
    "print('Woot! Passed test cases!')"
   ]
  },
  {
   "cell_type": "markdown",
   "metadata": {},
   "source": [
    "### Run on Input Data"
   ]
  },
  {
   "cell_type": "code",
   "execution_count": 6,
   "metadata": {},
   "outputs": [
    {
     "data": {
      "text/plain": [
       "1542"
      ]
     },
     "execution_count": 6,
     "metadata": {},
     "output_type": "execute_result"
    }
   ],
   "source": [
    "find_start_of_packet_marker(signal)"
   ]
  },
  {
   "cell_type": "markdown",
   "metadata": {},
   "source": [
    "## Part 2\n",
    "---"
   ]
  },
  {
   "cell_type": "code",
   "execution_count": 7,
   "metadata": {},
   "outputs": [],
   "source": [
    "def find_start_of_packet_marker2(signal):\n",
    "    \"\"\"Find the position of the first start of packet marker.\n",
    "    A start of packet marker is a *previous* string of 14 *unique* characters.\n",
    "    \n",
    "    Parameters\n",
    "    ----------\n",
    "    signal : str\n",
    "\n",
    "    Returns\n",
    "    -------\n",
    "    packet_pos : int\n",
    "    \"\"\"\n",
    "\n",
    "    for i in range(13, len(signal)):\n",
    "        if len(set(signal[i-13:i+1])) == 14:\n",
    "            return i + 1"
   ]
  },
  {
   "cell_type": "markdown",
   "metadata": {},
   "source": [
    "### Run on Test Data"
   ]
  },
  {
   "cell_type": "code",
   "execution_count": 8,
   "metadata": {},
   "outputs": [],
   "source": [
    "test_data = {\n",
    "    'mjqjpqmgbljsphdztnvjfqwrcgsmlb' : 19,\n",
    "    'bvwbjplbgvbhsrlpgdmjqwftvncz' : 23,\n",
    "    'nppdvjthqldpwncqszvftbrmjlhg' : 23,\n",
    "    'nznrnfrfntjfmvfwmzdfjlvtqnbhcprsg' : 29,\n",
    "    'zcfzfwzzqfrljwzlrfnpqdbhtmscgvjw' : 26\n",
    "}"
   ]
  },
  {
   "cell_type": "code",
   "execution_count": 9,
   "metadata": {},
   "outputs": [
    {
     "name": "stdout",
     "output_type": "stream",
     "text": [
      "Woot! Passed test cases!\n"
     ]
    }
   ],
   "source": [
    "for k, v in test_data.items():\n",
    "    assert find_start_of_packet_marker2(k) == v\n",
    "print('Woot! Passed test cases!')"
   ]
  },
  {
   "cell_type": "markdown",
   "metadata": {},
   "source": [
    "### Run on Input Data"
   ]
  },
  {
   "cell_type": "code",
   "execution_count": 10,
   "metadata": {},
   "outputs": [
    {
     "data": {
      "text/plain": [
       "3153"
      ]
     },
     "execution_count": 10,
     "metadata": {},
     "output_type": "execute_result"
    }
   ],
   "source": [
    "find_start_of_packet_marker2(signal)"
   ]
  }
 ],
 "metadata": {
  "kernelspec": {
   "display_name": "Python 3.8.8 ('base')",
   "language": "python",
   "name": "python3"
  },
  "language_info": {
   "codemirror_mode": {
    "name": "ipython",
    "version": 3
   },
   "file_extension": ".py",
   "mimetype": "text/x-python",
   "name": "python",
   "nbconvert_exporter": "python",
   "pygments_lexer": "ipython3",
   "version": "3.8.8"
  },
  "vscode": {
   "interpreter": {
    "hash": "f49206fcf84a9145e7e21228cbafa911d1ac18292303b01e865d8267a9c448f7"
   }
  }
 },
 "nbformat": 4,
 "nbformat_minor": 4
}
