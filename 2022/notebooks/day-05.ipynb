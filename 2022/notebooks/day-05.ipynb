{
 "cells": [
  {
   "cell_type": "markdown",
   "metadata": {},
   "source": [
    "# --- Day 5: Supply Stacks ---\n",
    "\n",
    "https://adventofcode.com/2022/day/5"
   ]
  },
  {
   "cell_type": "code",
   "execution_count": 1,
   "metadata": {},
   "outputs": [],
   "source": [
    "from collections import defaultdict\n",
    "from math import ceil\n",
    "import re"
   ]
  },
  {
   "cell_type": "markdown",
   "metadata": {},
   "source": [
    "## Get Input Data"
   ]
  },
  {
   "cell_type": "code",
   "execution_count": 2,
   "metadata": {},
   "outputs": [],
   "source": [
    "def get_inputs(filename):\n",
    "    \"\"\"Get input data for day 5.\n",
    "    \n",
    "    Input data today is a bit complex. First need to read in a data structure containing stacks\n",
    "    (which I'll implement with lists) and then the second portion of the data (separated by a blank\n",
    "    line) contains the moves of containers from one stack to another.\n",
    "\n",
    "    Parameters\n",
    "    ----------\n",
    "    filename : str\n",
    "        Name of file (without \".txt\" extension) that contains the input data.\n",
    "\n",
    "    Returns\n",
    "    -------\n",
    "    crates, moves : dictionary of lists of strings and list of lists of integers, respectively.    \n",
    "    \"\"\"\n",
    "\n",
    "    crates = defaultdict(list)\n",
    "    moves = []\n",
    "\n",
    "    with open(f'../inputs/{filename}.txt') as f:\n",
    "        for line in f:\n",
    "            # Fill up the crates dictionary, with keys being integer values indicating the stack\n",
    "            # and the values being a list containing the stack.\n",
    "            if not line.startswith('move') or line.startswith('1'):\n",
    "                for i, c in enumerate(line.rstrip()):\n",
    "                    if c.isalpha():\n",
    "                        crates[ceil(i/4)].append(c)\n",
    "            \n",
    "            # Then fill up the moves list with lists of integers. There will be three integers\n",
    "            # in each list: 1) The number of moves to make, 2) from which stack and 3) to which \n",
    "            # stack.\n",
    "            elif line.startswith('move'):\n",
    "                moves.append(list(map(int, re.findall(r\"\\d+\", line))))\n",
    "\n",
    "    return crates, moves"
   ]
  },
  {
   "cell_type": "code",
   "execution_count": 3,
   "metadata": {},
   "outputs": [
    {
     "name": "stdout",
     "output_type": "stream",
     "text": [
      "defaultdict(<class 'list'>, {2: ['D', 'C', 'M'], 1: ['N', 'Z'], 3: ['P']})\n",
      "[[1, 2, 1], [3, 1, 3], [2, 2, 1], [1, 1, 2]]\n"
     ]
    }
   ],
   "source": [
    "test_crates, test_moves = get_inputs('test_crates')\n",
    "print(test_crates)\n",
    "print(test_moves)"
   ]
  },
  {
   "cell_type": "code",
   "execution_count": 4,
   "metadata": {},
   "outputs": [
    {
     "name": "stdout",
     "output_type": "stream",
     "text": [
      "defaultdict(<class 'list'>, {1: ['T', 'V', 'J', 'W', 'N', 'R', 'M', 'S'], 2: ['V', 'C', 'P', 'Q', 'J', 'D', 'W', 'B'], 8: ['W', 'B', 'Z', 'T', 'L', 'S', 'C', 'N'], 3: ['P', 'R', 'D', 'H', 'F', 'J', 'B'], 4: ['D', 'N', 'M', 'B', 'P', 'R', 'F'], 5: ['B', 'T', 'P', 'R', 'V', 'H'], 7: ['L', 'P', 'R', 'J', 'B'], 6: ['T', 'P', 'B', 'C'], 9: ['G', 'S', 'L']})\n",
      "[[7, 3, 9], [6, 2, 1], [2, 4, 8], [10, 8, 4], [1, 2, 4]]\n"
     ]
    }
   ],
   "source": [
    "crates, moves = get_inputs('crates')\n",
    "print(crates)\n",
    "print(moves[:5])"
   ]
  },
  {
   "cell_type": "markdown",
   "metadata": {},
   "source": [
    "## Part 1\n",
    "---"
   ]
  },
  {
   "cell_type": "code",
   "execution_count": 5,
   "metadata": {},
   "outputs": [],
   "source": [
    "def rearrange_crates(crates, moves):\n",
    "    \"\"\"Rearrange the stacks of crates, based on the move instructions.\n",
    "    \n",
    "    Parameters\n",
    "    ----------\n",
    "    crates : dictionary of lists of strings\n",
    "    moves : list of lists of integers\n",
    "\n",
    "    Returns\n",
    "    -------\n",
    "    crates : dictionary of lists of strings\n",
    "        The contents of the stacks of crates after being rearranged.    \n",
    "    \"\"\"\n",
    "    for move in moves:\n",
    "        num_moves, _from, _to = move\n",
    "    \n",
    "        for _ in range(num_moves):\n",
    "            crates[_to].insert(0, crates[_from].pop(0))\n",
    "\n",
    "    return crates"
   ]
  },
  {
   "cell_type": "code",
   "execution_count": 6,
   "metadata": {},
   "outputs": [],
   "source": [
    "def get_heads(crates):\n",
    "    \"\"\"Get the head values of the crates.\n",
    "    \n",
    "    Parameters\n",
    "    ----------\n",
    "    crates : dictionary of lists of strings\n",
    "\n",
    "    Returns\n",
    "    -------\n",
    "    str\n",
    "        The puzzle answer.\n",
    "    \"\"\"\n",
    "\n",
    "    head_crates = []\n",
    "    \n",
    "    for i in range(len(crates)):\n",
    "        head_crates.append(crates[i+1][0])\n",
    "\n",
    "    return ''.join(head_crates)"
   ]
  },
  {
   "cell_type": "markdown",
   "metadata": {},
   "source": [
    "### Run on Test Data"
   ]
  },
  {
   "cell_type": "code",
   "execution_count": 7,
   "metadata": {},
   "outputs": [
    {
     "data": {
      "text/plain": [
       "True"
      ]
     },
     "execution_count": 7,
     "metadata": {},
     "output_type": "execute_result"
    }
   ],
   "source": [
    "get_heads(rearrange_crates(*get_inputs('test_crates'))) == 'CMZ'"
   ]
  },
  {
   "cell_type": "markdown",
   "metadata": {},
   "source": [
    "### Run on Input Data"
   ]
  },
  {
   "cell_type": "code",
   "execution_count": 8,
   "metadata": {},
   "outputs": [
    {
     "data": {
      "text/plain": [
       "'LJSVLTWQM'"
      ]
     },
     "execution_count": 8,
     "metadata": {},
     "output_type": "execute_result"
    }
   ],
   "source": [
    "get_heads(rearrange_crates(*get_inputs('crates')))"
   ]
  },
  {
   "cell_type": "markdown",
   "metadata": {},
   "source": [
    "## Part 2\n",
    "---"
   ]
  },
  {
   "cell_type": "code",
   "execution_count": 9,
   "metadata": {},
   "outputs": [],
   "source": [
    "def rearrange_crates2(crates, moves):\n",
    "    \"\"\"Rearrange the stacks of crates, based on the move instructions, for Part 2.\n",
    "    \n",
    "    In part 2, if the number of moves is greater than 1, then the order of the crates moved \n",
    "    from one stack to the next remains the same.\n",
    "\n",
    "    Parameters\n",
    "    ----------\n",
    "    crates : dictionary of lists of strings\n",
    "    moves : list of lists of integers\n",
    "\n",
    "    Returns\n",
    "    -------\n",
    "    crates : dictionary of lists of strings\n",
    "        The contents of the stacks of crates after being rearranged.    \n",
    "    \"\"\"\n",
    "\n",
    "    for move in moves:\n",
    "        num_moves, _from, _to = move\n",
    "    \n",
    "        if num_moves == 1:\n",
    "            crates[_to].insert(0, crates[_from].pop(0))\n",
    "        else:\n",
    "            crates[_to] = crates[_from][:num_moves] + crates[_to]\n",
    "            crates[_from] = crates[_from][num_moves:]\n",
    "\n",
    "    return crates"
   ]
  },
  {
   "cell_type": "markdown",
   "metadata": {},
   "source": [
    "### Run on Test Data"
   ]
  },
  {
   "cell_type": "code",
   "execution_count": 10,
   "metadata": {},
   "outputs": [
    {
     "data": {
      "text/plain": [
       "True"
      ]
     },
     "execution_count": 10,
     "metadata": {},
     "output_type": "execute_result"
    }
   ],
   "source": [
    "get_heads(rearrange_crates2(*get_inputs('test_crates')))== 'MCD'"
   ]
  },
  {
   "cell_type": "markdown",
   "metadata": {},
   "source": [
    "### Run on Input Data"
   ]
  },
  {
   "cell_type": "code",
   "execution_count": 11,
   "metadata": {},
   "outputs": [
    {
     "data": {
      "text/plain": [
       "'BRQWDBBJM'"
      ]
     },
     "execution_count": 11,
     "metadata": {},
     "output_type": "execute_result"
    }
   ],
   "source": [
    "get_heads(rearrange_crates2(*get_inputs('crates')))"
   ]
  }
 ],
 "metadata": {
  "kernelspec": {
   "display_name": "Python 3.8.8 ('base')",
   "language": "python",
   "name": "python3"
  },
  "language_info": {
   "codemirror_mode": {
    "name": "ipython",
    "version": 3
   },
   "file_extension": ".py",
   "mimetype": "text/x-python",
   "name": "python",
   "nbconvert_exporter": "python",
   "pygments_lexer": "ipython3",
   "version": "3.8.8"
  },
  "vscode": {
   "interpreter": {
    "hash": "f49206fcf84a9145e7e21228cbafa911d1ac18292303b01e865d8267a9c448f7"
   }
  }
 },
 "nbformat": 4,
 "nbformat_minor": 4
}
