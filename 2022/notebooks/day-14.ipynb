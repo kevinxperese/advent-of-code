{
 "cells": [
  {
   "attachments": {},
   "cell_type": "markdown",
   "metadata": {},
   "source": [
    "# --- Day 14 Regolith Reservoir ---\n",
    "\n",
    "https://adventofcode.com/2022/day/14"
   ]
  },
  {
   "cell_type": "markdown",
   "metadata": {},
   "source": [
    "## Get Input Data"
   ]
  },
  {
   "cell_type": "code",
   "execution_count": 10,
   "metadata": {},
   "outputs": [],
   "source": [
    "def get_data(filename):\n",
    "    \"\"\"Get input data for puzzle.\n",
    "    \n",
    "    Parameters\n",
    "    ----------\n",
    "    filename : str\n",
    "        The name of the *.txt file in the inputs/ directory.\n",
    "    \n",
    "    Returns\n",
    "    -------\n",
    "    \n",
    "    \"\"\"\n",
    "\n",
    "    top, right, bottom, left = 0, 500, 0, 500\n",
    "\n",
    "    with open(f'../inputs/{filename}.txt') as file:\n",
    "        rock_lines = [line.strip().split(' -> ') for line in file]\n",
    "\n",
    "    map_dims = {}\n",
    "\n",
    "    for line in rock_lines:\n",
    "        for i, pos in enumerate(line):\n",
    "            \n",
    "            # Create map dimensions\n",
    "            x, y = pos.split(',')\n",
    "            map_dims['top'] = min(top, int(y))\n",
    "            map_dims['right'] = max(right, int(x))\n",
    "            map_dims['bottom'] = max(bottom, int(y))\n",
    "            map_dims['left'] = min(left, int(x))\n",
    "            \n",
    "            # Convert line points to tuple of integers\n",
    "            line[i] = (int(x), int(y))\n",
    "\n",
    "    return rock_lines, map_dims"
   ]
  },
  {
   "cell_type": "code",
   "execution_count": 11,
   "metadata": {},
   "outputs": [
    {
     "data": {
      "text/plain": [
       "([[(498, 4), (498, 6), (496, 6)], [(503, 4), (502, 4), (502, 9), (494, 9)]],\n",
       " {'top': 0, 'right': 500, 'bottom': 9, 'left': 494})"
      ]
     },
     "execution_count": 11,
     "metadata": {},
     "output_type": "execute_result"
    }
   ],
   "source": [
    "get_data('test_cave_scan')"
   ]
  },
  {
   "cell_type": "markdown",
   "metadata": {},
   "source": [
    "## Part 1\n",
    "---"
   ]
  },
  {
   "cell_type": "code",
   "execution_count": 10,
   "metadata": {},
   "outputs": [],
   "source": [
    "import numpy as np"
   ]
  },
  {
   "cell_type": "code",
   "execution_count": 80,
   "metadata": {},
   "outputs": [],
   "source": [
    "def make_cave_map(rock_lines, map_dims):\n",
    "    cave_map = np.zeros((1000, 1000), dtype=np.int8)\n",
    "\n",
    "    for line in rock_lines:\n",
    "        for i in range(1, len(line)):\n",
    "            x1, y1 = line[i-1][0], line[i-1][1]\n",
    "            x2, y2 = line[i][0], line[i][1]\n",
    "\n",
    "            for x in range(min(x1, x2), max(x1, x2) + 1):\n",
    "                for y in range(min(y1, y2), max(y1, y2) + 1):\n",
    "                    # map coordinates are (x, y), but numpy arrays are (row, col), so need to reverse x, y\n",
    "                    cave_map[y, x] = 1\n",
    "\n",
    "    return cave_map"
   ]
  },
  {
   "cell_type": "code",
   "execution_count": 82,
   "metadata": {},
   "outputs": [
    {
     "data": {
      "text/plain": [
       "array([[0, 0, 0, 0, 0, 0, 0, 0, 0, 0],\n",
       "       [0, 0, 0, 0, 0, 0, 0, 0, 0, 0],\n",
       "       [0, 0, 0, 0, 0, 0, 0, 0, 0, 0],\n",
       "       [0, 0, 0, 0, 0, 0, 0, 0, 0, 0],\n",
       "       [0, 0, 0, 0, 1, 0, 0, 0, 1, 1],\n",
       "       [0, 0, 0, 0, 1, 0, 0, 0, 1, 0],\n",
       "       [0, 0, 1, 1, 1, 0, 0, 0, 1, 0],\n",
       "       [0, 0, 0, 0, 0, 0, 0, 0, 1, 0],\n",
       "       [0, 0, 0, 0, 0, 0, 0, 0, 1, 0],\n",
       "       [1, 1, 1, 1, 1, 1, 1, 1, 1, 0]], dtype=int8)"
      ]
     },
     "execution_count": 82,
     "metadata": {},
     "output_type": "execute_result"
    }
   ],
   "source": [
    "cave_map = make_cave_map(*get_data('test_cave_scan'))\n",
    "cave_map[0:10, 494:504]"
   ]
  },
  {
   "cell_type": "code",
   "execution_count": 6,
   "metadata": {},
   "outputs": [],
   "source": [
    "def check_not_blocked(cave_map, curr_pos):\n",
    "\n",
    "    DOWN = (1, 0)\n",
    "    DOWN_LEFT = (1, -1)\n",
    "    DOWN_RIGHT = (1, 1)\n",
    "\n",
    "    not_blocked = {}\n",
    "\n",
    "    not_blocked['down'] = bool(cave_map[tuple(map(sum, zip(curr_pos, DOWN)))])\n",
    "    not_blocked['down_left'] = bool(cave_map[tuple(map(sum, zip(curr_pos, DOWN_LEFT)))])\n",
    "    not_blocked['down_right'] = bool(cave_map[tuple(map(sum, zip(curr_pos, DOWN_RIGHT)))])\n",
    "\n",
    "    return not_blocked"
   ]
  },
  {
   "cell_type": "code",
   "execution_count": 14,
   "metadata": {},
   "outputs": [],
   "source": [
    "def off_the_map(map_dims, curr_pos):\n",
    "    if curr_pos[0] > map_dims['bottom'] or curr_pos[1] < map_dims['left'] or curr_pos[1] > map_dims['right']:\n",
    "        return True\n",
    "    else:\n",
    "        return False"
   ]
  },
  {
   "cell_type": "code",
   "execution_count": 13,
   "metadata": {},
   "outputs": [],
   "source": [
    "def settle(cave_map, map_dims):\n",
    "\n",
    "    SOURCE = (0, 500)\n",
    "\n",
    "    DOWN = (1, 0)\n",
    "    DOWN_LEFT = (1, -1)\n",
    "    DOWN_RIGHT = (1, 1)\n",
    "\n",
    "    next_pos = SOURCE\n",
    "\n",
    "    while True:\n",
    "        not_blocked = check_not_blocked(cave_map, next_pos)\n",
    "        if not_blocked['down']:\n",
    "            next_pos = tuple(map(sum, zip(next_pos, DOWN)))\n",
    "        elif not_blocked['down_left']:\n",
    "            next_pos = tuple(map(sum, zip(next_pos, DOWN_LEFT)))\n",
    "        elif not_blocked['down_right']:\n",
    "            next_pos = tuple(map(sum, zip(next_pos, DOWN_RIGHT)))\n",
    "\n",
    "        # Off the map...\n",
    "        if off_the_map(map_dims, next_pos):\n",
    "            next_pos = None\n",
    "            break\n",
    "\n",
    "    return cave_map"
   ]
  },
  {
   "cell_type": "code",
   "execution_count": 3,
   "metadata": {},
   "outputs": [
    {
     "data": {
      "text/plain": [
       "(1, 500)"
      ]
     },
     "execution_count": 3,
     "metadata": {},
     "output_type": "execute_result"
    }
   ],
   "source": [
    "a = (0, 500)\n",
    "down = (1, 0)\n",
    "tuple(map(sum, zip(a, down)))"
   ]
  },
  {
   "cell_type": "code",
   "execution_count": 84,
   "metadata": {},
   "outputs": [
    {
     "data": {
      "text/plain": [
       "array([[0., 0., 0.],\n",
       "       [0., 1., 0.],\n",
       "       [0., 0., 0.]])"
      ]
     },
     "execution_count": 84,
     "metadata": {},
     "output_type": "execute_result"
    }
   ],
   "source": [
    "foo = np.zeros((3,3))\n",
    "foo[(1, 1)] = 1\n",
    "foo"
   ]
  },
  {
   "cell_type": "markdown",
   "metadata": {},
   "source": [
    "### Run on Test Data"
   ]
  },
  {
   "cell_type": "code",
   "execution_count": null,
   "metadata": {},
   "outputs": [],
   "source": []
  },
  {
   "cell_type": "markdown",
   "metadata": {},
   "source": [
    "### Run on Input Data"
   ]
  },
  {
   "cell_type": "code",
   "execution_count": null,
   "metadata": {},
   "outputs": [],
   "source": []
  },
  {
   "cell_type": "markdown",
   "metadata": {},
   "source": [
    "## Part 2\n",
    "---"
   ]
  },
  {
   "cell_type": "code",
   "execution_count": null,
   "metadata": {},
   "outputs": [],
   "source": []
  },
  {
   "cell_type": "markdown",
   "metadata": {},
   "source": [
    "### Run on Test Data"
   ]
  },
  {
   "cell_type": "code",
   "execution_count": null,
   "metadata": {},
   "outputs": [],
   "source": []
  },
  {
   "cell_type": "markdown",
   "metadata": {},
   "source": [
    "### Run on Input Data"
   ]
  },
  {
   "cell_type": "code",
   "execution_count": null,
   "metadata": {},
   "outputs": [],
   "source": []
  }
 ],
 "metadata": {
  "kernelspec": {
   "display_name": "Python 3.8.8 ('base')",
   "language": "python",
   "name": "python3"
  },
  "language_info": {
   "codemirror_mode": {
    "name": "ipython",
    "version": 3
   },
   "file_extension": ".py",
   "mimetype": "text/x-python",
   "name": "python",
   "nbconvert_exporter": "python",
   "pygments_lexer": "ipython3",
   "version": "3.8.8"
  },
  "vscode": {
   "interpreter": {
    "hash": "f49206fcf84a9145e7e21228cbafa911d1ac18292303b01e865d8267a9c448f7"
   }
  }
 },
 "nbformat": 4,
 "nbformat_minor": 4
}
