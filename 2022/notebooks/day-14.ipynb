{
 "cells": [
  {
   "attachments": {},
   "cell_type": "markdown",
   "metadata": {},
   "source": [
    "# --- Day 14 Regolith Reservoir ---\n",
    "\n",
    "https://adventofcode.com/2022/day/14"
   ]
  },
  {
   "cell_type": "markdown",
   "metadata": {},
   "source": [
    "## Get Input Data"
   ]
  },
  {
   "cell_type": "code",
   "execution_count": 1,
   "metadata": {},
   "outputs": [],
   "source": [
    "def get_data(filename):\n",
    "    \"\"\"Get input data for puzzle.\n",
    "    \n",
    "    Parameters\n",
    "    ----------\n",
    "    filename : str\n",
    "        The name of the *.txt file in the inputs/ directory.\n",
    "    \n",
    "    Returns\n",
    "    -------\n",
    "    rock_lines : list of list of tuples\n",
    "        Each element is a line from the file, containing a list of tuples; \n",
    "        each tuple is a point on a line segment\n",
    "    map_dims : dict\n",
    "        Contains the 'top', 'right', 'bottom', and 'left' boundry of the map scan.\n",
    "    \"\"\"\n",
    "\n",
    "    with open(f'../inputs/{filename}.txt') as file:\n",
    "        rock_lines = [line.strip().split(' -> ') for line in file]\n",
    "\n",
    "    map_dims = {'top': 0, 'right': 500, 'bottom': 0, 'left':500}\n",
    "\n",
    "    for line in rock_lines:\n",
    "        for i, pos in enumerate(line):\n",
    "            \n",
    "            # Create map dimensions\n",
    "            x, y = pos.split(',')\n",
    "            map_dims['top'] = min(map_dims['top'], int(y))\n",
    "            map_dims['right'] = max(map_dims['right'], int(x))\n",
    "            map_dims['bottom'] = max(map_dims['bottom'], int(y))\n",
    "            map_dims['left'] = min(map_dims['left'], int(x))\n",
    "            \n",
    "            # Convert line points to tuple of integers\n",
    "            line[i] = (int(x), int(y))\n",
    "\n",
    "    return rock_lines, map_dims"
   ]
  },
  {
   "cell_type": "code",
   "execution_count": 2,
   "metadata": {},
   "outputs": [
    {
     "name": "stdout",
     "output_type": "stream",
     "text": [
      "[[(498, 4), (498, 6), (496, 6)], [(503, 4), (502, 4), (502, 9), (494, 9)]]\n",
      "{'top': 0, 'right': 503, 'bottom': 9, 'left': 494}\n"
     ]
    }
   ],
   "source": [
    "test_rock_lines, test_map_dims = get_data('test_cave_scan')\n",
    "print(test_rock_lines)\n",
    "print(test_map_dims)"
   ]
  },
  {
   "cell_type": "markdown",
   "metadata": {},
   "source": [
    "## Part 1\n",
    "---"
   ]
  },
  {
   "cell_type": "code",
   "execution_count": 3,
   "metadata": {},
   "outputs": [],
   "source": [
    "import numpy as np"
   ]
  },
  {
   "cell_type": "code",
   "execution_count": 4,
   "metadata": {},
   "outputs": [],
   "source": [
    "def make_cave_map(rock_lines):\n",
    "    \"\"\"Make a map of the cave, based on the rock lines data.\n",
    "\n",
    "    Parameters\n",
    "    ----------\n",
    "    rock_lines : list of list of tuples\n",
    "        Each element is a line from the file, containing a list of tuples; \n",
    "        each tuple is a point on a line segment\n",
    "\n",
    "    Returns\n",
    "    -------\n",
    "    cave_map: np.ndarray\n",
    "        All zeros where there is air, and 1s where there are rocks\n",
    "    \"\"\"\n",
    "\n",
    "    # Make an arbitarily large map...\n",
    "    cave_map = np.zeros((1000, 1000), dtype=np.int8)\n",
    "\n",
    "    for line in rock_lines:\n",
    "        for i in range(1, len(line)):\n",
    "            x1, y1 = line[i-1][0], line[i-1][1]\n",
    "            x2, y2 = line[i][0], line[i][1]\n",
    "\n",
    "            for x in range(min(x1, x2), max(x1, x2) + 1):\n",
    "                for y in range(min(y1, y2), max(y1, y2) + 1):\n",
    "                    # map coordinates are (x, y), but numpy arrays are (row, col),\n",
    "                    # so need to reverse x, y\n",
    "                    cave_map[y, x] = 1\n",
    "\n",
    "    return cave_map"
   ]
  },
  {
   "cell_type": "code",
   "execution_count": 5,
   "metadata": {},
   "outputs": [
    {
     "data": {
      "text/plain": [
       "array([[0, 0, 0, 0, 0, 0, 0, 0, 0, 0],\n",
       "       [0, 0, 0, 0, 0, 0, 0, 0, 0, 0],\n",
       "       [0, 0, 0, 0, 0, 0, 0, 0, 0, 0],\n",
       "       [0, 0, 0, 0, 0, 0, 0, 0, 0, 0],\n",
       "       [0, 0, 0, 0, 1, 0, 0, 0, 1, 1],\n",
       "       [0, 0, 0, 0, 1, 0, 0, 0, 1, 0],\n",
       "       [0, 0, 1, 1, 1, 0, 0, 0, 1, 0],\n",
       "       [0, 0, 0, 0, 0, 0, 0, 0, 1, 0],\n",
       "       [0, 0, 0, 0, 0, 0, 0, 0, 1, 0],\n",
       "       [1, 1, 1, 1, 1, 1, 1, 1, 1, 0]], dtype=int8)"
      ]
     },
     "execution_count": 5,
     "metadata": {},
     "output_type": "execute_result"
    }
   ],
   "source": [
    "test_rock_lines, test_map_dims = get_data('test_cave_scan')\n",
    "test_cave_map = make_cave_map(test_rock_lines)\n",
    "test_cave_map[0:10, 494:504]"
   ]
  },
  {
   "cell_type": "code",
   "execution_count": 6,
   "metadata": {},
   "outputs": [],
   "source": [
    "possible_moves = {'down' : (1, 0), 'down_left' : (1, -1), 'down_right' : (1, 1)}"
   ]
  },
  {
   "cell_type": "code",
   "execution_count": 7,
   "metadata": {},
   "outputs": [],
   "source": [
    "def check_not_blocked(cave_map, curr_pos, possible_moves):\n",
    "    \"\"\"Check that the positions below the current position are not blocked.\n",
    "\n",
    "    Parameters\n",
    "    ----------\n",
    "    cave_map : np.ndarray\n",
    "        Arbitrarily large map of the cave --> 1 = rock, 0 = air\n",
    "    curr_pos : tuple\n",
    "        Current position in the cave\n",
    "    possible_moves : dict\n",
    "        Contains tuples for three downward moves from current position\n",
    "\n",
    "    Returns\n",
    "    -------\n",
    "    not_blocked : dict\n",
    "        Three keys: 'down', 'down_left', and 'down_right' with boolean values for whether the cell\n",
    "        in those positions relative to the current position in the cave is blocked by either rock (1s)\n",
    "        or sand (8s)\n",
    "    \"\"\"\n",
    "\n",
    "    not_blocked = {}\n",
    "\n",
    "    # Need to \"not\" the boolean value, because blocked means there's a value of 1 in the cell,\n",
    "    # which is truthy\n",
    "    not_blocked['down'] = not bool(cave_map[tuple(map(sum, zip(curr_pos, possible_moves['down'])))])\n",
    "    not_blocked['down_left'] = not bool(cave_map[tuple(map(sum, zip(curr_pos, possible_moves['down_left'])))])\n",
    "    not_blocked['down_right'] = not bool(cave_map[tuple(map(sum, zip(curr_pos, possible_moves['down_right'])))])\n",
    "\n",
    "    return not_blocked"
   ]
  },
  {
   "cell_type": "code",
   "execution_count": 8,
   "metadata": {},
   "outputs": [],
   "source": [
    "def off_the_map(map_dims, curr_pos):\n",
    "    \"\"\"_summary_\n",
    "\n",
    "    Parameters\n",
    "    ----------\n",
    "    map_dims : dict\n",
    "        Dimensions of the cave map\n",
    "    curr_pos : tuple\n",
    "        Current position in the cave\n",
    "\n",
    "    Returns\n",
    "    -------\n",
    "    Bool\n",
    "        True of off the map, False otherwise\n",
    "    \"\"\"\n",
    "    \n",
    "    if (curr_pos[0] > map_dims['bottom'] or \n",
    "        curr_pos[1] < map_dims['left'] or \n",
    "        curr_pos[1] > map_dims['right']):\n",
    "        return True\n",
    "    else:\n",
    "        return False"
   ]
  },
  {
   "cell_type": "code",
   "execution_count": 9,
   "metadata": {},
   "outputs": [],
   "source": [
    "def settle(cave_map, map_dims, possible_moves):\n",
    "    \"\"\"Move sand through the cave until it settles.\n",
    "\n",
    "    Parameters\n",
    "    ----------\n",
    "    cave_map : np.ndarray\n",
    "        Arbitrarily large map of the cave -> 1s = rock, 0s = air, 8s = sand\n",
    "    map_dims : dict\n",
    "        Contains edge values of the cave map dimensions\n",
    "    possible_moves : dict\n",
    "        Contains tuples for three downward moves from current position\n",
    "\n",
    "    Returns\n",
    "    -------\n",
    "    cave_map : np.ndarray\n",
    "        Updated cave map with sand in new location\n",
    "    next_pos : tuple or None\n",
    "        Position of last location sand settled; None when sand starts falling off side of the map\n",
    "    \"\"\"\n",
    "\n",
    "    SOURCE = (0, 500)\n",
    "    next_pos = SOURCE\n",
    "\n",
    "    while True:\n",
    "        not_blocked = check_not_blocked(cave_map, next_pos, possible_moves)\n",
    "\n",
    "        if not_blocked['down']:\n",
    "            next_pos = tuple(map(sum, zip(next_pos, possible_moves['down'])))\n",
    "        elif not_blocked['down_left']:\n",
    "            next_pos = tuple(map(sum, zip(next_pos, possible_moves['down_left'])))\n",
    "        elif not_blocked['down_right']:\n",
    "            next_pos = tuple(map(sum, zip(next_pos, possible_moves['down_right'])))\n",
    "        else:\n",
    "            cave_map[next_pos] = 8  # Arbitrary postitive value for debugging...\n",
    "            break\n",
    "\n",
    "        # Off the map...\n",
    "        if off_the_map(map_dims, next_pos):\n",
    "            next_pos = None\n",
    "            break\n",
    "\n",
    "    return cave_map, next_pos"
   ]
  },
  {
   "cell_type": "code",
   "execution_count": 10,
   "metadata": {},
   "outputs": [],
   "source": [
    "def solve(filename):\n",
    "    \"\"\"Solve part 1.\n",
    "\n",
    "    Count how many units of sand fall before sand starts falling off the edge of the map.\n",
    "\n",
    "    Parameters\n",
    "    ----------\n",
    "    filename : str\n",
    "        Name of file containing input data of rock lines data\n",
    "\n",
    "    Returns\n",
    "    -------\n",
    "    num_sand_units\n",
    "        Count of number of units of sand released before they fall off the edge of the map\n",
    "    \"\"\"\n",
    "\n",
    "    rock_lines, map_dims = get_data(filename)\n",
    "    cave_map = make_cave_map(rock_lines)\n",
    "\n",
    "    num_sand_units = 0\n",
    "\n",
    "    while True:\n",
    "        new_cave_map, last_pos = settle(cave_map, map_dims, possible_moves)\n",
    "        if last_pos == None:\n",
    "            return num_sand_units\n",
    "        num_sand_units += 1"
   ]
  },
  {
   "cell_type": "markdown",
   "metadata": {},
   "source": [
    "### Run on Test Data"
   ]
  },
  {
   "cell_type": "code",
   "execution_count": 11,
   "metadata": {},
   "outputs": [
    {
     "data": {
      "text/plain": [
       "True"
      ]
     },
     "execution_count": 11,
     "metadata": {},
     "output_type": "execute_result"
    }
   ],
   "source": [
    "solve('test_cave_scan') == 24"
   ]
  },
  {
   "cell_type": "markdown",
   "metadata": {},
   "source": [
    "### Run on Input Data"
   ]
  },
  {
   "cell_type": "code",
   "execution_count": 12,
   "metadata": {},
   "outputs": [
    {
     "data": {
      "text/plain": [
       "768"
      ]
     },
     "execution_count": 12,
     "metadata": {},
     "output_type": "execute_result"
    }
   ],
   "source": [
    "solve('cave_scan')"
   ]
  },
  {
   "cell_type": "markdown",
   "metadata": {},
   "source": [
    "## Part 2\n",
    "---"
   ]
  },
  {
   "cell_type": "code",
   "execution_count": 13,
   "metadata": {},
   "outputs": [],
   "source": [
    "def add_floor(cave_map, map_dims):\n",
    "    \"\"\"Add a floor to the cave map.\n",
    "    The floor is at 2 units \"above\" the max value for the \"bottom\"\n",
    "\n",
    "    Parameters\n",
    "    ----------\n",
    "    cave_map : np.ndarray\n",
    "        Arbitrarily large map of the cave\n",
    "    map_dims : dict\n",
    "        Contains edge values of the cave map dimensions\n",
    "\n",
    "    Returns\n",
    "    -------\n",
    "    cave_map : np.ndarray\n",
    "        An updated cave map\n",
    "    \"\"\"\n",
    "\n",
    "    _floor = map_dims['bottom'] + 2\n",
    "    cave_map[_floor, :] = 1\n",
    "\n",
    "    return cave_map"
   ]
  },
  {
   "cell_type": "code",
   "execution_count": 14,
   "metadata": {},
   "outputs": [],
   "source": [
    "def settle2(cave_map, map_dims, possible_moves):\n",
    "    \"\"\"Move sand through the cave until it settles.\n",
    "\n",
    "    Parameters\n",
    "    ----------\n",
    "    cave_map : np.ndarray\n",
    "        Arbitrarily large map of the cave -> 1s = rock, 0s = air, 8s = sand\n",
    "    map_dims : dict\n",
    "        Contains edge values of the cave map dimensions\n",
    "    possible_moves : dict\n",
    "        Contains tuples for three downward moves from current position\n",
    "\n",
    "    Returns\n",
    "    -------\n",
    "    cave_map : np.ndarray\n",
    "        Updated cave map with sand in new location\n",
    "    next_pos : tuple or None\n",
    "        Position of last location sand settled; None when sand starts falling off side of the map\n",
    "    \"\"\"\n",
    "\n",
    "    SOURCE = (0, 500)\n",
    "    next_pos = SOURCE\n",
    "\n",
    "    while True:\n",
    "        not_blocked = check_not_blocked(cave_map, next_pos, possible_moves)\n",
    "\n",
    "        if not_blocked['down']:\n",
    "            next_pos = tuple(map(sum, zip(next_pos, possible_moves['down'])))\n",
    "        elif not_blocked['down_left']:\n",
    "            next_pos = tuple(map(sum, zip(next_pos, possible_moves['down_left'])))\n",
    "        elif not_blocked['down_right']:\n",
    "            next_pos = tuple(map(sum, zip(next_pos, possible_moves['down_right'])))\n",
    "        else:\n",
    "            cave_map[next_pos] = 8\n",
    "            break\n",
    "\n",
    "    return cave_map, next_pos"
   ]
  },
  {
   "cell_type": "code",
   "execution_count": 15,
   "metadata": {},
   "outputs": [],
   "source": [
    "def solve2(filename):\n",
    "    \"\"\"Solve part 2.\n",
    "\n",
    "    Count how many units of sand fall before the last unit of sand is at position (0, 500).\n",
    "\n",
    "    Parameters\n",
    "    ----------\n",
    "    filename : str\n",
    "        Name of file containing input data of rock lines data\n",
    "\n",
    "    Returns\n",
    "    -------\n",
    "    num_sand_units\n",
    "        Count of number of units of sand released\n",
    "    \"\"\"\n",
    "\n",
    "    rock_lines, map_dims = get_data(filename)\n",
    "    cave_map = make_cave_map(rock_lines)\n",
    "\n",
    "    cave_map = add_floor(cave_map, map_dims)\n",
    "    # print(cave_map[0:13, 494:504])\n",
    "\n",
    "    num_sand_units = 0\n",
    "\n",
    "    while True:\n",
    "        new_cave_map, last_pos = settle2(cave_map, map_dims, possible_moves)\n",
    "        if last_pos == (0, 500):\n",
    "            return num_sand_units + 1\n",
    "        num_sand_units += 1"
   ]
  },
  {
   "cell_type": "markdown",
   "metadata": {},
   "source": [
    "### Run on Test Data"
   ]
  },
  {
   "cell_type": "code",
   "execution_count": 16,
   "metadata": {},
   "outputs": [
    {
     "data": {
      "text/plain": [
       "True"
      ]
     },
     "execution_count": 16,
     "metadata": {},
     "output_type": "execute_result"
    }
   ],
   "source": [
    "solve2('test_cave_scan') == 93"
   ]
  },
  {
   "cell_type": "markdown",
   "metadata": {},
   "source": [
    "### Run on Input Data"
   ]
  },
  {
   "cell_type": "code",
   "execution_count": 17,
   "metadata": {},
   "outputs": [
    {
     "data": {
      "text/plain": [
       "26686"
      ]
     },
     "execution_count": 17,
     "metadata": {},
     "output_type": "execute_result"
    }
   ],
   "source": [
    "solve2('cave_scan')"
   ]
  }
 ],
 "metadata": {
  "kernelspec": {
   "display_name": "Python 3.8.8 ('base')",
   "language": "python",
   "name": "python3"
  },
  "language_info": {
   "codemirror_mode": {
    "name": "ipython",
    "version": 3
   },
   "file_extension": ".py",
   "mimetype": "text/x-python",
   "name": "python",
   "nbconvert_exporter": "python",
   "pygments_lexer": "ipython3",
   "version": "3.8.8"
  },
  "vscode": {
   "interpreter": {
    "hash": "f49206fcf84a9145e7e21228cbafa911d1ac18292303b01e865d8267a9c448f7"
   }
  }
 },
 "nbformat": 4,
 "nbformat_minor": 4
}
