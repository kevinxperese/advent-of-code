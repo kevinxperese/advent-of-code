{
 "cells": [
  {
   "cell_type": "markdown",
   "metadata": {},
   "source": [
    "# --- Day 16: Proboscidea Volcanium ---\n",
    "\n",
    "https://adventofcode.com/2022/day/16"
   ]
  },
  {
   "cell_type": "markdown",
   "metadata": {},
   "source": [
    "## Get Input Data"
   ]
  },
  {
   "cell_type": "code",
   "execution_count": 29,
   "metadata": {},
   "outputs": [],
   "source": [
    "import re\n",
    "\n",
    "def get_data(filename):\n",
    "    \"\"\"Get input data for puzzle.\n",
    "    \n",
    "    Parameters\n",
    "    ----------\n",
    "    filename : str\n",
    "        The name of the *.txt file in the inputs/ directory.\n",
    "    \n",
    "    Returns\n",
    "    -------\n",
    "    tuple(dict, dict)\n",
    "        graph : dict\n",
    "        flow_rates : dict\n",
    "    \"\"\"\n",
    "    graph = {}\n",
    "    flow_rates = {}\n",
    "\n",
    "    re_str = r\"Valve ([A-Z]{2}) .+=(\\d+); .+ valves? (.+)\"\n",
    "    file_str = open(f\"../inputs/{filename}.txt\").read()\n",
    "\n",
    "    for node, flow_rate, neighbors in re.findall(re_str, file_str):\n",
    "        graph[node] = {}\n",
    "        for neighbor in neighbors.split(\", \"):\n",
    "            graph[node][neighbor] = 1\n",
    "                \n",
    "        flow_rates[node] = int(flow_rate)\n",
    "\n",
    "    return graph, flow_rates"
   ]
  },
  {
   "cell_type": "code",
   "execution_count": 43,
   "metadata": {},
   "outputs": [
    {
     "data": {
      "text/plain": [
       "{'AA': {'DD': 1, 'II': 1, 'BB': 1},\n",
       " 'BB': {'CC': 1, 'AA': 1},\n",
       " 'CC': {'DD': 1, 'BB': 1},\n",
       " 'DD': {'CC': 1, 'AA': 1, 'EE': 1},\n",
       " 'EE': {'FF': 1, 'DD': 1},\n",
       " 'FF': {'EE': 1, 'GG': 1},\n",
       " 'GG': {'FF': 1, 'HH': 1},\n",
       " 'HH': {'GG': 1},\n",
       " 'II': {'AA': 1, 'JJ': 1},\n",
       " 'JJ': {'II': 1}}"
      ]
     },
     "execution_count": 43,
     "metadata": {},
     "output_type": "execute_result"
    }
   ],
   "source": [
    "test_valves_graph, test_flow_rates = get_data(\"test_valves\")\n",
    "test_valves_graph"
   ]
  },
  {
   "cell_type": "code",
   "execution_count": 44,
   "metadata": {},
   "outputs": [
    {
     "data": {
      "text/plain": [
       "{'AA': 0,\n",
       " 'BB': 13,\n",
       " 'CC': 2,\n",
       " 'DD': 20,\n",
       " 'EE': 3,\n",
       " 'FF': 0,\n",
       " 'GG': 0,\n",
       " 'HH': 22,\n",
       " 'II': 0,\n",
       " 'JJ': 21}"
      ]
     },
     "execution_count": 44,
     "metadata": {},
     "output_type": "execute_result"
    }
   ],
   "source": [
    "test_flow_rates"
   ]
  },
  {
   "cell_type": "code",
   "execution_count": 45,
   "metadata": {},
   "outputs": [],
   "source": [
    "valves_graph, flow_rates = get_data(\"valves\")"
   ]
  },
  {
   "cell_type": "code",
   "execution_count": 46,
   "metadata": {},
   "outputs": [
    {
     "data": {
      "text/plain": [
       "{'XB': 0,\n",
       " 'BM': 0,\n",
       " 'GC': 0,\n",
       " 'RM': 0,\n",
       " 'ZM': 5,\n",
       " 'UH': 0,\n",
       " 'GW': 0,\n",
       " 'HN': 19,\n",
       " 'VT': 0,\n",
       " 'VI': 0,\n",
       " 'YL': 12,\n",
       " 'LA': 0,\n",
       " 'CM': 0,\n",
       " 'JI': 24,\n",
       " 'ZD': 25,\n",
       " 'VB': 0,\n",
       " 'FO': 0,\n",
       " 'JS': 0,\n",
       " 'RI': 0,\n",
       " 'XD': 14,\n",
       " 'ES': 11,\n",
       " 'WZ': 0,\n",
       " 'HW': 0,\n",
       " 'KE': 0,\n",
       " 'IY': 22,\n",
       " 'XW': 0,\n",
       " 'BE': 0,\n",
       " 'QY': 23,\n",
       " 'MH': 0,\n",
       " 'IT': 0,\n",
       " 'DA': 0,\n",
       " 'PM': 0,\n",
       " 'WU': 0,\n",
       " 'UL': 0,\n",
       " 'SM': 13,\n",
       " 'XC': 0,\n",
       " 'OJ': 0,\n",
       " 'SN': 0,\n",
       " 'WH': 0,\n",
       " 'UW': 0,\n",
       " 'HM': 0,\n",
       " 'AB': 0,\n",
       " 'QR': 8,\n",
       " 'UV': 0,\n",
       " 'ZQ': 20,\n",
       " 'ZJ': 0,\n",
       " 'GL': 0,\n",
       " 'CP': 0,\n",
       " 'AM': 0,\n",
       " 'PL': 17,\n",
       " 'YE': 0,\n",
       " 'PE': 4,\n",
       " 'MY': 0,\n",
       " 'QX': 0,\n",
       " 'GI': 0,\n",
       " 'WW': 0,\n",
       " 'FF': 0,\n",
       " 'LE': 6,\n",
       " 'GU': 0,\n",
       " 'AA': 0}"
      ]
     },
     "execution_count": 46,
     "metadata": {},
     "output_type": "execute_result"
    }
   ],
   "source": [
    "flow_rates"
   ]
  },
  {
   "cell_type": "code",
   "execution_count": 47,
   "metadata": {},
   "outputs": [
    {
     "data": {
      "text/plain": [
       "15"
      ]
     },
     "execution_count": 47,
     "metadata": {},
     "output_type": "execute_result"
    }
   ],
   "source": [
    "len([x for x in flow_rates.values() if int(x) > 0])"
   ]
  },
  {
   "cell_type": "markdown",
   "metadata": {},
   "source": [
    "## Part 1\n",
    "---"
   ]
  },
  {
   "cell_type": "code",
   "execution_count": 48,
   "metadata": {},
   "outputs": [],
   "source": [
    "from collections import defaultdict\n",
    "from itertools import product\n",
    "\n",
    "def fw(graph):\n",
    "    \"\"\"Find the shortest path between all node pairs in a graph using the \n",
    "    Floyd-Warshall algorithm.\n",
    "\n",
    "    Parameters\n",
    "    ----------\n",
    "    graph : dict of dicts\n",
    "        Each key in outer dict is a node, and each value is another dict. Within\n",
    "        the inner dict, each key is an adjacent/neighbor node to the outer dict\n",
    "        key, and each value is the edge weight.\n",
    "\n",
    "    Returns\n",
    "    -------\n",
    "    dist : dict\n",
    "        Keys are (i, j) tuples, for all pairs of nodes i and j, and values are\n",
    "        the shortest weighted distance between node i and node j in the graph.\n",
    "    \"\"\"\n",
    "    # Create an empty default dictionary, with default values set at infinity.\n",
    "    # Note that instead of an n x n matrix being returned, as is typical for \n",
    "    # most implementations of Floyd-Warshall, this will return a dictionary,\n",
    "    # where the keys are an (i, j) tuple and the values are the min distance\n",
    "    # between nodes i and j.\n",
    "    dist = defaultdict(lambda: float(\"inf\"))\n",
    "\n",
    "    # Initialize the dist[(i, j)] values, where possible:\n",
    "    # Diagonals will be set to 0s and direct neighbors will be given their\n",
    "    # edge weights.\n",
    "    for node, neighbors in graph.items():\n",
    "        dist[(node, node)] = 0\n",
    "        for neighbor, edge_weight in neighbors.items():\n",
    "            dist[(node, neighbor)] = edge_weight\n",
    "            dist[(neighbor, node)] = edge_weight\n",
    "\n",
    "    # Update initialized distances\n",
    "    # (use itertools.product for a aore efficient way to do for k: for i: for j:)\n",
    "    for k, i, j in product(graph.keys(), repeat=3):\n",
    "        dist[(i, j)] = min(dist[(i, j)], dist[(i, k)] + dist[(k, j)])\n",
    "\n",
    "    return dict(dist)"
   ]
  },
  {
   "cell_type": "code",
   "execution_count": 49,
   "metadata": {},
   "outputs": [
    {
     "data": {
      "text/plain": [
       "{('AA', 'AA'): 0,\n",
       " ('AA', 'DD'): 1,\n",
       " ('DD', 'AA'): 1,\n",
       " ('AA', 'II'): 1,\n",
       " ('II', 'AA'): 1,\n",
       " ('AA', 'BB'): 1,\n",
       " ('BB', 'AA'): 1,\n",
       " ('BB', 'BB'): 0,\n",
       " ('BB', 'CC'): 1,\n",
       " ('CC', 'BB'): 1,\n",
       " ('CC', 'CC'): 0,\n",
       " ('CC', 'DD'): 1,\n",
       " ('DD', 'CC'): 1,\n",
       " ('DD', 'DD'): 0,\n",
       " ('DD', 'EE'): 1,\n",
       " ('EE', 'DD'): 1,\n",
       " ('EE', 'EE'): 0,\n",
       " ('EE', 'FF'): 1,\n",
       " ('FF', 'EE'): 1,\n",
       " ('FF', 'FF'): 0,\n",
       " ('FF', 'GG'): 1,\n",
       " ('GG', 'FF'): 1,\n",
       " ('GG', 'GG'): 0,\n",
       " ('GG', 'HH'): 1,\n",
       " ('HH', 'GG'): 1,\n",
       " ('HH', 'HH'): 0,\n",
       " ('II', 'II'): 0,\n",
       " ('II', 'JJ'): 1,\n",
       " ('JJ', 'II'): 1,\n",
       " ('JJ', 'JJ'): 0,\n",
       " ('AA', 'CC'): 2,\n",
       " ('AA', 'EE'): 2,\n",
       " ('AA', 'FF'): 3,\n",
       " ('AA', 'GG'): 4,\n",
       " ('AA', 'HH'): 5,\n",
       " ('AA', 'JJ'): 2,\n",
       " ('BB', 'DD'): 2,\n",
       " ('BB', 'EE'): 3,\n",
       " ('BB', 'FF'): 4,\n",
       " ('BB', 'GG'): 5,\n",
       " ('BB', 'HH'): 6,\n",
       " ('BB', 'II'): 2,\n",
       " ('BB', 'JJ'): 3,\n",
       " ('CC', 'AA'): 2,\n",
       " ('CC', 'EE'): 2,\n",
       " ('CC', 'FF'): 3,\n",
       " ('CC', 'GG'): 4,\n",
       " ('CC', 'HH'): 5,\n",
       " ('CC', 'II'): 3,\n",
       " ('CC', 'JJ'): 4,\n",
       " ('DD', 'BB'): 2,\n",
       " ('DD', 'FF'): 2,\n",
       " ('DD', 'GG'): 3,\n",
       " ('DD', 'HH'): 4,\n",
       " ('DD', 'II'): 2,\n",
       " ('DD', 'JJ'): 3,\n",
       " ('EE', 'AA'): 2,\n",
       " ('EE', 'BB'): 3,\n",
       " ('EE', 'CC'): 2,\n",
       " ('EE', 'GG'): 2,\n",
       " ('EE', 'HH'): 3,\n",
       " ('EE', 'II'): 3,\n",
       " ('EE', 'JJ'): 4,\n",
       " ('FF', 'AA'): 3,\n",
       " ('FF', 'BB'): 4,\n",
       " ('FF', 'CC'): 3,\n",
       " ('FF', 'DD'): 2,\n",
       " ('FF', 'HH'): 2,\n",
       " ('FF', 'II'): 4,\n",
       " ('FF', 'JJ'): 5,\n",
       " ('GG', 'AA'): 4,\n",
       " ('GG', 'BB'): 5,\n",
       " ('GG', 'CC'): 4,\n",
       " ('GG', 'DD'): 3,\n",
       " ('GG', 'EE'): 2,\n",
       " ('GG', 'II'): 5,\n",
       " ('GG', 'JJ'): 6,\n",
       " ('HH', 'AA'): 5,\n",
       " ('HH', 'BB'): 6,\n",
       " ('HH', 'CC'): 5,\n",
       " ('HH', 'DD'): 4,\n",
       " ('HH', 'EE'): 3,\n",
       " ('HH', 'FF'): 2,\n",
       " ('HH', 'II'): 6,\n",
       " ('HH', 'JJ'): 7,\n",
       " ('II', 'BB'): 2,\n",
       " ('II', 'CC'): 3,\n",
       " ('II', 'DD'): 2,\n",
       " ('II', 'EE'): 3,\n",
       " ('II', 'FF'): 4,\n",
       " ('II', 'GG'): 5,\n",
       " ('II', 'HH'): 6,\n",
       " ('JJ', 'AA'): 2,\n",
       " ('JJ', 'BB'): 3,\n",
       " ('JJ', 'CC'): 4,\n",
       " ('JJ', 'DD'): 3,\n",
       " ('JJ', 'EE'): 4,\n",
       " ('JJ', 'FF'): 5,\n",
       " ('JJ', 'GG'): 6,\n",
       " ('JJ', 'HH'): 7}"
      ]
     },
     "execution_count": 49,
     "metadata": {},
     "output_type": "execute_result"
    }
   ],
   "source": [
    "fw(test_valves_graph)"
   ]
  },
  {
   "cell_type": "code",
   "execution_count": 5,
   "metadata": {},
   "outputs": [],
   "source": [
    "import numpy as np  # import this to access np.argmax() instead"
   ]
  },
  {
   "cell_type": "code",
   "execution_count": 75,
   "metadata": {},
   "outputs": [],
   "source": [
    "def max_cum_pressure_release(valve_graph, flow_rates, mins_left=30, start_valve=\"AA\"):\n",
    "    flow_rates = flow_rates.copy()\n",
    "    cum_pressure_released = 0\n",
    "    valve = start_valve\n",
    "\n",
    "    while mins_left > 0:\n",
    "        print(f\"== Minutes left {mins_left} ==\")\n",
    "        shortest_paths = dijkstra(valve_graph, valve)\n",
    "        open_valves = [k for k in flow_rates if flow_rates[k] > 0]\n",
    "\n",
    "        if len(open_valves) > 0:\n",
    "            net_benefits = []\n",
    "\n",
    "            for open_valve in open_valves:\n",
    "                cost = shortest_paths[open_valve] + 1\n",
    "                benefit = (mins_left - cost) * flow_rates[open_valve]\n",
    "                net_benefits.append(benefit - cost)\n",
    "\n",
    "                print(valve, open_valve, cost, benefit, benefit-cost)\n",
    "\n",
    "            next_valve = open_valves[np.argmax(net_benefits)]\n",
    "\n",
    "            valve = next_valve\n",
    "            cost = shortest_paths[next_valve]\n",
    "\n",
    "            cum_pressure_released += (mins_left - cost - 1) * flow_rates[next_valve]\n",
    "            flow_rates[next_valve] = 0\n",
    "            mins_left -= cost\n",
    "\n",
    "        else:\n",
    "            # Just chill -- all the valves are already open\n",
    "            mins_left -= 1\n",
    "\n",
    "        print(f\"Current valve: {valve}\")\n",
    "        print(f\"Cumulative pressure released: {cum_pressure_released}\")\n",
    "\n",
    "    return cum_pressure_released"
   ]
  },
  {
   "cell_type": "markdown",
   "metadata": {},
   "source": [
    "### Run on Test Data"
   ]
  },
  {
   "cell_type": "code",
   "execution_count": 76,
   "metadata": {},
   "outputs": [
    {
     "name": "stdout",
     "output_type": "stream",
     "text": [
      "== Minutes left 30 ==\n",
      "AA BB 2 364 362\n",
      "AA CC 3 54 51\n",
      "AA DD 2 560 558\n",
      "AA EE 3 81 78\n",
      "AA HH 6 528 522\n",
      "AA JJ 3 567 564\n",
      "Current valve: JJ\n",
      "Cumulative pressure released: 567\n",
      "== Minutes left 28 ==\n",
      "JJ BB 4 312 308\n",
      "JJ CC 5 46 41\n",
      "JJ DD 4 480 476\n",
      "JJ EE 5 69 64\n",
      "JJ HH 8 440 432\n",
      "Current valve: DD\n",
      "Cumulative pressure released: 1047\n",
      "== Minutes left 25 ==\n",
      "DD BB 3 286 283\n",
      "DD CC 2 46 44\n",
      "DD EE 2 69 67\n",
      "DD HH 5 440 435\n",
      "Current valve: HH\n",
      "Cumulative pressure released: 1487\n",
      "== Minutes left 21 ==\n",
      "HH BB 7 182 175\n",
      "HH CC 6 30 24\n",
      "HH EE 4 51 47\n",
      "Current valve: BB\n",
      "Cumulative pressure released: 1669\n",
      "== Minutes left 15 ==\n",
      "BB CC 2 26 24\n",
      "BB EE 4 33 29\n",
      "Current valve: EE\n",
      "Cumulative pressure released: 1702\n",
      "== Minutes left 12 ==\n",
      "EE CC 3 18 15\n",
      "Current valve: CC\n",
      "Cumulative pressure released: 1720\n",
      "== Minutes left 10 ==\n",
      "Current valve: CC\n",
      "Cumulative pressure released: 1720\n",
      "== Minutes left 9 ==\n",
      "Current valve: CC\n",
      "Cumulative pressure released: 1720\n",
      "== Minutes left 8 ==\n",
      "Current valve: CC\n",
      "Cumulative pressure released: 1720\n",
      "== Minutes left 7 ==\n",
      "Current valve: CC\n",
      "Cumulative pressure released: 1720\n",
      "== Minutes left 6 ==\n",
      "Current valve: CC\n",
      "Cumulative pressure released: 1720\n",
      "== Minutes left 5 ==\n",
      "Current valve: CC\n",
      "Cumulative pressure released: 1720\n",
      "== Minutes left 4 ==\n",
      "Current valve: CC\n",
      "Cumulative pressure released: 1720\n",
      "== Minutes left 3 ==\n",
      "Current valve: CC\n",
      "Cumulative pressure released: 1720\n",
      "== Minutes left 2 ==\n",
      "Current valve: CC\n",
      "Cumulative pressure released: 1720\n",
      "== Minutes left 1 ==\n",
      "Current valve: CC\n",
      "Cumulative pressure released: 1720\n"
     ]
    },
    {
     "data": {
      "text/plain": [
       "1720"
      ]
     },
     "execution_count": 76,
     "metadata": {},
     "output_type": "execute_result"
    }
   ],
   "source": [
    "max_cum_pressure_release(test_valves_graph, test_flow_rates) # == 1651"
   ]
  },
  {
   "cell_type": "markdown",
   "metadata": {},
   "source": [
    "### Run on Input Data"
   ]
  },
  {
   "cell_type": "code",
   "execution_count": null,
   "metadata": {},
   "outputs": [],
   "source": []
  },
  {
   "cell_type": "markdown",
   "metadata": {},
   "source": [
    "## Part 2\n",
    "---"
   ]
  },
  {
   "cell_type": "code",
   "execution_count": null,
   "metadata": {},
   "outputs": [],
   "source": []
  },
  {
   "cell_type": "markdown",
   "metadata": {},
   "source": [
    "### Run on Test Data"
   ]
  },
  {
   "cell_type": "code",
   "execution_count": null,
   "metadata": {},
   "outputs": [],
   "source": []
  },
  {
   "cell_type": "markdown",
   "metadata": {},
   "source": [
    "### Run on Input Data"
   ]
  },
  {
   "cell_type": "code",
   "execution_count": null,
   "metadata": {},
   "outputs": [],
   "source": []
  }
 ],
 "metadata": {
  "kernelspec": {
   "display_name": "Python 3.8.8 ('base')",
   "language": "python",
   "name": "python3"
  },
  "language_info": {
   "codemirror_mode": {
    "name": "ipython",
    "version": 3
   },
   "file_extension": ".py",
   "mimetype": "text/x-python",
   "name": "python",
   "nbconvert_exporter": "python",
   "pygments_lexer": "ipython3",
   "version": "3.9.7"
  },
  "vscode": {
   "interpreter": {
    "hash": "f49206fcf84a9145e7e21228cbafa911d1ac18292303b01e865d8267a9c448f7"
   }
  }
 },
 "nbformat": 4,
 "nbformat_minor": 4
}
