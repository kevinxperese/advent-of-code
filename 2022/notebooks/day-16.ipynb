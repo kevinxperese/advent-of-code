{
 "cells": [
  {
   "cell_type": "markdown",
   "metadata": {},
   "source": [
    "# --- Day 16: Proboscidea Volcanium ---\n",
    "\n",
    "https://adventofcode.com/2022/day/16"
   ]
  },
  {
   "cell_type": "markdown",
   "metadata": {},
   "source": [
    "## Get Input Data"
   ]
  },
  {
   "cell_type": "code",
   "execution_count": 27,
   "metadata": {},
   "outputs": [
    {
     "ename": "SyntaxError",
     "evalue": "invalid syntax (Temp/ipykernel_11296/641622988.py, line 1)",
     "output_type": "error",
     "traceback": [
      "\u001b[1;36m  File \u001b[1;32m\"C:\\Users\\kevinp\\AppData\\Local\\Temp/ipykernel_11296/641622988.py\"\u001b[1;36m, line \u001b[1;32m1\u001b[0m\n\u001b[1;33m    from .. import utils.dijkstras_algorithm.djikstra as djikstra\u001b[0m\n\u001b[1;37m                        ^\u001b[0m\n\u001b[1;31mSyntaxError\u001b[0m\u001b[1;31m:\u001b[0m invalid syntax\n"
     ]
    }
   ],
   "source": [
    "import utils.dijkstras_algorithm.djikstra as djikstra"
   ]
  },
  {
   "cell_type": "code",
   "execution_count": 18,
   "metadata": {},
   "outputs": [
    {
     "ename": "ModuleNotFoundError",
     "evalue": "No module named 'ipynb'",
     "output_type": "error",
     "traceback": [
      "\u001b[1;31m---------------------------------------------------------------------------\u001b[0m",
      "\u001b[1;31mModuleNotFoundError\u001b[0m                       Traceback (most recent call last)",
      "\u001b[1;32m~\\AppData\\Local\\Temp/ipykernel_11296/1618103238.py\u001b[0m in \u001b[0;36m<module>\u001b[1;34m\u001b[0m\n\u001b[1;32m----> 1\u001b[1;33m \u001b[1;32mfrom\u001b[0m \u001b[0mipynb\u001b[0m\u001b[1;33m.\u001b[0m\u001b[0mfs\u001b[0m\u001b[1;33m.\u001b[0m\u001b[0mdefs\u001b[0m\u001b[1;33m.\u001b[0m\u001b[0mutils\u001b[0m\u001b[1;33m.\u001b[0m\u001b[0mdijkstras_algorithm\u001b[0m \u001b[1;32mimport\u001b[0m \u001b[0mdijkstra\u001b[0m\u001b[1;33m\u001b[0m\u001b[1;33m\u001b[0m\u001b[0m\n\u001b[0m",
      "\u001b[1;31mModuleNotFoundError\u001b[0m: No module named 'ipynb'"
     ]
    }
   ],
   "source": [
    "from ipynb.fs.defs.utils.dijkstras_algorithm import dijkstra"
   ]
  },
  {
   "cell_type": "code",
   "execution_count": 51,
   "metadata": {},
   "outputs": [],
   "source": [
    "def get_data(filename):\n",
    "    \"\"\"Get input data for puzzle.\n",
    "    \n",
    "    Parameters\n",
    "    ----------\n",
    "    filename : str\n",
    "        The name of the *.txt file in the inputs/ directory.\n",
    "    \n",
    "    Returns\n",
    "    -------\n",
    "    graph : dict\n",
    "    \"\"\"\n",
    "    graph = {}\n",
    "    flow_rates = {}\n",
    "    \n",
    "    with open(f'../inputs/{filename}.txt') as _file:\n",
    "        for line in _file:\n",
    "            node = line[6:8]\n",
    "            flow_rate = int(line[line.index(\"=\")+1:line.index(\";\")])\n",
    "\n",
    "            if \",\" in line:\n",
    "                edges = line[line.index(\"valves\")+7:].strip().split(\", \")\n",
    "            else:\n",
    "                edges = line[line.index(\"valve\")+6:].strip().split(\", \")\n",
    "   \n",
    "            neighbors = {}\n",
    "\n",
    "            for edge in edges:\n",
    "                neighbors[edge] = 1\n",
    "\n",
    "            graph[node] = neighbors\n",
    "            flow_rates[node] = flow_rate\n",
    "\n",
    "    return graph, flow_rates"
   ]
  },
  {
   "cell_type": "code",
   "execution_count": 52,
   "metadata": {},
   "outputs": [
    {
     "data": {
      "text/plain": [
       "{'AA': {'DD': 1, 'II': 1, 'BB': 1},\n",
       " 'BB': {'CC': 1, 'AA': 1},\n",
       " 'CC': {'DD': 1, 'BB': 1},\n",
       " 'DD': {'CC': 1, 'AA': 1, 'EE': 1},\n",
       " 'EE': {'FF': 1, 'DD': 1},\n",
       " 'FF': {'EE': 1, 'GG': 1},\n",
       " 'GG': {'FF': 1, 'HH': 1},\n",
       " 'HH': {'GG': 1},\n",
       " 'II': {'AA': 1, 'JJ': 1},\n",
       " 'JJ': {'II': 1}}"
      ]
     },
     "execution_count": 52,
     "metadata": {},
     "output_type": "execute_result"
    }
   ],
   "source": [
    "test_valve_graph, test_flow_rates = get_data(\"test_valves\")\n",
    "test_valve_graph"
   ]
  },
  {
   "cell_type": "code",
   "execution_count": 68,
   "metadata": {},
   "outputs": [
    {
     "data": {
      "text/plain": [
       "{'AA': 0,\n",
       " 'BB': 1,\n",
       " 'CC': 2,\n",
       " 'DD': 1,\n",
       " 'EE': 2,\n",
       " 'FF': 3,\n",
       " 'GG': 4,\n",
       " 'HH': 5,\n",
       " 'II': 1,\n",
       " 'JJ': 2}"
      ]
     },
     "execution_count": 68,
     "metadata": {},
     "output_type": "execute_result"
    }
   ],
   "source": [
    "dijkstra(test_valve_graph, \"AA\")"
   ]
  },
  {
   "cell_type": "code",
   "execution_count": 53,
   "metadata": {},
   "outputs": [
    {
     "data": {
      "text/plain": [
       "{'AA': 0,\n",
       " 'BB': 13,\n",
       " 'CC': 2,\n",
       " 'DD': 20,\n",
       " 'EE': 3,\n",
       " 'FF': 0,\n",
       " 'GG': 0,\n",
       " 'HH': 22,\n",
       " 'II': 0,\n",
       " 'JJ': 21}"
      ]
     },
     "execution_count": 53,
     "metadata": {},
     "output_type": "execute_result"
    }
   ],
   "source": [
    "test_flow_rates"
   ]
  },
  {
   "cell_type": "markdown",
   "metadata": {},
   "source": [
    "## Part 1\n",
    "---"
   ]
  },
  {
   "cell_type": "code",
   "execution_count": 31,
   "metadata": {},
   "outputs": [],
   "source": [
    "import heapq\n",
    "\n",
    "def dijkstra(graph, start):\n",
    "    \"\"\"Calc the shortest distance from start node to every other node in graph.\n",
    "\n",
    "    Parameters\n",
    "    ----------\n",
    "    graph : dict of dicts\n",
    "        Outer dictionary keys are all the nodes in the graph; each value contains\n",
    "        an inner dictionary with the keys for each being the nodes connected to \n",
    "        the outer key node (\"neighbors\") and the values being the edge weights\n",
    "        (\"weight\") between the two nodes\n",
    "    start : str\n",
    "        node in graph to start from\n",
    "\n",
    "    Returns\n",
    "    -------\n",
    "    distances : dict\n",
    "        keys = all the nodes in graph; values = shortest distance based on weighted\n",
    "        edge values between start node and all other nodes in graph\n",
    "    \"\"\"\n",
    "    # Initialize all distances to infinity, except for the start node, \n",
    "    # which is initialized to 0\n",
    "    distances = {node: float('infinity') for node in graph}\n",
    "    distances[start] = 0\n",
    "\n",
    "    # Queue with priority scores (distances)\n",
    "    priority_queue = [(0, start)]\n",
    "\n",
    "    # Loop until priority queue is empty\n",
    "    while priority_queue:\n",
    "        # heapq, below, implements a binary heap, which is a data structure that \n",
    "        # keeps elements in (priority) order, so the .heappop() method is\n",
    "        # always taking off the *lowest* priority element in the queue (instaed)\n",
    "        # of always taking the element based on insert order.\n",
    "        current_distance, current_node = heapq.heappop(priority_queue)\n",
    "\n",
    "        # If current distance is greater than the stored distance, skip\n",
    "        if current_distance > distances[current_node]:\n",
    "            continue\n",
    "\n",
    "        for neighbor, weight in graph[current_node].items():\n",
    "            distance = current_distance + weight\n",
    "\n",
    "            # If a shorter path is found\n",
    "            if distance < distances[neighbor]:\n",
    "                distances[neighbor] = distance\n",
    "                heapq.heappush(priority_queue, (distance, neighbor))\n",
    "\n",
    "    return distances"
   ]
  },
  {
   "cell_type": "code",
   "execution_count": 32,
   "metadata": {},
   "outputs": [
    {
     "data": {
      "text/plain": [
       "{'AA': 0,\n",
       " 'BB': 1,\n",
       " 'CC': 2,\n",
       " 'DD': 1,\n",
       " 'EE': 2,\n",
       " 'FF': 3,\n",
       " 'GG': 4,\n",
       " 'HH': 5,\n",
       " 'II': 1,\n",
       " 'JJ': 2}"
      ]
     },
     "execution_count": 32,
     "metadata": {},
     "output_type": "execute_result"
    }
   ],
   "source": [
    "dijkstra(test_valve_graph, \"AA\")"
   ]
  },
  {
   "cell_type": "code",
   "execution_count": 12,
   "metadata": {},
   "outputs": [
    {
     "data": {
      "text/plain": [
       "1"
      ]
     },
     "execution_count": 12,
     "metadata": {},
     "output_type": "execute_result"
    }
   ],
   "source": [
    "lst = [1, 3, 2]\n",
    "max(range(len(lst)), key=lst.__getitem__)  # I don't like this, 'cause I don't really understand it!"
   ]
  },
  {
   "cell_type": "code",
   "execution_count": 5,
   "metadata": {},
   "outputs": [],
   "source": [
    "import numpy as np  # import this to access np.argmax() instead"
   ]
  },
  {
   "cell_type": "code",
   "execution_count": 75,
   "metadata": {},
   "outputs": [],
   "source": [
    "def max_cum_pressure_release(valve_graph, flow_rates, mins_left=30, start_valve=\"AA\"):\n",
    "    flow_rates = flow_rates.copy()\n",
    "    cum_pressure_released = 0\n",
    "    valve = start_valve\n",
    "\n",
    "    while mins_left > 0:\n",
    "        print(f\"== Minutes left {mins_left} ==\")\n",
    "        shortest_paths = dijkstra(valve_graph, valve)\n",
    "        open_valves = [k for k in flow_rates if flow_rates[k] > 0]\n",
    "\n",
    "        if len(open_valves) > 0:\n",
    "            net_benefits = []\n",
    "\n",
    "            for open_valve in open_valves:\n",
    "                cost = shortest_paths[open_valve] + 1\n",
    "                benefit = (mins_left - cost) * flow_rates[open_valve]\n",
    "                net_benefits.append(benefit - cost)\n",
    "\n",
    "                print(valve, open_valve, cost, benefit, benefit-cost)\n",
    "\n",
    "            next_valve = open_valves[np.argmax(net_benefits)]\n",
    "\n",
    "            valve = next_valve\n",
    "            cost = shortest_paths[next_valve]\n",
    "\n",
    "            cum_pressure_released += (mins_left - cost - 1) * flow_rates[next_valve]\n",
    "            flow_rates[next_valve] = 0\n",
    "            mins_left -= cost\n",
    "\n",
    "        else:\n",
    "            # Just chill -- all the valves are already open\n",
    "            mins_left -= 1\n",
    "\n",
    "        print(f\"Current valve: {valve}\")\n",
    "        print(f\"Cumulative pressure released: {cum_pressure_released}\")\n",
    "\n",
    "    return cum_pressure_released"
   ]
  },
  {
   "cell_type": "markdown",
   "metadata": {},
   "source": [
    "### Run on Test Data"
   ]
  },
  {
   "cell_type": "code",
   "execution_count": 76,
   "metadata": {},
   "outputs": [
    {
     "name": "stdout",
     "output_type": "stream",
     "text": [
      "== Minutes left 30 ==\n",
      "AA BB 2 364 362\n",
      "AA CC 3 54 51\n",
      "AA DD 2 560 558\n",
      "AA EE 3 81 78\n",
      "AA HH 6 528 522\n",
      "AA JJ 3 567 564\n",
      "Current valve: JJ\n",
      "Cumulative pressure released: 567\n",
      "== Minutes left 28 ==\n",
      "JJ BB 4 312 308\n",
      "JJ CC 5 46 41\n",
      "JJ DD 4 480 476\n",
      "JJ EE 5 69 64\n",
      "JJ HH 8 440 432\n",
      "Current valve: DD\n",
      "Cumulative pressure released: 1047\n",
      "== Minutes left 25 ==\n",
      "DD BB 3 286 283\n",
      "DD CC 2 46 44\n",
      "DD EE 2 69 67\n",
      "DD HH 5 440 435\n",
      "Current valve: HH\n",
      "Cumulative pressure released: 1487\n",
      "== Minutes left 21 ==\n",
      "HH BB 7 182 175\n",
      "HH CC 6 30 24\n",
      "HH EE 4 51 47\n",
      "Current valve: BB\n",
      "Cumulative pressure released: 1669\n",
      "== Minutes left 15 ==\n",
      "BB CC 2 26 24\n",
      "BB EE 4 33 29\n",
      "Current valve: EE\n",
      "Cumulative pressure released: 1702\n",
      "== Minutes left 12 ==\n",
      "EE CC 3 18 15\n",
      "Current valve: CC\n",
      "Cumulative pressure released: 1720\n",
      "== Minutes left 10 ==\n",
      "Current valve: CC\n",
      "Cumulative pressure released: 1720\n",
      "== Minutes left 9 ==\n",
      "Current valve: CC\n",
      "Cumulative pressure released: 1720\n",
      "== Minutes left 8 ==\n",
      "Current valve: CC\n",
      "Cumulative pressure released: 1720\n",
      "== Minutes left 7 ==\n",
      "Current valve: CC\n",
      "Cumulative pressure released: 1720\n",
      "== Minutes left 6 ==\n",
      "Current valve: CC\n",
      "Cumulative pressure released: 1720\n",
      "== Minutes left 5 ==\n",
      "Current valve: CC\n",
      "Cumulative pressure released: 1720\n",
      "== Minutes left 4 ==\n",
      "Current valve: CC\n",
      "Cumulative pressure released: 1720\n",
      "== Minutes left 3 ==\n",
      "Current valve: CC\n",
      "Cumulative pressure released: 1720\n",
      "== Minutes left 2 ==\n",
      "Current valve: CC\n",
      "Cumulative pressure released: 1720\n",
      "== Minutes left 1 ==\n",
      "Current valve: CC\n",
      "Cumulative pressure released: 1720\n"
     ]
    },
    {
     "data": {
      "text/plain": [
       "1720"
      ]
     },
     "execution_count": 76,
     "metadata": {},
     "output_type": "execute_result"
    }
   ],
   "source": [
    "max_cum_pressure_release(test_valve_graph, test_flow_rates) # == 1651"
   ]
  },
  {
   "cell_type": "markdown",
   "metadata": {},
   "source": [
    "### Run on Input Data"
   ]
  },
  {
   "cell_type": "code",
   "execution_count": null,
   "metadata": {},
   "outputs": [],
   "source": []
  },
  {
   "cell_type": "markdown",
   "metadata": {},
   "source": [
    "## Part 2\n",
    "---"
   ]
  },
  {
   "cell_type": "code",
   "execution_count": null,
   "metadata": {},
   "outputs": [],
   "source": []
  },
  {
   "cell_type": "markdown",
   "metadata": {},
   "source": [
    "### Run on Test Data"
   ]
  },
  {
   "cell_type": "code",
   "execution_count": null,
   "metadata": {},
   "outputs": [],
   "source": []
  },
  {
   "cell_type": "markdown",
   "metadata": {},
   "source": [
    "### Run on Input Data"
   ]
  },
  {
   "cell_type": "code",
   "execution_count": null,
   "metadata": {},
   "outputs": [],
   "source": []
  }
 ],
 "metadata": {
  "kernelspec": {
   "display_name": "Python 3.8.8 ('base')",
   "language": "python",
   "name": "python3"
  },
  "language_info": {
   "codemirror_mode": {
    "name": "ipython",
    "version": 3
   },
   "file_extension": ".py",
   "mimetype": "text/x-python",
   "name": "python",
   "nbconvert_exporter": "python",
   "pygments_lexer": "ipython3",
   "version": "3.9.7"
  },
  "vscode": {
   "interpreter": {
    "hash": "f49206fcf84a9145e7e21228cbafa911d1ac18292303b01e865d8267a9c448f7"
   }
  }
 },
 "nbformat": 4,
 "nbformat_minor": 4
}
