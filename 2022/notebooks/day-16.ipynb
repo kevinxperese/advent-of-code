{
 "cells": [
  {
   "cell_type": "markdown",
   "metadata": {},
   "source": [
    "# --- Day 16: Proboscidea Volcanium ---\n",
    "\n",
    "https://adventofcode.com/2022/day/16"
   ]
  },
  {
   "cell_type": "markdown",
   "metadata": {},
   "source": [
    "## Get Input Data"
   ]
  },
  {
   "cell_type": "code",
   "execution_count": 1,
   "metadata": {},
   "outputs": [],
   "source": [
    "import re\n",
    "\n",
    "def parse_input(filename):\n",
    "    \"\"\"Parse input data for today's puzzle.\n",
    "    \n",
    "    Parameters\n",
    "    ----------\n",
    "    filename : str\n",
    "        The name of the *.txt file in the inputs/ directory.\n",
    "    \n",
    "    Returns\n",
    "    -------\n",
    "    graph : dict\n",
    "    flow_rates : dict\n",
    "    \"\"\"\n",
    "    graph = {}\n",
    "    flow_rates = {}\n",
    "\n",
    "    pattern = r\"Valve ([A-Z]{2}) .+=(\\d+); .+ valves? (.+)\"\n",
    "    file_str = open(f\"../inputs/{filename}.txt\").read()\n",
    "\n",
    "    for node, flow_rate, neighbors in re.findall(pattern, file_str):\n",
    "        graph[node] = {}\n",
    "        for neighbor in neighbors.split(\", \"):\n",
    "            graph[node][neighbor] = 1\n",
    "                \n",
    "        flow_rates[node] = int(flow_rate)\n",
    "\n",
    "    return graph, flow_rates"
   ]
  },
  {
   "cell_type": "code",
   "execution_count": 2,
   "metadata": {},
   "outputs": [
    {
     "data": {
      "text/plain": [
       "{'AA': {'DD': 1, 'II': 1, 'BB': 1},\n",
       " 'BB': {'CC': 1, 'AA': 1},\n",
       " 'CC': {'DD': 1, 'BB': 1},\n",
       " 'DD': {'CC': 1, 'AA': 1, 'EE': 1},\n",
       " 'EE': {'FF': 1, 'DD': 1},\n",
       " 'FF': {'EE': 1, 'GG': 1},\n",
       " 'GG': {'FF': 1, 'HH': 1},\n",
       " 'HH': {'GG': 1},\n",
       " 'II': {'AA': 1, 'JJ': 1},\n",
       " 'JJ': {'II': 1}}"
      ]
     },
     "execution_count": 2,
     "metadata": {},
     "output_type": "execute_result"
    }
   ],
   "source": [
    "test_valves_graph, test_flow_rates = parse_input(\"test_valves\")\n",
    "test_valves_graph"
   ]
  },
  {
   "cell_type": "code",
   "execution_count": 3,
   "metadata": {},
   "outputs": [
    {
     "data": {
      "text/plain": [
       "{'AA': 0,\n",
       " 'BB': 13,\n",
       " 'CC': 2,\n",
       " 'DD': 20,\n",
       " 'EE': 3,\n",
       " 'FF': 0,\n",
       " 'GG': 0,\n",
       " 'HH': 22,\n",
       " 'II': 0,\n",
       " 'JJ': 21}"
      ]
     },
     "execution_count": 3,
     "metadata": {},
     "output_type": "execute_result"
    }
   ],
   "source": [
    "test_flow_rates"
   ]
  },
  {
   "cell_type": "code",
   "execution_count": null,
   "metadata": {},
   "outputs": [],
   "source": [
    "def solve_part1(filename):\n",
    "    valves_graph, flow_rates = parse_input(filename)\n",
    "\n",
    "    # Only want to consider valves that have positive flow rates\n",
    "    worthwhile_valves = [v for v in flow_rates if flow_rates[v] > 0]\n",
    "\n",
    "    min_dists = fw(valves_graph) # Maybe use BFS for each start/end?\n",
    "\n",
    "    all_paths = find_all_paths()\n",
    "    releases = calc_releases(all_paths)\n",
    "\n",
    "    max_release = max(releases)\n",
    "\n",
    "    return max_release"
   ]
  },
  {
   "cell_type": "code",
   "execution_count": 5,
   "metadata": {},
   "outputs": [],
   "source": [
    "valves_graph, flow_rates = parse_input(\"valves\")"
   ]
  },
  {
   "cell_type": "code",
   "execution_count": 6,
   "metadata": {},
   "outputs": [
    {
     "data": {
      "text/plain": [
       "{'XB': {'WZ': 1, 'LE': 1},\n",
       " 'BM': {'PL': 1, 'RI': 1},\n",
       " 'GC': {'HN': 1, 'IT': 1},\n",
       " 'RM': {'ZQ': 1, 'YL': 1},\n",
       " 'ZM': {'SN': 1, 'KE': 1, 'UW': 1, 'MY': 1, 'GW': 1},\n",
       " 'UH': {'HM': 1, 'HN': 1},\n",
       " 'GW': {'LE': 1, 'ZM': 1},\n",
       " 'HN': {'UW': 1, 'UH': 1, 'GL': 1, 'WZ': 1, 'GC': 1},\n",
       " 'VT': {'ZD': 1, 'PE': 1},\n",
       " 'VI': {'JS': 1, 'AA': 1}}"
      ]
     },
     "execution_count": 6,
     "metadata": {},
     "output_type": "execute_result"
    }
   ],
   "source": [
    "dict(list(valves_graph.items())[:10])"
   ]
  },
  {
   "cell_type": "code",
   "execution_count": 7,
   "metadata": {},
   "outputs": [
    {
     "data": {
      "text/plain": [
       "{'XB': 0,\n",
       " 'BM': 0,\n",
       " 'GC': 0,\n",
       " 'RM': 0,\n",
       " 'ZM': 5,\n",
       " 'UH': 0,\n",
       " 'GW': 0,\n",
       " 'HN': 19,\n",
       " 'VT': 0,\n",
       " 'VI': 0}"
      ]
     },
     "execution_count": 7,
     "metadata": {},
     "output_type": "execute_result"
    }
   ],
   "source": [
    "dict(list(flow_rates.items())[:10])"
   ]
  },
  {
   "cell_type": "code",
   "execution_count": 8,
   "metadata": {},
   "outputs": [
    {
     "data": {
      "text/plain": [
       "['ZM',\n",
       " 'HN',\n",
       " 'YL',\n",
       " 'JI',\n",
       " 'ZD',\n",
       " 'XD',\n",
       " 'ES',\n",
       " 'IY',\n",
       " 'QY',\n",
       " 'SM',\n",
       " 'QR',\n",
       " 'ZQ',\n",
       " 'PL',\n",
       " 'PE',\n",
       " 'LE']"
      ]
     },
     "execution_count": 8,
     "metadata": {},
     "output_type": "execute_result"
    }
   ],
   "source": [
    "worthwhile_valves = [v for v in flow_rates if flow_rates[v] > 0]\n",
    "worthwhile_valves"
   ]
  },
  {
   "cell_type": "markdown",
   "metadata": {},
   "source": [
    "## Part 1\n",
    "---"
   ]
  },
  {
   "cell_type": "markdown",
   "metadata": {},
   "source": [
    "What is the decision to make at each minute?\n",
    "\n",
    "These are the state variables:\n",
    "1. `current_valve` : Where in the graph we are\n",
    "2. `time_left` : Countdown in minutes from 30\n",
    "3. `open_valves` : An array keeping track of which of the `worthwhile_valves` are open (order matters, but that's captured in the `pressure_release`)\n",
    "4. `closed_valves` : An array keeyping track of which of the `worthwhile_vales` are still closed\n",
    "5. `pressure_release` : The amount of pressure that would be released if \n",
    "\n",
    "At each minute, have to decide:\n",
    "* Open current valve?\n",
    "* Move to another valve?\n",
    "* Stay put? (All `worthwhile_valves` are open already, so there's nothing worth doing)\n",
    "\n",
    "While the test data is relatively small, the actual input data is significantly larger.  \n",
    "The test data have only 6 `worthwhile_valves`, but the actual input data have 15 `worthwhile_valves`.\n",
    "\n",
    "While that doesn't seem like a big difference, it is!\n",
    "\n",
    "That's because the number of possible permutations explodes as $n$ increases.  \n",
    "The number of permutations of an array with $n$ elements is $n!$\n",
    "\n",
    "`math.factorial(6)` is 720  \n",
    "`math.factorial(15)` is ~1.3 trillion\n",
    "\n",
    "\n",
    "\n"
   ]
  },
  {
   "cell_type": "code",
   "execution_count": 9,
   "metadata": {},
   "outputs": [
    {
     "name": "stdout",
     "output_type": "stream",
     "text": [
      " 6! is equal to: 720\n",
      "15! is equal to: 1307674368000\n"
     ]
    }
   ],
   "source": [
    "import math\n",
    "print(f\" 6! is equal to: {math.factorial(6)}\")\n",
    "print(f\"15! is equal to: {math.factorial(15)}\")"
   ]
  },
  {
   "cell_type": "code",
   "execution_count": 10,
   "metadata": {},
   "outputs": [],
   "source": [
    "from collections import defaultdict\n",
    "from itertools import product\n",
    "\n",
    "def fw(graph):\n",
    "    \"\"\"See algorithms/floyd_warshall.ipynb for comments/details.\"\"\"\n",
    "    dist = defaultdict(lambda: float(\"inf\"))\n",
    "\n",
    "    for node, neighbors in graph.items():\n",
    "        dist[(node, node)] = 0\n",
    "        for neighbor, edge_weight in neighbors.items():\n",
    "            dist[(node, neighbor)] = edge_weight\n",
    "\n",
    "    for k, i, j in product(graph.keys(), repeat=3):\n",
    "        dist[(i, j)] = min(dist[(i, j)], dist[(i, k)] + dist[(k, j)])\n",
    "\n",
    "    return dict(dist)"
   ]
  },
  {
   "cell_type": "code",
   "execution_count": 11,
   "metadata": {},
   "outputs": [
    {
     "data": {
      "text/plain": [
       "{('AA', 'AA'): 0,\n",
       " ('AA', 'DD'): 1,\n",
       " ('AA', 'II'): 1,\n",
       " ('AA', 'BB'): 1,\n",
       " ('BB', 'BB'): 0}"
      ]
     },
     "execution_count": 11,
     "metadata": {},
     "output_type": "execute_result"
    }
   ],
   "source": [
    "test_min_dists = fw(test_valves_graph)\n",
    "dict(list(test_min_dists.items())[:5])"
   ]
  },
  {
   "cell_type": "code",
   "execution_count": 12,
   "metadata": {},
   "outputs": [
    {
     "data": {
      "text/plain": [
       "{('XB', 'XB'): 0,\n",
       " ('XB', 'WZ'): 1,\n",
       " ('XB', 'LE'): 1,\n",
       " ('BM', 'BM'): 0,\n",
       " ('BM', 'PL'): 1}"
      ]
     },
     "execution_count": 12,
     "metadata": {},
     "output_type": "execute_result"
    }
   ],
   "source": [
    "min_dists = fw(valves_graph)\n",
    "dict(list(min_dists.items())[:5])"
   ]
  },
  {
   "cell_type": "code",
   "execution_count": 13,
   "metadata": {},
   "outputs": [],
   "source": [
    "from functools import cache"
   ]
  },
  {
   "cell_type": "code",
   "execution_count": 97,
   "metadata": {},
   "outputs": [],
   "source": [
    "def find_all_perms(curr_valve, time_left=30, perm='', release=0):\n",
    "\n",
    "    perms = []\n",
    "    perm += curr_valve + \",\"\n",
    "\n",
    "    if len(perm) > 3:\n",
    "        prev_valve = perm[-6:-4]\n",
    "        time_left -= (min_dists[(prev_valve, curr_valve)] + 1)\n",
    "\n",
    "    # Base case\n",
    "    if time_left <= 0:\n",
    "        return perms\n",
    "    \n",
    "    else:\n",
    "        release += time_left * flow_rates[curr_valve]\n",
    "        perms += [release]\n",
    "\n",
    "        for valve in worthwhile_valves:\n",
    "            if valve not in perm:\n",
    "                perms += find_all_perms(valve, time_left, perm, release)\n",
    "            \n",
    "        return perms"
   ]
  },
  {
   "cell_type": "code",
   "execution_count": 98,
   "metadata": {},
   "outputs": [
    {
     "name": "stdout",
     "output_type": "stream",
     "text": [
      "0 2265 136465\n"
     ]
    }
   ],
   "source": [
    "all_perms = find_all_perms(\"AA\")\n",
    "print(min(all_perms), max(all_perms), len(all_perms))"
   ]
  },
  {
   "cell_type": "code",
   "execution_count": 39,
   "metadata": {},
   "outputs": [],
   "source": [
    "# Experimenting\n",
    "cache = {}\n",
    "def find_all_perms(curr_valve, time_left=30, perm='', release=0):\n",
    "\n",
    "    perms = []\n",
    "\n",
    "    for valve in worthwhile_valves:\n",
    "        if valve not in [perm[i:i+2] for i in range(0, int(len(perm)), 2)]:\n",
    "\n",
    "            perm += valve\n",
    "            \n",
    "            if perm in cache:\n",
    "                perms += [cache[perm]]\n",
    "                return perms\n",
    "\n",
    "            time_left -= (min_dists[(curr_valve, valve)] + 1)\n",
    "            if time_left <= 0:\n",
    "                return perms\n",
    "            else:\n",
    "                release += time_left * flow_rates[curr_valve]\n",
    "                perms += [release]\n",
    "                cache[perm] = release\n",
    "\n",
    "                perms += find_all_perms(valve, time_left, perm, release)\n",
    "\n",
    "    return perms"
   ]
  },
  {
   "cell_type": "code",
   "execution_count": 40,
   "metadata": {},
   "outputs": [
    {
     "data": {
      "text/plain": [
       "9"
      ]
     },
     "execution_count": 40,
     "metadata": {},
     "output_type": "execute_result"
    }
   ],
   "source": [
    "len(find_all_perms(\"AA\"))"
   ]
  },
  {
   "cell_type": "code",
   "execution_count": 38,
   "metadata": {},
   "outputs": [
    {
     "data": {
      "text/plain": [
       "136470"
      ]
     },
     "execution_count": 38,
     "metadata": {},
     "output_type": "execute_result"
    }
   ],
   "source": [
    "len(cache)"
   ]
  },
  {
   "cell_type": "code",
   "execution_count": 66,
   "metadata": {},
   "outputs": [
    {
     "name": "stdout",
     "output_type": "stream",
     "text": [
      "0 1651 1957\n"
     ]
    }
   ],
   "source": [
    "# on test inputs\n",
    "def find_all_paths(curr_valve, time_left=30, path='', release=0):\n",
    "\n",
    "    paths = []\n",
    "    path += curr_valve\n",
    "\n",
    "    if len(path) > 2:\n",
    "        prev_valve = path[-4:-2]\n",
    "        time_left -= (test_min_dists[(prev_valve, curr_valve)] + 1)\n",
    "        release += time_left * test_flow_rates[curr_valve]\n",
    "\n",
    "    paths += [release]\n",
    "\n",
    "    # Base case\n",
    "    if time_left <= 2:\n",
    "        return paths\n",
    "        \n",
    "    for valve in test_worthwhile_valves:\n",
    "        if valve not in [path[i:i+2] for i in range(0, int(len(path)), 2)]:\n",
    "            paths += find_all_paths(valve, time_left, path, release)\n",
    "\n",
    "    return paths\n",
    "\n",
    "all_paths = find_all_paths(\"AA\")\n",
    "print(min(all_paths), max(all_paths), len(all_paths))\n"
   ]
  },
  {
   "cell_type": "code",
   "execution_count": null,
   "metadata": {},
   "outputs": [],
   "source": []
  },
  {
   "cell_type": "markdown",
   "metadata": {},
   "source": [
    "### Run on Test Data"
   ]
  },
  {
   "cell_type": "code",
   "execution_count": null,
   "metadata": {},
   "outputs": [],
   "source": [
    "max_cum_pressure_release(test_valves_graph, test_flow_rates) # == 1651"
   ]
  },
  {
   "cell_type": "markdown",
   "metadata": {},
   "source": [
    "### Run on Input Data"
   ]
  },
  {
   "cell_type": "code",
   "execution_count": null,
   "metadata": {},
   "outputs": [],
   "source": []
  },
  {
   "cell_type": "markdown",
   "metadata": {},
   "source": [
    "## Part 2\n",
    "---"
   ]
  },
  {
   "cell_type": "code",
   "execution_count": null,
   "metadata": {},
   "outputs": [],
   "source": []
  },
  {
   "cell_type": "markdown",
   "metadata": {},
   "source": [
    "### Run on Test Data"
   ]
  },
  {
   "cell_type": "code",
   "execution_count": null,
   "metadata": {},
   "outputs": [],
   "source": []
  },
  {
   "cell_type": "markdown",
   "metadata": {},
   "source": [
    "### Run on Input Data"
   ]
  },
  {
   "cell_type": "code",
   "execution_count": null,
   "metadata": {},
   "outputs": [],
   "source": []
  }
 ],
 "metadata": {
  "kernelspec": {
   "display_name": "Python 3.8.8 ('base')",
   "language": "python",
   "name": "python3"
  },
  "language_info": {
   "codemirror_mode": {
    "name": "ipython",
    "version": 3
   },
   "file_extension": ".py",
   "mimetype": "text/x-python",
   "name": "python",
   "nbconvert_exporter": "python",
   "pygments_lexer": "ipython3",
   "version": "3.9.7"
  },
  "vscode": {
   "interpreter": {
    "hash": "f49206fcf84a9145e7e21228cbafa911d1ac18292303b01e865d8267a9c448f7"
   }
  }
 },
 "nbformat": 4,
 "nbformat_minor": 4
}
