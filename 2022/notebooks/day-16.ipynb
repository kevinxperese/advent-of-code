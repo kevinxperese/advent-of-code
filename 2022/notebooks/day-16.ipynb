{
 "cells": [
  {
   "cell_type": "markdown",
   "metadata": {},
   "source": [
    "# --- Day 16: Proboscidea Volcanium ---\n",
    "\n",
    "https://adventofcode.com/2022/day/16"
   ]
  },
  {
   "cell_type": "markdown",
   "metadata": {},
   "source": [
    "## Get Input Data"
   ]
  },
  {
   "cell_type": "code",
   "execution_count": 1,
   "metadata": {},
   "outputs": [],
   "source": [
    "import re\n",
    "\n",
    "def parse_input(filename):\n",
    "    \"\"\"Parse input data for today's puzzle.\n",
    "    \n",
    "    Parameters\n",
    "    ----------\n",
    "    filename : str\n",
    "        The name of the *.txt file in the inputs/ directory.\n",
    "    \n",
    "    Returns\n",
    "    -------\n",
    "    graph : dict\n",
    "    flow_rates : dict\n",
    "    \"\"\"\n",
    "    graph = {}\n",
    "    flow_rates = {}\n",
    "\n",
    "    pattern = r\"Valve ([A-Z]{2}) .+=(\\d+); .+ valves? (.+)\"\n",
    "    file_str = open(f\"../inputs/{filename}.txt\").read()\n",
    "\n",
    "    for node, flow_rate, neighbors in re.findall(pattern, file_str):\n",
    "        graph[node] = {}\n",
    "        for neighbor in neighbors.split(\", \"):\n",
    "            # NB: Adding a distance of 1 betwen each node.\n",
    "            # This creates a *weighted* graph, with all the weights equal to 1\n",
    "            # This becomes useful later to have this structured like this because\n",
    "            # I use Floyd-Warshall to find the min distance between all nodes in \n",
    "            # the graph.\n",
    "            graph[node][neighbor] = 1\n",
    "                \n",
    "        flow_rates[node] = int(flow_rate)\n",
    "\n",
    "    return graph, flow_rates"
   ]
  },
  {
   "cell_type": "code",
   "execution_count": 2,
   "metadata": {},
   "outputs": [
    {
     "data": {
      "text/plain": [
       "{'AA': {'DD': 1, 'II': 1, 'BB': 1},\n",
       " 'BB': {'CC': 1, 'AA': 1},\n",
       " 'CC': {'DD': 1, 'BB': 1},\n",
       " 'DD': {'CC': 1, 'AA': 1, 'EE': 1},\n",
       " 'EE': {'FF': 1, 'DD': 1},\n",
       " 'FF': {'EE': 1, 'GG': 1},\n",
       " 'GG': {'FF': 1, 'HH': 1},\n",
       " 'HH': {'GG': 1},\n",
       " 'II': {'AA': 1, 'JJ': 1},\n",
       " 'JJ': {'II': 1}}"
      ]
     },
     "execution_count": 2,
     "metadata": {},
     "output_type": "execute_result"
    }
   ],
   "source": [
    "test_valves_graph, test_flow_rates = parse_input(\"test_valves\")\n",
    "test_valves_graph"
   ]
  },
  {
   "cell_type": "code",
   "execution_count": 3,
   "metadata": {},
   "outputs": [
    {
     "data": {
      "text/plain": [
       "{'AA': 0,\n",
       " 'BB': 13,\n",
       " 'CC': 2,\n",
       " 'DD': 20,\n",
       " 'EE': 3,\n",
       " 'FF': 0,\n",
       " 'GG': 0,\n",
       " 'HH': 22,\n",
       " 'II': 0,\n",
       " 'JJ': 21}"
      ]
     },
     "execution_count": 3,
     "metadata": {},
     "output_type": "execute_result"
    }
   ],
   "source": [
    "test_flow_rates"
   ]
  },
  {
   "cell_type": "markdown",
   "metadata": {},
   "source": [
    "## Part 1\n",
    "---"
   ]
  },
  {
   "cell_type": "markdown",
   "metadata": {},
   "source": [
    "What is the decision to make at each minute?\n",
    "\n",
    "These are the state variables:\n",
    "1. `current_valve` : Where we are in the graph\n",
    "2. `time_left` : Countdown in minutes from 30\n",
    "3. `open_valves` : An array keeping track of which of the `worthwhile_valves` are open (order matters)\n",
    "\n",
    "At each minute, have to decide:\n",
    "* Open current valve?\n",
    "* Move to another valve?\n",
    "* Stay put? (All `worthwhile_valves` are open already, so there's nothing worth doing)\n",
    "\n",
    "While the test data is relatively small, the actual input data is significantly larger:"
   ]
  },
  {
   "cell_type": "code",
   "execution_count": 4,
   "metadata": {},
   "outputs": [
    {
     "name": "stdout",
     "output_type": "stream",
     "text": [
      "There are 10 in the *test* input data.\n",
      "There are 60 in the *actual* input data.\n"
     ]
    }
   ],
   "source": [
    "valve_graph, flow_rates = parse_input(\"valves\")\n",
    "\n",
    "print(f\"There are {len(test_flow_rates)} in the *test* input data.\")\n",
    "print(f\"There are {len(flow_rates)} in the *actual* input data.\")"
   ]
  },
  {
   "cell_type": "markdown",
   "metadata": {},
   "source": [
    "But in each of the graphs, there are a *lot* of valves that do not work. That is, they have a `flow_rate` equal to `0`:"
   ]
  },
  {
   "cell_type": "code",
   "execution_count": 6,
   "metadata": {},
   "outputs": [
    {
     "name": "stdout",
     "output_type": "stream",
     "text": [
      "There are 4 valves in the *test* input data with flow_rate == 0.\n",
      "There are 45 valves in the *actual* input data with flow_rate == 0.\n"
     ]
    }
   ],
   "source": [
    "test_zero_flow_rates = [v for v in test_flow_rates if test_flow_rates[v] == 0]\n",
    "zero_flow_rates = [v for v in flow_rates if flow_rates[v] == 0]\n",
    "\n",
    "print(f\"There are {len(test_zero_flow_rates)} valves in the *test* input data with flow_rate == 0.\")\n",
    "print(f\"There are {len(zero_flow_rates)} valves in the *actual* input data with flow_rate == 0.\")"
   ]
  },
  {
   "cell_type": "markdown",
   "metadata": {},
   "source": [
    "Going to a valve in the cave with with a flow rate of zero, isn't worth it.  \n",
    "(Although, you may have to pass through such a room with a zero flow rate on your way to a room with a higher/positive flow rate.)"
   ]
  },
  {
   "cell_type": "code",
   "execution_count": 8,
   "metadata": {},
   "outputs": [
    {
     "name": "stdout",
     "output_type": "stream",
     "text": [
      "There are only 6 valves worth visiting in the *test* input data.\n",
      "There are only 15 valves worth visiting in the *actual* input data.\n"
     ]
    }
   ],
   "source": [
    "test_worthwhile_valves = [v for v in test_flow_rates if test_flow_rates[v] > 0]\n",
    "worthwhile_valves = [v for v in flow_rates if flow_rates[v] > 0]\n",
    "\n",
    "print (f\"There are only {len(test_worthwhile_valves)} valves worth visiting in the *test* input data.\")\n",
    "print (f\"There are only {len(worthwhile_valves)} valves worth visiting in the *actual* input data.\")"
   ]
  },
  {
   "cell_type": "markdown",
   "metadata": {},
   "source": [
    "The test data have only 6 `worthwhile_valves`, but the actual input data have 15 `worthwhile_valves`.\n",
    "\n",
    "While that doesn't *seem* like a big difference (6 vs. 15), it is!\n",
    "\n",
    "That's because the number of possible permutations ***explodes*** as $n$ increases.  \n",
    "The number of permutations of an array with $n$ elements is $n!$"
   ]
  },
  {
   "cell_type": "code",
   "execution_count": 8,
   "metadata": {},
   "outputs": [
    {
     "name": "stdout",
     "output_type": "stream",
     "text": [
      " 6! is equal to: 720\n",
      "15! is equal to: 1307674368000\n"
     ]
    }
   ],
   "source": [
    "import math\n",
    "print(f\" 6! is equal to: {math.factorial(6)}\")\n",
    "print(f\"15! is equal to: {math.factorial(15)}\")"
   ]
  },
  {
   "cell_type": "markdown",
   "metadata": {},
   "source": [
    "Despite this, collapsing the graph from 60 nodes down to just 15 will be beneficial.\n",
    "\n",
    "I don't think there's a way to know this *a priori* but, the 30 min time constraint significantly reduces the **1.3 trillion** possible permutations/paths to explore to find the optimal (max) pressure release.\n",
    "\n",
    "To collapse the graph, we need an algorithm to find the distance between every worthwhile valve.\n",
    "\n",
    "The [Floyd-Warshall](https://en.wikipedia.org/wiki/Floyd%E2%80%93Warshall_algorithm) algorithm does just that.  \n",
    "That algorithm finds the minimum distance between *all* nodes in a graph. So, that is, all 60 nodes.  \n",
    "In many implementations, it returns an $n$ by $n$ matrix of all the distances between nodes.\n",
    "\n",
    "This is a bit overkill, algorithmically.  \n",
    "We only need a $15$ by $15$ matrix, but I'm not going to worry about it.\n",
    "\n",
    "Floyd-Warshall time complexity is $O(n^3)$ and 60 nodes is still small enough for it to solve relatively quickly.\n",
    "\n",
    "An alternative, and likely faster, solution would be to do a breadth-first search (BFS) for the $15$ by $15$ matrix."
   ]
  },
  {
   "cell_type": "code",
   "execution_count": 11,
   "metadata": {},
   "outputs": [],
   "source": [
    "from collections import defaultdict\n",
    "from itertools import product\n",
    "\n",
    "def fw(graph):\n",
    "    \"\"\"See algorithms/floyd_warshall.ipynb for comments/details.\"\"\"\n",
    "    dist = defaultdict(lambda: float(\"inf\"))\n",
    "\n",
    "    for node, neighbors in graph.items():\n",
    "        dist[(node, node)] = 0\n",
    "        for neighbor, edge_weight in neighbors.items():\n",
    "            dist[(node, neighbor)] = edge_weight\n",
    "\n",
    "    for k, i, j in product(graph.keys(), repeat=3):\n",
    "        dist[(i, j)] = min(dist[(i, j)], dist[(i, k)] + dist[(k, j)])\n",
    "\n",
    "    return dict(dist)"
   ]
  },
  {
   "cell_type": "markdown",
   "metadata": {},
   "source": [
    "(For no real good reason, I'm creating a dictionary with $n * n$ entries instead of a $n$ x $n$ matrix.)"
   ]
  },
  {
   "cell_type": "code",
   "execution_count": 12,
   "metadata": {},
   "outputs": [
    {
     "data": {
      "text/plain": [
       "{('AA', 'AA'): 0,\n",
       " ('AA', 'DD'): 1,\n",
       " ('AA', 'II'): 1,\n",
       " ('AA', 'BB'): 1,\n",
       " ('BB', 'BB'): 0}"
      ]
     },
     "execution_count": 12,
     "metadata": {},
     "output_type": "execute_result"
    }
   ],
   "source": [
    "test_min_dists = fw(test_valves_graph)\n",
    "dict(list(test_min_dists.items())[:5])"
   ]
  },
  {
   "cell_type": "markdown",
   "metadata": {},
   "source": [
    "Next, we need an algorithm to explore all the possible paths and keep track of the maximum release possible for each path.\n",
    "\n",
    "I played ***A LOT*** with different implemenations of the below, trying to find some improvements with just returning the max value and implementing some memoization, but none of them seemed to actually improve the run time of the solution. (In fact, in several instances, the overhead of adding a `functools.cache` decorator seemed to *slow* things down rather than speed it up. Head scratching.)\n",
    "\n",
    "I also liked exploring all the possible paths this way because I could debug by saving both the actual path and the max release and test that everything was working as expected when I limited the number of `worthwhile_valves` to just 2 or 3 potentials before the computation explodes."
   ]
  },
  {
   "cell_type": "code",
   "execution_count": 31,
   "metadata": {},
   "outputs": [],
   "source": [
    "def calc_all_possible_releases(\n",
    "        curr_valve, \n",
    "        path_so_far=\"\", \n",
    "        time_left=30, \n",
    "        release=0,\n",
    "        min_dists=None,\n",
    "        flow_rates=None,\n",
    "        worthwhile_valves=None\n",
    "    ):\n",
    "\n",
    "    all_possible_releases = []\n",
    "    \n",
    "    # path_so_far is stored as a string, so it's immutable, and thus hashable,\n",
    "    # whereas a list would not be. The + \",\" becomes important in the line below:\n",
    "    # if valve not in path_so_far because in the actual data the valve labels \n",
    "    # are not all double characters and so some nodes match with the last/first\n",
    "    # characters of previous/current node labels in the path.\n",
    "    path_so_far += curr_valve + \",\" \n",
    "\n",
    "    if len(path_so_far) > 3:\n",
    "        prev_valve = path_so_far[-6:-4]\n",
    "        travel_time = min_dists[(prev_valve, curr_valve)]\n",
    "        time_left -= (travel_time + 1)  # + 1 for time it takes opening valve\n",
    "\n",
    "    # Base case\n",
    "    if time_left <= 0:\n",
    "        return all_possible_releases\n",
    "    \n",
    "    else:\n",
    "        release += time_left * flow_rates[curr_valve]\n",
    "        all_possible_releases += [release]\n",
    "\n",
    "        for valve in worthwhile_valves:\n",
    "            if valve not in path_so_far:\n",
    "                # Recursive call\n",
    "                all_possible_releases += calc_all_possible_releases(\n",
    "                    valve,\n",
    "                    path_so_far,\n",
    "                    time_left, \n",
    "                    release, \n",
    "                    min_dists,\n",
    "                    flow_rates,\n",
    "                    worthwhile_valves\n",
    "                )\n",
    "            \n",
    "        return all_possible_releases"
   ]
  },
  {
   "cell_type": "code",
   "execution_count": 26,
   "metadata": {},
   "outputs": [],
   "source": [
    "def solve_part1(filename):\n",
    "    valves_graph, flow_rates = parse_input(filename)\n",
    "\n",
    "    # Only want to consider valves that have positive flow rates\n",
    "    worthwhile_valves = [v for v in flow_rates if flow_rates[v] > 0]\n",
    "    min_dists = fw(valves_graph)\n",
    "\n",
    "    all_possible_releases = calc_all_possible_releases(\n",
    "        \"AA\", \n",
    "        min_dists=min_dists,\n",
    "        flow_rates=flow_rates, \n",
    "        worthwhile_valves=worthwhile_valves\n",
    "    )\n",
    "\n",
    "    return max(all_possible_releases), min(all_possible_releases), len(all_possible_releases)"
   ]
  },
  {
   "cell_type": "markdown",
   "metadata": {},
   "source": [
    "### Run on Test Data"
   ]
  },
  {
   "cell_type": "code",
   "execution_count": 34,
   "metadata": {},
   "outputs": [
    {
     "data": {
      "text/plain": [
       "True"
      ]
     },
     "execution_count": 34,
     "metadata": {},
     "output_type": "execute_result"
    }
   ],
   "source": [
    "solve_part1(\"test_valves\")[0] == 1651"
   ]
  },
  {
   "cell_type": "markdown",
   "metadata": {},
   "source": [
    "### Run on Input Data"
   ]
  },
  {
   "cell_type": "code",
   "execution_count": 35,
   "metadata": {},
   "outputs": [
    {
     "data": {
      "text/plain": [
       "(2265, 0, 136465)"
      ]
     },
     "execution_count": 35,
     "metadata": {},
     "output_type": "execute_result"
    }
   ],
   "source": [
    "solve_part1(\"valves\")"
   ]
  },
  {
   "cell_type": "markdown",
   "metadata": {},
   "source": [
    "## Part 2\n",
    "---"
   ]
  },
  {
   "cell_type": "markdown",
   "metadata": {},
   "source": [
    "I can't even think about looking at this right now..."
   ]
  },
  {
   "cell_type": "code",
   "execution_count": null,
   "metadata": {},
   "outputs": [],
   "source": []
  },
  {
   "cell_type": "markdown",
   "metadata": {},
   "source": [
    "### Run on Test Data"
   ]
  },
  {
   "cell_type": "code",
   "execution_count": null,
   "metadata": {},
   "outputs": [],
   "source": []
  },
  {
   "cell_type": "markdown",
   "metadata": {},
   "source": [
    "### Run on Input Data"
   ]
  },
  {
   "cell_type": "code",
   "execution_count": null,
   "metadata": {},
   "outputs": [],
   "source": []
  }
 ],
 "metadata": {
  "kernelspec": {
   "display_name": "Python 3.8.8 ('base')",
   "language": "python",
   "name": "python3"
  },
  "language_info": {
   "codemirror_mode": {
    "name": "ipython",
    "version": 3
   },
   "file_extension": ".py",
   "mimetype": "text/x-python",
   "name": "python",
   "nbconvert_exporter": "python",
   "pygments_lexer": "ipython3",
   "version": "3.9.7"
  },
  "vscode": {
   "interpreter": {
    "hash": "f49206fcf84a9145e7e21228cbafa911d1ac18292303b01e865d8267a9c448f7"
   }
  }
 },
 "nbformat": 4,
 "nbformat_minor": 4
}
