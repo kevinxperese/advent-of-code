{
 "cells": [
  {
   "cell_type": "markdown",
   "metadata": {},
   "source": [
    "# --- Day 16: Proboscidea Volcanium ---\n",
    "\n",
    "https://adventofcode.com/2022/day/16"
   ]
  },
  {
   "cell_type": "markdown",
   "metadata": {},
   "source": [
    "## Get Input Data"
   ]
  },
  {
   "cell_type": "code",
   "execution_count": 1,
   "metadata": {},
   "outputs": [],
   "source": [
    "import re\n",
    "\n",
    "def get_data(filename):\n",
    "    \"\"\"Get input data for puzzle.\n",
    "    \n",
    "    Parameters\n",
    "    ----------\n",
    "    filename : str\n",
    "        The name of the *.txt file in the inputs/ directory.\n",
    "    \n",
    "    Returns\n",
    "    -------\n",
    "    graph : dict\n",
    "    flow_rates : dict\n",
    "    \"\"\"\n",
    "    graph = {}\n",
    "    flow_rates = {}\n",
    "\n",
    "    pattern = r\"Valve ([A-Z]{2}) .+=(\\d+); .+ valves? (.+)\"\n",
    "    file_str = open(f\"../inputs/{filename}.txt\").read()\n",
    "\n",
    "    for node, flow_rate, neighbors in re.findall(pattern, file_str):\n",
    "        graph[node] = {}\n",
    "        for neighbor in neighbors.split(\", \"):\n",
    "            graph[node][neighbor] = 1\n",
    "                \n",
    "        flow_rates[node] = int(flow_rate)\n",
    "\n",
    "    return graph, flow_rates"
   ]
  },
  {
   "cell_type": "code",
   "execution_count": 2,
   "metadata": {},
   "outputs": [
    {
     "data": {
      "text/plain": [
       "{'AA': {'DD': 1, 'II': 1, 'BB': 1},\n",
       " 'BB': {'CC': 1, 'AA': 1},\n",
       " 'CC': {'DD': 1, 'BB': 1},\n",
       " 'DD': {'CC': 1, 'AA': 1, 'EE': 1},\n",
       " 'EE': {'FF': 1, 'DD': 1},\n",
       " 'FF': {'EE': 1, 'GG': 1},\n",
       " 'GG': {'FF': 1, 'HH': 1},\n",
       " 'HH': {'GG': 1},\n",
       " 'II': {'AA': 1, 'JJ': 1},\n",
       " 'JJ': {'II': 1}}"
      ]
     },
     "execution_count": 2,
     "metadata": {},
     "output_type": "execute_result"
    }
   ],
   "source": [
    "test_valves_graph, test_flow_rates = get_data(\"test_valves\")\n",
    "test_valves_graph"
   ]
  },
  {
   "cell_type": "code",
   "execution_count": 3,
   "metadata": {},
   "outputs": [
    {
     "data": {
      "text/plain": [
       "{'AA': 0,\n",
       " 'BB': 13,\n",
       " 'CC': 2,\n",
       " 'DD': 20,\n",
       " 'EE': 3,\n",
       " 'FF': 0,\n",
       " 'GG': 0,\n",
       " 'HH': 22,\n",
       " 'II': 0,\n",
       " 'JJ': 21}"
      ]
     },
     "execution_count": 3,
     "metadata": {},
     "output_type": "execute_result"
    }
   ],
   "source": [
    "test_flow_rates"
   ]
  },
  {
   "cell_type": "code",
   "execution_count": 4,
   "metadata": {},
   "outputs": [
    {
     "data": {
      "text/plain": [
       "['BB', 'CC', 'DD', 'EE', 'HH', 'JJ']"
      ]
     },
     "execution_count": 4,
     "metadata": {},
     "output_type": "execute_result"
    }
   ],
   "source": [
    "test_worthwhile_valves = [v for v in test_flow_rates if test_flow_rates[v] > 0]\n",
    "test_worthwhile_valves"
   ]
  },
  {
   "cell_type": "code",
   "execution_count": 5,
   "metadata": {},
   "outputs": [],
   "source": [
    "valves_graph, flow_rates = get_data(\"valves\")"
   ]
  },
  {
   "cell_type": "code",
   "execution_count": 6,
   "metadata": {},
   "outputs": [
    {
     "data": {
      "text/plain": [
       "[['XB', {'WZ': 1, 'LE': 1}],\n",
       " ['BM', {'PL': 1, 'RI': 1}],\n",
       " ['GC', {'HN': 1, 'IT': 1}],\n",
       " ['RM', {'ZQ': 1, 'YL': 1}],\n",
       " ['ZM', {'SN': 1, 'KE': 1, 'UW': 1, 'MY': 1, 'GW': 1}],\n",
       " ['UH', {'HM': 1, 'HN': 1}],\n",
       " ['GW', {'LE': 1, 'ZM': 1}],\n",
       " ['HN', {'UW': 1, 'UH': 1, 'GL': 1, 'WZ': 1, 'GC': 1}],\n",
       " ['VT', {'ZD': 1, 'PE': 1}],\n",
       " ['VI', {'JS': 1, 'AA': 1}]]"
      ]
     },
     "execution_count": 6,
     "metadata": {},
     "output_type": "execute_result"
    }
   ],
   "source": [
    "[[k, valves_graph[k]] for k in list(valves_graph.keys())[:10]]"
   ]
  },
  {
   "cell_type": "code",
   "execution_count": 7,
   "metadata": {},
   "outputs": [
    {
     "data": {
      "text/plain": [
       "{'XB': 0,\n",
       " 'BM': 0,\n",
       " 'GC': 0,\n",
       " 'RM': 0,\n",
       " 'ZM': 5,\n",
       " 'UH': 0,\n",
       " 'GW': 0,\n",
       " 'HN': 19,\n",
       " 'VT': 0,\n",
       " 'VI': 0,\n",
       " 'YL': 12,\n",
       " 'LA': 0,\n",
       " 'CM': 0,\n",
       " 'JI': 24,\n",
       " 'ZD': 25,\n",
       " 'VB': 0,\n",
       " 'FO': 0,\n",
       " 'JS': 0,\n",
       " 'RI': 0,\n",
       " 'XD': 14,\n",
       " 'ES': 11,\n",
       " 'WZ': 0,\n",
       " 'HW': 0,\n",
       " 'KE': 0,\n",
       " 'IY': 22,\n",
       " 'XW': 0,\n",
       " 'BE': 0,\n",
       " 'QY': 23,\n",
       " 'MH': 0,\n",
       " 'IT': 0,\n",
       " 'DA': 0,\n",
       " 'PM': 0,\n",
       " 'WU': 0,\n",
       " 'UL': 0,\n",
       " 'SM': 13,\n",
       " 'XC': 0,\n",
       " 'OJ': 0,\n",
       " 'SN': 0,\n",
       " 'WH': 0,\n",
       " 'UW': 0,\n",
       " 'HM': 0,\n",
       " 'AB': 0,\n",
       " 'QR': 8,\n",
       " 'UV': 0,\n",
       " 'ZQ': 20,\n",
       " 'ZJ': 0,\n",
       " 'GL': 0,\n",
       " 'CP': 0,\n",
       " 'AM': 0,\n",
       " 'PL': 17,\n",
       " 'YE': 0,\n",
       " 'PE': 4,\n",
       " 'MY': 0,\n",
       " 'QX': 0,\n",
       " 'GI': 0,\n",
       " 'WW': 0,\n",
       " 'FF': 0,\n",
       " 'LE': 6,\n",
       " 'GU': 0,\n",
       " 'AA': 0}"
      ]
     },
     "execution_count": 7,
     "metadata": {},
     "output_type": "execute_result"
    }
   ],
   "source": [
    "flow_rates"
   ]
  },
  {
   "cell_type": "code",
   "execution_count": 21,
   "metadata": {},
   "outputs": [
    {
     "data": {
      "text/plain": [
       "['ZM',\n",
       " 'HN',\n",
       " 'YL',\n",
       " 'JI',\n",
       " 'ZD',\n",
       " 'XD',\n",
       " 'ES',\n",
       " 'IY',\n",
       " 'QY',\n",
       " 'SM',\n",
       " 'QR',\n",
       " 'ZQ',\n",
       " 'PL',\n",
       " 'PE',\n",
       " 'LE']"
      ]
     },
     "execution_count": 21,
     "metadata": {},
     "output_type": "execute_result"
    }
   ],
   "source": [
    "worthwhile_valves = [v for v in flow_rates if flow_rates[v] > 0]\n",
    "worthwhile_valves"
   ]
  },
  {
   "cell_type": "markdown",
   "metadata": {},
   "source": [
    "## Part 1\n",
    "---"
   ]
  },
  {
   "cell_type": "markdown",
   "metadata": {},
   "source": [
    "What is the decision to make at each minute?\n",
    "\n",
    "These are the state variables:\n",
    "1. `current_valve` : Where in the graph we are\n",
    "2. `time_left` : Countdown in minutes from 30\n",
    "3. `open_valves` : An array keeping track of which of the `worthwhile_valves` are open (order matters, but that's captured in the `pressure_release`)\n",
    "4. `closed_valves` : An array keeyping track of which of the `worthwhile_vales` are still closed\n",
    "5. `pressure_release` : The amount of pressure that would be released if \n",
    "\n",
    "At each minute, have to decide:\n",
    "* Open current valve?\n",
    "* Move to another valve?\n",
    "* Stay put? (All `worthwhile_valves` are open already, so there's nothing worth doing)\n",
    "\n",
    "While the test data is relatively small, the actual input data is significantly larger.  \n",
    "The test data have only 6 `worthwhile_valves`, but the actual input data have 15 `worthwhile_valves`.\n",
    "\n",
    "While that doesn't seem like a big difference, it is!\n",
    "\n",
    "That's because the number of possible permutations explodes as $n$ increases.  \n",
    "The number of permutations of an array with $n$ elements is $n!$\n",
    "\n",
    "`math.factorial(6)` is 720  \n",
    "`math.factorial(15)` is ~1.3 trillion\n",
    "\n",
    "\n",
    "\n"
   ]
  },
  {
   "cell_type": "code",
   "execution_count": 8,
   "metadata": {},
   "outputs": [
    {
     "name": "stdout",
     "output_type": "stream",
     "text": [
      " 6! is equal to: 720\n",
      "15! is equal to: 1307674368000\n"
     ]
    }
   ],
   "source": [
    "import math\n",
    "print(f\" 6! is equal to: {math.factorial(6)}\")\n",
    "print(f\"15! is equal to: {math.factorial(15)}\")"
   ]
  },
  {
   "cell_type": "code",
   "execution_count": 9,
   "metadata": {},
   "outputs": [],
   "source": [
    "from collections import defaultdict\n",
    "from itertools import product\n",
    "\n",
    "def fw(graph):\n",
    "    \"\"\"See algorithms/floyd_warshall.ipynb for comments/details.\"\"\"\n",
    "    dist = defaultdict(lambda: float(\"inf\"))\n",
    "\n",
    "    for node, neighbors in graph.items():\n",
    "        dist[(node, node)] = 0\n",
    "        for neighbor, edge_weight in neighbors.items():\n",
    "            dist[(node, neighbor)] = edge_weight\n",
    "\n",
    "    for k, i, j in product(graph.keys(), repeat=3):\n",
    "        dist[(i, j)] = min(dist[(i, j)], dist[(i, k)] + dist[(k, j)])\n",
    "\n",
    "    return dict(dist)"
   ]
  },
  {
   "cell_type": "code",
   "execution_count": 10,
   "metadata": {},
   "outputs": [
    {
     "data": {
      "text/plain": [
       "[(('AA', 'AA'), 0),\n",
       " (('AA', 'DD'), 1),\n",
       " (('AA', 'II'), 1),\n",
       " (('AA', 'BB'), 1),\n",
       " (('BB', 'BB'), 0)]"
      ]
     },
     "execution_count": 10,
     "metadata": {},
     "output_type": "execute_result"
    }
   ],
   "source": [
    "test_min_dists = fw(test_valves_graph)\n",
    "[(v, test_min_dists[v]) for v in list(test_min_dists.keys())[:5]]"
   ]
  },
  {
   "cell_type": "code",
   "execution_count": 11,
   "metadata": {},
   "outputs": [
    {
     "data": {
      "text/plain": [
       "[(('XB', 'XB'), 0),\n",
       " (('XB', 'WZ'), 1),\n",
       " (('XB', 'LE'), 1),\n",
       " (('BM', 'BM'), 0),\n",
       " (('BM', 'PL'), 1)]"
      ]
     },
     "execution_count": 11,
     "metadata": {},
     "output_type": "execute_result"
    }
   ],
   "source": [
    "min_dists = fw(valves_graph)\n",
    "[(v, min_dists[v]) for v in list(min_dists.keys())[:5]]"
   ]
  },
  {
   "cell_type": "code",
   "execution_count": 12,
   "metadata": {},
   "outputs": [],
   "source": [
    "from functools import cache"
   ]
  },
  {
   "cell_type": "code",
   "execution_count": 56,
   "metadata": {},
   "outputs": [],
   "source": [
    "# @cache\n",
    "def find_all_perms(curr_valve, time_left=30, perm='', curr_release=0):\n",
    "\n",
    "    perms = []\n",
    "    perm += curr_valve\n",
    "    perms.append((perm, curr_release))\n",
    "    # perms.append(curr_release)\n",
    "\n",
    "    print(\"foo\", perm, time_left, test_flow_rates[curr_valve], curr_release)\n",
    "\n",
    "    # Base case\n",
    "    if time_left <= 2:\n",
    "        # return [(perm, curr_release)]\n",
    "        # return [curr_release]\n",
    "        return perms\n",
    "\n",
    "    for valve in [\"BB\", \"CC\",]: #test_worthwhile_valves[:3]:\n",
    "        if valve not in perm:\n",
    "            time_left -= (min_dists[(curr_valve, valve)] + 1)\n",
    "            curr_release += time_left * test_flow_rates[valve]\n",
    "            print(\"bar\", perm, time_left, test_flow_rates[valve], curr_release)\n",
    "\n",
    "            # perms += find_all_perms(valve, time_left, perm)\n",
    "            perms += find_all_perms(valve, time_left, perm, curr_release)\n",
    "            # perms.append((perm, curr_release))\n",
    "            # perms.append(curr_release)\n",
    "\n",
    "    return perms"
   ]
  },
  {
   "cell_type": "code",
   "execution_count": 45,
   "metadata": {},
   "outputs": [
    {
     "data": {
      "text/plain": [
       "['as', 'we', 'ud', 'qe', 'oc', 'jr']"
      ]
     },
     "execution_count": 45,
     "metadata": {},
     "output_type": "execute_result"
    }
   ],
   "source": [
    "perm = \"asweudqeocjr\"\n",
    "[perm[i:i+2] for i in range(0, int(len(perm)), 2)]"
   ]
  },
  {
   "cell_type": "code",
   "execution_count": 48,
   "metadata": {},
   "outputs": [],
   "source": [
    "# THIS ONE WORKS!\n",
    "\n",
    "@cache\n",
    "def find_all_perms(curr_valve, time_left=30, perm='', release=0):\n",
    "\n",
    "    perms = []\n",
    "    perm += curr_valve\n",
    "\n",
    "    if len(perm) > 2:\n",
    "        prev_valve = perm[-4:-2]\n",
    "        time_left -= (min_dists[(prev_valve, curr_valve)] + 1)\n",
    "\n",
    "    release += time_left * flow_rates[curr_valve]\n",
    "    perms.append(release)\n",
    "\n",
    "    # Base case\n",
    "    if time_left <= 2:\n",
    "        return perms\n",
    "\n",
    "    # perms.append((perm, curr_release))\n",
    "    # perms.append(release)\n",
    "\n",
    "    # print(\"foo\", perm, time_left, test_flow_rates[curr_valve], curr_release)\n",
    "\n",
    "    for valve in worthwhile_valves: #test_worthwhile_valves:\n",
    "        if valve not in [perm[i:i+2] for i in range(0, int(len(perm)), 2)]: #perm:\n",
    "            # time_left -= (test_min_dists[(curr_valve, valve)] + 1)\n",
    "            # release += time_left * test_flow_rates[valve]\n",
    "            # print(\"bar\", perm, time_left, test_flow_rates[valve], curr_release)\n",
    "\n",
    "            # perms += find_all_perms(valve, time_left, perm)\n",
    "            perms += find_all_perms(valve, time_left, perm, release)\n",
    "            # perms.append((perm, curr_release))\n",
    "\n",
    "\n",
    "    return perms\n"
   ]
  },
  {
   "cell_type": "code",
   "execution_count": 49,
   "metadata": {},
   "outputs": [
    {
     "data": {
      "text/plain": [
       "2265"
      ]
     },
     "execution_count": 49,
     "metadata": {},
     "output_type": "execute_result"
    }
   ],
   "source": [
    "max(find_all_perms(\"AA\"))"
   ]
  },
  {
   "cell_type": "code",
   "execution_count": 12,
   "metadata": {},
   "outputs": [
    {
     "data": {
      "text/plain": [
       "{'AA': 0,\n",
       " 'BB': 13,\n",
       " 'CC': 2,\n",
       " 'DD': 20,\n",
       " 'EE': 3,\n",
       " 'FF': 0,\n",
       " 'GG': 0,\n",
       " 'HH': 22,\n",
       " 'II': 0,\n",
       " 'JJ': 21}"
      ]
     },
     "execution_count": 12,
     "metadata": {},
     "output_type": "execute_result"
    }
   ],
   "source": [
    "test_flow_rates"
   ]
  },
  {
   "cell_type": "code",
   "execution_count": 144,
   "metadata": {},
   "outputs": [
    {
     "data": {
      "text/plain": [
       "5040"
      ]
     },
     "execution_count": 144,
     "metadata": {},
     "output_type": "execute_result"
    }
   ],
   "source": []
  },
  {
   "cell_type": "code",
   "execution_count": 75,
   "metadata": {},
   "outputs": [],
   "source": [
    "import numpy as np  # import this to access np.argmax() instead\n",
    "cache = {}\n",
    "\n",
    "def max_cum_pressure_release(flow_rates, mins_left=30, start_valve=\"AA\"):\n",
    "    flow_rates = flow_rates.copy()\n",
    "    cum_pressure_released = 0\n",
    "    valve = start_valve\n",
    "\n",
    "    while mins_left > 0:\n",
    "        print(f\"== Minutes left {mins_left} ==\")\n",
    "\n",
    "        open_valves = [k for k in flow_rates if flow_rates[k] > 0]\n",
    "\n",
    "        if len(open_valves) > 0:\n",
    "            net_benefits = []\n",
    "\n",
    "            for open_valve in open_valves:\n",
    "                cost = shortest_paths[open_valve] + 1\n",
    "                benefit = (mins_left - cost) * flow_rates[open_valve]\n",
    "                net_benefits.append(benefit - cost)\n",
    "\n",
    "                print(valve, open_valve, cost, benefit, benefit-cost)\n",
    "\n",
    "            next_valve = open_valves[np.argmax(net_benefits)]\n",
    "\n",
    "            valve = next_valve\n",
    "            cost = shortest_paths[next_valve]\n",
    "\n",
    "            cum_pressure_released += (mins_left - cost - 1) * flow_rates[next_valve]\n",
    "            flow_rates[next_valve] = 0\n",
    "            mins_left -= cost\n",
    "\n",
    "        else:\n",
    "            # Just chill -- all the valves are already open\n",
    "            mins_left -= 1\n",
    "\n",
    "        print(f\"Current valve: {valve}\")\n",
    "        print(f\"Cumulative pressure released: {cum_pressure_released}\")\n",
    "\n",
    "    return cum_pressure_released"
   ]
  },
  {
   "cell_type": "markdown",
   "metadata": {},
   "source": [
    "### Run on Test Data"
   ]
  },
  {
   "cell_type": "code",
   "execution_count": 76,
   "metadata": {},
   "outputs": [
    {
     "name": "stdout",
     "output_type": "stream",
     "text": [
      "== Minutes left 30 ==\n",
      "AA BB 2 364 362\n",
      "AA CC 3 54 51\n",
      "AA DD 2 560 558\n",
      "AA EE 3 81 78\n",
      "AA HH 6 528 522\n",
      "AA JJ 3 567 564\n",
      "Current valve: JJ\n",
      "Cumulative pressure released: 567\n",
      "== Minutes left 28 ==\n",
      "JJ BB 4 312 308\n",
      "JJ CC 5 46 41\n",
      "JJ DD 4 480 476\n",
      "JJ EE 5 69 64\n",
      "JJ HH 8 440 432\n",
      "Current valve: DD\n",
      "Cumulative pressure released: 1047\n",
      "== Minutes left 25 ==\n",
      "DD BB 3 286 283\n",
      "DD CC 2 46 44\n",
      "DD EE 2 69 67\n",
      "DD HH 5 440 435\n",
      "Current valve: HH\n",
      "Cumulative pressure released: 1487\n",
      "== Minutes left 21 ==\n",
      "HH BB 7 182 175\n",
      "HH CC 6 30 24\n",
      "HH EE 4 51 47\n",
      "Current valve: BB\n",
      "Cumulative pressure released: 1669\n",
      "== Minutes left 15 ==\n",
      "BB CC 2 26 24\n",
      "BB EE 4 33 29\n",
      "Current valve: EE\n",
      "Cumulative pressure released: 1702\n",
      "== Minutes left 12 ==\n",
      "EE CC 3 18 15\n",
      "Current valve: CC\n",
      "Cumulative pressure released: 1720\n",
      "== Minutes left 10 ==\n",
      "Current valve: CC\n",
      "Cumulative pressure released: 1720\n",
      "== Minutes left 9 ==\n",
      "Current valve: CC\n",
      "Cumulative pressure released: 1720\n",
      "== Minutes left 8 ==\n",
      "Current valve: CC\n",
      "Cumulative pressure released: 1720\n",
      "== Minutes left 7 ==\n",
      "Current valve: CC\n",
      "Cumulative pressure released: 1720\n",
      "== Minutes left 6 ==\n",
      "Current valve: CC\n",
      "Cumulative pressure released: 1720\n",
      "== Minutes left 5 ==\n",
      "Current valve: CC\n",
      "Cumulative pressure released: 1720\n",
      "== Minutes left 4 ==\n",
      "Current valve: CC\n",
      "Cumulative pressure released: 1720\n",
      "== Minutes left 3 ==\n",
      "Current valve: CC\n",
      "Cumulative pressure released: 1720\n",
      "== Minutes left 2 ==\n",
      "Current valve: CC\n",
      "Cumulative pressure released: 1720\n",
      "== Minutes left 1 ==\n",
      "Current valve: CC\n",
      "Cumulative pressure released: 1720\n"
     ]
    },
    {
     "data": {
      "text/plain": [
       "1720"
      ]
     },
     "execution_count": 76,
     "metadata": {},
     "output_type": "execute_result"
    }
   ],
   "source": [
    "max_cum_pressure_release(test_valves_graph, test_flow_rates) # == 1651"
   ]
  },
  {
   "cell_type": "markdown",
   "metadata": {},
   "source": [
    "### Run on Input Data"
   ]
  },
  {
   "cell_type": "code",
   "execution_count": null,
   "metadata": {},
   "outputs": [],
   "source": []
  },
  {
   "cell_type": "markdown",
   "metadata": {},
   "source": [
    "## Part 2\n",
    "---"
   ]
  },
  {
   "cell_type": "code",
   "execution_count": null,
   "metadata": {},
   "outputs": [],
   "source": []
  },
  {
   "cell_type": "markdown",
   "metadata": {},
   "source": [
    "### Run on Test Data"
   ]
  },
  {
   "cell_type": "code",
   "execution_count": null,
   "metadata": {},
   "outputs": [],
   "source": []
  },
  {
   "cell_type": "markdown",
   "metadata": {},
   "source": [
    "### Run on Input Data"
   ]
  },
  {
   "cell_type": "code",
   "execution_count": null,
   "metadata": {},
   "outputs": [],
   "source": []
  }
 ],
 "metadata": {
  "kernelspec": {
   "display_name": "Python 3.8.8 ('base')",
   "language": "python",
   "name": "python3"
  },
  "language_info": {
   "codemirror_mode": {
    "name": "ipython",
    "version": 3
   },
   "file_extension": ".py",
   "mimetype": "text/x-python",
   "name": "python",
   "nbconvert_exporter": "python",
   "pygments_lexer": "ipython3",
   "version": "3.9.7"
  },
  "vscode": {
   "interpreter": {
    "hash": "f49206fcf84a9145e7e21228cbafa911d1ac18292303b01e865d8267a9c448f7"
   }
  }
 },
 "nbformat": 4,
 "nbformat_minor": 4
}
