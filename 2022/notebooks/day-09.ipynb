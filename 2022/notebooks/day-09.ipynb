{
 "cells": [
  {
   "cell_type": "markdown",
   "metadata": {},
   "source": [
    "# --- Day 9 Rope Bridge ---\n",
    "\n",
    "https://adventofcode.com/2022/day/9"
   ]
  },
  {
   "cell_type": "markdown",
   "metadata": {},
   "source": [
    "## Get Input Data"
   ]
  },
  {
   "cell_type": "code",
   "execution_count": 1,
   "metadata": {},
   "outputs": [
    {
     "data": {
      "text/plain": [
       "[['R', '4'], ['U', '4'], ['L', '3'], ['D', '1'], ['R', '4']]"
      ]
     },
     "execution_count": 1,
     "metadata": {},
     "output_type": "execute_result"
    }
   ],
   "source": [
    "with open('../inputs/test_rope_moves.txt') as f:\n",
    "    test_rope_moves = [line.rstrip().split() for line in f]\n",
    "test_rope_moves[:5]"
   ]
  },
  {
   "cell_type": "code",
   "execution_count": 2,
   "metadata": {},
   "outputs": [
    {
     "data": {
      "text/plain": [
       "[['L', '1'], ['U', '1'], ['L', '1'], ['D', '2'], ['U', '2']]"
      ]
     },
     "execution_count": 2,
     "metadata": {},
     "output_type": "execute_result"
    }
   ],
   "source": [
    "with open('../inputs/rope_moves.txt') as f:\n",
    "    rope_moves = [line.rstrip().split() for line in f]\n",
    "rope_moves[:5]"
   ]
  },
  {
   "cell_type": "markdown",
   "metadata": {},
   "source": [
    "## Part 1\n",
    "---"
   ]
  },
  {
   "cell_type": "code",
   "execution_count": 3,
   "metadata": {},
   "outputs": [],
   "source": [
    "def move_head(pos, dir):\n",
    "    \"\"\"Move one step.\n",
    "    \n",
    "    Parameters\n",
    "    ----------\n",
    "    pos : list\n",
    "        Contains current x and y position.\n",
    "    dir : str\n",
    "        'U', 'D', 'R', or 'L'\n",
    "    \n",
    "    Returns\n",
    "    -------\n",
    "    new_pos : list\n",
    "        Updated position\n",
    "    \"\"\"\n",
    "\n",
    "    deltas = {\n",
    "        'U' : [0, 1],\n",
    "        'D' : [0, -1],\n",
    "        'R' : [1, 0],\n",
    "        'L' : [-1, 0] \n",
    "    }\n",
    "\n",
    "    new_pos = [p + d for p, d in zip(pos, deltas[dir])]\n",
    "    return new_pos"
   ]
  },
  {
   "cell_type": "code",
   "execution_count": 4,
   "metadata": {},
   "outputs": [],
   "source": [
    "def move_tail(head_pos, tail_pos):\n",
    "    \"\"\"Move the tail of the rope.\n",
    "    \n",
    "    Parameters\n",
    "    ----------\n",
    "    head_pos : tuple\n",
    "        x, y position of the head of the rope.\n",
    "    tail_pos : tuple\n",
    "        x, y position of the tail of the rope.\n",
    "    \n",
    "    Returns\n",
    "    -------\n",
    "    new_tail_pos : tuple\n",
    "    \"\"\"\n",
    "\n",
    "    new_tail_pos = tail_pos\n",
    "    x_diff = head_pos[0] - tail_pos[0]\n",
    "    y_diff = head_pos[1] - tail_pos[1]\n",
    "\n",
    "    abs_x_diff = abs(head_pos[0] - tail_pos[0])\n",
    "    abs_y_diff = abs(head_pos[1] - tail_pos[1])\n",
    "\n",
    "    if (abs_x_diff > 1) or (abs_y_diff > 1):\n",
    "        if (abs_x_diff == 0) or (abs_y_diff == 0):\n",
    "            # lateral moves\n",
    "            new_tail_pos = (tail_pos[0] + x_diff/2, tail_pos[1] + y_diff/2)\n",
    "        else: \n",
    "            # diagonal moves\n",
    "            if abs_x_diff > abs_y_diff:\n",
    "                new_tail_pos = (tail_pos[0] + x_diff/2, tail_pos[1] + y_diff)\n",
    "            elif abs_x_diff < abs_y_diff:\n",
    "                new_tail_pos = (tail_pos[0] + x_diff, tail_pos[1] + y_diff/2)\n",
    "            else:  # In part 2, it's possible for knots to be [2, 2] apart\n",
    "                new_tail_pos = (tail_pos[0] + x_diff/2, tail_pos[1] + y_diff/2)\n",
    "\n",
    "    return new_tail_pos"
   ]
  },
  {
   "cell_type": "code",
   "execution_count": 5,
   "metadata": {},
   "outputs": [],
   "source": [
    "def sim_rope_moves(rope_moves):\n",
    "    \"\"\"Simulate rope moves.\n",
    "    \n",
    "    Parameters\n",
    "    ----------\n",
    "    rope_moves : list\n",
    "        Contains direction and number of steps the *head* of the rope moves.\n",
    "\n",
    "    Returns\n",
    "    -------\n",
    "    int\n",
    "        Number of unique locations the tail has visited.\n",
    "    \"\"\"\n",
    "    head_pos = (0, 0)\n",
    "    tail_pos = (0, 0)\n",
    "    tail_visited = [tail_pos]\n",
    "\n",
    "    for move in rope_moves:\n",
    "        for _ in range(int(move[1])):\n",
    "            # move head\n",
    "            head_pos = move_head(head_pos, move[0])\n",
    "            \n",
    "            # move tail (if necessary)\n",
    "            tail_pos = move_tail(head_pos, tail_pos)\n",
    "            tail_visited.append(tail_pos)\n",
    "\n",
    "    return len(set(tail_visited))"
   ]
  },
  {
   "cell_type": "markdown",
   "metadata": {},
   "source": [
    "### Run on Test Data"
   ]
  },
  {
   "cell_type": "code",
   "execution_count": 6,
   "metadata": {},
   "outputs": [
    {
     "data": {
      "text/plain": [
       "True"
      ]
     },
     "execution_count": 6,
     "metadata": {},
     "output_type": "execute_result"
    }
   ],
   "source": [
    "sim_rope_moves(test_rope_moves) == 13"
   ]
  },
  {
   "cell_type": "markdown",
   "metadata": {},
   "source": [
    "### Run on Input Data"
   ]
  },
  {
   "cell_type": "code",
   "execution_count": 7,
   "metadata": {},
   "outputs": [
    {
     "data": {
      "text/plain": [
       "6406"
      ]
     },
     "execution_count": 7,
     "metadata": {},
     "output_type": "execute_result"
    }
   ],
   "source": [
    "sim_rope_moves(rope_moves)"
   ]
  },
  {
   "cell_type": "markdown",
   "metadata": {},
   "source": [
    "## Part 2\n",
    "---"
   ]
  },
  {
   "cell_type": "code",
   "execution_count": 8,
   "metadata": {},
   "outputs": [
    {
     "data": {
      "text/plain": [
       "[['R', '5'], ['U', '8'], ['L', '8'], ['D', '3'], ['R', '17']]"
      ]
     },
     "execution_count": 8,
     "metadata": {},
     "output_type": "execute_result"
    }
   ],
   "source": [
    "with open('../inputs/test_rope_moves2.txt') as f:\n",
    "    test_rope_moves2 = [line.rstrip().split() for line in f]\n",
    "test_rope_moves2[:5]"
   ]
  },
  {
   "cell_type": "code",
   "execution_count": 9,
   "metadata": {},
   "outputs": [],
   "source": [
    "def sim_rope_moves2(rope_moves):\n",
    "    \"\"\"Simulate rope moves.\n",
    "    Rope now consists of 10(!) knots instead of just a head and tail knot.\n",
    "\n",
    "    Parameters\n",
    "    ----------\n",
    "    rope_moves : list\n",
    "        Contains direction and number of steps the *head* of the rope moves.\n",
    "\n",
    "    Returns\n",
    "    -------\n",
    "    int\n",
    "        Number of unique locations the tail has visited.\n",
    "    \"\"\"\n",
    "\n",
    "    rope = [(x, x) for x in [0] * 10]  # Initialize 10 know locations\n",
    "    tail_visited = [rope[-1]]\n",
    "\n",
    "    for move in rope_moves:\n",
    "        for _ in range(int(move[1])):\n",
    "            # move head\n",
    "            rope[0] = move_head(rope[0], move[0])\n",
    "            \n",
    "            for i in range(1, 10):\n",
    "                # move next knot (if necessary)\n",
    "                rope[i] = move_tail(rope[i-1], rope[i])\n",
    "        \n",
    "            tail_visited.append(rope[-1])\n",
    "\n",
    "    return len(set(tail_visited))"
   ]
  },
  {
   "cell_type": "markdown",
   "metadata": {},
   "source": [
    "### Run on Test Data"
   ]
  },
  {
   "cell_type": "code",
   "execution_count": 10,
   "metadata": {},
   "outputs": [
    {
     "name": "stdout",
     "output_type": "stream",
     "text": [
      "True\n",
      "True\n"
     ]
    }
   ],
   "source": [
    "print(sim_rope_moves2(test_rope_moves) == 1)\n",
    "print(sim_rope_moves2(test_rope_moves2) == 36)"
   ]
  },
  {
   "cell_type": "markdown",
   "metadata": {},
   "source": [
    "### Run on Input Data"
   ]
  },
  {
   "cell_type": "code",
   "execution_count": 11,
   "metadata": {},
   "outputs": [
    {
     "data": {
      "text/plain": [
       "2643"
      ]
     },
     "execution_count": 11,
     "metadata": {},
     "output_type": "execute_result"
    }
   ],
   "source": [
    "sim_rope_moves2(rope_moves)"
   ]
  }
 ],
 "metadata": {
  "kernelspec": {
   "display_name": "Python 3.8.8 ('base')",
   "language": "python",
   "name": "python3"
  },
  "language_info": {
   "codemirror_mode": {
    "name": "ipython",
    "version": 3
   },
   "file_extension": ".py",
   "mimetype": "text/x-python",
   "name": "python",
   "nbconvert_exporter": "python",
   "pygments_lexer": "ipython3",
   "version": "3.8.8"
  },
  "vscode": {
   "interpreter": {
    "hash": "f49206fcf84a9145e7e21228cbafa911d1ac18292303b01e865d8267a9c448f7"
   }
  }
 },
 "nbformat": 4,
 "nbformat_minor": 4
}
