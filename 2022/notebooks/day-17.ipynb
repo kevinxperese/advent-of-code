{
 "cells": [
  {
   "cell_type": "markdown",
   "metadata": {},
   "source": [
    "# --- Day 17 Pyroclastic Flow ---\n",
    "\n",
    "https://adventofcode.com/2022/day/17"
   ]
  },
  {
   "cell_type": "markdown",
   "metadata": {},
   "source": [
    "## Get Input Data"
   ]
  },
  {
   "cell_type": "code",
   "execution_count": 1,
   "metadata": {},
   "outputs": [],
   "source": [
    "def parse_input(filename):\n",
    "    \"\"\"Parse input data for puzzle.\n",
    "    \n",
    "    Parameters\n",
    "    ----------\n",
    "    filename : str\n",
    "        The name of the *.txt file in the inputs/ directory.\n",
    "    \n",
    "    Returns\n",
    "    -------\n",
    "    \n",
    "    \"\"\"\n",
    "    with open(f'../inputs/{filename}.txt') as _file:\n",
    "        jet_pattern = [int(c.replace(\"<\", \"-1\").replace(\">\", \"1\")) for c in _file.read()]\n",
    "\n",
    "    return jet_pattern"
   ]
  },
  {
   "cell_type": "markdown",
   "metadata": {},
   "source": [
    "Replace `\">\"`` with `1`` and `\"<\"` with `-1`, as these will represent moves *right* and moves *left*, respectively."
   ]
  },
  {
   "cell_type": "code",
   "execution_count": 12,
   "metadata": {},
   "outputs": [
    {
     "data": {
      "text/plain": [
       "[1,\n",
       " 1,\n",
       " 1,\n",
       " -1,\n",
       " -1,\n",
       " 1,\n",
       " -1,\n",
       " 1,\n",
       " 1,\n",
       " -1,\n",
       " -1,\n",
       " -1,\n",
       " 1,\n",
       " 1,\n",
       " -1,\n",
       " 1,\n",
       " 1,\n",
       " 1,\n",
       " -1,\n",
       " -1,\n",
       " -1,\n",
       " 1,\n",
       " 1,\n",
       " 1,\n",
       " -1,\n",
       " -1,\n",
       " -1,\n",
       " 1,\n",
       " -1,\n",
       " -1,\n",
       " -1,\n",
       " 1,\n",
       " 1,\n",
       " -1,\n",
       " 1,\n",
       " 1,\n",
       " -1,\n",
       " -1,\n",
       " 1,\n",
       " 1]"
      ]
     },
     "execution_count": 12,
     "metadata": {},
     "output_type": "execute_result"
    }
   ],
   "source": [
    "test_jet_pattern = parse_input(\"test_jet_pattern\")\n",
    "test_jet_pattern"
   ]
  },
  {
   "cell_type": "markdown",
   "metadata": {},
   "source": [
    "### Define `rocks` data structure"
   ]
  },
  {
   "cell_type": "code",
   "execution_count": 3,
   "metadata": {},
   "outputs": [],
   "source": [
    "import numpy as np"
   ]
  },
  {
   "cell_type": "code",
   "execution_count": 5,
   "metadata": {},
   "outputs": [
    {
     "data": {
      "text/plain": [
       "array([[1.],\n",
       "       [1.],\n",
       "       [1.],\n",
       "       [1.]])"
      ]
     },
     "execution_count": 5,
     "metadata": {},
     "output_type": "execute_result"
    }
   ],
   "source": [
    "np.ones((4, 1))"
   ]
  },
  {
   "cell_type": "code",
   "execution_count": 21,
   "metadata": {},
   "outputs": [],
   "source": [
    "rocks = {\n",
    "    0 : {\n",
    "        \"max_left\" : 0,\n",
    "        \"max_right\" : 0,\n",
    "        \"struct\" : np.ones((1, 4))\n",
    "    },\n",
    "    1: {\n",
    "        \"max_left\" : 0,\n",
    "        \"max_right\" : 0,\n",
    "        \"struct\" : np.array(((0, 1, 0), (1, 1, 1), (0, 1, 0)))\n",
    "    },\n",
    "    2: {\n",
    "        \"max_left\" : 0,\n",
    "        \"max_right\" : 0,\n",
    "        \"struct\" : np.array(((0, 0, 1), (0, 0, 1), (1, 1, 1)))\n",
    "    },\n",
    "    3: {\n",
    "        \"max_left\" : 0,\n",
    "        \"max_right\" : 0,\n",
    "        \"struct\" : np.ones((4, 1))\n",
    "    },\n",
    "    4: {\n",
    "        \"max_left\" : 0,\n",
    "        \"max_right\" : 0,\n",
    "        \"struct\" : np.ones((2, 2))\n",
    "    },\n",
    "}"
   ]
  },
  {
   "cell_type": "code",
   "execution_count": 29,
   "metadata": {},
   "outputs": [
    {
     "data": {
      "text/plain": [
       "array([1., 1., 1., 1.])"
      ]
     },
     "execution_count": 29,
     "metadata": {},
     "output_type": "execute_result"
    }
   ],
   "source": [
    "floor = np.ones((1, 7))\n",
    "space = np.zeros((3, 7))\n",
    "chamber = np.concatenate((floor, space))\n",
    "chamber[0, 3:]"
   ]
  },
  {
   "cell_type": "markdown",
   "metadata": {},
   "source": [
    "## Part 1\n",
    "---"
   ]
  },
  {
   "cell_type": "code",
   "execution_count": null,
   "metadata": {},
   "outputs": [],
   "source": [
    "def solve_part1(rocks, jet_pattern, num_rocks=2022):\n",
    "    floor = np.ones((1, 7))\n",
    "    space = np.zeros((3, 7))\n",
    "    chamber = np.concatenate(floor, space)\n",
    "\n",
    "    jet_counter = 0\n",
    "\n",
    "    # Start droppin' rocks\n",
    "    for i in range(num_rocks):\n",
    "        i_rock = i % len(rocks)\n",
    " \n",
    "        rock = rocks[i_rock]\n",
    "        rock_height = rock[\"struct\"].shape[0]\n",
    "        rock_width = rock[\"struct\"].shape[1]\n",
    "        rock_space = np.zeros((rock_height, 7))\n",
    "\n",
    "        chamber = np.concatenate((chamber, space, rock_space))\n",
    "\n",
    "        x, y = 2, chamber.shape[1] - rock_space.shape[1]\n",
    "\n",
    "        # Start applying jets\n",
    "        while True:\n",
    "            i_jet = jet_counter % len(jet_pattern)\n",
    "\n",
    "            # Apply x shift (if any)\n",
    "            x += jet_pattern[i_jet]\n",
    "            if chamber[x:rock_width, y:rock_height] + rock[\"struct\"] > 4:\n",
    "                # Bummed into an already fallen rock, so undo previous x shift\n",
    "                pass\n",
    " \n",
    "            # Apply y shift (until hit floor/other rocks)\n",
    "            y -= 1\n",
    "            if chamber[x:rock_width, y:rock_height] + rock[\"struct\"] > 4:\n",
    "                # We've hit the floor/some portion of an already fallen rock\n",
    "                # So undo the y shift and add rock to the chamber\n",
    "\n",
    "                # then truncate the height of the chamber\n",
    "\n",
    "                # then break ot of while loop, which will initiate a new rock drop\n",
    "                break\n",
    "\n",
    "            jet_counter += 1\n",
    "\n",
    "    chamber_height = chamber.any(axis=1).sum() - 1  # subtract 1 for the floor! \n",
    "\n",
    "    return chamber_height"
   ]
  },
  {
   "cell_type": "markdown",
   "metadata": {},
   "source": [
    "### Run on Test Data"
   ]
  },
  {
   "cell_type": "code",
   "execution_count": null,
   "metadata": {},
   "outputs": [],
   "source": [
    "solve_part1(rocks, parse_input(\"test_jet_pattern\")) == 3068"
   ]
  },
  {
   "cell_type": "markdown",
   "metadata": {},
   "source": [
    "### Run on Input Data"
   ]
  },
  {
   "cell_type": "code",
   "execution_count": null,
   "metadata": {},
   "outputs": [],
   "source": [
    "solve_part1(rocks, parse_input(\"jet_pattern\"))"
   ]
  },
  {
   "cell_type": "markdown",
   "metadata": {},
   "source": [
    "## Part 2\n",
    "---"
   ]
  },
  {
   "cell_type": "code",
   "execution_count": null,
   "metadata": {},
   "outputs": [],
   "source": []
  },
  {
   "cell_type": "markdown",
   "metadata": {},
   "source": [
    "### Run on Test Data"
   ]
  },
  {
   "cell_type": "code",
   "execution_count": null,
   "metadata": {},
   "outputs": [],
   "source": []
  },
  {
   "cell_type": "markdown",
   "metadata": {},
   "source": [
    "### Run on Input Data"
   ]
  },
  {
   "cell_type": "code",
   "execution_count": null,
   "metadata": {},
   "outputs": [],
   "source": []
  }
 ],
 "metadata": {
  "kernelspec": {
   "display_name": "Python 3.8.8 ('base')",
   "language": "python",
   "name": "python3"
  },
  "language_info": {
   "codemirror_mode": {
    "name": "ipython",
    "version": 3
   },
   "file_extension": ".py",
   "mimetype": "text/x-python",
   "name": "python",
   "nbconvert_exporter": "python",
   "pygments_lexer": "ipython3",
   "version": "3.9.13"
  },
  "vscode": {
   "interpreter": {
    "hash": "f49206fcf84a9145e7e21228cbafa911d1ac18292303b01e865d8267a9c448f7"
   }
  }
 },
 "nbformat": 4,
 "nbformat_minor": 4
}
