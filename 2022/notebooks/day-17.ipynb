{
 "cells": [
  {
   "cell_type": "markdown",
   "metadata": {},
   "source": [
    "# --- Day 17 Pyroclastic Flow ---\n",
    "\n",
    "https://adventofcode.com/2022/day/17"
   ]
  },
  {
   "cell_type": "markdown",
   "metadata": {},
   "source": [
    "## Get Input Data"
   ]
  },
  {
   "cell_type": "code",
   "execution_count": 1,
   "metadata": {},
   "outputs": [],
   "source": [
    "def parse_input(filename):\n",
    "    \"\"\"Parse input data for puzzle.\n",
    "    \n",
    "    Parameters\n",
    "    ----------\n",
    "    filename : str\n",
    "        The name of the *.txt file in the inputs/ directory.\n",
    "    \n",
    "    Returns\n",
    "    -------\n",
    "    \n",
    "    \"\"\"\n",
    "    with open(f'../inputs/{filename}.txt') as _file:\n",
    "        jet_pattern = [int(c.replace(\"<\", \"-1\").replace(\">\", \"1\")) for c in _file.read()]\n",
    "\n",
    "    return jet_pattern"
   ]
  },
  {
   "cell_type": "markdown",
   "metadata": {},
   "source": [
    "Replace `\">\"` with `1` and `\"<\"` with `-1`, as these will represent moves *right* and moves *left*, respectively."
   ]
  },
  {
   "cell_type": "code",
   "execution_count": 2,
   "metadata": {},
   "outputs": [],
   "source": [
    "test_jet_pattern = parse_input(\"test_jet_pattern\")\n",
    "# test_jet_pattern"
   ]
  },
  {
   "cell_type": "markdown",
   "metadata": {},
   "source": [
    "### Define `rocks` data structure"
   ]
  },
  {
   "cell_type": "code",
   "execution_count": 3,
   "metadata": {},
   "outputs": [],
   "source": [
    "rocks = [\n",
    "    [[2, 0], [3, 0], [4, 0], [5, 0]],\n",
    "    [[2, 1], [3, 1], [4, 1], [3, 2], [3, 0]],\n",
    "    [[2, 0], [3, 0], [4, 0], [4, 1], [4, 2]],\n",
    "    [[2, 0], [2, 1], [2, 2], [2, 3]],\n",
    "    [[2, 0], [3, 0], [2, 1], [3, 1]]\n",
    "]\n",
    "\n",
    "rock_widths = [4, 3, 3, 1, 2]"
   ]
  },
  {
   "cell_type": "markdown",
   "metadata": {},
   "source": [
    "## Part 1\n",
    "---"
   ]
  },
  {
   "cell_type": "code",
   "execution_count": 4,
   "metadata": {},
   "outputs": [],
   "source": [
    "def solve_part1(rocks, rock_widths, jet_pattern, num_rocks=2022):\n",
    "    \n",
    "    tower = set([(x, 0) for x in range(7)])  # Start with the floor in the tower\n",
    "    tower_height = 0\n",
    "    jet_counter = 0\n",
    "\n",
    "    # Start droppin' rocks\n",
    "    for i in range(num_rocks):\n",
    "\n",
    "        i_rock = i % len(rocks)\n",
    "        rock = rocks[i_rock]\n",
    "        rock_width = rock_widths[i_rock]\n",
    "        \n",
    "        x, y = 2, tower_height + 4\n",
    "\n",
    "        # Update y positions for all the \"pepples\" in the rock\n",
    "        rock = [[p[0], p[1] + y] for p in rock]\n",
    "\n",
    "        falling = True\n",
    "\n",
    "        # Start applying jets\n",
    "        while falling:\n",
    "            i_jet = jet_counter % len(jet_pattern)\n",
    "            jet = jet_pattern[i_jet]  # +1 or -1\n",
    "            # print(rock, i_jet, x, jet, i_rock) \n",
    "\n",
    "            # Apply lateral shift (if any)\n",
    "            if 0 <= (x + jet) <= (7 - rock_width):\n",
    "                rock = [[p[0] + jet, p[1]] for p in rock]\n",
    "                x += jet\n",
    "                \n",
    "                if sum([tuple(p) in tower for p in rock]):\n",
    "                    # Bummed into an already fallen rock, so undo previous lateral shift\n",
    "                    rock = [[p[0] - jet, p[1]] for p in rock]\n",
    "                    x -= jet\n",
    "\n",
    "            jet_counter += 1\n",
    "\n",
    "            # Apply vertical drop (until hit floor/other rocks)\n",
    "            rock = [[p[0], p[1] - 1] for p in rock]\n",
    "            \n",
    "            if sum([tuple(p) in tower for p in rock]):\n",
    "                # We've hit the floor/some portion of an already fallen rock, \n",
    "                # So undo the vertical drop... \n",
    "                rock = [[p[0], p[1] + 1] for p in rock]\n",
    "\n",
    "                # ...then add the rock to the tower...\n",
    "                for p in rock:\n",
    "                    tower.add(tuple(p))\n",
    "                                \n",
    "                # ...then calc current tower height...\n",
    "                rock_height = max([p[1] for p in rock])\n",
    "                tower_height = max(tower_height, rock_height)\n",
    "\n",
    "                # ...then break ot of while loop, which will initiate a new rock drop\n",
    "                falling = False\n",
    "\n",
    "    return tower_height"
   ]
  },
  {
   "cell_type": "markdown",
   "metadata": {},
   "source": [
    "### Run on Test Data"
   ]
  },
  {
   "cell_type": "code",
   "execution_count": 5,
   "metadata": {},
   "outputs": [],
   "source": [
    "first_ten = [1, 4, 6, 7, 9, 10, 13, 15, 17, 17]"
   ]
  },
  {
   "cell_type": "code",
   "execution_count": 6,
   "metadata": {},
   "outputs": [
    {
     "data": {
      "text/plain": [
       "[True, True, True, True, True, True, True, True, True, True]"
      ]
     },
     "execution_count": 6,
     "metadata": {},
     "output_type": "execute_result"
    }
   ],
   "source": [
    "[solve_part1(rocks, rock_widths, parse_input(\"test_jet_pattern\"), num_rocks=x+1) == first_ten[x] for x in range(10)]"
   ]
  },
  {
   "cell_type": "markdown",
   "metadata": {},
   "source": [
    "I turned to [this](https://old.reddit.com/r/adventofcode/comments/zo81kq/2022_day_17_part_1_heights_of_the_tower/) for some debugging help..."
   ]
  },
  {
   "cell_type": "code",
   "execution_count": 7,
   "metadata": {},
   "outputs": [
    {
     "data": {
      "text/plain": [
       "True"
      ]
     },
     "execution_count": 7,
     "metadata": {},
     "output_type": "execute_result"
    }
   ],
   "source": [
    "solve_part1(rocks, rock_widths, parse_input(\"test_jet_pattern\")) == 3068"
   ]
  },
  {
   "cell_type": "markdown",
   "metadata": {},
   "source": [
    "### Run on Input Data"
   ]
  },
  {
   "cell_type": "code",
   "execution_count": 8,
   "metadata": {},
   "outputs": [
    {
     "data": {
      "text/plain": [
       "3188"
      ]
     },
     "execution_count": 8,
     "metadata": {},
     "output_type": "execute_result"
    }
   ],
   "source": [
    "solve_part1(rocks, rock_widths, parse_input(\"jet_pattern\"))"
   ]
  },
  {
   "cell_type": "markdown",
   "metadata": {},
   "source": [
    "## Part 2\n",
    "---"
   ]
  },
  {
   "cell_type": "code",
   "execution_count": 9,
   "metadata": {},
   "outputs": [],
   "source": [
    "def solve_part2(rocks, rock_widths, jet_pattern, num_rocks=2022):\n",
    "    heights = [0]\n",
    "    height_diffs = [0]\n",
    "    tower = set([(x, 0) for x in range(7)])  # Start with the floor in the tower\n",
    "    tower_height = 0\n",
    "    jet_counter = 0\n",
    "\n",
    "    # Start droppin' rocks\n",
    "    for i in range(num_rocks):\n",
    "        \n",
    "        i_rock = i % len(rocks)\n",
    "        rock = rocks[i_rock]\n",
    "        rock_width = rock_widths[i_rock]\n",
    "\n",
    "        x, y = 2, tower_height + 4\n",
    "\n",
    "        # Update y positions for all the \"pepples\" in the rock\n",
    "        rock = [[p[0], p[1] + y] for p in rock]\n",
    "\n",
    "        falling = True\n",
    "\n",
    "        # Start applying jets\n",
    "        while falling:\n",
    "            i_jet = jet_counter % len(jet_pattern)\n",
    "            jet = jet_pattern[i_jet]  # +1 or -1\n",
    "            # print(rock, i_jet, x, jet, i_rock) \n",
    "\n",
    "            # Apply lateral shift (if any)\n",
    "            if 0 <= (x + jet) <= (7 - rock_width):\n",
    "                rock = [[p[0] + jet, p[1]] for p in rock]\n",
    "                x += jet\n",
    "\n",
    "                if sum([tuple(p) in tower for p in rock]):\n",
    "                    # Bummed into an already fallen rock, so undo previous lateral shift\n",
    "                    rock = [[p[0] - jet, p[1]] for p in rock]\n",
    "                    x -= jet\n",
    "\n",
    "            jet_counter += 1\n",
    "\n",
    "            # Apply vertical drop (until hit floor/other rocks)\n",
    "            rock = [[p[0], p[1] - 1] for p in rock]\n",
    "\n",
    "            if sum([tuple(p) in tower for p in rock]):\n",
    "                # We've hit the floor/some portion of an already fallen rock, \n",
    "                # So undo the vertical drop... \n",
    "                rock = [[p[0], p[1] + 1] for p in rock]\n",
    "\n",
    "                # ...then add the rock to the tower...\n",
    "                for p in rock:\n",
    "                    tower.add(tuple(p))\n",
    "\n",
    "                # ...then calc current tower height...\n",
    "                rock_height = max([p[1] for p in rock])\n",
    "                tower_height = max(tower_height, rock_height)\n",
    "\n",
    "                # ...then break ot of while loop, which will initiate a new rock drop\n",
    "                falling = False\n",
    "\n",
    "                heights.append(tower_height)\n",
    "                height_diff = tower_height - heights[-2]\n",
    "                height_diffs.append(height_diff)\n",
    "\n",
    "    return height_diffs"
   ]
  },
  {
   "cell_type": "code",
   "execution_count": 10,
   "metadata": {},
   "outputs": [
    {
     "data": {
      "text/plain": [
       "[<matplotlib.lines.Line2D at 0x1107ced60>]"
      ]
     },
     "execution_count": 10,
     "metadata": {},
     "output_type": "execute_result"
    },
    {
     "data": {
      "image/png": "[encoded data removed]",
      "text/plain": [
       "<Figure size 640x480 with 1 Axes>"
      ]
     },
     "metadata": {},
     "output_type": "display_data"
    }
   ],
   "source": [
    "import matplotlib.pyplot as plt\n",
    "\n",
    "height_diffs = solve_part2(rocks, rock_widths, parse_input(\"test_jet_pattern\"))\n",
    "plt.plot(height_diffs[:200])"
   ]
  },
  {
   "cell_type": "markdown",
   "metadata": {},
   "source": [
    "Yup. There's a cycle/pattern!"
   ]
  },
  {
   "cell_type": "code",
   "execution_count": 11,
   "metadata": {},
   "outputs": [],
   "source": [
    "import re"
   ]
  },
  {
   "cell_type": "code",
   "execution_count": 12,
   "metadata": {},
   "outputs": [],
   "source": [
    "def really_solve_part2(height_diffs):\n",
    "    num_rocks = 1e12\n",
    "    height_diffs_str = \"\".join(map(str, height_diffs))\n",
    "\n",
    "    regex = re.compile(r\"(.+)(\\1)+\")  # Finds a duplicate in the string!\n",
    "    matches = regex.findall(height_diffs_str)\n",
    "\n",
    "    # Take the duplicate that is the longest length\n",
    "    max_cycle_length = 0\n",
    "    for match in matches:\n",
    "        if len(match[0]) > max_cycle_length:\n",
    "            cycle = match[0]\n",
    "            max_cycle_length = len(cycle)\n",
    "\n",
    "    # print(cycle)\n",
    "\n",
    "    # Calc the sums of the height diffs and multiply where needed to simulatin 1 trillion rocks!\n",
    "    cycle_start = height_diffs_str.index(cycle)\n",
    "    first_sum = sum(height_diffs[:cycle_start])\n",
    "    cycle_sum = sum(height_diffs[cycle_start:cycle_start+max_cycle_length])\n",
    "    num_cycles = int((num_rocks - cycle_start) // max_cycle_length)\n",
    "    remainder = int((num_rocks - cycle_start) % max_cycle_length)\n",
    "    last_sum = sum(height_diffs[cycle_start:cycle_start+remainder+1])\n",
    "\n",
    "    return int(first_sum + cycle_sum * num_cycles + last_sum)\n"
   ]
  },
  {
   "cell_type": "markdown",
   "metadata": {},
   "source": [
    "### Run on Test Data"
   ]
  },
  {
   "cell_type": "code",
   "execution_count": 13,
   "metadata": {},
   "outputs": [
    {
     "data": {
      "text/plain": [
       "True"
      ]
     },
     "execution_count": 13,
     "metadata": {},
     "output_type": "execute_result"
    }
   ],
   "source": [
    "really_solve_part2(solve_part2(rocks, rock_widths, parse_input(\"test_jet_pattern\"))) == 1514285714288"
   ]
  },
  {
   "cell_type": "markdown",
   "metadata": {},
   "source": [
    "### Run on Input Data"
   ]
  },
  {
   "cell_type": "code",
   "execution_count": 14,
   "metadata": {},
   "outputs": [
    {
     "data": {
      "text/plain": [
       "1200000000014"
      ]
     },
     "execution_count": 14,
     "metadata": {},
     "output_type": "execute_result"
    }
   ],
   "source": [
    "really_solve_part2(solve_part2(rocks, rock_widths, parse_input(\"jet_pattern\")))"
   ]
  },
  {
   "cell_type": "markdown",
   "metadata": {},
   "source": [
    "Need to increase the number of rocks initially simulated to find a larger cycle..."
   ]
  },
  {
   "cell_type": "code",
   "execution_count": 15,
   "metadata": {},
   "outputs": [
    {
     "data": {
      "text/plain": [
       "1591977077342"
      ]
     },
     "execution_count": 15,
     "metadata": {},
     "output_type": "execute_result"
    }
   ],
   "source": [
    "really_solve_part2(solve_part2(rocks, rock_widths, parse_input(\"jet_pattern\"), num_rocks=40000))"
   ]
  }
 ],
 "metadata": {
  "kernelspec": {
   "display_name": "Python 3.8.8 ('base')",
   "language": "python",
   "name": "python3"
  },
  "language_info": {
   "codemirror_mode": {
    "name": "ipython",
    "version": 3
   },
   "file_extension": ".py",
   "mimetype": "text/x-python",
   "name": "python",
   "nbconvert_exporter": "python",
   "pygments_lexer": "ipython3",
   "version": "3.9.13"
  },
  "vscode": {
   "interpreter": {
    "hash": "f49206fcf84a9145e7e21228cbafa911d1ac18292303b01e865d8267a9c448f7"
   }
  }
 },
 "nbformat": 4,
 "nbformat_minor": 4
}
