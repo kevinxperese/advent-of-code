{
 "cells": [
  {
   "cell_type": "markdown",
   "metadata": {},
   "source": [
    "# --- Day 1: Calorie Counting ---\n",
    "\n",
    "https://adventofcode.com/2022/day/1"
   ]
  },
  {
   "cell_type": "markdown",
   "metadata": {},
   "source": [
    "## Part 1\n",
    "---"
   ]
  },
  {
   "cell_type": "code",
   "execution_count": 1,
   "metadata": {},
   "outputs": [],
   "source": [
    "def calc_max_calories(filename):\n",
    "    \"\"\"Calculate the maximum number of calories per elf.\n",
    "\n",
    "    Parameters\n",
    "    ----------\n",
    "    filename : str\n",
    "        File containing calorie values for each elf's snack items.\n",
    "        Each elf's snack list is separated by a blank line.\n",
    "\n",
    "    Returns\n",
    "    -------\n",
    "    int\n",
    "    \"\"\"\n",
    "\n",
    "    calories_list = [0]  # Start off with the first elf's total calories at 0\n",
    "    elf_ID = 0  # Use as an index into calories_list\n",
    "\n",
    "    with open(f'../inputs/{filename}.txt') as calories_file:\n",
    "        for line in calories_file:\n",
    "            if line == '\\n':\n",
    "                elf_ID += 1  # Move on to next elf\n",
    "                calories_list.append(0)  # Next elf's total calories start at 0\n",
    "            else:\n",
    "                calories_list[elf_ID] += int(line.rstrip())\n",
    "\n",
    "    return max(calories_list)"
   ]
  },
  {
   "cell_type": "markdown",
   "metadata": {},
   "source": [
    "### Run on Test Data"
   ]
  },
  {
   "cell_type": "code",
   "execution_count": 2,
   "metadata": {},
   "outputs": [
    {
     "data": {
      "text/plain": [
       "True"
      ]
     },
     "execution_count": 2,
     "metadata": {},
     "output_type": "execute_result"
    }
   ],
   "source": [
    "calc_max_calories('test_calories') == 24000"
   ]
  },
  {
   "cell_type": "markdown",
   "metadata": {},
   "source": [
    "### Run on Input Data"
   ]
  },
  {
   "cell_type": "code",
   "execution_count": 3,
   "metadata": {},
   "outputs": [
    {
     "data": {
      "text/plain": [
       "72602"
      ]
     },
     "execution_count": 3,
     "metadata": {},
     "output_type": "execute_result"
    }
   ],
   "source": [
    "calc_max_calories('calories')"
   ]
  },
  {
   "cell_type": "markdown",
   "metadata": {},
   "source": [
    "## Part 2\n",
    "---"
   ]
  },
  {
   "cell_type": "code",
   "execution_count": 4,
   "metadata": {},
   "outputs": [],
   "source": [
    "def calc_sum_highest_3_calories(filename):\n",
    "    \"\"\"Calculate the sum of calories among the elves with the highest 3 total calories.\n",
    "\n",
    "    Parameters\n",
    "    ----------\n",
    "    filename : str\n",
    "        File containing calorie values for each elf's snack items.\n",
    "        Each elf's snack list is separated by a blank line.\n",
    "\n",
    "    Returns\n",
    "    -------\n",
    "    int\n",
    "    \"\"\"\n",
    "\n",
    "    calories_list = [0]  # Start off with the first elf's total calories at 0\n",
    "    elf_ID = 0  # Use as an index into calories_list\n",
    "\n",
    "    with open(f'../inputs/{filename}.txt') as calories_file:\n",
    "        for line in calories_file:\n",
    "            if line == '\\n':\n",
    "                elf_ID += 1  # Move on to next elf\n",
    "                calories_list.append(0)  # Next elf's total calories start at 0\n",
    "            else:\n",
    "                calories_list[elf_ID] += int(line.rstrip())\n",
    "\n",
    "    highest_3 = sorted(calories_list)[-3:]\n",
    "\n",
    "    return sum(highest_3)"
   ]
  },
  {
   "cell_type": "markdown",
   "metadata": {},
   "source": [
    "### Run on Test Data"
   ]
  },
  {
   "cell_type": "code",
   "execution_count": 5,
   "metadata": {},
   "outputs": [
    {
     "data": {
      "text/plain": [
       "True"
      ]
     },
     "execution_count": 5,
     "metadata": {},
     "output_type": "execute_result"
    }
   ],
   "source": [
    "calc_sum_highest_3_calories('test_calories') == 45000"
   ]
  },
  {
   "cell_type": "markdown",
   "metadata": {},
   "source": [
    "### Run on Input Data"
   ]
  },
  {
   "cell_type": "code",
   "execution_count": 6,
   "metadata": {},
   "outputs": [
    {
     "data": {
      "text/plain": [
       "207410"
      ]
     },
     "execution_count": 6,
     "metadata": {},
     "output_type": "execute_result"
    }
   ],
   "source": [
    "calc_sum_highest_3_calories('calories')"
   ]
  }
 ],
 "metadata": {
  "kernelspec": {
   "display_name": "Python 3.8.8 ('base')",
   "language": "python",
   "name": "python3"
  },
  "language_info": {
   "codemirror_mode": {
    "name": "ipython",
    "version": 3
   },
   "file_extension": ".py",
   "mimetype": "text/x-python",
   "name": "python",
   "nbconvert_exporter": "python",
   "pygments_lexer": "ipython3",
   "version": "3.8.8"
  },
  "vscode": {
   "interpreter": {
    "hash": "f49206fcf84a9145e7e21228cbafa911d1ac18292303b01e865d8267a9c448f7"
   }
  }
 },
 "nbformat": 4,
 "nbformat_minor": 4
}
