{
 "cells": [
  {
   "attachments": {},
   "cell_type": "markdown",
   "metadata": {},
   "source": [
    "# --- Day 15 Beacon Exclusion Zone ---\n",
    "\n",
    "https://adventofcode.com/2022/day/15"
   ]
  },
  {
   "attachments": {},
   "cell_type": "markdown",
   "metadata": {},
   "source": [
    "## Get Input Data\n",
    "\n",
    "Skip this step...  \n",
    "Going to solve while reading & parsing the input data."
   ]
  },
  {
   "cell_type": "markdown",
   "metadata": {},
   "source": [
    "## Part 1\n",
    "---"
   ]
  },
  {
   "cell_type": "code",
   "execution_count": 1,
   "metadata": {},
   "outputs": [],
   "source": [
    "import re"
   ]
  },
  {
   "cell_type": "code",
   "execution_count": 2,
   "metadata": {},
   "outputs": [],
   "source": [
    "def calc_man_dist(p1, p2):\n",
    "    return abs(p1[0] - p2[0]) + abs(p1[1] - p2[1])"
   ]
  },
  {
   "cell_type": "code",
   "execution_count": 3,
   "metadata": {},
   "outputs": [],
   "source": [
    "def solve1(filename, y_line=None):\n",
    "\n",
    "    y_set = set()\n",
    "\n",
    "    with open(f'../inputs/{filename}.txt') as file:\n",
    "        for line in file:\n",
    "            coords = [int(x) for x in re.findall(r\"-?\\d+\", line)]  # Doh! Forgot to include \"-?\" in my regex... that was a hard bug to find!\n",
    "            sensor = (coords[0], coords[1])  # (x, y) for sensors\n",
    "            beacon = (coords[2], coords[3])  # (x, y) for beacons\n",
    "            man_dist = calc_man_dist(sensor, beacon)\n",
    "\n",
    "            if (sensor[1] - man_dist <= y_line <= sensor[1] + man_dist):\n",
    "                y_diff = abs(sensor[1] - y_line)\n",
    "                x_diff = abs(man_dist - y_diff)\n",
    "\n",
    "                # Add range of x values in \"exclusion zone\" to the y_set\n",
    "                y_set.update(range(sensor[0]-x_diff, sensor[0]+x_diff+1))\n",
    "\n",
    "                # Remove x values for beacons\n",
    "                if beacon[1] == y_line:\n",
    "                    y_set.remove(beacon[0])\n",
    "\n",
    "    return len(y_set)"
   ]
  },
  {
   "cell_type": "markdown",
   "metadata": {},
   "source": [
    "### Run on Test Data"
   ]
  },
  {
   "cell_type": "code",
   "execution_count": 4,
   "metadata": {},
   "outputs": [
    {
     "data": {
      "text/plain": [
       "True"
      ]
     },
     "execution_count": 4,
     "metadata": {},
     "output_type": "execute_result"
    }
   ],
   "source": [
    "solve1('test_sensors_beacons', y_line=10) == 26"
   ]
  },
  {
   "cell_type": "markdown",
   "metadata": {},
   "source": [
    "### Run on Input Data"
   ]
  },
  {
   "cell_type": "code",
   "execution_count": 5,
   "metadata": {},
   "outputs": [
    {
     "name": "stdout",
     "output_type": "stream",
     "text": [
      "Wall time: 1.41 s\n"
     ]
    },
    {
     "data": {
      "text/plain": [
       "5607466"
      ]
     },
     "execution_count": 5,
     "metadata": {},
     "output_type": "execute_result"
    }
   ],
   "source": [
    "%%time\n",
    "solve1('sensors_beacons', y_line=2_000_000)"
   ]
  },
  {
   "cell_type": "markdown",
   "metadata": {},
   "source": [
    "## Part 2\n",
    "---"
   ]
  },
  {
   "cell_type": "code",
   "execution_count": 6,
   "metadata": {},
   "outputs": [],
   "source": [
    "from collections import namedtuple"
   ]
  },
  {
   "cell_type": "code",
   "execution_count": 7,
   "metadata": {},
   "outputs": [],
   "source": [
    "def get_data(filename):\n",
    "    \"\"\"Get the data for Part 2.\n",
    "\n",
    "    Parameters\n",
    "    ----------\n",
    "    filename : str\n",
    "        Name of file with input data.\n",
    "\n",
    "    Returns\n",
    "    -------\n",
    "    list\n",
    "        List of sensor info -- location and Manhattan distance of range.\n",
    "    \"\"\"\n",
    "\n",
    "    Sensor = namedtuple('Sensor', ['loc', 'man_dist'])\n",
    "    sensors = []\n",
    "\n",
    "    with open(f'../inputs/{filename}.txt') as file:\n",
    "        for line in file:\n",
    "            coords = [int(x) for x in re.findall(r\"-?\\d+\", line)]\n",
    "            sensor_loc = (coords[0], coords[1])  # (x, y) for sensors\n",
    "            beacon_loc = (coords[2], coords[3])  # (x, y) for beacons\n",
    "            man_dist = calc_man_dist(sensor_loc, beacon_loc)\n",
    "            \n",
    "            sensors.append(Sensor(sensor_loc, man_dist))\n",
    "\n",
    "    return sensors"
   ]
  },
  {
   "cell_type": "code",
   "execution_count": 8,
   "metadata": {},
   "outputs": [
    {
     "data": {
      "text/plain": [
       "[Sensor(loc=(2, 18), man_dist=7),\n",
       " Sensor(loc=(9, 16), man_dist=1),\n",
       " Sensor(loc=(13, 2), man_dist=3),\n",
       " Sensor(loc=(12, 14), man_dist=4),\n",
       " Sensor(loc=(10, 20), man_dist=4),\n",
       " Sensor(loc=(14, 17), man_dist=5),\n",
       " Sensor(loc=(8, 7), man_dist=9),\n",
       " Sensor(loc=(2, 0), man_dist=10),\n",
       " Sensor(loc=(0, 11), man_dist=3),\n",
       " Sensor(loc=(20, 14), man_dist=8),\n",
       " Sensor(loc=(17, 20), man_dist=6),\n",
       " Sensor(loc=(16, 7), man_dist=5),\n",
       " Sensor(loc=(14, 3), man_dist=1),\n",
       " Sensor(loc=(20, 1), man_dist=7)]"
      ]
     },
     "execution_count": 8,
     "metadata": {},
     "output_type": "execute_result"
    }
   ],
   "source": [
    "get_data('test_sensors_beacons')"
   ]
  },
  {
   "cell_type": "code",
   "execution_count": 9,
   "metadata": {},
   "outputs": [],
   "source": [
    "def get_x_range(sensor, y_line, _range):\n",
    "    \"\"\"Get range of x values in the sesnor's _range, given the y_line we're at.\n",
    "\n",
    "    Parameters\n",
    "    ----------\n",
    "    sensor : Sensor (namedtuple)\n",
    "        Contains info on sensor location and Manhattan distance\n",
    "    y_line : int\n",
    "        Coordinate of line along the y axis to search.\n",
    "    _range : int\n",
    "        Upper end of range of x and y dimensions to search. (Test data = 20, actuall puzzle is 4_000_000)\n",
    "\n",
    "    Returns\n",
    "    -------\n",
    "    tuple\n",
    "        Min and max of x range.\n",
    "    \"\"\"\n",
    "    \n",
    "    y_diff = abs(sensor.loc[1] - y_line)\n",
    "    x_diff = abs(sensor.man_dist - y_diff)\n",
    "\n",
    "    x_range = (max(0, sensor.loc[0] - x_diff), min(_range, sensor.loc[0] + x_diff))\n",
    "    return x_range"
   ]
  },
  {
   "cell_type": "code",
   "execution_count": 10,
   "metadata": {},
   "outputs": [],
   "source": [
    "def solve2(sensors, _range):\n",
    "    \"\"\"Solve Part 2\n",
    "\n",
    "    Find the *only* coordinate in the (0, _range) range (for both x and y) that \n",
    "    *CANNOT* have a beacon.\n",
    "\n",
    "    Parameters\n",
    "    ----------\n",
    "    sensors : list of Sensors (namedtuples)\n",
    "    _range : int\n",
    "        The upper end of the range over which to search for the missing beacon.\n",
    "        (The lower end is 0)\n",
    "\n",
    "    Returns\n",
    "    -------\n",
    "    int\n",
    "        4_000_000 * the x coordinate + the y coordinate of the missing beacon.\n",
    "    \"\"\"\n",
    "\n",
    "    for y_line in range(0, _range + 1):\n",
    "        # list of ranges each sensor covers for each y_line\n",
    "        x_ranges = []\n",
    "\n",
    "        # Go over each sensor (there are 27 in the input data)\n",
    "        # If the y_line falls within the sensor's range, add the range to the list of ranges\n",
    "        for sensor in sensors:\n",
    "            if (sensor.loc[1] - sensor.man_dist <= y_line <= sensor.loc[1] + sensor.man_dist):\n",
    "                x_ranges.append(get_x_range(sensor, y_line, _range))\n",
    "\n",
    "        # Sort the ranges (which will sort on the first element of the x_range tuple)\n",
    "        x_ranges = sorted(x_ranges)\n",
    "        # Create an index var because some ranges will be within the previous range\n",
    "        x_index = 0\n",
    "\n",
    "        for i in range(len(x_ranges)-1):\n",
    "            # Update the x_index value\n",
    "            x_index = max(x_index, x_ranges[i][1])\n",
    "            # If there's a gap of 2 between the x_index and the min of the next range, then that's\n",
    "            # the x coordinate of the missing beacon. The y coordinate is the y_line value.\n",
    "            if x_index + 2 == x_ranges[i+1][0]:\n",
    "                x = x_index + 1\n",
    "                return x * 4_000_000 + y_line"
   ]
  },
  {
   "cell_type": "markdown",
   "metadata": {},
   "source": [
    "### Run on Test Data"
   ]
  },
  {
   "cell_type": "code",
   "execution_count": 11,
   "metadata": {},
   "outputs": [
    {
     "data": {
      "text/plain": [
       "True"
      ]
     },
     "execution_count": 11,
     "metadata": {},
     "output_type": "execute_result"
    }
   ],
   "source": [
    "solve2(get_data('test_sensors_beacons'), 20) == 56000011"
   ]
  },
  {
   "cell_type": "markdown",
   "metadata": {},
   "source": [
    "### Run on Input Data"
   ]
  },
  {
   "cell_type": "code",
   "execution_count": 12,
   "metadata": {},
   "outputs": [
    {
     "name": "stdout",
     "output_type": "stream",
     "text": [
      "Wall time: 1min 4s\n"
     ]
    },
    {
     "data": {
      "text/plain": [
       "12543202766584"
      ]
     },
     "execution_count": 12,
     "metadata": {},
     "output_type": "execute_result"
    }
   ],
   "source": [
    "%%time\n",
    "solve2(get_data('sensors_beacons'), 4_000_000)"
   ]
  }
 ],
 "metadata": {
  "kernelspec": {
   "display_name": "Python 3.8.8 ('base')",
   "language": "python",
   "name": "python3"
  },
  "language_info": {
   "codemirror_mode": {
    "name": "ipython",
    "version": 3
   },
   "file_extension": ".py",
   "mimetype": "text/x-python",
   "name": "python",
   "nbconvert_exporter": "python",
   "pygments_lexer": "ipython3",
   "version": "3.8.8"
  },
  "vscode": {
   "interpreter": {
    "hash": "f49206fcf84a9145e7e21228cbafa911d1ac18292303b01e865d8267a9c448f7"
   }
  }
 },
 "nbformat": 4,
 "nbformat_minor": 4
}
