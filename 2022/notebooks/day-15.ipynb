{
 "cells": [
  {
   "attachments": {},
   "cell_type": "markdown",
   "metadata": {},
   "source": [
    "# --- Day 15 Beacon Exclusion Zone ---\n",
    "\n",
    "https://adventofcode.com/2022/day/15"
   ]
  },
  {
   "cell_type": "markdown",
   "metadata": {},
   "source": [
    "## Get Input Data"
   ]
  },
  {
   "cell_type": "code",
   "execution_count": 1,
   "metadata": {},
   "outputs": [],
   "source": [
    "import re"
   ]
  },
  {
   "cell_type": "code",
   "execution_count": 34,
   "metadata": {},
   "outputs": [],
   "source": [
    "def get_data(filename, y_line=None):\n",
    "    \"\"\"Get input data for puzzle.\n",
    "    \n",
    "    Parameters\n",
    "    ----------\n",
    "    filename : str\n",
    "        The name of the *.txt file in the inputs/ directory.\n",
    "    \n",
    "    Returns\n",
    "    -------\n",
    "    \n",
    "    \"\"\"\n",
    "    \n",
    "    data = []\n",
    "    y_set = set()\n",
    "\n",
    "    with open(f'../inputs/{filename}.txt') as file:\n",
    "        for line in file:\n",
    "            sb = [int(x) for x in re.findall(r\"\\d+\", line)]\n",
    "            sensor = (sb[0], sb[1])\n",
    "            beacon = (sb[2], sb[3])\n",
    "            man_dist = calc_man_dist(sensor, beacon)\n",
    "\n",
    "            if (sensor[1] - man_dist <= y_line <= sensor[1] + man_dist):\n",
    "                y_diff = abs(sensor[1] - y_line)\n",
    "                x_diff = abs(man_dist - y_diff)\n",
    "\n",
    "                data.append([sensor, beacon, man_dist, x_diff, y_diff])\n",
    "\n",
    "                for x in range(sensor[0]-x_diff, sensor[0]+x_diff+1):\n",
    "                    y_set.add(x)\n",
    "\n",
    "    return data, len(y_set)"
   ]
  },
  {
   "cell_type": "code",
   "execution_count": 35,
   "metadata": {},
   "outputs": [
    {
     "data": {
      "text/plain": [
       "([[(12, 14), (10, 16), 4, 0, 4],\n",
       "  [(8, 7), (2, 10), 9, 6, 3],\n",
       "  [(2, 0), (2, 10), 10, 0, 10],\n",
       "  [(0, 11), (2, 10), 3, 2, 1],\n",
       "  [(20, 14), (25, 17), 8, 4, 4],\n",
       "  [(16, 7), (15, 3), 5, 2, 3]],\n",
       " 27)"
      ]
     },
     "execution_count": 35,
     "metadata": {},
     "output_type": "execute_result"
    }
   ],
   "source": [
    "get_data('test_sensors_beacons', y_line=10)"
   ]
  },
  {
   "cell_type": "markdown",
   "metadata": {},
   "source": [
    "## Part 1\n",
    "---"
   ]
  },
  {
   "cell_type": "code",
   "execution_count": 2,
   "metadata": {},
   "outputs": [],
   "source": [
    "import re"
   ]
  },
  {
   "cell_type": "code",
   "execution_count": 3,
   "metadata": {},
   "outputs": [],
   "source": [
    "def calc_man_dist(p1, p2):\n",
    "    return abs(p1[0] - p2[0]) + abs(p1[1] - p2[1])"
   ]
  },
  {
   "cell_type": "code",
   "execution_count": 22,
   "metadata": {},
   "outputs": [],
   "source": [
    "def solve1(filename, y_line=None):\n",
    "\n",
    "    y_set = set()\n",
    "\n",
    "    with open(f'../inputs/{filename}.txt') as file:\n",
    "        for line in file:\n",
    "            coords = [int(x) for x in re.findall(r\"-?\\d+\", line)]  # Doh! Forgot to include \"-?\" in my regex... that was a hard bug to find!\n",
    "            sensor = (coords[0], coords[1])  # (x, y) for sensors\n",
    "            beacon = (coords[2], coords[3])  # (x, y) for beacons\n",
    "            man_dist = calc_man_dist(sensor, beacon)\n",
    "\n",
    "            if (sensor[1] - man_dist <= y_line <= sensor[1] + man_dist):\n",
    "                y_diff = abs(sensor[1] - y_line)\n",
    "                x_diff = abs(man_dist - y_diff)\n",
    "\n",
    "                # Add range of x values in \"exclusion zone\" to the y_set\n",
    "                y_set.update(range(sensor[0]-x_diff, sensor[0]+x_diff+1))\n",
    "\n",
    "                # Remove x values for beacons\n",
    "                if beacon[1] == y_line:\n",
    "                    y_set.remove(beacon[0])\n",
    "\n",
    "    return len(y_set)"
   ]
  },
  {
   "cell_type": "markdown",
   "metadata": {},
   "source": [
    "### Run on Test Data"
   ]
  },
  {
   "cell_type": "code",
   "execution_count": 23,
   "metadata": {},
   "outputs": [
    {
     "data": {
      "text/plain": [
       "True"
      ]
     },
     "execution_count": 23,
     "metadata": {},
     "output_type": "execute_result"
    }
   ],
   "source": [
    "solve1('test_sensors_beacons', y_line=10) == 26"
   ]
  },
  {
   "cell_type": "markdown",
   "metadata": {},
   "source": [
    "### Run on Input Data"
   ]
  },
  {
   "cell_type": "code",
   "execution_count": 24,
   "metadata": {},
   "outputs": [
    {
     "name": "stdout",
     "output_type": "stream",
     "text": [
      "Wall time: 589 ms\n"
     ]
    },
    {
     "data": {
      "text/plain": [
       "5607466"
      ]
     },
     "execution_count": 24,
     "metadata": {},
     "output_type": "execute_result"
    }
   ],
   "source": [
    "%%time\n",
    "solve1('sensors_beacons', y_line=2_000_000)"
   ]
  },
  {
   "cell_type": "markdown",
   "metadata": {},
   "source": [
    "## Part 2\n",
    "---"
   ]
  },
  {
   "cell_type": "code",
   "execution_count": 16,
   "metadata": {},
   "outputs": [],
   "source": [
    "def solve2(filename):\n",
    "    pass"
   ]
  },
  {
   "cell_type": "markdown",
   "metadata": {},
   "source": [
    "### Run on Test Data"
   ]
  },
  {
   "cell_type": "code",
   "execution_count": null,
   "metadata": {},
   "outputs": [],
   "source": [
    "solve2('test_sensors_beacons') == 56000011"
   ]
  },
  {
   "cell_type": "markdown",
   "metadata": {},
   "source": [
    "### Run on Input Data"
   ]
  },
  {
   "cell_type": "code",
   "execution_count": null,
   "metadata": {},
   "outputs": [],
   "source": [
    "solve2('sensors_beacons')"
   ]
  }
 ],
 "metadata": {
  "kernelspec": {
   "display_name": "Python 3.8.8 ('base')",
   "language": "python",
   "name": "python3"
  },
  "language_info": {
   "codemirror_mode": {
    "name": "ipython",
    "version": 3
   },
   "file_extension": ".py",
   "mimetype": "text/x-python",
   "name": "python",
   "nbconvert_exporter": "python",
   "pygments_lexer": "ipython3",
   "version": "3.8.8"
  },
  "vscode": {
   "interpreter": {
    "hash": "f49206fcf84a9145e7e21228cbafa911d1ac18292303b01e865d8267a9c448f7"
   }
  }
 },
 "nbformat": 4,
 "nbformat_minor": 4
}
