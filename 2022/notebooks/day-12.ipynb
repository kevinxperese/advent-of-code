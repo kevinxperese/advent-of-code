{
 "cells": [
  {
   "cell_type": "markdown",
   "metadata": {},
   "source": [
    "# --- Day 12 Hill Climbing Algorithm ---\n",
    "\n",
    "https://adventofcode.com/2022/day/12"
   ]
  },
  {
   "cell_type": "code",
   "execution_count": 1,
   "metadata": {},
   "outputs": [],
   "source": [
    "from collections import defaultdict\n",
    "from string import ascii_letters"
   ]
  },
  {
   "cell_type": "markdown",
   "metadata": {},
   "source": [
    "## Get Input Data"
   ]
  },
  {
   "cell_type": "code",
   "execution_count": 2,
   "metadata": {},
   "outputs": [],
   "source": [
    "def get_data(filename):\n",
    "    heightmap = []\n",
    "    with open(f'../inputs/{filename}.txt') as _file:\n",
    "        for line in _file:\n",
    "            heightmap.append(line.rstrip())\n",
    "    return heightmap"
   ]
  },
  {
   "cell_type": "code",
   "execution_count": 3,
   "metadata": {},
   "outputs": [
    {
     "data": {
      "text/plain": [
       "['Sabqponm', 'abcryxxl', 'accszExk', 'acctuvwj', 'abdefghi']"
      ]
     },
     "execution_count": 3,
     "metadata": {},
     "output_type": "execute_result"
    }
   ],
   "source": [
    "test_heightmap = get_data('test_heightmap')\n",
    "test_heightmap"
   ]
  },
  {
   "cell_type": "code",
   "execution_count": 4,
   "metadata": {},
   "outputs": [
    {
     "data": {
      "text/plain": [
       "['abcccccccccaaaaaaaaaaccccccccccccaaaaaaaaccaaccccccccccccccccccccccccccccccccccccccccccccaaaaaa',\n",
       " 'abccccccccccaaaaaaaaaccccccccccccaaaaaaaaaaaacccccccccccaacccacccccccccccccccccccccccccccaaaaaa',\n",
       " 'abcccccccccccaaaaaaacccccccccccccaaaaaaaaaaaaaacccccccccaaacaacccccccccaaaccccccccccccccccaaaaa',\n",
       " 'abccccccccccaaaaaaccccccccccccccaaaaaaaaaaaaaaaccccccccccaaaaaccccccccccaaacccccccccccccccccaaa',\n",
       " 'abccccccccccaaaaaaaccccccccccccaaaaaaaaaaaaaacccccccccccaaaaaacccccccccaaaacccccccccccccccccaac']"
      ]
     },
     "execution_count": 4,
     "metadata": {},
     "output_type": "execute_result"
    }
   ],
   "source": [
    "heightmap = get_data('heightmap')\n",
    "heightmap[:5]"
   ]
  },
  {
   "cell_type": "code",
   "execution_count": 5,
   "metadata": {},
   "outputs": [],
   "source": [
    "def build_graph(heightmap):\n",
    "    \"\"\"Build an undirected, unweighted graph based on the raw heightmap data, where\n",
    "    every letter corresponds to an elevation level, \"S\" is the starting node, and \"E\" \n",
    "    is the ending node and you can only move up one level at a time, at most.\n",
    "    \n",
    "    Parameters\n",
    "    ----------\n",
    "    heightmap : list\n",
    "        Each item is a string of characters, representing a row in the raw heightmap\n",
    "\n",
    "    Returns\n",
    "    -------\n",
    "    graph, start_pos, end_pos : dictionary, tuple, tuple\n",
    "        The graph will have (row, col) tuples as keys representing a node and each value\n",
    "        will be a list of permissable moves to a next node.\n",
    "    \"\"\"\n",
    "\n",
    "    graph = {}\n",
    "\n",
    "    row_max = len(heightmap) - 1\n",
    "    col_max = len(heightmap[0]) -1\n",
    "\n",
    "    for row in range(len(heightmap)):\n",
    "        if 'S' in heightmap[row]:\n",
    "            start_pos = (row, heightmap[row].index('S'))\n",
    "            heightmap[row] = heightmap[row].replace('S', 'a')\n",
    "        if 'E' in heightmap[row]:\n",
    "            end_pos = (row, heightmap[row].index('E'))\n",
    "            heightmap[row] = heightmap[row].replace('E', 'z')\n",
    "\n",
    "        for col in range(len(heightmap[0])):\n",
    "            current_height = ascii_letters.index(heightmap[row][col])\n",
    "    \n",
    "            graph[(row, col)] = []\n",
    "\n",
    "            for deltas in [(1, 0), (0, 1), (-1, 0), (0, -1)]:\n",
    "                row_delta, col_delta = deltas\n",
    "                if (0 <= row + row_delta <= row_max) and (0 <= col + col_delta <= col_max):\n",
    "                    delta_height = ascii_letters.index(heightmap[row + row_delta][col + col_delta])\n",
    "                    if delta_height - current_height <= 1:\n",
    "                        graph[(row, col)].append((row + row_delta, col + col_delta))\n",
    "\n",
    "    return graph, start_pos, end_pos"
   ]
  },
  {
   "cell_type": "code",
   "execution_count": 6,
   "metadata": {},
   "outputs": [
    {
     "name": "stdout",
     "output_type": "stream",
     "text": [
      "(0, 0) (2, 5)\n"
     ]
    },
    {
     "data": {
      "text/plain": [
       "{(0, 0): [(1, 0), (0, 1)],\n",
       " (0, 1): [(1, 1), (0, 2), (0, 0)],\n",
       " (0, 2): [(1, 2), (0, 1)],\n",
       " (0, 3): [(1, 3), (0, 4), (0, 2)],\n",
       " (0, 4): [(0, 5), (0, 3)],\n",
       " (0, 5): [(0, 6), (0, 4)],\n",
       " (0, 6): [(0, 7), (0, 5)],\n",
       " (0, 7): [(1, 7), (0, 6)],\n",
       " (1, 0): [(2, 0), (1, 1), (0, 0)],\n",
       " (1, 1): [(2, 1), (1, 2), (0, 1), (1, 0)],\n",
       " (1, 2): [(2, 2), (0, 2), (1, 1)],\n",
       " (1, 3): [(2, 3), (0, 3), (1, 2)],\n",
       " (1, 4): [(2, 4), (1, 5), (0, 4), (1, 3)],\n",
       " (1, 5): [(1, 6), (0, 5), (1, 4)],\n",
       " (1, 6): [(2, 6), (1, 7), (0, 6), (1, 5)],\n",
       " (1, 7): [(2, 7), (0, 7)],\n",
       " (2, 0): [(3, 0), (1, 0)],\n",
       " (2, 1): [(3, 1), (2, 2), (1, 1), (2, 0)],\n",
       " (2, 2): [(3, 2), (1, 2), (2, 1)],\n",
       " (2, 3): [(3, 3), (1, 3), (2, 2)],\n",
       " (2, 4): [(3, 4), (2, 5), (1, 4), (2, 3)],\n",
       " (2, 5): [(3, 5), (2, 6), (1, 5), (2, 4)],\n",
       " (2, 6): [(3, 6), (2, 7), (1, 6)],\n",
       " (2, 7): [(3, 7), (1, 7)],\n",
       " (3, 0): [(4, 0), (2, 0)],\n",
       " (3, 1): [(4, 1), (3, 2), (2, 1), (3, 0)],\n",
       " (3, 2): [(4, 2), (2, 2), (3, 1)],\n",
       " (3, 3): [(4, 3), (3, 4), (2, 3), (3, 2)],\n",
       " (3, 4): [(4, 4), (3, 5), (3, 3)],\n",
       " (3, 5): [(4, 5), (3, 6), (3, 4)],\n",
       " (3, 6): [(4, 6), (3, 7), (2, 6), (3, 5)],\n",
       " (3, 7): [(4, 7), (2, 7)],\n",
       " (4, 0): [(4, 1), (3, 0)],\n",
       " (4, 1): [(3, 1), (4, 0)],\n",
       " (4, 2): [(4, 3), (3, 2), (4, 1)],\n",
       " (4, 3): [(4, 4), (4, 2)],\n",
       " (4, 4): [(4, 5), (4, 3)],\n",
       " (4, 5): [(4, 6), (4, 4)],\n",
       " (4, 6): [(4, 7), (4, 5)],\n",
       " (4, 7): [(3, 7), (4, 6)]}"
      ]
     },
     "execution_count": 6,
     "metadata": {},
     "output_type": "execute_result"
    }
   ],
   "source": [
    "test_graph, start_pos, end_pos = build_graph(get_data('test_heightmap'))\n",
    "print(start_pos, end_pos)\n",
    "test_graph"
   ]
  },
  {
   "cell_type": "markdown",
   "metadata": {},
   "source": [
    "## Part 1\n",
    "---"
   ]
  },
  {
   "cell_type": "code",
   "execution_count": 7,
   "metadata": {},
   "outputs": [],
   "source": [
    "def find_shortest_path(graph, start_node, end_node):\n",
    "    \"\"\"Implementation of breadth-first search algorithm, which will find the shortest path\n",
    "    between two nodes in an undirected, unweighted graph.\n",
    "    \n",
    "    Slight modifications and added comments from code found here:\n",
    "    https://www.python.org/doc/essays/graphs/, by Eryk Kopczyński\n",
    "\n",
    "    Parameters\n",
    "    ----------\n",
    "    graph : dict\n",
    "        An undirected, unweighted graph. Each key is a node, and each value is a list of\n",
    "        nodes connected to the current node by an edge.\n",
    "    start_node : tuple\n",
    "        Starting node, as a (row, col) tuple.\n",
    "    end_node : tuple\n",
    "        Ending node, as a (row, col) tuple.\n",
    "\n",
    "    Returns\n",
    "    -------\n",
    "    list\n",
    "        List containing the shortest path from start to end nodes.\n",
    "    \"\"\"\n",
    "\n",
    "    # Dictionary to hold the breadth-first path to each node *from the starting node*\n",
    "    # Each key will be a node, and each value will contain the list of nodes in the path.\n",
    "    paths = {start_node : [start_node]}\n",
    "    \n",
    "    # Use a double ended que (\"deque\") to keep track of which nodes to check out next\n",
    "    deque = [start_node]\n",
    "\n",
    "    # Keep processing until all the nodes have been visited, or until we get to the end node,\n",
    "    # which is when the function returns.\n",
    "    while len(deque) > 0:\n",
    "\n",
    "        current_node = deque.pop(0)\n",
    "\n",
    "        for next_node in graph[current_node]:\n",
    "            if next_node not in paths:\n",
    "                paths[next_node] = paths[current_node] + [next_node]\n",
    "                deque.append(next_node)\n",
    "\n",
    "            # When we get to the end node, the path there will always be the shortest possible\n",
    "            # path because we are doing a breadth-first search (instead of a depth-first search)\n",
    "            if next_node == end_node:\n",
    "                return paths[end_node]"
   ]
  },
  {
   "cell_type": "markdown",
   "metadata": {},
   "source": [
    "## Run on Test Data"
   ]
  },
  {
   "cell_type": "code",
   "execution_count": 8,
   "metadata": {},
   "outputs": [
    {
     "data": {
      "text/plain": [
       "True"
      ]
     },
     "execution_count": 8,
     "metadata": {},
     "output_type": "execute_result"
    }
   ],
   "source": [
    "# Subtract 1 from the length, because we are interested in counting the steps (edges), not the nodes\n",
    "len(find_shortest_path(*build_graph(get_data('test_heightmap')))) - 1 == 31"
   ]
  },
  {
   "cell_type": "markdown",
   "metadata": {},
   "source": [
    "## Run on Input Data"
   ]
  },
  {
   "cell_type": "code",
   "execution_count": 9,
   "metadata": {},
   "outputs": [
    {
     "data": {
      "text/plain": [
       "420"
      ]
     },
     "execution_count": 9,
     "metadata": {},
     "output_type": "execute_result"
    }
   ],
   "source": [
    "len(find_shortest_path(*build_graph(get_data('heightmap')))) - 1"
   ]
  },
  {
   "cell_type": "markdown",
   "metadata": {},
   "source": [
    "## Part 2\n",
    "---"
   ]
  },
  {
   "cell_type": "code",
   "execution_count": 10,
   "metadata": {},
   "outputs": [],
   "source": [
    "def build_graph2(heightmap):\n",
    "    \"\"\"Build an undirected, unweighted graph based on the raw heightmap data, where\n",
    "    every letter corresponds to an elevation level, \"S\" is the starting node, and \"E\" \n",
    "    is the ending node and you can only move up one level at a time, at most.\n",
    "    \n",
    "    Parameters\n",
    "    ----------\n",
    "    heightmap : list\n",
    "        Each item is a string of characters, representing a row in the raw heightmap\n",
    "\n",
    "    Returns\n",
    "    -------\n",
    "    graph, start_pos, end_pos : dictionary, tuple, tuple\n",
    "        The graph will have (row, col) tuples as keys representing a node and each value\n",
    "        will be a list of permissable moves to a next node.\n",
    "\n",
    "        In part 2, start_pos will be a list of nodes that are equal to 'a', or 0.\n",
    "    \"\"\"\n",
    "    \n",
    "    graph = {}\n",
    "    start_pos = []\n",
    "\n",
    "    row_max = len(heightmap) - 1\n",
    "    col_max = len(heightmap[0]) -1\n",
    "\n",
    "    for row in range(len(heightmap)):\n",
    "        if 'S' in heightmap[row]:\n",
    "            # start_pos = (row, heightmap[row].index('S'))  -- From Part 1\n",
    "            heightmap[row] = heightmap[row].replace('S', 'a')\n",
    "        if 'E' in heightmap[row]:\n",
    "            end_pos = (row, heightmap[row].index('E'))\n",
    "            heightmap[row] = heightmap[row].replace('E', 'z')\n",
    "\n",
    "        for col in range(len(heightmap[0])):\n",
    "            current_height = ascii_letters.index(heightmap[row][col])\n",
    "            \n",
    "            # Compile list of nodes == 'a' (or 0 after conversion)  -- For Part 2\n",
    "            if current_height == 0:\n",
    "                start_pos.append((row, col))\n",
    "\n",
    "            graph[(row, col)] = []\n",
    "\n",
    "            for deltas in [(1, 0), (0, 1), (-1, 0), (0, -1)]:\n",
    "                row_delta, col_delta = deltas\n",
    "                if (0 <= row + row_delta <= row_max) and (0 <= col + col_delta <= col_max):\n",
    "                    delta_height = ascii_letters.index(heightmap[row + row_delta][col + col_delta])\n",
    "                    if delta_height - current_height <= 1:\n",
    "                        graph[(row, col)].append((row + row_delta, col + col_delta))\n",
    "\n",
    "    return graph, start_pos, end_pos"
   ]
  },
  {
   "cell_type": "code",
   "execution_count": 11,
   "metadata": {},
   "outputs": [],
   "source": [
    "def solve_part2(filename):\n",
    "    \"\"\"Find the shortest path to the end node of a graph, but start from any node\n",
    "    that is equal to 'a'.\n",
    "    \n",
    "    Parameters\n",
    "    ----------\n",
    "    filename : str\n",
    "        Name of file with raw heightmap data.\n",
    "\n",
    "    Returns\n",
    "    -------\n",
    "    int\n",
    "    \"\"\"\n",
    "\n",
    "    len_paths_from_a = []\n",
    "    graph, a_nodes, end_node = build_graph2(get_data(filename))\n",
    "    for node in a_nodes:\n",
    "        if find_shortest_path(graph, node, end_node) != None:\n",
    "            len_paths_from_a.append(len(find_shortest_path(graph, node, end_node)) - 1)\n",
    "\n",
    "    return min(len_paths_from_a)"
   ]
  },
  {
   "cell_type": "markdown",
   "metadata": {},
   "source": [
    "### Run on Test Data"
   ]
  },
  {
   "cell_type": "code",
   "execution_count": 12,
   "metadata": {},
   "outputs": [
    {
     "data": {
      "text/plain": [
       "True"
      ]
     },
     "execution_count": 12,
     "metadata": {},
     "output_type": "execute_result"
    }
   ],
   "source": [
    "solve_part2('test_heightmap') == 29"
   ]
  },
  {
   "cell_type": "markdown",
   "metadata": {},
   "source": [
    "### Run on Input Data"
   ]
  },
  {
   "cell_type": "code",
   "execution_count": 13,
   "metadata": {},
   "outputs": [
    {
     "data": {
      "text/plain": [
       "414"
      ]
     },
     "execution_count": 13,
     "metadata": {},
     "output_type": "execute_result"
    }
   ],
   "source": [
    "solve_part2('heightmap')"
   ]
  }
 ],
 "metadata": {
  "kernelspec": {
   "display_name": "Python 3.8.8 ('base')",
   "language": "python",
   "name": "python3"
  },
  "language_info": {
   "codemirror_mode": {
    "name": "ipython",
    "version": 3
   },
   "file_extension": ".py",
   "mimetype": "text/x-python",
   "name": "python",
   "nbconvert_exporter": "python",
   "pygments_lexer": "ipython3",
   "version": "3.8.8"
  },
  "vscode": {
   "interpreter": {
    "hash": "f49206fcf84a9145e7e21228cbafa911d1ac18292303b01e865d8267a9c448f7"
   }
  }
 },
 "nbformat": 4,
 "nbformat_minor": 4
}
