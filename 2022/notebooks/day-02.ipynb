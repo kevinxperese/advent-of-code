{
 "cells": [
  {
   "cell_type": "markdown",
   "metadata": {},
   "source": [
    "# --- Day 2: Rock Paper Scissors ---\n",
    "\n",
    "https://adventofcode.com/2022/day/2"
   ]
  },
  {
   "cell_type": "markdown",
   "metadata": {},
   "source": [
    "## Get Input Data"
   ]
  },
  {
   "cell_type": "code",
   "execution_count": 1,
   "metadata": {},
   "outputs": [
    {
     "data": {
      "text/plain": [
       "['AX', 'AX', 'AZ', 'BX', 'AX', 'BZ', 'AX', 'AX', 'AX', 'AX']"
      ]
     },
     "execution_count": 1,
     "metadata": {},
     "output_type": "execute_result"
    }
   ],
   "source": [
    "with open('../inputs/strategy_guide.txt') as f:\n",
    "    strategy_guide = [line.rstrip().replace(\" \", \"\") for line in f]\n",
    "\n",
    "strategy_guide[:10]"
   ]
  },
  {
   "cell_type": "markdown",
   "metadata": {},
   "source": [
    "## Part 1\n",
    "---"
   ]
  },
  {
   "cell_type": "code",
   "execution_count": 2,
   "metadata": {},
   "outputs": [],
   "source": [
    "def calc_score(play):\n",
    "    \"\"\"Calculate the score of a rock, scissors, paper game.\n",
    "    \n",
    "    Parameters\n",
    "    ----------\n",
    "    play : str\n",
    "        Two character string with combinations of A, B, C in the first position, and X, Y, Z in the\n",
    "        second position.\n",
    "\n",
    "    Returns\n",
    "    -------\n",
    "    int\n",
    "    \"\"\"\n",
    "\n",
    "    shape_scores = {\n",
    "        'X' : 1,\n",
    "        'Y' : 2,\n",
    "        'Z' : 3\n",
    "    }\n",
    "\n",
    "    outcome_scores = {\n",
    "        'AX' : 3,  # rock v. rock\n",
    "        'AY' : 6,  # paper v. rock\n",
    "        'AZ' : 0,  # scissors v. rock\n",
    "\n",
    "        'BX' : 0,  # rock v. paper\n",
    "        'BY' : 3,  # paper v. paper\n",
    "        'BZ' : 6,  # scissors v. paper\n",
    "        \n",
    "        'CX' : 6,  # rock v. scissors\n",
    "        'CY' : 0,  # paper v. scissors\n",
    "        'CZ' : 3   # scissors v. scissors\n",
    "    }\n",
    "\n",
    "    return shape_scores[play[1]] + outcome_scores[play]"
   ]
  },
  {
   "cell_type": "markdown",
   "metadata": {},
   "source": [
    "### Run on Test Data"
   ]
  },
  {
   "cell_type": "code",
   "execution_count": 3,
   "metadata": {},
   "outputs": [
    {
     "name": "stdout",
     "output_type": "stream",
     "text": [
      "True\n",
      "True\n",
      "True\n"
     ]
    }
   ],
   "source": [
    "print(calc_score('AY') == 8)\n",
    "print(calc_score('BX') == 1)\n",
    "print(calc_score('CZ') == 6)"
   ]
  },
  {
   "cell_type": "markdown",
   "metadata": {},
   "source": [
    "### Run on Input Data"
   ]
  },
  {
   "cell_type": "code",
   "execution_count": 4,
   "metadata": {},
   "outputs": [
    {
     "data": {
      "text/plain": [
       "10816"
      ]
     },
     "execution_count": 4,
     "metadata": {},
     "output_type": "execute_result"
    }
   ],
   "source": [
    "sum(map(calc_score, strategy_guide))"
   ]
  },
  {
   "cell_type": "markdown",
   "metadata": {},
   "source": [
    "## Part 2\n",
    "---"
   ]
  },
  {
   "cell_type": "code",
   "execution_count": 5,
   "metadata": {},
   "outputs": [],
   "source": [
    "def calc_score2(play):\n",
    "    \"\"\"Calculate the score of a rock, scissors, paper game.\n",
    "    \n",
    "    Parameters\n",
    "    ----------\n",
    "    play : str\n",
    "        Two character string with combinations of A, B, C in the first position, and X, Y, Z in the\n",
    "        second position.\n",
    "\n",
    "    Returns\n",
    "    -------\n",
    "    int\n",
    "    \"\"\"\n",
    "\n",
    "    outcome_scores = {\n",
    "        'X' : 0,\n",
    "        'Y' : 3,\n",
    "        'Z' : 6\n",
    "    }\n",
    "\n",
    "    shape_scores = {\n",
    "        'AX' : 3,  # rock and lose (scissors)\n",
    "        'AY' : 1,  # rock and draw (rock)\n",
    "        'AZ' : 2,  # rock and win (paper)\n",
    "\n",
    "        'BX' : 1,  # paper and lose (rock)\n",
    "        'BY' : 2,  # paper and draw (paper)\n",
    "        'BZ' : 3,  # paper and win (scissors)\n",
    "        \n",
    "        'CX' : 2,  # scissors and lose (paper)\n",
    "        'CY' : 3,  # scissors and draw (scissors)\n",
    "        'CZ' : 1   # scissors and win (rock)\n",
    "    }\n",
    "\n",
    "    return shape_scores[play] + outcome_scores[play[1]]"
   ]
  },
  {
   "cell_type": "markdown",
   "metadata": {},
   "source": [
    "### Run on Test Data"
   ]
  },
  {
   "cell_type": "code",
   "execution_count": 6,
   "metadata": {},
   "outputs": [
    {
     "name": "stdout",
     "output_type": "stream",
     "text": [
      "True\n",
      "True\n",
      "True\n"
     ]
    }
   ],
   "source": [
    "print(calc_score2('AY') == 4)\n",
    "print(calc_score2('BX') == 1)\n",
    "print(calc_score2('CZ') == 7)"
   ]
  },
  {
   "cell_type": "markdown",
   "metadata": {},
   "source": [
    "### Run on Input Data"
   ]
  },
  {
   "cell_type": "code",
   "execution_count": 7,
   "metadata": {},
   "outputs": [
    {
     "data": {
      "text/plain": [
       "11657"
      ]
     },
     "execution_count": 7,
     "metadata": {},
     "output_type": "execute_result"
    }
   ],
   "source": [
    "sum(map(calc_score2, strategy_guide))"
   ]
  }
 ],
 "metadata": {
  "kernelspec": {
   "display_name": "Python 3.8.8 ('base')",
   "language": "python",
   "name": "python3"
  },
  "language_info": {
   "codemirror_mode": {
    "name": "ipython",
    "version": 3
   },
   "file_extension": ".py",
   "mimetype": "text/x-python",
   "name": "python",
   "nbconvert_exporter": "python",
   "pygments_lexer": "ipython3",
   "version": "3.8.8"
  },
  "vscode": {
   "interpreter": {
    "hash": "f49206fcf84a9145e7e21228cbafa911d1ac18292303b01e865d8267a9c448f7"
   }
  }
 },
 "nbformat": 4,
 "nbformat_minor": 4
}
