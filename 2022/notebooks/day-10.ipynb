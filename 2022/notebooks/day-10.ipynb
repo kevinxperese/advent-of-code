{
 "cells": [
  {
   "cell_type": "markdown",
   "metadata": {},
   "source": [
    "# --- Day 10 Cathode-Ray Tube ---\n",
    "\n",
    "https://adventofcode.com/2022/day/10"
   ]
  },
  {
   "cell_type": "markdown",
   "metadata": {},
   "source": [
    "## Part 1\n",
    "---"
   ]
  },
  {
   "cell_type": "code",
   "execution_count": 1,
   "metadata": {},
   "outputs": [],
   "source": [
    "def run_program(filename):\n",
    "    \"\"\"Run the program provided, and calculate signal strength.\n",
    "    \n",
    "    Parameters\n",
    "    ----------\n",
    "    filename : str\n",
    "\n",
    "    Returns\n",
    "    -------\n",
    "    signal_strength : int\n",
    "    \"\"\"\n",
    "\n",
    "    x = [1]\n",
    "\n",
    "    with open(f'../inputs/{filename}.txt') as _file:\n",
    "        for line in _file:\n",
    "            if line.startswith('noop'):\n",
    "                x.append(x[-1])\n",
    "            elif line.startswith('addx'):\n",
    "                x.append(x[-1])\n",
    "                _, V = line.rstrip().split()\n",
    "                x.append(x[-1]+ int(V))\n",
    "\n",
    "\n",
    "    signal_strength = 0\n",
    "    cycles = [20, 60, 100, 140, 180, 220]  # I'm being lazy...\n",
    "    for cycle in cycles:\n",
    "        signal_strength += cycle * x[cycle-1]\n",
    "\n",
    "    return signal_strength"
   ]
  },
  {
   "cell_type": "markdown",
   "metadata": {},
   "source": [
    "### Run on Test Data"
   ]
  },
  {
   "cell_type": "code",
   "execution_count": 2,
   "metadata": {},
   "outputs": [
    {
     "data": {
      "text/plain": [
       "True"
      ]
     },
     "execution_count": 2,
     "metadata": {},
     "output_type": "execute_result"
    }
   ],
   "source": [
    "run_program('test_program') == 13140"
   ]
  },
  {
   "cell_type": "markdown",
   "metadata": {},
   "source": [
    "### Run on Input Data"
   ]
  },
  {
   "cell_type": "code",
   "execution_count": 3,
   "metadata": {},
   "outputs": [
    {
     "data": {
      "text/plain": [
       "14780"
      ]
     },
     "execution_count": 3,
     "metadata": {},
     "output_type": "execute_result"
    }
   ],
   "source": [
    "run_program('program')"
   ]
  },
  {
   "cell_type": "markdown",
   "metadata": {},
   "source": [
    "## Part 2\n",
    "---"
   ]
  },
  {
   "cell_type": "code",
   "execution_count": 4,
   "metadata": {},
   "outputs": [],
   "source": [
    "def run_program2(filename):\n",
    "    \"\"\"Run the program provided, and draw a picture based on a sprite of width 3.\n",
    "    \n",
    "    Parameters\n",
    "    ----------\n",
    "    filename : str\n",
    "\n",
    "    Returns\n",
    "    -------\n",
    "    None\n",
    "    \"\"\"\n",
    "\n",
    "    # Same as Part 1\n",
    "    x = [1]\n",
    "\n",
    "    with open(f'../inputs/{filename}.txt') as _file:\n",
    "        for line in _file:\n",
    "            if line.startswith('noop'):\n",
    "                x.append(x[-1])\n",
    "            elif line.startswith('addx'):\n",
    "                x.append(x[-1])\n",
    "                _, V = line.rstrip().split()\n",
    "                x.append(x[-1]+ int(V))\n",
    "\n",
    "    # Now fill in the screen array and then draw (print) it out\n",
    "    screen = []\n",
    "    for i in range(len(x)):\n",
    "        screen_pos = i % 40\n",
    "        if x[i] in [screen_pos-1, screen_pos, screen_pos+1]:\n",
    "            screen.append('#')\n",
    "        else:\n",
    "            screen.append(' ')\n",
    "\n",
    "        # Now do the printing\n",
    "        if i > 0 and screen_pos == 39:\n",
    "            print(''.join(screen[i-39 : i+1]))\n",
    "\n",
    "    return None"
   ]
  },
  {
   "cell_type": "markdown",
   "metadata": {},
   "source": [
    "### Run on Test Data"
   ]
  },
  {
   "cell_type": "code",
   "execution_count": 5,
   "metadata": {},
   "outputs": [
    {
     "name": "stdout",
     "output_type": "stream",
     "text": [
      "##  ##  ##  ##  ##  ##  ##  ##  ##  ##  \n",
      "###   ###   ###   ###   ###   ###   ### \n",
      "####    ####    ####    ####    ####    \n",
      "#####     #####     #####     #####     \n",
      "######      ######      ######      ####\n",
      "#######       #######       #######     \n"
     ]
    }
   ],
   "source": [
    "run_program2('test_program')"
   ]
  },
  {
   "cell_type": "markdown",
   "metadata": {},
   "source": [
    "### Run on Input Data"
   ]
  },
  {
   "cell_type": "code",
   "execution_count": 6,
   "metadata": {},
   "outputs": [
    {
     "name": "stdout",
     "output_type": "stream",
     "text": [
      "#### #    ###  #    ####  ##  #### #    \n",
      "#    #    #  # #       # #  #    # #    \n",
      "###  #    #  # #      #  #      #  #    \n",
      "#    #    ###  #     #   # ##  #   #    \n",
      "#    #    #    #    #    #  # #    #    \n",
      "#### #### #    #### ####  ### #### #### \n"
     ]
    }
   ],
   "source": [
    "run_program2('program')"
   ]
  }
 ],
 "metadata": {
  "kernelspec": {
   "display_name": "Python 3.8.8 ('base')",
   "language": "python",
   "name": "python3"
  },
  "language_info": {
   "codemirror_mode": {
    "name": "ipython",
    "version": 3
   },
   "file_extension": ".py",
   "mimetype": "text/x-python",
   "name": "python",
   "nbconvert_exporter": "python",
   "pygments_lexer": "ipython3",
   "version": "3.8.8"
  },
  "vscode": {
   "interpreter": {
    "hash": "f49206fcf84a9145e7e21228cbafa911d1ac18292303b01e865d8267a9c448f7"
   }
  }
 },
 "nbformat": 4,
 "nbformat_minor": 4
}
