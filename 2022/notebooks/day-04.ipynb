{
 "cells": [
  {
   "cell_type": "markdown",
   "metadata": {},
   "source": [
    "# --- Day 4: Camp Cleanup ---\n",
    "\n",
    "https://adventofcode.com/2022/day/4"
   ]
  },
  {
   "cell_type": "code",
   "execution_count": 1,
   "metadata": {},
   "outputs": [],
   "source": [
    "import re"
   ]
  },
  {
   "cell_type": "markdown",
   "metadata": {},
   "source": [
    "## Get Input Data"
   ]
  },
  {
   "cell_type": "code",
   "execution_count": 2,
   "metadata": {},
   "outputs": [
    {
     "data": {
      "text/plain": [
       "[[2, 4, 6, 8],\n",
       " [2, 3, 4, 5],\n",
       " [5, 7, 7, 9],\n",
       " [2, 8, 3, 7],\n",
       " [6, 6, 4, 6],\n",
       " [2, 6, 4, 8]]"
      ]
     },
     "execution_count": 2,
     "metadata": {},
     "output_type": "execute_result"
    }
   ],
   "source": [
    "with open('../inputs/test_assignment_pairs.txt') as f:\n",
    "    test_assignment_pairs = [list(map(int, re.findall(r\"\\d+\", line))) for line in f]\n",
    "test_assignment_pairs"
   ]
  },
  {
   "cell_type": "code",
   "execution_count": 3,
   "metadata": {},
   "outputs": [
    {
     "data": {
      "text/plain": [
       "[[51, 88, 52, 87],\n",
       " [41, 55, 22, 56],\n",
       " [6, 74, 74, 86],\n",
       " [51, 98, 52, 86],\n",
       " [8, 77, 3, 94]]"
      ]
     },
     "execution_count": 3,
     "metadata": {},
     "output_type": "execute_result"
    }
   ],
   "source": [
    "with open('../inputs/assignment_pairs.txt') as f:\n",
    "    assignment_pairs = [list(map(int, re.findall(r\"\\d+\", line))) for line in f]\n",
    "assignment_pairs[:5]"
   ]
  },
  {
   "cell_type": "markdown",
   "metadata": {},
   "source": [
    "## Part 1\n",
    "---"
   ]
  },
  {
   "cell_type": "code",
   "execution_count": 4,
   "metadata": {},
   "outputs": [],
   "source": [
    "def find_overlap(pair_ranges):\n",
    "    \"\"\"Determine whehther an assignment pair contians ranges that 'fully overlaps' with another.\n",
    "    \n",
    "    Parameters\n",
    "    ----------\n",
    "    pair_ranges : list\n",
    "        List of 4 integers, with each representing the min and max of each range pair.\n",
    "\n",
    "    Returns\n",
    "    -------\n",
    "    Boolean\n",
    "    \"\"\"\n",
    "\n",
    "    min1, max1 = pair_ranges[0], pair_ranges[1]\n",
    "    min2, max2 = pair_ranges[2], pair_ranges[3]\n",
    "\n",
    "    set1 = set(range(min1, max1+1))\n",
    "    set2 = set(range(min2, max2+1))\n",
    "\n",
    "    if len(set1.union(set2)) == max(len(set1), len(set2)):\n",
    "        return True\n",
    "\n",
    "    return False"
   ]
  },
  {
   "cell_type": "markdown",
   "metadata": {},
   "source": [
    "### Run on Test Data"
   ]
  },
  {
   "cell_type": "code",
   "execution_count": 5,
   "metadata": {},
   "outputs": [
    {
     "data": {
      "text/plain": [
       "True"
      ]
     },
     "execution_count": 5,
     "metadata": {},
     "output_type": "execute_result"
    }
   ],
   "source": [
    "sum(map(find_overlap, test_assignment_pairs)) == 2"
   ]
  },
  {
   "cell_type": "markdown",
   "metadata": {},
   "source": [
    "### Run on Input Data"
   ]
  },
  {
   "cell_type": "code",
   "execution_count": 6,
   "metadata": {},
   "outputs": [
    {
     "data": {
      "text/plain": [
       "487"
      ]
     },
     "execution_count": 6,
     "metadata": {},
     "output_type": "execute_result"
    }
   ],
   "source": [
    "sum(map(find_overlap, assignment_pairs))"
   ]
  },
  {
   "cell_type": "markdown",
   "metadata": {},
   "source": [
    "## Part 2\n",
    "---"
   ]
  },
  {
   "cell_type": "code",
   "execution_count": 7,
   "metadata": {},
   "outputs": [],
   "source": [
    "def find_overlap2(pair_ranges):\n",
    "    \"\"\"Determine whehther an assignment pair contians ranges that overlap at all with another.\n",
    "    \n",
    "    Parameters\n",
    "    ----------\n",
    "    pair_ranges : list\n",
    "        List of 4 integers, with each representing the min and max of each range pair.\n",
    "\n",
    "    Returns\n",
    "    -------\n",
    "    Boolean\n",
    "    \"\"\"\n",
    "\n",
    "    min1, max1 = pair_ranges[0], pair_ranges[1]\n",
    "    min2, max2 = pair_ranges[2], pair_ranges[3]\n",
    "\n",
    "    set1 = set(range(min1, max1+1))\n",
    "    set2 = set(range(min2, max2+1))\n",
    "\n",
    "    if len(set1.intersection(set2)) > 0:\n",
    "        return True\n",
    "\n",
    "    return False"
   ]
  },
  {
   "cell_type": "markdown",
   "metadata": {},
   "source": [
    "### Run on Test Data"
   ]
  },
  {
   "cell_type": "code",
   "execution_count": 8,
   "metadata": {},
   "outputs": [
    {
     "data": {
      "text/plain": [
       "True"
      ]
     },
     "execution_count": 8,
     "metadata": {},
     "output_type": "execute_result"
    }
   ],
   "source": [
    "sum(map(find_overlap2, test_assignment_pairs)) == 4"
   ]
  },
  {
   "cell_type": "markdown",
   "metadata": {},
   "source": [
    "### Run on Input Data"
   ]
  },
  {
   "cell_type": "code",
   "execution_count": 9,
   "metadata": {},
   "outputs": [
    {
     "data": {
      "text/plain": [
       "849"
      ]
     },
     "execution_count": 9,
     "metadata": {},
     "output_type": "execute_result"
    }
   ],
   "source": [
    "sum(map(find_overlap2, assignment_pairs))"
   ]
  }
 ],
 "metadata": {
  "kernelspec": {
   "display_name": "Python 3.8.8 ('base')",
   "language": "python",
   "name": "python3"
  },
  "language_info": {
   "codemirror_mode": {
    "name": "ipython",
    "version": 3
   },
   "file_extension": ".py",
   "mimetype": "text/x-python",
   "name": "python",
   "nbconvert_exporter": "python",
   "pygments_lexer": "ipython3",
   "version": "3.8.8"
  },
  "vscode": {
   "interpreter": {
    "hash": "f49206fcf84a9145e7e21228cbafa911d1ac18292303b01e865d8267a9c448f7"
   }
  }
 },
 "nbformat": 4,
 "nbformat_minor": 4
}
