{
 "cells": [
  {
   "cell_type": "markdown",
   "metadata": {},
   "source": [
    "# --- Day 8 Treetop Tree House ---\n",
    "\n",
    "https://adventofcode.com/2022/day/8"
   ]
  },
  {
   "cell_type": "code",
   "execution_count": 1,
   "metadata": {},
   "outputs": [],
   "source": [
    "import numpy as np"
   ]
  },
  {
   "cell_type": "markdown",
   "metadata": {},
   "source": [
    "## Get Input Data"
   ]
  },
  {
   "cell_type": "code",
   "execution_count": 2,
   "metadata": {},
   "outputs": [],
   "source": [
    "def get_data(filename):\n",
    "    treemap = []\n",
    "    with open(f'../inputs/{filename}.txt') as f:\n",
    "        for line in f:\n",
    "            treemap.append([int(c) for c in line.rstrip()])\n",
    "    \n",
    "    return np.array(treemap)"
   ]
  },
  {
   "cell_type": "code",
   "execution_count": 3,
   "metadata": {},
   "outputs": [
    {
     "data": {
      "text/plain": [
       "array([[3, 0, 3, 7, 3],\n",
       "       [2, 5, 5, 1, 2],\n",
       "       [6, 5, 3, 3, 2],\n",
       "       [3, 3, 5, 4, 9],\n",
       "       [3, 5, 3, 9, 0]])"
      ]
     },
     "execution_count": 3,
     "metadata": {},
     "output_type": "execute_result"
    }
   ],
   "source": [
    "test_treemap = get_data('test_treemap')\n",
    "test_treemap"
   ]
  },
  {
   "cell_type": "code",
   "execution_count": 4,
   "metadata": {},
   "outputs": [
    {
     "data": {
      "text/plain": [
       "(99, 99)"
      ]
     },
     "execution_count": 4,
     "metadata": {},
     "output_type": "execute_result"
    }
   ],
   "source": [
    "treemap = get_data('treemap')\n",
    "treemap.shape"
   ]
  },
  {
   "cell_type": "markdown",
   "metadata": {},
   "source": [
    "## Part 1\n",
    "---"
   ]
  },
  {
   "cell_type": "code",
   "execution_count": 5,
   "metadata": {},
   "outputs": [],
   "source": [
    "def calc_num_trees_visible(map):\n",
    "    \"\"\"Calculate the number of trees visible on a map of tree heights.\n",
    "    \n",
    "    Parameters\n",
    "    ----------\n",
    "    map : 2-D np.ndarray\n",
    "\n",
    "    Returns\n",
    "    -------\n",
    "    int\n",
    "    \"\"\"\n",
    "    num_visible_interior = 0\n",
    "\n",
    "    for i in range(1, map.shape[0] - 1):\n",
    "        for j in range(1, map.shape[1] - 1):\n",
    "            visible_top = True if map[i, j] > max(map[:i, j]) else False\n",
    "            visible_right = True if map[i, j] > max(map[i, j+1:]) else False\n",
    "            visible_bottom = True if map[i, j] > max(map[i+1:, j]) else False\n",
    "            visible_left = True if map[i, j] > max(map[i, :j]) else False\n",
    "            \n",
    "            if visible_top or visible_right or visible_bottom or visible_left:\n",
    "                num_visible_interior += 1\n",
    "\n",
    "        visible_exterior = map.shape[0] * 2 + map.shape[1] * 2 - 4  # subtract 4 for the corners\n",
    "\n",
    "    return num_visible_interior + visible_exterior"
   ]
  },
  {
   "cell_type": "markdown",
   "metadata": {},
   "source": [
    "### Run on Test Data"
   ]
  },
  {
   "cell_type": "code",
   "execution_count": 6,
   "metadata": {},
   "outputs": [
    {
     "data": {
      "text/plain": [
       "True"
      ]
     },
     "execution_count": 6,
     "metadata": {},
     "output_type": "execute_result"
    }
   ],
   "source": [
    "calc_num_trees_visible(test_treemap) == 21"
   ]
  },
  {
   "cell_type": "markdown",
   "metadata": {},
   "source": [
    "### Run on Input Data"
   ]
  },
  {
   "cell_type": "code",
   "execution_count": 7,
   "metadata": {},
   "outputs": [
    {
     "data": {
      "text/plain": [
       "1546"
      ]
     },
     "execution_count": 7,
     "metadata": {},
     "output_type": "execute_result"
    }
   ],
   "source": [
    "calc_num_trees_visible(treemap)"
   ]
  },
  {
   "cell_type": "markdown",
   "metadata": {},
   "source": [
    "## Part 2\n",
    "---"
   ]
  },
  {
   "cell_type": "code",
   "execution_count": 8,
   "metadata": {},
   "outputs": [],
   "source": [
    "import math"
   ]
  },
  {
   "cell_type": "code",
   "execution_count": 9,
   "metadata": {},
   "outputs": [],
   "source": [
    "def calc_viewing_distance(current_height, sight_line):\n",
    "    \"\"\"Calculate the viewing distance from a given tree height.\n",
    "    Viewing distance is the number of trees that can be seen in a given direction (sight_line).\n",
    "\n",
    "    Parameters\n",
    "    ----------\n",
    "    current_height : int\n",
    "        The height of a given tree.\n",
    "    sight_line : 1-D np.array\n",
    "        All the tree heights in a given direction from the current tree height\n",
    "\n",
    "    Returns\n",
    "    -------\n",
    "    viewing_distance : int\n",
    "    \"\"\"\n",
    "    \n",
    "    viewing_distance = 0\n",
    "\n",
    "    for tree in sight_line:\n",
    "        if tree < current_height:\n",
    "            viewing_distance += 1\n",
    "        elif tree >= current_height:\n",
    "            viewing_distance += 1\n",
    "            break\n",
    "    \n",
    "    return viewing_distance"
   ]
  },
  {
   "cell_type": "code",
   "execution_count": 10,
   "metadata": {},
   "outputs": [],
   "source": [
    "def find_max_scenic_score(treemap):\n",
    "    \"\"\"Find the maximum scenic score on the map\n",
    "    A scenic score is calculated as the product of number trees that can be seen in each of 4\n",
    "    directions, as calculated in the viewing_distance() function.\n",
    "\n",
    "    Parameters\n",
    "    ----------\n",
    "    map : 2-D np.array\n",
    "        Each cell contains tree heights\n",
    "\n",
    "    Returns\n",
    "    -------\n",
    "    max_scenic_score : int\n",
    "    \"\"\"\n",
    "\n",
    "    max_scenic_score = 0\n",
    "\n",
    "    for i in range(1, treemap.shape[0] - 1):\n",
    "        for j in range(1, treemap.shape[1] - 1):\n",
    "            # NB: Need to reverse (np.flip) views to the top and to the left, \n",
    "            # so they are in the correct order. \n",
    "            views = [\n",
    "                np.flip(treemap[:i, j]),  # top\n",
    "                treemap[i, j+1:],         # right\n",
    "                treemap[i+1:, j],         # bottom\n",
    "                np.flip(treemap[i, :j])   # left\n",
    "            ]\n",
    "            \n",
    "            scenic_score = math.prod([calc_viewing_distance(treemap[i, j], v) for v in views])\n",
    "            max_scenic_score = max(max_scenic_score, scenic_score)\n",
    "\n",
    "    return max_scenic_score"
   ]
  },
  {
   "cell_type": "markdown",
   "metadata": {},
   "source": [
    "### Run on Test Data"
   ]
  },
  {
   "cell_type": "code",
   "execution_count": 11,
   "metadata": {},
   "outputs": [
    {
     "name": "stdout",
     "output_type": "stream",
     "text": [
      "True\n",
      "True\n",
      "True\n",
      "True\n",
      "True\n",
      "True\n",
      "True\n",
      "True\n",
      "True\n",
      "True\n",
      "True\n"
     ]
    }
   ],
   "source": [
    "# Tests for the tree at test_treemap[1, 2]\n",
    "print(calc_viewing_distance(5, [3]) == 1)  # up\n",
    "print(calc_viewing_distance(5, [5, 2]) == 1)  # left\n",
    "print(calc_viewing_distance(5, [1, 2]) == 2)  # down \n",
    "print(calc_viewing_distance(5, [3, 5, 3]) == 2)  # right\n",
    "\n",
    "# Tests for the tree at test_treemap[3, 2]\n",
    "print(calc_viewing_distance(5, [3, 5]) == 2)\n",
    "print(calc_viewing_distance(5, [3, 3]) == 2)\n",
    "print(calc_viewing_distance(5, [4, 9]) == 2)\n",
    "\n",
    "# For the tree at test_treemap[2, 1]\n",
    "print(calc_viewing_distance(5, [5, 0]) == 1)\n",
    "print(calc_viewing_distance(5, [3, 3, 2]) == 3)\n",
    "print(calc_viewing_distance(5, [6]) == 1)\n",
    "\n",
    "print(find_max_scenic_score(test_treemap) == 8)"
   ]
  },
  {
   "cell_type": "markdown",
   "metadata": {},
   "source": [
    "### Run on Input Data"
   ]
  },
  {
   "cell_type": "code",
   "execution_count": 12,
   "metadata": {},
   "outputs": [
    {
     "data": {
      "text/plain": [
       "519064"
      ]
     },
     "execution_count": 12,
     "metadata": {},
     "output_type": "execute_result"
    }
   ],
   "source": [
    "find_max_scenic_score(treemap)"
   ]
  }
 ],
 "metadata": {
  "kernelspec": {
   "display_name": "Python 3.8.8 ('base')",
   "language": "python",
   "name": "python3"
  },
  "language_info": {
   "codemirror_mode": {
    "name": "ipython",
    "version": 3
   },
   "file_extension": ".py",
   "mimetype": "text/x-python",
   "name": "python",
   "nbconvert_exporter": "python",
   "pygments_lexer": "ipython3",
   "version": "3.8.8"
  },
  "vscode": {
   "interpreter": {
    "hash": "f49206fcf84a9145e7e21228cbafa911d1ac18292303b01e865d8267a9c448f7"
   }
  }
 },
 "nbformat": 4,
 "nbformat_minor": 4
}
