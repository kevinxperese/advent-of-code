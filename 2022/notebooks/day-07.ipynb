{
 "cells": [
  {
   "cell_type": "markdown",
   "metadata": {},
   "source": [
    "# --- Day 7: No Space Left On Device ---\n",
    "\n",
    "https://adventofcode.com/2022/day/7"
   ]
  },
  {
   "cell_type": "code",
   "execution_count": 1,
   "metadata": {},
   "outputs": [],
   "source": [
    "from collections import defaultdict"
   ]
  },
  {
   "cell_type": "markdown",
   "metadata": {},
   "source": [
    "## Get Input Data"
   ]
  },
  {
   "cell_type": "code",
   "execution_count": 2,
   "metadata": {},
   "outputs": [],
   "source": [
    "def get_data(filename):\n",
    "    \"\"\"Get data for day 7 puzzle.\n",
    "    \n",
    "    Need to build a tree for the filesystem.\n",
    "    \n",
    "    Parameters\n",
    "    ----------\n",
    "    filename : str\n",
    "        Name of input file containing all the filesystem commands and results.\n",
    "\n",
    "    Returns\n",
    "    -------\n",
    "    fs : defaultdict(int)\n",
    "        Each key is a full path in the filesystem, and its value is the total size of the files\n",
    "        and subdirectories at that path.\n",
    "    \"\"\"\n",
    "    fs = defaultdict(int)\n",
    "    current_path = '/'\n",
    "\n",
    "    with open(f'../inputs/{filename}.txt') as f:\n",
    "        for line in f:\n",
    "            line = line.rstrip()\n",
    "            if line[0].isdigit():\n",
    "                size, _ = line.split()  # No need to keep track of filenames...\n",
    "                fs[current_path] += int(size)\n",
    "            elif line.startswith('dir'):\n",
    "                pass  # Nothing to do here...\n",
    "            elif line.startswith('$ cd'):\n",
    "                if line.endswith('/'):  # Country roads... take me home...\n",
    "                    current_path = '/'\n",
    "                elif line.endswith('..'):  # Movin' on up... to a delux apartment in the sky\n",
    "                    # When we are back-tracking, we need to update the current_path AND \n",
    "                    # add in the size of the previous_path we're leaving\n",
    "                    prev_path = current_path\n",
    "                    last_subdirectory_index = current_path.rfind('/', 0, -1)\n",
    "                    current_path = current_path[:last_subdirectory_index+1]\n",
    "                    fs[current_path] += fs[prev_path]\n",
    "                else:  # Mov into a subdirectory and then update the current_path string\n",
    "                    _, _, _dir = line.split()\n",
    "                    current_path += f'{_dir}/'\n",
    "\n",
    "    # Need to add the last directory size to each of its parents, all the way back up to the root\n",
    "    for _ in range(current_path.count('/')-1):\n",
    "        last_subdirectory_index = current_path.rfind('/', 0, -1)\n",
    "        prev_path = current_path\n",
    "        current_path = current_path[:last_subdirectory_index+1]\n",
    "        fs[current_path] += fs[prev_path]\n",
    "\n",
    "    print(current_path)  # should end back at '/'\n",
    "    return fs"
   ]
  },
  {
   "cell_type": "code",
   "execution_count": 3,
   "metadata": {},
   "outputs": [
    {
     "name": "stdout",
     "output_type": "stream",
     "text": [
      "/\n"
     ]
    },
    {
     "data": {
      "text/plain": [
       "defaultdict(int, {'/': 48381165, '/a/': 94853, '/a/e/': 584, '/d/': 24933642})"
      ]
     },
     "execution_count": 3,
     "metadata": {},
     "output_type": "execute_result"
    }
   ],
   "source": [
    "get_data('test_filesystem')"
   ]
  },
  {
   "cell_type": "markdown",
   "metadata": {},
   "source": [
    "## Part 1\n",
    "---"
   ]
  },
  {
   "cell_type": "markdown",
   "metadata": {},
   "source": [
    "### Run on Test Data"
   ]
  },
  {
   "cell_type": "code",
   "execution_count": 4,
   "metadata": {},
   "outputs": [
    {
     "name": "stdout",
     "output_type": "stream",
     "text": [
      "/\n"
     ]
    },
    {
     "data": {
      "text/plain": [
       "True"
      ]
     },
     "execution_count": 4,
     "metadata": {},
     "output_type": "execute_result"
    }
   ],
   "source": [
    "fs = get_data('test_filesystem')\n",
    "sum([x for x in fs.values() if x < 100000]) == 95437"
   ]
  },
  {
   "cell_type": "markdown",
   "metadata": {},
   "source": [
    "### Run on Input Data"
   ]
  },
  {
   "cell_type": "code",
   "execution_count": 5,
   "metadata": {},
   "outputs": [
    {
     "name": "stdout",
     "output_type": "stream",
     "text": [
      "/\n"
     ]
    },
    {
     "data": {
      "text/plain": [
       "1989474"
      ]
     },
     "execution_count": 5,
     "metadata": {},
     "output_type": "execute_result"
    }
   ],
   "source": [
    "fs = get_data('filesystem')\n",
    "sum([x for x in fs.values() if x < 100000])"
   ]
  },
  {
   "cell_type": "markdown",
   "metadata": {},
   "source": [
    "## Part 2\n",
    "---"
   ]
  },
  {
   "cell_type": "code",
   "execution_count": 6,
   "metadata": {},
   "outputs": [],
   "source": [
    "def find_smallest_dir_to_delete(filename):\n",
    "    TOTAL_SPACE = 70_000_000\n",
    "    REQUIRED_SPACE = 30_000_000\n",
    "\n",
    "    fs = get_data(filename)\n",
    "    used_space = fs['/']\n",
    "    unused_space = TOTAL_SPACE - used_space\n",
    "\n",
    "    needed_free_space = REQUIRED_SPACE - unused_space\n",
    "\n",
    "    smallest = TOTAL_SPACE\n",
    "    for k, v in fs.items():\n",
    "        if v > needed_free_space:\n",
    "            smallest = min(smallest, v)\n",
    "\n",
    "    return smallest"
   ]
  },
  {
   "cell_type": "markdown",
   "metadata": {},
   "source": [
    "### Run on Test Data"
   ]
  },
  {
   "cell_type": "code",
   "execution_count": 7,
   "metadata": {},
   "outputs": [
    {
     "name": "stdout",
     "output_type": "stream",
     "text": [
      "/\n"
     ]
    },
    {
     "data": {
      "text/plain": [
       "True"
      ]
     },
     "execution_count": 7,
     "metadata": {},
     "output_type": "execute_result"
    }
   ],
   "source": [
    "find_smallest_dir_to_delete('test_filesystem') == 24933642"
   ]
  },
  {
   "cell_type": "markdown",
   "metadata": {},
   "source": [
    "### Run on Input Data"
   ]
  },
  {
   "cell_type": "code",
   "execution_count": 8,
   "metadata": {},
   "outputs": [
    {
     "name": "stdout",
     "output_type": "stream",
     "text": [
      "/\n"
     ]
    },
    {
     "data": {
      "text/plain": [
       "1111607"
      ]
     },
     "execution_count": 8,
     "metadata": {},
     "output_type": "execute_result"
    }
   ],
   "source": [
    "find_smallest_dir_to_delete('filesystem')"
   ]
  }
 ],
 "metadata": {
  "kernelspec": {
   "display_name": "Python 3.8.8 ('base')",
   "language": "python",
   "name": "python3"
  },
  "language_info": {
   "codemirror_mode": {
    "name": "ipython",
    "version": 3
   },
   "file_extension": ".py",
   "mimetype": "text/x-python",
   "name": "python",
   "nbconvert_exporter": "python",
   "pygments_lexer": "ipython3",
   "version": "3.8.8"
  },
  "vscode": {
   "interpreter": {
    "hash": "f49206fcf84a9145e7e21228cbafa911d1ac18292303b01e865d8267a9c448f7"
   }
  }
 },
 "nbformat": 4,
 "nbformat_minor": 4
}
