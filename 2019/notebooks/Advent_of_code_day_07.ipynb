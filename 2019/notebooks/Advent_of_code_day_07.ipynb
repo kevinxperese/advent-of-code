{
 "cells": [
  {
   "cell_type": "markdown",
   "metadata": {},
   "source": [
    "# Advent of Code\n",
    "## Day 7: Amplification Circuit\n",
    "https://adventofcode.com/2019/day/7"
   ]
  },
  {
   "cell_type": "markdown",
   "metadata": {},
   "source": [
    "----\n",
    "## Part 1\n",
    "----"
   ]
  },
  {
   "cell_type": "code",
   "execution_count": 1,
   "metadata": {},
   "outputs": [],
   "source": [
    "import itertools\n",
    "import copy\n",
    "from collections import deque"
   ]
  },
  {
   "cell_type": "code",
   "execution_count": 2,
   "metadata": {},
   "outputs": [],
   "source": [
    "def opcode_to_str(opcode_int):\n",
    "    '''\n",
    "    Take integer opcode and convert it to string of length 5, with left padded 0s\n",
    "    '''\n",
    "    opcode_len = len(str(opcode_int)) \n",
    "    return (5 - opcode_len) * '0' + str(opcode_int)"
   ]
  },
  {
   "cell_type": "code",
   "execution_count": 46,
   "metadata": {},
   "outputs": [],
   "source": [
    "def run_intcode(int_input, program):\n",
    "    \n",
    "    position = 0\n",
    "    output = []\n",
    "    opcode = ''\n",
    "    \n",
    "    while True:\n",
    "        \n",
    "        opcode = opcode_to_str(program[position])                \n",
    "            \n",
    "        # opcode '01' is addition, takes 3 parameters\n",
    "        if opcode[-2:] == '01':\n",
    "            \n",
    "            if opcode[-3] == '0':\n",
    "                param_1 = program[program[position + 1]]\n",
    "            elif opcode[-3] == '1':\n",
    "                param_1 = program[position + 1]\n",
    "                \n",
    "            if opcode[-4] == '0':\n",
    "                param_2 = program[program[position + 2]]\n",
    "            elif opcode[-4] == '1':\n",
    "                param_2 = program[position + 2]\n",
    "            \n",
    "            # Controls WHERE the values are written\n",
    "            if opcode[-5] == '0':\n",
    "                program[program[position + 3]] = param_1 + param_2\n",
    "            elif opcode[-5] == '1':\n",
    "                program[position + 3] = param_1 + param_2\n",
    "            \n",
    "            # Move to next \"opcode\"\n",
    "            position += 4 \n",
    "            \n",
    "\n",
    "        # opcode '02' is multiplication, takes 3 parameters\n",
    "        elif opcode[-2:] == '02':\n",
    "\n",
    "            if opcode[-3] == '0':\n",
    "                param_1 = program[program[position + 1]]\n",
    "            elif opcode[-3] == '1':\n",
    "                param_1 = program[position + 1]\n",
    "                \n",
    "            if opcode[-4] == '0':\n",
    "                param_2 = program[program[position + 2]]\n",
    "            elif opcode[-4] == '1':\n",
    "                param_2 = program[position + 2]\n",
    "            \n",
    "            \n",
    "            # Controls WHERE the values are written\n",
    "            if opcode[-5] == '0':\n",
    "                program[program[position + 3]] = param_1 * param_2\n",
    "            elif opcode[-5] == '1':\n",
    "                program[position + 3] = param_1 * param_2\n",
    "\n",
    "            # Move to next \"opcode\"\n",
    "            position += 4 \n",
    "\n",
    "\n",
    "        # opcode '03' is input, takes 1 parameter\n",
    "        elif opcode[-2:] == '03':  \n",
    "            \n",
    "            program[program[position + 1]] = int_input.pop(0)\n",
    "\n",
    "            position += 2 # Move to next \"opcode\"\n",
    "\n",
    "            \n",
    "        # opcode '04' is output, takes 1 parameter\n",
    "        elif opcode[-2:] == '04':\n",
    "            \n",
    "            if opcode[-3] == '0':\n",
    "                param_1 = program[program[position + 1]]\n",
    "            elif opcode[-3] == '1':\n",
    "                param_1 = program[position + 1]\n",
    "            \n",
    "            output.append(param_1)\n",
    "\n",
    "            position += 2 # Move to next \"opcode\"\n",
    "\n",
    "            \n",
    "        # opcode '05', jump if true\n",
    "        elif opcode[-2:] == '05':\n",
    "            \n",
    "            if opcode[-3] == '0':\n",
    "                param_1 = program[program[position + 1]]\n",
    "            elif opcode[-3] == '1':\n",
    "                param_1 = program[position + 1]\n",
    "\n",
    "            if opcode[-4] == '0':\n",
    "                param_2 = program[program[position + 2]]\n",
    "            elif opcode[-4] == '1':\n",
    "                param_2 = program[position + 2]\n",
    "            \n",
    "            if param_1 != 0:\n",
    "                position = param_2\n",
    "            else:\n",
    "                position += 3\n",
    "                \n",
    "        \n",
    "        # opcode '06', jump if false\n",
    "        elif opcode[-2:] == '06':\n",
    "\n",
    "            if opcode[-3] == '0':\n",
    "                param_1 = program[program[position + 1]]\n",
    "            elif opcode[-3] == '1':\n",
    "                param_1 = program[position + 1]\n",
    "\n",
    "            if opcode[-4] == '0':\n",
    "                param_2 = program[program[position + 2]]\n",
    "            elif opcode[-4] == '1':\n",
    "                param_2 = program[position + 2]\n",
    "            \n",
    "            if param_1 == 0:\n",
    "                position = param_2\n",
    "            else:\n",
    "                position += 3\n",
    "        \n",
    "        \n",
    "        # opcode '07', less than\n",
    "        elif opcode[-2:] == '07':\n",
    "\n",
    "            if opcode[-3] == '0':\n",
    "                param_1 = program[program[position + 1]]\n",
    "            elif opcode[-3] == '1':\n",
    "                param_1 = program[position + 1]\n",
    "\n",
    "            if opcode[-4] == '0':\n",
    "                param_2 = program[program[position + 2]]\n",
    "            elif opcode[-4] == '1':\n",
    "                param_2 = program[position + 2]\n",
    "                \n",
    "            # Controls WHERE the values are written\n",
    "            if opcode[-5] == '0':\n",
    "                if param_1 < param_2:\n",
    "                    program[program[position + 3]] = 1\n",
    "                else:\n",
    "                    program[program[position + 3]] = 0                \n",
    "            \n",
    "            elif opcode[-5] == '1':\n",
    "                if param_1 < param_2:\n",
    "                    program[position + 3] = 1\n",
    "                else:\n",
    "                    program[position + 3] = 0\n",
    "\n",
    "            position += 4\n",
    "        \n",
    "        \n",
    "        # opcode '08', equals\n",
    "        elif opcode[-2:] == '08':\n",
    "\n",
    "            if opcode[-3] == '0':\n",
    "                param_1 = program[program[position + 1]]\n",
    "            elif opcode[-3] == '1':\n",
    "                param_1 = program[position + 1]\n",
    "\n",
    "            if opcode[-4] == '0':\n",
    "                param_2 = program[program[position + 2]]\n",
    "            elif opcode[-4] == '1':\n",
    "                param_2 = program[position + 2]\n",
    "                \n",
    "            # Controls WHERE the values are written\n",
    "            if opcode[-5] == '0':\n",
    "                if param_1 == param_2:\n",
    "                    program[program[position + 3]] = 1\n",
    "                else:\n",
    "                    program[program[position + 3]] = 0                \n",
    "            \n",
    "            elif opcode[-5] == '1':\n",
    "                if param_1 == param_2:\n",
    "                    program[position + 3] = 1\n",
    "                else:\n",
    "                    program[position + 3] = 0\n",
    "\n",
    "            position += 4                    \n",
    "\n",
    "        # opcode '99' is terminate, takes 0 parameters    \n",
    "        elif opcode[-2:] == '99':\n",
    "            break\n",
    "            \n",
    "    return output[0]"
   ]
  },
  {
   "cell_type": "code",
   "execution_count": 51,
   "metadata": {},
   "outputs": [],
   "source": [
    "def run_amps(phase_settings, program):\n",
    "    \"\"\"\n",
    "    Run intcode programs in sequence with a set of phase settings and\n",
    "    output from the previous program.\n",
    "    \"\"\"\n",
    "    \n",
    "    q = deque([0]) # Start off with 0 as the first signal sent into Amp A \n",
    "\n",
    "    for phase in phase_settings:\n",
    "        \n",
    "        # Each amplifier runs an unaltered version of the program\n",
    "        program_copy = copy.deepcopy(program)\n",
    "        \n",
    "        # Populate the que\n",
    "        q.appendleft(phase)\n",
    "        q.appendleft(run_intcode(list(q), program_copy))    \n",
    "        \n",
    "        # Clear the que\n",
    "        signal = q.pop()\n",
    "        phase = q.pop()\n",
    "    \n",
    "    last_signal = q\n",
    "        \n",
    "    return last_signal[0]"
   ]
  },
  {
   "cell_type": "markdown",
   "metadata": {},
   "source": [
    "## Load some test data"
   ]
  },
  {
   "cell_type": "code",
   "execution_count": 52,
   "metadata": {},
   "outputs": [],
   "source": [
    "test_phases = [(4,3,2,1,0),\n",
    "               (0,1,2,3,4),\n",
    "               (1,0,4,3,2)]"
   ]
  },
  {
   "cell_type": "code",
   "execution_count": 53,
   "metadata": {},
   "outputs": [],
   "source": [
    "test_programs = [[3,15,3,16,1002,16,10,16,1,16,15,15,4,15,99,0,0],\n",
    "                 [3,23,3,24,1002,24,10,24,1002,23,-1,23,101,5,23,23,1,24,23,23,4,23,99,0,0],\n",
    "                 [3,31,3,32,1002,32,10,32,1001,31,-2,31,1007,31,0,33,1002,33,7,33,1,33,31,31,1,32,31,31,4,31,99,0,0,0]]"
   ]
  },
  {
   "cell_type": "markdown",
   "metadata": {},
   "source": [
    "## Run some tests"
   ]
  },
  {
   "cell_type": "code",
   "execution_count": 54,
   "metadata": {},
   "outputs": [
    {
     "data": {
      "text/plain": [
       "43210"
      ]
     },
     "execution_count": 54,
     "metadata": {},
     "output_type": "execute_result"
    }
   ],
   "source": [
    "run_amps(test_phases[0], test_programs[0])"
   ]
  },
  {
   "cell_type": "code",
   "execution_count": 55,
   "metadata": {},
   "outputs": [
    {
     "data": {
      "text/plain": [
       "54321"
      ]
     },
     "execution_count": 55,
     "metadata": {},
     "output_type": "execute_result"
    }
   ],
   "source": [
    "run_amps(test_phases[1], test_programs[1])"
   ]
  },
  {
   "cell_type": "code",
   "execution_count": 56,
   "metadata": {},
   "outputs": [
    {
     "data": {
      "text/plain": [
       "65210"
      ]
     },
     "execution_count": 56,
     "metadata": {},
     "output_type": "execute_result"
    }
   ],
   "source": [
    "run_amps(test_phases[2], test_programs[2])"
   ]
  },
  {
   "cell_type": "markdown",
   "metadata": {},
   "source": [
    "## Load program (puzzle input)"
   ]
  },
  {
   "cell_type": "code",
   "execution_count": 57,
   "metadata": {},
   "outputs": [],
   "source": [
    "with open(\"inputs\\\\amplifier_control_software.txt\") as file:\n",
    "    for line in file:\n",
    "        program = [int(x) for x in line.split(',')]        "
   ]
  },
  {
   "cell_type": "markdown",
   "metadata": {},
   "source": [
    "## Create all possible permutations of phase settings"
   ]
  },
  {
   "cell_type": "code",
   "execution_count": 58,
   "metadata": {},
   "outputs": [],
   "source": [
    "phase_sets = itertools.permutations(range(5))"
   ]
  },
  {
   "cell_type": "markdown",
   "metadata": {},
   "source": [
    "## Run all possible permutations through the amps and get the max(thrust)"
   ]
  },
  {
   "cell_type": "code",
   "execution_count": 59,
   "metadata": {},
   "outputs": [
    {
     "name": "stdout",
     "output_type": "stream",
     "text": [
      "567045\n",
      "Wall time: 257 ms\n"
     ]
    }
   ],
   "source": [
    "%%time\n",
    "thrusts = [run_amps(phase, program) for phase in phase_sets]\n",
    "print(max(thrusts))"
   ]
  },
  {
   "cell_type": "markdown",
   "metadata": {},
   "source": [
    "# Bingo!"
   ]
  },
  {
   "cell_type": "markdown",
   "metadata": {},
   "source": [
    "----\n",
    "## Part 2\n",
    "----"
   ]
  },
  {
   "cell_type": "markdown",
   "metadata": {},
   "source": [
    "### Create `int_computer` as a generator function"
   ]
  },
  {
   "cell_type": "code",
   "execution_count": 117,
   "metadata": {},
   "outputs": [],
   "source": [
    "def run_intcode_gen(int_input, program):\n",
    "    \"\"\"\n",
    "    Generator function version of the intcode computer\n",
    "    \"\"\"\n",
    "    position = 0\n",
    "    output = []\n",
    "    opcode = ''\n",
    "    program = copy.deepcopy(program)\n",
    "    \n",
    "    while True:\n",
    "        \n",
    "        opcode = opcode_to_str(program[position])                \n",
    "            \n",
    "        # opcode '01' is addition, takes 3 parameters\n",
    "        if opcode[-2:] == '01':\n",
    "            \n",
    "            if opcode[-3] == '0':\n",
    "                param_1 = program[program[position + 1]]\n",
    "            elif opcode[-3] == '1':\n",
    "                param_1 = program[position + 1]\n",
    "                \n",
    "            if opcode[-4] == '0':\n",
    "                param_2 = program[program[position + 2]]\n",
    "            elif opcode[-4] == '1':\n",
    "                param_2 = program[position + 2]\n",
    "            \n",
    "            # Controls WHERE the values are written\n",
    "            if opcode[-5] == '0':\n",
    "                program[program[position + 3]] = param_1 + param_2\n",
    "            elif opcode[-5] == '1':\n",
    "                program[position + 3] = param_1 + param_2\n",
    "            \n",
    "            # Move to next \"opcode\"\n",
    "            position += 4 \n",
    "            \n",
    "\n",
    "        # opcode '02' is multiplication, takes 3 parameters\n",
    "        elif opcode[-2:] == '02':\n",
    "\n",
    "            if opcode[-3] == '0':\n",
    "                param_1 = program[program[position + 1]]\n",
    "            elif opcode[-3] == '1':\n",
    "                param_1 = program[position + 1]\n",
    "                \n",
    "            if opcode[-4] == '0':\n",
    "                param_2 = program[program[position + 2]]\n",
    "            elif opcode[-4] == '1':\n",
    "                param_2 = program[position + 2]\n",
    "            \n",
    "            \n",
    "            # Controls WHERE the values are written\n",
    "            if opcode[-5] == '0':\n",
    "                program[program[position + 3]] = param_1 * param_2\n",
    "            elif opcode[-5] == '1':\n",
    "                program[position + 3] = param_1 * param_2\n",
    "\n",
    "            # Move to next \"opcode\"\n",
    "            position += 4 \n",
    "\n",
    "\n",
    "        # opcode '03' is input, takes 1 parameter\n",
    "        elif opcode[-2:] == '03':  \n",
    "            \n",
    "            program[program[position + 1]] = int_input.pop(0)\n",
    "\n",
    "            position += 2 # Move to next \"opcode\"\n",
    "\n",
    "            \n",
    "        # opcode '04' is output, takes 1 parameter\n",
    "        elif opcode[-2:] == '04':\n",
    "            \n",
    "            if opcode[-3] == '0':\n",
    "                param_1 = program[program[position + 1]]\n",
    "            elif opcode[-3] == '1':\n",
    "                param_1 = program[position + 1]\n",
    "\n",
    "            #output.append(param_1)\n",
    "            yield param_1  # Makes function a generator!!!\n",
    "            \n",
    "            # Move to next \"opcode\"\n",
    "            position += 2 \n",
    "\n",
    "            \n",
    "        # opcode '05', jump if true\n",
    "        elif opcode[-2:] == '05':\n",
    "            \n",
    "            if opcode[-3] == '0':\n",
    "                param_1 = program[program[position + 1]]\n",
    "            elif opcode[-3] == '1':\n",
    "                param_1 = program[position + 1]\n",
    "\n",
    "            if opcode[-4] == '0':\n",
    "                param_2 = program[program[position + 2]]\n",
    "            elif opcode[-4] == '1':\n",
    "                param_2 = program[position + 2]\n",
    "            \n",
    "            # Move to next \"opcode\"\n",
    "            if param_1 != 0:\n",
    "                position = param_2\n",
    "            else:\n",
    "                position += 3\n",
    "                \n",
    "        \n",
    "        # opcode '06', jump if false\n",
    "        elif opcode[-2:] == '06':\n",
    "\n",
    "            if opcode[-3] == '0':\n",
    "                param_1 = program[program[position + 1]]\n",
    "            elif opcode[-3] == '1':\n",
    "                param_1 = program[position + 1]\n",
    "\n",
    "            if opcode[-4] == '0':\n",
    "                param_2 = program[program[position + 2]]\n",
    "            elif opcode[-4] == '1':\n",
    "                param_2 = program[position + 2]\n",
    "            \n",
    "            # Move to next \"opcode\"\n",
    "            if param_1 == 0:\n",
    "                position = param_2\n",
    "            else:\n",
    "                position += 3\n",
    "        \n",
    "        \n",
    "        # opcode '07', less than\n",
    "        elif opcode[-2:] == '07':\n",
    "\n",
    "            if opcode[-3] == '0':\n",
    "                param_1 = program[program[position + 1]]\n",
    "            elif opcode[-3] == '1':\n",
    "                param_1 = program[position + 1]\n",
    "\n",
    "            if opcode[-4] == '0':\n",
    "                param_2 = program[program[position + 2]]\n",
    "            elif opcode[-4] == '1':\n",
    "                param_2 = program[position + 2]\n",
    "                \n",
    "            # Controls WHERE the values are written\n",
    "            if opcode[-5] == '0':\n",
    "                if param_1 < param_2:\n",
    "                    program[program[position + 3]] = 1\n",
    "                else:\n",
    "                    program[program[position + 3]] = 0                \n",
    "            \n",
    "            elif opcode[-5] == '1':\n",
    "                if param_1 < param_2:\n",
    "                    program[position + 3] = 1\n",
    "                else:\n",
    "                    program[position + 3] = 0\n",
    "\n",
    "            # Move to next \"opcode\"\n",
    "            position += 4\n",
    "        \n",
    "        \n",
    "        # opcode '08', equals\n",
    "        elif opcode[-2:] == '08':\n",
    "\n",
    "            if opcode[-3] == '0':\n",
    "                param_1 = program[program[position + 1]]\n",
    "            elif opcode[-3] == '1':\n",
    "                param_1 = program[position + 1]\n",
    "\n",
    "            if opcode[-4] == '0':\n",
    "                param_2 = program[program[position + 2]]\n",
    "            elif opcode[-4] == '1':\n",
    "                param_2 = program[position + 2]\n",
    "                \n",
    "            # Controls WHERE the values are written\n",
    "            if opcode[-5] == '0':\n",
    "                if param_1 == param_2:\n",
    "                    program[program[position + 3]] = 1\n",
    "                else:\n",
    "                    program[program[position + 3]] = 0                \n",
    "            \n",
    "            elif opcode[-5] == '1':\n",
    "                if param_1 == param_2:\n",
    "                    program[position + 3] = 1\n",
    "                else:\n",
    "                    program[position + 3] = 0\n",
    "\n",
    "            position += 4                    \n",
    "\n",
    "            \n",
    "        # opcode '99' is terminate, takes 0 parameters    \n",
    "        elif opcode[-2:] == '99':\n",
    "            break\n",
    "            "
   ]
  },
  {
   "cell_type": "code",
   "execution_count": 131,
   "metadata": {},
   "outputs": [],
   "source": [
    "def run_amplifiers(phases, program):\n",
    "    \"\"\"\n",
    "    Source: https://twitter.com/FogleBird/status/1203366610020556806/photo/1\n",
    "    \"\"\"\n",
    "    \n",
    "    # Convert phases to a list of lists, as a list will be passed as inputs to the \n",
    "    # int_computer_gen function\n",
    "    inputs = [[phase] for phase in phases]\n",
    "    \n",
    "    # Append a 0 to the first element, as this is the initial input\n",
    "    inputs[0].append(0)\n",
    "    \n",
    "    #print(inputs)\n",
    "    \n",
    "    # Create a list of running amplifiers\n",
    "    # len(inputs) = 5 -- one for each phase setting\n",
    "    # The first input has two elements in the list, but all the\n",
    "    # rest have just the phase settings\n",
    "    amplifiers = [run_intcode_gen(i, program) for i in inputs]\n",
    "    \n",
    "    #print(amplifiers) # produces a list of generator objects\n",
    "    \n",
    "    # Start an infinite feedback-loop\n",
    "    while True:\n",
    "        \n",
    "        # For each loop in the feedback-loop, run through all 5 amplifiers\n",
    "        for i, amp in enumerate(amplifiers):\n",
    "            \n",
    "            #print(inputs)\n",
    "            \n",
    "            try:\n",
    "                signal = next(amp) # next(amp) makes next function call and collects the signal\n",
    "            \n",
    "            # Not sure what StopIteration is/does...\n",
    "            except StopIteration:\n",
    "                return signal # spits out the last signal, to be sent to the Thruster\n",
    "            \n",
    "            # Clever: (i + 1) % len(inputs) cycles through 0:4 as i increases\n",
    "            inputs[(i + 1) % len(inputs)].append(signal)"
   ]
  },
  {
   "cell_type": "markdown",
   "metadata": {},
   "source": [
    "## Test Data"
   ]
  },
  {
   "cell_type": "code",
   "execution_count": 132,
   "metadata": {},
   "outputs": [],
   "source": [
    "test_phases_2 = [(9,8,7,6,5),\n",
    "                 (9,7,8,5,6)]"
   ]
  },
  {
   "cell_type": "code",
   "execution_count": 133,
   "metadata": {},
   "outputs": [],
   "source": [
    "test_programs_2 = [[3,26,1001,26,-4,26,3,27,1002,27,2,27,1,27,26,27,4,27,1001,28,-1,28,1005,28,6,99,0,0,5],\n",
    "                   [3,52,1001,52,-5,52,3,53,1,52,56,54,1007,54,5,55,1005,55,26,1001,54,-5,54,1105,1,12,1,53,54,53,1008,54,0,55,1001,55,1,55,2,53,55,53,4,53,1001,56,-1,56,1005,56,6,99,0,0,0,0,10]]"
   ]
  },
  {
   "cell_type": "code",
   "execution_count": 134,
   "metadata": {},
   "outputs": [
    {
     "data": {
      "text/plain": [
       "139629729"
      ]
     },
     "execution_count": 134,
     "metadata": {},
     "output_type": "execute_result"
    }
   ],
   "source": [
    "run_amplifiers(test_phases_2[0], test_programs_2[0])"
   ]
  },
  {
   "cell_type": "code",
   "execution_count": 135,
   "metadata": {},
   "outputs": [
    {
     "data": {
      "text/plain": [
       "18216"
      ]
     },
     "execution_count": 135,
     "metadata": {},
     "output_type": "execute_result"
    }
   ],
   "source": [
    "run_amplifiers(test_phases_2[1], test_programs_2[1])"
   ]
  },
  {
   "cell_type": "code",
   "execution_count": 149,
   "metadata": {},
   "outputs": [],
   "source": [
    "phase_sets = itertools.permutations(range(5,10))"
   ]
  },
  {
   "cell_type": "code",
   "execution_count": 169,
   "metadata": {},
   "outputs": [
    {
     "data": {
      "text/plain": [
       "39016654"
      ]
     },
     "execution_count": 169,
     "metadata": {},
     "output_type": "execute_result"
    }
   ],
   "source": [
    "max(run_amplifiers(phases, program) for phases in phase_sets)"
   ]
  },
  {
   "cell_type": "markdown",
   "metadata": {},
   "source": [
    "## That was hard!"
   ]
  }
 ],
 "metadata": {
  "kernelspec": {
   "display_name": "Python 3",
   "language": "python",
   "name": "python3"
  },
  "language_info": {
   "codemirror_mode": {
    "name": "ipython",
    "version": 3
   },
   "file_extension": ".py",
   "mimetype": "text/x-python",
   "name": "python",
   "nbconvert_exporter": "python",
   "pygments_lexer": "ipython3",
   "version": "3.7.3"
  }
 },
 "nbformat": 4,
 "nbformat_minor": 2
}
