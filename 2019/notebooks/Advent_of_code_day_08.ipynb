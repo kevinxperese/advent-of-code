{
 "cells": [
  {
   "cell_type": "markdown",
   "metadata": {},
   "source": [
    "# Advent of Code, 2019\n",
    "## Day 8: Space Image Format\n",
    "https://adventofcode.com/2019/day/8"
   ]
  },
  {
   "cell_type": "markdown",
   "metadata": {},
   "source": [
    "----\n",
    "## Part 1\n",
    "----"
   ]
  },
  {
   "cell_type": "code",
   "execution_count": 1,
   "metadata": {},
   "outputs": [],
   "source": [
    "import numpy as np"
   ]
  },
  {
   "cell_type": "code",
   "execution_count": 2,
   "metadata": {},
   "outputs": [],
   "source": [
    "with open(\"inputs\\\\password.txt\") as file:\n",
    "    for line in file:\n",
    "        password = [int(x) for x in line]"
   ]
  },
  {
   "cell_type": "code",
   "execution_count": 3,
   "metadata": {},
   "outputs": [],
   "source": [
    "NUM_COLS = 25\n",
    "NUM_ROWS = 6"
   ]
  },
  {
   "cell_type": "code",
   "execution_count": 4,
   "metadata": {},
   "outputs": [
    {
     "data": {
      "text/plain": [
       "100.0"
      ]
     },
     "execution_count": 4,
     "metadata": {},
     "output_type": "execute_result"
    }
   ],
   "source": [
    "num_layers = len(password) / (NUM_COLS * NUM_ROWS)\n",
    "num_layers"
   ]
  },
  {
   "cell_type": "code",
   "execution_count": 5,
   "metadata": {},
   "outputs": [],
   "source": [
    "layers = np.asarray(password).reshape(int(num_layers), NUM_ROWS, NUM_COLS)"
   ]
  },
  {
   "cell_type": "code",
   "execution_count": 6,
   "metadata": {},
   "outputs": [],
   "source": [
    "num_0s_each_layer = {}\n",
    "for i, layer in enumerate(layers):\n",
    "    num_0s_each_layer.update({i : np.count_nonzero(layers[layer] == 0)})"
   ]
  },
  {
   "cell_type": "code",
   "execution_count": 7,
   "metadata": {},
   "outputs": [],
   "source": [
    "# Get layer index with minimum number of zeros in it\n",
    "min_0s_layer = min(num_0s_each_layer, key=num_0s_each_layer.get)"
   ]
  },
  {
   "cell_type": "code",
   "execution_count": 8,
   "metadata": {},
   "outputs": [
    {
     "name": "stdout",
     "output_type": "stream",
     "text": [
      "6\n",
      "17\n",
      "127\n"
     ]
    }
   ],
   "source": [
    "num_0s = np.count_nonzero(layers[min_0s_layer] == 0)\n",
    "num_1s = np.count_nonzero(layers[min_0s_layer] == 1)\n",
    "num_2s = np.count_nonzero(layers[min_0s_layer] == 2)\n",
    "\n",
    "print(num_0s)\n",
    "print(num_1s)\n",
    "print(num_2s)"
   ]
  },
  {
   "cell_type": "code",
   "execution_count": 9,
   "metadata": {},
   "outputs": [
    {
     "data": {
      "text/plain": [
       "2159"
      ]
     },
     "execution_count": 9,
     "metadata": {},
     "output_type": "execute_result"
    }
   ],
   "source": [
    "num_1s * num_2s"
   ]
  },
  {
   "cell_type": "markdown",
   "metadata": {},
   "source": [
    "## Uh-huh"
   ]
  },
  {
   "cell_type": "markdown",
   "metadata": {},
   "source": [
    "----\n",
    "## Part 2\n",
    "----"
   ]
  },
  {
   "cell_type": "markdown",
   "metadata": {},
   "source": [
    "## Load some test data"
   ]
  },
  {
   "cell_type": "code",
   "execution_count": 10,
   "metadata": {},
   "outputs": [],
   "source": [
    "test_data = [int(x) for x in '0222112222120000']"
   ]
  },
  {
   "cell_type": "code",
   "execution_count": 11,
   "metadata": {},
   "outputs": [],
   "source": [
    "test_layers = np.asarray(test_data).reshape(4, 2, 2)"
   ]
  },
  {
   "cell_type": "code",
   "execution_count": 12,
   "metadata": {},
   "outputs": [],
   "source": [
    "def get_image(layers, num_layers, num_rows, num_cols):\n",
    "    \n",
    "    image = np.ndarray(shape = (num_rows, num_cols))\n",
    "    \n",
    "    for l in reversed(range(num_layers)):\n",
    "        for r in range(num_rows):\n",
    "            for c in range(num_cols):\n",
    "                if layers[l, r, c] == 0:\n",
    "                    image[r, c] = True # black\n",
    "                elif layers[l, r, c] == 1:\n",
    "                    image[r, c] = False # white\n",
    "    return image"
   ]
  },
  {
   "cell_type": "code",
   "execution_count": 13,
   "metadata": {},
   "outputs": [
    {
     "data": {
      "text/plain": [
       "array([[1., 0.],\n",
       "       [0., 1.]])"
      ]
     },
     "execution_count": 13,
     "metadata": {},
     "output_type": "execute_result"
    }
   ],
   "source": [
    "get_image(test_layers, 4, 2, 2)"
   ]
  },
  {
   "cell_type": "markdown",
   "metadata": {},
   "source": [
    "## Get the message"
   ]
  },
  {
   "cell_type": "code",
   "execution_count": 14,
   "metadata": {},
   "outputs": [],
   "source": [
    "image = get_image(layers, int(num_layers), NUM_ROWS, NUM_COLS)"
   ]
  },
  {
   "cell_type": "code",
   "execution_count": 15,
   "metadata": {},
   "outputs": [],
   "source": [
    "with open(\"outputs\\\\message.txt\", 'w') as outfile:\n",
    "    for r in range(NUM_ROWS):\n",
    "        outfile.write(\"\\n\")\n",
    "        for c in range(NUM_COLS):\n",
    "            # Message is white on black back ground so swap spaces and *s\n",
    "            if image[r, c]:\n",
    "                outfile.write(\" \") \n",
    "            else:\n",
    "                outfile.write(\"*\")"
   ]
  },
  {
   "cell_type": "markdown",
   "metadata": {},
   "source": [
    "#### CJZHR"
   ]
  },
  {
   "cell_type": "markdown",
   "metadata": {},
   "source": [
    "## Yessiree"
   ]
  }
 ],
 "metadata": {
  "kernelspec": {
   "display_name": "Python 3",
   "language": "python",
   "name": "python3"
  },
  "language_info": {
   "codemirror_mode": {
    "name": "ipython",
    "version": 3
   },
   "file_extension": ".py",
   "mimetype": "text/x-python",
   "name": "python",
   "nbconvert_exporter": "python",
   "pygments_lexer": "ipython3",
   "version": "3.7.3"
  }
 },
 "nbformat": 4,
 "nbformat_minor": 2
}
