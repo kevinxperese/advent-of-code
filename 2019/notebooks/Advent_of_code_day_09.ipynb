{
 "cells": [
  {
   "cell_type": "markdown",
   "metadata": {},
   "source": [
    "# Advent of Code 2019\n",
    "## Day 9: Sensor Boost\n",
    "https://adventofcode.com/2019/day/9"
   ]
  },
  {
   "cell_type": "markdown",
   "metadata": {},
   "source": [
    "----\n",
    "## Part 1\n",
    "----"
   ]
  },
  {
   "cell_type": "code",
   "execution_count": 1,
   "metadata": {},
   "outputs": [],
   "source": [
    "import copy"
   ]
  },
  {
   "cell_type": "code",
   "execution_count": 2,
   "metadata": {},
   "outputs": [],
   "source": [
    "def run_intcode_computer(program, int_input):\n",
    "    \"\"\"\n",
    "    Generator function version of the intcode computer\n",
    "    \"\"\"\n",
    "    position = 0\n",
    "    output = []\n",
    "    opcode = ''\n",
    "    program = copy.deepcopy(program) + 1000 * [0]\n",
    "    \n",
    "    num_params = [0, 3, 3, 1, 1, 2, 2, 3, 3, 1] # each element maps to an opcode\n",
    "\n",
    "    relative_base = 0\n",
    "    \n",
    "    while True:\n",
    "\n",
    "        opcode_str = (5 - len(str(program[position]))) * '0' + str(program[position])\n",
    "        opcode = int(opcode_str[-2:])\n",
    "\n",
    "        # opcode 99 is terminate, takes 0 parameters    \n",
    "        if opcode == 99:\n",
    "            break\n",
    "        \n",
    "        modes = [0, int(opcode_str[-3]), int(opcode_str[-4]), int(opcode_str[-5])]\n",
    "        \n",
    "        arg_pos = [0] # Argument position, start list with a 0 pad\n",
    "        for i in range(1, num_params[opcode] + 1):\n",
    "            if i <= num_params[opcode]:\n",
    "                # position mode\n",
    "                if modes[i] == 0:  \n",
    "                    arg_pos.append(program[position + i])\n",
    "                # immediate mode\n",
    "                elif modes[i] == 1: \n",
    "                    arg_pos.append(position + i)\n",
    "                # relative mode\n",
    "                elif modes[i] == 2:\n",
    "                    arg_pos.append(relative_base + program[position + i])\n",
    "\n",
    "        # Set next opcode position\n",
    "        position += num_params[opcode] + 1\n",
    "        \n",
    "        # opcode 1 is addition, takes 3 parameters\n",
    "        if opcode == 1:\n",
    "            program[arg_pos[3]] = program[arg_pos[1]] + program[arg_pos[2]]\n",
    "\n",
    "        # opcode 2 is multiplication, takes 3 parameters\n",
    "        elif opcode == 2:\n",
    "            program[arg_pos[3]] = program[arg_pos[1]] * program[arg_pos[2]]\n",
    "\n",
    "        # opcode 3 is input, takes 1 parameter\n",
    "        elif opcode == 3:  \n",
    "            program[arg_pos[1]] = int_input.pop(0)\n",
    "            \n",
    "        # opcode 4 is output, takes 1 parameter\n",
    "        elif opcode == 4:\n",
    "            # yield program[arg_pos[1]]\n",
    "            output.append(program[arg_pos[1]])\n",
    "            \n",
    "        # opcode 5, jump if true, takes 2 parameters\n",
    "        elif opcode == 5:\n",
    "            if program[arg_pos[1]] == True:\n",
    "                position = program[arg_pos[2]]\n",
    "        \n",
    "        # opcode 6, jump if false, takes 2 parameters\n",
    "        elif opcode == 6:\n",
    "            if program[arg_pos[1]] == False:\n",
    "                position = program[arg_pos[2]]\n",
    "        \n",
    "        # opcode 7, less than, takes 3 parameters\n",
    "        elif opcode == 7:\n",
    "            if program[arg_pos[1]] < program[arg_pos[2]]:\n",
    "                program[arg_pos[3]] = 1\n",
    "            else:\n",
    "                program[arg_pos[3]] = 0\n",
    "\n",
    "        # opcode 8, equals, takes 3 parameters\n",
    "        elif opcode == 8:\n",
    "            if program[arg_pos[1]] == program[arg_pos[2]]:\n",
    "                program[arg_pos[3]] = 1\n",
    "            else:\n",
    "                program[arg_pos[3]] = 0\n",
    "                \n",
    "        # opcode 9, adjust relative base, takes 1 parameter\n",
    "        elif opcode == 9:\n",
    "            relative_base += program[arg_pos[1]]     \n",
    "    \n",
    "    return output"
   ]
  },
  {
   "cell_type": "markdown",
   "metadata": {},
   "source": [
    "## Test Data"
   ]
  },
  {
   "cell_type": "code",
   "execution_count": 3,
   "metadata": {},
   "outputs": [],
   "source": [
    "test_pgms = [[109,1,204,-1,1001,10,1,100,1008,100,16,101,1006,101,0,99],\n",
    "             [1102,34915192,34915192,7,4,7,99,0],\n",
    "             [104,1125899906842624,99]]"
   ]
  },
  {
   "cell_type": "code",
   "execution_count": 4,
   "metadata": {
    "scrolled": true
   },
   "outputs": [
    {
     "ename": "IndexError",
     "evalue": "list index out of range",
     "output_type": "error",
     "traceback": [
      "\u001b[1;31m---------------------------------------------------------------------------\u001b[0m",
      "\u001b[1;31mIndexError\u001b[0m                                Traceback (most recent call last)",
      "\u001b[1;32m<ipython-input-4-24d210368bf3>\u001b[0m in \u001b[0;36m<module>\u001b[1;34m\u001b[0m\n\u001b[1;32m----> 1\u001b[1;33m \u001b[0mrun_intcode_computer\u001b[0m\u001b[1;33m(\u001b[0m\u001b[0mtest_pgms\u001b[0m\u001b[1;33m[\u001b[0m\u001b[1;36m0\u001b[0m\u001b[1;33m]\u001b[0m\u001b[1;33m,\u001b[0m \u001b[1;33m[\u001b[0m\u001b[1;36m1\u001b[0m\u001b[1;33m]\u001b[0m\u001b[1;33m)\u001b[0m\u001b[1;33m\u001b[0m\u001b[1;33m\u001b[0m\u001b[0m\n\u001b[0m",
      "\u001b[1;32m<ipython-input-2-5d1332725347>\u001b[0m in \u001b[0;36mrun_intcode_computer\u001b[1;34m(program, int_input)\u001b[0m\n\u001b[0;32m     54\u001b[0m         \u001b[1;32melif\u001b[0m \u001b[0mopcode\u001b[0m \u001b[1;33m==\u001b[0m \u001b[1;36m4\u001b[0m\u001b[1;33m:\u001b[0m\u001b[1;33m\u001b[0m\u001b[1;33m\u001b[0m\u001b[0m\n\u001b[0;32m     55\u001b[0m             \u001b[1;31m# yield program[arg_pos[1]]\u001b[0m\u001b[1;33m\u001b[0m\u001b[1;33m\u001b[0m\u001b[1;33m\u001b[0m\u001b[0m\n\u001b[1;32m---> 56\u001b[1;33m             \u001b[0moutput\u001b[0m\u001b[1;33m.\u001b[0m\u001b[0mappend\u001b[0m\u001b[1;33m(\u001b[0m\u001b[0mprogram\u001b[0m\u001b[1;33m[\u001b[0m\u001b[0marg_pos\u001b[0m\u001b[1;33m[\u001b[0m\u001b[1;36m1\u001b[0m\u001b[1;33m]\u001b[0m\u001b[1;33m]\u001b[0m\u001b[1;33m)\u001b[0m\u001b[1;33m\u001b[0m\u001b[1;33m\u001b[0m\u001b[0m\n\u001b[0m\u001b[0;32m     57\u001b[0m \u001b[1;33m\u001b[0m\u001b[0m\n\u001b[0;32m     58\u001b[0m         \u001b[1;31m# opcode 5, jump if true, takes 2 parameters\u001b[0m\u001b[1;33m\u001b[0m\u001b[1;33m\u001b[0m\u001b[1;33m\u001b[0m\u001b[0m\n",
      "\u001b[1;31mIndexError\u001b[0m: list index out of range"
     ]
    }
   ],
   "source": [
    "# Should write out the input program (Quine - https://en.wikipedia.org/wiki/Quine_(computing))\n",
    "run_intcode_computer(test_pgms[0], [1])"
   ]
  },
  {
   "cell_type": "code",
   "execution_count": 5,
   "metadata": {},
   "outputs": [
    {
     "data": {
      "text/plain": [
       "16"
      ]
     },
     "execution_count": 5,
     "metadata": {},
     "output_type": "execute_result"
    }
   ],
   "source": [
    "# Should write out a 16 digit number\n",
    "len(str(run_intcode_computer(test_pgms[1] + 1000 * [0], [1])[0]))"
   ]
  },
  {
   "cell_type": "code",
   "execution_count": 6,
   "metadata": {},
   "outputs": [
    {
     "data": {
      "text/plain": [
       "1125899906842624"
      ]
     },
     "execution_count": 6,
     "metadata": {},
     "output_type": "execute_result"
    }
   ],
   "source": [
    "# Should write out 1125899906842624\n",
    "run_intcode_computer(test_pgms[2] + 1000 * [0], [1])[0]"
   ]
  },
  {
   "cell_type": "markdown",
   "metadata": {},
   "source": [
    "## Read in the Boost program"
   ]
  },
  {
   "cell_type": "code",
   "execution_count": 7,
   "metadata": {},
   "outputs": [],
   "source": [
    "with open(\"inputs\\\\boost.txt\") as file:\n",
    "    for line in file:\n",
    "        program = [int(x) for x in line.split(',')] "
   ]
  },
  {
   "cell_type": "code",
   "execution_count": 8,
   "metadata": {},
   "outputs": [
    {
     "data": {
      "text/plain": [
       "2494485073"
      ]
     },
     "execution_count": 8,
     "metadata": {},
     "output_type": "execute_result"
    }
   ],
   "source": [
    "run_intcode_computer(program, [1])[0]"
   ]
  },
  {
   "cell_type": "markdown",
   "metadata": {},
   "source": [
    "----\n",
    "## Part 2\n",
    "----\n",
    "Run with 2 as input"
   ]
  },
  {
   "cell_type": "code",
   "execution_count": 9,
   "metadata": {},
   "outputs": [
    {
     "name": "stdout",
     "output_type": "stream",
     "text": [
      "Wall time: 1.45 s\n"
     ]
    },
    {
     "data": {
      "text/plain": [
       "44997"
      ]
     },
     "execution_count": 9,
     "metadata": {},
     "output_type": "execute_result"
    }
   ],
   "source": [
    "%%time\n",
    "run_intcode_computer(program, [2])[0]"
   ]
  }
 ],
 "metadata": {
  "kernelspec": {
   "display_name": "Python 3",
   "language": "python",
   "name": "python3"
  },
  "language_info": {
   "codemirror_mode": {
    "name": "ipython",
    "version": 3
   },
   "file_extension": ".py",
   "mimetype": "text/x-python",
   "name": "python",
   "nbconvert_exporter": "python",
   "pygments_lexer": "ipython3",
   "version": "3.7.3"
  }
 },
 "nbformat": 4,
 "nbformat_minor": 2
}
