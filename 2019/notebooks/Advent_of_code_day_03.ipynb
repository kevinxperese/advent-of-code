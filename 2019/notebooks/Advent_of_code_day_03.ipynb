{
 "cells": [
  {
   "cell_type": "markdown",
   "metadata": {},
   "source": [
    "# Advent of Code\n",
    "## Day 3: Crossed Wires\n",
    "https://adventofcode.com/2019/day/3"
   ]
  },
  {
   "cell_type": "markdown",
   "metadata": {},
   "source": [
    "## Part 1"
   ]
  },
  {
   "cell_type": "code",
   "execution_count": 12,
   "metadata": {},
   "outputs": [],
   "source": [
    "import copy"
   ]
  },
  {
   "cell_type": "markdown",
   "metadata": {},
   "source": [
    "### Test data"
   ]
  },
  {
   "cell_type": "code",
   "execution_count": 2,
   "metadata": {},
   "outputs": [],
   "source": [
    "test_path_turns = [[['R8,U5,L5,D3'],\n",
    "                    ['U7,R6,D4,L4']],\n",
    "                   [['R75,D30,R83,U83,L12,D49,R71,U7,L72'],\n",
    "                    ['U62,R66,U55,R34,D71,R55,D58,R83']],\n",
    "                   [['R98,U47,R26,D63,R33,U87,L62,D20,R33,U53,R51'],\n",
    "                    ['U98,R91,D20,R16,D67,R40,U7,R15,U6,R7']]]"
   ]
  },
  {
   "cell_type": "code",
   "execution_count": 7,
   "metadata": {},
   "outputs": [],
   "source": [
    "def format_path_turns(two_wire_path_turns):\n",
    "    '''\n",
    "    Convert string of all turns to list of strings containing each turn.\n",
    "    For example: \n",
    "        [['R8,U5,L5,D3'],\n",
    "         ['U7,R6,D4,L4']]\n",
    "    is converted to:\n",
    "        [['R8', 'U5', 'L5', 'D3'],\n",
    "         ['U7', 'R6', 'D4', 'L4']]\n",
    "    '''\n",
    "    \n",
    "    formatted_path_turns = []\n",
    "\n",
    "    for path in two_wire_path_turns:\n",
    "        formatted_path_turns.append(path[0].split(','))\n",
    "        \n",
    "    return formatted_path_turns"
   ]
  },
  {
   "cell_type": "code",
   "execution_count": 8,
   "metadata": {},
   "outputs": [],
   "source": [
    "def convert_path_turns_to_path_coords(path_turns):\n",
    "    '''\n",
    "    Convert path turns into list of the coordinates for every point the path goes through.\n",
    "    \n",
    "    For example:\n",
    "        ['R2', 'U2']\n",
    "    Will be converted to:\n",
    "        [[1, 0],\n",
    "         [2, 0],\n",
    "         [2, 1],\n",
    "         [2, 2]]\n",
    "    '''\n",
    "    \n",
    "    coord = [0, 0]\n",
    "    path_coords = []\n",
    "    \n",
    "    for turn in path_turns:\n",
    "\n",
    "        if turn[0] == 'R':\n",
    "            for _ in range(1, int(turn[1:]) + 1):\n",
    "                coord[0] += 1\n",
    "                path_coords.append(copy.deepcopy(coord))\n",
    "                \n",
    "        elif turn[0] == 'L':\n",
    "            for _ in range(1, int(turn[1:]) + 1):\n",
    "                coord[0] -= 1\n",
    "                path_coords.append(copy.deepcopy(coord))                \n",
    "        \n",
    "        elif turn[0] == 'U':\n",
    "            for _ in range(1, int(turn[1:]) + 1):               \n",
    "                coord[1] += 1\n",
    "                path_coords.append(copy.deepcopy(coord))\n",
    "\n",
    "        elif turn[0] == 'D':\n",
    "            for _ in range(1, int(turn[1:]) + 1):\n",
    "                coord[1] -= 1\n",
    "                path_coords.append(copy.deepcopy(coord))\n",
    "    \n",
    "    return path_coords"
   ]
  },
  {
   "cell_type": "code",
   "execution_count": 5,
   "metadata": {},
   "outputs": [],
   "source": [
    "def find_intersections(coords_two_wire_paths):\n",
    "    '''\n",
    "    Given two lists of all the coordinate points for two paths, return list\n",
    "    of coordinates where they intersect.\n",
    "    '''\n",
    "\n",
    "    intersections = []\n",
    "\n",
    "    for path0 in coords_two_wire_paths[0]:\n",
    "        for path1 in coords_two_wire_paths[1]:\n",
    "            if path0 == path1:\n",
    "                intersections.append(path0)\n",
    "    \n",
    "    return intersections"
   ]
  },
  {
   "cell_type": "code",
   "execution_count": 9,
   "metadata": {},
   "outputs": [],
   "source": [
    "def calc_manhattan_dist(coord):\n",
    "    '''Calculate the Manhattan distance of a set of co-ordinates from the origion'''\n",
    "    return abs(coord[0]) + abs(coord[1])"
   ]
  },
  {
   "cell_type": "code",
   "execution_count": 65,
   "metadata": {},
   "outputs": [],
   "source": [
    "def get_answer(turns_for_two_wires):\n",
    "    \n",
    "    # Format the turns\n",
    "    formatted_turns_for_two_wires = format_path_turns(turns_for_two_wires)\n",
    "    \n",
    "    # Convert turns to coordinate data\n",
    "    path_coords = []\n",
    "    for path in formatted_turns_for_two_wires:\n",
    "        path_coords.append(convert_path_turns_to_path_coords(path))\n",
    "    \n",
    "    # Find intersections\n",
    "    intersections = find_intersections(path_coords)\n",
    "    \n",
    "    # Calculate distances\n",
    "    manhattan_distances = []\n",
    "    for coords in intersections:\n",
    "        manhattan_distances.append(calc_manhattan_dist(coords))\n",
    "        \n",
    "    # Find the minimum distance    \n",
    "    answer = min(manhattan_distances)\n",
    "    \n",
    "    return answer        "
   ]
  },
  {
   "cell_type": "markdown",
   "metadata": {},
   "source": [
    "### Test that function is working properly"
   ]
  },
  {
   "cell_type": "code",
   "execution_count": 66,
   "metadata": {},
   "outputs": [
    {
     "data": {
      "text/plain": [
       "6"
      ]
     },
     "execution_count": 66,
     "metadata": {},
     "output_type": "execute_result"
    }
   ],
   "source": [
    "get_answer(test_path_turns[0])"
   ]
  },
  {
   "cell_type": "code",
   "execution_count": 67,
   "metadata": {},
   "outputs": [
    {
     "data": {
      "text/plain": [
       "159"
      ]
     },
     "execution_count": 67,
     "metadata": {},
     "output_type": "execute_result"
    }
   ],
   "source": [
    "get_answer(test_path_turns[1])"
   ]
  },
  {
   "cell_type": "code",
   "execution_count": 68,
   "metadata": {},
   "outputs": [
    {
     "data": {
      "text/plain": [
       "135"
      ]
     },
     "execution_count": 68,
     "metadata": {},
     "output_type": "execute_result"
    }
   ],
   "source": [
    "get_answer(test_path_turns[2])"
   ]
  },
  {
   "cell_type": "markdown",
   "metadata": {},
   "source": [
    "### Actual data"
   ]
  },
  {
   "cell_type": "code",
   "execution_count": 3,
   "metadata": {},
   "outputs": [],
   "source": [
    "wire_paths = []\n",
    "\n",
    "with open(\"inputs\\\\wire_paths.txt\") as file:\n",
    "    for line in file:\n",
    "        wire_paths.append([str(line).strip()])\n",
    "        "
   ]
  },
  {
   "cell_type": "code",
   "execution_count": 4,
   "metadata": {},
   "outputs": [
    {
     "data": {
      "text/plain": [
       "[['R1010,D422,L354,U494,L686,U894,R212,U777,L216,U9,L374,U77,R947,U385,L170,U916,R492,D553,L992,D890,L531,U360,R128,U653,L362,U522,R817,U198,L126,D629,L569,U300,L241,U145,R889,D196,L450,D576,L319,D147,R985,U889,L941,U837,L608,D77,L864,U911,L270,D869,R771,U132,L249,U603,L36,D328,L597,U992,L733,D370,L947,D595,L308,U536,L145,U318,R55,D773,R175,D505,R483,D13,R780,U778,R445,D107,R490,U245,L587,U502,R446,U639,R150,U35,L455,D522,R866,U858,R394,D975,R513,D378,R58,D646,L374,D675,R209,U228,R530,U543,L480,U677,L912,D164,L573,U587,L784,D626,L994,U250,L215,U985,R684,D79,L877,U811,L766,U617,L665,D246,L408,U800,L360,D272,L436,U138,R240,U735,L681,U68,L608,D59,R532,D808,L104,U968,R887,U819,R346,U698,L317,U582,R516,U55,L303,U607,L457,U479,L510,D366,L583,U519,R878,D195,R970,D267,R842,U784,R9,D946,R833,D238,L232,D94,L860,D47,L346,U951,R491,D745,R849,U273,R263,U392,L341,D808,R696,U326,R886,D296,L865,U833,R241,U644,R729,D216,R661,D712,L466,D699,L738,U5,L556,D693,R912,D13,R48,U63,L877,U628,L689,D929,R74,U924,R612,U153,R417,U425,L879,D378,R79,D248,L3,U519,R366,U281,R439,D823,R149,D668,R326,D342,L213,D735,R504,U265,L718,D842,L565,U105,L214,U963,R518,D681,R642,U170,L111,U6,R697,U572,R18,U331,L618,D255,R534,D322,L399,U595,L246,U651,L836,U757,R417,D795,R291,U759,L568,U965,R828,D570,R350,U317,R338,D173,L74,D833,L650,D844,L70,U913,R594,U407,R674,D684,L481,D564,L128,D277,R851,D274,L435,D582,R469,U729,R387,D818,R443,U504,R414,U8,L842,U845,R275,U986,R53,U660,R661,D225,R614,U159,R477'],\n",
       " ['L1010,D698,R442,U660,L719,U702,L456,D86,R938,D177,L835,D639,R166,D285,L694,U468,L569,D104,L234,D574,L669,U299,L124,D275,L179,D519,R617,U72,L985,D248,R257,D276,L759,D834,R490,U864,L406,U181,R911,U873,R261,D864,R260,U759,R648,U158,R308,D386,L835,D27,L745,U91,R840,U707,R275,U543,L663,U736,L617,D699,R924,U103,R225,U455,R708,U319,R569,U38,R315,D432,L179,D975,R519,D546,L295,U680,L685,U603,R262,D250,R7,U171,R261,U519,L832,U534,L471,U431,L474,U886,R10,D179,L79,D555,R452,U452,L832,U863,L367,U538,L237,D160,R441,U605,R942,U259,L811,D552,R646,D353,L225,D94,L35,D307,R752,U23,R698,U610,L379,D932,R698,D751,R178,D347,R325,D156,R471,D555,R558,D593,R773,U2,L955,U764,L735,U438,R364,D640,L757,U534,R919,U409,R361,U407,R336,D808,R877,D648,R610,U198,R340,U94,R795,D667,R811,U975,L965,D224,R565,D681,L64,U567,R621,U922,L665,U329,R242,U592,L727,D481,L339,U402,R213,D280,R656,U169,R976,D962,L294,D505,L251,D689,L497,U133,R230,D441,L90,D220,L896,D657,L500,U331,R502,U723,R762,D613,L447,D256,L226,U309,L935,U384,L740,D459,R309,D707,R952,D747,L304,D105,R977,D539,R941,D21,R291,U216,R132,D543,R515,U453,L854,D42,R982,U102,L469,D639,R559,D68,R302,U734,R980,D214,R107,D191,L730,D793,L63,U17,R807,U196,R412,D592,R330,D941,L87,D291,L44,D94,L272,D780,R968,U837,L712,D704,R163,U981,R537,U778,R220,D303,L196,D951,R163,D446,R11,D623,L72,D778,L158,U660,L189,D510,L247,D716,L89,U887,L115,U114,L36,U81,R927,U293,L265,U183,R331,D267,R745,D298,L561,D918,R299,U810,L322,U679,L739,D854,L581,U34,L862,D779,R23']]"
      ]
     },
     "execution_count": 4,
     "metadata": {},
     "output_type": "execute_result"
    }
   ],
   "source": [
    "wire_paths"
   ]
  },
  {
   "cell_type": "code",
   "execution_count": 73,
   "metadata": {},
   "outputs": [
    {
     "name": "stdout",
     "output_type": "stream",
     "text": [
      "Wall time: 17min 4s\n"
     ]
    },
    {
     "data": {
      "text/plain": [
       "806"
      ]
     },
     "execution_count": 73,
     "metadata": {},
     "output_type": "execute_result"
    }
   ],
   "source": [
    "%%time\n",
    "get_answer(wire_paths)"
   ]
  },
  {
   "cell_type": "markdown",
   "metadata": {},
   "source": [
    "## Woot!\n",
    "(But, man did that take TOO LONG!)"
   ]
  },
  {
   "cell_type": "markdown",
   "metadata": {},
   "source": [
    "## Let's give this a second try..."
   ]
  },
  {
   "cell_type": "code",
   "execution_count": 129,
   "metadata": {},
   "outputs": [],
   "source": [
    "def find_ints_2(coords):\n",
    "    '''Find all the intersections, given two sets of coordinates for the two wire paths.'''\n",
    "    \n",
    "    intersections = []\n",
    "    \n",
    "    # Loop through all the coordinates for wire 0\n",
    "    for i in range(0, len(coords[0]) - 1):\n",
    "\n",
    "        # Line segments for wire 0\n",
    "        x0_i = coords[0][i][0]\n",
    "        y0_i = coords[0][i][1]\n",
    "            \n",
    "        x0_i_1 = coords[0][i+1][0]\n",
    "        y0_i_1 = coords[0][i+1][1]\n",
    "    \n",
    "        if x0_i == x0_i_1:\n",
    "            w0_vertical = True\n",
    "        else:\n",
    "            w0_vertical = False\n",
    "    \n",
    "        # Loop through all the coordinates for wire 1\n",
    "        for j in range(0, len(coords[1]) - 1):\n",
    "            \n",
    "            # Line segments for wire 1\n",
    "            x1_j = coords[1][j][0]\n",
    "            y1_j = coords[1][j][1]\n",
    "            \n",
    "            x1_j_1 = coords[1][j+1][0]\n",
    "            y1_j_1 = coords[1][j+1][1]\n",
    "            \n",
    "            if x1_j == x1_j_1:\n",
    "                w1_vertical = True\n",
    "            else:\n",
    "                w1_vertical = False\n",
    "\n",
    "            if w0_vertical and not w1_vertical:\n",
    "                if (((x1_j <= x0_i <= x1_j_1) or (x1_j >= x0_i >= x1_j_1)) and \n",
    "                    ((y0_i <= y1_j <= y0_i_1) or (y0_i >= y1_j >= y0_i_1))):\n",
    "\n",
    "                    intersections.append([x0_i, y1_j])\n",
    "                    \n",
    "            if not w0_vertical and w1_vertical:\n",
    "                if (((y1_j <= y0_i <= y1_j_1) or (y1_j >= y0_i >= y1_j_1)) and \n",
    "                    ((x0_i <= x1_j <= x0_i_1) or (x0_i >= x1_j >= x0_i_1))):\n",
    "\n",
    "                    intersections.append([x1_j, y0_i])\n",
    "            \n",
    "    return intersections"
   ]
  },
  {
   "cell_type": "code",
   "execution_count": 130,
   "metadata": {},
   "outputs": [],
   "source": [
    "test_coords = [[[0, 0], [10, 0]], \n",
    "               [[5, -5], [5, 5]]]"
   ]
  },
  {
   "cell_type": "code",
   "execution_count": 131,
   "metadata": {},
   "outputs": [
    {
     "data": {
      "text/plain": [
       "[[5, 0]]"
      ]
     },
     "execution_count": 131,
     "metadata": {},
     "output_type": "execute_result"
    }
   ],
   "source": [
    "find_ints_2(test_coords)"
   ]
  },
  {
   "cell_type": "code",
   "execution_count": 132,
   "metadata": {},
   "outputs": [],
   "source": [
    "def convert_path_turns_to_path_coords_2(path_turns):\n",
    "    '''\n",
    "    Convert path turns into list of the coordinates for every point the path goes through.\n",
    "    \n",
    "    For example:\n",
    "        ['R2', 'U2']\n",
    "    Will be converted to:\n",
    "        [[1, 0],\n",
    "         [2, 0],\n",
    "         [2, 1],\n",
    "         [2, 2]]\n",
    "    '''\n",
    "    \n",
    "    coord = [0, 0]\n",
    "    path_coords = []\n",
    "    \n",
    "    for turn in path_turns:\n",
    "\n",
    "        if turn[0] == 'R':\n",
    "            coord[0] += int(turn[1:])\n",
    "                \n",
    "        elif turn[0] == 'L':\n",
    "            coord[0] -= int(turn[1:])\n",
    "        \n",
    "        elif turn[0] == 'U':\n",
    "            coord[1] += int(turn[1:])\n",
    "\n",
    "        elif turn[0] == 'D':\n",
    "            coord[1] -= int(turn[1:])\n",
    "\n",
    "        path_coords.append(copy.deepcopy(coord))\n",
    "            \n",
    "    return path_coords"
   ]
  },
  {
   "cell_type": "code",
   "execution_count": 136,
   "metadata": {},
   "outputs": [],
   "source": [
    "def get_answer_2(turns_for_two_wires):\n",
    "    \n",
    "    # Format the turns\n",
    "    formatted_turns_for_two_wires = format_path_turns(turns_for_two_wires)\n",
    "    \n",
    "    # Convert turns to coordinate data\n",
    "    path_coords = []\n",
    "    for path in formatted_turns_for_two_wires:\n",
    "        path_coords.append(convert_path_turns_to_path_coords_2(path))\n",
    "    \n",
    "    # Find intersections\n",
    "    intersections = find_ints_2(path_coords)\n",
    "    \n",
    "    # Calculate distances\n",
    "    manhattan_distances = []\n",
    "    for coords in intersections:\n",
    "        manhattan_distances.append(calc_manhattan_dist(coords))\n",
    "        \n",
    "    # Find the minimum distance    \n",
    "    answer = min(manhattan_distances)\n",
    "    \n",
    "    return answer        "
   ]
  },
  {
   "cell_type": "code",
   "execution_count": 137,
   "metadata": {},
   "outputs": [
    {
     "data": {
      "text/plain": [
       "6"
      ]
     },
     "execution_count": 137,
     "metadata": {},
     "output_type": "execute_result"
    }
   ],
   "source": [
    "get_answer_2(test_path_turns[0])"
   ]
  },
  {
   "cell_type": "code",
   "execution_count": 138,
   "metadata": {},
   "outputs": [
    {
     "data": {
      "text/plain": [
       "159"
      ]
     },
     "execution_count": 138,
     "metadata": {},
     "output_type": "execute_result"
    }
   ],
   "source": [
    "get_answer_2(test_path_turns[1])"
   ]
  },
  {
   "cell_type": "code",
   "execution_count": 139,
   "metadata": {},
   "outputs": [
    {
     "data": {
      "text/plain": [
       "135"
      ]
     },
     "execution_count": 139,
     "metadata": {},
     "output_type": "execute_result"
    }
   ],
   "source": [
    "get_answer_2(test_path_turns[2])"
   ]
  },
  {
   "cell_type": "code",
   "execution_count": 140,
   "metadata": {},
   "outputs": [
    {
     "name": "stdout",
     "output_type": "stream",
     "text": [
      "Wall time: 57 ms\n"
     ]
    },
    {
     "data": {
      "text/plain": [
       "806"
      ]
     },
     "execution_count": 140,
     "metadata": {},
     "output_type": "execute_result"
    }
   ],
   "source": [
    "%%time\n",
    "get_answer_2(wire_paths)"
   ]
  },
  {
   "cell_type": "markdown",
   "metadata": {},
   "source": [
    "## WOOT!!!!\n",
    "(Now that's more like it...)"
   ]
  },
  {
   "cell_type": "markdown",
   "metadata": {},
   "source": [
    "### And a third time, based on: https://twitter.com/FogleBird/status/1201892507069628417"
   ]
  },
  {
   "cell_type": "code",
   "execution_count": 19,
   "metadata": {},
   "outputs": [],
   "source": [
    "def get_answer_3(turns_for_two_wires):\n",
    "    \n",
    "    # Format the turns\n",
    "    formatted_turns_for_two_wires = format_path_turns(turns_for_two_wires)\n",
    "    \n",
    "    # Convert turns to coordinate data\n",
    "    path_coords = []\n",
    "    for path in formatted_turns_for_two_wires:\n",
    "        path_coords.append(convert_path_turns_to_path_coords(path))\n",
    "    \n",
    "    # Find intersections\n",
    "    intersections = set(path_coords[0]) & set(path_coords[1]) \n",
    "    \n",
    "    # Calculate distances\n",
    "    manhattan_distances = []\n",
    "    for coords in intersections:\n",
    "        manhattan_distances.append(calc_manhattan_dist(coords))\n",
    "        \n",
    "    # Find the minimum distance    \n",
    "    answer = min(manhattan_distances)\n",
    "    \n",
    "    return answer        "
   ]
  },
  {
   "cell_type": "code",
   "execution_count": 20,
   "metadata": {},
   "outputs": [
    {
     "ename": "TypeError",
     "evalue": "unhashable type: 'list'",
     "output_type": "error",
     "traceback": [
      "\u001b[1;31m---------------------------------------------------------------------------\u001b[0m",
      "\u001b[1;31mTypeError\u001b[0m                                 Traceback (most recent call last)",
      "\u001b[1;32m<timed eval>\u001b[0m in \u001b[0;36m<module>\u001b[1;34m\u001b[0m\n",
      "\u001b[1;32m<ipython-input-19-6f48c608f9d3>\u001b[0m in \u001b[0;36mget_answer_3\u001b[1;34m(turns_for_two_wires)\u001b[0m\n\u001b[0;32m     10\u001b[0m \u001b[1;33m\u001b[0m\u001b[0m\n\u001b[0;32m     11\u001b[0m     \u001b[1;31m# Find intersections\u001b[0m\u001b[1;33m\u001b[0m\u001b[1;33m\u001b[0m\u001b[1;33m\u001b[0m\u001b[0m\n\u001b[1;32m---> 12\u001b[1;33m     \u001b[0mintersections\u001b[0m \u001b[1;33m=\u001b[0m \u001b[0mset\u001b[0m\u001b[1;33m(\u001b[0m\u001b[0mtuple\u001b[0m\u001b[1;33m(\u001b[0m\u001b[0mpath_coords\u001b[0m\u001b[1;33m[\u001b[0m\u001b[1;36m0\u001b[0m\u001b[1;33m]\u001b[0m\u001b[1;33m)\u001b[0m\u001b[1;33m)\u001b[0m \u001b[1;33m&\u001b[0m \u001b[0mset\u001b[0m\u001b[1;33m(\u001b[0m\u001b[0mtuple\u001b[0m\u001b[1;33m(\u001b[0m\u001b[0mpath_coords\u001b[0m\u001b[1;33m[\u001b[0m\u001b[1;36m1\u001b[0m\u001b[1;33m]\u001b[0m\u001b[1;33m)\u001b[0m\u001b[1;33m)\u001b[0m\u001b[1;33m\u001b[0m\u001b[1;33m\u001b[0m\u001b[0m\n\u001b[0m\u001b[0;32m     13\u001b[0m \u001b[1;33m\u001b[0m\u001b[0m\n\u001b[0;32m     14\u001b[0m     \u001b[1;31m# Calculate distances\u001b[0m\u001b[1;33m\u001b[0m\u001b[1;33m\u001b[0m\u001b[1;33m\u001b[0m\u001b[0m\n",
      "\u001b[1;31mTypeError\u001b[0m: unhashable type: 'list'"
     ]
    }
   ],
   "source": [
    "%%time\n",
    "get_answer_3(wire_paths)"
   ]
  },
  {
   "cell_type": "markdown",
   "metadata": {},
   "source": [
    "----\n",
    "## Part 2"
   ]
  },
  {
   "cell_type": "markdown",
   "metadata": {},
   "source": [
    "## Test data"
   ]
  },
  {
   "cell_type": "code",
   "execution_count": 143,
   "metadata": {},
   "outputs": [],
   "source": [
    "test_data_2 = [[['R8,U5,L5,D3'],\n",
    "                ['U7,R6,D4,L4']],\n",
    "               [['R75,D30,R83,U83,L12,D49,R71,U7,L72'],\n",
    "                ['U62,R66,U55,R34,D71,R55,D58,R83']],\n",
    "               [['R98,U47,R26,D63,R33,U87,L62,D20,R33,U53,R51'],\n",
    "                ['U98,R91,D20,R16,D67,R40,U7,R15,U6,R7']]]"
   ]
  },
  {
   "cell_type": "code",
   "execution_count": 160,
   "metadata": {},
   "outputs": [],
   "source": [
    "def get_answer_part_2(path_turns):\n",
    "    \n",
    "    # Format the turns\n",
    "    formatted_turns_for_two_wires = format_path_turns(path_turns)\n",
    "    \n",
    "    # Convert turns to coordinate data\n",
    "    long_path_coords = []  # Coordinates for every step on path\n",
    "    for path in formatted_turns_for_two_wires:\n",
    "        long_path_coords.append(convert_path_turns_to_path_coords(path))\n",
    "    \n",
    "    short_path_coords = [] # Coordinates for just the turns\n",
    "    for path in formatted_turns_for_two_wires:\n",
    "        short_path_coords.append(convert_path_turns_to_path_coords_2(path))\n",
    "    \n",
    "    # Find intersections\n",
    "    intersections = find_ints_2(short_path_coords)\n",
    "\n",
    "    # Calc signal delays\n",
    "    signal_delays = []\n",
    "    \n",
    "    for intersection in intersections:\n",
    "        signal_delay = long_path_coords[0].index(intersection) + 1  \\\n",
    "                     + long_path_coords[1].index(intersection) + 1\n",
    "        signal_delays.append(signal_delay)\n",
    "        \n",
    "    answer = min(signal_delays)\n",
    "    return answer"
   ]
  },
  {
   "cell_type": "code",
   "execution_count": 161,
   "metadata": {},
   "outputs": [
    {
     "data": {
      "text/plain": [
       "30"
      ]
     },
     "execution_count": 161,
     "metadata": {},
     "output_type": "execute_result"
    }
   ],
   "source": [
    "get_answer_part_2(test_data_2[0])"
   ]
  },
  {
   "cell_type": "code",
   "execution_count": 162,
   "metadata": {},
   "outputs": [
    {
     "data": {
      "text/plain": [
       "610"
      ]
     },
     "execution_count": 162,
     "metadata": {},
     "output_type": "execute_result"
    }
   ],
   "source": [
    "get_answer_part_2(test_data_2[1])"
   ]
  },
  {
   "cell_type": "code",
   "execution_count": 163,
   "metadata": {},
   "outputs": [
    {
     "data": {
      "text/plain": [
       "410"
      ]
     },
     "execution_count": 163,
     "metadata": {},
     "output_type": "execute_result"
    }
   ],
   "source": [
    "get_answer_part_2(test_data_2[2])"
   ]
  },
  {
   "cell_type": "code",
   "execution_count": 164,
   "metadata": {},
   "outputs": [
    {
     "name": "stdout",
     "output_type": "stream",
     "text": [
      "Wall time: 1.54 s\n"
     ]
    },
    {
     "data": {
      "text/plain": [
       "66076"
      ]
     },
     "execution_count": 164,
     "metadata": {},
     "output_type": "execute_result"
    }
   ],
   "source": [
    "%%time\n",
    "get_answer_part_2(wire_paths)"
   ]
  },
  {
   "cell_type": "markdown",
   "metadata": {},
   "source": [
    "## Yup."
   ]
  }
 ],
 "metadata": {
  "kernelspec": {
   "display_name": "Python 3",
   "language": "python",
   "name": "python3"
  },
  "language_info": {
   "codemirror_mode": {
    "name": "ipython",
    "version": 3
   },
   "file_extension": ".py",
   "mimetype": "text/x-python",
   "name": "python",
   "nbconvert_exporter": "python",
   "pygments_lexer": "ipython3",
   "version": "3.7.3"
  }
 },
 "nbformat": 4,
 "nbformat_minor": 2
}
