{
 "cells": [
  {
   "cell_type": "markdown",
   "metadata": {},
   "source": [
    "# Dijkstra's Algorithm\n",
    "\n",
    "[Dijkstra's algorithm](https://en.wikipedia.org/wiki/Dijkstra%27s_algorithm) is used to find the shortest path from one \"source\" node in a graph to all the other nodes in the graph.\n",
    "\n",
    "The algorithm **DOES NOT** use recurrsion.\n",
    "\n",
    "It does, however, use a priority queue, which is a data structure that is similar-ish to a queue, but the order in which elements are removed (\"dequeued\") is based on a priority score, rather than based on insertion order. (Queue data structures follow a first in, first out (FIFO) insertion/removal order.)\n",
    "\n",
    "The implementation, below, uses the `heapq` library to implement \n",
    "\n",
    "The algorithm only works for graphs that have positive edge weights. If negative weights are present, Dijkstra's algorithm doesn't provide correct results; instead, you would need to use algorithms like Bellman-Ford. \n",
    "\n",
    "(To use the algorithm on an unweighted graph, the graph can be constructed with all the edge weights set equal to 1.)"
   ]
  },
  {
   "cell_type": "code",
   "execution_count": 2,
   "metadata": {},
   "outputs": [],
   "source": [
    "import heapq\n",
    "\n",
    "def dijkstra(graph, start):\n",
    "    \"\"\"Calc the shortest distance from start node to every other node in graph.\n",
    "\n",
    "    Parameters\n",
    "    ----------\n",
    "    graph : dict of dicts\n",
    "        Outer dictionary keys are all the nodes in the graph; each value contains\n",
    "        an inner dictionary with the keys for each being the nodes connected to \n",
    "        the outer key node (\"neighbors\") and the values being the edge weights\n",
    "        (\"weight\") between the two nodes\n",
    "    start : str\n",
    "        node in graph to start from\n",
    "\n",
    "    Returns\n",
    "    -------\n",
    "    distances : dict\n",
    "        keys = all the nodes in graph; values = shortest distance based on weighted\n",
    "        edge values between start node and all other nodes in graph\n",
    "    \"\"\"\n",
    "    # Initialize all distances to infinity, except for the start node, \n",
    "    # which is initialized to 0\n",
    "    distances = {node: float('infinity') for node in graph}\n",
    "    distances[start] = 0\n",
    "\n",
    "    # Queue with priority scores (distances)\n",
    "    priority_queue = [(0, start)]\n",
    "\n",
    "    # Loop until priority queue is empty\n",
    "    while priority_queue:\n",
    "        # heapq, below, implements a binary heap, which is a data structure that \n",
    "        # keeps elements in (priority) order, so the .heappop() method is\n",
    "        # always taking off the *lowest* priority element in the queue (instaed)\n",
    "        # of always taking the element based on insert order.\n",
    "        current_distance, current_node = heapq.heappop(priority_queue)\n",
    "\n",
    "        # If current distance is greater than the stored distance, skip\n",
    "        if current_distance > distances[current_node]:\n",
    "            continue\n",
    "\n",
    "        for neighbor, weight in graph[current_node].items():\n",
    "            distance = current_distance + weight\n",
    "\n",
    "            # If a shorter path is found\n",
    "            if distance < distances[neighbor]:\n",
    "                distances[neighbor] = distance\n",
    "                heapq.heappush(priority_queue, (distance, neighbor))\n",
    "\n",
    "    return distances"
   ]
  },
  {
   "cell_type": "markdown",
   "metadata": {},
   "source": [
    "## Example usage:\n",
    "`graph` is a dictionary of dictionaries.  \n",
    "\n",
    "The keys to the \"outer\" dictionary contain all the *nodes* in the graph.  \n",
    "The values associated with each key is another dictionary.  \n",
    "The keys of the \"inner\" dictionaries are the *nodes* that are connected to the key from the outer dictionary.\n",
    "The values of the inner dictionaries represent the weights of the edges between the key of the outer dictionary and each key of the inner dictionary.\n",
    "\n",
    "This data structure is sometimes referred to as an [adjacency list](https://en.wikipedia.org/wiki/Adjacency_list).\n"
   ]
  },
  {
   "cell_type": "code",
   "execution_count": 3,
   "metadata": {},
   "outputs": [],
   "source": [
    "graph = {\n",
    "    'A': {'B': 1, 'D': 3},\n",
    "    'B': {'A': 1, 'D': 4, 'E': 2},\n",
    "    'C': {'E': 5},\n",
    "    'D': {'A': 3, 'B': 4},\n",
    "    'E': {'B': 2, 'C': 5}\n",
    "}"
   ]
  },
  {
   "cell_type": "code",
   "execution_count": 4,
   "metadata": {},
   "outputs": [
    {
     "name": "stdout",
     "output_type": "stream",
     "text": [
      "Shortest distances from node A to other nodes:\n",
      "{'A': 0, 'B': 1, 'C': 8, 'D': 3, 'E': 3}\n"
     ]
    }
   ],
   "source": [
    "start_node = 'A'\n",
    "shortest_distances = dijkstra(graph, start_node)\n",
    "print(\"Shortest distances from node\", start_node, \"to other nodes:\")\n",
    "print(shortest_distances)"
   ]
  },
  {
   "cell_type": "code",
   "execution_count": 5,
   "metadata": {},
   "outputs": [],
   "source": [
    "unweighted_graph = {\n",
    "    'A': {'B': 1, 'D': 1},\n",
    "    'B': {'A': 1, 'D': 1, 'E': 1},\n",
    "    'C': {'E': 1},\n",
    "    'D': {'A': 1, 'B': 1},\n",
    "    'E': {'B': 1, 'C': 1}\n",
    "}"
   ]
  },
  {
   "cell_type": "code",
   "execution_count": 6,
   "metadata": {},
   "outputs": [
    {
     "name": "stdout",
     "output_type": "stream",
     "text": [
      "Shortest distances from node A to other nodes:\n",
      "{'A': 0, 'B': 1, 'C': 3, 'D': 1, 'E': 2}\n"
     ]
    }
   ],
   "source": [
    "start_node = 'A'\n",
    "shortest_distances = dijkstra(unweighted_graph, start_node)\n",
    "print(\"Shortest distances from node\", start_node, \"to other nodes:\")\n",
    "print(shortest_distances)"
   ]
  }
 ],
 "metadata": {
  "kernelspec": {
   "display_name": "base",
   "language": "python",
   "name": "python3"
  },
  "language_info": {
   "codemirror_mode": {
    "name": "ipython",
    "version": 3
   },
   "file_extension": ".py",
   "mimetype": "text/x-python",
   "name": "python",
   "nbconvert_exporter": "python",
   "pygments_lexer": "ipython3",
   "version": "3.9.7"
  }
 },
 "nbformat": 4,
 "nbformat_minor": 2
}
