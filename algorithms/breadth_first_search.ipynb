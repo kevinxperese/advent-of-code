{
 "cells": [
  {
   "cell_type": "markdown",
   "metadata": {},
   "source": [
    "# Breadth-first Search\n",
    "\n",
    "[Breadth-first search](https://en.wikipedia.org/wiki/Breadth-first_search) is an algorithm for searching a [tree](https://en.wikipedia.org/wiki/Tree_(data_structure)), which is a type of of [graph](https://en.wikipedia.org/wiki/Graph_(abstract_data_type)) data structure.\n",
    "\n",
    "A defining feature of a **tree** is that it is a graph with [*one and only one*](https://citeseerx.ist.psu.edu/doc/10.1.1.165.7577) path between every two nodes.\n",
    "\n",
    "This is a useful aglorithm for answering two types of questions:\n",
    "1. Does a path between node `A` and node `B` exist?\n",
    "2. If so, what is the *shortest* path between node `A` and node `B`?\n",
    "\n",
    "In this case, the criteria for *shortest* is the **number of edges** that must be traversed to get from node `A` to node `B`.\n",
    "\n",
    "This algorithm only works for *unweighted* trees.\n"
   ]
  },
  {
   "cell_type": "code",
   "execution_count": 4,
   "metadata": {},
   "outputs": [],
   "source": [
    "from collections import deque\n",
    "\n",
    "def bfs_path_exists(graph, start_node, end_node):\n",
    "    \"\"\"Test whether a path between start_node and end_node exists in a graph.\n",
    "\n",
    "    Parameters\n",
    "    ----------\n",
    "    graph : dict\n",
    "        An unweighted tree graph\n",
    "    start_node : str\n",
    "        Starting node in the graph\n",
    "    end_node : str\n",
    "        Ending node in the graph\n",
    "\n",
    "    Returns\n",
    "    -------\n",
    "    Bool\n",
    "        True if path exists; False if not\n",
    "    \"\"\"\n",
    "    # Initialize trackers\n",
    "    search_queue = deque([start_node])\n",
    "    searched = []\n",
    "\n",
    "    while search_queue:\n",
    "        node = search_queue.popleft()\n",
    "        if node not in searched:\n",
    "            if node == end_node:\n",
    "                return True\n",
    "            else:\n",
    "                searched.append(node)\n",
    "                search_queue += graph[node]\n",
    "\n",
    "    return False"
   ]
  },
  {
   "cell_type": "code",
   "execution_count": 5,
   "metadata": {},
   "outputs": [
    {
     "data": {
      "text/plain": [
       "{'a': ['b', 'c'],\n",
       " 'b': ['a', 'd', 'e', 'f'],\n",
       " 'c': ['a', 'd'],\n",
       " 'd': ['c'],\n",
       " 'e': ['b', 'f'],\n",
       " 'f': ['b', 'e']}"
      ]
     },
     "execution_count": 5,
     "metadata": {},
     "output_type": "execute_result"
    }
   ],
   "source": [
    "graph = {\n",
    "    'a' : ['b', 'c'],\n",
    "    'b' : ['a', 'd', 'e', 'f'],\n",
    "    'c' : ['a', 'd'],\n",
    "    'd' : ['c'],\n",
    "    'e' : ['b', 'f'],\n",
    "    'f' : ['b', 'e']\n",
    "}\n",
    "graph"
   ]
  },
  {
   "cell_type": "code",
   "execution_count": 6,
   "metadata": {},
   "outputs": [
    {
     "data": {
      "text/plain": [
       "True"
      ]
     },
     "execution_count": 6,
     "metadata": {},
     "output_type": "execute_result"
    }
   ],
   "source": [
    "bfs_path_exists(graph, 'a', 'f')"
   ]
  },
  {
   "cell_type": "code",
   "execution_count": 7,
   "metadata": {},
   "outputs": [
    {
     "data": {
      "text/plain": [
       "False"
      ]
     },
     "execution_count": 7,
     "metadata": {},
     "output_type": "execute_result"
    }
   ],
   "source": [
    "bfs_path_exists(graph, 'a', 'g')"
   ]
  }
 ],
 "metadata": {
  "kernelspec": {
   "display_name": "base",
   "language": "python",
   "name": "python3"
  },
  "language_info": {
   "codemirror_mode": {
    "name": "ipython",
    "version": 3
   },
   "file_extension": ".py",
   "mimetype": "text/x-python",
   "name": "python",
   "nbconvert_exporter": "python",
   "pygments_lexer": "ipython3",
   "version": "3.9.7"
  }
 },
 "nbformat": 4,
 "nbformat_minor": 2
}
