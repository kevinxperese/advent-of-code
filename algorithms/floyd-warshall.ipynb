{
 "cells": [
  {
   "cell_type": "markdown",
   "metadata": {},
   "source": [
    "# Floyd-Warshall algorithm\n",
    "\n",
    "The [Floyd-Warshall algorithm](https://en.wikipedia.org/wiki/Floyd%E2%80%93Warshall_algorithm) calculates the shortest distance between all node pairs in a graph.\n",
    "\n",
    "The algorithm works for directed, weighted graphs.\n",
    "\n",
    "The compute complexity for the algorithm is $O(n^3)$.\n"
   ]
  },
  {
   "cell_type": "code",
   "execution_count": 1,
   "metadata": {},
   "outputs": [],
   "source": [
    "# Source: ChatGPT, with minor edits. Notably I added the docstring, and the \n",
    "# algorithm ChatGPT provided only worked for graphs with keys that were integers.\n",
    "def floyd_warshall(graph):\n",
    "    \"\"\"Find the shortest path between all node pairs in a graph using the \n",
    "    Floyd-Warshall algorithm.\n",
    "\n",
    "    Parameters\n",
    "    ----------\n",
    "    graph : dict of dicts\n",
    "        Each key in outer dict is a node, and each value is another dict. Within\n",
    "        the inner dict, each key is an adjacent/neighbor node to the outer dict\n",
    "        key, and each value is the edge weight.\n",
    "\n",
    "    Returns\n",
    "    -------\n",
    "    dist : list of lists\n",
    "        An n x n matrix, with each cell containing the shortest distance between\n",
    "        any two nodes. All the diagonals will be 0s and the upper right and lower\n",
    "        left triangles will be identical.\n",
    "    \"\"\"\n",
    "    # Initialize distance matrix with values of infinity in all the cells\n",
    "    nodes = list(graph.keys())\n",
    "    num_nodes = len(nodes)\n",
    "    dist = [[float('inf')] * num_nodes for _ in range(num_nodes)]\n",
    "\n",
    "    # Then replace those values with 0s for the diagonals and with edge weight\n",
    "    # values where possible.\n",
    "    for i, node in enumerate(nodes):\n",
    "        dist[i][i] = 0\n",
    "        for neighbor, edge_weight in graph[node].items():\n",
    "            dist[i][nodes.index(neighbor)] = edge_weight\n",
    "\n",
    "    # Finally, update the distance matrix using Floyd-Warshall algorithm, which\n",
    "    # ...\n",
    "    for k in range(num_nodes):\n",
    "        for i in range(num_nodes):\n",
    "            for j in range(num_nodes):\n",
    "                dist[i][j] = min(dist[i][j], dist[i][k] + dist[k][j])\n",
    "\n",
    "    return dist\n"
   ]
  },
  {
   "cell_type": "markdown",
   "metadata": {},
   "source": [
    "Set up an example graph to test algorithm on:"
   ]
  },
  {
   "cell_type": "code",
   "execution_count": 2,
   "metadata": {},
   "outputs": [
    {
     "data": {
      "text/plain": [
       "{'a': {1: 3, 2: 6}, 1: {'a': 3, 2: 2}, 2: {'a': 6, 1: 2}}"
      ]
     },
     "execution_count": 2,
     "metadata": {},
     "output_type": "execute_result"
    }
   ],
   "source": [
    "graph = {\n",
    "    'a': {1: 3, 2: 6},\n",
    "    1: {'a': 3, 2: 2},\n",
    "    2: {'a': 6, 1: 2}\n",
    "}\n",
    "graph"
   ]
  },
  {
   "cell_type": "code",
   "execution_count": 3,
   "metadata": {},
   "outputs": [
    {
     "data": {
      "text/plain": [
       "[[0, 3, 5], [3, 0, 2], [5, 2, 0]]"
      ]
     },
     "execution_count": 3,
     "metadata": {},
     "output_type": "execute_result"
    }
   ],
   "source": [
    "floyd_warshall(graph)"
   ]
  },
  {
   "cell_type": "code",
   "execution_count": 5,
   "metadata": {},
   "outputs": [],
   "source": [
    "from collections import defaultdict\n",
    "from itertools import product\n",
    "\n",
    "def fw(graph):\n",
    "    \"\"\"Find the shortest path between all node pairs in a graph using the \n",
    "    Floyd-Warshall algorithm.\n",
    "\n",
    "    Parameters\n",
    "    ----------\n",
    "    graph : dict of dicts\n",
    "        Each key in outer dict is a node, and each value is another dict. Within\n",
    "        the inner dict, each key is an adjacent/neighbor node to the outer dict\n",
    "        key, and each value is the edge weight.\n",
    "\n",
    "    Returns\n",
    "    -------\n",
    "    dist : dict\n",
    "        Keys are (i, j) tuples, for all pairs of nodes i and j, and values are\n",
    "        the shortest weighted distance between node i and node j in the graph.\n",
    "    \"\"\"\n",
    "    # Create an empty default dictionary, with default values set at infinity.\n",
    "    # Note that instead of an n x n matrix being returned, as is typical for \n",
    "    # most implementations of Floyd-Warshall, this will return a dictionary,\n",
    "    # where the keys are an (i, j) tuple and the values are the min distance\n",
    "    # between nodes i and j.\n",
    "    dist = defaultdict(lambda: float(\"inf\"))\n",
    "\n",
    "    # Initialize the dist[(i, j)] values, where possible:\n",
    "    # Diagonals will be set to 0s and direct neighbors will be given their\n",
    "    # edge weights.\n",
    "    for node, neighbors in graph.items():\n",
    "        dist[(node, node)] = 0\n",
    "        for neighbor, edge_weight in neighbors.items():\n",
    "            dist[(node, neighbor)] = edge_weight\n",
    "\n",
    "    # Update initialized distances\n",
    "    # (use itertools.product for a aore efficient way to do for k: for i: for j:)\n",
    "    for k, i, j in product(graph.keys(), repeat=3):\n",
    "        dist[(i, j)] = min(dist[(i, j)], dist[(i, k)] + dist[(k, j)])\n",
    "\n",
    "    return dict(dist)"
   ]
  },
  {
   "cell_type": "code",
   "execution_count": 6,
   "metadata": {},
   "outputs": [
    {
     "data": {
      "text/plain": [
       "{('a', 'a'): 0,\n",
       " ('a', 1): 3,\n",
       " ('a', 2): 5,\n",
       " (1, 1): 0,\n",
       " (1, 'a'): 3,\n",
       " (1, 2): 2,\n",
       " (2, 2): 0,\n",
       " (2, 'a'): 5,\n",
       " (2, 1): 2}"
      ]
     },
     "execution_count": 6,
     "metadata": {},
     "output_type": "execute_result"
    }
   ],
   "source": [
    "fw(graph)"
   ]
  },
  {
   "cell_type": "markdown",
   "metadata": {},
   "source": [
    "Let's compare the runtimes for both implementations:"
   ]
  },
  {
   "cell_type": "code",
   "execution_count": 7,
   "metadata": {},
   "outputs": [
    {
     "name": "stdout",
     "output_type": "stream",
     "text": [
      "28.9 µs ± 1.17 µs per loop (mean ± std. dev. of 7 runs, 10000 loops each)\n",
      "31 µs ± 505 ns per loop (mean ± std. dev. of 7 runs, 10000 loops each)\n"
     ]
    }
   ],
   "source": [
    "%timeit floyd_warshall(graph)\n",
    "%timeit fw(graph)"
   ]
  },
  {
   "cell_type": "markdown",
   "metadata": {},
   "source": [
    "Hmm... Interestingly, the first implementation is marginally faster...\n",
    "\n",
    "I wonder if the test graph is too small to make the overhead of `collections.defaultdict()` and `itertools.product()` worth it. \n",
    "\n",
    "Perhaps with larger graphs it would be? "
   ]
  }
 ],
 "metadata": {
  "kernelspec": {
   "display_name": "base",
   "language": "python",
   "name": "python3"
  },
  "language_info": {
   "codemirror_mode": {
    "name": "ipython",
    "version": 3
   },
   "file_extension": ".py",
   "mimetype": "text/x-python",
   "name": "python",
   "nbconvert_exporter": "python",
   "pygments_lexer": "ipython3",
   "version": "3.9.7"
  }
 },
 "nbformat": 4,
 "nbformat_minor": 2
}
