{
 "cells": [
  {
   "cell_type": "markdown",
   "metadata": {},
   "source": [
    "# Find all paths\n",
    "\n",
    "This algorithm uses a **recursive** depth-first search algorithm to find all the paths from a `start` node in a `graph`."
   ]
  },
  {
   "cell_type": "code",
   "execution_count": null,
   "metadata": {},
   "outputs": [],
   "source": [
    "def find_all_paths(graph, start, path=[]):\n",
    "    \"\"\"Find all paths from a given node in a graph.\n",
    "\n",
    "    Parameters\n",
    "    ----------\n",
    "    graph : dict\n",
    "        Keys are nodes; each value is a list of other nodes connected to \n",
    "        the starting node\n",
    "    start : str\n",
    "        The node from which to start search of paths from\n",
    "    path : list\n",
    "        Starts as an empty list\n",
    "\n",
    "    Returns\n",
    "    -------\n",
    "    paths : list of lists\n",
    "        A list of all the available paths; each path also being a list\n",
    "    \"\"\"\n",
    "    # NB: Adding two lists creates a *new* list object, appending would augment\n",
    "    # the external path object being passed.\n",
    "    local_path = path + [start]\n",
    "\n",
    "    # Alternative approach:\n",
    "    # local_path = path.copy()\n",
    "    # local_path.append(start)\n",
    "\n",
    "    # Just a precaution for general applicability...\n",
    "    if start not in graph:\n",
    "        return [local_path]\n",
    "    \n",
    "    # Initialize paths list with current local_path list\n",
    "    paths = [local_path]\n",
    "    \n",
    "    for node in graph[start]:\n",
    "        if node not in local_path:\n",
    "            # Recurssive call.\n",
    "            # Note that initial call to function doesn't require passing\n",
    "            # a path list, but each recursive call does.\n",
    "            new_paths = find_all_paths(graph, node, local_path)\n",
    "\n",
    "            for new_path in new_paths:\n",
    "                paths.append(new_path)\n",
    "\n",
    "    return paths"
   ]
  }
 ],
 "metadata": {
  "kernelspec": {
   "display_name": "base",
   "language": "python",
   "name": "python3"
  },
  "language_info": {
   "codemirror_mode": {
    "name": "ipython",
    "version": 3
   },
   "file_extension": ".py",
   "mimetype": "text/x-python",
   "name": "python",
   "nbconvert_exporter": "python",
   "pygments_lexer": "ipython3",
   "version": "3.9.7"
  }
 },
 "nbformat": 4,
 "nbformat_minor": 2
}
