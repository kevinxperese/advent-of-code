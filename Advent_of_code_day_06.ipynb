{
 "cells": [
  {
   "cell_type": "markdown",
   "metadata": {},
   "source": [
    "# Advent of code\n",
    "## Day 6: Universal Orbit Map\n",
    "https://adventofcode.com/2019/day/6\n",
    "\n",
    "## Part 1"
   ]
  },
  {
   "cell_type": "code",
   "execution_count": 1,
   "metadata": {},
   "outputs": [],
   "source": [
    "from collections import defaultdict"
   ]
  },
  {
   "cell_type": "markdown",
   "metadata": {},
   "source": [
    "### Test map"
   ]
  },
  {
   "cell_type": "code",
   "execution_count": 2,
   "metadata": {},
   "outputs": [],
   "source": [
    "with open(\"inputs\\\\test_orbit_map.txt\") as orbit_map:\n",
    "    test_map = [tuple(orbit.strip().split(\")\")) for orbit in orbit_map]"
   ]
  },
  {
   "cell_type": "code",
   "execution_count": 3,
   "metadata": {},
   "outputs": [],
   "source": [
    "test_map_graph = defaultdict(list)\n",
    "\n",
    "for key, value in test_map:\n",
    "     test_map_graph[key].append(value)   "
   ]
  },
  {
   "cell_type": "markdown",
   "metadata": {},
   "source": [
    "### Actual map data"
   ]
  },
  {
   "cell_type": "code",
   "execution_count": 4,
   "metadata": {},
   "outputs": [],
   "source": [
    "with open(\"inputs\\\\orbit_map.txt\") as orbit_map:\n",
    "    map = [tuple(orbit.strip().split(\")\")) for orbit in orbit_map]"
   ]
  },
  {
   "cell_type": "code",
   "execution_count": 5,
   "metadata": {},
   "outputs": [],
   "source": [
    "map_graph = defaultdict(list)\n",
    "\n",
    "for key, value in map:\n",
    "     map_graph[key].append(value)"
   ]
  },
  {
   "cell_type": "markdown",
   "metadata": {},
   "source": [
    "### Functions"
   ]
  },
  {
   "cell_type": "code",
   "execution_count": 6,
   "metadata": {},
   "outputs": [],
   "source": [
    "def find_path(graph, start, end, path=[]):\n",
    "    '''\n",
    "    Sources: https://www.python.org/doc/essays/graphs/ \n",
    "             https://www.python-course.eu/graphs_python.php\n",
    "             https://www.tutorialspoint.com/generate-a-graph-using-dictionary-in-python\n",
    "    '''\n",
    "    path = path + [start]\n",
    "    \n",
    "    if start == end:\n",
    "        return path\n",
    "    \n",
    "    if not start in graph:\n",
    "        return None\n",
    "    \n",
    "    for node in graph[start]:\n",
    "    \n",
    "        if node not in path:\n",
    "            new_path = find_path(graph, node, end, path)\n",
    "            \n",
    "            if new_path: \n",
    "                return new_path\n",
    "    \n",
    "    return None"
   ]
  },
  {
   "cell_type": "code",
   "execution_count": 7,
   "metadata": {},
   "outputs": [],
   "source": [
    "def universal_orbit_map_facility(map_graph):\n",
    "    \n",
    "    # Put all nodes in a single list\n",
    "    all_nodes = []\n",
    "    for nodes in map_graph.values():\n",
    "        for node in nodes:\n",
    "            all_nodes.append(node)\n",
    "    \n",
    "    # Then find length of path to each node from 'COM' (Center of Mass)\n",
    "    checksum = 0\n",
    "    for node in all_nodes:\n",
    "        checksum += len(find_path(map_graph, 'COM', node)) - 1 # Remove 'COM' from len()\n",
    "\n",
    "    return checksum"
   ]
  },
  {
   "cell_type": "code",
   "execution_count": 8,
   "metadata": {},
   "outputs": [
    {
     "data": {
      "text/plain": [
       "42"
      ]
     },
     "execution_count": 8,
     "metadata": {},
     "output_type": "execute_result"
    }
   ],
   "source": [
    "universal_orbit_map_facility(test_map_graph)"
   ]
  },
  {
   "cell_type": "code",
   "execution_count": 9,
   "metadata": {},
   "outputs": [
    {
     "name": "stdout",
     "output_type": "stream",
     "text": [
      "Wall time: 1.67 s\n"
     ]
    },
    {
     "data": {
      "text/plain": [
       "140608"
      ]
     },
     "execution_count": 9,
     "metadata": {},
     "output_type": "execute_result"
    }
   ],
   "source": [
    "%%time\n",
    "universal_orbit_map_facility(map_graph)"
   ]
  },
  {
   "cell_type": "markdown",
   "metadata": {},
   "source": [
    "### Yup."
   ]
  },
  {
   "cell_type": "markdown",
   "metadata": {},
   "source": [
    "----\n",
    "## Part 2\n",
    "----"
   ]
  },
  {
   "cell_type": "code",
   "execution_count": 10,
   "metadata": {},
   "outputs": [],
   "source": [
    "from collections import deque"
   ]
  },
  {
   "cell_type": "markdown",
   "metadata": {},
   "source": [
    "### Test orbit map 2"
   ]
  },
  {
   "cell_type": "code",
   "execution_count": 11,
   "metadata": {},
   "outputs": [
    {
     "data": {
      "text/plain": [
       "defaultdict(list,\n",
       "            {'COM': ['B'],\n",
       "             'B': ['COM', 'C', 'G'],\n",
       "             'C': ['B', 'D'],\n",
       "             'D': ['C', 'E', 'I'],\n",
       "             'E': ['D', 'F', 'J'],\n",
       "             'F': ['E'],\n",
       "             'G': ['B', 'H'],\n",
       "             'H': ['G'],\n",
       "             'I': ['D', 'SAN'],\n",
       "             'J': ['E', 'K'],\n",
       "             'K': ['J', 'L', 'YOU'],\n",
       "             'L': ['K'],\n",
       "             'YOU': ['K'],\n",
       "             'SAN': ['I']})"
      ]
     },
     "execution_count": 11,
     "metadata": {},
     "output_type": "execute_result"
    }
   ],
   "source": [
    "with open(\"inputs\\\\test_orbit_map_2.txt\") as orbit_map:\n",
    "    test_map_2 = [tuple(orbit.strip().split(\")\")) for orbit in orbit_map]\n",
    "    \n",
    "test_map_graph_2 = defaultdict(list)\n",
    "\n",
    "for key, value in test_map_2:\n",
    "    test_map_graph_2[key].append(value)\n",
    "    test_map_graph_2[value].append(key)  # Need to create graph going both directions\n",
    "    \n",
    "test_map_graph_2        "
   ]
  },
  {
   "cell_type": "code",
   "execution_count": 12,
   "metadata": {},
   "outputs": [
    {
     "data": {
      "text/plain": [
       "['YOU', 'K', 'J', 'E', 'D', 'I', 'SAN']"
      ]
     },
     "execution_count": 12,
     "metadata": {},
     "output_type": "execute_result"
    }
   ],
   "source": [
    "find_path(test_map_graph_2, \"YOU\", \"SAN\")"
   ]
  },
  {
   "cell_type": "code",
   "execution_count": 13,
   "metadata": {},
   "outputs": [
    {
     "data": {
      "text/plain": [
       "4"
      ]
     },
     "execution_count": 13,
     "metadata": {},
     "output_type": "execute_result"
    }
   ],
   "source": [
    "len(find_path(test_map_graph_2, \"YOU\", \"SAN\")) - 3"
   ]
  },
  {
   "cell_type": "code",
   "execution_count": 14,
   "metadata": {},
   "outputs": [],
   "source": [
    "def find_shortest_path(graph, start, end):\n",
    "    '''\n",
    "    # Code by Eryk Kopczyński\n",
    "    Source: https://www.python.org/doc/essays/graphs/\n",
    "    '''\n",
    "    dist = {start : [start]}\n",
    "    q = deque([start])\n",
    "\n",
    "    while len(q):\n",
    "        \n",
    "        at = q.popleft()\n",
    "        \n",
    "        for next in graph[at]:\n",
    "            if next not in dist:\n",
    "                dist[next] = dist[at] + [next]\n",
    "                q.append(next)\n",
    "        \n",
    "    return dist.get(end)"
   ]
  },
  {
   "cell_type": "code",
   "execution_count": 15,
   "metadata": {},
   "outputs": [
    {
     "data": {
      "text/plain": [
       "['YOU', 'K', 'J', 'E', 'D', 'I', 'SAN']"
      ]
     },
     "execution_count": 15,
     "metadata": {},
     "output_type": "execute_result"
    }
   ],
   "source": [
    "find_shortest_path(test_map_graph_2, \"YOU\", \"SAN\")"
   ]
  },
  {
   "cell_type": "code",
   "execution_count": 16,
   "metadata": {},
   "outputs": [
    {
     "data": {
      "text/plain": [
       "['YOU', 'K', 'J', 'E', 'D', 'I', 'SAN']"
      ]
     },
     "execution_count": 16,
     "metadata": {},
     "output_type": "execute_result"
    }
   ],
   "source": [
    "find_path(test_map_graph_2, \"YOU\", \"SAN\")"
   ]
  },
  {
   "cell_type": "markdown",
   "metadata": {},
   "source": [
    "### Re-load orbit map data, and place in a directed graph"
   ]
  },
  {
   "cell_type": "code",
   "execution_count": 17,
   "metadata": {},
   "outputs": [],
   "source": [
    "with open(\"inputs\\\\orbit_map.txt\") as orbit_map:\n",
    "    map = [tuple(orbit.strip().split(\")\")) for orbit in orbit_map]\n",
    "    \n",
    "map_graph = defaultdict(list)\n",
    "\n",
    "for key, value in map:\n",
    "    map_graph[key].append(value)\n",
    "    map_graph[value].append(key)  # Need to create graph going both directions"
   ]
  },
  {
   "cell_type": "code",
   "execution_count": 18,
   "metadata": {},
   "outputs": [
    {
     "name": "stdout",
     "output_type": "stream",
     "text": [
      "337\n"
     ]
    }
   ],
   "source": [
    "print(len(find_path(map_graph, \"YOU\", \"SAN\")) - 3)"
   ]
  },
  {
   "cell_type": "code",
   "execution_count": 19,
   "metadata": {
    "scrolled": true
   },
   "outputs": [
    {
     "name": "stdout",
     "output_type": "stream",
     "text": [
      "['YOU', 'JLP', '7J9', 'RYF', '8DK', 'TM4', 'PPB', 'DT8', '67W', 'NZY', 'MXL', '3RX', 'VRY', '7XZ', 'YD8', '27S', 'S8T', '534', '2D1', 'RHS', '6QG', 'Z5K', '37J', 'VVP', '6JF', 'DP4', 'V29', 'S3L', 'SRY', '8W1', 'MK2', 'VRC', 'JYG', 'L7M', 'LRC', '6BG', 'X4G', 'FD8', '94X', '6FZ', 'RPN', 'YMW', '7X9', '225', '234', 'QDH', '53T', '5LF', '2MY', 'GL3', '441', 'PW2', '5TV', '39V', 'XDG', 'LYT', 'MT1', 'TG2', 'VHL', 'HN7', 'VFK', 'C8G', '2R4', 'MYD', '37S', '2PS', 'HVD', '9T5', '8RN', 'XZS', 'Y2N', 'D4C', '6NP', '6YN', '3L3', '3YF', '1XP', '7GT', '69P', 'PMQ', '4WW', '5DS', 'FCM', 'QF3', 'YGC', '123', 'RV4', 'KSQ', 'H3D', 'RVX', 'RQK', 'GX6', 'C1J', '3GH', 'SZW', 'XF3', 'QJ1', 'CCF', '8JC', 'PN7', 'JZG', '8NX', 'CBN', '752', 'ZJ7', 'BWP', 'X9K', 'ZWB', 'XM8', 'T62', 'N2S', '4XW', '74B', 'CHP', 'KNJ', 'CP1', 'K4Q', 'T7S', 'TW6', '7XW', '58H', '1Z9', 'QNJ', '7RG', '25P', '961', '1PV', 'LKH', 'ZGL', 'JGH', 'P49', 'CH7', '6WY', 'L64', 'RM4', 'PNZ', '666', 'LYR', '8M8', 'B64', '7FZ', 'SJN', '6LN', 'SKM', 'M8F', '4G9', '8L8', 'B5J', 'LQY', 'ZC6', '1XQ', 'ST4', 'D2D', '531', 'BDW', '3W9', '66N', 'ZCB', 'G1M', 'KD7', '9YN', '7T9', '9GD', '355', '5CL', '2SY', 'QQP', 'Z3J', '34Z', '5QB', 'Y31', '9TD', 'C8J', '92Q', 'LYM', 'Q5H', 'BT5', 'HH3', 'CKP', '8CR', 'H4P', 'YXD', 'ZYT', 'V9C', 'NFS', '948', 'CCX', 'M6D', 'XYN', 'XBY', 'C9C', '5D4', '7LP', '4PR', 'LD1', 'GRL', 'JWB', 'QBG', 'TTD', '7QD', 'JMX', 'Z44', '5J1', 'P2K', '38N', 'HJ8', 'P6S', 'N9H', 'Y63', 'FMW', 'D2F', 'DWZ', 'YQC', 'GHQ', 'XMH', 'R9K', 'SPZ', 'H6S', 'DNV', 'GK7', 'MLT', 'TBP', 'RK8', '5SX', 'C32', '1XC', '7B1', '158', 'DNX', '91Z', '7Z9', 'JKN', 'TBD', 'CSN', 'W3V', '431', 'ZJ8', 'F8N', '1JF', 'WJ9', 'T33', 'QN4', 'KL3', 'PRL', 'BW5', 'D26', 'RLM', '5NW', 'WV7', 'TJZ', 'Y26', 'PQL', 'YHL', '3WS', 'VXM', '7RX', '8XZ', 'YCF', 'FFC', '64C', 'V53', 'Y14', 'P23', '5RF', 'DWB', 'B57', 'X6T', '4HQ', '46Z', 'MQ9', 'JKZ', 'Z7M', 'TJB', 'R7V', '2XT', '5RY', 'S99', 'HHR', 'K6J', '7G2', '5DP', 'VMP', 'JPQ', 'MD9', '6QH', 'PFR', 'KF8', 'P78', 'CFW', '1DL', 'HDR', 'XSH', 'GF8', 'RDQ', 'GF3', 'RJK', 'XRM', 'PTR', '4MP', 'H4Z', 'TC6', 'MCF', '5F9', 'VKQ', 'J6C', 'WQD', 'JRB', 'WXM', 'GRB', '33M', 'FBZ', 'CBW', '83D', 'X5V', 'SK4', '4XH', '4R6', 'YJN', 'HDT', 'BY7', 'WRB', 'WLY', 'QPZ', 'QHT', '4GJ', 'W1R', '9PF', '687', 'PSR', '5BP', '7FJ', '83Q', '134', '1V8', 'M37', 'L4B', 'NBJ', 'DZL', 'S58', 'SAN']\n"
     ]
    }
   ],
   "source": [
    "print(find_shortest_path(map_graph, \"YOU\", \"SAN\"))"
   ]
  },
  {
   "cell_type": "code",
   "execution_count": 20,
   "metadata": {},
   "outputs": [
    {
     "name": "stdout",
     "output_type": "stream",
     "text": [
      "337\n",
      "Wall time: 3 ms\n"
     ]
    }
   ],
   "source": [
    "%%time\n",
    "print(len(find_shortest_path(map_graph, \"YOU\", \"SAN\")) - 3)"
   ]
  },
  {
   "cell_type": "markdown",
   "metadata": {},
   "source": [
    "## [Totally Turbo Encabulated, Dude!](https://www.youtube.com/watch?v=Ac7G7xOG2Ag)"
   ]
  }
 ],
 "metadata": {
  "kernelspec": {
   "display_name": "Python 3",
   "language": "python",
   "name": "python3"
  },
  "language_info": {
   "codemirror_mode": {
    "name": "ipython",
    "version": 3
   },
   "file_extension": ".py",
   "mimetype": "text/x-python",
   "name": "python",
   "nbconvert_exporter": "python",
   "pygments_lexer": "ipython3",
   "version": "3.7.3"
  }
 },
 "nbformat": 4,
 "nbformat_minor": 2
}
