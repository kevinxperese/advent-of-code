{
 "cells": [
  {
   "cell_type": "markdown",
   "metadata": {},
   "source": [
    "# --- Day 12: JSAbacusFramework.io ---\n",
    "\n",
    "https://adventofcode.com/2015/day/12"
   ]
  },
  {
   "cell_type": "code",
   "execution_count": 1,
   "metadata": {},
   "outputs": [],
   "source": [
    "import re"
   ]
  },
  {
   "cell_type": "markdown",
   "metadata": {},
   "source": [
    "## Get Input Data"
   ]
  },
  {
   "cell_type": "code",
   "execution_count": 2,
   "metadata": {},
   "outputs": [
    {
     "data": {
      "text/plain": [
       "'{\"e\":[[{\"e\":86,\"c\":23,\"a\":{\"a\":[120,169,\"green\",\"red\",\"orange\"],\"b\":\"red\"},\"g\":\"yellow\",\"b\":[\"yellow\"],\"d\":\"red\",\"f\":-19},{\"e\":-47,\"a\":[2],\"d\":{\"a\":\"violet\"},\"c\":\"green\",\"h\":\"orange\",\"b\":{\"e\":59,\"a\":\"yellow\",\"d\":\"green\",\"c\":47,\"h\":\"red\",\"b\":\"blue\",\"g\":\"orange\",\"f\":[\"violet\",43,168,78]},\"g\":\"orange\",\"f\":[{\"e\":[82,-41,2,\"red\",\"violet\",\"orange\",\"yellow\"],\"c\":\"green\",\"a\":77,\"g\":\"orange\",\"b\":147,\"d\":49,\"f\":\"blue\"},-1,142,136,[\"green\",\"red\",166,-21],\"blue\",\"orange\",{\"a\":38}]},\"orange\",\"yellow\"],\"green\",-22,[37,[4,-40,[\"red\",\"yellow\",[\"yellow\",177,\"red\",\"blue\",139,[55,13,\"yellow\",\"violet\",-21,140,\"yellow\",117],\"blue\",\"blue\",106],\"blue\",{\"a\":23}],183,92,\"orange\",\"green\"],\"orange\"],-5],\"c\":[{\"e\":{\"e\":-13,\"c\":-11,\"a\":{\"a\":49,\"b\":189},\"g\":144,\"b\":186,\"d\":{\"e\":[146,[32,\"violet\",\"red\",\"orange\",-22],\"blue\",\"violet\",57,{\"e\":12,\"a\":\"red\",\"d\":37,\"c\":-13,\"h\":\"green\",\"b\":-27,\"g\":\"orange\",\"f\":\"orange\",\"i\":\"red\"},56,-1,\"red\",-25],\"c\":-14,\"a\":[[\"orange\",\"green\",\"green\",\"red\",-25],-16,104,177,\"red\"],\"g\":\"red'"
      ]
     },
     "execution_count": 2,
     "metadata": {},
     "output_type": "execute_result"
    }
   ],
   "source": [
    "with open('../inputs/json.txt') as f:\n",
    "    json_doc = f.read().rstrip()\n",
    "json_doc[:1000]"
   ]
  },
  {
   "cell_type": "markdown",
   "metadata": {},
   "source": [
    "## Part 1\n",
    "---"
   ]
  },
  {
   "cell_type": "code",
   "execution_count": 3,
   "metadata": {},
   "outputs": [],
   "source": [
    "def sum_digits(doc):\n",
    "    pattern = re.compile(r\"(-?\\d+)\")\n",
    "    return sum(map(int, re.findall(pattern, doc)))"
   ]
  },
  {
   "cell_type": "markdown",
   "metadata": {},
   "source": [
    "## Run on test data"
   ]
  },
  {
   "cell_type": "code",
   "execution_count": 4,
   "metadata": {},
   "outputs": [],
   "source": [
    "test_data = {\n",
    "    '[1,2,3]' : 6,\n",
    "    '{\"a\":2,\"b\":4}' : 6,\n",
    "    '[[[3]]]' : 3,\n",
    "    '{\"a\":{\"b\":4},\"c\":-1}' : 3,\n",
    "    '{\"a\":[-1,1]}' : 0, \n",
    "    '[-1,{\"a\":1}]' : 0,\n",
    "    '[]' : 0,\n",
    "    '{}' : 0\n",
    "}"
   ]
  },
  {
   "cell_type": "code",
   "execution_count": 5,
   "metadata": {},
   "outputs": [
    {
     "name": "stdout",
     "output_type": "stream",
     "text": [
      "Woot! Passed test cases!\n"
     ]
    }
   ],
   "source": [
    "for k, v in test_data.items():\n",
    "    assert sum_digits(k) == v\n",
    "print('Woot! Passed test cases!')"
   ]
  },
  {
   "cell_type": "markdown",
   "metadata": {},
   "source": [
    "## Run on input data"
   ]
  },
  {
   "cell_type": "code",
   "execution_count": 6,
   "metadata": {},
   "outputs": [
    {
     "data": {
      "text/plain": [
       "111754"
      ]
     },
     "execution_count": 6,
     "metadata": {},
     "output_type": "execute_result"
    }
   ],
   "source": [
    "sum_digits(json_doc)"
   ]
  },
  {
   "cell_type": "markdown",
   "metadata": {},
   "source": [
    "## Part 2\n",
    "----"
   ]
  },
  {
   "cell_type": "code",
   "execution_count": 7,
   "metadata": {},
   "outputs": [],
   "source": [
    "def sum_digits2(doc):\n",
    "    pattern = re.compile(r\"(-?\\d+)\")\n",
    "    \n",
    "    opening_brackets = []\n",
    "    new_doc = doc\n",
    "\n",
    "    for i, c in enumerate(doc):\n",
    "\n",
    "        if c == '{':\n",
    "            opening_brackets.append(i)\n",
    "        elif c == '}':\n",
    "            _open = opening_brackets.pop()  # Remove last opening bracket from opening_brackets list\n",
    "            _close = i\n",
    "            _object = new_doc[_open:_close+1]\n",
    "        \n",
    "            if \":\\\"red\\\"\" in _object:\n",
    "                new_object = re.sub(r\"(-?\\d+)|(red)\", '0', _object)\n",
    "                \n",
    "                # Need to add padding to keep the string length fixed, because the '0's are often\n",
    "                # shorter than the strings it's replacing!\n",
    "                pad = ' ' * (len(_object) - len(new_object))\n",
    "                new_object += pad\n",
    "                \n",
    "                # print('new_object: ', new_object)\n",
    "                new_doc = new_doc[:_open] + new_object + doc[_close:]\n",
    "                # print(new_doc)\n",
    "\n",
    "    return sum(map(int, re.findall(pattern, new_doc)))"
   ]
  },
  {
   "cell_type": "markdown",
   "metadata": {},
   "source": [
    "## Run on test data"
   ]
  },
  {
   "cell_type": "code",
   "execution_count": 8,
   "metadata": {},
   "outputs": [],
   "source": [
    "test_data2 = {\n",
    "    '{[1,2,3]}' : 6,\n",
    "    '{[1,{\"c\":\"red\",\"b\":2},3]}' : 4,\n",
    "    '{{\"d\":\"red\",\"e\":[1,2,3,4],\"f\":5}}' : 0,\n",
    "    '{[1,\"red\",5]}' : 6,\n",
    "    '{\"e\":{\"e\":86,\"c\":23,\"a\":{\"a\":[120,169,\"green\",\"red\",\"orange\"],\"b\":\"red\"},\"g\":\"yellow\",\"b\":[\"yellow\"],\"d\":\"red\",\"f\":-19},\"z\":5}' : 5\n",
    "}"
   ]
  },
  {
   "cell_type": "code",
   "execution_count": 9,
   "metadata": {},
   "outputs": [
    {
     "name": "stdout",
     "output_type": "stream",
     "text": [
      "Woot! Passed test cases!\n"
     ]
    }
   ],
   "source": [
    "for k, v in test_data2.items():\n",
    "    try:\n",
    "        assert sum_digits2(k) == v\n",
    "    except AssertionError:\n",
    "        print(k, sum_digits2(k), v)\n",
    "        raise AssertionError\n",
    "\n",
    "print('Woot! Passed test cases!')"
   ]
  },
  {
   "cell_type": "markdown",
   "metadata": {},
   "source": [
    "## Run on input data"
   ]
  },
  {
   "cell_type": "code",
   "execution_count": 10,
   "metadata": {},
   "outputs": [
    {
     "data": {
      "text/plain": [
       "65402"
      ]
     },
     "execution_count": 10,
     "metadata": {},
     "output_type": "execute_result"
    }
   ],
   "source": [
    "sum_digits2(json_doc)"
   ]
  }
 ],
 "metadata": {
  "kernelspec": {
   "display_name": "Python 3.8.8 ('base')",
   "language": "python",
   "name": "python3"
  },
  "language_info": {
   "codemirror_mode": {
    "name": "ipython",
    "version": 3
   },
   "file_extension": ".py",
   "mimetype": "text/x-python",
   "name": "python",
   "nbconvert_exporter": "python",
   "pygments_lexer": "ipython3",
   "version": "3.8.8"
  },
  "vscode": {
   "interpreter": {
    "hash": "f49206fcf84a9145e7e21228cbafa911d1ac18292303b01e865d8267a9c448f7"
   }
  }
 },
 "nbformat": 4,
 "nbformat_minor": 4
}
