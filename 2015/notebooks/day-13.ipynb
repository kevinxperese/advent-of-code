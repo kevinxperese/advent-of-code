{
 "cells": [
  {
   "cell_type": "markdown",
   "metadata": {},
   "source": [
    "# --- Day 13: Knights of the Dinner Table ---\n",
    "\n",
    "https://adventofcode.com/2015/day/13"
   ]
  },
  {
   "cell_type": "markdown",
   "metadata": {},
   "source": [
    "## Get Input Data"
   ]
  },
  {
   "cell_type": "code",
   "execution_count": 85,
   "metadata": {},
   "outputs": [],
   "source": [
    "def read_data(file):\n",
    "    guests = set()\n",
    "    happiness = {}\n",
    "    with open(f'../inputs/{file}.txt') as f:\n",
    "        for line in f.readlines():\n",
    "            line = line.strip()\n",
    "            person = line[0:line.find(\" \")]\n",
    "            guests.add(person)\n",
    "            neighbor = line[line.rfind(\" \")+1:-1]\n",
    "            amount = [int(word) for word in line.split() if word.isdigit()][0]\n",
    "            neg = (\"lose\" in line) * -1 + (\"gain\" in line) * 1\n",
    "\n",
    "            happiness[f\"{person}-{neighbor}\"] = amount * neg\n",
    "\n",
    "    guests = list(guests)\n",
    "\n",
    "    return guests, happiness"
   ]
  },
  {
   "cell_type": "code",
   "execution_count": 87,
   "metadata": {},
   "outputs": [
    {
     "data": {
      "text/plain": [
       "(['David', 'Carol', 'Alice', 'Bob'],\n",
       " {'Alice-Bob': 54,\n",
       "  'Alice-Carol': -79,\n",
       "  'Alice-David': -2,\n",
       "  'Bob-Alice': 83,\n",
       "  'Bob-Carol': -7,\n",
       "  'Bob-David': -63,\n",
       "  'Carol-Alice': -62,\n",
       "  'Carol-Bob': 60,\n",
       "  'Carol-David': 55,\n",
       "  'David-Alice': 46,\n",
       "  'David-Bob': -7,\n",
       "  'David-Carol': 41})"
      ]
     },
     "execution_count": 87,
     "metadata": {},
     "output_type": "execute_result"
    }
   ],
   "source": [
    "read_data('test_table_arrangements')"
   ]
  },
  {
   "cell_type": "markdown",
   "metadata": {},
   "source": [
    "## Part 1\n",
    "---"
   ]
  },
  {
   "cell_type": "code",
   "execution_count": 1,
   "metadata": {},
   "outputs": [],
   "source": [
    "import itertools"
   ]
  },
  {
   "cell_type": "code",
   "execution_count": null,
   "metadata": {},
   "outputs": [],
   "source": [
    "def find_max_happiness(guests, happiness):\n",
    "    max_happiness = 0\n",
    "    arrangements = itertools.permutations(guests)\n",
    "    for a in arrangements:\n",
    "        arrangement = list(a) + [list(a)[0]]  # Add first person to the end, to close the loop\n",
    "        pairs = list(itertools.pairwise(arrangement))\n",
    "\n",
    "        forward_happiness = sum([happiness[\"-\".join(p)] for p in pairs])\n",
    "        backward_happiness = sum([happiness[\"-\".join(p[::-1])] for p in pairs])\n",
    "        total_happiness = forward_happiness + backward_happiness\n",
    "\n",
    "        max_happiness = max(max_happiness, total_happiness)\n",
    "\n",
    "    return max_happiness"
   ]
  },
  {
   "cell_type": "markdown",
   "metadata": {},
   "source": [
    "### Run on Test Data"
   ]
  },
  {
   "cell_type": "code",
   "execution_count": 92,
   "metadata": {},
   "outputs": [
    {
     "data": {
      "text/plain": [
       "330"
      ]
     },
     "execution_count": 92,
     "metadata": {},
     "output_type": "execute_result"
    }
   ],
   "source": [
    "find_max_happiness(*read_data('test_table_arrangements'))  # should equal 330"
   ]
  },
  {
   "cell_type": "markdown",
   "metadata": {},
   "source": [
    "### Run on Input Data"
   ]
  },
  {
   "cell_type": "code",
   "execution_count": 93,
   "metadata": {},
   "outputs": [
    {
     "data": {
      "text/plain": [
       "733"
      ]
     },
     "execution_count": 93,
     "metadata": {},
     "output_type": "execute_result"
    }
   ],
   "source": [
    "find_max_happiness(*read_data('table_arrangements'))"
   ]
  },
  {
   "cell_type": "markdown",
   "metadata": {},
   "source": [
    "## Part 2\n",
    "---"
   ]
  },
  {
   "cell_type": "code",
   "execution_count": 96,
   "metadata": {},
   "outputs": [],
   "source": [
    "guests, happiness = read_data('table_arrangements')\n",
    "\n",
    "for person in guests:\n",
    "    happiness[f\"Me-{person}\"] = 0\n",
    "    happiness[f\"{person}-Me\"] = 0\n",
    "\n",
    "guests.append(\"Me\")\n"
   ]
  },
  {
   "cell_type": "markdown",
   "metadata": {},
   "source": [
    "### Run on Input Data"
   ]
  },
  {
   "cell_type": "code",
   "execution_count": 97,
   "metadata": {},
   "outputs": [
    {
     "data": {
      "text/plain": [
       "725"
      ]
     },
     "execution_count": 97,
     "metadata": {},
     "output_type": "execute_result"
    }
   ],
   "source": [
    "find_max_happiness(guests, happiness)"
   ]
  }
 ],
 "metadata": {
  "kernelspec": {
   "display_name": "advent-of-code",
   "language": "python",
   "name": "python3"
  },
  "language_info": {
   "codemirror_mode": {
    "name": "ipython",
    "version": 3
   },
   "file_extension": ".py",
   "mimetype": "text/x-python",
   "name": "python",
   "nbconvert_exporter": "python",
   "pygments_lexer": "ipython3",
   "version": "3.11.0"
  }
 },
 "nbformat": 4,
 "nbformat_minor": 4
}
