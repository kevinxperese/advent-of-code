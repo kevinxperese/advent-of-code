{
 "cells": [
  {
   "cell_type": "markdown",
   "metadata": {},
   "source": [
    "# --- Day 3: Perfectly Spherical Houses in a Vacuum --- \n",
    "\n",
    "https://adventofcode.com/2015/day/3"
   ]
  },
  {
   "cell_type": "markdown",
   "metadata": {},
   "source": [
    "## Get Input Data"
   ]
  },
  {
   "cell_type": "code",
   "execution_count": 1,
   "metadata": {},
   "outputs": [],
   "source": [
    "with open('../inputs/moves.txt') as f:\n",
    "    moves = f.read()"
   ]
  },
  {
   "cell_type": "markdown",
   "metadata": {},
   "source": [
    "## Part 1\n",
    "---"
   ]
  },
  {
   "cell_type": "code",
   "execution_count": 2,
   "metadata": {},
   "outputs": [],
   "source": [
    "def calc_num_houses(moves):\n",
    "\n",
    "    change = {\n",
    "        '>' : (1, 0),\n",
    "        '<' : (-1, 0),\n",
    "        '^' : (0, 1),\n",
    "        'v' : (0, -1)\n",
    "    }\n",
    "\n",
    "    locations = [(0, 0)]\n",
    "\n",
    "    for move in moves:\n",
    "        next_location = tuple(map(sum, zip(locations[-1], change[move])))\n",
    "        locations.append(next_location)\n",
    "\n",
    "    num_houses = len(set(locations))\n",
    "\n",
    "    return num_houses"
   ]
  },
  {
   "cell_type": "markdown",
   "metadata": {},
   "source": [
    "### Run on Test Data"
   ]
  },
  {
   "cell_type": "code",
   "execution_count": 3,
   "metadata": {},
   "outputs": [],
   "source": [
    "test_data = {\n",
    "    '>' : 2,\n",
    "    '^>v<' : 4,\n",
    "    '^v^v^v^v^v' : 2\n",
    "}"
   ]
  },
  {
   "cell_type": "code",
   "execution_count": 4,
   "metadata": {},
   "outputs": [
    {
     "name": "stdout",
     "output_type": "stream",
     "text": [
      "Woot! Passed test cases!\n"
     ]
    }
   ],
   "source": [
    "for k, v in test_data.items():\n",
    "    assert calc_num_houses(k) == v\n",
    "print('Woot! Passed test cases!')"
   ]
  },
  {
   "cell_type": "markdown",
   "metadata": {},
   "source": [
    "### Run on Input Data"
   ]
  },
  {
   "cell_type": "code",
   "execution_count": 5,
   "metadata": {},
   "outputs": [
    {
     "data": {
      "text/plain": [
       "2081"
      ]
     },
     "execution_count": 5,
     "metadata": {},
     "output_type": "execute_result"
    }
   ],
   "source": [
    "calc_num_houses(moves)"
   ]
  },
  {
   "cell_type": "markdown",
   "metadata": {},
   "source": [
    "## Part 2\n",
    "---"
   ]
  },
  {
   "cell_type": "code",
   "execution_count": 6,
   "metadata": {},
   "outputs": [],
   "source": [
    "def calc_num_houses2(moves):\n",
    "\n",
    "    change = {\n",
    "        '>' : (1, 0),\n",
    "        '<' : (-1, 0),\n",
    "        '^' : (0, 1),\n",
    "        'v' : (0, -1)\n",
    "    }\n",
    "\n",
    "    santa_locs = [(0, 0)]\n",
    "    robo_santa_locs = [(0, 0)]\n",
    "\n",
    "    for i, move in enumerate(moves):\n",
    "        if i % 2 == 0:\n",
    "            next_robo_santa_loc = tuple(map(sum, zip(robo_santa_locs[-1], change[move])))\n",
    "            robo_santa_locs.append(next_robo_santa_loc)\n",
    "        else:\n",
    "            next_santa_loc = tuple(map(sum, zip(santa_locs[-1], change[move])))\n",
    "            santa_locs.append(next_santa_loc)\n",
    "            \n",
    "    num_houses = len(set(robo_santa_locs + santa_locs))\n",
    "\n",
    "    return num_houses"
   ]
  },
  {
   "cell_type": "markdown",
   "metadata": {},
   "source": [
    "### Run on Test Data"
   ]
  },
  {
   "cell_type": "code",
   "execution_count": 7,
   "metadata": {},
   "outputs": [],
   "source": [
    "test_data = {\n",
    "    '^v' : 3,\n",
    "    '^>v<' : 3,\n",
    "    '^v^v^v^v^v' : 11\n",
    "}"
   ]
  },
  {
   "cell_type": "code",
   "execution_count": 8,
   "metadata": {},
   "outputs": [
    {
     "name": "stdout",
     "output_type": "stream",
     "text": [
      "Woot! Passed test cases!\n"
     ]
    }
   ],
   "source": [
    "for k, v in test_data.items():\n",
    "    assert calc_num_houses2(k) == v\n",
    "print('Woot! Passed test cases!')"
   ]
  },
  {
   "cell_type": "markdown",
   "metadata": {},
   "source": [
    "### Run on Input Data"
   ]
  },
  {
   "cell_type": "code",
   "execution_count": 9,
   "metadata": {},
   "outputs": [
    {
     "data": {
      "text/plain": [
       "2341"
      ]
     },
     "execution_count": 9,
     "metadata": {},
     "output_type": "execute_result"
    }
   ],
   "source": [
    "calc_num_houses2(moves)"
   ]
  }
 ],
 "metadata": {
  "kernelspec": {
   "display_name": "Python 3.8.8 ('base')",
   "language": "python",
   "name": "python3"
  },
  "language_info": {
   "codemirror_mode": {
    "name": "ipython",
    "version": 3
   },
   "file_extension": ".py",
   "mimetype": "text/x-python",
   "name": "python",
   "nbconvert_exporter": "python",
   "pygments_lexer": "ipython3",
   "version": "3.8.8"
  },
  "vscode": {
   "interpreter": {
    "hash": "f49206fcf84a9145e7e21228cbafa911d1ac18292303b01e865d8267a9c448f7"
   }
  }
 },
 "nbformat": 4,
 "nbformat_minor": 4
}
