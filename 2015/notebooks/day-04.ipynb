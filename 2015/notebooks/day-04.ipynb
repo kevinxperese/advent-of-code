{
 "cells": [
  {
   "cell_type": "markdown",
   "metadata": {},
   "source": [
    "# --- Day 4: The Ideal Stocking Stuffer  --- \n",
    "\n",
    "https://adventofcode.com/2015/day/4"
   ]
  },
  {
   "cell_type": "markdown",
   "metadata": {},
   "source": [
    "## Get Input Data"
   ]
  },
  {
   "cell_type": "code",
   "execution_count": 1,
   "metadata": {},
   "outputs": [],
   "source": [
    "secret_key = 'bgvyzdsv'"
   ]
  },
  {
   "cell_type": "markdown",
   "metadata": {},
   "source": [
    "## Part 1\n",
    "---"
   ]
  },
  {
   "cell_type": "code",
   "execution_count": 2,
   "metadata": {},
   "outputs": [],
   "source": [
    "import hashlib\n",
    "\n",
    "def find_good_hash(secret_key):\n",
    "\n",
    "    num = 0\n",
    "    \n",
    "    # Brute-force: Loop until we get a good md5 hash...\n",
    "    while True:\n",
    "        num += 1\n",
    "        str2hash = secret_key + str(num)\n",
    "        md5 = hashlib.md5(str2hash.encode()).hexdigest()\n",
    "\n",
    "        # Stop when we get an md5 has that meets the criteria specified\n",
    "        if md5[:5] == '00000':\n",
    "            return num"
   ]
  },
  {
   "cell_type": "markdown",
   "metadata": {},
   "source": [
    "### Run on Test Data"
   ]
  },
  {
   "cell_type": "code",
   "execution_count": 3,
   "metadata": {},
   "outputs": [],
   "source": [
    "test_data = {\n",
    "    'abcdef' : 609043,\n",
    "    'pqrstuv' : 1048970\n",
    "}"
   ]
  },
  {
   "cell_type": "code",
   "execution_count": 4,
   "metadata": {},
   "outputs": [
    {
     "name": "stdout",
     "output_type": "stream",
     "text": [
      "Woot! Passed test cases!\n"
     ]
    }
   ],
   "source": [
    "for k, v in test_data.items():\n",
    "    assert find_good_hash(k) == v\n",
    "print('Woot! Passed test cases!')"
   ]
  },
  {
   "cell_type": "markdown",
   "metadata": {},
   "source": [
    "### Run on Input Data"
   ]
  },
  {
   "cell_type": "code",
   "execution_count": 5,
   "metadata": {},
   "outputs": [
    {
     "data": {
      "text/plain": [
       "254575"
      ]
     },
     "execution_count": 5,
     "metadata": {},
     "output_type": "execute_result"
    }
   ],
   "source": [
    "find_good_hash(secret_key)"
   ]
  },
  {
   "cell_type": "markdown",
   "metadata": {},
   "source": [
    "## Part 2\n",
    "---"
   ]
  },
  {
   "cell_type": "code",
   "execution_count": 6,
   "metadata": {},
   "outputs": [],
   "source": [
    "def find_good_hash2(secret_key):\n",
    "\n",
    "    num = 0\n",
    "    \n",
    "    # Brute-force: Loop until we get a good md5 hash...\n",
    "    while True:\n",
    "        num += 1\n",
    "        str2hash = secret_key + str(num)\n",
    "        md5 = hashlib.md5(str2hash.encode()).hexdigest()\n",
    "\n",
    "        # Stop when we get an md5 has that meets the criteria specified\n",
    "        if md5[:6] == '000000':\n",
    "            return num"
   ]
  },
  {
   "cell_type": "markdown",
   "metadata": {},
   "source": [
    "### Run on Test Data"
   ]
  },
  {
   "cell_type": "code",
   "execution_count": 7,
   "metadata": {},
   "outputs": [],
   "source": [
    "test_data2 = {\n",
    "    # There are no new test data\n",
    "}"
   ]
  },
  {
   "cell_type": "markdown",
   "metadata": {},
   "source": [
    "### Run on Input Data\n",
    "\n",
    "Hash algorithm is a one-way thing, so there's only brute-force solutions..."
   ]
  },
  {
   "cell_type": "code",
   "execution_count": 8,
   "metadata": {},
   "outputs": [
    {
     "data": {
      "text/plain": [
       "1038736"
      ]
     },
     "execution_count": 8,
     "metadata": {},
     "output_type": "execute_result"
    }
   ],
   "source": [
    "find_good_hash2(secret_key)"
   ]
  }
 ],
 "metadata": {
  "kernelspec": {
   "display_name": "Python 3.8.8 ('base')",
   "language": "python",
   "name": "python3"
  },
  "language_info": {
   "codemirror_mode": {
    "name": "ipython",
    "version": 3
   },
   "file_extension": ".py",
   "mimetype": "text/x-python",
   "name": "python",
   "nbconvert_exporter": "python",
   "pygments_lexer": "ipython3",
   "version": "3.8.8"
  },
  "vscode": {
   "interpreter": {
    "hash": "f49206fcf84a9145e7e21228cbafa911d1ac18292303b01e865d8267a9c448f7"
   }
  }
 },
 "nbformat": 4,
 "nbformat_minor": 4
}
