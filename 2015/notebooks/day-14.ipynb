{
 "cells": [
  {
   "cell_type": "markdown",
   "metadata": {},
   "source": [
    "# --- Day 14: Reindeer Olympics ---\n",
    "\n",
    "https://adventofcode.com/2015/day/14"
   ]
  },
  {
   "cell_type": "markdown",
   "metadata": {},
   "source": [
    "## Parse the Input Data"
   ]
  },
  {
   "cell_type": "code",
   "execution_count": 1,
   "metadata": {},
   "outputs": [],
   "source": [
    "def parse(filename):\n",
    "    \"\"\"Parse input data for puzzle.\n",
    "\n",
    "    Parameters\n",
    "    ----------\n",
    "    filename : str\n",
    "        The name of the *.txt file in the inputs/ directory.\n",
    "\n",
    "    Returns\n",
    "    -------\n",
    "\n",
    "    \"\"\"\n",
    "    reindeer = {}\n",
    "    with open(f'../inputs/{filename}.txt') as f:\n",
    "        for line in f.readlines():\n",
    "            name = line[:line.find(\" \")]\n",
    "            flying_d, flying_t, resting_t = [int(word) for word in line.split() if word.isdigit()]\n",
    "\n",
    "            reindeer[name] = {}\n",
    "            reindeer[name]['flying_d'] = flying_d\n",
    "            reindeer[name]['flying_t'] = flying_t\n",
    "            reindeer[name]['resting_t'] = resting_t\n",
    "\n",
    "    return reindeer\n"
   ]
  },
  {
   "cell_type": "code",
   "execution_count": 2,
   "metadata": {},
   "outputs": [
    {
     "data": {
      "text/plain": [
       "{'Comet': {'flying_d': 14, 'flying_t': 10, 'resting_t': 127},\n",
       " 'Dancer': {'flying_d': 16, 'flying_t': 11, 'resting_t': 162}}"
      ]
     },
     "execution_count": 2,
     "metadata": {},
     "output_type": "execute_result"
    }
   ],
   "source": [
    "parse('test_reindeer_speeds')"
   ]
  },
  {
   "cell_type": "markdown",
   "metadata": {},
   "source": [
    "## Part 1\n",
    "---"
   ]
  },
  {
   "cell_type": "code",
   "execution_count": 3,
   "metadata": {},
   "outputs": [],
   "source": [
    "def calc_max_distance(reindeer, t):\n",
    "    max_d = 0\n",
    "    for r in reindeer.values():\n",
    "        total_t = r['flying_t'] + r['resting_t']\n",
    "        remainder = t % total_t\n",
    "\n",
    "        d = (t // total_t) * r['flying_d'] * r['flying_t']\n",
    "        d += r['flying_d'] * min(remainder, r['flying_t'])\n",
    "\n",
    "        max_d = max(max_d, d)\n",
    "\n",
    "    return max_d\n"
   ]
  },
  {
   "cell_type": "markdown",
   "metadata": {},
   "source": [
    "### Run on Test Data"
   ]
  },
  {
   "cell_type": "code",
   "execution_count": 4,
   "metadata": {},
   "outputs": [
    {
     "data": {
      "text/plain": [
       "1120"
      ]
     },
     "execution_count": 4,
     "metadata": {},
     "output_type": "execute_result"
    }
   ],
   "source": [
    "calc_max_distance(parse('test_reindeer_speeds'), 1000)  # should equal 1120"
   ]
  },
  {
   "cell_type": "markdown",
   "metadata": {},
   "source": [
    "### Run on Input Data"
   ]
  },
  {
   "cell_type": "code",
   "execution_count": 5,
   "metadata": {},
   "outputs": [
    {
     "data": {
      "text/plain": [
       "2640"
      ]
     },
     "execution_count": 5,
     "metadata": {},
     "output_type": "execute_result"
    }
   ],
   "source": [
    "calc_max_distance(parse('reindeer_speeds'), 2503)"
   ]
  },
  {
   "cell_type": "markdown",
   "metadata": {},
   "source": [
    "## Part 2\n",
    "---"
   ]
  },
  {
   "cell_type": "code",
   "execution_count": 6,
   "metadata": {},
   "outputs": [],
   "source": [
    "def calc_max_points(reindeer, time):\n",
    "    for name in reindeer:\n",
    "        reindeer[name]['total_t'] = reindeer[name]['flying_t'] + reindeer[name]['resting_t']\n",
    "        reindeer[name]['d'] = 0  # Will hold cummulartive distance measure\n",
    "        reindeer[name]['pts'] = 0  # Will hold the points assigned to the winner(S) each second\n",
    "\n",
    "    for t in range(1, time + 1):\n",
    "        d_tracker = {}\n",
    "        for name in reindeer:\n",
    "            floor = (t // reindeer[name]['total_t'])\n",
    "            remainder = (t % reindeer[name]['total_t'])\n",
    "\n",
    "            reindeer[name]['d'] = reindeer[name]['flying_d'] * floor * reindeer[name]['flying_t']\n",
    "            reindeer[name]['d'] += reindeer[name]['flying_d'] * min(remainder, reindeer[name]['flying_t'])\n",
    "\n",
    "            d_tracker[name] = reindeer[name]['d']\n",
    "\n",
    "        # Need to allow for ties when adding points\n",
    "        max_d = max(d_tracker.values())\n",
    "        for name in reindeer:\n",
    "            if reindeer[name]['d'] == max_d:\n",
    "                reindeer[name]['pts'] += 1\n",
    "\n",
    "    max_points = max([reindeer[name]['pts'] for name in reindeer])\n",
    "\n",
    "    return max_points"
   ]
  },
  {
   "cell_type": "markdown",
   "metadata": {},
   "source": [
    "### Run on Test Data"
   ]
  },
  {
   "cell_type": "code",
   "execution_count": 7,
   "metadata": {},
   "outputs": [
    {
     "data": {
      "text/plain": [
       "689"
      ]
     },
     "execution_count": 7,
     "metadata": {},
     "output_type": "execute_result"
    }
   ],
   "source": [
    "calc_max_points(parse('test_reindeer_speeds'), 1000)  # should equal 689"
   ]
  },
  {
   "cell_type": "markdown",
   "metadata": {},
   "source": [
    "### Run on Input Data"
   ]
  },
  {
   "cell_type": "code",
   "execution_count": 8,
   "metadata": {},
   "outputs": [
    {
     "data": {
      "text/plain": [
       "1102"
      ]
     },
     "execution_count": 8,
     "metadata": {},
     "output_type": "execute_result"
    }
   ],
   "source": [
    "calc_max_points(parse('reindeer_speeds'), 2503)"
   ]
  }
 ],
 "metadata": {
  "kernelspec": {
   "display_name": "advent-of-code",
   "language": "python",
   "name": "python3"
  },
  "language_info": {
   "codemirror_mode": {
    "name": "ipython",
    "version": 3
   },
   "file_extension": ".py",
   "mimetype": "text/x-python",
   "name": "python",
   "nbconvert_exporter": "python",
   "pygments_lexer": "ipython3",
   "version": "3.11.0"
  }
 },
 "nbformat": 4,
 "nbformat_minor": 4
}
