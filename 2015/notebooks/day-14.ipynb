{
 "cells": [
  {
   "cell_type": "markdown",
   "metadata": {},
   "source": [
    "# --- Day 14: Reindeer Olympics ---\n",
    "\n",
    "https://adventofcode.com/2015/day/14"
   ]
  },
  {
   "cell_type": "markdown",
   "metadata": {},
   "source": [
    "## Parse the Input Data"
   ]
  },
  {
   "cell_type": "code",
   "execution_count": null,
   "metadata": {},
   "outputs": [],
   "source": [
    "def parse(filename):\n",
    "    \"\"\"Parse input data for puzzle.\n",
    "\n",
    "    Parameters\n",
    "    ----------\n",
    "    filename : str\n",
    "        The name of the *.txt file in the inputs/ directory.\n",
    "\n",
    "    Returns\n",
    "    -------\n",
    "\n",
    "    \"\"\"\n",
    "    reindeer = {}\n",
    "    with open(f'../inputs/{filename}.txt') as f:\n",
    "        for line in f.readlines():\n",
    "            name = line[:line.find(\" \")]\n",
    "            flying_d, flying_t, resting_t = [int(word) for word in line.split() if word.isdigit()]\n",
    "\n",
    "            reindeer[name] = {}\n",
    "            reindeer[name]['flying_d'] = flying_d\n",
    "            reindeer[name]['flying_t'] = flying_t\n",
    "            reindeer[name]['resting_t'] = resting_t\n",
    "\n",
    "    return reindeer\n"
   ]
  },
  {
   "cell_type": "code",
   "execution_count": 13,
   "metadata": {},
   "outputs": [
    {
     "data": {
      "text/plain": [
       "{'Comet': {'flying_d': 14, 'flying_t': 10, 'resting_t': 127},\n",
       " 'Dancer': {'flying_d': 16, 'flying_t': 11, 'resting_t': 162}}"
      ]
     },
     "execution_count": 13,
     "metadata": {},
     "output_type": "execute_result"
    }
   ],
   "source": [
    "parse('test_reindeer_speeds')"
   ]
  },
  {
   "cell_type": "code",
   "execution_count": 20,
   "metadata": {},
   "outputs": [
    {
     "data": {
      "text/plain": [
       "41"
      ]
     },
     "execution_count": 20,
     "metadata": {},
     "output_type": "execute_result"
    }
   ],
   "source": [
    "1000 % 137"
   ]
  },
  {
   "cell_type": "code",
   "execution_count": 21,
   "metadata": {},
   "outputs": [
    {
     "data": {
      "text/plain": [
       "7"
      ]
     },
     "execution_count": 21,
     "metadata": {},
     "output_type": "execute_result"
    }
   ],
   "source": [
    "1000 // 137"
   ]
  },
  {
   "cell_type": "code",
   "execution_count": 22,
   "metadata": {},
   "outputs": [
    {
     "data": {
      "text/plain": [
       "112"
      ]
     },
     "execution_count": 22,
     "metadata": {},
     "output_type": "execute_result"
    }
   ],
   "source": [
    "8* 14"
   ]
  },
  {
   "cell_type": "markdown",
   "metadata": {},
   "source": [
    "## Part 1\n",
    "---"
   ]
  },
  {
   "cell_type": "code",
   "execution_count": null,
   "metadata": {},
   "outputs": [],
   "source": [
    "def calc_max_distance(reindeer, t):\n",
    "    max_d = 0\n",
    "    for r in reindeer.values():\n",
    "        total_t = r['flying_t'] + r['resting_t']\n",
    "        remainder = t % total_t\n",
    "\n",
    "        d = (t // total_t) * r['flying_d'] * r['flying_t']\n",
    "        d += min(remainder, r['flying_t']) * r['flying_d']\n",
    "\n",
    "        max_d = max(max_d, d)\n",
    "\n",
    "    return max_d\n"
   ]
  },
  {
   "cell_type": "markdown",
   "metadata": {},
   "source": [
    "### Run on Test Data"
   ]
  },
  {
   "cell_type": "code",
   "execution_count": 24,
   "metadata": {},
   "outputs": [
    {
     "data": {
      "text/plain": [
       "1120"
      ]
     },
     "execution_count": 24,
     "metadata": {},
     "output_type": "execute_result"
    }
   ],
   "source": [
    "calc_max_distance(parse('test_reindeer_speeds'), 1000)  # should equal 1120"
   ]
  },
  {
   "cell_type": "markdown",
   "metadata": {},
   "source": [
    "### Run on Input Data"
   ]
  },
  {
   "cell_type": "code",
   "execution_count": 26,
   "metadata": {},
   "outputs": [
    {
     "data": {
      "text/plain": [
       "{'Dancer': {'flying_d': 27, 'flying_t': 5, 'resting_t': 132},\n",
       " 'Cupid': {'flying_d': 22, 'flying_t': 2, 'resting_t': 41},\n",
       " 'Rudolph': {'flying_d': 11, 'flying_t': 5, 'resting_t': 48},\n",
       " 'Donner': {'flying_d': 28, 'flying_t': 5, 'resting_t': 134},\n",
       " 'Dasher': {'flying_d': 4, 'flying_t': 16, 'resting_t': 55},\n",
       " 'Blitzen': {'flying_d': 14, 'flying_t': 3, 'resting_t': 38},\n",
       " 'Prancer': {'flying_d': 3, 'flying_t': 21, 'resting_t': 40},\n",
       " 'Comet': {'flying_d': 18, 'flying_t': 6, 'resting_t': 103},\n",
       " 'Vixen': {'flying_d': 18, 'flying_t': 5, 'resting_t': 84}}"
      ]
     },
     "execution_count": 26,
     "metadata": {},
     "output_type": "execute_result"
    }
   ],
   "source": [
    "parse('reindeer_speeds')"
   ]
  },
  {
   "cell_type": "code",
   "execution_count": 25,
   "metadata": {},
   "outputs": [
    {
     "data": {
      "text/plain": [
       "2160"
      ]
     },
     "execution_count": 25,
     "metadata": {},
     "output_type": "execute_result"
    }
   ],
   "source": [
    "calc_max_distance(parse('reindeer_speeds'), 2053)"
   ]
  },
  {
   "cell_type": "markdown",
   "metadata": {},
   "source": [
    "## Part 2\n",
    "---"
   ]
  },
  {
   "cell_type": "code",
   "execution_count": null,
   "metadata": {},
   "outputs": [],
   "source": []
  },
  {
   "cell_type": "markdown",
   "metadata": {},
   "source": [
    "### Run on Test Data"
   ]
  },
  {
   "cell_type": "code",
   "execution_count": null,
   "metadata": {},
   "outputs": [],
   "source": []
  },
  {
   "cell_type": "markdown",
   "metadata": {},
   "source": [
    "### Run on Input Data"
   ]
  },
  {
   "cell_type": "code",
   "execution_count": null,
   "metadata": {},
   "outputs": [],
   "source": []
  }
 ],
 "metadata": {
  "kernelspec": {
   "display_name": "advent-of-code",
   "language": "python",
   "name": "python3"
  },
  "language_info": {
   "codemirror_mode": {
    "name": "ipython",
    "version": 3
   },
   "file_extension": ".py",
   "mimetype": "text/x-python",
   "name": "python",
   "nbconvert_exporter": "python",
   "pygments_lexer": "ipython3",
   "version": "3.11.0"
  }
 },
 "nbformat": 4,
 "nbformat_minor": 4
}
