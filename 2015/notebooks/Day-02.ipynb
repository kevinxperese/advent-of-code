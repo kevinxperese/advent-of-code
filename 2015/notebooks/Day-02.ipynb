{
 "cells": [
  {
   "cell_type": "markdown",
   "metadata": {},
   "source": [
    "# --- Day 2: I Was Told There Would Be No Math  --- \n",
    "\n",
    "https://adventofcode.com/2015/day/2"
   ]
  },
  {
   "cell_type": "markdown",
   "metadata": {},
   "source": [
    "## Get Input Data"
   ]
  },
  {
   "cell_type": "code",
   "execution_count": 10,
   "metadata": {},
   "outputs": [
    {
     "data": {
      "text/plain": [
       "['3x11x24', '13x5x19', '1x9x27', '24x8x21', '6x8x17']"
      ]
     },
     "execution_count": 10,
     "metadata": {},
     "output_type": "execute_result"
    }
   ],
   "source": [
    "present_dimensions = []\n",
    "with open('../inputs/present_dimensions.txt') as f:\n",
    "    for line in f.readlines():\n",
    "        present_dimensions.append(line.strip())\n",
    "\n",
    "present_dimensions[:5]"
   ]
  },
  {
   "cell_type": "markdown",
   "metadata": {},
   "source": [
    "## Part 1\n",
    "---"
   ]
  },
  {
   "cell_type": "code",
   "execution_count": 13,
   "metadata": {},
   "outputs": [],
   "source": [
    "def calc_paper_needed(present_dimensions):\n",
    "    l, w, h = [int(d) for d in present_dimensions.split('x')]\n",
    "\n",
    "    present_area = 2*l*w + 2*w*h + 2*h*l\n",
    "    smallest_side = min(l*w, w*h, h*l)\n",
    "\n",
    "    paper_needed = present_area + smallest_side\n",
    "\n",
    "    return paper_needed"
   ]
  },
  {
   "cell_type": "markdown",
   "metadata": {},
   "source": [
    "### Run on Test Data"
   ]
  },
  {
   "cell_type": "code",
   "execution_count": 12,
   "metadata": {},
   "outputs": [],
   "source": [
    "test_data = {\n",
    "    '2x3x4' : 58,\n",
    "    '1x1x10' : 43\n",
    "}"
   ]
  },
  {
   "cell_type": "code",
   "execution_count": 14,
   "metadata": {},
   "outputs": [
    {
     "name": "stdout",
     "output_type": "stream",
     "text": [
      "Woot! Passed test cases!\n"
     ]
    }
   ],
   "source": [
    "for k, v in test_data.items():\n",
    "    assert calc_paper_needed(k) == v\n",
    "print('Woot! Passed test cases!')"
   ]
  },
  {
   "cell_type": "markdown",
   "metadata": {},
   "source": [
    "### Run on Input Data"
   ]
  },
  {
   "cell_type": "code",
   "execution_count": 15,
   "metadata": {},
   "outputs": [
    {
     "name": "stdout",
     "output_type": "stream",
     "text": [
      "1588178\n"
     ]
    }
   ],
   "source": [
    "total_paper_needed = 0\n",
    "for present in present_dimensions:\n",
    "    total_paper_needed += calc_paper_needed(present)\n",
    "\n",
    "print(total_paper_needed)"
   ]
  },
  {
   "cell_type": "markdown",
   "metadata": {},
   "source": [
    "## Part 2\n",
    "---"
   ]
  },
  {
   "cell_type": "code",
   "execution_count": 33,
   "metadata": {},
   "outputs": [],
   "source": [
    "def calc_ribbon_needed(present_dimensions):\n",
    "    l, w, h = dims = [int(d) for d in present_dimensions.split('x')]\n",
    "    dims.remove(max(dims))\n",
    "    for_present = 2 * dims[0] + 2 * dims[1]\n",
    "    for_bow = l * w * h\n",
    "\n",
    "    ribbon_needed = for_present + for_bow\n",
    "    return ribbon_needed"
   ]
  },
  {
   "cell_type": "markdown",
   "metadata": {},
   "source": [
    "### Run on Test Data"
   ]
  },
  {
   "cell_type": "code",
   "execution_count": 34,
   "metadata": {},
   "outputs": [],
   "source": [
    "test_data2 = {\n",
    "    '2x3x4' : 34,\n",
    "    '1x1x10' : 14\n",
    "}"
   ]
  },
  {
   "cell_type": "code",
   "execution_count": 35,
   "metadata": {},
   "outputs": [
    {
     "name": "stdout",
     "output_type": "stream",
     "text": [
      "Woot! Passed test cases!\n"
     ]
    }
   ],
   "source": [
    "for k, v in test_data2.items():\n",
    "    assert calc_ribbon_needed(k) == v\n",
    "print('Woot! Passed test cases!')"
   ]
  },
  {
   "cell_type": "markdown",
   "metadata": {},
   "source": [
    "### Run on Input Data"
   ]
  },
  {
   "cell_type": "code",
   "execution_count": 37,
   "metadata": {},
   "outputs": [
    {
     "name": "stdout",
     "output_type": "stream",
     "text": [
      "3783758\n"
     ]
    }
   ],
   "source": [
    "total_ribbon_needed = 0\n",
    "for present in present_dimensions:\n",
    "    total_ribbon_needed += calc_ribbon_needed(present)\n",
    "\n",
    "print(total_ribbon_needed)"
   ]
  }
 ],
 "metadata": {
  "kernelspec": {
   "display_name": "Python 3.8.8 ('base')",
   "language": "python",
   "name": "python3"
  },
  "language_info": {
   "codemirror_mode": {
    "name": "ipython",
    "version": 3
   },
   "file_extension": ".py",
   "mimetype": "text/x-python",
   "name": "python",
   "nbconvert_exporter": "python",
   "pygments_lexer": "ipython3",
   "version": "3.8.8"
  },
  "vscode": {
   "interpreter": {
    "hash": "f49206fcf84a9145e7e21228cbafa911d1ac18292303b01e865d8267a9c448f7"
   }
  }
 },
 "nbformat": 4,
 "nbformat_minor": 4
}
