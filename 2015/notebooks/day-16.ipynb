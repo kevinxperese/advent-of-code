{
 "cells": [
  {
   "cell_type": "markdown",
   "metadata": {},
   "source": [
    "# --- Day 16: Aunt Sue ---\n",
    "\n",
    "https://adventofcode.com/2023/day/16"
   ]
  },
  {
   "cell_type": "markdown",
   "metadata": {},
   "source": [
    "## Parse the Input Data"
   ]
  },
  {
   "cell_type": "code",
   "execution_count": 2,
   "metadata": {},
   "outputs": [],
   "source": [
    "import re\n",
    "from collections import defaultdict"
   ]
  },
  {
   "cell_type": "code",
   "execution_count": 32,
   "metadata": {},
   "outputs": [],
   "source": [
    "def parse(filename):\n",
    "    \"\"\"Parse input data for puzzle.\n",
    "\n",
    "    Parameters\n",
    "    ----------\n",
    "    filename : str\n",
    "        The name of the *.txt file in the inputs/ directory.\n",
    "\n",
    "    Returns\n",
    "    -------\n",
    "\n",
    "    \"\"\"\n",
    "    sues = {}\n",
    "    with open(f'../inputs/{\"aunt_sues\"}.txt') as f:\n",
    "        for line in f.readlines():\n",
    "            match = re.search(r\"\\d+\", line)\n",
    "            sue_num = match.group()\n",
    "            num_end = match.end()\n",
    "            sues[sue_num] = {}\n",
    "\n",
    "            data = line[num_end + 1:].split(\",\")\n",
    "            for d in data:\n",
    "                char, value = d.split(\":\")\n",
    "                sues[sue_num][char[1:]] = int(value)\n",
    "\n",
    "    return sues\n"
   ]
  },
  {
   "cell_type": "markdown",
   "metadata": {},
   "source": [
    "## Part 1\n",
    "---"
   ]
  },
  {
   "cell_type": "code",
   "execution_count": 38,
   "metadata": {},
   "outputs": [],
   "source": [
    "data = {\n",
    "    'children': 3,\n",
    "    'cats': 7,\n",
    "    'samoyeds': 2,\n",
    "    'pomeranians': 3,\n",
    "    'akitas': 0,\n",
    "    'vizslas': 0,\n",
    "    'goldfish': 5,\n",
    "    'trees': 3,\n",
    "    'cars': 2,\n",
    "    'perfumes': 1,\n",
    "}"
   ]
  },
  {
   "cell_type": "code",
   "execution_count": 41,
   "metadata": {},
   "outputs": [],
   "source": [
    "def match_sue(sues, data):\n",
    "    for id, chars in sues.items():\n",
    "        match = True\n",
    "        for char, value in chars.items():\n",
    "            if data[char] != value:\n",
    "                match = False\n",
    "\n",
    "        if match:\n",
    "            return id\n"
   ]
  },
  {
   "cell_type": "markdown",
   "metadata": {},
   "source": [
    "### Run on Input Data"
   ]
  },
  {
   "cell_type": "code",
   "execution_count": 42,
   "metadata": {},
   "outputs": [
    {
     "data": {
      "text/plain": [
       "'40'"
      ]
     },
     "execution_count": 42,
     "metadata": {},
     "output_type": "execute_result"
    }
   ],
   "source": [
    "match_sue(parse('aunt_sues'), data)"
   ]
  },
  {
   "cell_type": "markdown",
   "metadata": {},
   "source": [
    "## Part 2\n",
    "---"
   ]
  },
  {
   "cell_type": "code",
   "execution_count": 47,
   "metadata": {},
   "outputs": [],
   "source": [
    "def match_sue_2(sues, data):\n",
    "    for id, chars in sues.items():\n",
    "        match = True\n",
    "        for char, value in chars.items():\n",
    "            if char in ['cats', 'trees']:\n",
    "                if data[char] >= value:\n",
    "                    match = False\n",
    "            elif char in ['pomeranians', 'goldfish']:\n",
    "                if data[char] <= value:\n",
    "                    match = False\n",
    "            else:\n",
    "                if data[char] != value:\n",
    "                    match = False\n",
    "\n",
    "        if match:\n",
    "            return id\n"
   ]
  },
  {
   "cell_type": "markdown",
   "metadata": {},
   "source": [
    "### Run on Input Data"
   ]
  },
  {
   "cell_type": "code",
   "execution_count": 48,
   "metadata": {},
   "outputs": [
    {
     "data": {
      "text/plain": [
       "'241'"
      ]
     },
     "execution_count": 48,
     "metadata": {},
     "output_type": "execute_result"
    }
   ],
   "source": [
    "match_sue_2(parse('aunt_sues'), data)"
   ]
  }
 ],
 "metadata": {
  "kernelspec": {
   "display_name": "advent-of-code",
   "language": "python",
   "name": "python3"
  },
  "language_info": {
   "codemirror_mode": {
    "name": "ipython",
    "version": 3
   },
   "file_extension": ".py",
   "mimetype": "text/x-python",
   "name": "python",
   "nbconvert_exporter": "python",
   "pygments_lexer": "ipython3",
   "version": "3.11.0"
  }
 },
 "nbformat": 4,
 "nbformat_minor": 4
}
