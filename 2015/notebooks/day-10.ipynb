{
 "cells": [
  {
   "cell_type": "markdown",
   "metadata": {},
   "source": [
    "# --- Day 10: Elves Look, Elves Say ---\n",
    "\n",
    "https://adventofcode.com/2015/day/10"
   ]
  },
  {
   "cell_type": "code",
   "execution_count": 1,
   "metadata": {},
   "outputs": [],
   "source": [
    "import re"
   ]
  },
  {
   "cell_type": "markdown",
   "metadata": {},
   "source": [
    "## Get Input Data"
   ]
  },
  {
   "cell_type": "code",
   "execution_count": 2,
   "metadata": {},
   "outputs": [],
   "source": [
    "first_sequence = '1113122113'"
   ]
  },
  {
   "cell_type": "markdown",
   "metadata": {},
   "source": [
    "## Part 1\n",
    "---"
   ]
  },
  {
   "cell_type": "code",
   "execution_count": 3,
   "metadata": {},
   "outputs": [],
   "source": [
    "def look_and_say(seq):\n",
    "    pattern = re.compile(r\"(\\d)\\1{0,}\")\n",
    "\n",
    "    next_seq = ''\n",
    "    for _find  in pattern.finditer(seq):\n",
    "        next_seq += str(len(_find.group())) + _find.group()[0]\n",
    "    \n",
    "    return next_seq"
   ]
  },
  {
   "cell_type": "markdown",
   "metadata": {},
   "source": [
    "### Run on Test Data"
   ]
  },
  {
   "cell_type": "code",
   "execution_count": 4,
   "metadata": {},
   "outputs": [],
   "source": [
    "test_data = {\n",
    "    '1' : '11',\n",
    "    '11' : '21',\n",
    "    '21' : '1211',\n",
    "    '1211' : '111221',\n",
    "    '111221' : '312211'\n",
    "}"
   ]
  },
  {
   "cell_type": "code",
   "execution_count": 5,
   "metadata": {},
   "outputs": [
    {
     "name": "stdout",
     "output_type": "stream",
     "text": [
      "Woot! Passed test cases!\n"
     ]
    }
   ],
   "source": [
    "for k, v in test_data.items():\n",
    "    assert look_and_say(k) == v\n",
    "print('Woot! Passed test cases!')"
   ]
  },
  {
   "cell_type": "markdown",
   "metadata": {},
   "source": [
    "### Run on Input Data"
   ]
  },
  {
   "cell_type": "code",
   "execution_count": 6,
   "metadata": {},
   "outputs": [
    {
     "name": "stdout",
     "output_type": "stream",
     "text": [
      "360154\n"
     ]
    }
   ],
   "source": [
    "first_sequence = '1113122113'\n",
    "for _ in range(40):\n",
    "    seq = look_and_say(first_sequence)\n",
    "    first_sequence = seq\n",
    "\n",
    "print(len(first_sequence))"
   ]
  },
  {
   "cell_type": "markdown",
   "metadata": {},
   "source": [
    "## Part 2\n",
    "---"
   ]
  },
  {
   "cell_type": "code",
   "execution_count": 7,
   "metadata": {},
   "outputs": [
    {
     "name": "stdout",
     "output_type": "stream",
     "text": [
      "5103798\n"
     ]
    }
   ],
   "source": [
    "first_sequence = '1113122113'\n",
    "for _ in range(50):\n",
    "    seq = look_and_say(first_sequence)\n",
    "    first_sequence = seq\n",
    "\n",
    "print(len(first_sequence))"
   ]
  }
 ],
 "metadata": {
  "kernelspec": {
   "display_name": "Python 3.8.8 ('base')",
   "language": "python",
   "name": "python3"
  },
  "language_info": {
   "codemirror_mode": {
    "name": "ipython",
    "version": 3
   },
   "file_extension": ".py",
   "mimetype": "text/x-python",
   "name": "python",
   "nbconvert_exporter": "python",
   "pygments_lexer": "ipython3",
   "version": "3.8.8"
  },
  "vscode": {
   "interpreter": {
    "hash": "f49206fcf84a9145e7e21228cbafa911d1ac18292303b01e865d8267a9c448f7"
   }
  }
 },
 "nbformat": 4,
 "nbformat_minor": 4
}
