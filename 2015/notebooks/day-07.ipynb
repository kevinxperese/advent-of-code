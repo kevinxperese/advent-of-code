{
 "cells": [
  {
   "cell_type": "markdown",
   "metadata": {},
   "source": [
    "# --- Day 7: Some Assembly Required ---\n",
    "\n",
    "https://adventofcode.com/2015/day/7"
   ]
  },
  {
   "cell_type": "markdown",
   "metadata": {},
   "source": [
    "## Get Input Data"
   ]
  },
  {
   "cell_type": "code",
   "execution_count": 1,
   "metadata": {},
   "outputs": [
    {
     "data": {
      "text/plain": [
       "[('dr', ['NOT', 'dq']),\n",
       " ('kh', ['kg', 'OR', 'kf']),\n",
       " ('eq', ['ep', 'OR', 'eo']),\n",
       " ('b', ['44430']),\n",
       " ('gt', ['NOT', 'gs']),\n",
       " ('dp', ['dd', 'OR', 'do']),\n",
       " ('ej', ['eg', 'AND', 'ei']),\n",
       " ('ag', ['y', 'AND', 'ae']),\n",
       " ('ka', ['jx', 'AND', 'jz']),\n",
       " ('lg', ['lf', 'RSHIFT', '2']),\n",
       " ('ac', ['z', 'AND', 'aa']),\n",
       " ('el', ['dy', 'AND', 'ej']),\n",
       " ('bk', ['bj', 'OR', 'bi']),\n",
       " ('km', ['kk', 'RSHIFT', '3']),\n",
       " ('co', ['NOT', 'cn'])]"
      ]
     },
     "execution_count": 1,
     "metadata": {},
     "output_type": "execute_result"
    }
   ],
   "source": [
    "wire_instructions = {}\n",
    "with open('../inputs/wire_instructions.txt') as f:\n",
    "    for line in f:\n",
    "        _input, _output = line.rstrip().split(' -> ')\n",
    "        wire_instructions[_output] = _input.split()\n",
    "\n",
    "# Check out the first 15 items in the wire_instructions dictionary\n",
    "list(wire_instructions.items())[:15]"
   ]
  },
  {
   "cell_type": "markdown",
   "metadata": {},
   "source": [
    "## Part 1\n",
    "---"
   ]
  },
  {
   "cell_type": "markdown",
   "metadata": {},
   "source": [
    "What a hot mess this one was for me..."
   ]
  },
  {
   "cell_type": "code",
   "execution_count": 2,
   "metadata": {},
   "outputs": [],
   "source": [
    "def emulate(wire, wire_instructions, solved_circut):\n",
    "\n",
    "    if wire.isdigit():\n",
    "        return int(wire)\n",
    "\n",
    "    if wire not in solved_circut:\n",
    "\n",
    "        if len(wire_instructions[wire]) == 1:\n",
    "            # E.g., lx -> a\n",
    "            solved_circut[wire] = emulate(wire_instructions[wire][0], wire_instructions, solved_circut)\n",
    "\n",
    "        elif len(wire_instructions[wire]) == 2:\n",
    "            # E.g., NOT h -> i  (Is always a 'NOT' op)\n",
    "            op = wire_instructions[wire][0]\n",
    "            right = wire_instructions[wire][1]\n",
    "            if op == 'NOT':\n",
    "                solved_circut[wire] = ~ emulate(right, wire_instructions, solved_circut) & 65535\n",
    "\n",
    "        elif len(wire_instructions[wire]) == 3:\n",
    "            left = wire_instructions[wire][0]\n",
    "            op = wire_instructions[wire][1]\n",
    "            right = wire_instructions[wire][2]\n",
    "\n",
    "            if op == 'AND':\n",
    "                solved_circut[wire] = emulate(left, wire_instructions, solved_circut) & emulate(right, wire_instructions, solved_circut)\n",
    "            elif op == 'OR':\n",
    "                solved_circut[wire] = emulate(left, wire_instructions, solved_circut) | emulate(right, wire_instructions, solved_circut)\n",
    "            elif op == 'LSHIFT':\n",
    "                solved_circut[wire] = emulate(left, wire_instructions, solved_circut) << emulate(right, wire_instructions, solved_circut) & 65535\n",
    "            elif op == 'RSHIFT':\n",
    "                solved_circut[wire] = emulate(left, wire_instructions, solved_circut) >> emulate(right, wire_instructions, solved_circut)\n",
    "    \n",
    "    return solved_circut[wire]"
   ]
  },
  {
   "cell_type": "markdown",
   "metadata": {},
   "source": [
    "This is the solution I largely based mine off of:"
   ]
  },
  {
   "cell_type": "code",
   "execution_count": 3,
   "metadata": {},
   "outputs": [
    {
     "name": "stdout",
     "output_type": "stream",
     "text": [
      "3176\n"
     ]
    }
   ],
   "source": [
    "solved = {}\n",
    "\n",
    "def solve(node):\n",
    "\n",
    "    if node.isnumeric():\n",
    "        return int(node)\n",
    "\n",
    "    if node not in solved:\n",
    "\n",
    "        ops = wire_instructions[node] # wires[node]\n",
    "\n",
    "        if len(ops) == 1:\n",
    "            n = solve(ops[0])\n",
    "\n",
    "        else:\n",
    "            op = ops[-2]\n",
    "            if op == 'AND':\n",
    "              n = solve(ops[0]) & solve(ops[2])\n",
    "            elif op == 'OR':\n",
    "              n = solve(ops[0]) | solve(ops[2])\n",
    "            elif op == 'NOT':\n",
    "              n = ~solve(ops[1]) & 65535\n",
    "            elif op == 'RSHIFT':\n",
    "              n = solve(ops[0]) >> solve(ops[2])\n",
    "            else: #    'LSHIFT':\n",
    "              n = solve(ops[0]) << solve(ops[2]) & 65535\n",
    "\n",
    "        solved[node] = n\n",
    "\n",
    "    return solved[node]\n",
    "\n",
    "#Part 1\n",
    "part1_solution = solve('a')\n",
    "print(part1_solution)"
   ]
  },
  {
   "cell_type": "markdown",
   "metadata": {},
   "source": [
    "Source: https://dev.to/jules_lewis/advent-of-code-2015-day-7-35mp "
   ]
  },
  {
   "cell_type": "markdown",
   "metadata": {},
   "source": [
    "And this was my attempt before going recursive...."
   ]
  },
  {
   "cell_type": "code",
   "execution_count": 4,
   "metadata": {},
   "outputs": [],
   "source": [
    "# Continue until all instructions have been processed\n",
    "# processed = []\n",
    "# while len(instructions) != len(processed):\n",
    "    \n",
    "#     # loop backwards through instructions so I can remove items from list as it's being processed.\n",
    "#     for instruction in instructions:\n",
    "#         if instruction not in processed:\n",
    "    \n",
    "#             # print(len(processed), instruction)\n",
    "#             _input, _output = instruction.strip().split(' -> ')\n",
    "\n",
    "#             if _input.isdigit():\n",
    "#                 circut[_output] = int(_input)\n",
    "#                 processed.append(instruction)\n",
    "#             else:\n",
    "#                 _input = _input.split(' ')\n",
    "\n",
    "#             if len(_input) == 3:\n",
    "#                 left = int(_input[0]) if _input[0].isdigit() else _input[0]\n",
    "#                 op = _input[1]\n",
    "#                 right = int(_input[2]) if _input[2].isdigit() else _input[2]\n",
    "\n",
    "#                 if isinstance(left, int):\n",
    "#                     if op == 'AND' and circut[right] != None:\n",
    "#                         circut[_output] = left & circut[right]\n",
    "#                         processed.append(instruction)\n",
    "\n",
    "#                 else:\n",
    "#                     if op == 'AND' and circut[left] != None and circut[right] != None:\n",
    "#                         circut[_output] = circut[left] & circut[right]\n",
    "#                     elif op == 'OR' and circut[left] != None and circut[right] != None:\n",
    "#                         circut[_output] = circut[left] | circut[right]\n",
    "#                     elif op == 'LSHIFT' and circut[left] != None:\n",
    "#                         circut[_output] = circut[left] << right\n",
    "#                     elif op == 'RSHIFT' and circut[left] != None:\n",
    "#                         circut[_output] = circut[left] >> right\n",
    "\n",
    "#                     processed.append(instruction)\n",
    "\n",
    "#             elif len(_input) == 2:\n",
    "#                 # print(instruction, _input[0], _input[1], circut[_input[1]])\n",
    "#                 if _input[0] == 'NOT' and circut[_input[1]] != None:\n",
    "#                     circut[_output] = ~ circut[_input[1]]\n",
    "#                     processed.append(instruction)\n"
   ]
  },
  {
   "cell_type": "markdown",
   "metadata": {},
   "source": [
    "### Run on Test Data"
   ]
  },
  {
   "cell_type": "code",
   "execution_count": 5,
   "metadata": {},
   "outputs": [],
   "source": [
    "test_data = [\n",
    "    '123 -> x',\n",
    "    '456 -> y',\n",
    "    'x AND y -> d',\n",
    "    'x OR y -> e',\n",
    "    'x LSHIFT 2 -> f',\n",
    "    'y RSHIFT 2 -> g',\n",
    "    'NOT x -> h',\n",
    "    'NOT y -> i'\n",
    "]"
   ]
  },
  {
   "cell_type": "code",
   "execution_count": 6,
   "metadata": {},
   "outputs": [],
   "source": [
    "test_instructions = {}\n",
    "for d in test_data:\n",
    "    _input, _output = d.rstrip().split(' -> ')\n",
    "    test_instructions[_output] = _input.split()"
   ]
  },
  {
   "cell_type": "code",
   "execution_count": 7,
   "metadata": {},
   "outputs": [
    {
     "data": {
      "text/plain": [
       "{'x': ['123'],\n",
       " 'y': ['456'],\n",
       " 'd': ['x', 'AND', 'y'],\n",
       " 'e': ['x', 'OR', 'y'],\n",
       " 'f': ['x', 'LSHIFT', '2'],\n",
       " 'g': ['y', 'RSHIFT', '2'],\n",
       " 'h': ['NOT', 'x'],\n",
       " 'i': ['NOT', 'y']}"
      ]
     },
     "execution_count": 7,
     "metadata": {},
     "output_type": "execute_result"
    }
   ],
   "source": [
    "test_instructions"
   ]
  },
  {
   "cell_type": "code",
   "execution_count": 8,
   "metadata": {},
   "outputs": [
    {
     "name": "stdout",
     "output_type": "stream",
     "text": [
      "Woot! Passed test cases.\n"
     ]
    }
   ],
   "source": [
    "if (emulate('x', test_instructions, {}) == 123 and\n",
    "    emulate('y', test_instructions, {}) == 456 and\n",
    "    emulate('d', test_instructions, {}) == 72 and\n",
    "    emulate('e', test_instructions, {}) == 507 and\n",
    "    emulate('f', test_instructions, {}) == 492 and\n",
    "    emulate('g', test_instructions, {}) == 114 and\n",
    "    emulate('h', test_instructions, {}) == 65412 and\n",
    "    emulate('i', test_instructions, {}) == 65079):\n",
    "    print('Woot! Passed test cases.')\n",
    "else:\n",
    "    print('Uh oh!')"
   ]
  },
  {
   "cell_type": "markdown",
   "metadata": {},
   "source": [
    "### Run on Input Data"
   ]
  },
  {
   "cell_type": "code",
   "execution_count": 9,
   "metadata": {},
   "outputs": [
    {
     "data": {
      "text/plain": [
       "3176"
      ]
     },
     "execution_count": 9,
     "metadata": {},
     "output_type": "execute_result"
    }
   ],
   "source": [
    "emulate('a', wire_instructions, {})"
   ]
  },
  {
   "cell_type": "markdown",
   "metadata": {},
   "source": [
    "## Part 2\n",
    "---"
   ]
  },
  {
   "cell_type": "code",
   "execution_count": 10,
   "metadata": {},
   "outputs": [
    {
     "data": {
      "text/plain": [
       "14710"
      ]
     },
     "execution_count": 10,
     "metadata": {},
     "output_type": "execute_result"
    }
   ],
   "source": [
    "part_2_wire_instructions = wire_instructions.copy()\n",
    "part_2_wire_instructions['b'] = ['3176']\n",
    "\n",
    "emulate('a', part_2_wire_instructions, {})"
   ]
  }
 ],
 "metadata": {
  "kernelspec": {
   "display_name": "Python 3.8.8 ('base')",
   "language": "python",
   "name": "python3"
  },
  "language_info": {
   "codemirror_mode": {
    "name": "ipython",
    "version": 3
   },
   "file_extension": ".py",
   "mimetype": "text/x-python",
   "name": "python",
   "nbconvert_exporter": "python",
   "pygments_lexer": "ipython3",
   "version": "3.8.8"
  },
  "vscode": {
   "interpreter": {
    "hash": "f49206fcf84a9145e7e21228cbafa911d1ac18292303b01e865d8267a9c448f7"
   }
  }
 },
 "nbformat": 4,
 "nbformat_minor": 4
}
