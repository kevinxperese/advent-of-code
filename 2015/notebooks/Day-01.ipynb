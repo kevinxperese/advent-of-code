{
 "cells": [
  {
   "cell_type": "markdown",
   "metadata": {},
   "source": [
    "# --- Day 1: Not Quite Lisp --- \n",
    "\n",
    "https://adventofcode.com/2015/day/1"
   ]
  },
  {
   "cell_type": "markdown",
   "metadata": {},
   "source": [
    "## Part 1\n",
    "---"
   ]
  },
  {
   "cell_type": "markdown",
   "metadata": {},
   "source": [
    "### Get data"
   ]
  },
  {
   "cell_type": "code",
   "execution_count": 2,
   "metadata": {},
   "outputs": [],
   "source": [
    "with open('../inputs/floor_instructions.txt') as f:\n",
    "    instructions = f.readline()"
   ]
  },
  {
   "cell_type": "code",
   "execution_count": 3,
   "metadata": {},
   "outputs": [],
   "source": [
    "test_data = {\n",
    "    '(())' : 0,\n",
    "    '()()' : 0,\n",
    "    '(((' : 3,\n",
    "    '(()(()(' : 3,\n",
    "    '))(((((' : 3,\n",
    "    '())' : -1,\n",
    "    '))(' : -1,\n",
    "    ')))' : -3,\n",
    "    ')())())' : -3\n",
    "}"
   ]
  },
  {
   "cell_type": "code",
   "execution_count": 4,
   "metadata": {},
   "outputs": [],
   "source": [
    "def change_floors(instructions):\n",
    "    floor = 0\n",
    "    floor_change = {'(': 1, ')': -1}\n",
    "\n",
    "    for bracket in instructions:\n",
    "        floor += floor_change[bracket]\n",
    "\n",
    "    return floor"
   ]
  },
  {
   "cell_type": "markdown",
   "metadata": {},
   "source": [
    "### Run on test data"
   ]
  },
  {
   "cell_type": "code",
   "execution_count": 16,
   "metadata": {},
   "outputs": [
    {
     "name": "stdout",
     "output_type": "stream",
     "text": [
      "Woot! Passed test cases!\n"
     ]
    }
   ],
   "source": [
    "for k, v in test_data.items():\n",
    "    assert change_floors(k) == v\n",
    "print('Woot! Passed test cases!')"
   ]
  },
  {
   "cell_type": "markdown",
   "metadata": {},
   "source": [
    "### Run on input data"
   ]
  },
  {
   "cell_type": "code",
   "execution_count": 6,
   "metadata": {},
   "outputs": [
    {
     "data": {
      "text/plain": [
       "280"
      ]
     },
     "execution_count": 6,
     "metadata": {},
     "output_type": "execute_result"
    }
   ],
   "source": [
    "change_floors(instructions)"
   ]
  },
  {
   "cell_type": "markdown",
   "metadata": {},
   "source": [
    "## Part 2\n",
    "---"
   ]
  },
  {
   "cell_type": "code",
   "execution_count": 7,
   "metadata": {},
   "outputs": [],
   "source": [
    "test_data2 = {\n",
    "    ')' : 1,\n",
    "    '()())' : 5\n",
    "}"
   ]
  },
  {
   "cell_type": "code",
   "execution_count": 8,
   "metadata": {},
   "outputs": [],
   "source": [
    "def get_to_basement(instructions):\n",
    "    \"\"\"Calculate when (which position in the instructions) gets you negative (in the basement).\"\"\"\n",
    "\n",
    "    floor = 0\n",
    "    floor_change = {'(': 1, ')': -1}\n",
    "    position = 0\n",
    "\n",
    "    for bracket in instructions:\n",
    "        floor += floor_change[bracket]\n",
    "        position += 1\n",
    "        if floor < 0:\n",
    "            break\n",
    "\n",
    "    return position"
   ]
  },
  {
   "cell_type": "markdown",
   "metadata": {},
   "source": [
    "### Run on test data"
   ]
  },
  {
   "cell_type": "code",
   "execution_count": 15,
   "metadata": {},
   "outputs": [
    {
     "name": "stdout",
     "output_type": "stream",
     "text": [
      "Woot! Passed test cases!\n"
     ]
    }
   ],
   "source": [
    "for k, v in test_data2.items():\n",
    "    assert get_to_basement(k) == v\n",
    "print('Woot! Passed test cases!')"
   ]
  },
  {
   "cell_type": "markdown",
   "metadata": {},
   "source": [
    "### Run on input data"
   ]
  },
  {
   "cell_type": "code",
   "execution_count": 11,
   "metadata": {},
   "outputs": [
    {
     "data": {
      "text/plain": [
       "1797"
      ]
     },
     "execution_count": 11,
     "metadata": {},
     "output_type": "execute_result"
    }
   ],
   "source": [
    "get_to_basement(instructions)"
   ]
  }
 ],
 "metadata": {
  "kernelspec": {
   "display_name": "Python 3.8.8 ('base')",
   "language": "python",
   "name": "python3"
  },
  "language_info": {
   "codemirror_mode": {
    "name": "ipython",
    "version": 3
   },
   "file_extension": ".py",
   "mimetype": "text/x-python",
   "name": "python",
   "nbconvert_exporter": "python",
   "pygments_lexer": "ipython3",
   "version": "3.8.8"
  },
  "vscode": {
   "interpreter": {
    "hash": "f49206fcf84a9145e7e21228cbafa911d1ac18292303b01e865d8267a9c448f7"
   }
  }
 },
 "nbformat": 4,
 "nbformat_minor": 4
}
