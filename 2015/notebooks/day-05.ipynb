{
 "cells": [
  {
   "cell_type": "markdown",
   "metadata": {},
   "source": [
    "# --- Day 5: Doesn't He Have Intern-Elves For This  --- \n",
    "\n",
    "https://adventofcode.com/2015/day/5"
   ]
  },
  {
   "cell_type": "code",
   "execution_count": 1,
   "metadata": {},
   "outputs": [],
   "source": [
    "import re"
   ]
  },
  {
   "cell_type": "markdown",
   "metadata": {},
   "source": [
    "## Get Input Data"
   ]
  },
  {
   "cell_type": "code",
   "execution_count": 2,
   "metadata": {},
   "outputs": [
    {
     "data": {
      "text/plain": [
       "['rthkunfaakmwmush',\n",
       " 'qxlnvjguikqcyfzt',\n",
       " 'sleaoasjspnjctqt',\n",
       " 'lactpmehuhmzwfjl',\n",
       " 'bvggvrdgjcspkkyj']"
      ]
     },
     "execution_count": 2,
     "metadata": {},
     "output_type": "execute_result"
    }
   ],
   "source": [
    "naughty_nice_list = []\n",
    "with open('../inputs/naughty_nice_list.txt') as f:\n",
    "    for line in f:\n",
    "        naughty_nice_list.append(line.strip())\n",
    "\n",
    "naughty_nice_list[:5]"
   ]
  },
  {
   "cell_type": "markdown",
   "metadata": {},
   "source": [
    "## Part 1\n",
    "---"
   ]
  },
  {
   "cell_type": "code",
   "execution_count": 3,
   "metadata": {},
   "outputs": [],
   "source": [
    "def _has_three_vowels(string):\n",
    "    pattern = re.compile('[aeiou]')\n",
    "    return len(pattern.findall(string)) >= 3"
   ]
  },
  {
   "cell_type": "code",
   "execution_count": 4,
   "metadata": {},
   "outputs": [
    {
     "name": "stdout",
     "output_type": "stream",
     "text": [
      "True\n",
      "True\n",
      "True\n"
     ]
    }
   ],
   "source": [
    "print(_has_three_vowels('aei'))\n",
    "print(_has_three_vowels('xazegov'))\n",
    "print(_has_three_vowels('aeiouaeiouaeiou'))"
   ]
  },
  {
   "cell_type": "code",
   "execution_count": 5,
   "metadata": {},
   "outputs": [],
   "source": [
    "def _has_doubles(string):\n",
    "    pattern = re.compile(r\"(.)\\1\")\n",
    "    return bool(pattern.search(string))"
   ]
  },
  {
   "cell_type": "code",
   "execution_count": 6,
   "metadata": {},
   "outputs": [
    {
     "name": "stdout",
     "output_type": "stream",
     "text": [
      "True\n",
      "True\n",
      "True\n"
     ]
    }
   ],
   "source": [
    "print(_has_doubles('xx'))\n",
    "print(_has_doubles('abcdde'))\n",
    "print(_has_doubles('aabbccdd'))"
   ]
  },
  {
   "cell_type": "code",
   "execution_count": 7,
   "metadata": {},
   "outputs": [],
   "source": [
    "def _has_no_excluded_pairs(string):\n",
    "    pattern = re.compile(r\"ab|cd|pq|xy\")\n",
    "    return not bool(pattern.search(string))"
   ]
  },
  {
   "cell_type": "code",
   "execution_count": 8,
   "metadata": {},
   "outputs": [],
   "source": [
    "def is_nice(string):\n",
    "    return _has_three_vowels(string) and _has_doubles(string) and _has_no_excluded_pairs(string)"
   ]
  },
  {
   "cell_type": "markdown",
   "metadata": {},
   "source": [
    "### Run on Test Data"
   ]
  },
  {
   "cell_type": "code",
   "execution_count": 9,
   "metadata": {},
   "outputs": [],
   "source": [
    "test_data = {\n",
    "    'ugknbfddgicrmopn' : True,\n",
    "    'aaa' : True,\n",
    "    'jchzalrnumimnmhp' : False,\n",
    "    'haegwjzuvuyypxyu' : False, \n",
    "    'dvszwmarrgswjxmb' : False\n",
    "}"
   ]
  },
  {
   "cell_type": "code",
   "execution_count": 10,
   "metadata": {},
   "outputs": [
    {
     "name": "stdout",
     "output_type": "stream",
     "text": [
      "Woot! Passed test cases!\n"
     ]
    }
   ],
   "source": [
    "for k, v in test_data.items():\n",
    "    assert is_nice(k) == v\n",
    "print('Woot! Passed test cases!')"
   ]
  },
  {
   "cell_type": "markdown",
   "metadata": {},
   "source": [
    "### Run on Input Data"
   ]
  },
  {
   "cell_type": "code",
   "execution_count": 11,
   "metadata": {},
   "outputs": [
    {
     "name": "stdout",
     "output_type": "stream",
     "text": [
      "258\n"
     ]
    }
   ],
   "source": [
    "nice_count = 0\n",
    "for string in naughty_nice_list:\n",
    "    nice_count += is_nice(string)\n",
    "print(nice_count)"
   ]
  },
  {
   "cell_type": "markdown",
   "metadata": {},
   "source": [
    "## Part 2\n",
    "---"
   ]
  },
  {
   "cell_type": "code",
   "execution_count": 12,
   "metadata": {},
   "outputs": [],
   "source": [
    "def _has_nonoverlapping_pair(string):\n",
    "    pattern = re.compile(r\"(\\w\\w).*\\1\")\n",
    "    return bool(pattern.search(string))"
   ]
  },
  {
   "cell_type": "code",
   "execution_count": 13,
   "metadata": {},
   "outputs": [
    {
     "name": "stdout",
     "output_type": "stream",
     "text": [
      "True\n",
      "True\n",
      "True\n"
     ]
    }
   ],
   "source": [
    "print(_has_nonoverlapping_pair('xyxy'))\n",
    "print(_has_nonoverlapping_pair('aabcdefgaa'))\n",
    "print(not _has_nonoverlapping_pair('aaa'))"
   ]
  },
  {
   "cell_type": "code",
   "execution_count": 14,
   "metadata": {},
   "outputs": [],
   "source": [
    "def _has_one_letter_between(string):\n",
    "    pattern = re.compile(r\"(\\w)(\\w{1})\\1\")\n",
    "    return bool(pattern.search(string))"
   ]
  },
  {
   "cell_type": "code",
   "execution_count": 15,
   "metadata": {},
   "outputs": [
    {
     "name": "stdout",
     "output_type": "stream",
     "text": [
      "True\n",
      "True\n",
      "True\n"
     ]
    }
   ],
   "source": [
    "print(_has_one_letter_between('xyx'))\n",
    "print(_has_one_letter_between('abcdefeghi'))\n",
    "print(_has_one_letter_between('aaa'))"
   ]
  },
  {
   "cell_type": "code",
   "execution_count": 16,
   "metadata": {},
   "outputs": [],
   "source": [
    "def is_nice2(string):\n",
    "    return _has_nonoverlapping_pair(string) and _has_one_letter_between(string)"
   ]
  },
  {
   "cell_type": "markdown",
   "metadata": {},
   "source": [
    "### Run on Test Data"
   ]
  },
  {
   "cell_type": "code",
   "execution_count": 17,
   "metadata": {},
   "outputs": [],
   "source": [
    "test_data = {\n",
    "    'qjhvhtzxzqqjkmpb' : True,\n",
    "    'xxyxx' : True,\n",
    "    'uurcxstgmygtbstg' : False,\n",
    "    'ieodomkazucvgmuy' : False\n",
    "}"
   ]
  },
  {
   "cell_type": "code",
   "execution_count": 18,
   "metadata": {},
   "outputs": [
    {
     "name": "stdout",
     "output_type": "stream",
     "text": [
      "Woot! Passed test cases!\n"
     ]
    }
   ],
   "source": [
    "for k, v in test_data.items():\n",
    "    assert is_nice2(k) == v\n",
    "print('Woot! Passed test cases!')"
   ]
  },
  {
   "cell_type": "markdown",
   "metadata": {},
   "source": [
    "### Run on Input Data"
   ]
  },
  {
   "cell_type": "code",
   "execution_count": 19,
   "metadata": {},
   "outputs": [
    {
     "name": "stdout",
     "output_type": "stream",
     "text": [
      "53\n"
     ]
    }
   ],
   "source": [
    "nice_count = 0\n",
    "for string in naughty_nice_list:\n",
    "    nice_count += is_nice2(string)\n",
    "print(nice_count)"
   ]
  }
 ],
 "metadata": {
  "kernelspec": {
   "display_name": "Python 3.8.8 ('base')",
   "language": "python",
   "name": "python3"
  },
  "language_info": {
   "codemirror_mode": {
    "name": "ipython",
    "version": 3
   },
   "file_extension": ".py",
   "mimetype": "text/x-python",
   "name": "python",
   "nbconvert_exporter": "python",
   "pygments_lexer": "ipython3",
   "version": "3.8.8"
  },
  "vscode": {
   "interpreter": {
    "hash": "f49206fcf84a9145e7e21228cbafa911d1ac18292303b01e865d8267a9c448f7"
   }
  }
 },
 "nbformat": 4,
 "nbformat_minor": 4
}
