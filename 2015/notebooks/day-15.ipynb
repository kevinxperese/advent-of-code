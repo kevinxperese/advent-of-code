{
 "cells": [
  {
   "cell_type": "markdown",
   "metadata": {},
   "source": [
    "# --- Day 15: Science for Hungry People ---\n",
    "\n",
    "https://adventofcode.com/2015/day/15"
   ]
  },
  {
   "cell_type": "markdown",
   "metadata": {},
   "source": [
    "## Parse the Input Data"
   ]
  },
  {
   "cell_type": "code",
   "execution_count": 22,
   "metadata": {},
   "outputs": [],
   "source": [
    "import itertools\n",
    "import re\n",
    "import numpy as np"
   ]
  },
  {
   "cell_type": "code",
   "execution_count": 23,
   "metadata": {},
   "outputs": [],
   "source": [
    "def parse(filename):\n",
    "    \"\"\"Parse input data for puzzle.\n",
    "\n",
    "    Parameters\n",
    "    ----------\n",
    "    filename : str\n",
    "        The name of the *.txt file in the inputs/ directory.\n",
    "\n",
    "    Returns\n",
    "    -------\n",
    "    ingredients : dict\n",
    "    \"\"\"\n",
    "    ingredients = {}\n",
    "\n",
    "    with open(f'../inputs/{filename}.txt') as f:\n",
    "        for line in f.readlines():\n",
    "            ingredient = line[:line.find(\":\")]\n",
    "            data = [int(d) for d in re.findall(r\"-?\\d\", line)]\n",
    "            ingredients[ingredient] = data\n",
    "\n",
    "    return ingredients"
   ]
  },
  {
   "cell_type": "code",
   "execution_count": 24,
   "metadata": {},
   "outputs": [
    {
     "data": {
      "text/plain": [
       "{'Butterscotch': [-1, -2, 6, 3, 8], 'Cinnamon': [2, 3, -2, -1, 3]}"
      ]
     },
     "execution_count": 24,
     "metadata": {},
     "output_type": "execute_result"
    }
   ],
   "source": [
    "parse('test_ingredients')"
   ]
  },
  {
   "cell_type": "markdown",
   "metadata": {},
   "source": [
    "## Part 1\n",
    "---"
   ]
  },
  {
   "cell_type": "code",
   "execution_count": null,
   "metadata": {},
   "outputs": [],
   "source": [
    "def objective(X, b):\n",
    "    \"\"\"The objective function to be maximized.\"\"\"\n",
    "    b = np.array(b)\n",
    "    intermed_scores = X @ b.T\n",
    "    intermed_scores = [max(0, s) for s in intermed_scores]  # don't allow neg. intermediate scores\n",
    "    return np.prod(intermed_scores)"
   ]
  },
  {
   "cell_type": "code",
   "execution_count": 30,
   "metadata": {},
   "outputs": [],
   "source": [
    "def find_max_score(ingredients):\n",
    "    max_score = 0\n",
    "    constraint = 100\n",
    "    num_ingred = len(ingredients)\n",
    "\n",
    "    # Remove last data element for each ingredient (calories not used in Part 1)\n",
    "    for ingred, data in ingredients.items():\n",
    "        ingredients[ingred] = np.array(data[:-1])\n",
    "\n",
    "    ingred_matrix = np.column_stack(list(ingredients.values()))\n",
    "\n",
    "    prod = itertools.product(*[range(constraint + 1)] * num_ingred)\n",
    "    good = [p for p in prod if sum(p) == constraint]\n",
    "\n",
    "    for g in good:\n",
    "        max_score = max(max_score, objective(ingred_matrix, g))\n",
    "\n",
    "    return max_score"
   ]
  },
  {
   "cell_type": "markdown",
   "metadata": {},
   "source": [
    "### Run on Test Data"
   ]
  },
  {
   "cell_type": "code",
   "execution_count": 31,
   "metadata": {},
   "outputs": [
    {
     "data": {
      "text/plain": [
       "62842880"
      ]
     },
     "execution_count": 31,
     "metadata": {},
     "output_type": "execute_result"
    }
   ],
   "source": [
    "find_max_score(parse('test_ingredients'))  # should equal 62842880"
   ]
  },
  {
   "cell_type": "markdown",
   "metadata": {},
   "source": [
    "### Run on Input Data"
   ]
  },
  {
   "cell_type": "code",
   "execution_count": 32,
   "metadata": {},
   "outputs": [
    {
     "data": {
      "text/plain": [
       "18965440"
      ]
     },
     "execution_count": 32,
     "metadata": {},
     "output_type": "execute_result"
    }
   ],
   "source": [
    "find_max_score(parse('ingredients'))"
   ]
  },
  {
   "cell_type": "markdown",
   "metadata": {},
   "source": [
    "## Part 2\n",
    "---"
   ]
  },
  {
   "cell_type": "code",
   "execution_count": 38,
   "metadata": {},
   "outputs": [],
   "source": [
    "def objective_2(ingredients, b, calorie_constraint):\n",
    "    \"\"\"The objective function to be maximized.\"\"\"\n",
    "    b = np.array(b)\n",
    "\n",
    "    # Remove last data element for each ingredient (calories not used in Part 1)\n",
    "    new_data = []\n",
    "    calories = []\n",
    "    for ingred, data in ingredients.items():\n",
    "        new_data.append(np.array(data[:-1]))\n",
    "        calories.append(data[-1])\n",
    "\n",
    "    if np.dot(np.array(calories), b) != calorie_constraint:\n",
    "        return 0\n",
    "    else:\n",
    "        ingred_matrix = np.column_stack(new_data)\n",
    "\n",
    "        intermed_scores = ingred_matrix @ b.T\n",
    "        intermed_scores = [max(0, s) for s in intermed_scores]  # don't allow neg. intermediate scores\n",
    "\n",
    "        return np.prod(intermed_scores)"
   ]
  },
  {
   "cell_type": "code",
   "execution_count": 39,
   "metadata": {},
   "outputs": [],
   "source": [
    "def find_max_score_2(ingredients):\n",
    "    max_score = 0\n",
    "    constraint_1 = 100\n",
    "    constraint_2 = 500\n",
    "    num_ingred = len(ingredients)\n",
    "\n",
    "    prod = itertools.product(*[range(constraint_1 + 1)] * num_ingred)\n",
    "    good = [p for p in prod if sum(p) == constraint_1]\n",
    "\n",
    "    for g in good:\n",
    "        max_score = max(max_score, objective_2(ingredients, g, constraint_2))\n",
    "\n",
    "    return max_score"
   ]
  },
  {
   "cell_type": "markdown",
   "metadata": {},
   "source": [
    "### Run on Test Data"
   ]
  },
  {
   "cell_type": "code",
   "execution_count": 40,
   "metadata": {},
   "outputs": [
    {
     "data": {
      "text/plain": [
       "57600000"
      ]
     },
     "execution_count": 40,
     "metadata": {},
     "output_type": "execute_result"
    }
   ],
   "source": [
    "find_max_score_2(parse('test_ingredients'))  # should equal 57600000"
   ]
  },
  {
   "cell_type": "markdown",
   "metadata": {},
   "source": [
    "### Run on Input Data"
   ]
  },
  {
   "cell_type": "code",
   "execution_count": 41,
   "metadata": {},
   "outputs": [
    {
     "data": {
      "text/plain": [
       "15862900"
      ]
     },
     "execution_count": 41,
     "metadata": {},
     "output_type": "execute_result"
    }
   ],
   "source": [
    "find_max_score_2(parse('ingredients'))"
   ]
  }
 ],
 "metadata": {
  "kernelspec": {
   "display_name": "advent-of-code",
   "language": "python",
   "name": "python3"
  },
  "language_info": {
   "codemirror_mode": {
    "name": "ipython",
    "version": 3
   },
   "file_extension": ".py",
   "mimetype": "text/x-python",
   "name": "python",
   "nbconvert_exporter": "python",
   "pygments_lexer": "ipython3",
   "version": "3.11.0"
  }
 },
 "nbformat": 4,
 "nbformat_minor": 4
}
