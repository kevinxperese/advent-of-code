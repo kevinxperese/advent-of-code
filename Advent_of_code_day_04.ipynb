{
 "cells": [
  {
   "cell_type": "markdown",
   "metadata": {},
   "source": [
    "# Advent of Code\n",
    "\n",
    "## Day 4: Secure Container\n",
    "\n",
    "https://adventofcode.com/2019/day/4\n",
    "\n",
    "## Part 1"
   ]
  },
  {
   "cell_type": "markdown",
   "metadata": {},
   "source": [
    "### Puzzle inputs"
   ]
  },
  {
   "cell_type": "code",
   "execution_count": 1,
   "metadata": {},
   "outputs": [],
   "source": [
    "start = 197487\n",
    "end = 673251"
   ]
  },
  {
   "cell_type": "code",
   "execution_count": 2,
   "metadata": {},
   "outputs": [],
   "source": [
    "def never_decreasing(six_digit_num):\n",
    "    str_num = str(six_digit_num)\n",
    "    \n",
    "    if (int(str_num[0]) <= int(str_num[1]) <= int(str_num[2]) <= int(str_num[3]) <= int(str_num[4]) <= int(str_num[5])):\n",
    "        return True\n",
    "    else:\n",
    "        return False"
   ]
  },
  {
   "cell_type": "markdown",
   "metadata": {},
   "source": [
    "### Do some tests"
   ]
  },
  {
   "cell_type": "code",
   "execution_count": 3,
   "metadata": {},
   "outputs": [
    {
     "data": {
      "text/plain": [
       "False"
      ]
     },
     "execution_count": 3,
     "metadata": {},
     "output_type": "execute_result"
    }
   ],
   "source": [
    "never_decreasing(223450)"
   ]
  },
  {
   "cell_type": "code",
   "execution_count": 4,
   "metadata": {},
   "outputs": [],
   "source": [
    "def has_double_digits(six_digit_num):\n",
    "    str_num = str(six_digit_num)\n",
    "\n",
    "    if (str_num[0] == str_num[1] or\n",
    "        str_num[1] == str_num[2] or\n",
    "        str_num[2] == str_num[3] or\n",
    "        str_num[3] == str_num[4] or\n",
    "        str_num[4] == str_num[5]):\n",
    "        return True\n",
    "    else:\n",
    "        return False"
   ]
  },
  {
   "cell_type": "markdown",
   "metadata": {},
   "source": [
    "### Do some tests"
   ]
  },
  {
   "cell_type": "code",
   "execution_count": 5,
   "metadata": {},
   "outputs": [
    {
     "data": {
      "text/plain": [
       "True"
      ]
     },
     "execution_count": 5,
     "metadata": {},
     "output_type": "execute_result"
    }
   ],
   "source": [
    "has_double_digits(223450)"
   ]
  },
  {
   "cell_type": "markdown",
   "metadata": {},
   "source": [
    "### Get an answer"
   ]
  },
  {
   "cell_type": "code",
   "execution_count": 6,
   "metadata": {},
   "outputs": [
    {
     "name": "stdout",
     "output_type": "stream",
     "text": [
      "1640\n",
      "Wall time: 513 ms\n"
     ]
    }
   ],
   "source": [
    "%%time\n",
    "\n",
    "possible_passwords = []\n",
    "\n",
    "for num in range(start, end + 1):\n",
    "    if never_decreasing(num) and has_double_digits(num):\n",
    "        possible_passwords.append(num)\n",
    "    \n",
    "print(len(possible_passwords))"
   ]
  },
  {
   "cell_type": "markdown",
   "metadata": {},
   "source": [
    "## Sweeeeeeet"
   ]
  },
  {
   "cell_type": "markdown",
   "metadata": {},
   "source": [
    "----\n",
    "## Part 2\n",
    "----"
   ]
  },
  {
   "cell_type": "code",
   "execution_count": 7,
   "metadata": {},
   "outputs": [],
   "source": [
    "def has_double_digits_2(six_digit_num):\n",
    "    str_num = str(six_digit_num)\n",
    "    \n",
    "    if ((str_num[0] == str_num[1] != str_num[2]) or\n",
    "        (str_num[0] != str_num[1] == str_num[2] != str_num[3]) or\n",
    "        (str_num[1] != str_num[2] == str_num[3] != str_num[4]) or\n",
    "        (str_num[2] != str_num[3] == str_num[4] != str_num[5]) or\n",
    "        (str_num[3] != str_num[4] == str_num[5])):\n",
    "        return True\n",
    "    else:\n",
    "        return False"
   ]
  },
  {
   "cell_type": "code",
   "execution_count": 8,
   "metadata": {},
   "outputs": [
    {
     "name": "stdout",
     "output_type": "stream",
     "text": [
      "1126\n",
      "Wall time: 523 ms\n"
     ]
    }
   ],
   "source": [
    "%%time\n",
    "\n",
    "possible_passwords_2 = []\n",
    "\n",
    "for num in range(start, end + 1):\n",
    "    if never_decreasing(num) and  \\\n",
    "       has_double_digits_2(num):\n",
    "        possible_passwords_2.append(num)\n",
    "    \n",
    "print(len(possible_passwords_2))\n",
    "\n"
   ]
  },
  {
   "cell_type": "markdown",
   "metadata": {},
   "source": [
    "## Niiiiiiiice"
   ]
  }
 ],
 "metadata": {
  "kernelspec": {
   "display_name": "Python 3",
   "language": "python",
   "name": "python3"
  },
  "language_info": {
   "codemirror_mode": {
    "name": "ipython",
    "version": 3
   },
   "file_extension": ".py",
   "mimetype": "text/x-python",
   "name": "python",
   "nbconvert_exporter": "python",
   "pygments_lexer": "ipython3",
   "version": "3.7.3"
  }
 },
 "nbformat": 4,
 "nbformat_minor": 2
}
