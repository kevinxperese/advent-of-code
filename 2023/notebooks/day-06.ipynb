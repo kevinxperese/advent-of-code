{
 "cells": [
  {
   "cell_type": "markdown",
   "metadata": {},
   "source": [
    "# --- Day 6: Wait For It ---\n",
    "\n",
    "https://adventofcode.com/2023/day/6"
   ]
  },
  {
   "cell_type": "markdown",
   "metadata": {},
   "source": [
    "## Parse the Input Data"
   ]
  },
  {
   "cell_type": "code",
   "execution_count": 1,
   "metadata": {},
   "outputs": [],
   "source": [
    "def parse_input(filename):\n",
    "    \"\"\"Parse input data for puzzle.\n",
    "\n",
    "    Parameters\n",
    "    ----------\n",
    "    filename : str\n",
    "        The name of the *.txt file in the inputs/ directory.\n",
    "\n",
    "    Returns\n",
    "    -------\n",
    "    races : list\n",
    "        List of tuples, each tuple represents stats from a previous race:\n",
    "        (time, best_dist) \n",
    "    \"\"\"\n",
    "    with open(f'../inputs/{filename}.txt') as _file:\n",
    "        lines = _file.readlines()\n",
    "        times = map(int, lines[0][lines[0].index(\": \")+1:].split())\n",
    "        best_dists = map(int, lines[1][lines[1].index(\": \")+1:].split())\n",
    "\n",
    "        races = list(zip(times, best_dists))\n",
    "\n",
    "    return races"
   ]
  },
  {
   "cell_type": "code",
   "execution_count": 2,
   "metadata": {},
   "outputs": [
    {
     "data": {
      "text/plain": [
       "[(7, 9), (15, 40), (30, 200)]"
      ]
     },
     "execution_count": 2,
     "metadata": {},
     "output_type": "execute_result"
    }
   ],
   "source": [
    "parse_input(\"test_boat_races\")"
   ]
  },
  {
   "cell_type": "markdown",
   "metadata": {},
   "source": [
    "## Part 1\n",
    "---"
   ]
  },
  {
   "cell_type": "code",
   "execution_count": 3,
   "metadata": {},
   "outputs": [],
   "source": [
    "import math"
   ]
  },
  {
   "cell_type": "code",
   "execution_count": 4,
   "metadata": {},
   "outputs": [],
   "source": [
    "def solve1(races):\n",
    "\n",
    "    num_ways_to_win = []\n",
    "\n",
    "    for race in races:\n",
    "        # Unpack race stats\n",
    "        time, best_dist = race\n",
    "        \n",
    "        # For each race, loop over all possible button holding/disances and\n",
    "        # tally up which ones beat the best_dist\n",
    "        win_count = 0\n",
    "        for msec in range(1, time):\n",
    "            dist = msec * (time - msec)\n",
    "            if dist > best_dist:\n",
    "                win_count += 1\n",
    "\n",
    "        num_ways_to_win.append(win_count)\n",
    "\n",
    "    return math.prod(num_ways_to_win)"
   ]
  },
  {
   "cell_type": "markdown",
   "metadata": {},
   "source": [
    "### Run on Test Data"
   ]
  },
  {
   "cell_type": "code",
   "execution_count": 5,
   "metadata": {},
   "outputs": [
    {
     "data": {
      "text/plain": [
       "True"
      ]
     },
     "execution_count": 5,
     "metadata": {},
     "output_type": "execute_result"
    }
   ],
   "source": [
    "solve1(parse_input(\"test_boat_races\")) == 288"
   ]
  },
  {
   "cell_type": "markdown",
   "metadata": {},
   "source": [
    "### Run on Input Data"
   ]
  },
  {
   "cell_type": "code",
   "execution_count": 6,
   "metadata": {},
   "outputs": [
    {
     "data": {
      "text/plain": [
       "633080"
      ]
     },
     "execution_count": 6,
     "metadata": {},
     "output_type": "execute_result"
    }
   ],
   "source": [
    "solve1(parse_input(\"boat_races\"))"
   ]
  },
  {
   "cell_type": "markdown",
   "metadata": {},
   "source": [
    "## Part 2\n",
    "---"
   ]
  },
  {
   "cell_type": "code",
   "execution_count": 7,
   "metadata": {},
   "outputs": [],
   "source": [
    "def solve2(races):\n",
    "    # Convert races data into concatenated time and best_dist values for a single race\n",
    "    time = \"\"\n",
    "    best_dist = \"\"\n",
    "\n",
    "    for race in races:\n",
    "        t, d = race\n",
    "        time += str(t)\n",
    "        best_dist += str(d)\n",
    "\n",
    "    time = int(time)\n",
    "    best_dist = int(best_dist)\n",
    "\n",
    "    # Then brute force through all the possible button holding times/distances\n",
    "    # and tally up which ones beat the current best time record\n",
    "    win_count = 0\n",
    "    for msec in range(1, time):\n",
    "        dist = msec * (time - msec)\n",
    "        if dist > best_dist:\n",
    "            win_count += 1\n",
    "\n",
    "    return win_count"
   ]
  },
  {
   "cell_type": "markdown",
   "metadata": {},
   "source": [
    "### Run on Test Data"
   ]
  },
  {
   "cell_type": "code",
   "execution_count": 8,
   "metadata": {},
   "outputs": [
    {
     "data": {
      "text/plain": [
       "True"
      ]
     },
     "execution_count": 8,
     "metadata": {},
     "output_type": "execute_result"
    }
   ],
   "source": [
    "solve2(parse_input(\"test_boat_races\")) == 71503"
   ]
  },
  {
   "cell_type": "markdown",
   "metadata": {},
   "source": [
    "### Run on Input Data"
   ]
  },
  {
   "cell_type": "code",
   "execution_count": 9,
   "metadata": {},
   "outputs": [
    {
     "data": {
      "text/plain": [
       "20048741"
      ]
     },
     "execution_count": 9,
     "metadata": {},
     "output_type": "execute_result"
    }
   ],
   "source": [
    "solve2(parse_input(\"boat_races\"))"
   ]
  },
  {
   "cell_type": "markdown",
   "metadata": {},
   "source": [
    "Interestingly, this runs much faster on my Mac M1 Powerbook laptop. I think about 3s to solve instead of 10s?"
   ]
  }
 ],
 "metadata": {
  "kernelspec": {
   "display_name": "Python 3.8.8 ('base')",
   "language": "python",
   "name": "python3"
  },
  "language_info": {
   "codemirror_mode": {
    "name": "ipython",
    "version": 3
   },
   "file_extension": ".py",
   "mimetype": "text/x-python",
   "name": "python",
   "nbconvert_exporter": "python",
   "pygments_lexer": "ipython3",
   "version": "3.9.7"
  },
  "vscode": {
   "interpreter": {
    "hash": "f49206fcf84a9145e7e21228cbafa911d1ac18292303b01e865d8267a9c448f7"
   }
  }
 },
 "nbformat": 4,
 "nbformat_minor": 4
}
