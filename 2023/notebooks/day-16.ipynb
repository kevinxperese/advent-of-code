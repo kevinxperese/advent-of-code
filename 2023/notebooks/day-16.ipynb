{
 "cells": [
  {
   "cell_type": "markdown",
   "metadata": {},
   "source": [
    "# --- Day 16: The Floor Will Be Lava ---\n",
    "\n",
    "https://adventofcode.com/2023/day/16"
   ]
  },
  {
   "cell_type": "markdown",
   "metadata": {},
   "source": [
    "## Parse the Input Data"
   ]
  },
  {
   "cell_type": "code",
   "execution_count": 1,
   "metadata": {},
   "outputs": [],
   "source": [
    "def parse(filename):\n",
    "    \"\"\"Parse input data for puzzle.\n",
    "\n",
    "    Parameters\n",
    "    ----------\n",
    "    filename : str\n",
    "        The name of the *.txt file in the inputs/ directory.\n",
    "\n",
    "    Returns\n",
    "    -------\n",
    "\n",
    "    \"\"\"\n",
    "    contraption = []\n",
    "    with open(f'../inputs/{filename}.txt') as f:\n",
    "        for line in f:\n",
    "            contraption.append(line.strip())\n",
    "\n",
    "    return contraption"
   ]
  },
  {
   "cell_type": "code",
   "execution_count": 2,
   "metadata": {},
   "outputs": [
    {
     "data": {
      "text/plain": [
       "['.|...\\\\....',\n",
       " '|.-.\\\\.....',\n",
       " '.....|-...',\n",
       " '........|.',\n",
       " '..........',\n",
       " '.........\\\\',\n",
       " '..../.\\\\\\\\..',\n",
       " '.-.-/..|..',\n",
       " '.|....-|.\\\\',\n",
       " '..//.|....']"
      ]
     },
     "execution_count": 2,
     "metadata": {},
     "output_type": "execute_result"
    }
   ],
   "source": [
    "parse(\"test_contraption\")"
   ]
  },
  {
   "cell_type": "code",
   "execution_count": 3,
   "metadata": {},
   "outputs": [],
   "source": [
    "def move(state, width, height):\n",
    "\n",
    "    deltas = {\n",
    "        \"up\" : -1,\n",
    "        \"right\" : 1j,\n",
    "        \"down\" : 1,\n",
    "        \"left\" : -1j\n",
    "    }\n",
    "\n",
    "    state[\"pos\"] += deltas[state[\"dir\"]]\n",
    "\n",
    "    if not (0 <= state[\"pos\"].real <= height):\n",
    "        return None\n",
    "    elif not (0 <= state[\"pos\"].imag <= width):\n",
    "        return None\n",
    "    else:\n",
    "        return state\n"
   ]
  },
  {
   "cell_type": "code",
   "execution_count": 4,
   "metadata": {},
   "outputs": [],
   "source": [
    "def turn_right(from_dir):\n",
    "    turns = {\n",
    "        \"up\" : \"left\",\n",
    "        \"right\" : \"down\",\n",
    "        \"down\" : \"right\",\n",
    "        \"left\" : \"up\"\n",
    "    }\n",
    "\n",
    "    return turns[from_dir]"
   ]
  },
  {
   "cell_type": "code",
   "execution_count": 5,
   "metadata": {},
   "outputs": [],
   "source": [
    "def turn_left(from_dir):\n",
    "    turns = {\n",
    "        \"up\" : \"right\",\n",
    "        \"right\" : \"up\",\n",
    "        \"down\" : \"left\",\n",
    "        \"left\" : \"down\"}\n",
    "\n",
    "    return turns[from_dir]"
   ]
  },
  {
   "cell_type": "code",
   "execution_count": 6,
   "metadata": {},
   "outputs": [],
   "source": [
    "def bounce_around(contraption, state, energized, states):\n",
    "    state = state.copy()\n",
    "    energized.update(set([state[\"pos\"]]))\n",
    "\n",
    "    width = len(contraption[0]) - 1\n",
    "    height = len(contraption) - 1\n",
    "\n",
    "    while True:\n",
    "\n",
    "        # base case\n",
    "        if state == None or str(state) in states:\n",
    "            break\n",
    "\n",
    "        else:\n",
    "            # Add states and positions to their respective sets\n",
    "            states.add(str(state))\n",
    "            energized.add(state[\"pos\"])\n",
    "\n",
    "            # Get some easier to understand representations for debugging\n",
    "            r = int(state[\"pos\"].real)\n",
    "            c = int(state[\"pos\"].imag)\n",
    "            tile = contraption[r][c]\n",
    "\n",
    "            # Change directions\n",
    "            if tile == \"\\\\\":\n",
    "                state[\"dir\"] = turn_right(state[\"dir\"])\n",
    "\n",
    "            elif tile == \"/\":\n",
    "                state[\"dir\"] = turn_left(state[\"dir\"])\n",
    "\n",
    "            # Split beams if necessary\n",
    "            elif tile == \"-\":\n",
    "                if state[\"dir\"] in [\"up\", \"down\"]:\n",
    "                    state[\"dir\"] = \"left\"\n",
    "                    new_state = state.copy()\n",
    "                    new_state[\"dir\"] = \"right\"\n",
    "                    energized.update(bounce_around(contraption, new_state, energized, states))\n",
    "\n",
    "            elif tile == \"|\":\n",
    "                if state[\"dir\"] in [\"left\", \"right\"]:\n",
    "                    state[\"dir\"] = \"up\"\n",
    "                    new_state = state.copy()\n",
    "                    new_state[\"dir\"] = \"down\"\n",
    "                    energized.update(bounce_around(contraption, new_state, energized, states))\n",
    "\n",
    "            # THEN make a move!\n",
    "            state = move(state, width, height)\n",
    "\n",
    "    # print(energized)\n",
    "    return energized"
   ]
  },
  {
   "cell_type": "markdown",
   "metadata": {},
   "source": [
    "## Part 1\n",
    "---"
   ]
  },
  {
   "cell_type": "code",
   "execution_count": 7,
   "metadata": {},
   "outputs": [],
   "source": [
    "def solve1(contraption, start_state=None):\n",
    "    start_state = {\"pos\" : complex(0, 0), \"dir\" : \"right\"}\n",
    "    return len(bounce_around(contraption, start_state, set(), set()))"
   ]
  },
  {
   "cell_type": "markdown",
   "metadata": {},
   "source": [
    "### Run Tests"
   ]
  },
  {
   "cell_type": "code",
   "execution_count": 8,
   "metadata": {},
   "outputs": [
    {
     "data": {
      "text/plain": [
       "True"
      ]
     },
     "execution_count": 8,
     "metadata": {},
     "output_type": "execute_result"
    }
   ],
   "source": [
    "solve1([\"....\"]) == 4"
   ]
  },
  {
   "cell_type": "code",
   "execution_count": 9,
   "metadata": {},
   "outputs": [
    {
     "data": {
      "text/plain": [
       "True"
      ]
     },
     "execution_count": 9,
     "metadata": {},
     "output_type": "execute_result"
    }
   ],
   "source": [
    "solve1([\".../\"]) == 4"
   ]
  },
  {
   "cell_type": "code",
   "execution_count": 10,
   "metadata": {},
   "outputs": [
    {
     "data": {
      "text/plain": [
       "True"
      ]
     },
     "execution_count": 10,
     "metadata": {},
     "output_type": "execute_result"
    }
   ],
   "source": [
    "solve1([\"..|.\"]) == 3"
   ]
  },
  {
   "cell_type": "code",
   "execution_count": 11,
   "metadata": {},
   "outputs": [
    {
     "data": {
      "text/plain": [
       "True"
      ]
     },
     "execution_count": 11,
     "metadata": {},
     "output_type": "execute_result"
    }
   ],
   "source": [
    "solve1([\".|.\", \".-.\"]) == 5"
   ]
  },
  {
   "cell_type": "code",
   "execution_count": 12,
   "metadata": {},
   "outputs": [
    {
     "data": {
      "text/plain": [
       "True"
      ]
     },
     "execution_count": 12,
     "metadata": {},
     "output_type": "execute_result"
    }
   ],
   "source": [
    "solve1([\"./.\", \".-.\"]) == 2"
   ]
  },
  {
   "cell_type": "code",
   "execution_count": 13,
   "metadata": {},
   "outputs": [
    {
     "data": {
      "text/plain": [
       "True"
      ]
     },
     "execution_count": 13,
     "metadata": {},
     "output_type": "execute_result"
    }
   ],
   "source": [
    "solve1([\".\\\\.\", \".-.\"]) == 5"
   ]
  },
  {
   "cell_type": "code",
   "execution_count": 14,
   "metadata": {},
   "outputs": [
    {
     "data": {
      "text/plain": [
       "True"
      ]
     },
     "execution_count": 14,
     "metadata": {},
     "output_type": "execute_result"
    }
   ],
   "source": [
    "solve1([\".\\\\.\", \"|-|\", \"...\"]) == 8"
   ]
  },
  {
   "cell_type": "code",
   "execution_count": 15,
   "metadata": {},
   "outputs": [
    {
     "data": {
      "text/plain": [
       "True"
      ]
     },
     "execution_count": 15,
     "metadata": {},
     "output_type": "execute_result"
    }
   ],
   "source": [
    "solve1(parse(\"test_contraption\")) == 46"
   ]
  },
  {
   "cell_type": "markdown",
   "metadata": {},
   "source": [
    "### Run on Input Data"
   ]
  },
  {
   "cell_type": "code",
   "execution_count": 16,
   "metadata": {},
   "outputs": [
    {
     "data": {
      "text/plain": [
       "6740"
      ]
     },
     "execution_count": 16,
     "metadata": {},
     "output_type": "execute_result"
    }
   ],
   "source": [
    "solve1(parse(\"contraption\"))"
   ]
  },
  {
   "cell_type": "markdown",
   "metadata": {},
   "source": [
    "## Part 2\n",
    "---"
   ]
  },
  {
   "cell_type": "markdown",
   "metadata": {},
   "source": [
    "### Run on Test Data"
   ]
  },
  {
   "cell_type": "code",
   "execution_count": null,
   "metadata": {},
   "outputs": [],
   "source": []
  },
  {
   "cell_type": "markdown",
   "metadata": {},
   "source": [
    "### Run on Input Data"
   ]
  },
  {
   "cell_type": "code",
   "execution_count": null,
   "metadata": {},
   "outputs": [],
   "source": []
  }
 ],
 "metadata": {
  "kernelspec": {
   "display_name": "Python 3.8.8 ('base')",
   "language": "python",
   "name": "python3"
  },
  "language_info": {
   "codemirror_mode": {
    "name": "ipython",
    "version": 3
   },
   "file_extension": ".py",
   "mimetype": "text/x-python",
   "name": "python",
   "nbconvert_exporter": "python",
   "pygments_lexer": "ipython3",
   "version": "3.9.13"
  },
  "vscode": {
   "interpreter": {
    "hash": "f49206fcf84a9145e7e21228cbafa911d1ac18292303b01e865d8267a9c448f7"
   }
  }
 },
 "nbformat": 4,
 "nbformat_minor": 4
}
