{
 "cells": [
  {
   "cell_type": "markdown",
   "metadata": {},
   "source": [
    "# --- Day 14: Parabolic Reflector Dish ---\n",
    "\n",
    "https://adventofcode.com/2023/day/14"
   ]
  },
  {
   "cell_type": "markdown",
   "metadata": {},
   "source": [
    "## Parse the Input Data"
   ]
  },
  {
   "cell_type": "code",
   "execution_count": 1,
   "metadata": {},
   "outputs": [],
   "source": [
    "def parse(filename):\n",
    "    \"\"\"Parse input data for puzzle.\n",
    "\n",
    "    Parameters\n",
    "    ----------\n",
    "    filename : str\n",
    "        The name of the *.txt file in the inputs/ directory.\n",
    "\n",
    "    Returns\n",
    "    -------\n",
    "\n",
    "    \"\"\"\n",
    "    platform = []\n",
    "    with open(f'../inputs/{filename}.txt') as f:\n",
    "        for line in f:\n",
    "            platform.append(line.strip())\n",
    "\n",
    "    return platform"
   ]
  },
  {
   "cell_type": "code",
   "execution_count": 2,
   "metadata": {},
   "outputs": [
    {
     "data": {
      "text/plain": [
       "['O....#....',\n",
       " 'O.OO#....#',\n",
       " '.....##...',\n",
       " 'OO.#O....O',\n",
       " '.O.....O#.',\n",
       " 'O.#..O.#.#',\n",
       " '..O..#O..O',\n",
       " '.......O..',\n",
       " '#....###..',\n",
       " '#OO..#....']"
      ]
     },
     "execution_count": 2,
     "metadata": {},
     "output_type": "execute_result"
    }
   ],
   "source": [
    "parse(\"test_platform\")"
   ]
  },
  {
   "cell_type": "markdown",
   "metadata": {},
   "source": [
    "## Part 1\n",
    "---"
   ]
  },
  {
   "cell_type": "code",
   "execution_count": 3,
   "metadata": {},
   "outputs": [],
   "source": [
    "def tilt_north(platform):\n",
    "    # First transpose the platform\n",
    "    trans = [\"\" for _ in platform]\n",
    "    for line in platform:\n",
    "        for i, c in enumerate(line):\n",
    "            trans[i] += c\n",
    "\n",
    "    # then calc tiltled_north version\n",
    "    tilted_north = []\n",
    "    for line in trans:\n",
    "        for i in range(len(line)):\n",
    "            if line[i] == \".\":\n",
    "                next_O = line[i:].find(\"O\")\n",
    "                next_p = line[i:].find(\"#\")\n",
    "\n",
    "                if next_O == -1:\n",
    "                    break\n",
    "                elif next_O < next_p or next_p == -1:\n",
    "                    line = line[:i] + \"O\" + \".\" * next_O + line[i+next_O+1:]\n",
    "                    i += next_O\n",
    "\n",
    "        tilted_north.append(line)\n",
    "\n",
    "    return tilted_north"
   ]
  },
  {
   "cell_type": "code",
   "execution_count": 4,
   "metadata": {},
   "outputs": [
    {
     "data": {
      "text/plain": [
       "['OOOO....##',\n",
       " 'OOO.......',\n",
       " 'O....#OO..',\n",
       " 'O..#......',\n",
       " '.#O.......',\n",
       " '#.#O..#.##',\n",
       " '..#O....#.',\n",
       " 'O....#O.#.',\n",
       " '....#.....',\n",
       " '.#O..#O...']"
      ]
     },
     "execution_count": 4,
     "metadata": {},
     "output_type": "execute_result"
    }
   ],
   "source": [
    "tilt_north(parse(\"test_platform\"))"
   ]
  },
  {
   "cell_type": "code",
   "execution_count": 5,
   "metadata": {},
   "outputs": [],
   "source": [
    "def solve1(tilted_north):\n",
    "    answer = 0\n",
    "    for line in tilted_north:\n",
    "        for i, c in enumerate(line):\n",
    "            if c == \"O\":\n",
    "                answer += len(line) - i\n",
    "    return answer"
   ]
  },
  {
   "cell_type": "markdown",
   "metadata": {},
   "source": [
    "### Run on Test Data"
   ]
  },
  {
   "cell_type": "code",
   "execution_count": 6,
   "metadata": {},
   "outputs": [
    {
     "data": {
      "text/plain": [
       "True"
      ]
     },
     "execution_count": 6,
     "metadata": {},
     "output_type": "execute_result"
    }
   ],
   "source": [
    "solve1(tilt_north(parse(\"test_platform\"))) == 136"
   ]
  },
  {
   "cell_type": "markdown",
   "metadata": {},
   "source": [
    "### Run on Input Data"
   ]
  },
  {
   "cell_type": "code",
   "execution_count": 7,
   "metadata": {},
   "outputs": [
    {
     "data": {
      "text/plain": [
       "106990"
      ]
     },
     "execution_count": 7,
     "metadata": {},
     "output_type": "execute_result"
    }
   ],
   "source": [
    "solve1(tilt_north(parse(\"platform\")))"
   ]
  },
  {
   "cell_type": "markdown",
   "metadata": {},
   "source": [
    "## Part 2\n",
    "---"
   ]
  },
  {
   "cell_type": "code",
   "execution_count": 8,
   "metadata": {},
   "outputs": [],
   "source": [
    "def transpose(platform, debug=False):\n",
    "    \"\"\"Transpose platform across the diagonal.\"\"\"\n",
    "    trans = [\"\" for _ in platform]\n",
    "    for line in platform:\n",
    "        for i, c in enumerate(line):\n",
    "            trans[i] += c\n",
    "\n",
    "    if debug:\n",
    "        return platform, trans\n",
    "    else:\n",
    "        return trans"
   ]
  },
  {
   "cell_type": "code",
   "execution_count": 9,
   "metadata": {},
   "outputs": [
    {
     "data": {
      "text/plain": [
       "(['O....#....',\n",
       "  'O.OO#....#',\n",
       "  '.....##...',\n",
       "  'OO.#O....O',\n",
       "  '.O.....O#.',\n",
       "  'O.#..O.#.#',\n",
       "  '..O..#O..O',\n",
       "  '.......O..',\n",
       "  '#....###..',\n",
       "  '#OO..#....'],\n",
       " ['OO.O.O..##',\n",
       "  '...OO....O',\n",
       "  '.O...#O..O',\n",
       "  '.O.#......',\n",
       "  '.#.O......',\n",
       "  '#.#..O#.##',\n",
       "  '..#...O.#.',\n",
       "  '....O#.O#.',\n",
       "  '....#.....',\n",
       "  '.#.O.#O...'])"
      ]
     },
     "execution_count": 9,
     "metadata": {},
     "output_type": "execute_result"
    }
   ],
   "source": [
    "transpose(parse(\"test_platform\"), debug=True)"
   ]
  },
  {
   "cell_type": "code",
   "execution_count": 10,
   "metadata": {},
   "outputs": [],
   "source": [
    "def tilt_up(platform):\n",
    "    # First transpose the platform to make the tilt up calc easy to do\n",
    "    platform = transpose(platform)\n",
    "\n",
    "    # Move around the round rocks (\"O\") around...\n",
    "    tilted = []\n",
    "    for line in platform:\n",
    "        for i in range(len(line)):\n",
    "            if line[i] == \".\":\n",
    "                next_O = line[i:].find(\"O\")\n",
    "                next_p = line[i:].find(\"#\")\n",
    "\n",
    "                if next_O == -1:\n",
    "                    break\n",
    "                elif next_O < next_p or next_p == -1:\n",
    "                    line = line[:i] + \"O\" + \".\" * next_O + line[i+next_O+1:]\n",
    "                    i += next_O\n",
    "\n",
    "        tilted.append(line)\n",
    "\n",
    "    # Then undo the tranpose by re-tranposing to get back to the original orientation\n",
    "    return transpose(tilted)"
   ]
  },
  {
   "cell_type": "code",
   "execution_count": 11,
   "metadata": {},
   "outputs": [],
   "source": [
    "def rotate(platform, debug=False):\n",
    "    \"\"\"Rotate the platform 90 degrees to the right.\"\"\"\n",
    "    rotated = [\"\" for _ in platform]\n",
    "    for line in platform[::-1]:\n",
    "        for i, c in enumerate(line):\n",
    "            rotated[i] += c\n",
    "\n",
    "    if debug:\n",
    "        return platform, rotated\n",
    "    else:\n",
    "        return rotated"
   ]
  },
  {
   "cell_type": "code",
   "execution_count": 12,
   "metadata": {},
   "outputs": [
    {
     "data": {
      "text/plain": [
       "(['O....#....',\n",
       "  'O.OO#....#',\n",
       "  '.....##...',\n",
       "  'OO.#O....O',\n",
       "  '.O.....O#.',\n",
       "  'O.#..O.#.#',\n",
       "  '..O..#O..O',\n",
       "  '.......O..',\n",
       "  '#....###..',\n",
       "  '#OO..#....'],\n",
       " ['##..O.O.OO',\n",
       "  'O....OO...',\n",
       "  'O..O#...O.',\n",
       "  '......#.O.',\n",
       "  '......O.#.',\n",
       "  '##.#O..#.#',\n",
       "  '.#.O...#..',\n",
       "  '.#O.#O....',\n",
       "  '.....#....',\n",
       "  '...O#.O.#.'])"
      ]
     },
     "execution_count": 12,
     "metadata": {},
     "output_type": "execute_result"
    }
   ],
   "source": [
    "rotate(parse(\"test_platform\"), debug=True)"
   ]
  },
  {
   "cell_type": "code",
   "execution_count": 13,
   "metadata": {},
   "outputs": [],
   "source": [
    "def cycle(platform):\n",
    "    for _ in range(4):\n",
    "        platform = rotate(tilt_up(platform))\n",
    "\n",
    "    return platform"
   ]
  },
  {
   "cell_type": "code",
   "execution_count": 14,
   "metadata": {},
   "outputs": [],
   "source": [
    "def get_answer(platform):\n",
    "    answer = 0\n",
    "    for i, line in enumerate(platform):\n",
    "        answer += (len(platform) - i) * line.count(\"O\")\n",
    "\n",
    "    return answer"
   ]
  },
  {
   "cell_type": "markdown",
   "metadata": {},
   "source": [
    "Now that I have all the components, I need to figure out whether there's a cycle in the states/answers and the figure out how to return the right answer..."
   ]
  },
  {
   "cell_type": "code",
   "execution_count": 15,
   "metadata": {},
   "outputs": [],
   "source": [
    "import matplotlib.pyplot as plt"
   ]
  },
  {
   "cell_type": "code",
   "execution_count": 16,
   "metadata": {},
   "outputs": [],
   "source": [
    "def look_for_cycles(platform, n):\n",
    "    states = []\n",
    "    dummies = []\n",
    "    answers = []\n",
    "\n",
    "    for _ in range(int(n)):\n",
    "        platform = cycle(platform)\n",
    "        state = \"\".join(platform)\n",
    "\n",
    "        if state not in states:\n",
    "            dummies.append(False)\n",
    "            states.append(state)\n",
    "        else:\n",
    "            dummies.append(True)\n",
    "\n",
    "        answers.append(get_answer(platform))\n",
    "\n",
    "    plt.plot(dummies)\n",
    "    plt.show()\n",
    "    plt.clf()\n",
    "    plt.plot(answers)\n"
   ]
  },
  {
   "cell_type": "code",
   "execution_count": 17,
   "metadata": {},
   "outputs": [
    {
     "data": {
      "image/png": "[encoded data removed]",
      "text/plain": [
       "<Figure size 640x480 with 1 Axes>"
      ]
     },
     "metadata": {},
     "output_type": "display_data"
    },
    {
     "data": {
      "image/png": "[encoded data removed]",
      "text/plain": [
       "<Figure size 640x480 with 1 Axes>"
      ]
     },
     "metadata": {},
     "output_type": "display_data"
    }
   ],
   "source": [
    "look_for_cycles(parse(\"test_platform\"), 100)"
   ]
  },
  {
   "cell_type": "markdown",
   "metadata": {},
   "source": [
    "After some number of \"cycles\" an actual cycle starts!  \n",
    "Need to find the cycle length.  \n",
    "HOpefullly those little blips in the cycle don't cause me any problems..."
   ]
  },
  {
   "cell_type": "code",
   "execution_count": 18,
   "metadata": {},
   "outputs": [],
   "source": [
    "def solve2(platform, n):\n",
    "    states = []\n",
    "    cycle_states = []\n",
    "    answers = []\n",
    "\n",
    "    for i in range(int(n)):\n",
    "        platform = cycle(platform)\n",
    "        state = \"\".join(platform)\n",
    "\n",
    "        if state in states:\n",
    "            # We are in the cycle!\n",
    "            if state in cycle_states:\n",
    "                cycle_length = i - cycle_start - 1  # Off by 1 errors suck...\n",
    "                break\n",
    "            else:\n",
    "                cycle_states.append(state)\n",
    "                answers.append(get_answer(platform))\n",
    "\n",
    "        else:\n",
    "            # Haven't yet hit the cycle...\n",
    "            states.append(state)\n",
    "            cycle_start = i\n",
    "\n",
    "    print(answers)\n",
    "    print(cycle_length)\n",
    "\n",
    "    return answers[int((1e9 - (cycle_start + 1)) % cycle_length) - 1]  #... no, I mean: They really are terrible\n"
   ]
  },
  {
   "cell_type": "markdown",
   "metadata": {},
   "source": [
    "### Run on Test Data"
   ]
  },
  {
   "cell_type": "markdown",
   "metadata": {},
   "source": [
    "#### Test that the new code still solves Part 1"
   ]
  },
  {
   "cell_type": "code",
   "execution_count": 19,
   "metadata": {},
   "outputs": [
    {
     "data": {
      "text/plain": [
       "True"
      ]
     },
     "execution_count": 19,
     "metadata": {},
     "output_type": "execute_result"
    }
   ],
   "source": [
    "get_answer(tilt_up(parse(\"test_platform\"))) == 136"
   ]
  },
  {
   "cell_type": "markdown",
   "metadata": {},
   "source": [
    "### Test that all the rotations and cycles are working:"
   ]
  },
  {
   "cell_type": "code",
   "execution_count": 20,
   "metadata": {},
   "outputs": [
    {
     "data": {
      "text/plain": [
       "True"
      ]
     },
     "execution_count": 20,
     "metadata": {},
     "output_type": "execute_result"
    }
   ],
   "source": [
    "\"\".join(cycle(parse(\"test_platform\"))) == \"\".join(parse(\"test_platform1\"))"
   ]
  },
  {
   "cell_type": "code",
   "execution_count": 21,
   "metadata": {},
   "outputs": [
    {
     "data": {
      "text/plain": [
       "True"
      ]
     },
     "execution_count": 21,
     "metadata": {},
     "output_type": "execute_result"
    }
   ],
   "source": [
    "\"\".join(cycle(cycle(parse(\"test_platform\")))) == \"\".join(parse(\"test_platform2\"))"
   ]
  },
  {
   "cell_type": "code",
   "execution_count": 22,
   "metadata": {},
   "outputs": [
    {
     "data": {
      "text/plain": [
       "True"
      ]
     },
     "execution_count": 22,
     "metadata": {},
     "output_type": "execute_result"
    }
   ],
   "source": [
    "\"\".join(cycle(cycle(cycle(parse(\"test_platform\"))))) == \"\".join(parse(\"test_platform3\"))"
   ]
  },
  {
   "cell_type": "code",
   "execution_count": 23,
   "metadata": {},
   "outputs": [
    {
     "name": "stdout",
     "output_type": "stream",
     "text": [
      "[69, 69, 65, 64, 65, 63, 68]\n",
      "7\n"
     ]
    },
    {
     "data": {
      "text/plain": [
       "True"
      ]
     },
     "execution_count": 23,
     "metadata": {},
     "output_type": "execute_result"
    }
   ],
   "source": [
    "solve2(parse(\"test_platform\"), 500) == 64"
   ]
  },
  {
   "cell_type": "markdown",
   "metadata": {},
   "source": [
    "### Run on Input Data"
   ]
  },
  {
   "cell_type": "code",
   "execution_count": 24,
   "metadata": {},
   "outputs": [
    {
     "name": "stdout",
     "output_type": "stream",
     "text": [
      "[100467, 100449, 100430, 100425, 100424, 100425, 100444, 100468, 100482, 100494, 100507, 100531, 100545, 100580, 100614, 100648, 100680, 100710, 100746, 100780, 100810, 100843, 100869, 100893, 100902, 100904, 100902, 100898, 100890, 100873, 100850, 100817, 100782, 100736, 100687, 100642, 100588, 100531, 100492]\n",
      "39\n"
     ]
    },
    {
     "data": {
      "text/plain": [
       "100531"
      ]
     },
     "execution_count": 24,
     "metadata": {},
     "output_type": "execute_result"
    }
   ],
   "source": [
    "solve2(parse(\"platform\"), 500)"
   ]
  }
 ],
 "metadata": {
  "kernelspec": {
   "display_name": "Python 3.8.8 ('base')",
   "language": "python",
   "name": "python3"
  },
  "language_info": {
   "codemirror_mode": {
    "name": "ipython",
    "version": 3
   },
   "file_extension": ".py",
   "mimetype": "text/x-python",
   "name": "python",
   "nbconvert_exporter": "python",
   "pygments_lexer": "ipython3",
   "version": "3.9.13"
  },
  "vscode": {
   "interpreter": {
    "hash": "f49206fcf84a9145e7e21228cbafa911d1ac18292303b01e865d8267a9c448f7"
   }
  }
 },
 "nbformat": 4,
 "nbformat_minor": 4
}
