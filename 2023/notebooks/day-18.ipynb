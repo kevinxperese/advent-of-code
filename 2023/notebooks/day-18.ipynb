{
 "cells": [
  {
   "cell_type": "markdown",
   "metadata": {},
   "source": [
    "# --- Day 18: Lavaduct Lagoon ---\n",
    "\n",
    "https://adventofcode.com/2023/day/18"
   ]
  },
  {
   "cell_type": "markdown",
   "metadata": {},
   "source": [
    "## Parse the Input Data"
   ]
  },
  {
   "cell_type": "code",
   "execution_count": 1,
   "metadata": {},
   "outputs": [],
   "source": [
    "from collections import defaultdict"
   ]
  },
  {
   "cell_type": "code",
   "execution_count": 2,
   "metadata": {},
   "outputs": [],
   "source": [
    "def parse(filename):\n",
    "    \"\"\"Parse input data for puzzle.\n",
    "\n",
    "    Parameters\n",
    "    ----------\n",
    "    filename : str\n",
    "        The name of the *.txt file in the inputs/ directory.\n",
    "\n",
    "    Returns\n",
    "    -------\n",
    "    dig_plan : dict\n",
    "    \"\"\"\n",
    "    dig_plan = {}\n",
    "    r, c = 0, 0\n",
    "\n",
    "    rl = {\"R\" : 1, \"L\" : -1}\n",
    "    ud = {\"U\" : -1, \"D\" : 1}\n",
    "\n",
    "    with open(f'../inputs/{filename}.txt') as f:\n",
    "        for line in f:\n",
    "            d, n, color = line.strip().split()\n",
    "            if d in \"RL\":\n",
    "                for _ in range(1, int(n) + 1):\n",
    "                    c += rl[d]\n",
    "                    dig_plan[complex(r, c)] = color.strip(\"()\")\n",
    "            elif d in \"UD\":\n",
    "                for _ in range(1, int(n) + 1):\n",
    "                    r += ud[d]\n",
    "                    dig_plan[complex(r, c)] = color.strip(\"()\")\n",
    "\n",
    "    return dig_plan"
   ]
  },
  {
   "cell_type": "code",
   "execution_count": 3,
   "metadata": {},
   "outputs": [],
   "source": [
    "# Failed ray casting approach to the solution...\n",
    "# def ray_casting():\n",
    "\n",
    "#     answer = 0\n",
    "#     for row in rows:\n",
    "#         sorted_row = sorted(rows[row])\n",
    "#         inside = True #|not len(sorted_row) % 2\n",
    "#         row_count = 1\n",
    "#         for i, _ in enumerate(sorted_row):\n",
    "#             if i >= 1:\n",
    "#                 if abs(sorted_row[i] - sorted_row[i-1]) == 1:\n",
    "#                     row_count += 1\n",
    "#                     # contig_count += 1\n",
    "#                 else:\n",
    "#                     row_count += inside * (abs(sorted_row[i] - sorted_row[i-1]))\n",
    "#                     inside = not inside\n",
    "#         answer += row_count\n",
    "\n",
    "#         print(row_count, answer)\n",
    "#     print(answer)"
   ]
  },
  {
   "cell_type": "markdown",
   "metadata": {},
   "source": [
    "## Part 1\n",
    "---"
   ]
  },
  {
   "cell_type": "code",
   "execution_count": 4,
   "metadata": {},
   "outputs": [],
   "source": [
    "def shoelace(perimeter):\n",
    "    \"\"\"Calc area of a simple polygon using the shoelace formula.\n",
    "\n",
    "    Parameters\n",
    "    ---------\n",
    "    perimeter : list\n",
    "        Elements contain either complex(row, col) numbers or (row, col) tuples.\n",
    "        Perimeter elements MUST be ordered in either a clockwise or counter-clockwise order.\n",
    "\n",
    "    Returns\n",
    "    -------\n",
    "    area : float\n",
    "        The area of a simple (non-overlapping) polygon.\n",
    "    \"\"\"\n",
    "    if isinstance(perimeter[0], complex):\n",
    "        temp = sum([(perimeter[i].real * perimeter[i+1].imag) - (perimeter[i].imag * perimeter[i+1].real) for i in range(len(perimeter) - 1)])\n",
    "        # This last calc is zero if either start or end is (0, 0)\n",
    "        temp += (perimeter[-1].real * perimeter[0].imag) - (perimeter[-1].imag * perimeter[0].real)\n",
    "\n",
    "    else:\n",
    "        temp = sum([(perimeter[i][0] * perimeter[i+1][1]) - (perimeter[i][1] * perimeter[i+1][0]) for i in range(len(perimeter) - 1)])\n",
    "        print(temp)\n",
    "        temp += (perimeter[-1][0] * perimeter[0][1]) - (perimeter[-1][1] * perimeter[0][0])\n",
    "\n",
    "    area = temp / 2\n",
    "\n",
    "    return area\n"
   ]
  },
  {
   "cell_type": "code",
   "execution_count": 5,
   "metadata": {},
   "outputs": [],
   "source": [
    "def picks_theorem(perimeter):\n",
    "    \"\"\"Apply Pick's theorem to calculate the number of interior points of a simple polygon.\n",
    "\n",
    "    First calculates the area of the simply polygon using the shoelace formula.\n",
    "    Then given the number of points in the perimeter and the area of the perimeter, it calculates\n",
    "    the number of interior points.\n",
    "\n",
    "    Parameters\n",
    "    ----------\n",
    "    perimeter : list\n",
    "        Elements contain either complex(row, col) numbers or (row, col) tuples\n",
    "        perimeter (_type_): _description_\n",
    "\n",
    "    Returns:\n",
    "    num_interior_points : int\n",
    "        The number of interior points in a simple polygon\n",
    "    \"\"\"\n",
    "    area = shoelace(perimeter)\n",
    "    num_perimeter_points = len(perimeter)\n",
    "    num_interior_points = abs(area) - (num_perimeter_points / 2) + 1\n",
    "\n",
    "    return int(num_interior_points)"
   ]
  },
  {
   "cell_type": "code",
   "execution_count": 6,
   "metadata": {},
   "outputs": [],
   "source": [
    "def solve1(filename):\n",
    "    dig_plan = parse(filename)\n",
    "    perimeter = list(dig_plan.keys())\n",
    "    num_interior_points = picks_theorem(perimeter)\n",
    "\n",
    "    answer = int(num_interior_points + len(perimeter))\n",
    "\n",
    "    return answer"
   ]
  },
  {
   "cell_type": "markdown",
   "metadata": {},
   "source": [
    "### Run on Test Data"
   ]
  },
  {
   "cell_type": "code",
   "execution_count": 7,
   "metadata": {},
   "outputs": [
    {
     "data": {
      "text/plain": [
       "True"
      ]
     },
     "execution_count": 7,
     "metadata": {},
     "output_type": "execute_result"
    }
   ],
   "source": [
    "solve1(\"test_dig_plan\") == 62"
   ]
  },
  {
   "cell_type": "markdown",
   "metadata": {},
   "source": [
    "### Run on Input Data"
   ]
  },
  {
   "cell_type": "code",
   "execution_count": 8,
   "metadata": {},
   "outputs": [
    {
     "data": {
      "text/plain": [
       "68115"
      ]
     },
     "execution_count": 8,
     "metadata": {},
     "output_type": "execute_result"
    }
   ],
   "source": [
    "solve1(\"dig_plan\")"
   ]
  },
  {
   "cell_type": "markdown",
   "metadata": {},
   "source": [
    "## Part 2\n",
    "---"
   ]
  },
  {
   "cell_type": "code",
   "execution_count": 9,
   "metadata": {},
   "outputs": [],
   "source": [
    "def solve2(filename):\n",
    "    r, c = 0, 0  # Start off at row 0, col 0\n",
    "    perim_len = 0  # perimeter length\n",
    "    temp = 0  # will hold intermediate calcs for shoelace formula\n",
    "\n",
    "    dirs = {\"0\" : \"R\", \"1\" : \"D\", \"2\" : \"L\", \"3\" : \"U\"}\n",
    "\n",
    "    instructions = []\n",
    "    with open(f'../inputs/{filename}.txt') as f:\n",
    "        for line in f:\n",
    "            _, _, color = line.strip().split()\n",
    "            n = int(color[2:-2], 16)\n",
    "            d = dirs[color[-2:-1]]\n",
    "            instructions.append((d, n))\n",
    "\n",
    "    # print(instructions)\n",
    "\n",
    "    for i, step in enumerate(instructions):\n",
    "        d, n = step  # d = direction, n = number of steps\n",
    "        perim_len += n\n",
    "\n",
    "        if d == \"R\":\n",
    "            c += n\n",
    "            temp += (r * (n - 1))\n",
    "            if i < len(instructions) - 1:\n",
    "                next_d = instructions[i+1][0]\n",
    "                if next_d == \"U\":\n",
    "                    temp += (r * c) - ((r-1) * c)\n",
    "                elif next_d == \"D\":\n",
    "                    temp += (r * c) - ((r+1) * c)\n",
    "\n",
    "        elif d == \"L\":\n",
    "            c -= n\n",
    "            temp += (r * (n - 1)) * -1\n",
    "            if i < len(instructions) - 1:\n",
    "                next_d = instructions[i+1][0]\n",
    "                if next_d == \"U\":\n",
    "                    temp += (r * c) - ((r-1) * c)\n",
    "                elif next_d == \"D\":\n",
    "                    temp += (r * c) - ((r+1) * c)\n",
    "\n",
    "        elif d == \"U\":\n",
    "            r -= n\n",
    "            temp += (c * (n - 1))\n",
    "            if i < len(instructions) - 1:\n",
    "                next_d = instructions[i+1][0]\n",
    "                if next_d == \"L\":\n",
    "                    temp += (r * (c-1)) - (r * c)\n",
    "                elif next_d == \"R\":\n",
    "                    temp += (r * (c+1)) - (r * c)\n",
    "\n",
    "        elif d == \"D\":\n",
    "            r += n\n",
    "            temp += (c * (n - 1)) * -1\n",
    "            if i < len(instructions) - 1:\n",
    "                next_d = instructions[i+1][0]\n",
    "                if next_d == \"L\":\n",
    "                    temp += (r * (c-1)) - (r * c)\n",
    "                elif next_d == \"R\":\n",
    "                    temp += (r * (c+1)) - (r * c)\n",
    "\n",
    "    area = temp / 2\n",
    "\n",
    "    num_interior_points = abs(area) - (perim_len / 2) + 1\n",
    "\n",
    "    return int(num_interior_points) + perim_len"
   ]
  },
  {
   "cell_type": "markdown",
   "metadata": {},
   "source": [
    "### Run on Test Data"
   ]
  },
  {
   "cell_type": "code",
   "execution_count": 10,
   "metadata": {},
   "outputs": [
    {
     "data": {
      "text/plain": [
       "True"
      ]
     },
     "execution_count": 10,
     "metadata": {},
     "output_type": "execute_result"
    }
   ],
   "source": [
    "solve2(\"test_dig_plan\") == 952_408_144_115"
   ]
  },
  {
   "cell_type": "markdown",
   "metadata": {},
   "source": [
    "### Run on Input Data"
   ]
  },
  {
   "cell_type": "code",
   "execution_count": 11,
   "metadata": {},
   "outputs": [
    {
     "data": {
      "text/plain": [
       "71262565063800"
      ]
     },
     "execution_count": 11,
     "metadata": {},
     "output_type": "execute_result"
    }
   ],
   "source": [
    "solve2(\"dig_plan\")"
   ]
  }
 ],
 "metadata": {
  "kernelspec": {
   "display_name": "Python 3.8.8 ('base')",
   "language": "python",
   "name": "python3"
  },
  "language_info": {
   "codemirror_mode": {
    "name": "ipython",
    "version": 3
   },
   "file_extension": ".py",
   "mimetype": "text/x-python",
   "name": "python",
   "nbconvert_exporter": "python",
   "pygments_lexer": "ipython3",
   "version": "3.9.13"
  },
  "vscode": {
   "interpreter": {
    "hash": "f49206fcf84a9145e7e21228cbafa911d1ac18292303b01e865d8267a9c448f7"
   }
  }
 },
 "nbformat": 4,
 "nbformat_minor": 4
}
