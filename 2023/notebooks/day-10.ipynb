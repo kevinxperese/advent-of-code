{
 "cells": [
  {
   "cell_type": "markdown",
   "metadata": {},
   "source": [
    "# --- Day 10: Pipe Maze ---\n",
    "\n",
    "https://adventofcode.com/2023/day/10"
   ]
  },
  {
   "cell_type": "markdown",
   "metadata": {},
   "source": [
    "## Parse the Input Data"
   ]
  },
  {
   "cell_type": "markdown",
   "metadata": {},
   "source": [
    "Neat trick I'm gonna try: Storing location coordinates as a complex number.  \n",
    "Source: https://stackoverflow.com/questions/75793007/what-is-the-benefit-of-using-complex-numbers-to-store-graph-coordinates"
   ]
  },
  {
   "cell_type": "code",
   "execution_count": 1,
   "metadata": {},
   "outputs": [
    {
     "name": "stdout",
     "output_type": "stream",
     "text": [
      "(1+1j)\n",
      "neighbors:\n",
      "(2+1j)\n",
      "(1+2j)\n",
      "1j\n",
      "(1+0j)\n",
      "Counter-clockwise rotation: right, top, left, bottom.\n"
     ]
    }
   ],
   "source": [
    "foo = complex(1, 1)\n",
    "print(foo)\n",
    "print(\"neighbors:\")\n",
    "for i in range(4):\n",
    "    print(foo + 1j**i)\n",
    "print(\"Counter-clockwise rotation: right, top, left, bottom.\")"
   ]
  },
  {
   "cell_type": "markdown",
   "metadata": {},
   "source": [
    "OK... Actually, I found that too difficult to debug... Not gonna use it here, rn, but might try it again at a different point..."
   ]
  },
  {
   "cell_type": "code",
   "execution_count": 2,
   "metadata": {},
   "outputs": [],
   "source": [
    "from collections import defaultdict"
   ]
  },
  {
   "cell_type": "code",
   "execution_count": 3,
   "metadata": {},
   "outputs": [],
   "source": [
    "def parse(filename):\n",
    "    \"\"\"Parse input data for puzzle.\n",
    "\n",
    "    Parameters\n",
    "    ----------\n",
    "    filename : str\n",
    "        The name of the *.txt file in the inputs/ directory.\n",
    "\n",
    "    Returns\n",
    "    -------\n",
    "    pipe_map : defaultdict, with a default value of \".\"; keys will be complex number\n",
    "    representations of x, y coordinates.\n",
    "    \"\"\"\n",
    "    # Any references that would have thrown a KeyError will create a k, v= \".\" pair\n",
    "    pipe_map = defaultdict(lambda: \".\")\n",
    "\n",
    "    with open(f'../inputs/{filename}.txt') as f:\n",
    "        for r, line in enumerate(f):\n",
    "            for c, char in enumerate(line.strip()):\n",
    "                if char != \".\":\n",
    "                    pipe_map[(r, c)] = char\n",
    "\n",
    "    return pipe_map"
   ]
  },
  {
   "cell_type": "code",
   "execution_count": 4,
   "metadata": {},
   "outputs": [
    {
     "data": {
      "text/plain": [
       "defaultdict(<function __main__.parse.<locals>.<lambda>()>,\n",
       "            {(1, 1): 'S',\n",
       "             (1, 2): '-',\n",
       "             (1, 3): '7',\n",
       "             (2, 1): '|',\n",
       "             (2, 3): '|',\n",
       "             (3, 1): 'L',\n",
       "             (3, 2): '-',\n",
       "             (3, 3): 'J'})"
      ]
     },
     "execution_count": 4,
     "metadata": {},
     "output_type": "execute_result"
    }
   ],
   "source": [
    "parse(\"test_pipe_map0\")"
   ]
  },
  {
   "cell_type": "markdown",
   "metadata": {},
   "source": [
    "## Part 1\n",
    "---"
   ]
  },
  {
   "cell_type": "code",
   "execution_count": 5,
   "metadata": {},
   "outputs": [],
   "source": [
    "def build_graph(pipe_map):\n",
    "    # Valid pipe connections\n",
    "    valid_tops = [\"|\", \"7\", \"F\", \"S\"]\n",
    "    valid_rights = [\"-\", \"7\", \"J\", \"S\"]\n",
    "    valid_bottoms = [\"|\", \"J\", \"L\", \"S\"]\n",
    "    valid_lefts = [\"-\", \"F\", \"L\", \"S\"]\n",
    "\n",
    "    valid = {\n",
    "        \"S\" : [valid_tops, valid_rights, valid_bottoms, valid_lefts],\n",
    "        \"|\" : [valid_tops, [], valid_bottoms, []],\n",
    "        \"7\" : [[], [], valid_bottoms, valid_lefts],\n",
    "        \"F\" : [[], valid_rights, valid_bottoms, []],\n",
    "        \"J\" : [valid_tops, [], [], valid_lefts],\n",
    "        \"L\" : [valid_tops, valid_rights, [], []],\n",
    "        \"-\" : [[], valid_rights, [], valid_lefts],\n",
    "        \".\" : [[], [], [], []]\n",
    "    }\n",
    "\n",
    "    graph = {}\n",
    "\n",
    "    for k in list(pipe_map.keys()):  # Convert to a list b/c defaultdict creates new dict entries\n",
    "        valid_nodes = valid[pipe_map[k]]\n",
    "        r, c = k\n",
    "        nodes = []\n",
    "        for i, deltas in enumerate([(-1, 0), (0, 1), (1, 0), (0, -1)]):\n",
    "            dr, dc = deltas\n",
    "            neighbor = (r + dr, c + dc)\n",
    "            if pipe_map[neighbor] in valid_nodes[i]:\n",
    "                if pipe_map[neighbor] == \"S\":\n",
    "                    nodes.append(\"S\")\n",
    "                else:\n",
    "                    nodes.append(neighbor)\n",
    "        # Don't add any nodes that have only a single valid node:\n",
    "        # It's a dud and we don't want to waste time with it.\n",
    "        if len(nodes) >= 2:\n",
    "             if pipe_map[k] == \"S\":\n",
    "                k = \"S\"\n",
    "             graph[k] = nodes\n",
    "\n",
    "    return graph"
   ]
  },
  {
   "cell_type": "code",
   "execution_count": 6,
   "metadata": {},
   "outputs": [
    {
     "data": {
      "text/plain": [
       "{'S': [(1, 2), (2, 1)],\n",
       " (1, 2): [(1, 3), 'S'],\n",
       " (1, 3): [(2, 3), (1, 2)],\n",
       " (2, 1): ['S', (3, 1)],\n",
       " (2, 3): [(1, 3), (3, 3)],\n",
       " (3, 1): [(2, 1), (3, 2)],\n",
       " (3, 2): [(3, 3), (3, 1)],\n",
       " (3, 3): [(2, 3), (3, 2)]}"
      ]
     },
     "execution_count": 6,
     "metadata": {},
     "output_type": "execute_result"
    }
   ],
   "source": [
    "build_graph(parse(\"test_pipe_map0\"))"
   ]
  },
  {
   "cell_type": "code",
   "execution_count": 7,
   "metadata": {},
   "outputs": [
    {
     "data": {
      "text/plain": [
       "{(0, 4): [(1, 4), (0, 3)],\n",
       " 'S': [(1, 2), (2, 1)],\n",
       " (1, 2): [(1, 3), 'S'],\n",
       " (1, 3): [(2, 3), (1, 2)],\n",
       " (1, 4): [(0, 4), (2, 4)],\n",
       " (2, 1): ['S', (3, 1)],\n",
       " (2, 3): [(1, 3), (3, 3)],\n",
       " (2, 4): [(1, 4), (3, 4)],\n",
       " (3, 1): [(2, 1), (3, 2)],\n",
       " (3, 2): [(3, 3), (3, 1)],\n",
       " (3, 3): [(2, 3), (3, 2)]}"
      ]
     },
     "execution_count": 7,
     "metadata": {},
     "output_type": "execute_result"
    }
   ],
   "source": [
    "build_graph(parse(\"test_pipe_map1\"))"
   ]
  },
  {
   "cell_type": "code",
   "execution_count": 8,
   "metadata": {},
   "outputs": [],
   "source": [
    "from collections import deque"
   ]
  },
  {
   "cell_type": "code",
   "execution_count": 9,
   "metadata": {},
   "outputs": [],
   "source": [
    "def solve1(graph):\n",
    "    \"\"\"\n",
    "    Find the loop in the graph, starting at 'S' and\n",
    "    return the number of steps to the furthest point in\n",
    "    the loop from 'S'\n",
    "    \"\"\"\n",
    "    step_count = 0\n",
    "    visited = set()\n",
    "    q = deque(\"S\")\n",
    "\n",
    "    while q:\n",
    "        node = q.popleft()\n",
    "        if node in visited:\n",
    "            return int(step_count / 2)\n",
    "        else:\n",
    "            visited.add(node)\n",
    "            next_nodes = [n for n in graph[node] if n not in visited]\n",
    "            q += next_nodes\n",
    "            step_count += 1\n"
   ]
  },
  {
   "cell_type": "markdown",
   "metadata": {},
   "source": [
    "### Run on Test Data"
   ]
  },
  {
   "cell_type": "code",
   "execution_count": 10,
   "metadata": {},
   "outputs": [
    {
     "data": {
      "text/plain": [
       "True"
      ]
     },
     "execution_count": 10,
     "metadata": {},
     "output_type": "execute_result"
    }
   ],
   "source": [
    "solve1(build_graph(parse(\"test_pipe_map0\"))) == 4"
   ]
  },
  {
   "cell_type": "code",
   "execution_count": 11,
   "metadata": {},
   "outputs": [
    {
     "data": {
      "text/plain": [
       "True"
      ]
     },
     "execution_count": 11,
     "metadata": {},
     "output_type": "execute_result"
    }
   ],
   "source": [
    "solve1(build_graph(parse(\"test_pipe_map1\"))) == 4"
   ]
  },
  {
   "cell_type": "code",
   "execution_count": 12,
   "metadata": {},
   "outputs": [
    {
     "data": {
      "text/plain": [
       "True"
      ]
     },
     "execution_count": 12,
     "metadata": {},
     "output_type": "execute_result"
    }
   ],
   "source": [
    "solve1(build_graph(parse(\"test_pipe_map2\"))) == 8"
   ]
  },
  {
   "cell_type": "code",
   "execution_count": 13,
   "metadata": {},
   "outputs": [
    {
     "data": {
      "text/plain": [
       "True"
      ]
     },
     "execution_count": 13,
     "metadata": {},
     "output_type": "execute_result"
    }
   ],
   "source": [
    "solve1(build_graph(parse(\"test_pipe_map3\"))) == 8"
   ]
  },
  {
   "cell_type": "markdown",
   "metadata": {},
   "source": [
    "### Run on Input Data"
   ]
  },
  {
   "cell_type": "code",
   "execution_count": 14,
   "metadata": {},
   "outputs": [
    {
     "data": {
      "text/plain": [
       "6856"
      ]
     },
     "execution_count": 14,
     "metadata": {},
     "output_type": "execute_result"
    }
   ],
   "source": [
    "solve1(build_graph(parse(\"pipe_map\")))"
   ]
  },
  {
   "cell_type": "markdown",
   "metadata": {},
   "source": [
    "## Part 2\n",
    "---"
   ]
  },
  {
   "cell_type": "markdown",
   "metadata": {},
   "source": [
    "My initial thought was to just get the path for the cycle and then figure out what to do next...\n",
    "\n",
    "And then nothing really came to me.\n",
    "\n",
    "So I read a bunch of hints on Reddit!\n",
    "\n",
    "This thread was the most helpful: https://www.reddit.com/r/adventofcode/comments/18ey1s7/2023_day_10_part_2_stumped_on_how_to_approach_this/\n",
    "\n",
    "Useful info/formulas:\n",
    "* [Shoelace formula](https://en.wikipedia.org/wiki/Shoelace_formula)\n",
    "* [Pick's theorem](https://en.wikipedia.org/wiki/Pick%27s_theorem)"
   ]
  },
  {
   "cell_type": "code",
   "execution_count": 15,
   "metadata": {},
   "outputs": [],
   "source": [
    "def get_loop(graph, pipe_map):\n",
    "    # First find \"S\" in pipe_map and swap the \"S\"\n",
    "    # for the actual coordinates in the graph\n",
    "    for i in pipe_map:\n",
    "        if pipe_map[i] == \"S\":\n",
    "            start = i\n",
    "            break\n",
    "\n",
    "    graph[i] = graph[\"S\"]\n",
    "    graph.pop(\"S\")\n",
    "\n",
    "    end = graph[start].pop()\n",
    "    visited = set()\n",
    "    q = deque([start])\n",
    "    paths = [[]]\n",
    "\n",
    "    while q:\n",
    "        node = q.popleft()\n",
    "        if node == \"S\":\n",
    "            node = start\n",
    "\n",
    "        if node not in visited:\n",
    "            paths.append(paths[-1] + [node])\n",
    "\n",
    "            if node == end:\n",
    "                return paths[-1]\n",
    "            else:\n",
    "                visited.add(node)\n",
    "                q += graph[node]\n"
   ]
  },
  {
   "cell_type": "code",
   "execution_count": 16,
   "metadata": {},
   "outputs": [
    {
     "data": {
      "text/plain": [
       "[(1, 1),\n",
       " (1, 2),\n",
       " (1, 3),\n",
       " (1, 4),\n",
       " (1, 5),\n",
       " (1, 6),\n",
       " (1, 7),\n",
       " (1, 8),\n",
       " (1, 9),\n",
       " (2, 9),\n",
       " (3, 9),\n",
       " (4, 9),\n",
       " (5, 9),\n",
       " (6, 9),\n",
       " (7, 9),\n",
       " (7, 8),\n",
       " (7, 7),\n",
       " (7, 6),\n",
       " (6, 6),\n",
       " (5, 6),\n",
       " (5, 7),\n",
       " (5, 8),\n",
       " (4, 8),\n",
       " (3, 8),\n",
       " (2, 8),\n",
       " (2, 7),\n",
       " (2, 6),\n",
       " (2, 5),\n",
       " (2, 4),\n",
       " (2, 3),\n",
       " (2, 2),\n",
       " (3, 2),\n",
       " (4, 2),\n",
       " (5, 2),\n",
       " (5, 3),\n",
       " (5, 4),\n",
       " (6, 4),\n",
       " (7, 4),\n",
       " (7, 3),\n",
       " (7, 2),\n",
       " (7, 1),\n",
       " (6, 1),\n",
       " (5, 1),\n",
       " (4, 1),\n",
       " (3, 1),\n",
       " (2, 1)]"
      ]
     },
     "execution_count": 16,
     "metadata": {},
     "output_type": "execute_result"
    }
   ],
   "source": [
    "get_loop(build_graph(parse(\"test_pipe_map4\")), parse(\"test_pipe_map4\"))"
   ]
  },
  {
   "cell_type": "code",
   "execution_count": 17,
   "metadata": {},
   "outputs": [],
   "source": [
    "def solve2(loop):\n",
    "\n",
    "    # First use shoelace formula to calculate the area, A, of a \"simple\" (non-overlapping) polygon.\n",
    "    temp = sum([(loop[i][0] * loop[i+1][1]) - (loop[i][1] * loop[i+1][0]) for i in range(len(loop) - 1)])\n",
    "    temp += (loop[-1][0] * loop[0][1]) - (loop[-1][1] * loop[0][0])\n",
    "    area = temp / 2\n",
    "\n",
    "    # Then use Pick's theorem to calculate the number of interior points, given the area and the number\n",
    "    # of nodes on the simple polygon.\n",
    "    num_nodes = len(loop)\n",
    "    num_interior_points = abs(area) - (num_nodes / 2) + 1\n",
    "\n",
    "    return int(num_interior_points)"
   ]
  },
  {
   "cell_type": "markdown",
   "metadata": {},
   "source": [
    "### Run on Test Data"
   ]
  },
  {
   "cell_type": "code",
   "execution_count": 18,
   "metadata": {},
   "outputs": [
    {
     "data": {
      "text/plain": [
       "True"
      ]
     },
     "execution_count": 18,
     "metadata": {},
     "output_type": "execute_result"
    }
   ],
   "source": [
    "solve2(get_loop(build_graph(parse(\"test_pipe_map4\")), parse(\"test_pipe_map4\"))) == 4"
   ]
  },
  {
   "cell_type": "code",
   "execution_count": 19,
   "metadata": {},
   "outputs": [
    {
     "data": {
      "text/plain": [
       "True"
      ]
     },
     "execution_count": 19,
     "metadata": {},
     "output_type": "execute_result"
    }
   ],
   "source": [
    "solve2(get_loop(build_graph(parse(\"test_pipe_map5\")), parse(\"test_pipe_map5\"))) == 8"
   ]
  },
  {
   "cell_type": "code",
   "execution_count": 20,
   "metadata": {},
   "outputs": [
    {
     "data": {
      "text/plain": [
       "True"
      ]
     },
     "execution_count": 20,
     "metadata": {},
     "output_type": "execute_result"
    }
   ],
   "source": [
    "solve2(get_loop(build_graph(parse(\"test_pipe_map6\")), parse(\"test_pipe_map6\"))) == 10"
   ]
  },
  {
   "cell_type": "code",
   "execution_count": 21,
   "metadata": {},
   "outputs": [
    {
     "data": {
      "text/plain": [
       "True"
      ]
     },
     "execution_count": 21,
     "metadata": {},
     "output_type": "execute_result"
    }
   ],
   "source": [
    "solve2(get_loop(build_graph(parse(\"test_pipe_map7\")), parse(\"test_pipe_map7\"))) == 4"
   ]
  },
  {
   "cell_type": "markdown",
   "metadata": {},
   "source": [
    "### Run on Input Data"
   ]
  },
  {
   "cell_type": "code",
   "execution_count": 22,
   "metadata": {},
   "outputs": [
    {
     "data": {
      "text/plain": [
       "501"
      ]
     },
     "execution_count": 22,
     "metadata": {},
     "output_type": "execute_result"
    }
   ],
   "source": [
    "solve2(get_loop(build_graph(parse(\"pipe_map\")), parse(\"pipe_map\")))"
   ]
  }
 ],
 "metadata": {
  "kernelspec": {
   "display_name": "Python 3.8.8 ('base')",
   "language": "python",
   "name": "python3"
  },
  "language_info": {
   "codemirror_mode": {
    "name": "ipython",
    "version": 3
   },
   "file_extension": ".py",
   "mimetype": "text/x-python",
   "name": "python",
   "nbconvert_exporter": "python",
   "pygments_lexer": "ipython3",
   "version": "3.9.13"
  },
  "vscode": {
   "interpreter": {
    "hash": "f49206fcf84a9145e7e21228cbafa911d1ac18292303b01e865d8267a9c448f7"
   }
  }
 },
 "nbformat": 4,
 "nbformat_minor": 4
}
