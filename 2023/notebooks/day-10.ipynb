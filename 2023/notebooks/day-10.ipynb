{
 "cells": [
  {
   "cell_type": "markdown",
   "metadata": {},
   "source": [
    "# --- Day 10: Pipe Maze ---\n",
    "\n",
    "https://adventofcode.com/2023/day/10"
   ]
  },
  {
   "cell_type": "markdown",
   "metadata": {},
   "source": [
    "## Parse the Input Data"
   ]
  },
  {
   "cell_type": "markdown",
   "metadata": {},
   "source": [
    "Neat trick I'm gonna try: Storing location coordinates as a complex number.  \n",
    "Source: https://stackoverflow.com/questions/75793007/what-is-the-benefit-of-using-complex-numbers-to-store-graph-coordinates"
   ]
  },
  {
   "cell_type": "code",
   "execution_count": 53,
   "metadata": {},
   "outputs": [
    {
     "name": "stdout",
     "output_type": "stream",
     "text": [
      "(1+1j)\n",
      "neighbors:\n",
      "(2+1j)\n",
      "(1+2j)\n",
      "1j\n",
      "(1+0j)\n",
      "Nicely aligns with clockwise rotation: top, right, bottom, left.\n"
     ]
    }
   ],
   "source": [
    "foo = complex(1, 1)\n",
    "print(foo)\n",
    "print(\"neighbors:\")\n",
    "for i in range(4):\n",
    "    print(foo + 1j**i)\n",
    "print(\"Counter-clockwise rotation: right, top, left, bottom.\")"
   ]
  },
  {
   "cell_type": "markdown",
   "metadata": {},
   "source": [
    "OK... Actually, I found that too difficult to debug... Not gonna use it here, rn, but might try it again at a different point..."
   ]
  },
  {
   "cell_type": "code",
   "execution_count": 39,
   "metadata": {},
   "outputs": [],
   "source": [
    "from collections import defaultdict"
   ]
  },
  {
   "cell_type": "code",
   "execution_count": 73,
   "metadata": {},
   "outputs": [],
   "source": [
    "def parse(filename):\n",
    "    \"\"\"Parse input data for puzzle.\n",
    "\n",
    "    Parameters\n",
    "    ----------\n",
    "    filename : str\n",
    "        The name of the *.txt file in the inputs/ directory.\n",
    "\n",
    "    Returns\n",
    "    -------\n",
    "    pipe_map : defaultdict, with a default value of \".\"; keys will be complex number\n",
    "    representations of x, y coordinates.\n",
    "    \"\"\"\n",
    "    # Any references that would have thrown a KeyError will create a k, v= \".\" pair\n",
    "    pipe_map = defaultdict(lambda: \".\")\n",
    "\n",
    "    with open(f'../inputs/{filename}.txt') as f:\n",
    "        for r, line in enumerate(f):\n",
    "            for c, char in enumerate(line.strip()):\n",
    "                if char != \".\":\n",
    "                    pipe_map[(r, c)] = char\n",
    "\n",
    "    return pipe_map"
   ]
  },
  {
   "cell_type": "code",
   "execution_count": 74,
   "metadata": {},
   "outputs": [
    {
     "data": {
      "text/plain": [
       "defaultdict(<function __main__.parse.<locals>.<lambda>()>,\n",
       "            {(1, 1): 'S',\n",
       "             (1, 2): '-',\n",
       "             (1, 3): '7',\n",
       "             (2, 1): '|',\n",
       "             (2, 3): '|',\n",
       "             (3, 1): 'L',\n",
       "             (3, 2): '-',\n",
       "             (3, 3): 'J'})"
      ]
     },
     "execution_count": 74,
     "metadata": {},
     "output_type": "execute_result"
    }
   ],
   "source": [
    "parse(\"test_pipe_map0\")"
   ]
  },
  {
   "cell_type": "markdown",
   "metadata": {},
   "source": [
    "## Part 1\n",
    "---"
   ]
  },
  {
   "cell_type": "code",
   "execution_count": 66,
   "metadata": {},
   "outputs": [],
   "source": [
    "from collections import defaultdict"
   ]
  },
  {
   "cell_type": "code",
   "execution_count": 96,
   "metadata": {},
   "outputs": [],
   "source": [
    "def build_graph(pipe_map):\n",
    "    # Valid pipe connections\n",
    "    valid_tops = [\"|\", \"7\", \"F\", \"S\"]\n",
    "    valid_rights = [\"-\", \"7\", \"J\", \"S\"]\n",
    "    valid_bottoms = [\"|\", \"J\", \"L\", \"S\"]\n",
    "    valid_lefts = [\"-\", \"F\", \"L\", \"S\"]\n",
    "\n",
    "    valid = {\n",
    "        \"S\" : [valid_tops, valid_rights, valid_bottoms, valid_lefts],\n",
    "        \"|\" : [valid_tops, [], valid_bottoms, []],\n",
    "        \"7\" : [[], [], valid_bottoms, valid_lefts],\n",
    "        \"F\" : [[], valid_rights, valid_bottoms, []],\n",
    "        \"J\" : [valid_tops, [], [], valid_lefts],\n",
    "        \"L\" : [valid_tops, valid_rights, [], []],\n",
    "        \"-\" : [[], valid_rights, [], valid_lefts],\n",
    "        \".\" : [[], [], [], []]\n",
    "    }\n",
    "\n",
    "    graph = {}\n",
    "\n",
    "    for k in list(pipe_map.keys()):  # Convert to a list b/c defaultdict creates new dict entries\n",
    "        valid_nodes = valid[pipe_map[k]]\n",
    "        r, c = k\n",
    "        nodes = []\n",
    "        for i, deltas in enumerate([(-1, 0), (0, 1), (1, 0), (0, -1)]):\n",
    "            dr, dc = deltas\n",
    "            neighbor = (r + dr, c + dc)\n",
    "            if pipe_map[neighbor] in valid_nodes[i]:\n",
    "                nodes.append(neighbor)\n",
    "        # Don't add any nodes that have only a single valid node:\n",
    "        # It's a dud and we don't want to waste time with it.\n",
    "        if len(nodes) >= 2:\n",
    "             graph[k] = nodes\n",
    "\n",
    "    return graph"
   ]
  },
  {
   "cell_type": "code",
   "execution_count": 97,
   "metadata": {},
   "outputs": [
    {
     "data": {
      "text/plain": [
       "{(1, 1): [(1, 2), (2, 1)],\n",
       " (1, 2): [(1, 3), (1, 1)],\n",
       " (1, 3): [(2, 3), (1, 2)],\n",
       " (2, 1): [(1, 1), (3, 1)],\n",
       " (2, 3): [(1, 3), (3, 3)],\n",
       " (3, 1): [(2, 1), (3, 2)],\n",
       " (3, 2): [(3, 3), (3, 1)],\n",
       " (3, 3): [(2, 3), (3, 2)]}"
      ]
     },
     "execution_count": 97,
     "metadata": {},
     "output_type": "execute_result"
    }
   ],
   "source": [
    "build_graph(parse(\"test_pipe_map0\"))"
   ]
  },
  {
   "cell_type": "code",
   "execution_count": 92,
   "metadata": {},
   "outputs": [],
   "source": [
    "def solve1(graph):\n",
    "    \"\"\"\n",
    "    Find the loop in the graph, starting at 'S' and\n",
    "    return the number of steps to the furthest point in\n",
    "    the loop from 'S'\n",
    "    \"\"\"\n",
    "    loop_length = 0\n",
    "\n",
    "    return loop_length // 2 + 1"
   ]
  },
  {
   "cell_type": "markdown",
   "metadata": {},
   "source": [
    "### Run on Test Data"
   ]
  },
  {
   "cell_type": "code",
   "execution_count": null,
   "metadata": {},
   "outputs": [],
   "source": [
    "solve1(build_graph(parse(\"test_pipe_maze0\"))) = 4"
   ]
  },
  {
   "cell_type": "code",
   "execution_count": null,
   "metadata": {},
   "outputs": [],
   "source": [
    "solve1(build_graph(parse(\"test_pipe_maze1\"))) = 4"
   ]
  },
  {
   "cell_type": "code",
   "execution_count": null,
   "metadata": {},
   "outputs": [],
   "source": [
    "solve1(build_graph(parse(\"test_pipe_maze2\"))) = 8"
   ]
  },
  {
   "cell_type": "code",
   "execution_count": null,
   "metadata": {},
   "outputs": [],
   "source": [
    "solve1(build_graph(parse(\"test_pipe_maze3\"))) = 8"
   ]
  },
  {
   "cell_type": "markdown",
   "metadata": {},
   "source": [
    "### Run on Input Data"
   ]
  },
  {
   "cell_type": "code",
   "execution_count": null,
   "metadata": {},
   "outputs": [],
   "source": [
    "solve1(build_graph(parse_input(\"test_pipe_maze  \")))"
   ]
  },
  {
   "cell_type": "markdown",
   "metadata": {},
   "source": [
    "## Part 2\n",
    "---"
   ]
  },
  {
   "cell_type": "code",
   "execution_count": null,
   "metadata": {},
   "outputs": [],
   "source": []
  },
  {
   "cell_type": "markdown",
   "metadata": {},
   "source": [
    "### Run on Test Data"
   ]
  },
  {
   "cell_type": "code",
   "execution_count": null,
   "metadata": {},
   "outputs": [],
   "source": []
  },
  {
   "cell_type": "markdown",
   "metadata": {},
   "source": [
    "### Run on Input Data"
   ]
  },
  {
   "cell_type": "code",
   "execution_count": null,
   "metadata": {},
   "outputs": [],
   "source": []
  }
 ],
 "metadata": {
  "kernelspec": {
   "display_name": "Python 3.8.8 ('base')",
   "language": "python",
   "name": "python3"
  },
  "language_info": {
   "codemirror_mode": {
    "name": "ipython",
    "version": 3
   },
   "file_extension": ".py",
   "mimetype": "text/x-python",
   "name": "python",
   "nbconvert_exporter": "python",
   "pygments_lexer": "ipython3",
   "version": "3.9.13"
  },
  "vscode": {
   "interpreter": {
    "hash": "f49206fcf84a9145e7e21228cbafa911d1ac18292303b01e865d8267a9c448f7"
   }
  }
 },
 "nbformat": 4,
 "nbformat_minor": 4
}
