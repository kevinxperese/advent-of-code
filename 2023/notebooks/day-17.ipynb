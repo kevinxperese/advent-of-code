{
 "cells": [
  {
   "cell_type": "markdown",
   "metadata": {},
   "source": [
    "# --- Day 17: Clumsy Crucible ---\n",
    "\n",
    "https://adventofcode.com/2023/day/17"
   ]
  },
  {
   "cell_type": "markdown",
   "metadata": {},
   "source": [
    "## Parse the Input Data"
   ]
  },
  {
   "cell_type": "code",
   "execution_count": 1,
   "metadata": {},
   "outputs": [],
   "source": [
    "def parse(filename):\n",
    "    \"\"\"Parse input data for puzzle.\n",
    "\n",
    "    Parameters\n",
    "    ----------\n",
    "    filename : str\n",
    "        The name of the *.txt file in the inputs/ directory.\n",
    "\n",
    "    Returns\n",
    "    -------\n",
    "    city_map : list\n",
    "        Each element (row) is a list of integers.\n",
    "    \"\"\"\n",
    "    city_map = []\n",
    "    with open(f'../inputs/{filename}.txt') as f:\n",
    "        for line in f:\n",
    "            city_map.append([int(c) for c in line.strip()])\n",
    "    return city_map"
   ]
  },
  {
   "cell_type": "code",
   "execution_count": 2,
   "metadata": {},
   "outputs": [
    {
     "data": {
      "text/plain": [
       "[[2, 4, 1, 3, 4, 3, 2, 3, 1, 1, 3, 2, 3],\n",
       " [3, 2, 1, 5, 4, 5, 3, 5, 3, 5, 6, 2, 3],\n",
       " [3, 2, 5, 5, 2, 4, 5, 6, 5, 4, 2, 5, 4],\n",
       " [3, 4, 4, 6, 5, 8, 5, 8, 4, 5, 4, 5, 2],\n",
       " [4, 5, 4, 6, 6, 5, 7, 8, 6, 7, 5, 3, 6],\n",
       " [1, 4, 3, 8, 5, 9, 8, 7, 9, 8, 4, 5, 4],\n",
       " [4, 4, 5, 7, 8, 7, 6, 9, 8, 7, 7, 6, 6],\n",
       " [3, 6, 3, 7, 8, 7, 7, 9, 7, 9, 6, 5, 3],\n",
       " [4, 6, 5, 4, 9, 6, 7, 9, 8, 6, 8, 8, 7],\n",
       " [4, 5, 6, 4, 6, 7, 9, 9, 8, 6, 4, 5, 3],\n",
       " [1, 2, 2, 4, 6, 8, 6, 8, 6, 5, 5, 6, 3],\n",
       " [2, 5, 4, 6, 5, 4, 8, 8, 8, 7, 7, 3, 5],\n",
       " [4, 3, 2, 2, 6, 7, 4, 6, 5, 5, 5, 3, 3]]"
      ]
     },
     "execution_count": 2,
     "metadata": {},
     "output_type": "execute_result"
    }
   ],
   "source": [
    "parse(\"test_city_map\")"
   ]
  },
  {
   "cell_type": "markdown",
   "metadata": {},
   "source": [
    "## Part 1\n",
    "---"
   ]
  },
  {
   "cell_type": "code",
   "execution_count": 3,
   "metadata": {},
   "outputs": [],
   "source": [
    "adjacents = {\n",
    "    \"U\" : {\"deltas\" : [(0, -1), (-1, 0), (0, 1)], \"dirs\" : [\"L\", \"U\", \"R\"]},\n",
    "    \"D\" : {\"deltas\" : [(0, 1), (1, 0), (0, -1)],  \"dirs\" : [\"R\", \"D\", \"L\"]},\n",
    "    \"L\" : {\"deltas\" : [(1, 0), (0, -1), (-1, 0)],  \"dirs\" : [\"D\", \"L\", \"U\"]},\n",
    "    \"R\" : {\"deltas\" : [(-1, 0), (0, 1), (1, 0)], \"dirs\" :  [\"U\", \"R\", \"D\"]}\n",
    "}"
   ]
  },
  {
   "cell_type": "code",
   "execution_count": 4,
   "metadata": {},
   "outputs": [],
   "source": [
    "def possible(city_map, r, c, d, n):\n",
    "    w = len(city_map[0]) - 1  # width/max col\n",
    "    h = len(city_map) - 1  # height/max row\n",
    "\n",
    "    # Gotta stay on the map\n",
    "    if not 0 <= r <= h:\n",
    "        return False\n",
    "    elif not 0 <= c <= w:\n",
    "        return False\n",
    "\n",
    "    elif (\n",
    "        (r == 0 and d == \"D\") or  # At row 0, there can't be any nodes heading in the down direction\n",
    "        (r == h and d == \"U\") or  # At row height, there can't be any nodes heading in the up direction\n",
    "        (c == 0 and d == \"R\") or  # At col 0, there can't be any nodes heading in the up right direction\n",
    "        (c == w and d == \"L\")     # At col width, there can't be any nodes heading in the left direction\n",
    "    ):\n",
    "        return False\n",
    "\n",
    "    # There are limits to how long you can be traveling in a direction, when you're near an edge...\n",
    "    elif d == \"R\" and n > c + 1:\n",
    "        return False\n",
    "    elif d == \"D\" and n > r + 1:\n",
    "        return False\n",
    "    elif d == \"L\" and n > w - c + 1:\n",
    "        return False\n",
    "    elif d == \"U\" and n > h - r + 1:\n",
    "        return False\n",
    "    else:\n",
    "        return True"
   ]
  },
  {
   "cell_type": "code",
   "execution_count": 5,
   "metadata": {},
   "outputs": [],
   "source": [
    "def build_graph(city_map):\n",
    "    \"\"\"Build graph where each node is represented as:\n",
    "        (pos, dir, num_steps_in_dir)\n",
    "    \"\"\"\n",
    "    graph = {}\n",
    "\n",
    "    for r, line in enumerate(city_map):\n",
    "        for c, _ in enumerate(line):\n",
    "            p = (r, c)\n",
    "            for d in [\"U\", \"R\", \"D\", \"L\"]:\n",
    "                for n in range(1, 4):\n",
    "                    if possible(city_map, r, c, d, n):\n",
    "                        graph[(p, d, n)] = {}\n",
    "\n",
    "                        for _n in range(3):\n",
    "                            delta = adjacents[d][\"deltas\"][_n]\n",
    "                            _dir = adjacents[d][\"dirs\"][_n]\n",
    "\n",
    "                            neigh = (p[0] + delta[0], p[1] + delta[1])\n",
    "                            if possible(city_map, *neigh, _dir, _n):\n",
    "                                if _dir == d:\n",
    "                                    if n == 3:\n",
    "                                        pass\n",
    "                                    else:\n",
    "                                        graph[(p, d, n)][(neigh, _dir, n+1)] = city_map[neigh[0]][neigh[1]]\n",
    "                                else:\n",
    "                                    graph[(p, d, n)][(neigh, _dir, 1)] = city_map[neigh[0]][neigh[1]]\n",
    "\n",
    "    return graph"
   ]
  },
  {
   "cell_type": "code",
   "execution_count": 6,
   "metadata": {},
   "outputs": [],
   "source": [
    "# Debuggin'\n",
    "# build_graph(parse(\"test_city_map\"))"
   ]
  },
  {
   "cell_type": "code",
   "execution_count": 7,
   "metadata": {},
   "outputs": [],
   "source": [
    "import heapq"
   ]
  },
  {
   "cell_type": "code",
   "execution_count": 8,
   "metadata": {},
   "outputs": [],
   "source": [
    "def solve1(filename, debug=False):\n",
    "    city_map = parse(filename)\n",
    "    graph = build_graph(city_map)\n",
    "\n",
    "    start = ((0, 0), \"U\", 1)\n",
    "\n",
    "    # Initialize all distances to infinity, except for the start node,\n",
    "    # which is initialized to 0\n",
    "    distances = {node: float('infinity') for node in graph}\n",
    "    distances[start] = 0\n",
    "\n",
    "    # Queue with priority scores (distances)\n",
    "    priority_queue = [(0, start)]\n",
    "\n",
    "    # Loop until priority queue is empty\n",
    "    while priority_queue:\n",
    "        # heapq, below, implements a binary heap, which is a data structure that\n",
    "        # keeps elements in (priority) order, so the .heappop() method is\n",
    "        # always taking off the *lowest* priority element in the queue (instaed)\n",
    "        # of always taking the element based on insert order.\n",
    "        current_distance, current_node = heapq.heappop(priority_queue)\n",
    "\n",
    "        # If current distance is greater than the stored distance, skip\n",
    "        if current_distance > distances[current_node]:\n",
    "            continue\n",
    "\n",
    "        for neighbor, weight in graph[current_node].items():\n",
    "            distance = current_distance + weight\n",
    "\n",
    "            # If a shorter path is found\n",
    "            if distance < distances[neighbor]:\n",
    "                distances[neighbor] = distance\n",
    "                heapq.heappush(priority_queue, (distance, neighbor))\n",
    "\n",
    "    max_row = len(city_map) - 1\n",
    "    max_col = len(city_map[0]) - 1\n",
    "    if debug: print([(k, v) for k, v in distances.items() if k[0] == (max_row, max_col)])\n",
    "\n",
    "    return min([v for k, v in distances.items() if k[0] == (max_row, max_col)])"
   ]
  },
  {
   "cell_type": "markdown",
   "metadata": {},
   "source": [
    "### Run on Test Data"
   ]
  },
  {
   "cell_type": "code",
   "execution_count": 9,
   "metadata": {},
   "outputs": [
    {
     "data": {
      "text/plain": [
       "True"
      ]
     },
     "execution_count": 9,
     "metadata": {},
     "output_type": "execute_result"
    }
   ],
   "source": [
    "solve1(\"test_city_map\") == 102"
   ]
  },
  {
   "cell_type": "markdown",
   "metadata": {},
   "source": [
    "### Run on Input Data"
   ]
  },
  {
   "cell_type": "code",
   "execution_count": 10,
   "metadata": {},
   "outputs": [
    {
     "data": {
      "text/plain": [
       "785"
      ]
     },
     "execution_count": 10,
     "metadata": {},
     "output_type": "execute_result"
    }
   ],
   "source": [
    "solve1(\"city_map\")"
   ]
  },
  {
   "cell_type": "markdown",
   "metadata": {},
   "source": [
    "## Part 2\n",
    "---"
   ]
  },
  {
   "cell_type": "code",
   "execution_count": null,
   "metadata": {},
   "outputs": [],
   "source": []
  },
  {
   "cell_type": "markdown",
   "metadata": {},
   "source": [
    "### Run on Test Data"
   ]
  },
  {
   "cell_type": "code",
   "execution_count": null,
   "metadata": {},
   "outputs": [],
   "source": []
  },
  {
   "cell_type": "markdown",
   "metadata": {},
   "source": [
    "### Run on Input Data"
   ]
  },
  {
   "cell_type": "code",
   "execution_count": null,
   "metadata": {},
   "outputs": [],
   "source": []
  }
 ],
 "metadata": {
  "kernelspec": {
   "display_name": "Python 3.8.8 ('base')",
   "language": "python",
   "name": "python3"
  },
  "language_info": {
   "codemirror_mode": {
    "name": "ipython",
    "version": 3
   },
   "file_extension": ".py",
   "mimetype": "text/x-python",
   "name": "python",
   "nbconvert_exporter": "python",
   "pygments_lexer": "ipython3",
   "version": "3.9.13"
  },
  "vscode": {
   "interpreter": {
    "hash": "f49206fcf84a9145e7e21228cbafa911d1ac18292303b01e865d8267a9c448f7"
   }
  }
 },
 "nbformat": 4,
 "nbformat_minor": 4
}
