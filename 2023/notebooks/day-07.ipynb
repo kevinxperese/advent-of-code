{
 "cells": [
  {
   "cell_type": "markdown",
   "metadata": {},
   "source": [
    "# --- Day 7: Camal Cards ---\n",
    "\n",
    "https://adventofcode.com/2023/day/7"
   ]
  },
  {
   "cell_type": "markdown",
   "metadata": {},
   "source": [
    "## Part 1\n",
    "---"
   ]
  },
  {
   "cell_type": "code",
   "execution_count": 1,
   "metadata": {},
   "outputs": [],
   "source": [
    "import re"
   ]
  },
  {
   "cell_type": "code",
   "execution_count": 2,
   "metadata": {},
   "outputs": [],
   "source": [
    "def parse_and_solve1(filename):\n",
    "    \"\"\"Parse input data for puzzle and solve it!\n",
    "\n",
    "    Parameters\n",
    "    ----------\n",
    "    filename : str\n",
    "        The name of the *.txt file in the inputs/ directory.\n",
    "\n",
    "    Returns\n",
    "    -------\n",
    "    total_winnings : int\n",
    "    \"\"\"\n",
    "    hands = []\n",
    "\n",
    "    with open(f'../inputs/{filename}.txt') as _file:\n",
    "        for i, line in enumerate(_file):\n",
    "            hand, bid = line.split()[0], int(line.split()[1])\n",
    "            hand = hand.replace(\"A\", \"Z\").replace(\"K\", \"Y\").replace(\"Q\", \"X\").replace(\"J\", \"W\").replace(\"T\", \"V\")\n",
    "            hand_sorted = \"\".join(sorted(hand))\n",
    "\n",
    "            if re.match(r\"(.)\\1{4}\", hand_sorted):\n",
    "                hand_type = 7  # Five of a kind\n",
    "            elif re.search(r\"(.)\\1{3}\", hand_sorted):\n",
    "                hand_type = 6  # Four of a kind\n",
    "            elif re.match(r\"(.)\\1\\1(.)\\2\", hand_sorted) or re.match(r\"(.)\\1(.)\\2\\2\", hand_sorted):\n",
    "                hand_type = 5  # Full house\n",
    "            elif re.search(r\"(.)\\1\\1\", hand_sorted):\n",
    "                hand_type = 4  # Three of a kind\n",
    "            elif re.search(r\".?(.)\\1.?(.)\\2\", hand_sorted):\n",
    "                hand_type = 3  # Two pairs\n",
    "            elif re.search(r\"(.)\\1\", hand_sorted):\n",
    "                hand_type = 2  # One pair\n",
    "            else:\n",
    "                hand_type = 1  # Highest card\n",
    "\n",
    "            hands.append((hand_type, hand, bid))\n",
    "    \n",
    "    hands_sorted = sorted(hands)\n",
    "\n",
    "    total_winnings = 0\n",
    "    for i, hand in enumerate(hands_sorted):\n",
    "        total_winnings += (i + 1) * hand[2] \n",
    "        \n",
    "    return total_winnings"
   ]
  },
  {
   "cell_type": "markdown",
   "metadata": {},
   "source": [
    "### Run on Test Data"
   ]
  },
  {
   "cell_type": "code",
   "execution_count": 3,
   "metadata": {},
   "outputs": [
    {
     "data": {
      "text/plain": [
       "True"
      ]
     },
     "execution_count": 3,
     "metadata": {},
     "output_type": "execute_result"
    }
   ],
   "source": [
    "parse_and_solve1(\"test_camal_cards\") == 6440"
   ]
  },
  {
   "cell_type": "markdown",
   "metadata": {},
   "source": [
    "### Run on Input Data"
   ]
  },
  {
   "cell_type": "code",
   "execution_count": 4,
   "metadata": {},
   "outputs": [
    {
     "data": {
      "text/plain": [
       "251106089"
      ]
     },
     "execution_count": 4,
     "metadata": {},
     "output_type": "execute_result"
    }
   ],
   "source": [
    "parse_and_solve1(\"camal_cards\")"
   ]
  },
  {
   "cell_type": "markdown",
   "metadata": {},
   "source": [
    "## Part 2\n",
    "---"
   ]
  },
  {
   "cell_type": "code",
   "execution_count": 5,
   "metadata": {},
   "outputs": [],
   "source": [
    "def parse_and_solve2(filename):\n",
    "    \"\"\"Parse input data for puzzle and solve it!\n",
    "    This time with Jokers!\n",
    "\n",
    "    Parameters\n",
    "    ----------\n",
    "    filename : str\n",
    "        The name of the *.txt file in the inputs/ directory.\n",
    "\n",
    "    Returns\n",
    "    -------\n",
    "    total_winnings : int\n",
    "    \"\"\"\n",
    "    hands = []\n",
    "\n",
    "    with open(f'../inputs/{filename}.txt') as _file:\n",
    "        for i, line in enumerate(_file):\n",
    "            hand, bid = line.split()[0], int(line.split()[1])\n",
    "            hand = hand.replace(\"A\", \"Z\").replace(\"K\", \"Y\").replace(\"Q\", \"X\").replace(\"J\", \"1\").replace(\"T\", \"V\")\n",
    "            hand_sorted = \"\".join(sorted(hand, reverse=True))\n",
    "\n",
    "            if re.match(r\"(.)\\1{4}\", hand_sorted):\n",
    "                hand_type = 7  # Five of a kind\n",
    "            elif re.search(r\"(.)\\1{3}\", hand_sorted):\n",
    "                if hand_sorted[-1] == '1':\n",
    "                    hand_type = 7  # Five of a kind\n",
    "                else:\n",
    "                    hand_type = 6  # Four of a kind\n",
    "            elif re.match(r\"(.)\\1\\1(.)\\2\", hand_sorted) or re.match(r\"(.)\\1(.)\\2\\2\", hand_sorted):\n",
    "                if hand_sorted.endswith(\"111\") or hand_sorted.endswith(\"11\"):\n",
    "                    hand_type = 7  # Five of a kind\n",
    "                elif hand_sorted.endswith(\"1\"):\n",
    "                    hand_type = 6  # Four of a kind\n",
    "                else:\n",
    "                    hand_type = 5  # Full house\n",
    "            elif re.search(r\"(.)\\1\\1\", hand_sorted):\n",
    "                if hand_sorted.endswith(\"111\"):\n",
    "                    hand_type = 6  # Four of a kind\n",
    "                elif hand_sorted.endswith(\"11\"):\n",
    "                    hand_type = 7  # Five of a kind\n",
    "                elif hand_sorted.endswith(\"1\"):\n",
    "                    hand_type = 6  # Four of a kind\n",
    "                else: \n",
    "                    hand_type = 4  # Three of a kind\n",
    "            elif re.search(r\".?(.)\\1.?(.)\\2\", hand_sorted):\n",
    "                if hand_sorted.endswith(\"11\"):\n",
    "                    hand_type = 6  # Four of a kind\n",
    "                elif hand_sorted.endswith(\"1\"):\n",
    "                    hand_type = 5  # Full house\n",
    "                else:    \n",
    "                    hand_type = 3  # Two pairs\n",
    "            elif re.search(r\"(.)\\1\", hand_sorted):\n",
    "                if hand_sorted.endswith(\"1\"):\n",
    "                    hand_type = 4  # Three of a kind\n",
    "                else:\n",
    "                    hand_type = 2  # One pair\n",
    "            else:\n",
    "                if hand_sorted.endswith(\"1\"):\n",
    "                    hand_type = 2  # One pair\n",
    "                else:\n",
    "                    hand_type = 1  # Highest card\n",
    "\n",
    "            hands.append((hand_type, hand, bid))\n",
    "    \n",
    "    hands_sorted = sorted(hands)\n",
    "\n",
    "    total_winnings = 0\n",
    "    for i, hand in enumerate(hands_sorted):\n",
    "        total_winnings += (i + 1) * hand[2] \n",
    "        \n",
    "    return total_winnings"
   ]
  },
  {
   "cell_type": "markdown",
   "metadata": {},
   "source": [
    "### Run on Test Data"
   ]
  },
  {
   "cell_type": "code",
   "execution_count": 6,
   "metadata": {},
   "outputs": [
    {
     "data": {
      "text/plain": [
       "True"
      ]
     },
     "execution_count": 6,
     "metadata": {},
     "output_type": "execute_result"
    }
   ],
   "source": [
    "parse_and_solve2(\"test_camal_cards\") == 5905"
   ]
  },
  {
   "cell_type": "markdown",
   "metadata": {},
   "source": [
    "### Run on Input Data"
   ]
  },
  {
   "cell_type": "code",
   "execution_count": 7,
   "metadata": {},
   "outputs": [
    {
     "data": {
      "text/plain": [
       "249620106"
      ]
     },
     "execution_count": 7,
     "metadata": {},
     "output_type": "execute_result"
    }
   ],
   "source": [
    "parse_and_solve2(\"camal_cards\")"
   ]
  }
 ],
 "metadata": {
  "kernelspec": {
   "display_name": "Python 3.8.8 ('base')",
   "language": "python",
   "name": "python3"
  },
  "language_info": {
   "codemirror_mode": {
    "name": "ipython",
    "version": 3
   },
   "file_extension": ".py",
   "mimetype": "text/x-python",
   "name": "python",
   "nbconvert_exporter": "python",
   "pygments_lexer": "ipython3",
   "version": "3.9.13"
  },
  "vscode": {
   "interpreter": {
    "hash": "f49206fcf84a9145e7e21228cbafa911d1ac18292303b01e865d8267a9c448f7"
   }
  }
 },
 "nbformat": 4,
 "nbformat_minor": 4
}
