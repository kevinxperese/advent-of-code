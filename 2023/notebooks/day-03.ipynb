{
 "cells": [
  {
   "cell_type": "markdown",
   "metadata": {},
   "source": [
    "# --- Day 3: Gear Ratios ---\n",
    "\n",
    "https://adventofcode.com/2023/day/3"
   ]
  },
  {
   "cell_type": "markdown",
   "metadata": {},
   "source": [
    "## Parse the Input Data"
   ]
  },
  {
   "cell_type": "code",
   "execution_count": 1,
   "metadata": {},
   "outputs": [],
   "source": [
    "import re  # ALl re, all the time..."
   ]
  },
  {
   "cell_type": "code",
   "execution_count": 2,
   "metadata": {},
   "outputs": [],
   "source": [
    "def parse_input(filename, print_engine=False):\n",
    "    \"\"\"Parse input data for puzzle.\n",
    "\n",
    "    Parameters\n",
    "    ----------\n",
    "    filename : str\n",
    "        The name of the *.txt file in the inputs/ directory.\n",
    "\n",
    "    Returns\n",
    "    -------\n",
    "    numbers, symbols : dict, set\n",
    "        numbers.keys = (r, c range); numbers.values = int\n",
    "        symbols = (r, c) location of all the symbols\n",
    "    \"\"\"\n",
    "    numbers = {}\n",
    "    symbols = set()\n",
    "\n",
    "    with open(f'../inputs/{filename}.txt') as _file:\n",
    "        for r, line in enumerate(_file):\n",
    "            if print_engine == True: print(line.strip())\n",
    " \n",
    "            nums = re.finditer(\"\\d+\", line)\n",
    "            symbs = re.finditer(r\"[^\\d\\.]\", line.strip())\n",
    "\n",
    "            for num in nums:\n",
    "                numbers[(r, num.span())] = int(num.group())\n",
    "            \n",
    "            for symb in symbs:\n",
    "                symbols.add((r, symb.span()[0]))\n",
    "    \n",
    "    return numbers, symbols"
   ]
  },
  {
   "cell_type": "code",
   "execution_count": 3,
   "metadata": {},
   "outputs": [
    {
     "name": "stdout",
     "output_type": "stream",
     "text": [
      "467..114..\n",
      "...*......\n",
      "..35..633.\n",
      "......#...\n",
      "617*......\n",
      ".....+.58.\n",
      "..592.....\n",
      "......755.\n",
      "...$.*....\n",
      ".664.598..\n"
     ]
    },
    {
     "data": {
      "text/plain": [
       "({(0, (0, 3)): 467,\n",
       "  (0, (5, 8)): 114,\n",
       "  (2, (2, 4)): 35,\n",
       "  (2, (6, 9)): 633,\n",
       "  (4, (0, 3)): 617,\n",
       "  (5, (7, 9)): 58,\n",
       "  (6, (2, 5)): 592,\n",
       "  (7, (6, 9)): 755,\n",
       "  (9, (1, 4)): 664,\n",
       "  (9, (5, 8)): 598},\n",
       " {(1, 3), (3, 6), (4, 3), (5, 5), (8, 3), (8, 5)})"
      ]
     },
     "execution_count": 3,
     "metadata": {},
     "output_type": "execute_result"
    }
   ],
   "source": [
    "parse_input(\"test_engine_schematic\", print_engine=True)"
   ]
  },
  {
   "cell_type": "markdown",
   "metadata": {},
   "source": [
    "## Part 1\n",
    "---"
   ]
  },
  {
   "cell_type": "code",
   "execution_count": 4,
   "metadata": {},
   "outputs": [],
   "source": [
    "neighbors = [ # row, col\n",
    "    (1, 0), # top\n",
    "    (1, 1), \n",
    "    (0, 1), # right\n",
    "    (-1, 1), \n",
    "    (-1, 0), # bottom\n",
    "    (-1, -1),\n",
    "    (0, -1),  # left\n",
    "    (1, -1) \n",
    "]"
   ]
  },
  {
   "cell_type": "code",
   "execution_count": 5,
   "metadata": {},
   "outputs": [],
   "source": [
    "def solve1(numbers, symbols):\n",
    "    answer = 0\n",
    "\n",
    "    # Check each number\n",
    "    for num_key in numbers.keys():\n",
    "        part_number = False\n",
    "        r = num_key[0]\n",
    "        if not part_number:\n",
    "            # Check col span of each number...\n",
    "            for c in range(num_key[1][0], num_key[1][1]):\n",
    "                if not part_number:\n",
    "                    # ...then check the neighbors of each span...\n",
    "                    for n in neighbors:\n",
    "                        # ...to see if a symbols is a neighbor of any of the digits in the number \n",
    "                        if (r + n[0], c + n[1]) in symbols:\n",
    "                            answer += numbers[num_key]\n",
    "                            part_number = True\n",
    "                            break\n",
    "    return answer"
   ]
  },
  {
   "cell_type": "markdown",
   "metadata": {},
   "source": [
    "### Run on Test Data"
   ]
  },
  {
   "cell_type": "code",
   "execution_count": 6,
   "metadata": {},
   "outputs": [
    {
     "data": {
      "text/plain": [
       "True"
      ]
     },
     "execution_count": 6,
     "metadata": {},
     "output_type": "execute_result"
    }
   ],
   "source": [
    "solve1(*parse_input(\"test_engine_schematic\")) == 4361"
   ]
  },
  {
   "cell_type": "markdown",
   "metadata": {},
   "source": [
    "### Run on Input Data"
   ]
  },
  {
   "cell_type": "code",
   "execution_count": 7,
   "metadata": {},
   "outputs": [
    {
     "data": {
      "text/plain": [
       "525911"
      ]
     },
     "execution_count": 7,
     "metadata": {},
     "output_type": "execute_result"
    }
   ],
   "source": [
    "solve1(*parse_input(\"engine_schematic\"))"
   ]
  },
  {
   "cell_type": "markdown",
   "metadata": {},
   "source": [
    "## Part 2\n",
    "---"
   ]
  },
  {
   "cell_type": "code",
   "execution_count": 8,
   "metadata": {},
   "outputs": [],
   "source": [
    "def parse_input2(filename, print_engine=False):\n",
    "    \"\"\"Parse input data for puzzle.\n",
    "\n",
    "    Parameters\n",
    "    ----------\n",
    "    filename : str\n",
    "        The name of the *.txt file in the inputs/ directory.\n",
    "\n",
    "    Returns\n",
    "    -------\n",
    "    numbers, symbols : dict, set\n",
    "        numbers.keys = (r, c range); numbers.values = int\n",
    "        symbols = (r, c) location of all the symbols\n",
    "    \"\"\"\n",
    "    numbers = {}\n",
    "    gears = set()\n",
    "\n",
    "    with open(f'../inputs/{filename}.txt') as _file:\n",
    "        for r, line in enumerate(_file):\n",
    "            if print_engine == True: print(line.strip())\n",
    " \n",
    "            nums = re.finditer(\"\\d+\", line)\n",
    "            gs = re.finditer(r\"\\*\", line.strip())\n",
    "\n",
    "            for num in nums:\n",
    "                numbers[(r, num.span())] = int(num.group())\n",
    "            \n",
    "            for gear in gs:\n",
    "                gears.add((r, gear.span()[0]))\n",
    "    \n",
    "    return numbers, gears"
   ]
  },
  {
   "cell_type": "code",
   "execution_count": 9,
   "metadata": {},
   "outputs": [
    {
     "data": {
      "text/plain": [
       "({(0, (0, 3)): 467,\n",
       "  (0, (5, 8)): 114,\n",
       "  (2, (2, 4)): 35,\n",
       "  (2, (6, 9)): 633,\n",
       "  (4, (0, 3)): 617,\n",
       "  (5, (7, 9)): 58,\n",
       "  (6, (2, 5)): 592,\n",
       "  (7, (6, 9)): 755,\n",
       "  (9, (1, 4)): 664,\n",
       "  (9, (5, 8)): 598},\n",
       " {(1, 3), (4, 3), (8, 5)})"
      ]
     },
     "execution_count": 9,
     "metadata": {},
     "output_type": "execute_result"
    }
   ],
   "source": [
    "parse_input2(\"test_engine_schematic\")"
   ]
  },
  {
   "cell_type": "code",
   "execution_count": 10,
   "metadata": {},
   "outputs": [],
   "source": [
    "def solve2(numbers, gears):\n",
    "    sum_gear_ratios = 0\n",
    "\n",
    "    for gear in gears:\n",
    "        part_nums = set()\n",
    "        for n in neighbors:\n",
    "            gear_neighbor_row, gear_neighbor_col = gear[0] + n[0], gear[1] + n[1]\n",
    "            for num_key in numbers.keys():\n",
    "                num_row = num_key[0]\n",
    "                min_num_col = num_key[1][0]\n",
    "                max_num_col = num_key[1][1] - 1\n",
    "                if gear_neighbor_row == num_row and min_num_col <= gear_neighbor_col <= max_num_col:\n",
    "                    part_nums.add(numbers[num_key])\n",
    "\n",
    "        if len(part_nums) == 2:\n",
    "            sum_gear_ratios += list(part_nums)[0] * list(part_nums)[1]\n",
    "\n",
    "    return sum_gear_ratios"
   ]
  },
  {
   "cell_type": "markdown",
   "metadata": {},
   "source": [
    "### Run on Test Data"
   ]
  },
  {
   "cell_type": "code",
   "execution_count": 11,
   "metadata": {},
   "outputs": [
    {
     "data": {
      "text/plain": [
       "True"
      ]
     },
     "execution_count": 11,
     "metadata": {},
     "output_type": "execute_result"
    }
   ],
   "source": [
    "solve2(*parse_input2(\"test_engine_schematic\")) == 467835"
   ]
  },
  {
   "cell_type": "markdown",
   "metadata": {},
   "source": [
    "### Run on Input Data"
   ]
  },
  {
   "cell_type": "code",
   "execution_count": 12,
   "metadata": {},
   "outputs": [
    {
     "data": {
      "text/plain": [
       "75805607"
      ]
     },
     "execution_count": 12,
     "metadata": {},
     "output_type": "execute_result"
    }
   ],
   "source": [
    "solve2(*parse_input2(\"engine_schematic\"))"
   ]
  }
 ],
 "metadata": {
  "kernelspec": {
   "display_name": "Python 3.8.8 ('base')",
   "language": "python",
   "name": "python3"
  },
  "language_info": {
   "codemirror_mode": {
    "name": "ipython",
    "version": 3
   },
   "file_extension": ".py",
   "mimetype": "text/x-python",
   "name": "python",
   "nbconvert_exporter": "python",
   "pygments_lexer": "ipython3",
   "version": "3.9.13"
  },
  "vscode": {
   "interpreter": {
    "hash": "f49206fcf84a9145e7e21228cbafa911d1ac18292303b01e865d8267a9c448f7"
   }
  }
 },
 "nbformat": 4,
 "nbformat_minor": 4
}
