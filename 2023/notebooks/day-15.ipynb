{
 "cells": [
  {
   "cell_type": "markdown",
   "metadata": {},
   "source": [
    "# --- Day 15: Lens Library ---\n",
    "\n",
    "https://adventofcode.com/2023/day/15"
   ]
  },
  {
   "cell_type": "markdown",
   "metadata": {},
   "source": [
    "## Parse the Input Data"
   ]
  },
  {
   "cell_type": "code",
   "execution_count": 2,
   "metadata": {},
   "outputs": [],
   "source": [
    "def parse(filename):\n",
    "    \"\"\"Parse input data for puzzle.\n",
    "\n",
    "    Parameters\n",
    "    ----------\n",
    "    filename : str\n",
    "        The name of the *.txt file in the inputs/ directory.\n",
    "\n",
    "    Returns\n",
    "    -------\n",
    "    initialization_seq : str\n",
    "        Contains comma separated string of instructions that\n",
    "        need to be hashed and summed.\n",
    "    \"\"\"\n",
    "    with open(f'../inputs/{filename}.txt') as f:\n",
    "        initialization_seq = f.read().strip()\n",
    "\n",
    "    return initialization_seq"
   ]
  },
  {
   "cell_type": "code",
   "execution_count": 3,
   "metadata": {},
   "outputs": [
    {
     "data": {
      "text/plain": [
       "'qb-,xhq=6,zkr-,skhhqs-,bk-,bkj-,ll=9,pqrpll-,krv=3'"
      ]
     },
     "execution_count": 3,
     "metadata": {},
     "output_type": "execute_result"
    }
   ],
   "source": [
    "parse(\"initialization_seq\")[-50:]"
   ]
  },
  {
   "cell_type": "markdown",
   "metadata": {},
   "source": [
    "## Part 1\n",
    "---"
   ]
  },
  {
   "cell_type": "code",
   "execution_count": 4,
   "metadata": {},
   "outputs": [],
   "source": [
    "def _hash(s):\n",
    "    \"\"\"Create a hash of a string.\n",
    "\n",
    "    Parameters\n",
    "    ----------\n",
    "    s :str\n",
    "\n",
    "    Returns\n",
    "    -------\n",
    "    curr_val : int\n",
    "        A hash of the string, s\n",
    "    \"\"\"\n",
    "    curr_val = 0\n",
    "\n",
    "    for c in s:\n",
    "        curr_val += ord(c)\n",
    "        curr_val *= 17\n",
    "        curr_val %= 256\n",
    "\n",
    "    return curr_val"
   ]
  },
  {
   "cell_type": "code",
   "execution_count": 5,
   "metadata": {},
   "outputs": [],
   "source": [
    "def solve1(s):\n",
    "    return sum([_hash(c) for c in s.split(\",\")])"
   ]
  },
  {
   "cell_type": "markdown",
   "metadata": {},
   "source": [
    "### Run on Test Data"
   ]
  },
  {
   "cell_type": "code",
   "execution_count": 6,
   "metadata": {},
   "outputs": [
    {
     "data": {
      "text/plain": [
       "True"
      ]
     },
     "execution_count": 6,
     "metadata": {},
     "output_type": "execute_result"
    }
   ],
   "source": [
    "_hash(\"HASH\") == 52"
   ]
  },
  {
   "cell_type": "code",
   "execution_count": 7,
   "metadata": {},
   "outputs": [
    {
     "data": {
      "text/plain": [
       "True"
      ]
     },
     "execution_count": 7,
     "metadata": {},
     "output_type": "execute_result"
    }
   ],
   "source": [
    "_hash(\"rn=1\") == 30"
   ]
  },
  {
   "cell_type": "code",
   "execution_count": 8,
   "metadata": {},
   "outputs": [
    {
     "data": {
      "text/plain": [
       "True"
      ]
     },
     "execution_count": 8,
     "metadata": {},
     "output_type": "execute_result"
    }
   ],
   "source": [
    "solve1(parse(\"test_initialization_seq\")) == 1320"
   ]
  },
  {
   "cell_type": "markdown",
   "metadata": {},
   "source": [
    "### Run on Input Data"
   ]
  },
  {
   "cell_type": "code",
   "execution_count": 9,
   "metadata": {},
   "outputs": [
    {
     "data": {
      "text/plain": [
       "503487"
      ]
     },
     "execution_count": 9,
     "metadata": {},
     "output_type": "execute_result"
    }
   ],
   "source": [
    "solve1(parse(\"initialization_seq\"))"
   ]
  },
  {
   "cell_type": "markdown",
   "metadata": {},
   "source": [
    "## Part 2\n",
    "---"
   ]
  },
  {
   "cell_type": "code",
   "execution_count": 10,
   "metadata": {},
   "outputs": [],
   "source": [
    "import math\n",
    "from collections import defaultdict"
   ]
  },
  {
   "cell_type": "code",
   "execution_count": 27,
   "metadata": {},
   "outputs": [],
   "source": [
    "def solve2(s):\n",
    "    boxes = defaultdict(list)\n",
    "    lenses = {}\n",
    "\n",
    "    for step in s.split(\",\"):\n",
    "        if \"=\" in step:\n",
    "            label, focal_len = step.split(\"=\")\n",
    "            box = _hash(label)\n",
    "            if label not in boxes[box]:\n",
    "                boxes[box].append(label)\n",
    "                slot = len(boxes[box])\n",
    "                lenses[label] = [box + 1, slot, int(focal_len)]\n",
    "            else:\n",
    "                slot = boxes[box].index(label) + 1\n",
    "                lenses[label] = [box + 1, slot, int(focal_len)]\n",
    "\n",
    "        else:\n",
    "            label = step[:-1]\n",
    "            box = _hash(label)\n",
    "            if label in boxes[box]:\n",
    "                i_label = boxes[box].index(label)\n",
    "                boxes[box] = boxes[box][:i_label] + boxes[box][i_label+1:]\n",
    "                del lenses[label]\n",
    "\n",
    "                # Adjust slot values down for remaining lenses in the box\n",
    "                # NOTE: slice from i_label: NOT i_label+1, because I just\n",
    "                # removed/modified the boxes[box] list above!ß\n",
    "                for label in boxes[box][i_label:]:\n",
    "                    lenses[label][1] = lenses[label][1] - 1\n",
    "\n",
    "    answer = 0\n",
    "    for val in lenses.values():\n",
    "        answer += math.prod(val)\n",
    "\n",
    "    return answer"
   ]
  },
  {
   "cell_type": "markdown",
   "metadata": {},
   "source": [
    "### Run on Test Data"
   ]
  },
  {
   "cell_type": "code",
   "execution_count": 28,
   "metadata": {},
   "outputs": [
    {
     "data": {
      "text/plain": [
       "True"
      ]
     },
     "execution_count": 28,
     "metadata": {},
     "output_type": "execute_result"
    }
   ],
   "source": [
    "solve2(parse(\"test_initialization_seq\")) == 145"
   ]
  },
  {
   "cell_type": "markdown",
   "metadata": {},
   "source": [
    "### Run on Input Data"
   ]
  },
  {
   "cell_type": "code",
   "execution_count": 29,
   "metadata": {},
   "outputs": [
    {
     "data": {
      "text/plain": [
       "261505"
      ]
     },
     "execution_count": 29,
     "metadata": {},
     "output_type": "execute_result"
    }
   ],
   "source": [
    "solve2(parse(\"initialization_seq\"))"
   ]
  },
  {
   "cell_type": "markdown",
   "metadata": {},
   "source": [
    "## Debuggin'\n",
    "\n",
    "I originally wasn't getting the correct answer, and I couldn't figure out why.\n",
    "\n",
    "I went here for help first:  \n",
    "https://www.reddit.com/r/adventofcode/comments/18itgq1/2023_day_15_part_2_help_test_input_wanted/\n",
    "\n",
    "But my solution passed all the additional tests...\n",
    "\n",
    "Then the kind help from these folks got me over the hump:  \n",
    "https://www.reddit.com/r/adventofcode/comments/18jw1a4/2023_day_15_part_2python_help/"
   ]
  },
  {
   "cell_type": "code",
   "execution_count": 14,
   "metadata": {},
   "outputs": [
    {
     "data": {
      "text/plain": [
       "112"
      ]
     },
     "execution_count": 14,
     "metadata": {},
     "output_type": "execute_result"
    }
   ],
   "source": [
    "solve2(\"vg=2,ctnb=7,pqfv=1\")"
   ]
  },
  {
   "cell_type": "code",
   "execution_count": 15,
   "metadata": {},
   "outputs": [
    {
     "data": {
      "text/plain": [
       "1099"
      ]
     },
     "execution_count": 15,
     "metadata": {},
     "output_type": "execute_result"
    }
   ],
   "source": [
    "solve2(\"rn=1,cm-,qp=3,cm=2,qp-,pc=4,ot=9,ab=5,pc-,pc=6,ot=7,mom=9\")"
   ]
  },
  {
   "cell_type": "code",
   "execution_count": 16,
   "metadata": {},
   "outputs": [
    {
     "data": {
      "text/plain": [
       "495"
      ]
     },
     "execution_count": 16,
     "metadata": {},
     "output_type": "execute_result"
    }
   ],
   "source": [
    "solve2(\"fdbbhn=1,stdsv=1\")"
   ]
  },
  {
   "cell_type": "code",
   "execution_count": 23,
   "metadata": {},
   "outputs": [
    {
     "data": {
      "text/plain": [
       "True"
      ]
     },
     "execution_count": 23,
     "metadata": {},
     "output_type": "execute_result"
    }
   ],
   "source": [
    "_hash(\"cm\") == _hash(\"rn\")"
   ]
  },
  {
   "cell_type": "code",
   "execution_count": 20,
   "metadata": {},
   "outputs": [
    {
     "data": {
      "text/plain": [
       "4"
      ]
     },
     "execution_count": 20,
     "metadata": {},
     "output_type": "execute_result"
    }
   ],
   "source": [
    "solve2(\"rn=1,cm=2,rn-\") #== 2"
   ]
  },
  {
   "cell_type": "code",
   "execution_count": 24,
   "metadata": {},
   "outputs": [
    {
     "data": {
      "text/plain": [
       "3"
      ]
     },
     "execution_count": 24,
     "metadata": {},
     "output_type": "execute_result"
    }
   ],
   "source": [
    "_hash(\"ot\")"
   ]
  },
  {
   "cell_type": "code",
   "execution_count": 25,
   "metadata": {},
   "outputs": [
    {
     "data": {
      "text/plain": [
       "3"
      ]
     },
     "execution_count": 25,
     "metadata": {},
     "output_type": "execute_result"
    }
   ],
   "source": [
    "_hash(\"ab\")"
   ]
  },
  {
   "cell_type": "code",
   "execution_count": 26,
   "metadata": {},
   "outputs": [
    {
     "data": {
      "text/plain": [
       "3"
      ]
     },
     "execution_count": 26,
     "metadata": {},
     "output_type": "execute_result"
    }
   ],
   "source": [
    "_hash(\"pc\")"
   ]
  }
 ],
 "metadata": {
  "kernelspec": {
   "display_name": "Python 3.8.8 ('base')",
   "language": "python",
   "name": "python3"
  },
  "language_info": {
   "codemirror_mode": {
    "name": "ipython",
    "version": 3
   },
   "file_extension": ".py",
   "mimetype": "text/x-python",
   "name": "python",
   "nbconvert_exporter": "python",
   "pygments_lexer": "ipython3",
   "version": "3.9.13"
  },
  "vscode": {
   "interpreter": {
    "hash": "f49206fcf84a9145e7e21228cbafa911d1ac18292303b01e865d8267a9c448f7"
   }
  }
 },
 "nbformat": 4,
 "nbformat_minor": 4
}
