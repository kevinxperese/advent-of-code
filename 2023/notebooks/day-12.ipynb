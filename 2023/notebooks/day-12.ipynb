{
 "cells": [
  {
   "cell_type": "markdown",
   "metadata": {},
   "source": [
    "# --- Day 12: Hot Springs ---\n",
    "\n",
    "https://adventofcode.com/2023/day/12"
   ]
  },
  {
   "cell_type": "markdown",
   "metadata": {},
   "source": [
    "## Part 1\n",
    "---"
   ]
  },
  {
   "cell_type": "code",
   "execution_count": 1,
   "metadata": {},
   "outputs": [],
   "source": [
    "def parse(filename):\n",
    "    \"\"\"Parse input data for puzzle.\n",
    "\n",
    "    Parameters\n",
    "    ----------\n",
    "    filename : str\n",
    "        The name of the *.txt file in the inputs/ directory.\n",
    "\n",
    "    Returns\n",
    "    -------\n",
    "    records, groupings : list, list\n",
    "    \"\"\"\n",
    "    records = []\n",
    "    groupings = []\n",
    "\n",
    "    with open(f'../inputs/{filename}.txt') as f:\n",
    "        for line in f:\n",
    "            record, grouping = line.strip().split()\n",
    "            grouping = [int(n) for n in grouping.split(\",\")]\n",
    "\n",
    "            records.append(record)\n",
    "            groupings.append(grouping)\n",
    "\n",
    "    return records, groupings"
   ]
  },
  {
   "cell_type": "code",
   "execution_count": 2,
   "metadata": {},
   "outputs": [
    {
     "data": {
      "text/plain": [
       "(['???.###',\n",
       "  '.??..??...?##.',\n",
       "  '?#?#?#?#?#?#?#?',\n",
       "  '????.#...#...',\n",
       "  '????.######..#####.',\n",
       "  '?###????????'],\n",
       " [[1, 1, 3], [1, 1, 3], [1, 3, 1, 6], [4, 1, 1], [1, 6, 5], [3, 2, 1]])"
      ]
     },
     "execution_count": 2,
     "metadata": {},
     "output_type": "execute_result"
    }
   ],
   "source": [
    "parse(\"test_spring_records\")"
   ]
  },
  {
   "cell_type": "code",
   "execution_count": 3,
   "metadata": {},
   "outputs": [],
   "source": [
    "import re\n",
    "from itertools import permutations"
   ]
  },
  {
   "cell_type": "code",
   "execution_count": 4,
   "metadata": {},
   "outputs": [],
   "source": [
    "def arrangements(record, grouping):\n",
    "    possible_arrangements = 0\n",
    "\n",
    "    # base\n",
    "    num_qs_left = len(\"\".join(re.findall(r\"\\?\", record)))\n",
    "    if num_qs_left == 0:\n",
    "        # If there are no more ?s, check to make sure that the\n",
    "        # groups of #s match the remaining grouping list\n",
    "        pounds_left = re.findall(\"#\", record)\n",
    "        if len(pounds_left) == len(grouping):\n",
    "            mismatch = sum([p == g for p, g in zip(pounds_left, grouping)]) > 0\n",
    "            if not mismatch:\n",
    "                return possible_arrangements\n",
    "            else:\n",
    "                raise Exception(\"Whoops! Somethings not quite right here...\")\n",
    "\n",
    "    # Trim off any leading or trailing \".\"s\n",
    "    middle = re.search(r\"^\\.+([\\?#].*[\\?#])\\.+$\", record)\n",
    "    if middle:\n",
    "        return arrangements(middle.group(1), grouping)\n",
    "\n",
    "    else:\n",
    "        consider = re.search(r\"([\\?#]+)(\\.+)\", record)\n",
    "        if consider:\n",
    "            all_qs = re.search(r\"^\\?+$\", consider.group(1))\n",
    "\n",
    "            # If the lenght of all the ?s is equal to the next grouping,\n",
    "            # there can only be one possible permutation\n",
    "            if all_qs and len(all_qs.group(0)) == grouping[0]:\n",
    "                possible_arrangements += 1\n",
    "                return possible_arrangements + arrangements(record[consider.span()[1]:], grouping[1:])\n",
    "\n",
    "            # If all consider is all ?s and the next grouping is 1, then there are\n",
    "            # len(?s) possible permutations in consider\n",
    "            elif all_qs and grouping[0] == 1:\n",
    "                possible_arrangements += len(all_qs.group(0))\n",
    "                return possible_arrangements + arrangements(record[consider.span()[1]:], grouping[1:])\n",
    "        else:\n",
    "            pass\n",
    "\n",
    "    return possible_arrangements"
   ]
  },
  {
   "cell_type": "code",
   "execution_count": 5,
   "metadata": {},
   "outputs": [],
   "source": [
    "def solve1(records, groupings):\n",
    "    total_arrangements = 0\n",
    "\n",
    "    for record, grouping in zip(records, groupings):\n",
    "        total_arrangements += arrangements(record, grouping)\n",
    "\n",
    "    return total_arrangements"
   ]
  },
  {
   "cell_type": "markdown",
   "metadata": {},
   "source": [
    "### Run on Test Data"
   ]
  },
  {
   "cell_type": "code",
   "execution_count": 6,
   "metadata": {},
   "outputs": [
    {
     "data": {
      "text/plain": [
       "'?##??#??#'"
      ]
     },
     "execution_count": 6,
     "metadata": {},
     "output_type": "execute_result"
    }
   ],
   "source": [
    "consider = re.search(r\"([\\?#]+)(\\.+)\", \"?##??#??#...?#\").group(1)\n",
    "consider"
   ]
  },
  {
   "cell_type": "code",
   "execution_count": 7,
   "metadata": {},
   "outputs": [
    {
     "data": {
      "text/plain": [
       "4"
      ]
     },
     "execution_count": 7,
     "metadata": {},
     "output_type": "execute_result"
    }
   ],
   "source": [
    "re.search(r\"([\\?#]+)(\\.+)\", \"?...?#\").span()[1]"
   ]
  },
  {
   "cell_type": "code",
   "execution_count": 8,
   "metadata": {},
   "outputs": [
    {
     "data": {
      "text/plain": [
       "3"
      ]
     },
     "execution_count": 8,
     "metadata": {},
     "output_type": "execute_result"
    }
   ],
   "source": [
    "num_qs_left = len(\"\".join(re.findall(r\"\\?+\", \"#??#..?\")))\n",
    "num_qs_left"
   ]
  },
  {
   "cell_type": "code",
   "execution_count": 9,
   "metadata": {},
   "outputs": [
    {
     "data": {
      "text/plain": [
       "'?#.?.#'"
      ]
     },
     "execution_count": 9,
     "metadata": {},
     "output_type": "execute_result"
    }
   ],
   "source": [
    "middle = re.search(r\"^\\.+([\\?#].*[\\?#])\\.+$\", \"...?#.?.#...\").group(1)\n",
    "middle"
   ]
  },
  {
   "cell_type": "code",
   "execution_count": 10,
   "metadata": {},
   "outputs": [
    {
     "data": {
      "text/plain": [
       "False"
      ]
     },
     "execution_count": 10,
     "metadata": {},
     "output_type": "execute_result"
    }
   ],
   "source": [
    "arrangements(\"???.###\", [1, 1, 3]) == 1"
   ]
  },
  {
   "cell_type": "code",
   "execution_count": 11,
   "metadata": {},
   "outputs": [
    {
     "data": {
      "text/plain": [
       "True"
      ]
     },
     "execution_count": 11,
     "metadata": {},
     "output_type": "execute_result"
    }
   ],
   "source": [
    "arrangements(\".??..??...?##.\", [1, 1, 3]) == 4"
   ]
  },
  {
   "cell_type": "code",
   "execution_count": 12,
   "metadata": {},
   "outputs": [
    {
     "data": {
      "text/plain": [
       "False"
      ]
     },
     "execution_count": 12,
     "metadata": {},
     "output_type": "execute_result"
    }
   ],
   "source": [
    "arrangements(\"?#?#?#?#?#?#?#?\", [1, 3, 1, 6]) == 1"
   ]
  },
  {
   "cell_type": "code",
   "execution_count": 13,
   "metadata": {},
   "outputs": [
    {
     "data": {
      "text/plain": [
       "True"
      ]
     },
     "execution_count": 13,
     "metadata": {},
     "output_type": "execute_result"
    }
   ],
   "source": [
    "arrangements(\"????.#...#...\", [4, 1, 1]) == 1"
   ]
  },
  {
   "cell_type": "code",
   "execution_count": 14,
   "metadata": {},
   "outputs": [
    {
     "data": {
      "text/plain": [
       "True"
      ]
     },
     "execution_count": 14,
     "metadata": {},
     "output_type": "execute_result"
    }
   ],
   "source": [
    "arrangements(\"????.######..#####.\", [1, 6, 5]) == 4"
   ]
  },
  {
   "cell_type": "code",
   "execution_count": 15,
   "metadata": {},
   "outputs": [
    {
     "data": {
      "text/plain": [
       "False"
      ]
     },
     "execution_count": 15,
     "metadata": {},
     "output_type": "execute_result"
    }
   ],
   "source": [
    "arrangements(\"?###????????\", [3, 2, 1]) == 10"
   ]
  },
  {
   "cell_type": "code",
   "execution_count": 16,
   "metadata": {},
   "outputs": [
    {
     "data": {
      "text/plain": [
       "False"
      ]
     },
     "execution_count": 16,
     "metadata": {},
     "output_type": "execute_result"
    }
   ],
   "source": [
    "solve1(*parse(\"test_spring_records\")) == 21"
   ]
  },
  {
   "cell_type": "markdown",
   "metadata": {},
   "source": [
    "### Run on Input Data"
   ]
  },
  {
   "cell_type": "code",
   "execution_count": 17,
   "metadata": {},
   "outputs": [],
   "source": [
    "# solve1(*parse(\"spring_records\"))"
   ]
  },
  {
   "cell_type": "markdown",
   "metadata": {},
   "source": [
    "## Part 2\n",
    "---"
   ]
  },
  {
   "cell_type": "code",
   "execution_count": null,
   "metadata": {},
   "outputs": [],
   "source": []
  },
  {
   "cell_type": "markdown",
   "metadata": {},
   "source": [
    "### Run on Test Data"
   ]
  },
  {
   "cell_type": "code",
   "execution_count": null,
   "metadata": {},
   "outputs": [],
   "source": []
  },
  {
   "cell_type": "markdown",
   "metadata": {},
   "source": [
    "### Run on Input Data"
   ]
  },
  {
   "cell_type": "code",
   "execution_count": null,
   "metadata": {},
   "outputs": [],
   "source": []
  }
 ],
 "metadata": {
  "kernelspec": {
   "display_name": "Python 3.8.8 ('base')",
   "language": "python",
   "name": "python3"
  },
  "language_info": {
   "codemirror_mode": {
    "name": "ipython",
    "version": 3
   },
   "file_extension": ".py",
   "mimetype": "text/x-python",
   "name": "python",
   "nbconvert_exporter": "python",
   "pygments_lexer": "ipython3",
   "version": "3.9.13"
  },
  "vscode": {
   "interpreter": {
    "hash": "f49206fcf84a9145e7e21228cbafa911d1ac18292303b01e865d8267a9c448f7"
   }
  }
 },
 "nbformat": 4,
 "nbformat_minor": 4
}
