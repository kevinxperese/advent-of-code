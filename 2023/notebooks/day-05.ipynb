{
 "cells": [
  {
   "cell_type": "markdown",
   "metadata": {},
   "source": [
    "# --- Day 5: If You Give A Seed A Fertilizer ---\n",
    "\n",
    "https://adventofcode.com/2023/day/5"
   ]
  },
  {
   "cell_type": "code",
   "execution_count": 1,
   "metadata": {},
   "outputs": [
    {
     "data": {
      "text/plain": [
       "1"
      ]
     },
     "execution_count": 1,
     "metadata": {},
     "output_type": "execute_result"
    }
   ],
   "source": [
    "class IdentityDict(dict):\n",
    "    __missing__ = lambda self, key : key\n",
    "\n",
    "test = IdentityDict()\n",
    "test[1]   "
   ]
  },
  {
   "cell_type": "code",
   "execution_count": 2,
   "metadata": {},
   "outputs": [],
   "source": [
    "import re"
   ]
  },
  {
   "cell_type": "markdown",
   "metadata": {},
   "source": [
    "## Parse the Input Data"
   ]
  },
  {
   "cell_type": "code",
   "execution_count": 22,
   "metadata": {},
   "outputs": [],
   "source": [
    "def parse_input(filename):\n",
    "    \"\"\"Parse input data for puzzle.\n",
    "\n",
    "    Parameters\n",
    "    ----------\n",
    "    filename : str\n",
    "        The name of the *.txt file in the inputs/ directory.\n",
    "\n",
    "    Returns\n",
    "    -------\n",
    "\n",
    "    \"\"\"\n",
    "    maps = {}\n",
    "    with open(f'../inputs/{filename}.txt') as _file:\n",
    "        f = _file.readlines()\n",
    "        print(f)\n",
    "        for i in range(len(f)):\n",
    "            if i == 0:\n",
    "                seeds = [int(s) for s in re.findall(\"\\d+\", f[i])]\n",
    "\n",
    "            if f[i].startswith(\"seed-to-soil map:\"):\n",
    "                maps[\"seed2soil\"] = []\n",
    "                i += 1\n",
    "\n",
    "\n",
    "            if f[i].startswith(\"soil-to-fertilizer map:\"):\n",
    "                maps[\"soil2fert\"] = []\n",
    "                continue\n",
    "\n",
    "            if f[i].startswith(\"fertilizer-to-water map:\"):\n",
    "                maps[\"fert2water\"] = []\n",
    "                continue\n",
    "\n",
    "            if f[i].startswith(\"water-to-light map:\"):\n",
    "                maps[\"water2light\"] = []\n",
    "                continue\n",
    "\n",
    "            if f[i].startswith(\"light-to-temperature map:\"):\n",
    "                maps[\"light2temp\"] = []\n",
    "                continue\n",
    "\n",
    "            if f[i].startswith(\"temperature-to-humidity map:\"):\n",
    "                maps[\"temp2hum\"] = []\n",
    "                continue\n",
    "\n",
    "            if f[i].startswith(\"humidity-to-location map:\"):\n",
    "                maps[\"hum2loc\"] = []\n",
    "                continue\n",
    "\n",
    "    return seeds, maps"
   ]
  },
  {
   "cell_type": "code",
   "execution_count": 23,
   "metadata": {},
   "outputs": [
    {
     "name": "stdout",
     "output_type": "stream",
     "text": [
      "['seeds: 79 14 55 13\\n', '\\n', 'seed-to-soil map:\\n', '50 98 2\\n', '52 50 48\\n', '\\n', 'soil-to-fertilizer map:\\n', '0 15 37\\n', '37 52 2\\n', '39 0 15\\n', '\\n', 'fertilizer-to-water map:\\n', '49 53 8\\n', '0 11 42\\n', '42 0 7\\n', '57 7 4\\n', '\\n', 'water-to-light map:\\n', '88 18 7\\n', '18 25 70\\n', '\\n', 'light-to-temperature map:\\n', '45 77 23\\n', '81 45 19\\n', '68 64 13\\n', '\\n', 'temperature-to-humidity map:\\n', '0 69 1\\n', '1 0 69\\n', '\\n', 'humidity-to-location map:\\n', '60 56 37\\n', '56 93 4']\n"
     ]
    },
    {
     "data": {
      "text/plain": [
       "([79, 14, 55, 13],\n",
       " {'seed2soil': [],\n",
       "  'soil2fert': [],\n",
       "  'fert2water': [],\n",
       "  'water2light': [],\n",
       "  'light2temp': [],\n",
       "  'temp2hum': [],\n",
       "  'hum2loc': []})"
      ]
     },
     "execution_count": 23,
     "metadata": {},
     "output_type": "execute_result"
    }
   ],
   "source": [
    "parse_input(\"test_almanac\")"
   ]
  },
  {
   "cell_type": "markdown",
   "metadata": {},
   "source": [
    "## Part 1\n",
    "---"
   ]
  },
  {
   "cell_type": "code",
   "execution_count": null,
   "metadata": {},
   "outputs": [],
   "source": [
    "def solve1(seeds, maps):\n",
    "    min_loc = float(\"inf\")\n",
    "    map_keys = [\"seed2soil\", \"soil2fert\", \"fert2water\", \"water2light\", \"light2temp\", \"temp2hum\", \"hum2loc\"]\n",
    "\n",
    "    for seed in seeds:\n",
    "        for key in map_keys:\n",
    "            for line in maps[key]:\n",
    "                pass\n",
    "\n",
    "            \n",
    "        \n",
    "\n",
    "\n",
    "        \n",
    "        \n",
    "        min_loc = min(min_loc, loc)\n",
    "\n",
    "    return min_loc"
   ]
  },
  {
   "cell_type": "markdown",
   "metadata": {},
   "source": [
    "### Run on Test Data"
   ]
  },
  {
   "cell_type": "code",
   "execution_count": null,
   "metadata": {},
   "outputs": [],
   "source": []
  },
  {
   "cell_type": "markdown",
   "metadata": {},
   "source": [
    "### Run on Input Data"
   ]
  },
  {
   "cell_type": "code",
   "execution_count": null,
   "metadata": {},
   "outputs": [],
   "source": []
  },
  {
   "cell_type": "markdown",
   "metadata": {},
   "source": [
    "## Part 2\n",
    "---"
   ]
  },
  {
   "cell_type": "code",
   "execution_count": null,
   "metadata": {},
   "outputs": [],
   "source": []
  },
  {
   "cell_type": "markdown",
   "metadata": {},
   "source": [
    "### Run on Test Data"
   ]
  },
  {
   "cell_type": "code",
   "execution_count": null,
   "metadata": {},
   "outputs": [],
   "source": []
  },
  {
   "cell_type": "markdown",
   "metadata": {},
   "source": [
    "### Run on Input Data"
   ]
  },
  {
   "cell_type": "code",
   "execution_count": null,
   "metadata": {},
   "outputs": [],
   "source": []
  }
 ],
 "metadata": {
  "kernelspec": {
   "display_name": "Python 3.8.8 ('base')",
   "language": "python",
   "name": "python3"
  },
  "language_info": {
   "codemirror_mode": {
    "name": "ipython",
    "version": 3
   },
   "file_extension": ".py",
   "mimetype": "text/x-python",
   "name": "python",
   "nbconvert_exporter": "python",
   "pygments_lexer": "ipython3",
   "version": "3.9.13"
  },
  "vscode": {
   "interpreter": {
    "hash": "f49206fcf84a9145e7e21228cbafa911d1ac18292303b01e865d8267a9c448f7"
   }
  }
 },
 "nbformat": 4,
 "nbformat_minor": 4
}
