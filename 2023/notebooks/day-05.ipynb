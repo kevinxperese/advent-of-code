{
 "cells": [
  {
   "cell_type": "markdown",
   "metadata": {},
   "source": [
    "# --- Day 5: If You Give A Seed A Fertilizer ---\n",
    "\n",
    "https://adventofcode.com/2023/day/5"
   ]
  },
  {
   "cell_type": "markdown",
   "metadata": {},
   "source": [
    "Not gonna use/need this, turns out, but this is a pretty neat trick none-the-less:"
   ]
  },
  {
   "cell_type": "code",
   "execution_count": 3,
   "metadata": {},
   "outputs": [
    {
     "data": {
      "text/plain": [
       "1"
      ]
     },
     "execution_count": 3,
     "metadata": {},
     "output_type": "execute_result"
    }
   ],
   "source": [
    "class IdentityDict(dict):\n",
    "    __missing__ = lambda self, key : key\n",
    "\n",
    "test = IdentityDict()\n",
    "test[1]   "
   ]
  },
  {
   "cell_type": "markdown",
   "metadata": {},
   "source": [
    "## Parse the Input Data"
   ]
  },
  {
   "cell_type": "code",
   "execution_count": 4,
   "metadata": {},
   "outputs": [],
   "source": [
    "import re\n",
    "from collections import defaultdict"
   ]
  },
  {
   "cell_type": "code",
   "execution_count": 5,
   "metadata": {},
   "outputs": [],
   "source": [
    "def parse_input(filename):\n",
    "    \"\"\"Parse input data for puzzle.\n",
    "\n",
    "    Parameters\n",
    "    ----------\n",
    "    filename : str\n",
    "        The name of the *.txt file in the inputs/ directory.\n",
    "\n",
    "    Returns\n",
    "    -------\n",
    "    seeds, maps : list, dict\n",
    "        seeds is a list of the seeds that need to be run through all the mappings;\n",
    "        maps is a dictionary of lists, each list containing three numbers:\n",
    "            * start of destination range\n",
    "            * start of source range\n",
    "            * range length\n",
    "    \"\"\"\n",
    "    maps = defaultdict(list)\n",
    "    map_keys = [\"seed2soil\", \"soil2fert\", \"fert2water\", \"water2light\", \"light2temp\", \"temp2hum\", \"hum2loc\"]\n",
    "    \n",
    "    with open(f'../inputs/{filename}.txt') as _file:\n",
    "        for i, line in enumerate(_file):\n",
    "            if i == 0:\n",
    "                seeds = [int(s) for s in re.findall(\"\\d+\", line)]\n",
    "\n",
    "            else:\n",
    "                if line == \"\\n\":\n",
    "                    map_key = map_keys.pop(0)\n",
    "                else:\n",
    "                    if line[0].isdigit():\n",
    "                        maps[map_key].append([int(x) for x in line.strip().split()])\n",
    "\n",
    "    return seeds, maps"
   ]
  },
  {
   "cell_type": "code",
   "execution_count": 6,
   "metadata": {},
   "outputs": [
    {
     "data": {
      "text/plain": [
       "([79, 14, 55, 13],\n",
       " defaultdict(list,\n",
       "             {'seed2soil': [[50, 98, 2], [52, 50, 48]],\n",
       "              'soil2fert': [[0, 15, 37], [37, 52, 2], [39, 0, 15]],\n",
       "              'fert2water': [[49, 53, 8], [0, 11, 42], [42, 0, 7], [57, 7, 4]],\n",
       "              'water2light': [[88, 18, 7], [18, 25, 70]],\n",
       "              'light2temp': [[45, 77, 23], [81, 45, 19], [68, 64, 13]],\n",
       "              'temp2hum': [[0, 69, 1], [1, 0, 69]],\n",
       "              'hum2loc': [[60, 56, 37], [56, 93, 4]]}))"
      ]
     },
     "execution_count": 6,
     "metadata": {},
     "output_type": "execute_result"
    }
   ],
   "source": [
    "parse_input(\"test_almanac\")"
   ]
  },
  {
   "cell_type": "markdown",
   "metadata": {},
   "source": [
    "## Part 1\n",
    "---"
   ]
  },
  {
   "cell_type": "code",
   "execution_count": 7,
   "metadata": {},
   "outputs": [],
   "source": [
    "def solve1(seeds, maps):\n",
    "    min_loc = float(\"inf\")\n",
    "    map_keys = [\"seed2soil\", \"soil2fert\", \"fert2water\", \"water2light\", \"light2temp\", \"temp2hum\", \"hum2loc\"]\n",
    "\n",
    "    for seed in seeds:\n",
    "        for key in map_keys:\n",
    "            for line in maps[key]:\n",
    "                d, s, r = line  # d = destination, s = source, r = range\n",
    "                if seed in range(s, s+r):\n",
    "                    seed = d + (seed - s)  # no need to change the seed name...\n",
    "                    break\n",
    "                # ...if seed isn't found in any of the map ranges, it remains the same value\n",
    "\n",
    "        min_loc = min(min_loc, seed)\n",
    "\n",
    "    return min_loc"
   ]
  },
  {
   "cell_type": "markdown",
   "metadata": {},
   "source": [
    "### Run on Test Data"
   ]
  },
  {
   "cell_type": "code",
   "execution_count": 8,
   "metadata": {},
   "outputs": [
    {
     "data": {
      "text/plain": [
       "True"
      ]
     },
     "execution_count": 8,
     "metadata": {},
     "output_type": "execute_result"
    }
   ],
   "source": [
    "solve1(*parse_input(\"test_almanac\")) == 35"
   ]
  },
  {
   "cell_type": "markdown",
   "metadata": {},
   "source": [
    "### Run on Input Data"
   ]
  },
  {
   "cell_type": "code",
   "execution_count": 9,
   "metadata": {},
   "outputs": [
    {
     "data": {
      "text/plain": [
       "403695602"
      ]
     },
     "execution_count": 9,
     "metadata": {},
     "output_type": "execute_result"
    }
   ],
   "source": [
    "solve1(*parse_input(\"almanac\"))"
   ]
  },
  {
   "cell_type": "markdown",
   "metadata": {},
   "source": [
    "## Part 2\n",
    "---"
   ]
  },
  {
   "cell_type": "code",
   "execution_count": 10,
   "metadata": {},
   "outputs": [],
   "source": [
    "from collections import deque"
   ]
  },
  {
   "cell_type": "code",
   "execution_count": 50,
   "metadata": {},
   "outputs": [],
   "source": [
    "def solve2(seeds, maps, debug=False):\n",
    "    starts = []\n",
    "    map_keys = [\"seed2soil\", \"soil2fert\", \"fert2water\", \"water2light\", \"light2temp\", \"temp2hum\", \"hum2loc\"]\n",
    "\n",
    "    starts = [x for i, x in enumerate(seeds) if i % 2 == 0]\n",
    "    ranges = [x for i, x in enumerate(seeds) if i % 2 == 1] \n",
    "\n",
    "    seed_ranges = deque([[s, s + r - 1] for s, r in zip(starts, ranges)])\n",
    "\n",
    "    print(seed_ranges)\n",
    "\n",
    "    while seed_ranges:\n",
    "        seed_start, seed_end = seed_ranges.popleft()\n",
    "        for key in map_keys:\n",
    "            if debug: print(key)\n",
    "            for map_range in maps[key]:\n",
    "                d, s, r = map_range  # d = destination, s = source, r = range\n",
    "                map_start, map_end = s, s + r - 1\n",
    "                offset = d - s\n",
    "                print(d, s, offset)\n",
    "                \n",
    "                # Seed range to the left or right of current map range\n",
    "                if seed_end < map_start or map_end < seed_start:\n",
    "                    continue\n",
    "\n",
    "                # Seed range completely inside map range\n",
    "                elif map_start <= seed_start and seed_end <= map_end:\n",
    "                    if debug: print(\"inside:\", f\"seed range: {[seed_start, seed_end]}, map range: {[map_start, map_end]}\")\n",
    "                    seed_start += offset \n",
    "                    seed_end += offset \n",
    "                    if debug: print(f\"inside: offset: {offset}, new seed range: {[seed_start, seed_end]}\")\n",
    "                    break\n",
    "\n",
    "                # Seed range left overlap map range\n",
    "                elif map_start <= seed_end:\n",
    "                    if debug: print(f\"no overlap: seed range: {[seed_start, seed_end]}, map range: {[map_start, map_end]}\")\n",
    "                    seed_ranges.appendleft([seed_start, map_start - 1])\n",
    "                    seed_start = map_start + offset\n",
    "                    seed_end = seed_end + offset\n",
    "                    if debug: print(f\"no overlap: offset: {offset}, new seed range: {[seed_start, seed_end]}\")\n",
    "                    break\n",
    "\n",
    "                # Seed range right overlap map range\n",
    "                elif seed_start <= map_end:\n",
    "                    if debug: print(f\"right overlap: seed: {[seed_start, seed_end]}, map: {[map_start, map_end]}\")\n",
    "                    seed_ranges.appendleft([map_end + 1, seed_end])\n",
    "                    seed_start = seed_start + offset\n",
    "                    seed_end = map_end + offset\n",
    "                    break\n",
    "\n",
    "                else:\n",
    "                    if debug: print(\"Ack!\")\n",
    "        \n",
    "\n",
    "        starts.append(seed_start)\n",
    "\n",
    "    return min(starts)"
   ]
  },
  {
   "cell_type": "markdown",
   "metadata": {},
   "source": [
    "### Run on Test Data"
   ]
  },
  {
   "cell_type": "code",
   "execution_count": 51,
   "metadata": {},
   "outputs": [
    {
     "name": "stdout",
     "output_type": "stream",
     "text": [
      "deque([[79, 92], [55, 67]])\n",
      "seed2soil\n",
      "50 98 -48\n",
      "52 50 2\n",
      "inside: seed range: [79, 92], map range: [50, 97]\n",
      "inside: offset: 2, new seed range: [81, 94]\n",
      "soil2fert\n",
      "0 15 -15\n",
      "37 52 -15\n",
      "39 0 39\n",
      "fert2water\n",
      "49 53 -4\n",
      "0 11 -11\n",
      "42 0 42\n",
      "57 7 50\n",
      "water2light\n",
      "88 18 70\n",
      "18 25 -7\n",
      "inside: seed range: [81, 94], map range: [25, 94]\n",
      "inside: offset: -7, new seed range: [74, 87]\n",
      "light2temp\n",
      "45 77 -32\n",
      "no overlap: seed range: [74, 87], map range: [77, 99]\n",
      "no overlap: offset: -32, new seed range: [45, 55]\n",
      "temp2hum\n",
      "0 69 -69\n",
      "1 0 1\n",
      "inside: seed range: [45, 55], map range: [0, 68]\n",
      "inside: offset: 1, new seed range: [46, 56]\n",
      "hum2loc\n",
      "60 56 4\n",
      "no overlap: seed range: [46, 56], map range: [56, 92]\n",
      "no overlap: offset: 4, new seed range: [60, 60]\n",
      "seed2soil\n",
      "50 98 -48\n",
      "52 50 2\n",
      "no overlap: seed range: [46, 55], map range: [50, 97]\n",
      "no overlap: offset: 2, new seed range: [52, 57]\n",
      "soil2fert\n",
      "0 15 -15\n",
      "37 52 -15\n",
      "no overlap: seed range: [52, 57], map range: [52, 53]\n",
      "no overlap: offset: -15, new seed range: [37, 42]\n",
      "fert2water\n",
      "49 53 -4\n",
      "0 11 -11\n",
      "inside: seed range: [37, 42], map range: [11, 52]\n",
      "inside: offset: -11, new seed range: [26, 31]\n",
      "water2light\n",
      "88 18 70\n",
      "18 25 -7\n",
      "inside: seed range: [26, 31], map range: [25, 94]\n",
      "inside: offset: -7, new seed range: [19, 24]\n",
      "light2temp\n",
      "45 77 -32\n",
      "81 45 36\n",
      "68 64 4\n",
      "temp2hum\n",
      "0 69 -69\n",
      "1 0 1\n",
      "inside: seed range: [19, 24], map range: [0, 68]\n",
      "inside: offset: 1, new seed range: [20, 25]\n",
      "hum2loc\n",
      "60 56 4\n",
      "56 93 -37\n",
      "seed2soil\n",
      "50 98 -48\n",
      "52 50 2\n",
      "inside: seed range: [52, 51], map range: [50, 97]\n",
      "inside: offset: 2, new seed range: [54, 53]\n",
      "soil2fert\n",
      "0 15 -15\n",
      "37 52 -15\n",
      "39 0 39\n",
      "fert2water\n",
      "49 53 -4\n",
      "inside: seed range: [54, 53], map range: [53, 60]\n",
      "inside: offset: -4, new seed range: [50, 49]\n",
      "water2light\n",
      "88 18 70\n",
      "18 25 -7\n",
      "inside: seed range: [50, 49], map range: [25, 94]\n",
      "inside: offset: -7, new seed range: [43, 42]\n",
      "light2temp\n",
      "45 77 -32\n",
      "81 45 36\n",
      "68 64 4\n",
      "temp2hum\n",
      "0 69 -69\n",
      "1 0 1\n",
      "inside: seed range: [43, 42], map range: [0, 68]\n",
      "inside: offset: 1, new seed range: [44, 43]\n",
      "hum2loc\n",
      "60 56 4\n",
      "56 93 -37\n",
      "seed2soil\n",
      "50 98 -48\n",
      "52 50 2\n",
      "soil2fert\n",
      "0 15 -15\n",
      "inside: seed range: [46, 49], map range: [15, 51]\n",
      "inside: offset: -15, new seed range: [31, 34]\n",
      "fert2water\n",
      "49 53 -4\n",
      "0 11 -11\n",
      "inside: seed range: [31, 34], map range: [11, 52]\n",
      "inside: offset: -11, new seed range: [20, 23]\n",
      "water2light\n",
      "88 18 70\n",
      "inside: seed range: [20, 23], map range: [18, 24]\n",
      "inside: offset: 70, new seed range: [90, 93]\n",
      "light2temp\n",
      "45 77 -32\n",
      "inside: seed range: [90, 93], map range: [77, 99]\n",
      "inside: offset: -32, new seed range: [58, 61]\n",
      "temp2hum\n",
      "0 69 -69\n",
      "1 0 1\n",
      "inside: seed range: [58, 61], map range: [0, 68]\n",
      "inside: offset: 1, new seed range: [59, 62]\n",
      "hum2loc\n",
      "60 56 4\n",
      "inside: seed range: [59, 62], map range: [56, 92]\n",
      "inside: offset: 4, new seed range: [63, 66]\n",
      "seed2soil\n",
      "50 98 -48\n",
      "52 50 2\n",
      "inside: seed range: [74, 76], map range: [50, 97]\n",
      "inside: offset: 2, new seed range: [76, 78]\n",
      "soil2fert\n",
      "0 15 -15\n",
      "37 52 -15\n",
      "39 0 39\n",
      "fert2water\n",
      "49 53 -4\n",
      "0 11 -11\n",
      "42 0 42\n",
      "57 7 50\n",
      "water2light\n",
      "88 18 70\n",
      "18 25 -7\n",
      "inside: seed range: [76, 78], map range: [25, 94]\n",
      "inside: offset: -7, new seed range: [69, 71]\n",
      "light2temp\n",
      "45 77 -32\n",
      "81 45 36\n",
      "68 64 4\n",
      "inside: seed range: [69, 71], map range: [64, 76]\n",
      "inside: offset: 4, new seed range: [73, 75]\n",
      "temp2hum\n",
      "0 69 -69\n",
      "1 0 1\n",
      "hum2loc\n",
      "60 56 4\n",
      "inside: seed range: [73, 75], map range: [56, 92]\n",
      "inside: offset: 4, new seed range: [77, 79]\n",
      "seed2soil\n",
      "50 98 -48\n",
      "52 50 2\n",
      "inside: seed range: [55, 67], map range: [50, 97]\n",
      "inside: offset: 2, new seed range: [57, 69]\n",
      "soil2fert\n",
      "0 15 -15\n",
      "37 52 -15\n",
      "39 0 39\n",
      "fert2water\n",
      "49 53 -4\n",
      "no overlap: seed range: [57, 69], map range: [53, 60]\n",
      "no overlap: offset: -4, new seed range: [49, 65]\n",
      "water2light\n",
      "88 18 70\n",
      "18 25 -7\n",
      "inside: seed range: [49, 65], map range: [25, 94]\n",
      "inside: offset: -7, new seed range: [42, 58]\n",
      "light2temp\n",
      "45 77 -32\n",
      "81 45 36\n",
      "no overlap: seed range: [42, 58], map range: [45, 63]\n",
      "no overlap: offset: 36, new seed range: [81, 94]\n",
      "temp2hum\n",
      "0 69 -69\n",
      "1 0 1\n",
      "hum2loc\n",
      "60 56 4\n",
      "no overlap: seed range: [81, 94], map range: [56, 92]\n",
      "no overlap: offset: 4, new seed range: [60, 98]\n",
      "seed2soil\n",
      "50 98 -48\n",
      "52 50 2\n",
      "inside: seed range: [81, 55], map range: [50, 97]\n",
      "inside: offset: 2, new seed range: [83, 57]\n",
      "soil2fert\n",
      "0 15 -15\n",
      "37 52 -15\n",
      "39 0 39\n",
      "fert2water\n",
      "49 53 -4\n",
      "0 11 -11\n",
      "42 0 42\n",
      "57 7 50\n",
      "water2light\n",
      "88 18 70\n",
      "18 25 -7\n",
      "inside: seed range: [83, 57], map range: [25, 94]\n",
      "inside: offset: -7, new seed range: [76, 50]\n",
      "light2temp\n",
      "45 77 -32\n",
      "81 45 36\n",
      "68 64 4\n",
      "temp2hum\n",
      "0 69 -69\n",
      "1 0 1\n",
      "hum2loc\n",
      "60 56 4\n",
      "56 93 -37\n",
      "seed2soil\n",
      "50 98 -48\n",
      "52 50 2\n",
      "soil2fert\n",
      "0 15 -15\n",
      "inside: seed range: [42, 44], map range: [15, 51]\n",
      "inside: offset: -15, new seed range: [27, 29]\n",
      "fert2water\n",
      "49 53 -4\n",
      "0 11 -11\n",
      "inside: seed range: [27, 29], map range: [11, 52]\n",
      "inside: offset: -11, new seed range: [16, 18]\n",
      "water2light\n",
      "88 18 70\n",
      "no overlap: seed range: [16, 18], map range: [18, 24]\n",
      "no overlap: offset: 70, new seed range: [88, 88]\n",
      "light2temp\n",
      "45 77 -32\n",
      "inside: seed range: [88, 88], map range: [77, 99]\n",
      "inside: offset: -32, new seed range: [56, 56]\n",
      "temp2hum\n",
      "0 69 -69\n",
      "1 0 1\n",
      "inside: seed range: [56, 56], map range: [0, 68]\n",
      "inside: offset: 1, new seed range: [57, 57]\n",
      "hum2loc\n",
      "60 56 4\n",
      "inside: seed range: [57, 57], map range: [56, 92]\n",
      "inside: offset: 4, new seed range: [61, 61]\n",
      "seed2soil\n",
      "50 98 -48\n",
      "52 50 2\n",
      "soil2fert\n",
      "0 15 -15\n",
      "inside: seed range: [16, 17], map range: [15, 51]\n",
      "inside: offset: -15, new seed range: [1, 2]\n",
      "fert2water\n",
      "49 53 -4\n",
      "0 11 -11\n",
      "42 0 42\n",
      "inside: seed range: [1, 2], map range: [0, 6]\n",
      "inside: offset: 42, new seed range: [43, 44]\n",
      "water2light\n",
      "88 18 70\n",
      "18 25 -7\n",
      "inside: seed range: [43, 44], map range: [25, 94]\n",
      "inside: offset: -7, new seed range: [36, 37]\n",
      "light2temp\n",
      "45 77 -32\n",
      "81 45 36\n",
      "68 64 4\n",
      "temp2hum\n",
      "0 69 -69\n",
      "1 0 1\n",
      "inside: seed range: [36, 37], map range: [0, 68]\n",
      "inside: offset: 1, new seed range: [37, 38]\n",
      "hum2loc\n",
      "60 56 4\n",
      "56 93 -37\n",
      "seed2soil\n",
      "50 98 -48\n",
      "52 50 2\n",
      "inside: seed range: [57, 52], map range: [50, 97]\n",
      "inside: offset: 2, new seed range: [59, 54]\n",
      "soil2fert\n",
      "0 15 -15\n",
      "37 52 -15\n",
      "39 0 39\n",
      "fert2water\n",
      "49 53 -4\n",
      "inside: seed range: [59, 54], map range: [53, 60]\n",
      "inside: offset: -4, new seed range: [55, 50]\n",
      "water2light\n",
      "88 18 70\n",
      "18 25 -7\n",
      "inside: seed range: [55, 50], map range: [25, 94]\n",
      "inside: offset: -7, new seed range: [48, 43]\n",
      "light2temp\n",
      "45 77 -32\n",
      "81 45 36\n",
      "68 64 4\n",
      "temp2hum\n",
      "0 69 -69\n",
      "1 0 1\n",
      "inside: seed range: [48, 43], map range: [0, 68]\n",
      "inside: offset: 1, new seed range: [49, 44]\n",
      "hum2loc\n",
      "60 56 4\n",
      "56 93 -37\n"
     ]
    },
    {
     "data": {
      "text/plain": [
       "20"
      ]
     },
     "execution_count": 51,
     "metadata": {},
     "output_type": "execute_result"
    }
   ],
   "source": [
    "solve2(*parse_input(\"test_almanac\"), debug=True) #== 46"
   ]
  },
  {
   "cell_type": "markdown",
   "metadata": {},
   "source": [
    "### Run on Input Data"
   ]
  },
  {
   "cell_type": "code",
   "execution_count": 34,
   "metadata": {},
   "outputs": [
    {
     "data": {
      "text/plain": [
       "inf"
      ]
     },
     "execution_count": 34,
     "metadata": {},
     "output_type": "execute_result"
    }
   ],
   "source": [
    "solve2(*parse_input(\"almanac\"))"
   ]
  },
  {
   "cell_type": "code",
   "execution_count": null,
   "metadata": {},
   "outputs": [],
   "source": []
  }
 ],
 "metadata": {
  "kernelspec": {
   "display_name": "Python 3.8.8 ('base')",
   "language": "python",
   "name": "python3"
  },
  "language_info": {
   "codemirror_mode": {
    "name": "ipython",
    "version": 3
   },
   "file_extension": ".py",
   "mimetype": "text/x-python",
   "name": "python",
   "nbconvert_exporter": "python",
   "pygments_lexer": "ipython3",
   "version": "3.9.7"
  },
  "vscode": {
   "interpreter": {
    "hash": "f49206fcf84a9145e7e21228cbafa911d1ac18292303b01e865d8267a9c448f7"
   }
  }
 },
 "nbformat": 4,
 "nbformat_minor": 4
}
