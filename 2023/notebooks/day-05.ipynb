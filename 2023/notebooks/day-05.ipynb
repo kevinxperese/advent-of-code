{
 "cells": [
  {
   "cell_type": "markdown",
   "metadata": {},
   "source": [
    "# --- Day 5: If You Give A Seed A Fertilizer ---\n",
    "\n",
    "https://adventofcode.com/2023/day/5"
   ]
  },
  {
   "cell_type": "markdown",
   "metadata": {},
   "source": [
    "Not gonna use/need this, turns out, but this is a pretty neat trick none-the-less:"
   ]
  },
  {
   "cell_type": "code",
   "execution_count": 4,
   "metadata": {},
   "outputs": [
    {
     "data": {
      "text/plain": [
       "1"
      ]
     },
     "execution_count": 4,
     "metadata": {},
     "output_type": "execute_result"
    }
   ],
   "source": [
    "class IdentityDict(dict):\n",
    "    __missing__ = lambda self, key : key\n",
    "\n",
    "test = IdentityDict()\n",
    "test[1]   "
   ]
  },
  {
   "cell_type": "markdown",
   "metadata": {},
   "source": [
    "## Parse the Input Data"
   ]
  },
  {
   "cell_type": "code",
   "execution_count": 5,
   "metadata": {},
   "outputs": [],
   "source": [
    "import re\n",
    "from collections import defaultdict"
   ]
  },
  {
   "cell_type": "code",
   "execution_count": 6,
   "metadata": {},
   "outputs": [],
   "source": [
    "def parse_input(filename):\n",
    "    \"\"\"Parse input data for puzzle.\n",
    "\n",
    "    Parameters\n",
    "    ----------\n",
    "    filename : str\n",
    "        The name of the *.txt file in the inputs/ directory.\n",
    "\n",
    "    Returns\n",
    "    -------\n",
    "    seeds, maps : list, dict\n",
    "        seeds is a list of the seeds that need to be run through all the mappings;\n",
    "        maps is a dictionary of lists, each list containing three numbers:\n",
    "            * start of destination range\n",
    "            * start of source range\n",
    "            * range length\n",
    "    \"\"\"\n",
    "    maps = defaultdict(list)\n",
    "    map_keys = [\"seed2soil\", \"soil2fert\", \"fert2water\", \"water2light\", \"light2temp\", \"temp2hum\", \"hum2loc\"]\n",
    "    \n",
    "    with open(f'../inputs/{filename}.txt') as _file:\n",
    "        for i, line in enumerate(_file):\n",
    "            if i == 0:\n",
    "                seeds = [int(s) for s in re.findall(\"\\d+\", line)]\n",
    "\n",
    "            else:\n",
    "                if line == \"\\n\":\n",
    "                    map_key = map_keys.pop(0)\n",
    "                else:\n",
    "                    if line[0].isdigit():\n",
    "                        maps[map_key].append([int(x) for x in line.strip().split()])\n",
    "\n",
    "    return seeds, maps"
   ]
  },
  {
   "cell_type": "code",
   "execution_count": 7,
   "metadata": {},
   "outputs": [
    {
     "data": {
      "text/plain": [
       "([79, 14, 55, 13],\n",
       " defaultdict(list,\n",
       "             {'seed2soil': [[50, 98, 2], [52, 50, 48]],\n",
       "              'soil2fert': [[0, 15, 37], [37, 52, 2], [39, 0, 15]],\n",
       "              'fert2water': [[49, 53, 8], [0, 11, 42], [42, 0, 7], [57, 7, 4]],\n",
       "              'water2light': [[88, 18, 7], [18, 25, 70]],\n",
       "              'light2temp': [[45, 77, 23], [81, 45, 19], [68, 64, 13]],\n",
       "              'temp2hum': [[0, 69, 1], [1, 0, 69]],\n",
       "              'hum2loc': [[60, 56, 37], [56, 93, 4]]}))"
      ]
     },
     "execution_count": 7,
     "metadata": {},
     "output_type": "execute_result"
    }
   ],
   "source": [
    "parse_input(\"test_almanac\")"
   ]
  },
  {
   "cell_type": "markdown",
   "metadata": {},
   "source": [
    "## Part 1\n",
    "---"
   ]
  },
  {
   "cell_type": "code",
   "execution_count": 20,
   "metadata": {},
   "outputs": [],
   "source": [
    "def solve1(seeds, maps):\n",
    "    min_loc = float(\"inf\")\n",
    "    map_keys = [\"seed2soil\", \"soil2fert\", \"fert2water\", \"water2light\", \"light2temp\", \"temp2hum\", \"hum2loc\"]\n",
    "\n",
    "    for seed in seeds:\n",
    "        for key in map_keys:\n",
    "            for line in maps[key]:\n",
    "                d, s, r = line  # d = destination, s = source, r = range\n",
    "                if seed in range(s, s+r):\n",
    "                    seed = d + (seed - s)  # no need to change the seed name...\n",
    "                    break\n",
    "                # ...if seed isn't found in any of the map ranges, it remains the same value\n",
    "\n",
    "        min_loc = min(min_loc, seed)\n",
    "\n",
    "    return min_loc"
   ]
  },
  {
   "cell_type": "markdown",
   "metadata": {},
   "source": [
    "### Run on Test Data"
   ]
  },
  {
   "cell_type": "code",
   "execution_count": 21,
   "metadata": {},
   "outputs": [
    {
     "data": {
      "text/plain": [
       "True"
      ]
     },
     "execution_count": 21,
     "metadata": {},
     "output_type": "execute_result"
    }
   ],
   "source": [
    "solve1(*parse_input(\"test_almanac\")) == 35"
   ]
  },
  {
   "cell_type": "markdown",
   "metadata": {},
   "source": [
    "### Run on Input Data"
   ]
  },
  {
   "cell_type": "code",
   "execution_count": 22,
   "metadata": {},
   "outputs": [
    {
     "data": {
      "text/plain": [
       "403695602"
      ]
     },
     "execution_count": 22,
     "metadata": {},
     "output_type": "execute_result"
    }
   ],
   "source": [
    "solve1(*parse_input(\"almanac\"))"
   ]
  },
  {
   "cell_type": "markdown",
   "metadata": {},
   "source": [
    "## Part 2\n",
    "---"
   ]
  },
  {
   "cell_type": "code",
   "execution_count": 50,
   "metadata": {},
   "outputs": [],
   "source": [
    "def solve2(seeds, maps):\n",
    "    min_loc = float(\"inf\")\n",
    "    map_keys = [\"seed2soil\", \"soil2fert\", \"fert2water\", \"water2light\", \"light2temp\", \"temp2hum\", \"hum2loc\"]\n",
    "\n",
    "    starts = [x for i, x in enumerate(seeds) if i % 2 == 0]\n",
    "    lengths = [x for i, x in enumerate(seeds) if i % 2 == 1] \n",
    "\n",
    "    seed_ranges = []\n",
    "    for s, l in zip(starts, lengths):\n",
    "        seed_ranges.append(set(range(s, s+l)))\n",
    "\n",
    "    for _range in seed_ranges:\n",
    "        for seed in _range:\n",
    "            for key in map_keys:\n",
    "                for line in maps[key]:\n",
    "                    d, s, r = line  # d = destination, s = source, r = range\n",
    "                    if seed in range(s, s+r):\n",
    "                        seed = d + (seed - s)  # no need to change the seed name...\n",
    "                        break\n",
    "                    # ...if seed isn't found in any of the map ranges, it remains the same value\n",
    "\n",
    "            min_loc = min(min_loc, seed)\n",
    "    \n",
    "    return min_loc"
   ]
  },
  {
   "cell_type": "code",
   "execution_count": 51,
   "metadata": {},
   "outputs": [
    {
     "data": {
      "text/plain": [
       "{0, 1, 2, 3, 4, 5, 6, 7, 8, 9}"
      ]
     },
     "execution_count": 51,
     "metadata": {},
     "output_type": "execute_result"
    }
   ],
   "source": [
    "set(range(10))"
   ]
  },
  {
   "cell_type": "markdown",
   "metadata": {},
   "source": [
    "### Run on Test Data"
   ]
  },
  {
   "cell_type": "code",
   "execution_count": 52,
   "metadata": {},
   "outputs": [
    {
     "data": {
      "text/plain": [
       "True"
      ]
     },
     "execution_count": 52,
     "metadata": {},
     "output_type": "execute_result"
    }
   ],
   "source": [
    "solve2(*parse_input(\"test_almanac\")) == 46"
   ]
  },
  {
   "cell_type": "markdown",
   "metadata": {},
   "source": [
    "### Run on Input Data"
   ]
  },
  {
   "cell_type": "code",
   "execution_count": 34,
   "metadata": {},
   "outputs": [
    {
     "data": {
      "text/plain": [
       "inf"
      ]
     },
     "execution_count": 34,
     "metadata": {},
     "output_type": "execute_result"
    }
   ],
   "source": [
    "solve2(*parse_input(\"almanac\"))"
   ]
  },
  {
   "cell_type": "code",
   "execution_count": null,
   "metadata": {},
   "outputs": [],
   "source": []
  }
 ],
 "metadata": {
  "kernelspec": {
   "display_name": "Python 3.8.8 ('base')",
   "language": "python",
   "name": "python3"
  },
  "language_info": {
   "codemirror_mode": {
    "name": "ipython",
    "version": 3
   },
   "file_extension": ".py",
   "mimetype": "text/x-python",
   "name": "python",
   "nbconvert_exporter": "python",
   "pygments_lexer": "ipython3",
   "version": "3.9.7"
  },
  "vscode": {
   "interpreter": {
    "hash": "f49206fcf84a9145e7e21228cbafa911d1ac18292303b01e865d8267a9c448f7"
   }
  }
 },
 "nbformat": 4,
 "nbformat_minor": 4
}
