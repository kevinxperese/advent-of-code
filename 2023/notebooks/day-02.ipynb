{
 "cells": [
  {
   "cell_type": "markdown",
   "metadata": {},
   "source": [
    "# --- Day X ---\n",
    "\n",
    "https://adventofcode.com/2023/day/"
   ]
  },
  {
   "cell_type": "markdown",
   "metadata": {},
   "source": [
    "## Part 1\n",
    "---"
   ]
  },
  {
   "cell_type": "code",
   "execution_count": 1,
   "metadata": {},
   "outputs": [],
   "source": [
    "max_colors = {\n",
    "    \"red\" : 12,\n",
    "    \"green\" : 13,\n",
    "    \"blue\" : 14\n",
    "}"
   ]
  },
  {
   "cell_type": "code",
   "execution_count": 2,
   "metadata": {},
   "outputs": [],
   "source": [
    "import re"
   ]
  },
  {
   "cell_type": "code",
   "execution_count": 3,
   "metadata": {},
   "outputs": [],
   "source": [
    "def parse_and_solve(filename):\n",
    "    \"\"\"Parse input data and solve the puzzle.\n",
    "\n",
    "    Parameters\n",
    "    ----------\n",
    "    filename : str\n",
    "        The name of the *.txt file in the inputs/ directory.\n",
    "\n",
    "    Returns\n",
    "    -------\n",
    "    answer : int\n",
    "        The sum of the Game IDs that are valid/possible\n",
    "    \"\"\"\n",
    "    answer = 0 \n",
    "\n",
    "    with open(f'../inputs/{filename}.txt') as _file:\n",
    "        for line in _file:\n",
    "            nums = re.findall(\"\\d+\", line)\n",
    "            game_id = int(nums.pop(0))\n",
    "            colors = re.findall(\"red|green|blue\", line)\n",
    "            \n",
    "            for num, color in zip(nums, colors):\n",
    "                game_id *= int(num) <= max_colors[color]\n",
    "            \n",
    "            answer += game_id\n",
    "\n",
    "    return answer"
   ]
  },
  {
   "cell_type": "markdown",
   "metadata": {},
   "source": [
    "### Run on Test Data"
   ]
  },
  {
   "cell_type": "code",
   "execution_count": 4,
   "metadata": {},
   "outputs": [
    {
     "data": {
      "text/plain": [
       "True"
      ]
     },
     "execution_count": 4,
     "metadata": {},
     "output_type": "execute_result"
    }
   ],
   "source": [
    "parse_and_solve(\"test_games\") == 8"
   ]
  },
  {
   "cell_type": "markdown",
   "metadata": {},
   "source": [
    "### Run on Input Data"
   ]
  },
  {
   "cell_type": "code",
   "execution_count": 5,
   "metadata": {},
   "outputs": [
    {
     "data": {
      "text/plain": [
       "1734"
      ]
     },
     "execution_count": 5,
     "metadata": {},
     "output_type": "execute_result"
    }
   ],
   "source": [
    "parse_and_solve(\"games\")"
   ]
  },
  {
   "cell_type": "markdown",
   "metadata": {},
   "source": [
    "## Part 2\n",
    "---"
   ]
  },
  {
   "cell_type": "code",
   "execution_count": 6,
   "metadata": {},
   "outputs": [],
   "source": [
    "def parse_and_solve2(filename):\n",
    "    \"\"\"Parse input data and solve the puzzle.\n",
    "\n",
    "    Parameters\n",
    "    ----------\n",
    "    filename : str\n",
    "        The name of the *.txt file in the inputs/ directory.\n",
    "\n",
    "    Returns\n",
    "    -------\n",
    "    answer : int\n",
    "        The sum of the Game IDs that are valid/possible\n",
    "    \"\"\"\n",
    "    answer = 0 \n",
    "\n",
    "    with open(f'../inputs/{filename}.txt') as _file:\n",
    "        for line in _file:\n",
    "            nums = re.findall(\"\\d+\", line)\n",
    "            game_id = int(nums.pop(0))\n",
    "            colors = re.findall(\"red|green|blue\", line)\n",
    "            \n",
    "            cubes = {\"red\" : [], \"blue\" : [], \"green\" : []}\n",
    "\n",
    "            for num, color in zip(nums, colors):\n",
    "                cubes[color].append(int(num))\n",
    "            \n",
    "            power = max(cubes[\"red\"]) * max(cubes[\"blue\"]) * max(cubes[\"green\"])\n",
    "            answer += power\n",
    "\n",
    "    return answer"
   ]
  },
  {
   "cell_type": "markdown",
   "metadata": {},
   "source": [
    "### Run on Test Data"
   ]
  },
  {
   "cell_type": "code",
   "execution_count": 7,
   "metadata": {},
   "outputs": [
    {
     "data": {
      "text/plain": [
       "True"
      ]
     },
     "execution_count": 7,
     "metadata": {},
     "output_type": "execute_result"
    }
   ],
   "source": [
    "parse_and_solve2(\"test_games\") == 2286"
   ]
  },
  {
   "cell_type": "markdown",
   "metadata": {},
   "source": [
    "### Run on Input Data"
   ]
  },
  {
   "cell_type": "code",
   "execution_count": 8,
   "metadata": {},
   "outputs": [
    {
     "data": {
      "text/plain": [
       "70387"
      ]
     },
     "execution_count": 8,
     "metadata": {},
     "output_type": "execute_result"
    }
   ],
   "source": [
    "parse_and_solve2(\"games\")"
   ]
  }
 ],
 "metadata": {
  "kernelspec": {
   "display_name": "Python 3.8.8 ('base')",
   "language": "python",
   "name": "python3"
  },
  "language_info": {
   "codemirror_mode": {
    "name": "ipython",
    "version": 3
   },
   "file_extension": ".py",
   "mimetype": "text/x-python",
   "name": "python",
   "nbconvert_exporter": "python",
   "pygments_lexer": "ipython3",
   "version": "3.9.13"
  },
  "vscode": {
   "interpreter": {
    "hash": "f49206fcf84a9145e7e21228cbafa911d1ac18292303b01e865d8267a9c448f7"
   }
  }
 },
 "nbformat": 4,
 "nbformat_minor": 4
}
