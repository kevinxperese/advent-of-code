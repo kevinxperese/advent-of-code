{
 "cells": [
  {
   "cell_type": "markdown",
   "metadata": {},
   "source": [
    "# --- Day 8: Haunted Wasteland ---\n",
    "\n",
    "https://adventofcode.com/2023/day/8"
   ]
  },
  {
   "cell_type": "markdown",
   "metadata": {},
   "source": [
    "## Parse the Input Data"
   ]
  },
  {
   "cell_type": "code",
   "execution_count": 1,
   "metadata": {},
   "outputs": [],
   "source": [
    "def parse_input(filename):\n",
    "    \"\"\"Parse input data for puzzle.\n",
    "\n",
    "    Parameters\n",
    "    ----------\n",
    "    filename : str\n",
    "        The name of the *.txt file in the inputs/ directory.\n",
    "\n",
    "    Returns\n",
    "    -------\n",
    "    turns, network : str, dict\n",
    "    \"\"\"\n",
    "    network = {}\n",
    "\n",
    "    with open(f'../inputs/{filename}.txt') as _file:\n",
    "        for i, line in enumerate(_file):\n",
    "            if i == 0:\n",
    "                turns = line.strip()\n",
    "            elif i >= 2:\n",
    "                network[line[0:3]] = [line[7:10], line[12:15]]\n",
    "\n",
    "    return turns, network"
   ]
  },
  {
   "cell_type": "code",
   "execution_count": 2,
   "metadata": {},
   "outputs": [
    {
     "data": {
      "text/plain": [
       "('RL',\n",
       " {'AAA': ['BBB', 'CCC'],\n",
       "  'BBB': ['DDD', 'EEE'],\n",
       "  'CCC': ['ZZZ', 'GGG'],\n",
       "  'DDD': ['DDD', 'DDD'],\n",
       "  'EEE': ['EEE', 'EEE'],\n",
       "  'GGG': ['GGG', 'GGG'],\n",
       "  'ZZZ': ['ZZZ', 'ZZZ']})"
      ]
     },
     "execution_count": 2,
     "metadata": {},
     "output_type": "execute_result"
    }
   ],
   "source": [
    "parse_input(\"test_desert_map1\")"
   ]
  },
  {
   "cell_type": "markdown",
   "metadata": {},
   "source": [
    "## Part 1\n",
    "---"
   ]
  },
  {
   "cell_type": "code",
   "execution_count": 3,
   "metadata": {},
   "outputs": [],
   "source": [
    "def solve1(turns, network, node=\"AAA\"):\n",
    "    len_turns = len(turns)\n",
    "    num_turns = 0\n",
    "    turn_dict = {\"L\" : 0, \"R\" : 1}\n",
    "\n",
    "    while not node == \"ZZZ\":\n",
    "        turn = turn_dict[turns[num_turns % len_turns]]\n",
    "        node = network[node][turn]\n",
    "        num_turns += 1\n",
    "\n",
    "    return num_turns"
   ]
  },
  {
   "cell_type": "markdown",
   "metadata": {},
   "source": [
    "### Run on Test Data"
   ]
  },
  {
   "cell_type": "code",
   "execution_count": 4,
   "metadata": {},
   "outputs": [
    {
     "data": {
      "text/plain": [
       "True"
      ]
     },
     "execution_count": 4,
     "metadata": {},
     "output_type": "execute_result"
    }
   ],
   "source": [
    "solve1(*parse_input(\"test_desert_map1\")) == 2"
   ]
  },
  {
   "cell_type": "code",
   "execution_count": 5,
   "metadata": {},
   "outputs": [
    {
     "data": {
      "text/plain": [
       "True"
      ]
     },
     "execution_count": 5,
     "metadata": {},
     "output_type": "execute_result"
    }
   ],
   "source": [
    "solve1(*parse_input(\"test_desert_map2\")) == 6"
   ]
  },
  {
   "cell_type": "markdown",
   "metadata": {},
   "source": [
    "### Run on Input Data"
   ]
  },
  {
   "cell_type": "code",
   "execution_count": 6,
   "metadata": {},
   "outputs": [
    {
     "data": {
      "text/plain": [
       "18023"
      ]
     },
     "execution_count": 6,
     "metadata": {},
     "output_type": "execute_result"
    }
   ],
   "source": [
    "solve1(*parse_input(\"desert_map\"))"
   ]
  },
  {
   "cell_type": "markdown",
   "metadata": {},
   "source": [
    "## Part 2\n",
    "---"
   ]
  },
  {
   "cell_type": "markdown",
   "metadata": {},
   "source": [
    "Brute force won't work..."
   ]
  },
  {
   "cell_type": "code",
   "execution_count": 7,
   "metadata": {},
   "outputs": [],
   "source": [
    "def solve2(turns, network):\n",
    "    turn_dict = {\"L\" : 0, \"R\" : 1}\n",
    "    len_turns = len(turns)\n",
    "\n",
    "    nodes = [n for n in network if n[-1] == \"A\"]\n",
    "    stop_cond = \"Z\" * len(nodes)\n",
    "\n",
    "    num_turns = 0\n",
    "\n",
    "    while True:\n",
    "\n",
    "        turn = turn_dict[turns[num_turns % len_turns]]\n",
    "        last_letters = \"\"\n",
    "\n",
    "        for i, n in enumerate(nodes):\n",
    "            last_letters += n[-1]\n",
    "            nodes[i] = network[n][turn]\n",
    "\n",
    "        print(last_letters, nodes)\n",
    "\n",
    "        if last_letters == stop_cond:\n",
    "            break\n",
    "        else:\n",
    "            num_turns += 1\n",
    "\n",
    "    return num_turns"
   ]
  },
  {
   "cell_type": "markdown",
   "metadata": {},
   "source": [
    "### Run on Test Data"
   ]
  },
  {
   "cell_type": "markdown",
   "metadata": {},
   "source": [
    "... although it works fine on the test data."
   ]
  },
  {
   "cell_type": "code",
   "execution_count": 8,
   "metadata": {},
   "outputs": [
    {
     "name": "stdout",
     "output_type": "stream",
     "text": [
      "AA ['11B', '22B']\n",
      "BB ['11Z', '22C']\n",
      "ZC ['11B', '22Z']\n",
      "BZ ['11Z', '22B']\n",
      "ZB ['11B', '22C']\n",
      "BC ['11Z', '22Z']\n",
      "ZZ ['11B', '22B']\n"
     ]
    },
    {
     "data": {
      "text/plain": [
       "True"
      ]
     },
     "execution_count": 8,
     "metadata": {},
     "output_type": "execute_result"
    }
   ],
   "source": [
    "solve2(*parse_input(\"test_desert_map3\")) == 6"
   ]
  },
  {
   "cell_type": "code",
   "execution_count": 9,
   "metadata": {},
   "outputs": [],
   "source": [
    "import math"
   ]
  },
  {
   "cell_type": "markdown",
   "metadata": {},
   "source": [
    "Find the number of turns it takes for each starting node to reach a node ending in \"Z\".  \n",
    "Then calc the Lease Common Multiple of the turn counts."
   ]
  },
  {
   "cell_type": "code",
   "execution_count": 12,
   "metadata": {},
   "outputs": [],
   "source": [
    "def solve2(turns, network):\n",
    "    turn_dict = {\"L\" : 0, \"R\" : 1}\n",
    "    len_turns = len(turns)\n",
    "    turn_counts = []\n",
    "    nodes = [n for n in network if n[-1] == \"A\"]\n",
    "\n",
    "    for node in nodes:\n",
    "        num_turns = 0\n",
    "\n",
    "        while True:\n",
    "            turn = turn_dict[turns[num_turns % len_turns]]\n",
    "            num_turns += 1\n",
    "\n",
    "            node = network[node][turn]\n",
    "\n",
    "            if node[-1] == \"Z\":\n",
    "                turn_counts.append(num_turns)\n",
    "                break\n",
    "\n",
    "    print(turn_counts)\n",
    "    # Given the list of turn counts it takes to get to a node eding in \"Z\"\n",
    "    # for each starting node, need to find the least common multiple (LCM)\n",
    "    # There are multiple ways to do the calculation.\n",
    "    # Source: https://www.calculatorsoup.com/calculators/math/lcm.php\n",
    "\n",
    "    # Listing method is just another brute force approach that won't work here...\n",
    "    # multiples = [set() for _ in range(len(turn_counts))]\n",
    "    # mult_counter = 2\n",
    "    # while True:\n",
    "    #     for i, m in enumerate(multiples):\n",
    "    #         m.add(turn_counts[i] * mult_counter)\n",
    "    #\n",
    "    #     if mult_counter % 1000 == 0:\n",
    "    #         answer = set.intersection(multiples)\n",
    "    #         if len(answer) == 1:\n",
    "    #             return answer\n",
    "\n",
    "    # But another method for finding LCM(x, y) is:\n",
    "    #   LCM(x, y) = xy / GCD(x, y)\n",
    "    # Thankfully(!) Python has a math.gcd() function!\n",
    "    # lcm = turn_counts[0]\n",
    "    # for t in turn_counts[1:]:\n",
    "    #     lcm = (lcm * t) / math.gcd(int(lcm), t)\n",
    "    # Doh!\n",
    "    # math had math.lcm()!\n",
    "\n",
    "    return int(math.lcm(*turn_counts))"
   ]
  },
  {
   "cell_type": "markdown",
   "metadata": {},
   "source": [
    "### Run on Test Data"
   ]
  },
  {
   "cell_type": "code",
   "execution_count": 13,
   "metadata": {},
   "outputs": [
    {
     "name": "stdout",
     "output_type": "stream",
     "text": [
      "[2, 3]\n"
     ]
    },
    {
     "data": {
      "text/plain": [
       "True"
      ]
     },
     "execution_count": 13,
     "metadata": {},
     "output_type": "execute_result"
    }
   ],
   "source": [
    "solve2(*parse_input(\"test_desert_map3\")) == 6"
   ]
  },
  {
   "cell_type": "markdown",
   "metadata": {},
   "source": [
    "### Run on Input Data"
   ]
  },
  {
   "cell_type": "code",
   "execution_count": 14,
   "metadata": {},
   "outputs": [
    {
     "name": "stdout",
     "output_type": "stream",
     "text": [
      "[19637, 18023, 21251, 16409, 11567, 14257]\n"
     ]
    },
    {
     "data": {
      "text/plain": [
       "14449445933179"
      ]
     },
     "execution_count": 14,
     "metadata": {},
     "output_type": "execute_result"
    }
   ],
   "source": [
    "solve2(*parse_input(\"desert_map\"))"
   ]
  }
 ],
 "metadata": {
  "kernelspec": {
   "display_name": "Python 3.8.8 ('base')",
   "language": "python",
   "name": "python3"
  },
  "language_info": {
   "codemirror_mode": {
    "name": "ipython",
    "version": 3
   },
   "file_extension": ".py",
   "mimetype": "text/x-python",
   "name": "python",
   "nbconvert_exporter": "python",
   "pygments_lexer": "ipython3",
   "version": "3.9.13"
  },
  "vscode": {
   "interpreter": {
    "hash": "f49206fcf84a9145e7e21228cbafa911d1ac18292303b01e865d8267a9c448f7"
   }
  }
 },
 "nbformat": 4,
 "nbformat_minor": 4
}
