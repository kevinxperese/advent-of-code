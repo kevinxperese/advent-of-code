{
 "cells": [
  {
   "cell_type": "markdown",
   "metadata": {},
   "source": [
    "# --- Day 13: Point of Incidence ---\n",
    "\n",
    "https://adventofcode.com/2023/day/13"
   ]
  },
  {
   "cell_type": "markdown",
   "metadata": {},
   "source": [
    "## Parse the Input Data"
   ]
  },
  {
   "cell_type": "code",
   "execution_count": 48,
   "metadata": {},
   "outputs": [],
   "source": [
    "def parse(filename):\n",
    "    \"\"\"Parse input data for puzzle.\n",
    "\n",
    "    Parameters\n",
    "    ----------\n",
    "    filename : str\n",
    "        The name of the *.txt file in the inputs/ directory.\n",
    "\n",
    "    Returns\n",
    "    -------\n",
    "\n",
    "    \"\"\"\n",
    "    mirrors = []\n",
    "    with open(f'../inputs/{filename}.txt') as f:\n",
    "        mirror = []\n",
    "        for line in f:\n",
    "            if not line == \"\\n\":\n",
    "                mirror.append(line.strip())\n",
    "            else:\n",
    "                mirrors.append(mirror)\n",
    "                mirror = []\n",
    "\n",
    "        # Add the last mirror!\n",
    "        mirrors.append(mirror)\n",
    "\n",
    "    # Transpose the mirrors\n",
    "    sideways_mirrors = []\n",
    "    for mirror in mirrors:\n",
    "        sideways_mirror = [\"\" for col in mirror[0]]\n",
    "        for line in mirror:\n",
    "            for i, c in enumerate(line):\n",
    "                sideways_mirror[i] += c\n",
    "\n",
    "        sideways_mirrors.append(sideways_mirror)\n",
    "    # print(sideways_mirrors[0])\n",
    "    return mirrors"
   ]
  },
  {
   "cell_type": "code",
   "execution_count": 49,
   "metadata": {},
   "outputs": [
    {
     "data": {
      "text/plain": [
       "['#...##..#',\n",
       " '#....#..#',\n",
       " '..##..###',\n",
       " '#####.##.',\n",
       " '#####.##.',\n",
       " '..##..###',\n",
       " '#....#..#']"
      ]
     },
     "execution_count": 49,
     "metadata": {},
     "output_type": "execute_result"
    }
   ],
   "source": [
    "parse(\"test_mirrors\")[1]"
   ]
  },
  {
   "cell_type": "markdown",
   "metadata": {},
   "source": [
    "## Part 1\n",
    "---"
   ]
  },
  {
   "cell_type": "code",
   "execution_count": 1,
   "metadata": {},
   "outputs": [],
   "source": [
    "import numpy as np"
   ]
  },
  {
   "cell_type": "code",
   "execution_count": 59,
   "metadata": {},
   "outputs": [],
   "source": [
    "def find_reflection(mirror):\n",
    "    height = len(mirror)\n",
    "    width = len(mirror[0])\n",
    "\n",
    "    # check from the left\n",
    "    for i in range(1, width):\n",
    "        left = mirror[0][:i]\n",
    "        right = mirror[0][i : (i * 2)]\n",
    "        if left == right: print(\"woot!\")\n",
    "        print(left, right)\n",
    "\n",
    "    print()\n",
    "    # check from the right\n",
    "    for i in range(-1, -1 * width, -1):\n",
    "        left = mirror[0][(i * 2) : i]\n",
    "        right = mirror[0][i:]\n",
    "        if left == right:\n",
    "            print(\"woot!\")\n",
    "            print(width - len(right))\n",
    "        print(left, right)\n",
    "\n",
    "    return None"
   ]
  },
  {
   "cell_type": "code",
   "execution_count": 60,
   "metadata": {},
   "outputs": [
    {
     "name": "stdout",
     "output_type": "stream",
     "text": [
      "# .\n",
      "#. ##\n",
      "#.# #..\n",
      "#.## ..##\n",
      "#.##. .##.\n",
      "#.##.. ##.\n",
      "#.##..# #.\n",
      "#.##..## .\n",
      "\n",
      "# .\n",
      ".# #.\n",
      "#.. ##.\n",
      "woot!\n",
      "5\n",
      ".##. .##.\n",
      "#.## ..##.\n",
      "#.# #..##.\n",
      "#. ##..##.\n",
      "# .##..##.\n"
     ]
    }
   ],
   "source": [
    "find_reflection(parse(\"test_mirrors\")[0])"
   ]
  },
  {
   "cell_type": "code",
   "execution_count": 74,
   "metadata": {},
   "outputs": [],
   "source": [
    "def find_reflection2(mirror):\n",
    "\n",
    "    # Check from the top\n",
    "    for i in range(1, int(len(mirror))):\n",
    "        rev_top = \"\".join(mirror[:i][::-1])\n",
    "        bottom = \"\".join(mirror[i : (i * 2)])\n",
    "        if rev_top == bottom: \n",
    "            return i\n",
    "\n",
    "    # Check from the bottom\n",
    "    for i in range(-1, min(0, -1 * len(mirror)), -1):\n",
    "        bottom = \"\".join(mirror[i:])\n",
    "        rev_top = \"\".join(mirror[min(0, (i * 2)):i][::-1])\n",
    "        if rev_top == bottom: \n",
    "            return len(mirror) + i\n",
    "\n",
    "\n"
   ]
  },
  {
   "cell_type": "code",
   "execution_count": 75,
   "metadata": {},
   "outputs": [
    {
     "data": {
      "text/plain": [
       "['#...##..#',\n",
       " '#....#..#',\n",
       " '..##..###',\n",
       " '#####.##.',\n",
       " '#####.##.',\n",
       " '..##..###',\n",
       " '#....#..#']"
      ]
     },
     "execution_count": 75,
     "metadata": {},
     "output_type": "execute_result"
    }
   ],
   "source": [
    "parse(\"test_mirrors\")[1]"
   ]
  },
  {
   "cell_type": "code",
   "execution_count": 76,
   "metadata": {},
   "outputs": [
    {
     "name": "stdout",
     "output_type": "stream",
     "text": [
      "top:#...##..#, bottom:#....#..#\n",
      "top:#...##..##....#..#, bottom:..##..########.##.\n",
      "top:#...##..##....#..#..##..###, bottom:#####.##.#####.##...##..###\n",
      "top:#...##..##....#..#..##..########.##., bottom:#####.##...##..####....#..#\n",
      "top:#...##..##....#..#..##..########.##.#####.##., bottom:..##..####....#..#\n",
      "top:#...##..##....#..#..##..########.##.#####.##...##..###, bottom:#....#..#\n",
      "\n",
      "top:..##..###, bottom:#....#..#\n",
      "top:#####.##.#####.##., bottom:..##..####....#..#\n",
      "woot!\n"
     ]
    },
    {
     "data": {
      "text/plain": [
       "4"
      ]
     },
     "execution_count": 76,
     "metadata": {},
     "output_type": "execute_result"
    }
   ],
   "source": [
    "find_reflection2(parse(\"test_mirrors\")[1])"
   ]
  },
  {
   "cell_type": "code",
   "execution_count": 63,
   "metadata": {},
   "outputs": [
    {
     "data": {
      "text/plain": [
       "['#...##..#',\n",
       " '#....#..#',\n",
       " '..##..###',\n",
       " '#####.##.',\n",
       " '#####.##.',\n",
       " '..##..###',\n",
       " '#....#..#']"
      ]
     },
     "execution_count": 63,
     "metadata": {},
     "output_type": "execute_result"
    }
   ],
   "source": [
    "mirror"
   ]
  },
  {
   "cell_type": "code",
   "execution_count": 65,
   "metadata": {},
   "outputs": [
    {
     "data": {
      "text/plain": [
       "['#####.##.', '..##..###', '#....#..#']"
      ]
     },
     "execution_count": 65,
     "metadata": {},
     "output_type": "execute_result"
    }
   ],
   "source": [
    "mirror[min(0, (-3 * 2)):-3][::-1]"
   ]
  },
  {
   "cell_type": "code",
   "execution_count": 40,
   "metadata": {},
   "outputs": [
    {
     "data": {
      "text/plain": [
       "array([[0, 1, 1, 0],\n",
       "       [0, 1, 1, 0]])"
      ]
     },
     "execution_count": 40,
     "metadata": {},
     "output_type": "execute_result"
    }
   ],
   "source": [
    "foo = np.array(((0, 1, 1, 0), (0, 1, 1, 0)))\n",
    "foo"
   ]
  },
  {
   "cell_type": "code",
   "execution_count": 37,
   "metadata": {},
   "outputs": [
    {
     "data": {
      "text/plain": [
       "True"
      ]
     },
     "execution_count": 37,
     "metadata": {},
     "output_type": "execute_result"
    }
   ],
   "source": [
    "bar = foo[:, :2]\n",
    "baz = foo[:, 2:]\n",
    "np.array_equal(bar, np.flip(baz, axis=1))"
   ]
  },
  {
   "cell_type": "markdown",
   "metadata": {},
   "source": [
    "### Run on Test Data"
   ]
  },
  {
   "cell_type": "code",
   "execution_count": null,
   "metadata": {},
   "outputs": [],
   "source": []
  },
  {
   "cell_type": "markdown",
   "metadata": {},
   "source": [
    "### Run on Input Data"
   ]
  },
  {
   "cell_type": "code",
   "execution_count": null,
   "metadata": {},
   "outputs": [],
   "source": []
  },
  {
   "cell_type": "markdown",
   "metadata": {},
   "source": [
    "## Part 2\n",
    "---"
   ]
  },
  {
   "cell_type": "code",
   "execution_count": null,
   "metadata": {},
   "outputs": [],
   "source": []
  },
  {
   "cell_type": "markdown",
   "metadata": {},
   "source": [
    "### Run on Test Data"
   ]
  },
  {
   "cell_type": "code",
   "execution_count": null,
   "metadata": {},
   "outputs": [],
   "source": []
  },
  {
   "cell_type": "markdown",
   "metadata": {},
   "source": [
    "### Run on Input Data"
   ]
  },
  {
   "cell_type": "code",
   "execution_count": null,
   "metadata": {},
   "outputs": [],
   "source": []
  }
 ],
 "metadata": {
  "kernelspec": {
   "display_name": "Python 3.8.8 ('base')",
   "language": "python",
   "name": "python3"
  },
  "language_info": {
   "codemirror_mode": {
    "name": "ipython",
    "version": 3
   },
   "file_extension": ".py",
   "mimetype": "text/x-python",
   "name": "python",
   "nbconvert_exporter": "python",
   "pygments_lexer": "ipython3",
   "version": "3.9.7"
  },
  "vscode": {
   "interpreter": {
    "hash": "f49206fcf84a9145e7e21228cbafa911d1ac18292303b01e865d8267a9c448f7"
   }
  }
 },
 "nbformat": 4,
 "nbformat_minor": 4
}
