{
 "cells": [
  {
   "cell_type": "markdown",
   "metadata": {},
   "source": [
    "# --- Day 13: Point of Incidence ---\n",
    "\n",
    "https://adventofcode.com/2023/day/13"
   ]
  },
  {
   "cell_type": "markdown",
   "metadata": {},
   "source": [
    "## Parse the Input Data"
   ]
  },
  {
   "cell_type": "code",
   "execution_count": 62,
   "metadata": {},
   "outputs": [],
   "source": [
    "def parse(filename):\n",
    "    \"\"\"Parse input data for puzzle.\n",
    "\n",
    "    Parameters\n",
    "    ----------\n",
    "    filename : str\n",
    "        The name of the *.txt file in the inputs/ directory.\n",
    "\n",
    "    Returns\n",
    "    -------\n",
    "\n",
    "    \"\"\"\n",
    "    sideways_mirrors = []\n",
    "    mirrors = []\n",
    "\n",
    "    with open(f'../inputs/{filename}.txt') as f:\n",
    "        mirror = []\n",
    "        sideways_mirror = [\"\" for _ in len(f)]\n",
    "\n",
    "        for line in f:\n",
    "            if not line == \"\\n\":\n",
    "                mirror.append(line.strip())\n",
    "                for i, c in enumerate(line):\n",
    "                    sideways_mirror[i] += c\n",
    "\n",
    "            else:\n",
    "                mirrors.append(mirror)\n",
    "                mirror = []\n",
    "\n",
    "                sideways_mirrors.append(sideways_mirror)\n",
    "                sideways_mirror = [\"\" for _ in len(f)]\n",
    "\n",
    "        # Add the last mirror!\n",
    "        mirrors.append(mirror)\n",
    "        sideways_mirrors.append(sideways_mirror)\n",
    "\n",
    "    print(sideways_mirror)\n",
    "\n",
    "    return mirrors"
   ]
  },
  {
   "cell_type": "code",
   "execution_count": 63,
   "metadata": {},
   "outputs": [
    {
     "ename": "TypeError",
     "evalue": "object of type '_io.TextIOWrapper' has no len()",
     "output_type": "error",
     "traceback": [
      "\u001b[0;31m---------------------------------------------------------------------------\u001b[0m",
      "\u001b[0;31mTypeError\u001b[0m                                 Traceback (most recent call last)",
      "\u001b[1;32m/Users/kevin/Sandboxes/advent-of-code/2023/notebooks/day-13.ipynb Cell 4\u001b[0m line \u001b[0;36m<cell line: 1>\u001b[0;34m()\u001b[0m\n\u001b[0;32m----> <a href='vscode-notebook-cell:/Users/kevin/Sandboxes/advent-of-code/2023/notebooks/day-13.ipynb#X22sZmlsZQ%3D%3D?line=0'>1</a>\u001b[0m parse(\u001b[39m\"\u001b[39;49m\u001b[39mtest_mirrors\u001b[39;49m\u001b[39m\"\u001b[39;49m)[\u001b[39m0\u001b[39m]\n",
      "\u001b[1;32m/Users/kevin/Sandboxes/advent-of-code/2023/notebooks/day-13.ipynb Cell 4\u001b[0m line \u001b[0;36mparse\u001b[0;34m(filename)\u001b[0m\n\u001b[1;32m     <a href='vscode-notebook-cell:/Users/kevin/Sandboxes/advent-of-code/2023/notebooks/day-13.ipynb#X22sZmlsZQ%3D%3D?line=15'>16</a>\u001b[0m \u001b[39mwith\u001b[39;00m \u001b[39mopen\u001b[39m(\u001b[39mf\u001b[39m\u001b[39m'\u001b[39m\u001b[39m../inputs/\u001b[39m\u001b[39m{\u001b[39;00mfilename\u001b[39m}\u001b[39;00m\u001b[39m.txt\u001b[39m\u001b[39m'\u001b[39m) \u001b[39mas\u001b[39;00m f:\n\u001b[1;32m     <a href='vscode-notebook-cell:/Users/kevin/Sandboxes/advent-of-code/2023/notebooks/day-13.ipynb#X22sZmlsZQ%3D%3D?line=16'>17</a>\u001b[0m     mirror \u001b[39m=\u001b[39m []\n\u001b[0;32m---> <a href='vscode-notebook-cell:/Users/kevin/Sandboxes/advent-of-code/2023/notebooks/day-13.ipynb#X22sZmlsZQ%3D%3D?line=17'>18</a>\u001b[0m     sideways_mirror \u001b[39m=\u001b[39m [\u001b[39m\"\u001b[39m\u001b[39m\"\u001b[39m \u001b[39mfor\u001b[39;00m _ \u001b[39min\u001b[39;00m \u001b[39mlen\u001b[39;49m(f)]\n\u001b[1;32m     <a href='vscode-notebook-cell:/Users/kevin/Sandboxes/advent-of-code/2023/notebooks/day-13.ipynb#X22sZmlsZQ%3D%3D?line=19'>20</a>\u001b[0m     \u001b[39mfor\u001b[39;00m line \u001b[39min\u001b[39;00m f:\n\u001b[1;32m     <a href='vscode-notebook-cell:/Users/kevin/Sandboxes/advent-of-code/2023/notebooks/day-13.ipynb#X22sZmlsZQ%3D%3D?line=20'>21</a>\u001b[0m         \u001b[39mif\u001b[39;00m \u001b[39mnot\u001b[39;00m line \u001b[39m==\u001b[39m \u001b[39m\"\u001b[39m\u001b[39m\\n\u001b[39;00m\u001b[39m\"\u001b[39m:\n",
      "\u001b[0;31mTypeError\u001b[0m: object of type '_io.TextIOWrapper' has no len()"
     ]
    }
   ],
   "source": [
    "parse(\"test_mirrors\")[0]"
   ]
  },
  {
   "cell_type": "markdown",
   "metadata": {},
   "source": [
    "## Part 1\n",
    "---"
   ]
  },
  {
   "cell_type": "code",
   "execution_count": 1,
   "metadata": {},
   "outputs": [],
   "source": [
    "import numpy as np"
   ]
  },
  {
   "cell_type": "code",
   "execution_count": 59,
   "metadata": {},
   "outputs": [],
   "source": [
    "def find_reflection(mirror):\n",
    "    height = len(mirror)\n",
    "    width = len(mirror[0])\n",
    "\n",
    "    # check from the left\n",
    "    for i in range(1, width):\n",
    "        left = mirror[0][:i]\n",
    "        right = mirror[0][i : (i * 2)]\n",
    "        if left == right: print(\"woot!\")\n",
    "        print(left, right)\n",
    "\n",
    "    print()\n",
    "    # check from the right\n",
    "    for i in range(-1, -1 * width, -1):\n",
    "        left = mirror[0][(i * 2) : i]\n",
    "        right = mirror[0][i:]\n",
    "        if left == right:\n",
    "            print(\"woot!\")\n",
    "            print(width - len(right))\n",
    "        print(left, right)\n",
    "\n",
    "    return None"
   ]
  },
  {
   "cell_type": "code",
   "execution_count": 60,
   "metadata": {},
   "outputs": [
    {
     "name": "stdout",
     "output_type": "stream",
     "text": [
      "# .\n",
      "#. ##\n",
      "#.# #..\n",
      "#.## ..##\n",
      "#.##. .##.\n",
      "#.##.. ##.\n",
      "#.##..# #.\n",
      "#.##..## .\n",
      "\n",
      "# .\n",
      ".# #.\n",
      "#.. ##.\n",
      "woot!\n",
      "5\n",
      ".##. .##.\n",
      "#.## ..##.\n",
      "#.# #..##.\n",
      "#. ##..##.\n",
      "# .##..##.\n"
     ]
    }
   ],
   "source": [
    "find_reflection(parse(\"test_mirrors\")[0])"
   ]
  },
  {
   "cell_type": "code",
   "execution_count": 40,
   "metadata": {},
   "outputs": [
    {
     "data": {
      "text/plain": [
       "array([[0, 1, 1, 0],\n",
       "       [0, 1, 1, 0]])"
      ]
     },
     "execution_count": 40,
     "metadata": {},
     "output_type": "execute_result"
    }
   ],
   "source": [
    "foo = np.array(((0, 1, 1, 0), (0, 1, 1, 0)))\n",
    "foo"
   ]
  },
  {
   "cell_type": "code",
   "execution_count": 37,
   "metadata": {},
   "outputs": [
    {
     "data": {
      "text/plain": [
       "True"
      ]
     },
     "execution_count": 37,
     "metadata": {},
     "output_type": "execute_result"
    }
   ],
   "source": [
    "bar = foo[:, :2]\n",
    "baz = foo[:, 2:]\n",
    "np.array_equal(bar, np.flip(baz, axis=1))"
   ]
  },
  {
   "cell_type": "markdown",
   "metadata": {},
   "source": [
    "### Run on Test Data"
   ]
  },
  {
   "cell_type": "code",
   "execution_count": null,
   "metadata": {},
   "outputs": [],
   "source": []
  },
  {
   "cell_type": "markdown",
   "metadata": {},
   "source": [
    "### Run on Input Data"
   ]
  },
  {
   "cell_type": "code",
   "execution_count": null,
   "metadata": {},
   "outputs": [],
   "source": []
  },
  {
   "cell_type": "markdown",
   "metadata": {},
   "source": [
    "## Part 2\n",
    "---"
   ]
  },
  {
   "cell_type": "code",
   "execution_count": null,
   "metadata": {},
   "outputs": [],
   "source": []
  },
  {
   "cell_type": "markdown",
   "metadata": {},
   "source": [
    "### Run on Test Data"
   ]
  },
  {
   "cell_type": "code",
   "execution_count": null,
   "metadata": {},
   "outputs": [],
   "source": []
  },
  {
   "cell_type": "markdown",
   "metadata": {},
   "source": [
    "### Run on Input Data"
   ]
  },
  {
   "cell_type": "code",
   "execution_count": null,
   "metadata": {},
   "outputs": [],
   "source": []
  }
 ],
 "metadata": {
  "kernelspec": {
   "display_name": "Python 3.8.8 ('base')",
   "language": "python",
   "name": "python3"
  },
  "language_info": {
   "codemirror_mode": {
    "name": "ipython",
    "version": 3
   },
   "file_extension": ".py",
   "mimetype": "text/x-python",
   "name": "python",
   "nbconvert_exporter": "python",
   "pygments_lexer": "ipython3",
   "version": "3.9.13"
  },
  "vscode": {
   "interpreter": {
    "hash": "f49206fcf84a9145e7e21228cbafa911d1ac18292303b01e865d8267a9c448f7"
   }
  }
 },
 "nbformat": 4,
 "nbformat_minor": 4
}
