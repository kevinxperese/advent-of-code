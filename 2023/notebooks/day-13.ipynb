{
 "cells": [
  {
   "cell_type": "markdown",
   "metadata": {},
   "source": [
    "# --- Day 13: Point of Incidence ---\n",
    "\n",
    "https://adventofcode.com/2023/day/13"
   ]
  },
  {
   "cell_type": "markdown",
   "metadata": {},
   "source": [
    "## Parse the Input Data"
   ]
  },
  {
   "cell_type": "code",
   "execution_count": 1,
   "metadata": {},
   "outputs": [],
   "source": [
    "def parse(filename):\n",
    "    \"\"\"Parse input data for puzzle.\n",
    "\n",
    "    Parameters\n",
    "    ----------\n",
    "    filename : str\n",
    "        The name of the *.txt file in the inputs/ directory.\n",
    "\n",
    "    Returns\n",
    "    -------\n",
    "    mirrors, sideways_mirrors : list, list\n",
    "        mirrors are directly read, and sideways_mirrors is their transpose,\n",
    "        so I can use the single find_relections() function to find the\n",
    "        vertical and horiztontal reflections in the mirrors.\n",
    "    \"\"\"\n",
    "    mirrors = []\n",
    "    with open(f'../inputs/{filename}.txt') as f:\n",
    "        mirror = []\n",
    "        for line in f:\n",
    "            if not line == \"\\n\":\n",
    "                mirror.append(line.strip())\n",
    "            else:\n",
    "                mirrors.append(mirror)\n",
    "                mirror = []\n",
    "\n",
    "        # Add the last mirror!\n",
    "        mirrors.append(mirror)\n",
    "\n",
    "    # Transpose the mirrors\n",
    "    sideways_mirrors = []\n",
    "    for mirror in mirrors:\n",
    "        sideways_mirror = [\"\" for col in mirror[0]]\n",
    "        for line in mirror:\n",
    "            for i, c in enumerate(line):\n",
    "                sideways_mirror[i] += c\n",
    "\n",
    "        sideways_mirrors.append(sideways_mirror)\n",
    "\n",
    "    return mirrors, sideways_mirrors"
   ]
  },
  {
   "cell_type": "markdown",
   "metadata": {},
   "source": [
    "## Part 1\n",
    "---"
   ]
  },
  {
   "cell_type": "code",
   "execution_count": 2,
   "metadata": {},
   "outputs": [],
   "source": [
    "def find_reflection(mirror):\n",
    "\n",
    "    # Check from the top\n",
    "    for i in range(1, int(len(mirror))):\n",
    "        rev_top = \"\".join(mirror[:i][::-1])\n",
    "        bottom = \"\".join(mirror[i : (i * 2)])\n",
    "        if rev_top == bottom:\n",
    "            return i\n",
    "\n",
    "    # Check from the bottom\n",
    "    for i in range(-1, min(0, -1 * len(mirror)), -1):\n",
    "        bottom = \"\".join(mirror[i:])\n",
    "        rev_top = \"\".join(mirror[min(0, (i * 2)):i][::-1])\n",
    "        if rev_top == bottom:\n",
    "            return len(mirror) + i\n",
    "\n",
    "    return 0\n"
   ]
  },
  {
   "cell_type": "code",
   "execution_count": 3,
   "metadata": {},
   "outputs": [],
   "source": [
    "def solve1(mirrors, sideways_mirrors):\n",
    "    answer = 0\n",
    "\n",
    "    for vert, horz in zip(mirrors, sideways_mirrors):\n",
    "        answer += find_reflection(vert) * 100\n",
    "        answer += find_reflection(horz)\n",
    "\n",
    "    return answer"
   ]
  },
  {
   "cell_type": "markdown",
   "metadata": {},
   "source": [
    "### Run on Test Data"
   ]
  },
  {
   "cell_type": "code",
   "execution_count": 4,
   "metadata": {},
   "outputs": [
    {
     "data": {
      "text/plain": [
       "True"
      ]
     },
     "execution_count": 4,
     "metadata": {},
     "output_type": "execute_result"
    }
   ],
   "source": [
    "solve1(*parse(\"test_mirrors\")) == 405"
   ]
  },
  {
   "cell_type": "markdown",
   "metadata": {},
   "source": [
    "### Run on Input Data"
   ]
  },
  {
   "cell_type": "code",
   "execution_count": 5,
   "metadata": {},
   "outputs": [
    {
     "data": {
      "text/plain": [
       "33356"
      ]
     },
     "execution_count": 5,
     "metadata": {},
     "output_type": "execute_result"
    }
   ],
   "source": [
    "solve1(*parse(\"mirrors\"))"
   ]
  },
  {
   "cell_type": "markdown",
   "metadata": {},
   "source": [
    "## Part 2\n",
    "---"
   ]
  },
  {
   "cell_type": "code",
   "execution_count": null,
   "metadata": {},
   "outputs": [],
   "source": []
  },
  {
   "cell_type": "markdown",
   "metadata": {},
   "source": [
    "### Run on Test Data"
   ]
  },
  {
   "cell_type": "code",
   "execution_count": null,
   "metadata": {},
   "outputs": [],
   "source": []
  },
  {
   "cell_type": "markdown",
   "metadata": {},
   "source": [
    "### Run on Input Data"
   ]
  },
  {
   "cell_type": "code",
   "execution_count": null,
   "metadata": {},
   "outputs": [],
   "source": []
  }
 ],
 "metadata": {
  "kernelspec": {
   "display_name": "Python 3.8.8 ('base')",
   "language": "python",
   "name": "python3"
  },
  "language_info": {
   "codemirror_mode": {
    "name": "ipython",
    "version": 3
   },
   "file_extension": ".py",
   "mimetype": "text/x-python",
   "name": "python",
   "nbconvert_exporter": "python",
   "pygments_lexer": "ipython3",
   "version": "3.9.7"
  },
  "vscode": {
   "interpreter": {
    "hash": "f49206fcf84a9145e7e21228cbafa911d1ac18292303b01e865d8267a9c448f7"
   }
  }
 },
 "nbformat": 4,
 "nbformat_minor": 4
}
