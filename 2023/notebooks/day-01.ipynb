{
 "cells": [
  {
   "cell_type": "markdown",
   "metadata": {},
   "source": [
    "# --- Day 1: Trebuchet?! ---\n",
    "\n",
    "https://adventofcode.com/2023/day/1 "
   ]
  },
  {
   "cell_type": "markdown",
   "metadata": {},
   "source": [
    "## Parse the Input Data"
   ]
  },
  {
   "cell_type": "code",
   "execution_count": 1,
   "metadata": {},
   "outputs": [],
   "source": [
    "import re"
   ]
  },
  {
   "cell_type": "code",
   "execution_count": 2,
   "metadata": {},
   "outputs": [],
   "source": [
    "def parse_and_solve(filename):\n",
    "    \"\"\"Parse input data for puzzle and solve it along the way.\n",
    "\n",
    "    Each row contains digits (actual and spelled out), and the\n",
    "    calibration value for each row is equal to the first digit * 10\n",
    "    plus the last digit in the row.\n",
    "\n",
    "    Parameters\n",
    "    ----------\n",
    "    filename : str\n",
    "        The name of the *.txt file in the inputs/ directory.\n",
    "\n",
    "    Returns\n",
    "    -------\n",
    "    total_calibration_value : int\n",
    "        The sum of all calibration values in each row.  \n",
    "    \"\"\"\n",
    "    total_calibration_value = 0\n",
    "\n",
    "    with open(f'../inputs/{filename}.txt') as _file:\n",
    "        for line in _file:\n",
    "            digits = re.findall(r\"\\d\", line)\n",
    "            total_calibration_value += (int(digits[0]) * 10 + int(digits[-1]))\n",
    "\n",
    "    return total_calibration_value"
   ]
  },
  {
   "cell_type": "markdown",
   "metadata": {},
   "source": [
    "## Part 1\n",
    "---"
   ]
  },
  {
   "cell_type": "markdown",
   "metadata": {},
   "source": [
    "### Run on Test Data"
   ]
  },
  {
   "cell_type": "code",
   "execution_count": 3,
   "metadata": {},
   "outputs": [
    {
     "data": {
      "text/plain": [
       "True"
      ]
     },
     "execution_count": 3,
     "metadata": {},
     "output_type": "execute_result"
    }
   ],
   "source": [
    "parse_and_solve(\"test_calibration_document\") == 142"
   ]
  },
  {
   "cell_type": "markdown",
   "metadata": {},
   "source": [
    "### Run on Input Data"
   ]
  },
  {
   "cell_type": "code",
   "execution_count": 4,
   "metadata": {},
   "outputs": [
    {
     "data": {
      "text/plain": [
       "54450"
      ]
     },
     "execution_count": 4,
     "metadata": {},
     "output_type": "execute_result"
    }
   ],
   "source": [
    "parse_and_solve(\"calibration_document\")"
   ]
  },
  {
   "cell_type": "markdown",
   "metadata": {},
   "source": [
    "## Part 2\n",
    "---"
   ]
  },
  {
   "cell_type": "code",
   "execution_count": 5,
   "metadata": {},
   "outputs": [],
   "source": [
    "digit_strs = {\n",
    "    \"one\" : 1,\n",
    "    \"two\" : 2, \n",
    "    \"three\" : 3, \n",
    "    \"four\" : 4, \n",
    "    \"five\" : 5, \n",
    "    \"six\" : 6, \n",
    "    \"seven\" : 7, \n",
    "    \"eight\" : 8, \n",
    "    \"nine\" : 9,\n",
    "    \"1\" : 1,\n",
    "    \"2\" : 2, \n",
    "    \"3\" : 3, \n",
    "    \"4\" : 4, \n",
    "    \"5\" : 5, \n",
    "    \"6\" : 6, \n",
    "    \"7\" : 7, \n",
    "    \"8\" : 8, \n",
    "    \"9\" : 9\n",
    "}"
   ]
  },
  {
   "cell_type": "code",
   "execution_count": 6,
   "metadata": {},
   "outputs": [],
   "source": [
    "# Salty. Need to use a regex lookahead to capture overlapping matches:\n",
    "# \"oneight\" for example.\n",
    "# Sources:\n",
    "# * https://docs.python.org/3/library/re.html \n",
    "# * https://stackoverflow.com/questions/5616822/how-to-use-regex-to-find-all-overlapping-matches\n",
    "pattern = r\"(?=(\\d|one|two|three|four|five|six|seven|eight|nine))\""
   ]
  },
  {
   "cell_type": "code",
   "execution_count": 7,
   "metadata": {},
   "outputs": [],
   "source": [
    "def parse_and_solve2(filename):\n",
    "    \"\"\"Parse input data for puzzle and solve it along the way.\n",
    "\n",
    "    Each row contains digits (actual and spelled out), and the\n",
    "    calibration value for each row is equal to the first digit * 10\n",
    "    plus the last digit in the row.\n",
    "\n",
    "    Parameters\n",
    "    ----------\n",
    "    filename : str\n",
    "        The name of the *.txt file in the inputs/ directory.\n",
    "\n",
    "    Returns\n",
    "    -------\n",
    "    total_calibration_value : int\n",
    "        The sum of all calibration values in each row.        \n",
    "    \"\"\"\n",
    "    total_calibration_value = 0\n",
    "\n",
    "    with open(f'../inputs/{filename}.txt') as _file:\n",
    "        for line in _file:\n",
    "            digits = re.findall(pattern, line)\n",
    "            total_calibration_value += (digit_strs[digits[0]] * 10 + digit_strs[digits[-1]])\n",
    "\n",
    "    return total_calibration_value"
   ]
  },
  {
   "cell_type": "markdown",
   "metadata": {},
   "source": [
    "### Run on Test Data"
   ]
  },
  {
   "cell_type": "code",
   "execution_count": 8,
   "metadata": {},
   "outputs": [
    {
     "data": {
      "text/plain": [
       "True"
      ]
     },
     "execution_count": 8,
     "metadata": {},
     "output_type": "execute_result"
    }
   ],
   "source": [
    "parse_and_solve2(\"test_calibration_document2\") == 281"
   ]
  },
  {
   "cell_type": "markdown",
   "metadata": {},
   "source": [
    "### Run on Input Data"
   ]
  },
  {
   "cell_type": "code",
   "execution_count": 9,
   "metadata": {},
   "outputs": [
    {
     "data": {
      "text/plain": [
       "54265"
      ]
     },
     "execution_count": 9,
     "metadata": {},
     "output_type": "execute_result"
    }
   ],
   "source": [
    "parse_and_solve2(\"calibration_document\")"
   ]
  }
 ],
 "metadata": {
  "kernelspec": {
   "display_name": "Python 3.8.8 ('base')",
   "language": "python",
   "name": "python3"
  },
  "language_info": {
   "codemirror_mode": {
    "name": "ipython",
    "version": 3
   },
   "file_extension": ".py",
   "mimetype": "text/x-python",
   "name": "python",
   "nbconvert_exporter": "python",
   "pygments_lexer": "ipython3",
   "version": "3.9.13"
  },
  "vscode": {
   "interpreter": {
    "hash": "f49206fcf84a9145e7e21228cbafa911d1ac18292303b01e865d8267a9c448f7"
   }
  }
 },
 "nbformat": 4,
 "nbformat_minor": 4
}
