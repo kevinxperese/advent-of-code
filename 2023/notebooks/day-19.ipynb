{
 "cells": [
  {
   "cell_type": "markdown",
   "metadata": {},
   "source": [
    "# --- Day 19: Aplenty ---\n",
    "\n",
    "https://adventofcode.com/2023/day/19"
   ]
  },
  {
   "cell_type": "markdown",
   "metadata": {},
   "source": [
    "## Parse the Input Data"
   ]
  },
  {
   "cell_type": "code",
   "execution_count": 6,
   "metadata": {},
   "outputs": [],
   "source": [
    "def parse(filename):\n",
    "    \"\"\"Parse input data for puzzle.\n",
    "\n",
    "    Parameters\n",
    "    ----------\n",
    "    filename : str\n",
    "        The name of the *.txt file in the inputs/ directory.\n",
    "\n",
    "    Returns\n",
    "    -------\n",
    "\n",
    "    \"\"\"\n",
    "    workflows = {}\n",
    "    parts = []\n",
    "    read_workflows = True\n",
    "\n",
    "    with open(f'../inputs/{filename}.txt') as f:\n",
    "        for line in f:\n",
    "            # Skip blank line\n",
    "            if line == \"\\n\":\n",
    "                read_workflows = False\n",
    "                continue\n",
    "\n",
    "            if read_workflows:\n",
    "                flow_name = line[:line.find(\"{\")]\n",
    "                steps = line[line.find(\"{\")+1:-2].split(\",\")\n",
    "\n",
    "                workflows[flow_name] = []\n",
    "                for step in steps:\n",
    "                    rule = {}\n",
    "                    if \"<\" in step or \">\" in step or \"=\" in step:\n",
    "                        rule[\"cat\"] = step[0]\n",
    "                        rule[\"op\"] = step[1]\n",
    "                        rule[\"val\"] = int(step[2: step.find(\":\")])\n",
    "                        rule[\"next\"] = step[step.find(\":\")+1:]\n",
    "                    else:\n",
    "                        rule[\"cat\"] = None\n",
    "                        rule[\"op\"] = None\n",
    "                        rule[\"val\"] = None\n",
    "                        rule[\"next\"] = step\n",
    "                    workflows[flow_name].append(rule)\n",
    "\n",
    "            # Read parts info\n",
    "            else:\n",
    "                part = {}\n",
    "                cats = [\"x\", \"m\", \"a\", \"s\"]\n",
    "                cat_vals = line.lstrip(\"{\").rstrip(\"}\\n\").split(\",\")\n",
    "\n",
    "                for c, v in zip(cats, cat_vals):\n",
    "                    part[c] = int(v[2:])\n",
    "\n",
    "                part[\"total\"] = sum(part.values())\n",
    "\n",
    "                parts.append(part)\n",
    "\n",
    "    return workflows, parts"
   ]
  },
  {
   "cell_type": "code",
   "execution_count": 7,
   "metadata": {},
   "outputs": [
    {
     "data": {
      "text/plain": [
       "({'px': [{'cat': 'a', 'op': '<', 'val': 2006, 'next': 'qkq'},\n",
       "   {'cat': 'm', 'op': '>', 'val': 2090, 'next': 'A'},\n",
       "   {'cat': None, 'op': None, 'val': None, 'next': 'rfg'}],\n",
       "  'pv': [{'cat': 'a', 'op': '>', 'val': 1716, 'next': 'R'},\n",
       "   {'cat': None, 'op': None, 'val': None, 'next': 'A'}],\n",
       "  'lnx': [{'cat': 'm', 'op': '>', 'val': 1548, 'next': 'A'},\n",
       "   {'cat': None, 'op': None, 'val': None, 'next': 'A'}],\n",
       "  'rfg': [{'cat': 's', 'op': '<', 'val': 537, 'next': 'gd'},\n",
       "   {'cat': 'x', 'op': '>', 'val': 2440, 'next': 'R'},\n",
       "   {'cat': None, 'op': None, 'val': None, 'next': 'A'}],\n",
       "  'qs': [{'cat': 's', 'op': '>', 'val': 3448, 'next': 'A'},\n",
       "   {'cat': None, 'op': None, 'val': None, 'next': 'lnx'}],\n",
       "  'qkq': [{'cat': 'x', 'op': '<', 'val': 1416, 'next': 'A'},\n",
       "   {'cat': None, 'op': None, 'val': None, 'next': 'crn'}],\n",
       "  'crn': [{'cat': 'x', 'op': '>', 'val': 2662, 'next': 'A'},\n",
       "   {'cat': None, 'op': None, 'val': None, 'next': 'R'}],\n",
       "  'in': [{'cat': 's', 'op': '<', 'val': 1351, 'next': 'px'},\n",
       "   {'cat': None, 'op': None, 'val': None, 'next': 'qqz'}],\n",
       "  'qqz': [{'cat': 's', 'op': '>', 'val': 2770, 'next': 'qs'},\n",
       "   {'cat': 'm', 'op': '<', 'val': 1801, 'next': 'hdj'},\n",
       "   {'cat': None, 'op': None, 'val': None, 'next': 'R'}],\n",
       "  'gd': [{'cat': 'a', 'op': '>', 'val': 3333, 'next': 'R'},\n",
       "   {'cat': None, 'op': None, 'val': None, 'next': 'R'}],\n",
       "  'hdj': [{'cat': 'm', 'op': '>', 'val': 838, 'next': 'A'},\n",
       "   {'cat': None, 'op': None, 'val': None, 'next': 'pv'}]},\n",
       " [{'x': 787, 'm': 2655, 'a': 1222, 's': 2876, 'total': 7540},\n",
       "  {'x': 1679, 'm': 44, 'a': 2067, 's': 496, 'total': 4286},\n",
       "  {'x': 2036, 'm': 264, 'a': 79, 's': 2244, 'total': 4623},\n",
       "  {'x': 2461, 'm': 1339, 'a': 466, 's': 291, 'total': 4557},\n",
       "  {'x': 2127, 'm': 1623, 'a': 2188, 's': 1013, 'total': 6951}])"
      ]
     },
     "execution_count": 7,
     "metadata": {},
     "output_type": "execute_result"
    }
   ],
   "source": [
    "parse(\"test_workflows\")"
   ]
  },
  {
   "cell_type": "markdown",
   "metadata": {},
   "source": [
    "## Part 1\n",
    "---"
   ]
  },
  {
   "cell_type": "code",
   "execution_count": 8,
   "metadata": {},
   "outputs": [],
   "source": [
    "def check(left, op, right):\n",
    "    if op == \"<\":\n",
    "        return left.__lt__(right)\n",
    "    elif op == \">\":\n",
    "        return left.__gt__(right)"
   ]
  },
  {
   "cell_type": "code",
   "execution_count": 9,
   "metadata": {},
   "outputs": [],
   "source": [
    "def process(workflows, part, start):\n",
    "\n",
    "    # base cases\n",
    "    if start == \"A\":\n",
    "        return part[\"total\"]\n",
    "    elif start == \"R\":\n",
    "        return 0\n",
    "\n",
    "    # process and recurse\n",
    "    else:\n",
    "        for rule in workflows[start]:\n",
    "            if rule[\"op\"] == None:\n",
    "                return process(workflows, part, rule[\"next\"])\n",
    "\n",
    "            elif check(part[rule[\"cat\"]], rule[\"op\"], rule[\"val\"]):\n",
    "                return process(workflows, part, rule[\"next\"])\n"
   ]
  },
  {
   "cell_type": "code",
   "execution_count": 10,
   "metadata": {},
   "outputs": [],
   "source": [
    "def solve1(filename):\n",
    "    workflows, parts = parse(filename)\n",
    "\n",
    "    answer = 0\n",
    "    for part in parts:\n",
    "        answer += process(workflows, part, \"in\")\n",
    "\n",
    "    return answer"
   ]
  },
  {
   "cell_type": "markdown",
   "metadata": {},
   "source": [
    "### Run on Test Data"
   ]
  },
  {
   "cell_type": "code",
   "execution_count": 11,
   "metadata": {},
   "outputs": [
    {
     "data": {
      "text/plain": [
       "True"
      ]
     },
     "execution_count": 11,
     "metadata": {},
     "output_type": "execute_result"
    }
   ],
   "source": [
    "workflows, parts  = parse(\"test_workflows\")\n",
    "process(workflows, parts[0], \"in\") == 7540"
   ]
  },
  {
   "cell_type": "code",
   "execution_count": 12,
   "metadata": {},
   "outputs": [
    {
     "data": {
      "text/plain": [
       "True"
      ]
     },
     "execution_count": 12,
     "metadata": {},
     "output_type": "execute_result"
    }
   ],
   "source": [
    "solve1(\"test_workflows\") == 19114"
   ]
  },
  {
   "cell_type": "markdown",
   "metadata": {},
   "source": [
    "### Run on Input Data"
   ]
  },
  {
   "cell_type": "code",
   "execution_count": 13,
   "metadata": {},
   "outputs": [
    {
     "data": {
      "text/plain": [
       "397061"
      ]
     },
     "execution_count": 13,
     "metadata": {},
     "output_type": "execute_result"
    }
   ],
   "source": [
    "solve1(\"workflows\")"
   ]
  },
  {
   "cell_type": "markdown",
   "metadata": {},
   "source": [
    "## Part 2\n",
    "---"
   ]
  },
  {
   "cell_type": "code",
   "execution_count": 14,
   "metadata": {},
   "outputs": [],
   "source": [
    "import math"
   ]
  },
  {
   "cell_type": "code",
   "execution_count": 114,
   "metadata": {},
   "outputs": [],
   "source": [
    "def process2(workflows, start, ranges={\"x\" : [1, 4000], \"m\" : [1, 4000], \"a\" : [1, 4000], \"s\" : [1, 4000]}):\n",
    "\n",
    "    answer = 0\n",
    "\n",
    "    # base cases\n",
    "    if start == \"A\":\n",
    "        # return total\n",
    "        print(ranges)\n",
    "        print(math.prod([len(range(*ranges[c])) + 1 for c in \"xmas\"]))\n",
    "        combos = math.prod([len(range(*ranges[c])) + 1 for c in \"xmas\"])\n",
    "        # ranges = {\"x\" : [1, 4000], \"m\" : [1, 4000], \"a\" : [1, 4000], \"s\" : [1, 4000]}\n",
    "        return combos\n",
    "    elif start == \"R\":\n",
    "        return 0\n",
    "\n",
    "    # process and recurse\n",
    "    else:\n",
    "        for rule in workflows[start]:\n",
    "            if rule[\"op\"] == None:\n",
    "                answer += process2(workflows, rule[\"next\"], ranges)\n",
    "\n",
    "            else:\n",
    "                if rule[\"op\"] == \"<\":\n",
    "                    ranges[rule[\"cat\"]][1] = rule[\"val\"] - 1\n",
    "                    answer += process2(workflows, rule[\"next\"], ranges)\n",
    "                    # ranges={\"x\" : [1, 4000], \"m\" : [1, 4000], \"a\" : [1, 4000], \"s\" : [1, 4000]}\n",
    "\n",
    "                elif rule[\"op\"] == \">\":\n",
    "                    ranges[rule[\"cat\"]][0] = rule[\"val\"] + 1\n",
    "                    answer += process2(workflows, rule[\"next\"], ranges)\n",
    "                    # ranges={\"x\" : [1, 4000], \"m\" : [1, 4000], \"a\" : [1, 4000], \"s\" : [1, 4000]}\n",
    "\n",
    "    return answer\n",
    "        # for rule in workflows[start]:\n",
    "        #     if rule[\"op\"] == None:\n",
    "        #         process2(workflows, part_cat, rule[\"next\"], total)\n",
    "\n",
    "            # elif rule[\"op\"] == \"<\":\n",
    "            #     left = total * rule[\"val\"] - 1\n",
    "            #     right = total * (4000 - rule[\"val\"] + 1)\n",
    "            #     return process2(workflows, part_cat, rule[\"next\"], left) #* process2(workflows, part_cat, rule[\"next\"], right)\n",
    "\n",
    "            # elif rule[\"op\"] == \">\":\n",
    "            #     left = total * (4000 - rule[\"val\"] + 1)\n",
    "            #     right = total * (rule[\"val\"] - 1)\n",
    "            #     return process2(workflows, part_cat, rule[\"next\"], left) #* process2(workflows, part_cat, rule[\"next\"], right)\n",
    "\n",
    "            # elif rule[\"op\"] == \"=\":\n",
    "            #     left = total\n",
    "            #     right = total * 3999\n",
    "            #     return process2(workflows, part_cat, rule[\"next\"], left) #* process2(workflows, part_cat, rule[\"next\"], right)\n",
    "\n",
    "    # return total"
   ]
  },
  {
   "cell_type": "code",
   "execution_count": 115,
   "metadata": {},
   "outputs": [],
   "source": [
    "from itertools import product"
   ]
  },
  {
   "cell_type": "code",
   "execution_count": 116,
   "metadata": {},
   "outputs": [
    {
     "data": {
      "text/plain": [
       "[(0, 0, 0, 0),\n",
       " (0, 0, 0, 4001),\n",
       " (0, 0, 4001, 0),\n",
       " (0, 0, 4001, 4001),\n",
       " (0, 4001, 0, 0),\n",
       " (0, 4001, 0, 4001),\n",
       " (0, 4001, 4001, 0),\n",
       " (0, 4001, 4001, 4001),\n",
       " (4001, 0, 0, 0),\n",
       " (4001, 0, 0, 4001),\n",
       " (4001, 0, 4001, 0),\n",
       " (4001, 0, 4001, 4001),\n",
       " (4001, 4001, 0, 0),\n",
       " (4001, 4001, 0, 4001),\n",
       " (4001, 4001, 4001, 0),\n",
       " (4001, 4001, 4001, 4001)]"
      ]
     },
     "execution_count": 116,
     "metadata": {},
     "output_type": "execute_result"
    }
   ],
   "source": [
    "list(product([0, 4001], repeat=4))"
   ]
  },
  {
   "cell_type": "code",
   "execution_count": 117,
   "metadata": {},
   "outputs": [],
   "source": [
    "def solve2(filename):\n",
    "    workflows, _ = parse(filename)\n",
    "\n",
    "    # parts = []\n",
    "    # for vals in product([0, 4001], repeat=4):\n",
    "    #     parts.append(dict(zip(\"xmas\", vals)))\n",
    "\n",
    "    # print(parts)\n",
    "\n",
    "    # answer = 0\n",
    "    # for part in parts:\n",
    "    #     print(process2(workflows, part, \"in\"))\n",
    "    #     answer += process2(workflows, part, \"in\")\n",
    "\n",
    "    answer = process2(workflows, \"in\")\n",
    "\n",
    "    return answer"
   ]
  },
  {
   "cell_type": "markdown",
   "metadata": {},
   "source": [
    "### Run on Test Data"
   ]
  },
  {
   "cell_type": "code",
   "execution_count": 118,
   "metadata": {},
   "outputs": [
    {
     "name": "stdout",
     "output_type": "stream",
     "text": [
      "{'x': [1, 1415], 'm': [1, 4000], 'a': [1, 2005], 's': [1, 1350]}\n",
      "15320205000000\n",
      "{'x': [2663, 1415], 'm': [1, 4000], 'a': [1, 2005], 's': [1, 1350]}\n",
      "10827000000\n",
      "{'x': [2663, 1415], 'm': [2091, 4000], 'a': [1, 2005], 's': [1, 1350]}\n",
      "5169892500\n",
      "{'x': [2441, 1415], 'm': [2091, 4000], 'a': [3334, 2005], 's': [1, 536]}\n",
      "1023760\n",
      "{'x': [2441, 1415], 'm': [2091, 4000], 'a': [3334, 2005], 's': [3449, 536]}\n",
      "1910\n",
      "{'x': [2441, 1415], 'm': [1549, 4000], 'a': [3334, 2005], 's': [3449, 536]}\n",
      "2452\n",
      "{'x': [2441, 1415], 'm': [1549, 4000], 'a': [3334, 2005], 's': [3449, 536]}\n",
      "2452\n",
      "{'x': [2441, 1415], 'm': [839, 1800], 'a': [3334, 2005], 's': [3449, 536]}\n",
      "962\n",
      "{'x': [2441, 1415], 'm': [839, 1800], 'a': [1717, 2005], 's': [3449, 536]}\n",
      "278018\n"
     ]
    },
    {
     "data": {
      "text/plain": [
       "15336203202054"
      ]
     },
     "execution_count": 118,
     "metadata": {},
     "output_type": "execute_result"
    }
   ],
   "source": [
    "solve2(\"test_workflows\") # == 167_409_079_868_000"
   ]
  },
  {
   "cell_type": "code",
   "execution_count": 19,
   "metadata": {},
   "outputs": [
    {
     "data": {
      "text/plain": [
       "15320205000000"
      ]
     },
     "execution_count": 19,
     "metadata": {},
     "output_type": "execute_result"
    }
   ],
   "source": [
    "3830051250 * 4000"
   ]
  },
  {
   "cell_type": "markdown",
   "metadata": {},
   "source": [
    "[1,1415],[1,4000],[1,2005],[1,1350] 15320205000000"
   ]
  },
  {
   "cell_type": "code",
   "execution_count": 18,
   "metadata": {},
   "outputs": [
    {
     "data": {
      "text/plain": [
       "15320205000000"
      ]
     },
     "execution_count": 18,
     "metadata": {},
     "output_type": "execute_result"
    }
   ],
   "source": [
    "import math\n",
    "math.prod([len(range(1415)), len(range(4000)), len(range(2005)), len(range(1350))])"
   ]
  },
  {
   "cell_type": "markdown",
   "metadata": {},
   "source": [
    "### Run on Input Data"
   ]
  },
  {
   "cell_type": "code",
   "execution_count": 15,
   "metadata": {},
   "outputs": [],
   "source": [
    "# solve2(\"workflows\")"
   ]
  }
 ],
 "metadata": {
  "kernelspec": {
   "display_name": "Python 3.8.8 ('base')",
   "language": "python",
   "name": "python3"
  },
  "language_info": {
   "codemirror_mode": {
    "name": "ipython",
    "version": 3
   },
   "file_extension": ".py",
   "mimetype": "text/x-python",
   "name": "python",
   "nbconvert_exporter": "python",
   "pygments_lexer": "ipython3",
   "version": "3.9.7"
  },
  "vscode": {
   "interpreter": {
    "hash": "f49206fcf84a9145e7e21228cbafa911d1ac18292303b01e865d8267a9c448f7"
   }
  }
 },
 "nbformat": 4,
 "nbformat_minor": 4
}
