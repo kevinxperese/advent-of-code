{
 "cells": [
  {
   "cell_type": "markdown",
   "metadata": {},
   "source": [
    "# Advent of Code\n",
    "## Day 5: Sunny with a Chance of Asteroids\n",
    "https://adventofcode.com/2019/day/5"
   ]
  },
  {
   "cell_type": "markdown",
   "metadata": {},
   "source": [
    "## Part 1"
   ]
  },
  {
   "cell_type": "code",
   "execution_count": 1,
   "metadata": {},
   "outputs": [],
   "source": [
    "import copy"
   ]
  },
  {
   "cell_type": "markdown",
   "metadata": {},
   "source": [
    "### Test data"
   ]
  },
  {
   "cell_type": "code",
   "execution_count": 2,
   "metadata": {},
   "outputs": [],
   "source": [
    "test_intcode_programs = [[3,0,4,0,99], [1002,4,3,4,33]]"
   ]
  },
  {
   "cell_type": "markdown",
   "metadata": {},
   "source": [
    "### Intcode Computer"
   ]
  },
  {
   "cell_type": "code",
   "execution_count": 3,
   "metadata": {},
   "outputs": [],
   "source": [
    "def intcode_computer(system_id, program):\n",
    "    \n",
    "    new_program = copy.deepcopy(program)\n",
    "    \n",
    "    diagnostic_codes = []\n",
    "    \n",
    "    position = 0\n",
    "    while new_program[position] != 99:\n",
    "\n",
    "        # left pad all opcodes with zeros\n",
    "        opcode_len = len(str(new_program[position])) \n",
    "        \n",
    "        if str(new_program[position])[-1] == '1' or str(new_program[position])[-1] == '2': \n",
    "            if opcode_len == 1:\n",
    "                opcode = '0000' + str(new_program[position])\n",
    "            elif opcode_len == 2:\n",
    "                opcode = '000' + str(new_program[position])\n",
    "            elif opcode_len == 3:\n",
    "                opcode = '00' + str(new_program[position])\n",
    "            elif opcode_len == 4:\n",
    "                opcode = '0' + str(new_program[position]) \n",
    "            elif opcode_len == 5:\n",
    "                opcode = str(new_program[position])\n",
    "\n",
    "        if str(new_program[position])[-1] == '3' or str(new_program[position])[-1] == '4': \n",
    "            if opcode_len == 1:\n",
    "                opcode = '00' + str(new_program[position])\n",
    "            elif opcode_len == 2:\n",
    "                opcode = '0' + str(new_program[position])\n",
    "            elif opcode_len == 3:\n",
    "                opcode = str(new_program[position])\n",
    "\n",
    "                \n",
    "        # opcode '01' is addition, takes 3 parameters\n",
    "        if opcode[-2:] == '01':\n",
    "            \n",
    "            if opcode[-3] == '0':\n",
    "                param_1 = new_program[new_program[position + 1]]\n",
    "            elif opcode[-3] == '1':\n",
    "                param_1 = new_program[position + 1]\n",
    "                \n",
    "            if opcode[-4] == '0':\n",
    "                param_2 = new_program[new_program[position + 2]]\n",
    "            elif opcode[-4] == '1':\n",
    "                param_2 = new_program[position + 2]\n",
    "            \n",
    "            # Controls WHERE the values are written\n",
    "            if opcode[-5] == '0':\n",
    "                new_program[new_program[position + 3]] = param_1 + param_2\n",
    "            elif opcode[-5] == '1':\n",
    "                new_program[position + 3] = param_1 + param_2\n",
    "            \n",
    "            # Move to next \"opcode\"\n",
    "            position += 4 \n",
    "            \n",
    "            if new_program[position] == 99:\n",
    "                return new_program, diagnostic_codes\n",
    "            \n",
    "        # opcode '02' is multiplication, takes 3 parameters\n",
    "        elif opcode[-2:] == '02':\n",
    "\n",
    "            if opcode[-3] == '0':\n",
    "                param_1 = new_program[new_program[position + 1]]\n",
    "            elif opcode[-3] == '1':\n",
    "                param_1 = new_program[position + 1]\n",
    "                \n",
    "            if opcode[-4] == '0':\n",
    "                param_2 = new_program[new_program[position + 2]]\n",
    "            elif opcode[-4] == '1':\n",
    "                param_2 = new_program[position + 2]\n",
    "            \n",
    "            \n",
    "            # Controls WHERE the values are written\n",
    "            if opcode[-5] == '0':\n",
    "                new_program[new_program[position + 3]] = param_1 * param_2\n",
    "            elif opcode[-5] == '1':\n",
    "                new_program[position + 3] = param_1 * param_2\n",
    "\n",
    "            # Move to next \"opcode\"\n",
    "            position += 4 \n",
    "\n",
    "            if new_program[position] == 99:\n",
    "                return new_program, diagnostic_codes\n",
    "        \n",
    "        # opcode '03' is input, takes 1 parameter\n",
    "        elif opcode[-2:] == '03':  \n",
    "            \n",
    "            new_program[new_program[position + 1]] = system_id\n",
    "\n",
    "            position += 2 # Move to next \"opcode\"\n",
    "\n",
    "            if new_program[position] == 99:\n",
    "                return new_program, diagnostic_codes\n",
    "            \n",
    "        # opcode '04' is output, takes 1 parameter\n",
    "        elif opcode[-2:] == '04':\n",
    "            \n",
    "            diagnostic_codes.append(new_program[new_program[position + 1]])\n",
    "\n",
    "            position += 2 # Move to next \"opcode\"\n",
    "\n",
    "            if new_program[position] == 99:\n",
    "                return new_program, diagnostic_codes\n",
    "            \n",
    "        # opcode 99 is terminate, 0 parameters\n",
    "        elif opcode[-2:] == '99':\n",
    "            return new_program, diagnostic_codes"
   ]
  },
  {
   "cell_type": "markdown",
   "metadata": {},
   "source": [
    "### Test that the `intcode_computer` function is working properly"
   ]
  },
  {
   "cell_type": "code",
   "execution_count": 4,
   "metadata": {
    "scrolled": true
   },
   "outputs": [
    {
     "name": "stdout",
     "output_type": "stream",
     "text": [
      "([1, 0, 4, 0, 99], [1])\n"
     ]
    }
   ],
   "source": [
    "print(intcode_computer(1, test_intcode_programs[0])) # Should write out 1 in diagnostics"
   ]
  },
  {
   "cell_type": "code",
   "execution_count": 5,
   "metadata": {
    "scrolled": true
   },
   "outputs": [
    {
     "name": "stdout",
     "output_type": "stream",
     "text": [
      "([2, 0, 4, 0, 99], [2])\n"
     ]
    }
   ],
   "source": [
    "print(intcode_computer(2, test_intcode_programs[0])) # Should write out 2 in diagnostics"
   ]
  },
  {
   "cell_type": "code",
   "execution_count": 6,
   "metadata": {
    "scrolled": false
   },
   "outputs": [
    {
     "name": "stdout",
     "output_type": "stream",
     "text": [
      "([1002, 4, 3, 4, 99], [])\n"
     ]
    }
   ],
   "source": [
    "print(intcode_computer(1, test_intcode_programs[1])) # Should have no diagnostics, but change pos 4 to 99"
   ]
  },
  {
   "cell_type": "markdown",
   "metadata": {},
   "source": [
    "### TEST program\n",
    "(Thermal Environment Supervision Terminal -- puzzle input data)"
   ]
  },
  {
   "cell_type": "code",
   "execution_count": 7,
   "metadata": {},
   "outputs": [],
   "source": [
    "TEST_program = [3,225,1,225,6,6,1100,1,238,225,104,0,101,20,183,224,101,-63,224,224,4,224,1002,223,8,223,101,6,224,224,1,223,224,223,1101,48,40,225,1101,15,74,225,2,191,40,224,1001,224,-5624,224,4,224,1002,223,8,223,1001,224,2,224,1,223,224,223,1101,62,60,225,1102,92,15,225,102,59,70,224,101,-885,224,224,4,224,1002,223,8,223,101,7,224,224,1,224,223,223,1,35,188,224,1001,224,-84,224,4,224,102,8,223,223,1001,224,2,224,1,223,224,223,1001,66,5,224,1001,224,-65,224,4,224,102,8,223,223,1001,224,3,224,1,223,224,223,1002,218,74,224,101,-2960,224,224,4,224,1002,223,8,223,1001,224,2,224,1,224,223,223,1101,49,55,224,1001,224,-104,224,4,224,102,8,223,223,1001,224,6,224,1,224,223,223,1102,43,46,225,1102,7,36,225,1102,76,30,225,1102,24,75,224,101,-1800,224,224,4,224,102,8,223,223,101,2,224,224,1,224,223,223,1101,43,40,225,4,223,99,0,0,0,677,0,0,0,0,0,0,0,0,0,0,0,1105,0,99999,1105,227,247,1105,1,99999,1005,227,99999,1005,0,256,1105,1,99999,1106,227,99999,1106,0,265,1105,1,99999,1006,0,99999,1006,227,274,1105,1,99999,1105,1,280,1105,1,99999,1,225,225,225,1101,294,0,0,105,1,0,1105,1,99999,1106,0,300,1105,1,99999,1,225,225,225,1101,314,0,0,106,0,0,1105,1,99999,1008,226,226,224,1002,223,2,223,1005,224,329,1001,223,1,223,8,226,677,224,102,2,223,223,1006,224,344,1001,223,1,223,1007,226,677,224,1002,223,2,223,1005,224,359,101,1,223,223,1008,677,226,224,102,2,223,223,1006,224,374,1001,223,1,223,1107,226,677,224,1002,223,2,223,1006,224,389,1001,223,1,223,107,677,677,224,1002,223,2,223,1006,224,404,101,1,223,223,1007,226,226,224,1002,223,2,223,1006,224,419,101,1,223,223,7,677,226,224,1002,223,2,223,1005,224,434,1001,223,1,223,1007,677,677,224,1002,223,2,223,1006,224,449,101,1,223,223,107,226,226,224,1002,223,2,223,1006,224,464,1001,223,1,223,1108,677,677,224,1002,223,2,223,1005,224,479,101,1,223,223,8,677,226,224,1002,223,2,223,1006,224,494,101,1,223,223,7,226,677,224,102,2,223,223,1005,224,509,1001,223,1,223,1107,677,226,224,102,2,223,223,1005,224,524,1001,223,1,223,1108,677,226,224,1002,223,2,223,1005,224,539,1001,223,1,223,1108,226,677,224,102,2,223,223,1006,224,554,101,1,223,223,108,226,677,224,102,2,223,223,1005,224,569,1001,223,1,223,8,677,677,224,1002,223,2,223,1005,224,584,101,1,223,223,108,677,677,224,1002,223,2,223,1005,224,599,1001,223,1,223,108,226,226,224,102,2,223,223,1006,224,614,101,1,223,223,1008,677,677,224,102,2,223,223,1006,224,629,1001,223,1,223,107,226,677,224,102,2,223,223,1006,224,644,101,1,223,223,1107,677,677,224,1002,223,2,223,1005,224,659,1001,223,1,223,7,226,226,224,1002,223,2,223,1005,224,674,101,1,223,223,4,223,99,226]"
   ]
  },
  {
   "cell_type": "code",
   "execution_count": 8,
   "metadata": {
    "scrolled": true
   },
   "outputs": [],
   "source": [
    "new_program, diagnostics = intcode_computer(1, TEST_program)"
   ]
  },
  {
   "cell_type": "code",
   "execution_count": 9,
   "metadata": {},
   "outputs": [
    {
     "name": "stdout",
     "output_type": "stream",
     "text": [
      "[3, 0, 0, 0, 0, 0, 0, 0, 0, 13346482]\n"
     ]
    }
   ],
   "source": [
    "print(diagnostics)"
   ]
  },
  {
   "cell_type": "markdown",
   "metadata": {},
   "source": [
    "## Yippee!"
   ]
  },
  {
   "cell_type": "markdown",
   "metadata": {},
   "source": [
    "----\n",
    "## Part 2"
   ]
  },
  {
   "cell_type": "code",
   "execution_count": 10,
   "metadata": {},
   "outputs": [],
   "source": [
    "def opcode_to_str(opcode_int):\n",
    "    '''\n",
    "    Take integer opcode and convert it to string of length 5, with left padded 0s\n",
    "    '''\n",
    "    # left pad all opcodes with zeros\n",
    "    opcode_len = len(str(opcode_int)) \n",
    "\n",
    "    opcode_str = (5 - opcode_len) * '0' + str(opcode_int)\n",
    "    \n",
    "    return opcode_str"
   ]
  },
  {
   "cell_type": "code",
   "execution_count": 11,
   "metadata": {},
   "outputs": [],
   "source": [
    "def intcode_computer_2(system_id, program):\n",
    "    \n",
    "    new_program = copy.deepcopy(program)\n",
    "    \n",
    "    diagnostic_codes = []\n",
    "    \n",
    "    position = 0\n",
    "    opcode = ''\n",
    "    \n",
    "    while opcode[-2:] != '99':\n",
    "\n",
    "        opcode = opcode_to_str(new_program[position])\n",
    "                \n",
    "        # opcode '01' is addition, takes 3 parameters\n",
    "        if opcode[-2:] == '01':\n",
    "            \n",
    "            if opcode[-3] == '0':\n",
    "                param_1 = new_program[new_program[position + 1]]\n",
    "            elif opcode[-3] == '1':\n",
    "                param_1 = new_program[position + 1]\n",
    "                \n",
    "            if opcode[-4] == '0':\n",
    "                param_2 = new_program[new_program[position + 2]]\n",
    "            elif opcode[-4] == '1':\n",
    "                param_2 = new_program[position + 2]\n",
    "            \n",
    "            # Controls WHERE the values are written\n",
    "            if opcode[-5] == '0':\n",
    "                new_program[new_program[position + 3]] = param_1 + param_2\n",
    "            elif opcode[-5] == '1':\n",
    "                new_program[position + 3] = param_1 + param_2\n",
    "            \n",
    "            # Move to next \"opcode\"\n",
    "            position += 4 \n",
    "            \n",
    "\n",
    "        # opcode '02' is multiplication, takes 3 parameters\n",
    "        elif opcode[-2:] == '02':\n",
    "\n",
    "            if opcode[-3] == '0':\n",
    "                param_1 = new_program[new_program[position + 1]]\n",
    "            elif opcode[-3] == '1':\n",
    "                param_1 = new_program[position + 1]\n",
    "                \n",
    "            if opcode[-4] == '0':\n",
    "                param_2 = new_program[new_program[position + 2]]\n",
    "            elif opcode[-4] == '1':\n",
    "                param_2 = new_program[position + 2]\n",
    "            \n",
    "            \n",
    "            # Controls WHERE the values are written\n",
    "            if opcode[-5] == '0':\n",
    "                new_program[new_program[position + 3]] = param_1 * param_2\n",
    "            elif opcode[-5] == '1':\n",
    "                new_program[position + 3] = param_1 * param_2\n",
    "\n",
    "            # Move to next \"opcode\"\n",
    "            position += 4 \n",
    "\n",
    "\n",
    "        # opcode '03' is input, takes 1 parameter\n",
    "        elif opcode[-2:] == '03':  \n",
    "            \n",
    "            new_program[new_program[position + 1]] = system_id\n",
    "\n",
    "            position += 2 # Move to next \"opcode\"\n",
    "\n",
    "            \n",
    "        # opcode '04' is output, takes 1 parameter\n",
    "        elif opcode[-2:] == '04':\n",
    "            \n",
    "            if opcode[-3] == '0':\n",
    "                param_1 = new_program[new_program[position + 1]]\n",
    "            elif opcode[-3] == '1':\n",
    "                param_1 = new_program[position + 1]\n",
    "            \n",
    "            diagnostic_codes.append(param_1)\n",
    "\n",
    "            position += 2 # Move to next \"opcode\"\n",
    "\n",
    "            \n",
    "        # opcode '05', jump if true\n",
    "        elif opcode[-2:] == '05':\n",
    "            \n",
    "            if opcode[-3] == '0':\n",
    "                param_1 = new_program[new_program[position + 1]]\n",
    "            elif opcode[-3] == '1':\n",
    "                param_1 = new_program[position + 1]\n",
    "\n",
    "            if opcode[-4] == '0':\n",
    "                param_2 = new_program[new_program[position + 2]]\n",
    "            elif opcode[-4] == '1':\n",
    "                param_2 = new_program[position + 2]\n",
    "            \n",
    "            if param_1 != 0:\n",
    "                position = param_2\n",
    "            else:\n",
    "                position += 3\n",
    "                \n",
    "        \n",
    "        # opcode '06', jump if false\n",
    "        elif opcode[-2:] == '06':\n",
    "\n",
    "            if opcode[-3] == '0':\n",
    "                param_1 = new_program[new_program[position + 1]]\n",
    "            elif opcode[-3] == '1':\n",
    "                param_1 = new_program[position + 1]\n",
    "\n",
    "            if opcode[-4] == '0':\n",
    "                param_2 = new_program[new_program[position + 2]]\n",
    "            elif opcode[-4] == '1':\n",
    "                param_2 = new_program[position + 2]\n",
    "            \n",
    "            if param_1 == 0:\n",
    "                position = param_2\n",
    "            else:\n",
    "                position += 3\n",
    "        \n",
    "        \n",
    "        # opcode '07', less than\n",
    "        elif opcode[-2:] == '07':\n",
    "\n",
    "            if opcode[-3] == '0':\n",
    "                param_1 = new_program[new_program[position + 1]]\n",
    "            elif opcode[-3] == '1':\n",
    "                param_1 = new_program[position + 1]\n",
    "\n",
    "            if opcode[-4] == '0':\n",
    "                param_2 = new_program[new_program[position + 2]]\n",
    "            elif opcode[-4] == '1':\n",
    "                param_2 = new_program[position + 2]\n",
    "                \n",
    "            # Controls WHERE the values are written\n",
    "            if opcode[-5] == '0':\n",
    "                if param_1 < param_2:\n",
    "                    new_program[new_program[position + 3]] = 1\n",
    "                else:\n",
    "                    new_program[new_program[position + 3]] = 0                \n",
    "            \n",
    "            elif opcode[-5] == '1':\n",
    "                if param_1 < param_2:\n",
    "                    new_program[position + 3] = 1\n",
    "                else:\n",
    "                    new_program[position + 3] = 0\n",
    "\n",
    "            position += 4\n",
    "        \n",
    "        \n",
    "        # opcode '08', equals\n",
    "        elif opcode[-2:] == '08':\n",
    "\n",
    "            if opcode[-3] == '0':\n",
    "                param_1 = new_program[new_program[position + 1]]\n",
    "            elif opcode[-3] == '1':\n",
    "                param_1 = new_program[position + 1]\n",
    "\n",
    "            if opcode[-4] == '0':\n",
    "                param_2 = new_program[new_program[position + 2]]\n",
    "            elif opcode[-4] == '1':\n",
    "                param_2 = new_program[position + 2]\n",
    "                \n",
    "            # Controls WHERE the values are written\n",
    "            if opcode[-5] == '0':\n",
    "                if param_1 == param_2:\n",
    "                    new_program[new_program[position + 3]] = 1\n",
    "                else:\n",
    "                    new_program[new_program[position + 3]] = 0                \n",
    "            \n",
    "            elif opcode[-5] == '1':\n",
    "                if param_1 == param_2:\n",
    "                    new_program[position + 3] = 1\n",
    "                else:\n",
    "                    new_program[position + 3] = 0\n",
    "\n",
    "            position += 4                    \n",
    "            \n",
    "        # opcode 99 is terminate, 0 parameters\n",
    "        elif opcode[-2:] == '99':\n",
    "            return new_program, diagnostic_codes"
   ]
  },
  {
   "cell_type": "code",
   "execution_count": 12,
   "metadata": {
    "scrolled": true
   },
   "outputs": [
    {
     "name": "stdout",
     "output_type": "stream",
     "text": [
      "([1, 0, 4, 0, 99], [1])\n"
     ]
    }
   ],
   "source": [
    "print(intcode_computer_2(1, test_intcode_programs[0])) # Should write out 1 in diagnostics"
   ]
  },
  {
   "cell_type": "code",
   "execution_count": 13,
   "metadata": {
    "scrolled": true
   },
   "outputs": [
    {
     "name": "stdout",
     "output_type": "stream",
     "text": [
      "([2, 0, 4, 0, 99], [2])\n"
     ]
    }
   ],
   "source": [
    "print(intcode_computer_2(2, test_intcode_programs[0])) # Should write out 2 in diagnostics"
   ]
  },
  {
   "cell_type": "code",
   "execution_count": 14,
   "metadata": {
    "scrolled": false
   },
   "outputs": [
    {
     "name": "stdout",
     "output_type": "stream",
     "text": [
      "([1002, 4, 3, 4, 99], [])\n"
     ]
    }
   ],
   "source": [
    "print(intcode_computer_2(1, test_intcode_programs[1])) # Should have no diagnostics, but change pos 4 to 99"
   ]
  },
  {
   "cell_type": "code",
   "execution_count": 15,
   "metadata": {},
   "outputs": [],
   "source": [
    "test_intcode_programs_2 = [[3,9,8,9,10,9,4,9,99,-1,8],\n",
    "                           [3,9,7,9,10,9,4,9,99,-1,8],\n",
    "                           [3,3,1108,-1,8,3,4,3,99],\n",
    "                           [3,3,1107,-1,8,3,4,3,99],\n",
    "                           [3,12,6,12,15,1,13,14,13,4,13,99,-1,0,1,9],\n",
    "                           [3,3,1105,-1,9,1101,0,0,12,4,12,99,1],\n",
    "                           [3,21,1008,21,8,20,1005,20,22,107,8,21,20,1006,20,31,1106,0,36,98,0,0,1002,21,125,20,4,20,1105,1,46,104,999,1105,1,46,1101,1000,1,20,4,20,1105,1,46,98,99]\n",
    "                          ]"
   ]
  },
  {
   "cell_type": "code",
   "execution_count": 16,
   "metadata": {},
   "outputs": [
    {
     "name": "stdout",
     "output_type": "stream",
     "text": [
      "([3, 9, 8, 9, 10, 9, 4, 9, 99, 0, 8], [0])\n",
      "([3, 9, 8, 9, 10, 9, 4, 9, 99, 1, 8], [1])\n",
      "([3, 9, 8, 9, 10, 9, 4, 9, 99, 0, 8], [0])\n"
     ]
    }
   ],
   "source": [
    "# Test 0\n",
    "print(intcode_computer_2(7, test_intcode_programs_2[0])) # Should return 0 (7 != 8)\n",
    "print(intcode_computer_2(8, test_intcode_programs_2[0])) # Should return 1 (8 == 8)\n",
    "print(intcode_computer_2(9, test_intcode_programs_2[0])) # Should return 0 (9 != 8)\n"
   ]
  },
  {
   "cell_type": "code",
   "execution_count": 17,
   "metadata": {},
   "outputs": [
    {
     "name": "stdout",
     "output_type": "stream",
     "text": [
      "([3, 9, 7, 9, 10, 9, 4, 9, 99, 1, 8], [1])\n",
      "([3, 9, 7, 9, 10, 9, 4, 9, 99, 0, 8], [0])\n",
      "([3, 9, 7, 9, 10, 9, 4, 9, 99, 0, 8], [0])\n"
     ]
    }
   ],
   "source": [
    "# Test 1\n",
    "print(intcode_computer_2(7, test_intcode_programs_2[1])) # Should return 1 (7 < 8)\n",
    "print(intcode_computer_2(8, test_intcode_programs_2[1])) # Should return 0 (8 !< 8)\n",
    "print(intcode_computer_2(9, test_intcode_programs_2[1])) # Should return 0 (9 !< 8)\n"
   ]
  },
  {
   "cell_type": "code",
   "execution_count": 18,
   "metadata": {},
   "outputs": [
    {
     "name": "stdout",
     "output_type": "stream",
     "text": [
      "([3, 3, 1108, 0, 8, 3, 4, 3, 99], [0])\n",
      "([3, 3, 1108, 1, 8, 3, 4, 3, 99], [1])\n",
      "([3, 3, 1108, 0, 8, 3, 4, 3, 99], [0])\n"
     ]
    }
   ],
   "source": [
    "# Test 2\n",
    "print(intcode_computer_2(7, test_intcode_programs_2[2])) # Should return 0 (7 != 8)\n",
    "print(intcode_computer_2(8, test_intcode_programs_2[2])) # Should return 1 (8 == 8)\n",
    "print(intcode_computer_2(9, test_intcode_programs_2[2])) # Should return 0 (9 != 8)\n"
   ]
  },
  {
   "cell_type": "code",
   "execution_count": 19,
   "metadata": {},
   "outputs": [
    {
     "name": "stdout",
     "output_type": "stream",
     "text": [
      "([3, 3, 1107, 1, 8, 3, 4, 3, 99], [1])\n",
      "([3, 3, 1107, 0, 8, 3, 4, 3, 99], [0])\n",
      "([3, 3, 1107, 0, 8, 3, 4, 3, 99], [0])\n"
     ]
    }
   ],
   "source": [
    "# Test 3\n",
    "print(intcode_computer_2(7, test_intcode_programs_2[3])) # Should return 1 (7 < 8)\n",
    "print(intcode_computer_2(8, test_intcode_programs_2[3])) # Should return 0 (8 !< 8)\n",
    "print(intcode_computer_2(9, test_intcode_programs_2[3])) # Should return 0 (9 !< 8)\n"
   ]
  },
  {
   "cell_type": "code",
   "execution_count": 20,
   "metadata": {},
   "outputs": [
    {
     "name": "stdout",
     "output_type": "stream",
     "text": [
      "([3, 12, 6, 12, 15, 1, 13, 14, 13, 4, 13, 99, 0, 0, 1, 9], [0])\n",
      "([3, 12, 6, 12, 15, 1, 13, 14, 13, 4, 13, 99, 1, 1, 1, 9], [1])\n"
     ]
    }
   ],
   "source": [
    "# Test 4\n",
    "print(intcode_computer_2(0, test_intcode_programs_2[4])) # Should return 0 (input == 0)\n",
    "print(intcode_computer_2(1, test_intcode_programs_2[4])) # Should return 1 (input != 0)\n"
   ]
  },
  {
   "cell_type": "code",
   "execution_count": 21,
   "metadata": {},
   "outputs": [
    {
     "name": "stdout",
     "output_type": "stream",
     "text": [
      "([3, 3, 1105, 0, 9, 1101, 0, 0, 12, 4, 12, 99, 0], [0])\n",
      "([3, 3, 1105, 1, 9, 1101, 0, 0, 12, 4, 12, 99, 1], [1])\n"
     ]
    }
   ],
   "source": [
    "# Test 5\n",
    "print(intcode_computer_2(0, test_intcode_programs_2[5])) # Should return 0 (input == 0)\n",
    "print(intcode_computer_2(1, test_intcode_programs_2[5])) # Should return 1 (input != 0)\n"
   ]
  },
  {
   "cell_type": "code",
   "execution_count": 22,
   "metadata": {},
   "outputs": [
    {
     "name": "stdout",
     "output_type": "stream",
     "text": [
      "([3, 21, 1008, 21, 8, 20, 1005, 20, 22, 107, 8, 21, 20, 1006, 20, 31, 1106, 0, 36, 98, 0, 7, 1002, 21, 125, 20, 4, 20, 1105, 1, 46, 104, 999, 1105, 1, 46, 1101, 1000, 1, 20, 4, 20, 1105, 1, 46, 98, 99], [999])\n",
      "([3, 21, 1008, 21, 8, 20, 1005, 20, 22, 107, 8, 21, 20, 1006, 20, 31, 1106, 0, 36, 98, 1000, 8, 1002, 21, 125, 20, 4, 20, 1105, 1, 46, 104, 999, 1105, 1, 46, 1101, 1000, 1, 20, 4, 20, 1105, 1, 46, 98, 99], [1000])\n",
      "([3, 21, 1008, 21, 8, 20, 1005, 20, 22, 107, 8, 21, 20, 1006, 20, 31, 1106, 0, 36, 98, 1001, 9, 1002, 21, 125, 20, 4, 20, 1105, 1, 46, 104, 999, 1105, 1, 46, 1101, 1000, 1, 20, 4, 20, 1105, 1, 46, 98, 99], [1001])\n"
     ]
    }
   ],
   "source": [
    "# Test 6\n",
    "print(intcode_computer_2(7, test_intcode_programs_2[6])) # Should return 999 (7 < 8)\n",
    "print(intcode_computer_2(8, test_intcode_programs_2[6])) # Should return 1000 (8 == 8)\n",
    "print(intcode_computer_2(9, test_intcode_programs_2[6])) # Should return 1001 (9 > 8)\n"
   ]
  },
  {
   "cell_type": "markdown",
   "metadata": {},
   "source": [
    "## And now for the real deal..."
   ]
  },
  {
   "cell_type": "code",
   "execution_count": 23,
   "metadata": {},
   "outputs": [
    {
     "data": {
      "text/plain": [
       "12111395"
      ]
     },
     "execution_count": 23,
     "metadata": {},
     "output_type": "execute_result"
    }
   ],
   "source": [
    "new_prog, diagnostics = intcode_computer_2(5, TEST_program)\n",
    "answer = diagnostics[0]\n",
    "answer"
   ]
  },
  {
   "cell_type": "markdown",
   "metadata": {},
   "source": [
    "## Yup! "
   ]
  }
 ],
 "metadata": {
  "kernelspec": {
   "display_name": "Python 3",
   "language": "python",
   "name": "python3"
  },
  "language_info": {
   "codemirror_mode": {
    "name": "ipython",
    "version": 3
   },
   "file_extension": ".py",
   "mimetype": "text/x-python",
   "name": "python",
   "nbconvert_exporter": "python",
   "pygments_lexer": "ipython3",
   "version": "3.7.3"
  }
 },
 "nbformat": 4,
 "nbformat_minor": 2
}
