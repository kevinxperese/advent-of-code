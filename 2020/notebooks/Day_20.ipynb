{
 "cells": [
  {
   "cell_type": "markdown",
   "metadata": {},
   "source": [
    "# --- Day 20: Jurassic Jigsaw ---\n",
    "\n",
    "https://adventofcode.com/2020/day/20"
   ]
  },
  {
   "cell_type": "code",
   "execution_count": 1,
   "metadata": {},
   "outputs": [],
   "source": [
    "path = '../inputs/'"
   ]
  },
  {
   "cell_type": "code",
   "execution_count": 2,
   "metadata": {},
   "outputs": [],
   "source": [
    "import re"
   ]
  },
  {
   "cell_type": "markdown",
   "metadata": {},
   "source": [
    "## Part 1"
   ]
  },
  {
   "cell_type": "code",
   "execution_count": 3,
   "metadata": {},
   "outputs": [],
   "source": [
    "def read_tiles(file_name):\n",
    "    tiles = {}\n",
    "    \n",
    "    with open(path + file_name) as file:\n",
    "        tile_data = file.read().split('\\n\\n')\n",
    "\n",
    "    for tile in tile_data:\n",
    "        id = int(tile[5:9])\n",
    "\n",
    "        t = tile.split('\\n')\n",
    "        t.pop(0) # Get rid of tile ID row\n",
    "\n",
    "        tiles[id] = {}\n",
    "        tiles[id]['top'] = t[0]\n",
    "        tiles[id]['bottom'] = t[-1]\n",
    "\n",
    "        _left = []\n",
    "        _right = []\n",
    "        \n",
    "        for row in t:\n",
    "            _left.append(row[0])\n",
    "            _right.append(row[-1])\n",
    "\n",
    "        tiles[id]['left'] = ''.join(_left)\n",
    "        tiles[id]['right'] = ''.join(_right)\n",
    "    \n",
    "    return tiles"
   ]
  },
  {
   "cell_type": "code",
   "execution_count": 4,
   "metadata": {},
   "outputs": [],
   "source": [
    "def find_corners(tiles):\n",
    "    \n",
    "    corners = []\n",
    "    \n",
    "    for i in tiles.keys():\n",
    "        shared_sides = 0\n",
    "        for j in tiles.keys():\n",
    "            if i != j:\n",
    "                j_sides = [\n",
    "                    tiles[j]['top'],\n",
    "                    tiles[j]['top'][::-1], # Reversed top\n",
    "                    tiles[j]['right'],\n",
    "                    tiles[j]['right'][::-1], # Reversed right\n",
    "                    tiles[j]['bottom'], \n",
    "                    tiles[j]['bottom'][::-1], # Reversed bottom\n",
    "                    tiles[j]['left'],\n",
    "                    tiles[j]['left'][::-1], # Reversed left\n",
    "                ]\n",
    "                \n",
    "                if tiles[i]['top'] in j_sides: \n",
    "                    shared_sides += 1\n",
    "                if tiles[i]['right'] in j_sides:\n",
    "                    shared_sides += 1\n",
    "                if tiles[i]['bottom'] in j_sides:\n",
    "                    shared_sides += 1\n",
    "                if tiles[i]['left'] in j_sides:\n",
    "                    shared_sides += 1\n",
    "        \n",
    "        if shared_sides == 2:\n",
    "            corners.append(i)\n",
    "    \n",
    "    return corners"
   ]
  },
  {
   "cell_type": "code",
   "execution_count": 5,
   "metadata": {},
   "outputs": [],
   "source": [
    "def multiply_corners(corners):\n",
    "    total = 1\n",
    "    for c in corners:\n",
    "        total *= c\n",
    "\n",
    "    return total"
   ]
  },
  {
   "cell_type": "code",
   "execution_count": 6,
   "metadata": {},
   "outputs": [
    {
     "name": "stdout",
     "output_type": "stream",
     "text": [
      "[1951, 1171, 2971, 3079]\n"
     ]
    },
    {
     "data": {
      "text/plain": [
       "20899048083289"
      ]
     },
     "execution_count": 6,
     "metadata": {},
     "output_type": "execute_result"
    }
   ],
   "source": [
    "tiles = read_tiles('example_tiles.txt')\n",
    "corners = find_corners(tiles)\n",
    "print(corners)\n",
    "multiply_corners(corners) # Should return 20899048083289"
   ]
  },
  {
   "cell_type": "code",
   "execution_count": 7,
   "metadata": {},
   "outputs": [
    {
     "name": "stdout",
     "output_type": "stream",
     "text": [
      "[1049, 2081, 2129, 3229]\n"
     ]
    },
    {
     "data": {
      "text/plain": [
       "15006909892229"
      ]
     },
     "execution_count": 7,
     "metadata": {},
     "output_type": "execute_result"
    }
   ],
   "source": [
    "tiles = read_tiles('tiles.txt')\n",
    "corners = find_corners(tiles)\n",
    "print(corners)\n",
    "multiply_corners(corners)"
   ]
  },
  {
   "cell_type": "markdown",
   "metadata": {},
   "source": [
    "## Part 2"
   ]
  },
  {
   "cell_type": "markdown",
   "metadata": {},
   "source": [
    "### Set up data structure"
   ]
  },
  {
   "cell_type": "code",
   "execution_count": 8,
   "metadata": {},
   "outputs": [],
   "source": [
    "def get_rotations(data):\n",
    "    \"\"\"Return list of all 4 cardinal rotations of the image/tile data.\"\"\"\n",
    "    rotated_90 = [''.join(list(row)) for row in zip(*data[::-1])]\n",
    "    rotated_180 = [''.join(list(row)) for row in zip(*rotated_90[::-1])]\n",
    "    rotated_270 = [''.join(list(row)) for row in zip(*data)][::-1]\n",
    "    \n",
    "    return [data, rotated_90, rotated_180, rotated_270]"
   ]
  },
  {
   "cell_type": "code",
   "execution_count": 9,
   "metadata": {},
   "outputs": [],
   "source": [
    "def flip(data):\n",
    "    \"\"\"Flip the image/tile data along the y-axis (each row is reversed).\"\"\"\n",
    "    flipped = data.copy()\n",
    "    \n",
    "    for i, _ in enumerate(flipped):\n",
    "        flipped[i] = flipped[i][::-1]\n",
    "    \n",
    "    return flipped"
   ]
  },
  {
   "cell_type": "code",
   "execution_count": 10,
   "metadata": {},
   "outputs": [],
   "source": [
    "def get_edges(tile_data):\n",
    "    \"\"\"Return a dictionary of the edges from from tile_data.\"\"\"\n",
    "    edges = {}\n",
    "\n",
    "    edges['top'] = tile_data[0]\n",
    "    edges['bottom'] = tile_data[-1]\n",
    "    edges['left'] = ''.join([row[0] for row in tile_data])\n",
    "    edges['right'] = ''.join([row[-1] for row in tile_data])\n",
    "    \n",
    "    return edges"
   ]
  },
  {
   "cell_type": "code",
   "execution_count": 11,
   "metadata": {},
   "outputs": [],
   "source": [
    "def read_tiles(file_name):\n",
    "    \"\"\"Read in tiles data, and created necessary data structures.\"\"\"\n",
    "    tiles = {}\n",
    "    \n",
    "    with open(path + file_name) as file:\n",
    "        tile_data = file.read().split('\\n\\n')\n",
    "\n",
    "    for tile in tile_data:\n",
    "        id = int(tile[5:9])\n",
    "\n",
    "        t = tile.split('\\n')\n",
    "        t.pop(0) # Get rid of tile id row\n",
    "\n",
    "        tiles[id] = {}\n",
    "        tiles[id]['data'] = None  # This will hold the data for the appropriate orientation\n",
    "        tiles[id]['orientation'] = None # 0:7 -- 4 rotations and 4 flipped rotations\n",
    "        \n",
    "        tiles[id]['neighbors'] = {}\n",
    "        tiles[id]['neighbors']['top'] = None\n",
    "        tiles[id]['neighbors']['right'] = None\n",
    "        tiles[id]['neighbors']['bottom'] = None\n",
    "        tiles[id]['neighbors']['left'] = None\n",
    "        \n",
    "        rotations = get_rotations(t) + get_rotations(flip(t))\n",
    "        \n",
    "        for i, rotation in enumerate(rotations):\n",
    "            tiles[id][i] = {}\n",
    "            tiles[id][i]['data'] = rotation\n",
    "            tiles[id][i]['edges'] = get_edges(rotation)\n",
    "            \n",
    "    return tiles"
   ]
  },
  {
   "cell_type": "code",
   "execution_count": 12,
   "metadata": {},
   "outputs": [],
   "source": [
    "# Test\n",
    "# tiles = read_tiles('example_tiles.txt')\n",
    "# tiles[2311]"
   ]
  },
  {
   "cell_type": "markdown",
   "metadata": {},
   "source": [
    "### Find neighbors"
   ]
  },
  {
   "cell_type": "code",
   "execution_count": 13,
   "metadata": {},
   "outputs": [],
   "source": [
    "def find_neighbors(tile_id_list, orient_list, tiles):\n",
    "    \"\"\"Recursive function to find the top, right, bottom, and left neighbors for each tile.\"\"\"\n",
    "    \n",
    "    orientations = range(8)  # There are 8 possible orientations of a tile: 4 rotations + 4 rotations(of a flipped tile)\n",
    "    sides = ['top', 'right', 'bottom', 'left']\n",
    "    good_match = {'top' : 'bottom',\n",
    "                  'bottom' : 'top',\n",
    "                  'left' : 'right',\n",
    "                  'right' : 'left'}\n",
    "    \n",
    "    # base case\n",
    "    if len(tile_id_list) == 0:\n",
    "        return tiles\n",
    "    \n",
    "    # recursive case\n",
    "    else:\n",
    "        i = tile_id_list.pop(0)\n",
    "        orient_i = orient_list.pop(0)\n",
    "        tiles[i]['orientation'] = orient_i\n",
    "        other_keys = [k for k in tiles.keys() if k != i] # Remove i from list of keys to loop over    \n",
    "        \n",
    "        for side_i in sides:\n",
    "\n",
    "            for j in other_keys:\n",
    "                \n",
    "                side_j = good_match[side_i]\n",
    "                \n",
    "                if tiles[j]['orientation'] != None:\n",
    "                    iter_j = [tiles[j]['orientation']]\n",
    "                else:\n",
    "                    iter_j = orientations\n",
    "\n",
    "                for orient_j in iter_j:\n",
    "\n",
    "                    if j not in tiles[i]['neighbors'].values():\n",
    "                        \n",
    "                        if tiles[i][orient_i]['edges'][side_i] == tiles[j][orient_j]['edges'][side_j]:\n",
    "\n",
    "                            tiles[j]['neighbors'][side_j] = i\n",
    "                            tiles[i]['neighbors'][side_i] = j\n",
    "\n",
    "                            tiles[j]['orientation'] = orient_j\n",
    "                            tiles[j]['data'] = tiles[j][orient_j]['data']\n",
    "                            tiles[i]['data'] = tiles[i][orient_i]['data']\n",
    "                            \n",
    "                            tile_id_list.append(j)\n",
    "                            orient_list.append(orient_j)\n",
    "\n",
    "                            break\n",
    "\n",
    "        return find_neighbors(tile_id_list, orient_list, tiles)"
   ]
  },
  {
   "cell_type": "code",
   "execution_count": 14,
   "metadata": {},
   "outputs": [
    {
     "name": "stdout",
     "output_type": "stream",
     "text": [
      "2311 6 {'top': None, 'right': 3079, 'bottom': 1427, 'left': 1951}\n",
      "1951 6 {'top': None, 'right': 2311, 'bottom': 2729, 'left': None}\n",
      "1171 4 {'top': 2473, 'right': None, 'bottom': None, 'left': 1489}\n",
      "1427 6 {'top': 2311, 'right': 2473, 'bottom': 1489, 'left': 2729}\n",
      "1489 6 {'top': 1427, 'right': 1171, 'bottom': None, 'left': 2971}\n",
      "2473 5 {'top': 3079, 'right': None, 'bottom': 1171, 'left': 1427}\n",
      "2971 6 {'top': 2729, 'right': 1489, 'bottom': None, 'left': None}\n",
      "2729 6 {'top': 1951, 'right': 1427, 'bottom': 2971, 'left': None}\n",
      "3079 0 {'top': None, 'right': None, 'bottom': 2473, 'left': 2311}\n"
     ]
    }
   ],
   "source": [
    "# Test\n",
    "tiles = read_tiles('example_tiles.txt')\n",
    "\n",
    "tile_id_list = [list(tiles)[0]]\n",
    "orient_list = [6] # This is the orientation for the first tile (2311) in the example\n",
    "\n",
    "tiles = find_neighbors(tile_id_list, orient_list, tiles)\n",
    "\n",
    "for key in tiles:\n",
    "    print(key, tiles[key]['orientation'], tiles[key]['neighbors'])"
   ]
  },
  {
   "cell_type": "markdown",
   "metadata": {},
   "source": [
    "## Make Image"
   ]
  },
  {
   "cell_type": "code",
   "execution_count": 15,
   "metadata": {},
   "outputs": [],
   "source": [
    "def remove_edges(tile_data):\n",
    "    \"\"\"Remove the edges on a tile of data.\"\"\"\n",
    "    data_wo_edges = tile_data[1:-1]\n",
    "    \n",
    "    for i, _ in enumerate(data_wo_edges):\n",
    "        data_wo_edges[i] = data_wo_edges[i][1:-1]\n",
    "    \n",
    "    return data_wo_edges"
   ]
  },
  {
   "cell_type": "code",
   "execution_count": 16,
   "metadata": {},
   "outputs": [],
   "source": [
    "def get_row(tile_id, tiles):\n",
    "    \"\"\"Recursive function to get a list of all the concatenated strings for each tile in a row.\"\"\"\n",
    "    \n",
    "    row = remove_edges(tiles[tile_id]['data'].copy())\n",
    "    right = tiles[tile_id]['neighbors']['right']\n",
    "    \n",
    "    if right is None:\n",
    "        return row\n",
    "    \n",
    "    else:\n",
    "        row = [i + j for i, j in zip(row, get_row(right, tiles))]\n",
    "    \n",
    "    return row"
   ]
  },
  {
   "cell_type": "code",
   "execution_count": 17,
   "metadata": {},
   "outputs": [],
   "source": [
    "# Test\n",
    "# get_row(1951, tiles)  # tile 1951 is the top-left tile"
   ]
  },
  {
   "cell_type": "code",
   "execution_count": 18,
   "metadata": {},
   "outputs": [],
   "source": [
    "def get_col(tile_id, tiles):\n",
    "    \"\"\"Recursive function to get a list of all the tiles in a column, starting with the top-left tile_id.\"\"\"\n",
    "\n",
    "    col = [tile_id]\n",
    "    bottom = tiles[tile_id]['neighbors']['bottom']\n",
    "    \n",
    "    if bottom is None:\n",
    "        return col\n",
    "    \n",
    "    else:\n",
    "        col += get_col(bottom, tiles)\n",
    "    \n",
    "    return col"
   ]
  },
  {
   "cell_type": "code",
   "execution_count": 19,
   "metadata": {},
   "outputs": [],
   "source": [
    "# Test\n",
    "# get_col(1951, tiles)"
   ]
  },
  {
   "cell_type": "code",
   "execution_count": 20,
   "metadata": {},
   "outputs": [],
   "source": [
    "def make_image(tiles):\n",
    "    \"\"\"Make the image from the tiles (with edges removed).\"\"\"\n",
    "\n",
    "    image = []\n",
    "\n",
    "    # Get top left tile to start\n",
    "    for key in tiles.keys():\n",
    "        if tiles[key]['neighbors']['top'] == None and tiles[key]['neighbors']['left'] == None:\n",
    "            top_left_tile = key\n",
    "            break\n",
    "    \n",
    "    for r in get_col(top_left_tile, tiles):\n",
    "        image += (get_row(r, tiles)) \n",
    "\n",
    "    return image"
   ]
  },
  {
   "cell_type": "code",
   "execution_count": 21,
   "metadata": {},
   "outputs": [],
   "source": [
    "# Test\n",
    "# make_image(tiles)"
   ]
  },
  {
   "cell_type": "markdown",
   "metadata": {},
   "source": [
    "### Define regular expressions for the sea monster"
   ]
  },
  {
   "cell_type": "code",
   "execution_count": 22,
   "metadata": {},
   "outputs": [],
   "source": [
    "head_re = re.compile('..................#.')\n",
    "body_re = re.compile('#....##....##....###')\n",
    "feet_re = re.compile('.#..#..#..#..#..#...')\n",
    "num_pounds_in_sea_monster = 15"
   ]
  },
  {
   "cell_type": "code",
   "execution_count": 23,
   "metadata": {},
   "outputs": [],
   "source": [
    "def count_pounds(image_data):\n",
    "    \"\"\"Count the number of pound symbols in the image.\"\"\"\n",
    "    \n",
    "    num_pounds = 0\n",
    "    pound_re = re.compile('#')\n",
    "    \n",
    "    for row in image_data:\n",
    "        num_pounds += len(pound_re.findall(row))\n",
    "    \n",
    "    return num_pounds"
   ]
  },
  {
   "cell_type": "code",
   "execution_count": 24,
   "metadata": {},
   "outputs": [],
   "source": [
    "def find_sea_monsters(image):\n",
    "    \"\"\"Return the number of sea monsters found in the image.\"\"\"\n",
    "\n",
    "    num_sea_monsters = 0\n",
    "    \n",
    "    for i, _ in enumerate(image):\n",
    "\n",
    "        match = body_re.finditer(image[i])\n",
    "        \n",
    "        for m in match:\n",
    "            start_pos = m.start()\n",
    "            end_pos = m.end()\n",
    "\n",
    "            if head_re.search(image[i-1], start_pos, end_pos) \\\n",
    "              and feet_re.search(image[i+1], start_pos, end_pos):\n",
    "                num_sea_monsters += 1\n",
    "\n",
    "    return num_sea_monsters"
   ]
  },
  {
   "cell_type": "markdown",
   "metadata": {},
   "source": [
    "## Test search"
   ]
  },
  {
   "cell_type": "code",
   "execution_count": 25,
   "metadata": {},
   "outputs": [
    {
     "data": {
      "text/plain": [
       "['.####...#####..#...###..',\n",
       " '#####..#..#.#.####..#.#.',\n",
       " '.#.#...#.###...#.##.##..',\n",
       " '#.#.##.###.#.##.##.#####',\n",
       " '..##.###.####..#.####.##',\n",
       " '...#.#..##.##...#..#..##',\n",
       " '#.##.#..#.#..#..##.#.#..',\n",
       " '.###.##.....#...###.#...',\n",
       " '#.####.#.#....##.#..#.#.',\n",
       " '##...#..#....#..#...####',\n",
       " '..#.##...###..#.#####..#',\n",
       " '....#.##.#.#####....#...',\n",
       " '..##.##.###.....#.##..#.',\n",
       " '#...#...###..####....##.',\n",
       " '.#.##...#.##.#.#.###...#',\n",
       " '#.###.#..####...##..#...',\n",
       " '#.###...#.##...#.######.',\n",
       " '.###.###.#######..#####.',\n",
       " '..##.#..#..#.#######.###',\n",
       " '#.#..##.########..#..##.',\n",
       " '#.#####..#.#...##..#....',\n",
       " '#....##..#.#########..##',\n",
       " '#...#.....#..##...###.##',\n",
       " '#..###....##.#...##.##.#']"
      ]
     },
     "execution_count": 25,
     "metadata": {},
     "output_type": "execute_result"
    }
   ],
   "source": [
    "with open(path + 'example_image_with_2_sea_monsters.txt') as file:\n",
    "    example_image = file.read().splitlines()\n",
    "example_image"
   ]
  },
  {
   "cell_type": "code",
   "execution_count": 26,
   "metadata": {},
   "outputs": [
    {
     "data": {
      "text/plain": [
       "273"
      ]
     },
     "execution_count": 26,
     "metadata": {},
     "output_type": "execute_result"
    }
   ],
   "source": [
    "count_pounds(example_image) - (find_sea_monsters(example_image) * num_pounds_in_sea_monster) # Should return 273"
   ]
  },
  {
   "cell_type": "markdown",
   "metadata": {},
   "source": [
    "## Put it all together and solve"
   ]
  },
  {
   "cell_type": "code",
   "execution_count": 27,
   "metadata": {},
   "outputs": [],
   "source": [
    "from pprint import pprint\n",
    "def solve(file_name):\n",
    "    tiles = read_tiles(file_name)\n",
    "    \n",
    "    tile_id_list = [list(tiles)[0]]  # Start with first tile in the dictionary\n",
    "    orient_list = [0]  # Start first tile with an arbitrary orientation\n",
    "    \n",
    "    tiles = find_neighbors(tile_id_list, orient_list, tiles)\n",
    "               \n",
    "    image = make_image(tiles)\n",
    "\n",
    "    orientations = get_rotations(image) + get_rotations(flip(image))\n",
    "        \n",
    "    for orient in orientations:\n",
    "        num_sea_monsters = find_sea_monsters(orient)\n",
    "        if num_sea_monsters > 0:\n",
    "            break\n",
    "\n",
    "    return count_pounds(image) - (num_sea_monsters * num_pounds_in_sea_monster)"
   ]
  },
  {
   "cell_type": "code",
   "execution_count": 28,
   "metadata": {},
   "outputs": [
    {
     "data": {
      "text/plain": [
       "273"
      ]
     },
     "execution_count": 28,
     "metadata": {},
     "output_type": "execute_result"
    }
   ],
   "source": [
    "solve('example_tiles.txt') # Should return 273"
   ]
  },
  {
   "cell_type": "code",
   "execution_count": 29,
   "metadata": {},
   "outputs": [
    {
     "data": {
      "text/plain": [
       "2190"
      ]
     },
     "execution_count": 29,
     "metadata": {},
     "output_type": "execute_result"
    }
   ],
   "source": [
    "solve('tiles.txt')"
   ]
  }
 ],
 "metadata": {
  "kernelspec": {
   "display_name": "Python 3",
   "language": "python",
   "name": "python3"
  },
  "language_info": {
   "codemirror_mode": {
    "name": "ipython",
    "version": 3
   },
   "file_extension": ".py",
   "mimetype": "text/x-python",
   "name": "python",
   "nbconvert_exporter": "python",
   "pygments_lexer": "ipython3",
   "version": "3.7.3"
  }
 },
 "nbformat": 4,
 "nbformat_minor": 4
}
