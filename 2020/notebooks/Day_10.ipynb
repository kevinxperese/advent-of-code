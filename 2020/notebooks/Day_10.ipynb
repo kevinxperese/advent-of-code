{
 "cells": [
  {
   "cell_type": "markdown",
   "metadata": {},
   "source": [
    "# --- Day 10: Adapter Array ---\n",
    "\n",
    "https://adventofcode.com/2020/day/10"
   ]
  },
  {
   "cell_type": "code",
   "execution_count": 1,
   "metadata": {},
   "outputs": [],
   "source": [
    "path = '../inputs/'"
   ]
  },
  {
   "cell_type": "markdown",
   "metadata": {},
   "source": [
    "## Part 1"
   ]
  },
  {
   "cell_type": "code",
   "execution_count": 2,
   "metadata": {},
   "outputs": [],
   "source": [
    "def get_jolt_diffs(filename):\n",
    "    \"\"\"Given a list of joltage adapter ratings, return the number\n",
    "    of differences that are 1 and 3 jolts different.\n",
    "    \"\"\"\n",
    "    diff_1 = 0\n",
    "    diff_3 = 0\n",
    "    \n",
    "    with open(path + filename) as file:\n",
    "        jolts = [int(j) for j in file]\n",
    "        jolts = sorted(jolts)\n",
    "   \n",
    "    # Add 0 to front of list for the charging outlet\n",
    "    jolts.insert(0, 0)\n",
    "    # And add the device jolts at the end\n",
    "    jolts += [jolts[-1] + 3]\n",
    "    \n",
    "    # Get list of diffs\n",
    "    diffs = [i - j for i, j in zip(jolts[1:], jolts[:-1])]\n",
    "    \n",
    "    for d in diffs:\n",
    "        if d == 1:\n",
    "            diff_1 += 1\n",
    "        elif d == 3:\n",
    "            diff_3 += 1\n",
    "\n",
    "    return [diff_1, diff_3]"
   ]
  },
  {
   "cell_type": "code",
   "execution_count": 3,
   "metadata": {},
   "outputs": [
    {
     "data": {
      "text/plain": [
       "[7, 5]"
      ]
     },
     "execution_count": 3,
     "metadata": {},
     "output_type": "execute_result"
    }
   ],
   "source": [
    "diffs_1_3 = get_jolt_diffs('example_joltage_adapters.txt')\n",
    "diffs_1_3 # Should return [7, 5]"
   ]
  },
  {
   "cell_type": "code",
   "execution_count": 4,
   "metadata": {},
   "outputs": [
    {
     "data": {
      "text/plain": [
       "[22, 10]"
      ]
     },
     "execution_count": 4,
     "metadata": {},
     "output_type": "execute_result"
    }
   ],
   "source": [
    "diffs_1_3 = get_jolt_diffs('example_2_joltage_adapters.txt')\n",
    "diffs_1_3 # Should return [22, 10]"
   ]
  },
  {
   "cell_type": "code",
   "execution_count": 5,
   "metadata": {},
   "outputs": [
    {
     "data": {
      "text/plain": [
       "[70, 29]"
      ]
     },
     "execution_count": 5,
     "metadata": {},
     "output_type": "execute_result"
    }
   ],
   "source": [
    "diffs_1_3 = get_jolt_diffs('joltage_adapters.txt')\n",
    "diffs_1_3"
   ]
  },
  {
   "cell_type": "code",
   "execution_count": 6,
   "metadata": {},
   "outputs": [
    {
     "data": {
      "text/plain": [
       "2030"
      ]
     },
     "execution_count": 6,
     "metadata": {},
     "output_type": "execute_result"
    }
   ],
   "source": [
    "answer = diffs_1_3[0] * diffs_1_3[1]\n",
    "answer"
   ]
  },
  {
   "cell_type": "markdown",
   "metadata": {},
   "source": [
    "## Part 2"
   ]
  },
  {
   "cell_type": "code",
   "execution_count": 7,
   "metadata": {},
   "outputs": [],
   "source": [
    "from collections import defaultdict\n",
    "\n",
    "def count_possible_arrangements(filename):\n",
    "    \"\"\"Given a list of joltage adapter ratings, return the number\n",
    "    of possible arrangements.\n",
    "    \"\"\"\n",
    "    ones_count = 0\n",
    "    ones = defaultdict(int)\n",
    "    \n",
    "    with open(path + filename) as file:\n",
    "        jolts = [int(j) for j in file]\n",
    "        jolts = sorted(jolts)\n",
    "    \n",
    "    # Add 0 to front of list for the charging outlet\n",
    "    jolts.insert(0, 0)\n",
    "    # And add the device jolts at the end\n",
    "    jolts += [jolts[-1] + 3]\n",
    "    \n",
    "    # Get list of diffs\n",
    "    diffs = [i - j for i, j in zip(jolts[1:], jolts[:-1])]\n",
    "    \n",
    "    for d in diffs:\n",
    "        if d == 1:\n",
    "            ones_count += 1\n",
    "        elif d == 3:\n",
    "            ones[ones_count] += 1\n",
    "            ones_count = 0\n",
    "    \n",
    "    possible_arrangements = (2 ** ones[2]   # 2 possible paths when 2 ones\n",
    "                          * (4 ** ones[3])  # 4 possible paths when 3 ones\n",
    "                          * (7 ** ones[4])) # 7 possible paths when 4 ones   \n",
    "    \n",
    "    return possible_arrangements, ones"
   ]
  },
  {
   "cell_type": "code",
   "execution_count": 8,
   "metadata": {},
   "outputs": [
    {
     "data": {
      "text/plain": [
       "(8, defaultdict(int, {1: 2, 3: 1, 2: 1, 0: 1, 4: 0}))"
      ]
     },
     "execution_count": 8,
     "metadata": {},
     "output_type": "execute_result"
    }
   ],
   "source": [
    "count_possible_arrangements('example_joltage_adapters.txt') # Should return 8"
   ]
  },
  {
   "cell_type": "code",
   "execution_count": 9,
   "metadata": {},
   "outputs": [
    {
     "data": {
      "text/plain": [
       "(19208, defaultdict(int, {4: 4, 0: 3, 3: 1, 2: 1, 1: 1}))"
      ]
     },
     "execution_count": 9,
     "metadata": {},
     "output_type": "execute_result"
    }
   ],
   "source": [
    "count_possible_arrangements('example_2_joltage_adapters.txt') # Should return 19208"
   ]
  },
  {
   "cell_type": "code",
   "execution_count": 10,
   "metadata": {},
   "outputs": [
    {
     "data": {
      "text/plain": [
       "(42313823813632, defaultdict(int, {2: 6, 4: 9, 0: 6, 3: 7, 1: 1}))"
      ]
     },
     "execution_count": 10,
     "metadata": {},
     "output_type": "execute_result"
    }
   ],
   "source": [
    "count_possible_arrangements('joltage_adapters.txt')"
   ]
  }
 ],
 "metadata": {
  "kernelspec": {
   "display_name": "Python 3",
   "language": "python",
   "name": "python3"
  },
  "language_info": {
   "codemirror_mode": {
    "name": "ipython",
    "version": 3
   },
   "file_extension": ".py",
   "mimetype": "text/x-python",
   "name": "python",
   "nbconvert_exporter": "python",
   "pygments_lexer": "ipython3",
   "version": "3.7.3"
  }
 },
 "nbformat": 4,
 "nbformat_minor": 4
}
