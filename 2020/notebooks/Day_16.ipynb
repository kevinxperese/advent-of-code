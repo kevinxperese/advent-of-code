{
 "cells": [
  {
   "cell_type": "markdown",
   "metadata": {},
   "source": [
    "# --- Day 16: Ticket Translation ---\n",
    "\n",
    "https://adventofcode.com/2020/day/16"
   ]
  },
  {
   "cell_type": "code",
   "execution_count": 1,
   "metadata": {},
   "outputs": [],
   "source": [
    "path = '../inputs/'"
   ]
  },
  {
   "cell_type": "markdown",
   "metadata": {},
   "source": [
    "## Part 1"
   ]
  },
  {
   "cell_type": "code",
   "execution_count": 2,
   "metadata": {},
   "outputs": [],
   "source": [
    "with open(path + 'example_train_ticket_notes.txt') as file:\n",
    "    example_fields, example_my_ticket, example_nearby_tickets = \\\n",
    "        file.read().strip().split('\\n\\n')"
   ]
  },
  {
   "cell_type": "code",
   "execution_count": 3,
   "metadata": {},
   "outputs": [],
   "source": [
    "with open(path + 'train_ticket_notes.txt') as file:\n",
    "    fields, my_ticket, nearby_tickets = file.read().strip().split('\\n\\n')"
   ]
  },
  {
   "cell_type": "code",
   "execution_count": 4,
   "metadata": {},
   "outputs": [],
   "source": [
    "import re\n",
    "\n",
    "def get_valid_numbers(fields):\n",
    "\n",
    "    valid_nums = set()\n",
    "    field_nums = [f.split('-') for f in re.findall('\\d+-\\d+', fields)]\n",
    "    \n",
    "    for n in field_nums:\n",
    "        for i in range(int(n[0]), int(n[1]) + 1):\n",
    "            valid_nums.add(i)\n",
    "    \n",
    "    return valid_nums"
   ]
  },
  {
   "cell_type": "code",
   "execution_count": 5,
   "metadata": {},
   "outputs": [],
   "source": [
    "def calc_ticket_error_rate(fields, nearby_tickets):\n",
    "    error_rate = 0\n",
    "    \n",
    "    valid_nums = get_valid_numbers(fields)\n",
    "    ticket_nums = re.findall('\\d+', nearby_tickets)\n",
    "    \n",
    "    for n in ticket_nums:\n",
    "        if not int(n) in valid_nums:\n",
    "            error_rate += int(n)\n",
    "    \n",
    "    return error_rate"
   ]
  },
  {
   "cell_type": "code",
   "execution_count": 6,
   "metadata": {},
   "outputs": [
    {
     "data": {
      "text/plain": [
       "71"
      ]
     },
     "execution_count": 6,
     "metadata": {},
     "output_type": "execute_result"
    }
   ],
   "source": [
    "calc_ticket_error_rate(example_fields, example_nearby_tickets) # Should return 71"
   ]
  },
  {
   "cell_type": "code",
   "execution_count": 7,
   "metadata": {},
   "outputs": [
    {
     "data": {
      "text/plain": [
       "21956"
      ]
     },
     "execution_count": 7,
     "metadata": {},
     "output_type": "execute_result"
    }
   ],
   "source": [
    "calc_ticket_error_rate(fields, nearby_tickets)"
   ]
  },
  {
   "cell_type": "markdown",
   "metadata": {},
   "source": [
    "## Part 2"
   ]
  },
  {
   "cell_type": "code",
   "execution_count": 8,
   "metadata": {},
   "outputs": [],
   "source": [
    "with open(path + 'example2_train_ticket_notes.txt') as file:\n",
    "    example2_fields, example2_my_ticket, example2_nearby_tickets = \\\n",
    "        file.read().strip().split('\\n\\n')"
   ]
  },
  {
   "cell_type": "code",
   "execution_count": 9,
   "metadata": {},
   "outputs": [],
   "source": [
    "def remove_invalid_tickets(fields, nearby_tickets):\n",
    "    valid_nums = get_valid_numbers(fields)\n",
    "    ticket_rows = [row for row in nearby_tickets.split('\\n') if not row.startswith('nearby')]\n",
    "\n",
    "    valid_tickets = []\n",
    "    \n",
    "    for row in ticket_rows:\n",
    "        delete = False\n",
    "        for num in row.split(','):\n",
    "            if not int(num) in valid_nums:\n",
    "                delete = True\n",
    "        if not delete:\n",
    "            valid_tickets.append([int(n) for n in row.split(',')])\n",
    "    \n",
    "    return valid_tickets"
   ]
  },
  {
   "cell_type": "code",
   "execution_count": 10,
   "metadata": {},
   "outputs": [],
   "source": [
    "def parse_fields(fields):\n",
    "    \"\"\"Return a dictionary with keys are field names and values are sets of valid values.\"\"\"\n",
    "    fields_dict = {}\n",
    "    field_rows = fields.strip().split('\\n')\n",
    "\n",
    "    for row in field_rows:\n",
    "        field_name, nums = row.split(':')\n",
    "        fields_dict[field_name] = get_valid_numbers(nums)\n",
    "    \n",
    "    return fields_dict"
   ]
  },
  {
   "cell_type": "code",
   "execution_count": 11,
   "metadata": {},
   "outputs": [],
   "source": [
    "def transpose_valid_tickets(valid_tickets):\n",
    "    \"\"\"Return valid nearby tickets as a list of columns sets.\"\"\"\n",
    "\n",
    "    # Transpose each column into a row containing a set\n",
    "    col_sets = [set(i) for i in zip(*valid_tickets)]\n",
    "\n",
    "    return col_sets"
   ]
  },
  {
   "cell_type": "code",
   "execution_count": 12,
   "metadata": {},
   "outputs": [],
   "source": [
    "from collections import defaultdict\n",
    "from pprint import pprint\n",
    "\n",
    "def part_2(fields, my_ticket, nearby_tickets, field_startswith=''):\n",
    "    \n",
    "    # Set up the data\n",
    "    fields_dict = parse_fields(fields)\n",
    "    my_tic = [int(n) for n in my_ticket.split('\\n')[1].split(',')]\n",
    "    valid_tickets = remove_invalid_tickets(fields, nearby_tickets)\n",
    "    valid_ticket_col_sets = transpose_valid_tickets(valid_tickets)\n",
    "    \n",
    "    # Assemple a dictionary containing possible matches for each key\n",
    "    possible_matches = defaultdict(set)\n",
    "    for key in fields_dict.keys():\n",
    "        for i, col in enumerate(valid_ticket_col_sets):\n",
    "            if col.issubset(fields_dict[key]):\n",
    "                possible_matches[key].add(i)\n",
    "\n",
    "    # Create a map dictionary for the appropriate field:column matches\n",
    "    map = {}\n",
    "    selected = set()\n",
    "    \n",
    "    # Loop across the columns in valid nearby tickets\n",
    "    for i in range(1, len(valid_ticket_col_sets) + 1):\n",
    "        for key in possible_matches.keys():\n",
    "            # When len(possible_matches[key]) == 1, that's the only possible match\n",
    "            if len(possible_matches[key]) == i:\n",
    "                match = [x for x in possible_matches[key] if x not in selected][0]\n",
    "                selected.add(match)\n",
    "                map[key] = match\n",
    "\n",
    "    pprint(map)       \n",
    "                \n",
    "    total = 1\n",
    "    for key in map.keys():\n",
    "        if key.startswith(field_startswith):\n",
    "            total *= my_tic[map[key]]\n",
    "    \n",
    "    return total"
   ]
  },
  {
   "cell_type": "code",
   "execution_count": 13,
   "metadata": {},
   "outputs": [
    {
     "name": "stdout",
     "output_type": "stream",
     "text": [
      "{'class': 1, 'row': 0, 'seat': 2}\n"
     ]
    },
    {
     "data": {
      "text/plain": [
       "1716"
      ]
     },
     "execution_count": 13,
     "metadata": {},
     "output_type": "execute_result"
    }
   ],
   "source": [
    "part_2(example2_fields, \n",
    "       example2_my_ticket, \n",
    "       example2_nearby_tickets, \n",
    "       field_startswith='') # Should return 1716"
   ]
  },
  {
   "cell_type": "code",
   "execution_count": 14,
   "metadata": {},
   "outputs": [
    {
     "name": "stdout",
     "output_type": "stream",
     "text": [
      "{'arrival location': 8,\n",
      " 'arrival platform': 0,\n",
      " 'arrival station': 16,\n",
      " 'arrival track': 19,\n",
      " 'class': 13,\n",
      " 'departure date': 17,\n",
      " 'departure location': 10,\n",
      " 'departure platform': 4,\n",
      " 'departure station': 18,\n",
      " 'departure time': 15,\n",
      " 'departure track': 14,\n",
      " 'duration': 12,\n",
      " 'price': 2,\n",
      " 'route': 11,\n",
      " 'row': 9,\n",
      " 'seat': 5,\n",
      " 'train': 6,\n",
      " 'type': 1,\n",
      " 'wagon': 3,\n",
      " 'zone': 7}\n"
     ]
    },
    {
     "data": {
      "text/plain": [
       "3709435214239"
      ]
     },
     "execution_count": 14,
     "metadata": {},
     "output_type": "execute_result"
    }
   ],
   "source": [
    "part_2(fields, my_ticket, nearby_tickets, field_startswith='departure')"
   ]
  }
 ],
 "metadata": {
  "kernelspec": {
   "display_name": "Python 3",
   "language": "python",
   "name": "python3"
  },
  "language_info": {
   "codemirror_mode": {
    "name": "ipython",
    "version": 3
   },
   "file_extension": ".py",
   "mimetype": "text/x-python",
   "name": "python",
   "nbconvert_exporter": "python",
   "pygments_lexer": "ipython3",
   "version": "3.7.3"
  }
 },
 "nbformat": 4,
 "nbformat_minor": 4
}
