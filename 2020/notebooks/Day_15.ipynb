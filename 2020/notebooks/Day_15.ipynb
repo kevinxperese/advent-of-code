{
 "cells": [
  {
   "cell_type": "markdown",
   "metadata": {},
   "source": [
    "# --- Day 15: Rambunctious Recitation ---\n",
    "\n",
    "https://adventofcode.com/2020/day/15"
   ]
  },
  {
   "cell_type": "code",
   "execution_count": 1,
   "metadata": {},
   "outputs": [],
   "source": [
    "path = '../inputs/'"
   ]
  },
  {
   "cell_type": "markdown",
   "metadata": {},
   "source": [
    "## Part 1"
   ]
  },
  {
   "cell_type": "code",
   "execution_count": 2,
   "metadata": {},
   "outputs": [],
   "source": [
    "def elf_game(starting_numbers, end):\n",
    "    \n",
    "    numbers_said = starting_numbers\n",
    "    numbers_said.append(0)\n",
    "\n",
    "    for turn in range(len(numbers_said) + 1, end + 1):\n",
    "        indexes = [i for i, n in enumerate(numbers_said) if n == numbers_said[-1]]\n",
    "        \n",
    "        if len(indexes) == 1:\n",
    "            numbers_said.append(0)\n",
    "        else:\n",
    "            numbers_said.append(indexes[-1] - indexes[-2])\n",
    "    \n",
    "    return numbers_said[-1]"
   ]
  },
  {
   "cell_type": "code",
   "execution_count": 3,
   "metadata": {},
   "outputs": [
    {
     "data": {
      "text/plain": [
       "436"
      ]
     },
     "execution_count": 3,
     "metadata": {},
     "output_type": "execute_result"
    }
   ],
   "source": [
    "elf_game([0, 3, 6], 2020) # Should return 436"
   ]
  },
  {
   "cell_type": "code",
   "execution_count": 4,
   "metadata": {},
   "outputs": [
    {
     "data": {
      "text/plain": [
       "1009"
      ]
     },
     "execution_count": 4,
     "metadata": {},
     "output_type": "execute_result"
    }
   ],
   "source": [
    "elf_game([2, 0, 1, 9, 5, 19], 2020)"
   ]
  },
  {
   "cell_type": "markdown",
   "metadata": {},
   "source": [
    "## Part 2"
   ]
  },
  {
   "cell_type": "code",
   "execution_count": 5,
   "metadata": {},
   "outputs": [],
   "source": [
    "from collections import defaultdict"
   ]
  },
  {
   "cell_type": "code",
   "execution_count": 6,
   "metadata": {},
   "outputs": [],
   "source": [
    "def elf_game2(starting_numbers, end):\n",
    "    # Add 0 for first number said after starting numbers\n",
    "    starting_numbers.append(0)\n",
    "    \n",
    "    # Create and fill dictionary of lists for numbers said\n",
    "    numbers_said = defaultdict(list)\n",
    "    for i, n in enumerate(starting_numbers):\n",
    "        numbers_said[n].append(i+1)\n",
    "    \n",
    "    # Create and fill dictionary of the order numbers were said\n",
    "    order = {}\n",
    "    for i, n in enumerate(starting_numbers):\n",
    "        order[i+1] = n\n",
    "\n",
    "    for turn in range(len(starting_numbers) + 1, end + 1):\n",
    "\n",
    "        # If previous number was said before, say the difference\n",
    "        # between the last two times it was said\n",
    "        if len(numbers_said[order[turn-1]]) > 1:\n",
    "            order[turn] = (numbers_said[order[turn-1]][-1] \n",
    "                         - numbers_said[order[turn-1]][-2])\n",
    "\n",
    "            numbers_said[order[turn]].append(turn)\n",
    "        \n",
    "        # Otherwise, just say 0! (Like a joyous elf)\n",
    "        else:\n",
    "            order[turn] = 0\n",
    "            numbers_said[order[turn]].append(turn)\n",
    "        \n",
    "    return order[end]"
   ]
  },
  {
   "cell_type": "code",
   "execution_count": 7,
   "metadata": {},
   "outputs": [
    {
     "name": "stdout",
     "output_type": "stream",
     "text": [
      "Wall time: 41.9 s\n"
     ]
    },
    {
     "data": {
      "text/plain": [
       "175594"
      ]
     },
     "execution_count": 7,
     "metadata": {},
     "output_type": "execute_result"
    }
   ],
   "source": [
    "%time elf_game2([0, 3, 6], 30000000) # Should return 175594"
   ]
  },
  {
   "cell_type": "code",
   "execution_count": 8,
   "metadata": {},
   "outputs": [
    {
     "name": "stdout",
     "output_type": "stream",
     "text": [
      "Wall time: 40.8 s\n"
     ]
    },
    {
     "data": {
      "text/plain": [
       "2578"
      ]
     },
     "execution_count": 8,
     "metadata": {},
     "output_type": "execute_result"
    }
   ],
   "source": [
    "%time elf_game2([1, 3, 2], 30000000) # Should return 2578"
   ]
  },
  {
   "cell_type": "code",
   "execution_count": 9,
   "metadata": {},
   "outputs": [
    {
     "name": "stdout",
     "output_type": "stream",
     "text": [
      "Wall time: 42.4 s\n"
     ]
    },
    {
     "data": {
      "text/plain": [
       "3544142"
      ]
     },
     "execution_count": 9,
     "metadata": {},
     "output_type": "execute_result"
    }
   ],
   "source": [
    "%time elf_game2([2, 1, 3], 30000000) # Should return 3544142"
   ]
  },
  {
   "cell_type": "code",
   "execution_count": 10,
   "metadata": {},
   "outputs": [
    {
     "name": "stdout",
     "output_type": "stream",
     "text": [
      "Wall time: 42.3 s\n"
     ]
    },
    {
     "data": {
      "text/plain": [
       "261214"
      ]
     },
     "execution_count": 10,
     "metadata": {},
     "output_type": "execute_result"
    }
   ],
   "source": [
    "%time elf_game2([1, 2, 3], 30000000) # Should return 261214"
   ]
  },
  {
   "cell_type": "code",
   "execution_count": 11,
   "metadata": {},
   "outputs": [
    {
     "name": "stdout",
     "output_type": "stream",
     "text": [
      "Wall time: 41.4 s\n"
     ]
    },
    {
     "data": {
      "text/plain": [
       "6895259"
      ]
     },
     "execution_count": 11,
     "metadata": {},
     "output_type": "execute_result"
    }
   ],
   "source": [
    "%time elf_game2([2, 3, 1], 30000000) # Should return 6895259"
   ]
  },
  {
   "cell_type": "code",
   "execution_count": 12,
   "metadata": {},
   "outputs": [
    {
     "name": "stdout",
     "output_type": "stream",
     "text": [
      "Wall time: 41.1 s\n"
     ]
    },
    {
     "data": {
      "text/plain": [
       "18"
      ]
     },
     "execution_count": 12,
     "metadata": {},
     "output_type": "execute_result"
    }
   ],
   "source": [
    "%time elf_game2([3, 2, 1], 30000000) # Should return 18"
   ]
  },
  {
   "cell_type": "code",
   "execution_count": 13,
   "metadata": {},
   "outputs": [
    {
     "name": "stdout",
     "output_type": "stream",
     "text": [
      "Wall time: 42.7 s\n"
     ]
    },
    {
     "data": {
      "text/plain": [
       "362"
      ]
     },
     "execution_count": 13,
     "metadata": {},
     "output_type": "execute_result"
    }
   ],
   "source": [
    "%time elf_game2([3, 1, 2], 30000000) # Should return 362"
   ]
  },
  {
   "cell_type": "code",
   "execution_count": 14,
   "metadata": {},
   "outputs": [
    {
     "name": "stdout",
     "output_type": "stream",
     "text": [
      "Wall time: 41.8 s\n"
     ]
    },
    {
     "data": {
      "text/plain": [
       "62714"
      ]
     },
     "execution_count": 14,
     "metadata": {},
     "output_type": "execute_result"
    }
   ],
   "source": [
    "%time elf_game2([2, 0, 1, 9, 5, 19], 30000000)"
   ]
  }
 ],
 "metadata": {
  "kernelspec": {
   "display_name": "Python 3",
   "language": "python",
   "name": "python3"
  },
  "language_info": {
   "codemirror_mode": {
    "name": "ipython",
    "version": 3
   },
   "file_extension": ".py",
   "mimetype": "text/x-python",
   "name": "python",
   "nbconvert_exporter": "python",
   "pygments_lexer": "ipython3",
   "version": "3.7.3"
  }
 },
 "nbformat": 4,
 "nbformat_minor": 4
}
