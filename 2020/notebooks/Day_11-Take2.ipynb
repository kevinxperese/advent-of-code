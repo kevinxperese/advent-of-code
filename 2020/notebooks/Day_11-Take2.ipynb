{
 "cells": [
  {
   "cell_type": "markdown",
   "metadata": {},
   "source": [
    "# --- Day : 11 Seating System ---\n",
    "\n",
    "https://adventofcode.com/2020/day/11\n",
    "\n",
    "I would like to come back and revisit this one.   \n",
    "The solution I've come up with is WAY too slow..."
   ]
  },
  {
   "cell_type": "code",
   "execution_count": 1,
   "metadata": {},
   "outputs": [],
   "source": [
    "path = '../inputs/'"
   ]
  },
  {
   "cell_type": "markdown",
   "metadata": {},
   "source": [
    "## Part 1"
   ]
  },
  {
   "cell_type": "markdown",
   "metadata": {},
   "source": [
    "### Map Legend\n",
    "floor = .   \n",
    "empty seat = L   \n",
    "occupied seat = #   "
   ]
  },
  {
   "cell_type": "code",
   "execution_count": 2,
   "metadata": {},
   "outputs": [],
   "source": [
    "import copy\n",
    "import numpy as np"
   ]
  },
  {
   "cell_type": "code",
   "execution_count": 3,
   "metadata": {},
   "outputs": [],
   "source": [
    "def get_initial_state(filename):\n",
    "    \n",
    "    with open(path + filename) as file:\n",
    "        # Set the floor as '9'\n",
    "        state = [row.strip().replace('L', '0').replace('.', '9') for row in file]\n",
    "        # Convert to numpy array, to be able to test for equality between states\n",
    "        state = np.array([[int(char) for char in row] for row in state])\n",
    "        # Convert 9s to nans\n",
    "        state = state.astype('float')\n",
    "        state[state==9] = np.nan\n",
    "    \n",
    "    return state"
   ]
  },
  {
   "cell_type": "code",
   "execution_count": 4,
   "metadata": {},
   "outputs": [
    {
     "data": {
      "text/plain": [
       "array([[ 0., nan,  0.,  0., nan,  0.,  0., nan,  0.,  0.],\n",
       "       [ 0.,  0.,  0.,  0.,  0.,  0.,  0., nan,  0.,  0.],\n",
       "       [ 0., nan,  0., nan,  0., nan, nan,  0., nan, nan],\n",
       "       [ 0.,  0.,  0.,  0., nan,  0.,  0., nan,  0.,  0.],\n",
       "       [ 0., nan,  0.,  0., nan,  0.,  0., nan,  0.,  0.],\n",
       "       [ 0., nan,  0.,  0.,  0.,  0.,  0., nan,  0.,  0.],\n",
       "       [nan, nan,  0., nan,  0., nan, nan, nan, nan, nan],\n",
       "       [ 0.,  0.,  0.,  0.,  0.,  0.,  0.,  0.,  0.,  0.],\n",
       "       [ 0., nan,  0.,  0.,  0.,  0.,  0.,  0., nan,  0.],\n",
       "       [ 0., nan,  0.,  0.,  0.,  0.,  0., nan,  0.,  0.]])"
      ]
     },
     "execution_count": 4,
     "metadata": {},
     "output_type": "execute_result"
    }
   ],
   "source": [
    "initial_state = get_initial_state('example_seat_layout.txt')\n",
    "initial_state"
   ]
  },
  {
   "cell_type": "code",
   "execution_count": 5,
   "metadata": {},
   "outputs": [],
   "source": [
    "def num_adjacents(array, i, j):\n",
    "    \n",
    "    num_rows = len(array)\n",
    "    num_cols = len(array[0])\n",
    "    adjacents = []\n",
    "    \n",
    "    for row in range(max(0, i-1), min(i+1+1, num_rows)):\n",
    "        for col in range(max(0, j-1), min(j+1+1, num_cols)):\n",
    "            if not (row == i and col == j):\n",
    "                adjacents.append(array[row][col])\n",
    "    \n",
    "    return np.nansum(adjacents)"
   ]
  },
  {
   "cell_type": "code",
   "execution_count": 6,
   "metadata": {},
   "outputs": [],
   "source": [
    "def change_state(state, new_state, func=num_adjacents, tol=4):\n",
    "    \n",
    "    for i in range(len(state)):\n",
    "        for j in range(len(state[0])):\n",
    "\n",
    "            if not np.isnan(state[i][j]):\n",
    "                if func(state, i, j) == 0:\n",
    "                    new_state[i][j] = 1\n",
    "                elif func(state, i, j) >= tol:\n",
    "                    new_state[i][j] = 0\n",
    "                else:\n",
    "                    new_state[i][j] == state[i][j]\n",
    "    \n",
    "    return new_state"
   ]
  },
  {
   "cell_type": "code",
   "execution_count": 7,
   "metadata": {},
   "outputs": [],
   "source": [
    "def run_sims(state, num_calls=1):\n",
    "\n",
    "    new_state = copy.deepcopy(state)     \n",
    "    new_state = change_state(state, new_state, func=num_adjacents, tol=4)\n",
    "    \n",
    "    if np.array_equal(new_state, state, equal_nan=True):\n",
    "        return np.nansum(new_state), num_calls\n",
    "    \n",
    "    else:\n",
    "#         print('round ', calls)\n",
    "#         print(np.nansum(new_state))\n",
    "#         print('state\\n', state, '\\nnew_state\\n', new_state,'\\n\\n')\n",
    "    \n",
    "        return run_sims(new_state, num_calls+1)\n"
   ]
  },
  {
   "cell_type": "code",
   "execution_count": 8,
   "metadata": {},
   "outputs": [
    {
     "data": {
      "text/plain": [
       "(37.0, 6)"
      ]
     },
     "execution_count": 8,
     "metadata": {},
     "output_type": "execute_result"
    }
   ],
   "source": [
    "run_sims(initial_state) # Should return 37"
   ]
  },
  {
   "cell_type": "code",
   "execution_count": 9,
   "metadata": {},
   "outputs": [
    {
     "data": {
      "text/plain": [
       "(2108.0, 71)"
      ]
     },
     "execution_count": 9,
     "metadata": {},
     "output_type": "execute_result"
    }
   ],
   "source": [
    "run_sims(get_initial_state('seat_layout.txt'))"
   ]
  },
  {
   "cell_type": "markdown",
   "metadata": {},
   "source": [
    "## Part 2"
   ]
  },
  {
   "cell_type": "code",
   "execution_count": 10,
   "metadata": {},
   "outputs": [],
   "source": [
    "def count_in_view(array, i, j):\n",
    "    \"\"\"Return number of occupied seats in view.\"\"\"\n",
    "    num_in_view = 0\n",
    "    \n",
    "    # Top\n",
    "    if i > 0:\n",
    "        for r in range(i-1, -1, -1):\n",
    "            if array[r, j] == 1:\n",
    "                num_in_view += 1\n",
    "                break\n",
    "            if array[r, j] == 0:\n",
    "                break\n",
    "\n",
    "    # Top right diagnonal\n",
    "    if i > 0 and j < len(array[0]):\n",
    "        rows = list(range(i-1, -1, -1))\n",
    "        cols = list(range(j+1, len(array[0])))        \n",
    "        for r, c in zip(rows, cols):\n",
    "            if array[r, c] == 1:\n",
    "                num_in_view += 1\n",
    "                break\n",
    "            if array[r, c] == 0:\n",
    "                break\n",
    "    \n",
    "    # Right\n",
    "    if j < len(array[0]):\n",
    "        for c in range(j+1, len(array[0])):\n",
    "            if array[i, c] == 1:\n",
    "                num_in_view += 1\n",
    "                break\n",
    "            if array[i, c] == 0:\n",
    "                break\n",
    "    \n",
    "    # Bottom right diagonal\n",
    "    if i < len(array) - 1 and j < len(array[0]):\n",
    "        rows = list(range(i+1, len(array)))\n",
    "        cols = list(range(j+1, len(array[0]-1)))\n",
    "        for r, c in zip(rows, cols):\n",
    "            if array[r, c] == 1:\n",
    "                num_in_view += 1\n",
    "                break\n",
    "            if array[r, c] == 0:\n",
    "                break\n",
    "    \n",
    "    # Bottom\n",
    "    if i < len(array):\n",
    "        for r in range(i+1, len(array)):\n",
    "            if array[r, j] == 1:\n",
    "                num_in_view += 1\n",
    "                break\n",
    "            if array[r, j] == 0:\n",
    "                break\n",
    "\n",
    "    # Bottom left diagonal\n",
    "    if i < len(array) - 1 and j > 0:\n",
    "        rows = list(range(i+1, len(array)))\n",
    "        cols = list(range(j-1, -1, -1))\n",
    "        for r, c in zip(rows, cols):\n",
    "            if array[r, c] == 1:\n",
    "                num_in_view += 1\n",
    "                break\n",
    "            if array[r, c] == 0:\n",
    "                break\n",
    "    \n",
    "    # Left\n",
    "    if j > 0:\n",
    "        for c in range(j-1, -1, -1):\n",
    "            if array[i, c] == 1:\n",
    "                num_in_view += 1\n",
    "                break\n",
    "            if array[i, c] == 0:\n",
    "                break\n",
    "    \n",
    "    # Top left diagonal\n",
    "    if i > 0 and j > 0:\n",
    "        rows = list(range(i-1, -1, -1))\n",
    "        cols = list(range(j-1, -1, -1))        \n",
    "        for r, c in zip(rows, cols):\n",
    "            if array[r, c] == 1:\n",
    "                num_in_view += 1\n",
    "                break\n",
    "            if array[r, c] == 0:\n",
    "                break\n",
    "    \n",
    "    return num_in_view"
   ]
  },
  {
   "cell_type": "code",
   "execution_count": 11,
   "metadata": {},
   "outputs": [],
   "source": [
    "def run_sims_2(state, num_calls=1):\n",
    "\n",
    "    new_state = copy.deepcopy(state)     \n",
    "    new_state = change_state(state, new_state, func=count_in_view, tol=5)\n",
    "    \n",
    "    if np.array_equal(new_state, state, equal_nan=True):\n",
    "        return np.nansum(new_state), num_calls\n",
    "    \n",
    "    else:\n",
    "#         print('round ', num_calls)\n",
    "#         print(np.nansum(new_state))\n",
    "#         print('state\\n', state, '\\nnew_state\\n', new_state,'\\n\\n')\n",
    "    \n",
    "        return run_sims_2(new_state, num_calls+1)"
   ]
  },
  {
   "cell_type": "code",
   "execution_count": 12,
   "metadata": {},
   "outputs": [
    {
     "data": {
      "text/plain": [
       "(26.0, 7)"
      ]
     },
     "execution_count": 12,
     "metadata": {},
     "output_type": "execute_result"
    }
   ],
   "source": [
    "run_sims_2(initial_state) # Should return 26"
   ]
  },
  {
   "cell_type": "code",
   "execution_count": 17,
   "metadata": {},
   "outputs": [
    {
     "name": "stdout",
     "output_type": "stream",
     "text": [
      "Wall time: 24.8 s\n"
     ]
    },
    {
     "data": {
      "text/plain": [
       "(1897.0, 84)"
      ]
     },
     "execution_count": 17,
     "metadata": {},
     "output_type": "execute_result"
    }
   ],
   "source": [
    "%time run_sims_2(get_initial_state('seat_layout.txt'))"
   ]
  }
 ],
 "metadata": {
  "kernelspec": {
   "display_name": "Python 3",
   "language": "python",
   "name": "python3"
  },
  "language_info": {
   "codemirror_mode": {
    "name": "ipython",
    "version": 3
   },
   "file_extension": ".py",
   "mimetype": "text/x-python",
   "name": "python",
   "nbconvert_exporter": "python",
   "pygments_lexer": "ipython3",
   "version": "3.7.3"
  }
 },
 "nbformat": 4,
 "nbformat_minor": 4
}
