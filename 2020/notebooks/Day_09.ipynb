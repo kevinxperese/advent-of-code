{
 "cells": [
  {
   "cell_type": "markdown",
   "metadata": {},
   "source": [
    "# --- Day 9: Encoding Error ---\n",
    "\n",
    "https://adventofcode.com/2020/day/9"
   ]
  },
  {
   "cell_type": "code",
   "execution_count": 1,
   "metadata": {},
   "outputs": [],
   "source": [
    "path = '../inputs/'"
   ]
  },
  {
   "cell_type": "markdown",
   "metadata": {},
   "source": [
    "## Part 1"
   ]
  },
  {
   "cell_type": "code",
   "execution_count": 2,
   "metadata": {},
   "outputs": [],
   "source": [
    "from itertools import combinations"
   ]
  },
  {
   "cell_type": "code",
   "execution_count": 3,
   "metadata": {},
   "outputs": [],
   "source": [
    "def check_data(filename, preamble_length=None):\n",
    "    \n",
    "    data = []\n",
    "    with open (path + filename) as file:\n",
    "        for i, line in enumerate(file):\n",
    "            data.append(int(line.strip()))\n",
    "\n",
    "            if i >= preamble_length:\n",
    "\n",
    "                valid_pairs = combinations(data[-(preamble_length + 1):-1], 2)\n",
    "                valid_sums = [sum(pair) for pair in valid_pairs] \n",
    "\n",
    "                if not data[i] in valid_sums:\n",
    "                    return data[i]            "
   ]
  },
  {
   "cell_type": "code",
   "execution_count": 4,
   "metadata": {},
   "outputs": [
    {
     "data": {
      "text/plain": [
       "127"
      ]
     },
     "execution_count": 4,
     "metadata": {},
     "output_type": "execute_result"
    }
   ],
   "source": [
    "check_data('example_port_data.txt', preamble_length=5) # Should return 127"
   ]
  },
  {
   "cell_type": "code",
   "execution_count": 5,
   "metadata": {},
   "outputs": [
    {
     "data": {
      "text/plain": [
       "10884537"
      ]
     },
     "execution_count": 5,
     "metadata": {},
     "output_type": "execute_result"
    }
   ],
   "source": [
    "check_data('port_data.txt', preamble_length=25)"
   ]
  },
  {
   "cell_type": "markdown",
   "metadata": {},
   "source": [
    "## Part 2"
   ]
  },
  {
   "cell_type": "code",
   "execution_count": 6,
   "metadata": {},
   "outputs": [],
   "source": [
    "def find_min_max_contiguous(filename, target=None):\n",
    "    data = []\n",
    "    \n",
    "    with open (path + filename) as file:\n",
    "        for i, line in enumerate(file):\n",
    "            data.append(int(line.strip()))\n",
    "\n",
    "            if i >= 2:\n",
    "                for j in range(i-1):\n",
    "                    sum_potential = sum(data[j:i])\n",
    "                    if sum_potential == target:\n",
    "                        return [min(data[j:i]), max(data[j:i])]"
   ]
  },
  {
   "cell_type": "code",
   "execution_count": 7,
   "metadata": {},
   "outputs": [
    {
     "data": {
      "text/plain": [
       "62"
      ]
     },
     "execution_count": 7,
     "metadata": {},
     "output_type": "execute_result"
    }
   ],
   "source": [
    "min_max = find_min_max_contiguous('example_port_data.txt', target=127) \n",
    "sum(min_max) # Should return 62"
   ]
  },
  {
   "cell_type": "code",
   "execution_count": 8,
   "metadata": {},
   "outputs": [
    {
     "data": {
      "text/plain": [
       "1261309"
      ]
     },
     "execution_count": 8,
     "metadata": {},
     "output_type": "execute_result"
    }
   ],
   "source": [
    "min_max = find_min_max_contiguous('port_data.txt', target=10884537) \n",
    "sum(min_max)"
   ]
  },
  {
   "cell_type": "code",
   "execution_count": 9,
   "metadata": {},
   "outputs": [
    {
     "name": "stdout",
     "output_type": "stream",
     "text": [
      "167 ms ± 1.71 ms per loop (mean ± std. dev. of 7 runs, 10 loops each)\n"
     ]
    }
   ],
   "source": [
    "%%timeit\n",
    "min_max = find_min_max_contiguous('port_data.txt', target=10884537) \n",
    "sum(min_max)"
   ]
  }
 ],
 "metadata": {
  "kernelspec": {
   "display_name": "Python 3",
   "language": "python",
   "name": "python3"
  },
  "language_info": {
   "codemirror_mode": {
    "name": "ipython",
    "version": 3
   },
   "file_extension": ".py",
   "mimetype": "text/x-python",
   "name": "python",
   "nbconvert_exporter": "python",
   "pygments_lexer": "ipython3",
   "version": "3.7.3"
  }
 },
 "nbformat": 4,
 "nbformat_minor": 4
}
