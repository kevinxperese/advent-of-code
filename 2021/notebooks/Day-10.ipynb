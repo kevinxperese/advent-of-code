{
 "cells": [
  {
   "cell_type": "markdown",
   "metadata": {},
   "source": [
    "# --- Day 10: Syntax Scoring --- \n",
    "\n",
    "https://adventofcode.com/2021/day/10"
   ]
  },
  {
   "cell_type": "markdown",
   "metadata": {},
   "source": [
    "## Get Input Data"
   ]
  },
  {
   "cell_type": "code",
   "execution_count": 1,
   "metadata": {},
   "outputs": [
    {
     "data": {
      "text/plain": [
       "['[({(<(())[]>[[{[]{<()<>>',\n",
       " '[(()[<>])]({[<{<<[]>>(',\n",
       " '{([(<{}[<>[]}>{[]{[(<()>',\n",
       " '(((({<>}<{<{<>}{[]{[]{}',\n",
       " '[[<[([]))<([[{}[[()]]]',\n",
       " '[{[{({}]{}}([{[{{{}}([]',\n",
       " '{<[[]]>}<{[{[{[]{()[[[]',\n",
       " '[<(<(<(<{}))><([]([]()',\n",
       " '<{([([[(<>()){}]>(<<{{',\n",
       " '<{([{{}}[<[[[<>{}]]]>[]]']"
      ]
     },
     "execution_count": 1,
     "metadata": {},
     "output_type": "execute_result"
    }
   ],
   "source": [
    "with open('../inputs/test_navigation_subsystem.txt') as file:\n",
    "    test_nav_subsystem = [line.strip() for line in file.readlines()]\n",
    "test_nav_subsystem"
   ]
  },
  {
   "cell_type": "code",
   "execution_count": 2,
   "metadata": {},
   "outputs": [
    {
     "data": {
      "text/plain": [
       "['{{{[(<<[[[<<([[]()]<()<>>)((()()))>([(()><{}[]>]({()[]}))>{[{(<>[]){{}[]}}<({}()){{}[]}>][<<(){}>(()<>)>{[{',\n",
       " '{<<((({{<<[<<{[]()}(())>([[]()])><[[{}{}]<[]<>>](({}())[{}<>])>][([{[]{}}](<<>{}>{()()})){({[]{}}<<><>>}{({}',\n",
       " '(<[{<{<(<[[<<<[][]>(<>)>><{<(){}>{[]{}}}<{{}[]}{()[]}]>][<([{}<>]<[]<>>)<{[]()}[()<>]>>[{{<><>}<<>{',\n",
       " '([{([{{{<[[{[{{}()}<{}[]>]{{<>()}<()>}}{<<{}()>{<>{}}>}]]<(<<[<><>]<<><>>>{<{}()>({}())}>){(<{()<>}><<<',\n",
       " '{(<{[{[{([<<{<()()>((){})}[[{}{})<()[]>]>>{([<{}<>><<>[]>]<{<>[]}[{}<>]>){<[<><>]{{}{}}><(']"
      ]
     },
     "execution_count": 2,
     "metadata": {},
     "output_type": "execute_result"
    }
   ],
   "source": [
    "with open('../inputs/navigation_subsystem.txt') as file:\n",
    "    nav_subsystem = [line.strip() for line in file.readlines()]\n",
    "nav_subsystem[:5]"
   ]
  },
  {
   "cell_type": "markdown",
   "metadata": {},
   "source": [
    "## Part 1\n",
    "---"
   ]
  },
  {
   "cell_type": "code",
   "execution_count": 3,
   "metadata": {},
   "outputs": [],
   "source": [
    "def find_illegal_characters(nav_subsystem):\n",
    "    \"\"\"Return a list of illegal characters found in the lines of the navigation subsystem.\"\"\"\n",
    "\n",
    "    match = {')':'(', ']':'[', '}':'{', '>':'<'}\n",
    "    closer = [')', ']', '}', '>']\n",
    "\n",
    "    illegal_chars = []\n",
    "    for line in nav_subsystem:\n",
    "\n",
    "        stack = []\n",
    "        for char in line:\n",
    "\n",
    "            stack.append(char)\n",
    "\n",
    "            if char in closer:\n",
    "\n",
    "                if match[char] in stack:\n",
    "                    last_opener_pos = ''.join(stack).rindex(match[char])\n",
    "                    match_to_pop = ''.join(stack[last_opener_pos:])\n",
    "\n",
    "                    if len(match_to_pop) > 2:\n",
    "                        # match_to_pop is too long, so last char is illegal\n",
    "                        illegal_chars.append(match_to_pop[-1])   \n",
    "                        break\n",
    "                    \n",
    "                    else:\n",
    "                        # \"pop\" the match out of the stack\n",
    "                        stack = stack[:last_opener_pos]\n",
    "\n",
    "                else:\n",
    "                    # There's no opener for the closer in the stack, so c must be illegal\n",
    "                    illegal_chars.append(char)\n",
    "                    break\n",
    "    \n",
    "    return illegal_chars"
   ]
  },
  {
   "cell_type": "code",
   "execution_count": 4,
   "metadata": {},
   "outputs": [
    {
     "data": {
      "text/plain": [
       "['}', ')', ']', ')', '>']"
      ]
     },
     "execution_count": 4,
     "metadata": {},
     "output_type": "execute_result"
    }
   ],
   "source": [
    "find_illegal_characters(test_nav_subsystem)"
   ]
  },
  {
   "cell_type": "code",
   "execution_count": 5,
   "metadata": {},
   "outputs": [],
   "source": [
    "def tally_up_points(illegal_characters):\n",
    "    \"\"\"Return the sum of all the points for the illegal characters.\"\"\"\n",
    "\n",
    "    points = {')':3, ']':57, '}':1197, '>':25137}\n",
    "\n",
    "    total_points = 0\n",
    "\n",
    "    for c in illegal_characters:\n",
    "        total_points += points[c]\n",
    "\n",
    "    return total_points"
   ]
  },
  {
   "cell_type": "markdown",
   "metadata": {},
   "source": [
    "### Run on Test Data"
   ]
  },
  {
   "cell_type": "code",
   "execution_count": 6,
   "metadata": {},
   "outputs": [
    {
     "data": {
      "text/plain": [
       "26397"
      ]
     },
     "execution_count": 6,
     "metadata": {},
     "output_type": "execute_result"
    }
   ],
   "source": [
    "illegal_characters = find_illegal_characters(test_nav_subsystem)\n",
    "tally_up_points(illegal_characters)  # Should return 26397"
   ]
  },
  {
   "cell_type": "markdown",
   "metadata": {},
   "source": [
    "### Run on Input Data"
   ]
  },
  {
   "cell_type": "code",
   "execution_count": 7,
   "metadata": {},
   "outputs": [
    {
     "data": {
      "text/plain": [
       "392043"
      ]
     },
     "execution_count": 7,
     "metadata": {},
     "output_type": "execute_result"
    }
   ],
   "source": [
    "illegal_characters = find_illegal_characters(nav_subsystem)\n",
    "tally_up_points(illegal_characters) "
   ]
  },
  {
   "cell_type": "markdown",
   "metadata": {},
   "source": [
    "## Part 2\n",
    "---"
   ]
  },
  {
   "cell_type": "code",
   "execution_count": null,
   "metadata": {},
   "outputs": [],
   "source": []
  },
  {
   "cell_type": "markdown",
   "metadata": {},
   "source": [
    "### Run on Test Data"
   ]
  },
  {
   "cell_type": "code",
   "execution_count": null,
   "metadata": {},
   "outputs": [],
   "source": []
  },
  {
   "cell_type": "markdown",
   "metadata": {},
   "source": [
    "### Run on Input Data"
   ]
  },
  {
   "cell_type": "code",
   "execution_count": null,
   "metadata": {},
   "outputs": [],
   "source": []
  }
 ],
 "metadata": {
  "kernelspec": {
   "display_name": "Python 3",
   "language": "python",
   "name": "python3"
  },
  "language_info": {
   "codemirror_mode": {
    "name": "ipython",
    "version": 3
   },
   "file_extension": ".py",
   "mimetype": "text/x-python",
   "name": "python",
   "nbconvert_exporter": "python",
   "pygments_lexer": "ipython3",
   "version": "3.8.8"
  }
 },
 "nbformat": 4,
 "nbformat_minor": 4
}
