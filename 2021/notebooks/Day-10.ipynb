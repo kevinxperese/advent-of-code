{
 "cells": [
  {
   "cell_type": "markdown",
   "metadata": {},
   "source": [
    "# --- Day 10: Syntax Scoring --- \n",
    "\n",
    "https://adventofcode.com/2021/day/10\n",
    "\n",
    "Full disclosure: Scanning this page (https://www.py4u.net/discuss/11493) lead me to:  \n",
    "\n",
    "1. Avoid using regular expressions (which was my initial thought), and \n",
    "2. Use a stack for my solution"
   ]
  },
  {
   "cell_type": "markdown",
   "metadata": {},
   "source": [
    "## Get Input Data"
   ]
  },
  {
   "cell_type": "code",
   "execution_count": 1,
   "metadata": {},
   "outputs": [
    {
     "data": {
      "text/plain": [
       "['[({(<(())[]>[[{[]{<()<>>',\n",
       " '[(()[<>])]({[<{<<[]>>(',\n",
       " '{([(<{}[<>[]}>{[]{[(<()>',\n",
       " '(((({<>}<{<{<>}{[]{[]{}',\n",
       " '[[<[([]))<([[{}[[()]]]',\n",
       " '[{[{({}]{}}([{[{{{}}([]',\n",
       " '{<[[]]>}<{[{[{[]{()[[[]',\n",
       " '[<(<(<(<{}))><([]([]()',\n",
       " '<{([([[(<>()){}]>(<<{{',\n",
       " '<{([{{}}[<[[[<>{}]]]>[]]']"
      ]
     },
     "execution_count": 1,
     "metadata": {},
     "output_type": "execute_result"
    }
   ],
   "source": [
    "with open('../inputs/test_navigation_subsystem.txt') as file:\n",
    "    test_nav_subsystem = [line.strip() for line in file.readlines()]\n",
    "test_nav_subsystem"
   ]
  },
  {
   "cell_type": "code",
   "execution_count": 2,
   "metadata": {},
   "outputs": [
    {
     "data": {
      "text/plain": [
       "['{{{[(<<[[[<<([[]()]<()<>>)((()()))>([(()><{}[]>]({()[]}))>{[{(<>[]){{}[]}}<({}()){{}[]}>][<<(){}>(()<>)>{[{',\n",
       " '{<<((({{<<[<<{[]()}(())>([[]()])><[[{}{}]<[]<>>](({}())[{}<>])>][([{[]{}}](<<>{}>{()()})){({[]{}}<<><>>}{({}',\n",
       " '(<[{<{<(<[[<<<[][]>(<>)>><{<(){}>{[]{}}}<{{}[]}{()[]}]>][<([{}<>]<[]<>>)<{[]()}[()<>]>>[{{<><>}<<>{',\n",
       " '([{([{{{<[[{[{{}()}<{}[]>]{{<>()}<()>}}{<<{}()>{<>{}}>}]]<(<<[<><>]<<><>>>{<{}()>({}())}>){(<{()<>}><<<',\n",
       " '{(<{[{[{([<<{<()()>((){})}[[{}{})<()[]>]>>{([<{}<>><<>[]>]<{<>[]}[{}<>]>){<[<><>]{{}{}}><(']"
      ]
     },
     "execution_count": 2,
     "metadata": {},
     "output_type": "execute_result"
    }
   ],
   "source": [
    "with open('../inputs/navigation_subsystem.txt') as file:\n",
    "    nav_subsystem = [line.strip() for line in file.readlines()]\n",
    "nav_subsystem[:5]"
   ]
  },
  {
   "cell_type": "markdown",
   "metadata": {},
   "source": [
    "## Part 1\n",
    "---"
   ]
  },
  {
   "cell_type": "code",
   "execution_count": 3,
   "metadata": {},
   "outputs": [],
   "source": [
    "def find_illegal_characters(nav_subsystem):\n",
    "    \"\"\"Return a list of illegal characters found in the lines of the navigation subsystem.\"\"\"\n",
    "\n",
    "    match = {')':'(', ']':'[', '}':'{', '>':'<'}\n",
    "    closer = [')', ']', '}', '>']\n",
    "\n",
    "    illegal_chars = []\n",
    "    for line in nav_subsystem:\n",
    "\n",
    "        stack = []\n",
    "        for char in line:\n",
    "\n",
    "            stack.append(char)\n",
    "\n",
    "            if char in closer:\n",
    "\n",
    "                if match[char] in stack:\n",
    "                    last_opener_pos = ''.join(stack).rindex(match[char])\n",
    "                    match_to_pop = ''.join(stack[last_opener_pos:])\n",
    "\n",
    "                    if len(match_to_pop) > 2:\n",
    "                        # match_to_pop is too long, so last char is illegal\n",
    "                        illegal_chars.append(match_to_pop[-1])   \n",
    "                        break\n",
    "                    \n",
    "                    else:\n",
    "                        # \"pop\" the match out of the stack\n",
    "                        stack = stack[:last_opener_pos]\n",
    "\n",
    "                else:\n",
    "                    # There's no opener for the closer in the stack, so c must be illegal\n",
    "                    illegal_chars.append(char)\n",
    "                    break\n",
    "    \n",
    "    return illegal_chars"
   ]
  },
  {
   "cell_type": "code",
   "execution_count": 4,
   "metadata": {},
   "outputs": [
    {
     "data": {
      "text/plain": [
       "['}', ')', ']', ')', '>']"
      ]
     },
     "execution_count": 4,
     "metadata": {},
     "output_type": "execute_result"
    }
   ],
   "source": [
    "find_illegal_characters(test_nav_subsystem)"
   ]
  },
  {
   "cell_type": "code",
   "execution_count": 5,
   "metadata": {},
   "outputs": [],
   "source": [
    "def tally_up_points(illegal_characters):\n",
    "    \"\"\"Return the sum of all the points for the illegal characters.\"\"\"\n",
    "\n",
    "    points = {')':3, ']':57, '}':1197, '>':25137}\n",
    "\n",
    "    total_points = 0\n",
    "\n",
    "    for c in illegal_characters:\n",
    "        total_points += points[c]\n",
    "\n",
    "    return total_points"
   ]
  },
  {
   "cell_type": "markdown",
   "metadata": {},
   "source": [
    "### Run on Test Data"
   ]
  },
  {
   "cell_type": "code",
   "execution_count": 6,
   "metadata": {},
   "outputs": [
    {
     "data": {
      "text/plain": [
       "26397"
      ]
     },
     "execution_count": 6,
     "metadata": {},
     "output_type": "execute_result"
    }
   ],
   "source": [
    "illegal_characters = find_illegal_characters(test_nav_subsystem)\n",
    "tally_up_points(illegal_characters)  # Should return 26397"
   ]
  },
  {
   "cell_type": "markdown",
   "metadata": {},
   "source": [
    "### Run on Input Data"
   ]
  },
  {
   "cell_type": "code",
   "execution_count": 7,
   "metadata": {},
   "outputs": [
    {
     "data": {
      "text/plain": [
       "392043"
      ]
     },
     "execution_count": 7,
     "metadata": {},
     "output_type": "execute_result"
    }
   ],
   "source": [
    "illegal_characters = find_illegal_characters(nav_subsystem)\n",
    "tally_up_points(illegal_characters) "
   ]
  },
  {
   "cell_type": "code",
   "execution_count": 9,
   "metadata": {},
   "outputs": [
    {
     "data": {
      "text/plain": [
       "[['[', '(', '{', '(', '[', '[', '{', '{'],\n",
       " ['(', '{', '[', '<', '{', '('],\n",
       " ['(', '(', '(', '(', '<', '{', '<', '{', '{'],\n",
       " ['<', '{', '[', '{', '[', '{', '{', '[', '['],\n",
       " ['<', '{', '(', '[']]"
      ]
     },
     "execution_count": 9,
     "metadata": {},
     "output_type": "execute_result"
    }
   ],
   "source": [
    "find_incompletes(test_nav_subsystem)"
   ]
  },
  {
   "cell_type": "code",
   "execution_count": 10,
   "metadata": {},
   "outputs": [],
   "source": [
    "def tally_up_incomplete_points(incomplete_stacks):\n",
    "    \"\"\"Return list of points for each incomplete line.\"\"\"\n",
    "\n",
    "    point_table = {')':1, ']':2, '}':3, '>':4}\n",
    "    match = {'(':')', '[':']', '{':'}', '<':'>'}\n",
    "\n",
    "    points = []\n",
    "    \n",
    "    for stack in incomplete_stacks:\n",
    "        reverse_stack = stack[::-1]\n",
    "    \n",
    "        total_score = 0\n",
    "        for char in reverse_stack:\n",
    "            total_score = 5 * total_score + point_table[match[char]]\n",
    "\n",
    "        points.append(total_score)\n",
    "\n",
    "    return points"
   ]
  },
  {
   "cell_type": "code",
   "execution_count": 11,
   "metadata": {},
   "outputs": [
    {
     "data": {
      "text/plain": [
       "[288957, 5566, 1480781, 995444, 294]"
      ]
     },
     "execution_count": 11,
     "metadata": {},
     "output_type": "execute_result"
    }
   ],
   "source": [
    "incompletes = find_incompletes(test_nav_subsystem)\n",
    "tally_up_incomplete_points(incompletes)"
   ]
  },
  {
   "cell_type": "code",
   "execution_count": 12,
   "metadata": {},
   "outputs": [],
   "source": [
    "def get_middle_score(scores):\n",
    "    \"\"\"Return the middle score from a list of scores (which will always be ood).\"\"\"\n",
    "\n",
    "    mid_point = len(scores) // 2\n",
    "    sorted_scores = sorted(scores)\n",
    "\n",
    "    return sorted_scores[mid_point]"
   ]
  },
  {
   "cell_type": "markdown",
   "metadata": {},
   "source": [
    "### Run on Test Data"
   ]
  },
  {
   "cell_type": "code",
   "execution_count": 13,
   "metadata": {},
   "outputs": [
    {
     "data": {
      "text/plain": [
       "288957"
      ]
     },
     "execution_count": 13,
     "metadata": {},
     "output_type": "execute_result"
    }
   ],
   "source": [
    "incompletes = find_incompletes(test_nav_subsystem)\n",
    "points = tally_up_incomplete_points(incompletes)\n",
    "get_middle_score(points)  # Should return 288957"
   ]
  },
  {
   "cell_type": "markdown",
   "metadata": {},
   "source": [
    "### Run on Input Data"
   ]
  },
  {
   "cell_type": "code",
   "execution_count": 14,
   "metadata": {},
   "outputs": [
    {
     "data": {
      "text/plain": [
       "1605968119"
      ]
     },
     "execution_count": 14,
     "metadata": {},
     "output_type": "execute_result"
    }
   ],
   "source": [
    "incompletes = find_incompletes(nav_subsystem)\n",
    "points = tally_up_incomplete_points(incompletes)\n",
    "get_middle_score(points)"
   ]
  }
 ],
 "metadata": {
  "kernelspec": {
   "display_name": "Python 3",
   "language": "python",
   "name": "python3"
  },
  "language_info": {
   "codemirror_mode": {
    "name": "ipython",
    "version": 3
   },
   "file_extension": ".py",
   "mimetype": "text/x-python",
   "name": "python",
   "nbconvert_exporter": "python",
   "pygments_lexer": "ipython3",
   "version": "3.8.8"
  }
 },
 "nbformat": 4,
 "nbformat_minor": 4
}
