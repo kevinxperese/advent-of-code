{
 "cells": [
  {
   "cell_type": "markdown",
   "metadata": {},
   "source": [
    "# --- Day 5: Hydrothermal Venture --- \n",
    "\n",
    "https://adventofcode.com/2021/day/5"
   ]
  },
  {
   "cell_type": "markdown",
   "metadata": {},
   "source": [
    "## Get Input Data"
   ]
  },
  {
   "cell_type": "code",
   "execution_count": 1,
   "metadata": {},
   "outputs": [
    {
     "data": {
      "text/plain": [
       "[[['0', '9'], ['5', '9']],\n",
       " [['8', '0'], ['0', '8']],\n",
       " [['9', '4'], ['3', '4']],\n",
       " [['2', '2'], ['2', '1']],\n",
       " [['7', '0'], ['7', '4']],\n",
       " [['6', '4'], ['2', '0']],\n",
       " [['0', '9'], ['2', '9']],\n",
       " [['3', '4'], ['1', '4']],\n",
       " [['0', '0'], ['8', '8']],\n",
       " [['5', '5'], ['8', '2']]]"
      ]
     },
     "execution_count": 1,
     "metadata": {},
     "output_type": "execute_result"
    }
   ],
   "source": [
    "with open ('../inputs/test_vent_lines.txt') as file:\n",
    "     test_vent_lines = [[c[0].split(','), c[1].split(',')] for c in [line.strip().split(' -> ') for line in file.readlines()]]\n",
    "\n",
    "test_vent_lines"
   ]
  },
  {
   "cell_type": "code",
   "execution_count": 2,
   "metadata": {},
   "outputs": [
    {
     "data": {
      "text/plain": [
       "[[['409', '872'], ['409', '963']],\n",
       " [['149', '412'], ['281', '280']],\n",
       " [['435', '281'], ['435', '362']],\n",
       " [['52', '208'], ['969', '208']],\n",
       " [['427', '265'], ['884', '265']]]"
      ]
     },
     "execution_count": 2,
     "metadata": {},
     "output_type": "execute_result"
    }
   ],
   "source": [
    "with open ('../inputs/vent_lines.txt') as file:\n",
    "     vent_lines = [[c[0].split(','), c[1].split(',')] for c in [line.strip().split(' -> ') for line in file.readlines()]]\n",
    "\n",
    "vent_lines[:5]"
   ]
  },
  {
   "cell_type": "markdown",
   "metadata": {},
   "source": [
    "## Part 1\n",
    "---"
   ]
  },
  {
   "cell_type": "code",
   "execution_count": 3,
   "metadata": {},
   "outputs": [],
   "source": [
    "from collections import Counter"
   ]
  },
  {
   "cell_type": "code",
   "execution_count": 4,
   "metadata": {},
   "outputs": [],
   "source": [
    "def count_overlapping_points(lines):\n",
    "    \"\"\"Return the number of points with overlapping vertical or horizontal lines.\"\"\"\n",
    "    \n",
    "    points = []\n",
    "    \n",
    "    for line in lines:\n",
    "\n",
    "        # Make the points easier to work with\n",
    "        p0 = {'x' : int(line[0][0]), 'y' : int(line[0][1])}\n",
    "        p1 = {'x' : int(line[1][0]), 'y' : int(line[1][1])}\n",
    "        \n",
    "        # Vertical lines\n",
    "        if p0['x'] == p1['x']:\n",
    "            y_step = 1 if p0['y'] < p1['y'] else -1\n",
    "            for y in range(p0['y'], p1['y']+y_step, y_step):\n",
    "                points.append((p0['x'], y))\n",
    "\n",
    "        # Horizontal lines\n",
    "        elif p0['y'] == p1['y']:\n",
    "            x_step = 1 if p0['x'] < p1['x'] else -1\n",
    "            for x in range(p0['x'], p1['x']+x_step, x_step):\n",
    "                points.append((x, p0['y']))\n",
    "\n",
    "    point_counts_gt_1 = [point_count for point_count in list(Counter(points).values()) if point_count > 1]\n",
    "    \n",
    "    return len(point_counts_gt_1)"
   ]
  },
  {
   "cell_type": "markdown",
   "metadata": {},
   "source": [
    "### Run on Test Data"
   ]
  },
  {
   "cell_type": "code",
   "execution_count": 5,
   "metadata": {},
   "outputs": [
    {
     "data": {
      "text/plain": [
       "5"
      ]
     },
     "execution_count": 5,
     "metadata": {},
     "output_type": "execute_result"
    }
   ],
   "source": [
    " count_overlapping_points(test_vent_lines)  # Should return 5"
   ]
  },
  {
   "cell_type": "markdown",
   "metadata": {},
   "source": [
    "### Run on Input Data"
   ]
  },
  {
   "cell_type": "code",
   "execution_count": 6,
   "metadata": {},
   "outputs": [
    {
     "data": {
      "text/plain": [
       "7436"
      ]
     },
     "execution_count": 6,
     "metadata": {},
     "output_type": "execute_result"
    }
   ],
   "source": [
    "count_overlapping_points(vent_lines)  "
   ]
  },
  {
   "cell_type": "markdown",
   "metadata": {},
   "source": [
    "## Part 2\n",
    "---"
   ]
  },
  {
   "cell_type": "code",
   "execution_count": 7,
   "metadata": {},
   "outputs": [],
   "source": [
    "def count_overlapping_points_2(lines):\n",
    "    \"\"\"Return the number of points with overlapping vertical or horizontal lines.\"\"\"\n",
    "    \n",
    "    points = []\n",
    "\n",
    "    for line in lines:\n",
    "        # Make the points easier to work with\n",
    "        p0 = {'x' : int(line[0][0]), 'y' : int(line[0][1])}\n",
    "        p1 = {'x' : int(line[1][0]), 'y' : int(line[1][1])}\n",
    "        \n",
    "        # Vertical lines\n",
    "        if p0['x'] == p1['x']:\n",
    "            y_step = 1 if p0['y'] < p1['y'] else -1\n",
    "            for y in range(p0['y'], p1['y']+y_step, y_step):\n",
    "                points.append((p0['x'], y))\n",
    "\n",
    "        # Horizontal lines\n",
    "        elif p0['y'] == p1['y']:\n",
    "            x_step = 1 if p0['x'] < p1['x'] else -1\n",
    "            for x in range(p0['x'], p1['x']+x_step, x_step):\n",
    "                points.append((x, p0['y']))\n",
    "\n",
    "        # Diagonal lines        \n",
    "        else:\n",
    "            x_step = 1 if p0['x'] < p1['x'] else -1\n",
    "            y_step = 1 if p0['y'] < p1['y'] else -1\n",
    "               \n",
    "            x_dist = abs(p0['x'] - p1['x'])\n",
    "            \n",
    "            for i in range(x_dist+1):\n",
    "                x = p0['x'] + i * x_step\n",
    "                y = p0['y'] + i * y_step\n",
    "                points.append((x, y))\n",
    "\n",
    "    point_counts_gt_1 = [point_count for point_count in list(Counter(points).values()) if point_count > 1]\n",
    "    \n",
    "    return len(point_counts_gt_1)"
   ]
  },
  {
   "cell_type": "markdown",
   "metadata": {},
   "source": [
    "### Run on Test Data"
   ]
  },
  {
   "cell_type": "code",
   "execution_count": 8,
   "metadata": {},
   "outputs": [
    {
     "data": {
      "text/plain": [
       "12"
      ]
     },
     "execution_count": 8,
     "metadata": {},
     "output_type": "execute_result"
    }
   ],
   "source": [
    "count_overlapping_points_2(test_vent_lines)  # Should return 12"
   ]
  },
  {
   "cell_type": "markdown",
   "metadata": {},
   "source": [
    "### Run on Input Data"
   ]
  },
  {
   "cell_type": "code",
   "execution_count": 9,
   "metadata": {},
   "outputs": [
    {
     "data": {
      "text/plain": [
       "21104"
      ]
     },
     "execution_count": 9,
     "metadata": {},
     "output_type": "execute_result"
    }
   ],
   "source": [
    "count_overlapping_points_2(vent_lines)"
   ]
  }
 ],
 "metadata": {
  "kernelspec": {
   "display_name": "Python 3",
   "language": "python",
   "name": "python3"
  },
  "language_info": {
   "codemirror_mode": {
    "name": "ipython",
    "version": 3
   },
   "file_extension": ".py",
   "mimetype": "text/x-python",
   "name": "python",
   "nbconvert_exporter": "python",
   "pygments_lexer": "ipython3",
   "version": "3.8.8"
  }
 },
 "nbformat": 4,
 "nbformat_minor": 4
}
