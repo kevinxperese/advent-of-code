{
 "cells": [
  {
   "cell_type": "markdown",
   "metadata": {},
   "source": [
    "# --- Day 3:  Binary Diagnostic --- \n",
    "\n",
    "https://adventofcode.com/2021/day/3"
   ]
  },
  {
   "cell_type": "markdown",
   "metadata": {},
   "source": [
    "## Get Input Data"
   ]
  },
  {
   "cell_type": "code",
   "execution_count": 1,
   "metadata": {},
   "outputs": [],
   "source": [
    "test_diagnostic_report = ['00100', '11110', '10110', '10111', '10101', '01111', '00111', '11100', '10000', '11001', '00010', '01010']"
   ]
  },
  {
   "cell_type": "code",
   "execution_count": 11,
   "metadata": {},
   "outputs": [
    {
     "data": {
      "text/plain": [
       "['000011110010',\n",
       " '010000100100',\n",
       " '010011111111',\n",
       " '000101001111',\n",
       " '010100011111']"
      ]
     },
     "execution_count": 11,
     "metadata": {},
     "output_type": "execute_result"
    }
   ],
   "source": [
    "with open('../inputs/diagnostic_report.txt') as f:\n",
    "    diagnostic_report = [line.strip() for line in f.readlines()]\n",
    "diagnostic_report[:5]"
   ]
  },
  {
   "cell_type": "markdown",
   "metadata": {},
   "source": [
    "## Part 1\n",
    "---"
   ]
  },
  {
   "cell_type": "code",
   "execution_count": 40,
   "metadata": {},
   "outputs": [],
   "source": [
    "def find_gamma_epsilon_rates(report):\n",
    "    \"\"\"Return the gamma and epsilon rates based on prevalence of bits in diagnostic report.\"\"\"\n",
    "    \n",
    "    # Use this to determine which bit (0/1) is most prevalent\n",
    "    len_report = len(report)\n",
    "    \n",
    "    # Transpose the report\n",
    "    transpose = list(map(list, zip(*report)))\n",
    "    \n",
    "    gamma_binary = []\n",
    "    epsilon_binary = []\n",
    "    \n",
    "    for row in transpose:\n",
    "        gamma_bit = 0\n",
    "        \n",
    "        for col in row:\n",
    "            gamma_bit += int(col)\n",
    "        \n",
    "        if gamma_bit > 0.5 * len_report:\n",
    "            gamma_binary.append('1')\n",
    "            epsilon_binary.append('0')\n",
    "        else:\n",
    "            gamma_binary.append('0')\n",
    "            epsilon_binary.append('1')\n",
    "\n",
    "    # Convert binary strings to integers\n",
    "    gamma_rate = int(''.join(gamma_binary), 2)\n",
    "    epsilon_rate = int(''.join(epsilon_binary), 2)\n",
    "            \n",
    "    return (gamma_rate, epsilon_rate)"
   ]
  },
  {
   "cell_type": "code",
   "execution_count": 42,
   "metadata": {},
   "outputs": [],
   "source": [
    "def calc_product(t):\n",
    "    \"\"\"Return the product of values in tuple, t.\"\"\"\n",
    "    return t[0] * t[1]"
   ]
  },
  {
   "cell_type": "markdown",
   "metadata": {},
   "source": [
    "### Run on Test Data"
   ]
  },
  {
   "cell_type": "code",
   "execution_count": 43,
   "metadata": {},
   "outputs": [
    {
     "data": {
      "text/plain": [
       "198"
      ]
     },
     "execution_count": 43,
     "metadata": {},
     "output_type": "execute_result"
    }
   ],
   "source": [
    "calc_product(find_gamma_epsilon_rates(test_diagnostic_report))  # Should return 198"
   ]
  },
  {
   "cell_type": "markdown",
   "metadata": {},
   "source": [
    "### Run on Input Data"
   ]
  },
  {
   "cell_type": "code",
   "execution_count": 44,
   "metadata": {},
   "outputs": [
    {
     "data": {
      "text/plain": [
       "3009600"
      ]
     },
     "execution_count": 44,
     "metadata": {},
     "output_type": "execute_result"
    }
   ],
   "source": [
    "calc_product(find_gamma_epsilon_rates(diagnostic_report))"
   ]
  },
  {
   "cell_type": "markdown",
   "metadata": {},
   "source": [
    "## Part 2\n",
    "---"
   ]
  },
  {
   "cell_type": "code",
   "execution_count": null,
   "metadata": {},
   "outputs": [],
   "source": []
  },
  {
   "cell_type": "markdown",
   "metadata": {},
   "source": [
    "### Run on Test Data"
   ]
  },
  {
   "cell_type": "code",
   "execution_count": null,
   "metadata": {},
   "outputs": [],
   "source": []
  },
  {
   "cell_type": "markdown",
   "metadata": {},
   "source": [
    "### Run on Input Data"
   ]
  },
  {
   "cell_type": "code",
   "execution_count": null,
   "metadata": {},
   "outputs": [],
   "source": []
  }
 ],
 "metadata": {
  "kernelspec": {
   "display_name": "Python 3",
   "language": "python",
   "name": "python3"
  },
  "language_info": {
   "codemirror_mode": {
    "name": "ipython",
    "version": 3
   },
   "file_extension": ".py",
   "mimetype": "text/x-python",
   "name": "python",
   "nbconvert_exporter": "python",
   "pygments_lexer": "ipython3",
   "version": "3.8.8"
  }
 },
 "nbformat": 4,
 "nbformat_minor": 4
}
