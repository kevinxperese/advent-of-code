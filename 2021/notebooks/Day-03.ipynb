{
 "cells": [
  {
   "cell_type": "markdown",
   "metadata": {},
   "source": [
    "# --- Day 3:  Binary Diagnostic --- \n",
    "\n",
    "https://adventofcode.com/2021/day/3"
   ]
  },
  {
   "cell_type": "markdown",
   "metadata": {},
   "source": [
    "## Get Input Data"
   ]
  },
  {
   "cell_type": "code",
   "execution_count": 1,
   "metadata": {},
   "outputs": [],
   "source": [
    "test_diagnostic_report = ['00100', '11110', '10110', '10111', '10101', '01111', '00111', '11100', '10000', '11001', '00010', '01010']"
   ]
  },
  {
   "cell_type": "code",
   "execution_count": 2,
   "metadata": {},
   "outputs": [
    {
     "data": {
      "text/plain": [
       "['000011110010',\n",
       " '010000100100',\n",
       " '010011111111',\n",
       " '000101001111',\n",
       " '010100011111']"
      ]
     },
     "execution_count": 2,
     "metadata": {},
     "output_type": "execute_result"
    }
   ],
   "source": [
    "with open('../inputs/diagnostic_report.txt') as f:\n",
    "    diagnostic_report = [line.strip() for line in f.readlines()]\n",
    "diagnostic_report[:5]"
   ]
  },
  {
   "cell_type": "markdown",
   "metadata": {},
   "source": [
    "## Part 1\n",
    "---"
   ]
  },
  {
   "cell_type": "code",
   "execution_count": 3,
   "metadata": {},
   "outputs": [],
   "source": [
    "from collections import Counter"
   ]
  },
  {
   "cell_type": "code",
   "execution_count": 4,
   "metadata": {},
   "outputs": [],
   "source": [
    "def find_gamma_epsilon_rates(report):\n",
    "    \"\"\"Return the gamma and epsilon rates based on prevalence of bits in diagnostic report columns.\"\"\"\n",
    "    \n",
    "    # Transpose the report\n",
    "    transpose = list(map(list, zip(*report)))\n",
    "    \n",
    "    gamma_binary = []\n",
    "    epsilon_binary = []\n",
    "    \n",
    "    for row in transpose:\n",
    "        bit_counts = Counter(''.join(row))\n",
    "        \n",
    "        if bit_counts['0'] > bit_counts['1']:\n",
    "            gamma_binary.append('0')\n",
    "            epsilon_binary.append('1')\n",
    "        else:\n",
    "            gamma_binary.append('1')\n",
    "            epsilon_binary.append('0')\n",
    "\n",
    "    # Convert binary strings to integers; passing 2 as a second argument to int() function indicates base 2\n",
    "    gamma_rate = int(''.join(gamma_binary), 2)\n",
    "    epsilon_rate = int(''.join(epsilon_binary), 2)\n",
    "            \n",
    "    return (gamma_rate, epsilon_rate)"
   ]
  },
  {
   "cell_type": "code",
   "execution_count": 5,
   "metadata": {},
   "outputs": [],
   "source": [
    "def calc_product(t):\n",
    "    \"\"\"Return the product of values in tuple, t.\"\"\"\n",
    "    return t[0] * t[1]"
   ]
  },
  {
   "cell_type": "markdown",
   "metadata": {},
   "source": [
    "### Run on Test Data"
   ]
  },
  {
   "cell_type": "code",
   "execution_count": 6,
   "metadata": {},
   "outputs": [
    {
     "data": {
      "text/plain": [
       "198"
      ]
     },
     "execution_count": 6,
     "metadata": {},
     "output_type": "execute_result"
    }
   ],
   "source": [
    "calc_product(find_gamma_epsilon_rates(test_diagnostic_report))  # Should return 198"
   ]
  },
  {
   "cell_type": "markdown",
   "metadata": {},
   "source": [
    "### Run on Input Data"
   ]
  },
  {
   "cell_type": "code",
   "execution_count": 7,
   "metadata": {},
   "outputs": [
    {
     "data": {
      "text/plain": [
       "3009600"
      ]
     },
     "execution_count": 7,
     "metadata": {},
     "output_type": "execute_result"
    }
   ],
   "source": [
    "calc_product(find_gamma_epsilon_rates(diagnostic_report))"
   ]
  },
  {
   "cell_type": "markdown",
   "metadata": {},
   "source": [
    "## Part 2\n",
    "---"
   ]
  },
  {
   "cell_type": "code",
   "execution_count": 8,
   "metadata": {},
   "outputs": [],
   "source": [
    "def find_most_common_bits(report):\n",
    "    \"\"\"Return most common bits in each column of diagnostic report.\"\"\"\n",
    "    \n",
    "    # Transpose the report to process the columns as rows\n",
    "    transpose = list(map(list, zip(*report)))\n",
    "    \n",
    "    most_common_bits = []\n",
    "    \n",
    "    for row in transpose:\n",
    "        bit_counts = Counter(''.join(row))\n",
    "        \n",
    "        if bit_counts['0'] > bit_counts['1']:\n",
    "            most_common_bits.append('0')\n",
    "        elif bit_counts['0'] < bit_counts['1']:\n",
    "            most_common_bits.append('1')\n",
    "        elif bit_counts['0'] == bit_counts['1']:  # ties go to 1\n",
    "            most_common_bits.append('1')\n",
    "\n",
    "    return most_common_bits"
   ]
  },
  {
   "cell_type": "code",
   "execution_count": 9,
   "metadata": {},
   "outputs": [],
   "source": [
    "def find_least_common_bits(report):\n",
    "    \"\"\"Return least common bits in each column of diagnostic report.\"\"\"\n",
    "    \n",
    "    # Transpose the report to process the columns as rows\n",
    "    transpose = list(map(list, zip(*report)))\n",
    "    \n",
    "    least_common_bits = []\n",
    "    \n",
    "    for row in transpose:\n",
    "        bit_counts = Counter(''.join(row))\n",
    "        \n",
    "        if bit_counts['0'] > bit_counts['1']:\n",
    "            least_common_bits.append('1')\n",
    "        elif bit_counts['0'] < bit_counts['1']:\n",
    "            least_common_bits.append('0')\n",
    "        elif bit_counts['0'] == bit_counts['1']:  # ties go to 0\n",
    "            least_common_bits.append('0')\n",
    "\n",
    "    return least_common_bits"
   ]
  },
  {
   "cell_type": "code",
   "execution_count": 10,
   "metadata": {},
   "outputs": [],
   "source": [
    "def find_rating(report, col, type):\n",
    "    \"\"\"Find either 'oxygen generator' or 'CO2 scrubber' ratings, based on diagnostic report data.\"\"\"\n",
    "\n",
    "    # Stoping condition\n",
    "    if len(report) == 1:\n",
    "        return int(report[0], 2)\n",
    "    \n",
    "    most_common_bits = find_most_common_bits(report)\n",
    "    least_common_bits = find_least_common_bits(report)\n",
    "    \n",
    "    filtered_report = []\n",
    "    for row in report:\n",
    "        if type == 'oxygen generator':\n",
    "            if most_common_bits[col] == row[col]:\n",
    "                filtered_report.append(row)\n",
    "        elif type == 'CO2 scrubber':\n",
    "            if least_common_bits[col] == row[col]:\n",
    "                filtered_report.append(row)\n",
    "                \n",
    "    # Recursive call\n",
    "    return find_rating(filtered_report, col+1, type)"
   ]
  },
  {
   "cell_type": "markdown",
   "metadata": {},
   "source": [
    "### Run on Test Data"
   ]
  },
  {
   "cell_type": "code",
   "execution_count": 11,
   "metadata": {},
   "outputs": [],
   "source": [
    "oxygen_generator_rating = find_rating(test_diagnostic_report, 0, 'oxygen generator')"
   ]
  },
  {
   "cell_type": "code",
   "execution_count": 12,
   "metadata": {},
   "outputs": [],
   "source": [
    "CO2_scrubber_rating = find_rating(test_diagnostic_report, 0, 'CO2 scrubber')"
   ]
  },
  {
   "cell_type": "code",
   "execution_count": 13,
   "metadata": {},
   "outputs": [
    {
     "data": {
      "text/plain": [
       "230"
      ]
     },
     "execution_count": 13,
     "metadata": {},
     "output_type": "execute_result"
    }
   ],
   "source": [
    "oxygen_generator_rating * CO2_scrubber_rating  # Should return 230"
   ]
  },
  {
   "cell_type": "markdown",
   "metadata": {},
   "source": [
    "### Run on Input Data"
   ]
  },
  {
   "cell_type": "code",
   "execution_count": 14,
   "metadata": {},
   "outputs": [],
   "source": [
    "oxygen_generator_rating = find_rating(diagnostic_report, 0, 'oxygen generator')"
   ]
  },
  {
   "cell_type": "code",
   "execution_count": 15,
   "metadata": {},
   "outputs": [],
   "source": [
    "CO2_scrubber_rating = find_rating(diagnostic_report, 0, 'CO2 scrubber')"
   ]
  },
  {
   "cell_type": "code",
   "execution_count": 16,
   "metadata": {},
   "outputs": [
    {
     "data": {
      "text/plain": [
       "6940518"
      ]
     },
     "execution_count": 16,
     "metadata": {},
     "output_type": "execute_result"
    }
   ],
   "source": [
    "oxygen_generator_rating * CO2_scrubber_rating"
   ]
  }
 ],
 "metadata": {
  "kernelspec": {
   "display_name": "Python 3",
   "language": "python",
   "name": "python3"
  },
  "language_info": {
   "codemirror_mode": {
    "name": "ipython",
    "version": 3
   },
   "file_extension": ".py",
   "mimetype": "text/x-python",
   "name": "python",
   "nbconvert_exporter": "python",
   "pygments_lexer": "ipython3",
   "version": "3.8.8"
  }
 },
 "nbformat": 4,
 "nbformat_minor": 4
}
