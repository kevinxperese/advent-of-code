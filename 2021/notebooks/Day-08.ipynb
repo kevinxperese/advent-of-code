{
 "cells": [
  {
   "cell_type": "markdown",
   "metadata": {},
   "source": [
    "# --- Day 8: Seven Segment Search --- \n",
    "\n",
    "https://adventofcode.com/2021/day/8"
   ]
  },
  {
   "cell_type": "markdown",
   "metadata": {},
   "source": [
    "## Get Input Data"
   ]
  },
  {
   "cell_type": "code",
   "execution_count": 39,
   "metadata": {},
   "outputs": [],
   "source": [
    "def parse_data(filename):\n",
    "    with open(f'../inputs/{filename}') as file:\n",
    "        data = []\n",
    "        for line in file:\n",
    "            data.append([x.split(' ') for x in line.strip().split(' | ')])\n",
    "    return data"
   ]
  },
  {
   "cell_type": "code",
   "execution_count": 50,
   "metadata": {},
   "outputs": [
    {
     "data": {
      "text/plain": [
       "[[['be',\n",
       "   'cfbegad',\n",
       "   'cbdgef',\n",
       "   'fgaecd',\n",
       "   'cgeb',\n",
       "   'fdcge',\n",
       "   'agebfd',\n",
       "   'fecdb',\n",
       "   'fabcd',\n",
       "   'edb'],\n",
       "  ['fdgacbe', 'cefdb', 'cefbgd', 'gcbe']],\n",
       " [['edbfga',\n",
       "   'begcd',\n",
       "   'cbg',\n",
       "   'gc',\n",
       "   'gcadebf',\n",
       "   'fbgde',\n",
       "   'acbgfd',\n",
       "   'abcde',\n",
       "   'gfcbed',\n",
       "   'gfec'],\n",
       "  ['fcgedb', 'cgb', 'dgebacf', 'gc']]]"
      ]
     },
     "execution_count": 50,
     "metadata": {},
     "output_type": "execute_result"
    }
   ],
   "source": [
    "test_data = parse_data('test-day-8.txt')\n",
    "test_data[:2]"
   ]
  },
  {
   "cell_type": "code",
   "execution_count": 49,
   "metadata": {},
   "outputs": [
    {
     "data": {
      "text/plain": [
       "[[['ecdbfag',\n",
       "   'deacfb',\n",
       "   'acdgb',\n",
       "   'cdg',\n",
       "   'acdbf',\n",
       "   'gdfb',\n",
       "   'efacdg',\n",
       "   'gd',\n",
       "   'cagdbf',\n",
       "   'beacg'],\n",
       "  ['cdg', 'dcebgaf', 'gbdf', 'bdacg']],\n",
       " [['fadecg',\n",
       "   'gdbecaf',\n",
       "   'agbfd',\n",
       "   'fgdcb',\n",
       "   'gab',\n",
       "   'ebagdf',\n",
       "   'feabcg',\n",
       "   'deab',\n",
       "   'gdefa',\n",
       "   'ab'],\n",
       "  ['adfbg', 'ab', 'fcgdbae', 'bfgecda']]]"
      ]
     },
     "execution_count": 49,
     "metadata": {},
     "output_type": "execute_result"
    }
   ],
   "source": [
    "data = parse_data('day-8.txt')\n",
    "data[:2]"
   ]
  },
  {
   "cell_type": "markdown",
   "metadata": {},
   "source": [
    "## Part 1\n",
    "---"
   ]
  },
  {
   "cell_type": "code",
   "execution_count": 46,
   "metadata": {},
   "outputs": [],
   "source": [
    "def count_easy_digits(data):\n",
    "    \"\"\"Count easy in the output data.\"\"\"\n",
    "    \n",
    "    num_easy_digits = 0\n",
    "    \n",
    "    for row in data:\n",
    "        for d in row[1]:\n",
    "            if len(d) in [2, 3, 4, 7]:\n",
    "                num_easy_digits += 1\n",
    "    \n",
    "    return num_easy_digits"
   ]
  },
  {
   "cell_type": "markdown",
   "metadata": {},
   "source": [
    "### Run on Test Data"
   ]
  },
  {
   "cell_type": "code",
   "execution_count": 47,
   "metadata": {},
   "outputs": [
    {
     "data": {
      "text/plain": [
       "26"
      ]
     },
     "execution_count": 47,
     "metadata": {},
     "output_type": "execute_result"
    }
   ],
   "source": [
    "count_easy_digits(test_data)  # Should return 26"
   ]
  },
  {
   "cell_type": "markdown",
   "metadata": {},
   "source": [
    "### Run on Input Data"
   ]
  },
  {
   "cell_type": "code",
   "execution_count": 48,
   "metadata": {},
   "outputs": [
    {
     "data": {
      "text/plain": [
       "525"
      ]
     },
     "execution_count": 48,
     "metadata": {},
     "output_type": "execute_result"
    }
   ],
   "source": [
    "count_easy_digits(data)"
   ]
  },
  {
   "cell_type": "markdown",
   "metadata": {},
   "source": [
    "## Part 2\n",
    "---"
   ]
  },
  {
   "cell_type": "code",
   "execution_count": null,
   "metadata": {},
   "outputs": [],
   "source": [
    "top\n",
    "top_left\n",
    "top_right\n",
    "middle\n",
    "bottom_left\n",
    "bottom_right\n",
    "bottom"
   ]
  },
  {
   "cell_type": "markdown",
   "metadata": {},
   "source": [
    "### Run on Test Data"
   ]
  },
  {
   "cell_type": "code",
   "execution_count": null,
   "metadata": {},
   "outputs": [],
   "source": []
  },
  {
   "cell_type": "markdown",
   "metadata": {},
   "source": [
    "### Run on Input Data"
   ]
  },
  {
   "cell_type": "code",
   "execution_count": null,
   "metadata": {},
   "outputs": [],
   "source": []
  }
 ],
 "metadata": {
  "kernelspec": {
   "display_name": "Python 3",
   "language": "python",
   "name": "python3"
  },
  "language_info": {
   "codemirror_mode": {
    "name": "ipython",
    "version": 3
   },
   "file_extension": ".py",
   "mimetype": "text/x-python",
   "name": "python",
   "nbconvert_exporter": "python",
   "pygments_lexer": "ipython3",
   "version": "3.7.3"
  }
 },
 "nbformat": 4,
 "nbformat_minor": 4
}
