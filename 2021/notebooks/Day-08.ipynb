{
 "cells": [
  {
   "cell_type": "markdown",
   "metadata": {},
   "source": [
    "# --- Day 8: Seven Segment Search --- \n",
    "\n",
    "https://adventofcode.com/2021/day/8"
   ]
  },
  {
   "cell_type": "markdown",
   "metadata": {},
   "source": [
    "## Get Input Data"
   ]
  },
  {
   "cell_type": "code",
   "execution_count": 1,
   "metadata": {},
   "outputs": [],
   "source": [
    "def parse_data(filename):\n",
    "    with open(f'../inputs/{filename}') as file:\n",
    "        data = []\n",
    "        for line in file:\n",
    "            data.append([x.split(' ') for x in line.strip().split(' | ')])\n",
    "    return data"
   ]
  },
  {
   "cell_type": "code",
   "execution_count": 2,
   "metadata": {},
   "outputs": [
    {
     "data": {
      "text/plain": [
       "[[['be',\n",
       "   'cfbegad',\n",
       "   'cbdgef',\n",
       "   'fgaecd',\n",
       "   'cgeb',\n",
       "   'fdcge',\n",
       "   'agebfd',\n",
       "   'fecdb',\n",
       "   'fabcd',\n",
       "   'edb'],\n",
       "  ['fdgacbe', 'cefdb', 'cefbgd', 'gcbe']],\n",
       " [['edbfga',\n",
       "   'begcd',\n",
       "   'cbg',\n",
       "   'gc',\n",
       "   'gcadebf',\n",
       "   'fbgde',\n",
       "   'acbgfd',\n",
       "   'abcde',\n",
       "   'gfcbed',\n",
       "   'gfec'],\n",
       "  ['fcgedb', 'cgb', 'dgebacf', 'gc']]]"
      ]
     },
     "execution_count": 2,
     "metadata": {},
     "output_type": "execute_result"
    }
   ],
   "source": [
    "test_data = parse_data('test_sources_outputs.txt')\n",
    "test_data[:2]"
   ]
  },
  {
   "cell_type": "code",
   "execution_count": 3,
   "metadata": {},
   "outputs": [
    {
     "data": {
      "text/plain": [
       "[[['ecdbfag',\n",
       "   'deacfb',\n",
       "   'acdgb',\n",
       "   'cdg',\n",
       "   'acdbf',\n",
       "   'gdfb',\n",
       "   'efacdg',\n",
       "   'gd',\n",
       "   'cagdbf',\n",
       "   'beacg'],\n",
       "  ['cdg', 'dcebgaf', 'gbdf', 'bdacg']],\n",
       " [['fadecg',\n",
       "   'gdbecaf',\n",
       "   'agbfd',\n",
       "   'fgdcb',\n",
       "   'gab',\n",
       "   'ebagdf',\n",
       "   'feabcg',\n",
       "   'deab',\n",
       "   'gdefa',\n",
       "   'ab'],\n",
       "  ['adfbg', 'ab', 'fcgdbae', 'bfgecda']]]"
      ]
     },
     "execution_count": 3,
     "metadata": {},
     "output_type": "execute_result"
    }
   ],
   "source": [
    "data = parse_data('sources_outputs.txt')\n",
    "data[:2]"
   ]
  },
  {
   "cell_type": "markdown",
   "metadata": {},
   "source": [
    "## Part 1\n",
    "---"
   ]
  },
  {
   "cell_type": "code",
   "execution_count": 4,
   "metadata": {},
   "outputs": [],
   "source": [
    "def count_easy_digits(data):\n",
    "    \"\"\"Count the easy digits (known solely based on their character length) in the output data.\"\"\"\n",
    "    \n",
    "    num_easy_digits = 0\n",
    "    \n",
    "    for row in data:\n",
    "        outputs = data[1]\n",
    "        \n",
    "        for o in outputs:\n",
    "            if len(o) in [2, 3, 4, 7]:\n",
    "                num_easy_digits += 1\n",
    "    \n",
    "    return num_easy_digits"
   ]
  },
  {
   "cell_type": "markdown",
   "metadata": {},
   "source": [
    "### Run on Test Data"
   ]
  },
  {
   "cell_type": "code",
   "execution_count": 5,
   "metadata": {},
   "outputs": [
    {
     "data": {
      "text/plain": [
       "10"
      ]
     },
     "execution_count": 5,
     "metadata": {},
     "output_type": "execute_result"
    }
   ],
   "source": [
    "count_easy_digits(test_data)  # Should return 26"
   ]
  },
  {
   "cell_type": "markdown",
   "metadata": {},
   "source": [
    "### Run on Input Data"
   ]
  },
  {
   "cell_type": "code",
   "execution_count": 6,
   "metadata": {},
   "outputs": [
    {
     "data": {
      "text/plain": [
       "200"
      ]
     },
     "execution_count": 6,
     "metadata": {},
     "output_type": "execute_result"
    }
   ],
   "source": [
    "count_easy_digits(data)"
   ]
  },
  {
   "cell_type": "markdown",
   "metadata": {},
   "source": [
    "## Part 2\n",
    "---"
   ]
  },
  {
   "cell_type": "code",
   "execution_count": 7,
   "metadata": {},
   "outputs": [],
   "source": [
    "test_signals = ['acedgfb', 'cdfbe', 'gcdfa', 'fbcad', 'dab', 'cefabd', 'cdfgeb', 'eafb', 'cagedb', 'ab']"
   ]
  },
  {
   "cell_type": "code",
   "execution_count": 8,
   "metadata": {},
   "outputs": [],
   "source": [
    "def make_map(signals):\n",
    "    \"\"\"Make a map of all the numbers represented by the 10 seven-segment character codes.\"\"\"    \n",
    "    \n",
    "    # Make a copy of signals (just being lazy and not importing copy)\n",
    "    signals = [x for x in signals]\n",
    "\n",
    "    letter_map = {}\n",
    "    letter_map[[x for x in signals if len(x) == 2][0]] = '1'\n",
    "    letter_map[[x for x in signals if len(x) == 3][0]] = '7'\n",
    "    letter_map[[x for x in signals if len(x) == 4][0]] = '4'\n",
    "    letter_map[[x for x in signals if len(x) == 7][0]] = '8'\n",
    "    \n",
    "    number_map = {}\n",
    "    for k, v in letter_map.items():\n",
    "        number_map[int(v)] = k\n",
    "        signals.remove(k)\n",
    "        \n",
    "    # Get #9 (#9... #9... #9...)\n",
    "    top = list(set([char for char in number_map[7]]) - set([char for char in number_map[1]]))[0]\n",
    "    temp = number_map[4] + top\n",
    "    # ^ means 'symmetric difference' -> in s or temp, but not both\n",
    "    bottom = [list(x)[0] for x in [set(s) ^ set(temp) for s in signals] if len(x) == 1][0]\n",
    "    nine = [x for x in signals if set(x) == set(temp + bottom)][0]\n",
    "    \n",
    "    letter_map[nine] = '9'\n",
    "    number_map[9] = nine\n",
    "    signals.remove(nine)\n",
    "    \n",
    "    # Get #3\n",
    "    temp = number_map[7] + bottom\n",
    "    middle = [list(x)[0] for x in [set(s) ^ set(temp) for s in signals] if len(x) == 1][0]\n",
    "    three = [x for x in signals if set(x) == set(temp + middle)][0]\n",
    "    \n",
    "    letter_map[three] = '3'\n",
    "    number_map[3] = three\n",
    "    signals.remove(three)\n",
    "    \n",
    "    # Get #0\n",
    "    top_left = list(set(number_map[9]) ^ set(number_map[3]))[0]\n",
    "    bottom_left = list(set(number_map[8]) ^ set(number_map[9]))[0]\n",
    "    temp = number_map[7] + top_left + bottom_left + bottom\n",
    "    zero = [x for x in signals if set(x) == set(temp)][0]\n",
    "    \n",
    "    letter_map[zero] = '0'\n",
    "    number_map[0] = zero\n",
    "    signals.remove(zero)\n",
    "    \n",
    "    # Get #6\n",
    "    six = [x for x in signals if len(x) == 6][0]\n",
    "    \n",
    "    letter_map[six] = '6'\n",
    "    number_map[6] = six\n",
    "    signals.remove(six)\n",
    "    \n",
    "    # Get #5\n",
    "    five = [x for x in signals if len(set(x) ^ set(number_map[6])) == 1][0]\n",
    "    \n",
    "    letter_map[five] = '5'\n",
    "    number_map[5] = five\n",
    "    signals.remove(five)\n",
    "    \n",
    "    # Get #2\n",
    "    two = signals[0]\n",
    "    \n",
    "    letter_map[two] = '2'\n",
    "    number_map[2] = two\n",
    "    signals.remove(two)\n",
    "    \n",
    "    return letter_map"
   ]
  },
  {
   "cell_type": "code",
   "execution_count": 9,
   "metadata": {},
   "outputs": [
    {
     "data": {
      "text/plain": [
       "{'ab': '1',\n",
       " 'dab': '7',\n",
       " 'eafb': '4',\n",
       " 'acedgfb': '8',\n",
       " 'cefabd': '9',\n",
       " 'fbcad': '3',\n",
       " 'cagedb': '0',\n",
       " 'cdfgeb': '6',\n",
       " 'cdfbe': '5',\n",
       " 'gcdfa': '2'}"
      ]
     },
     "execution_count": 9,
     "metadata": {},
     "output_type": "execute_result"
    }
   ],
   "source": [
    "make_map(test_signals)"
   ]
  },
  {
   "cell_type": "code",
   "execution_count": 10,
   "metadata": {},
   "outputs": [],
   "source": [
    "def decode_number(outputs, map):\n",
    "    \"\"\"Decode number based on map.\"\"\"\n",
    "    \n",
    "    number = ''\n",
    "    \n",
    "    for code in outputs:\n",
    "        # Ugh. codes are jumbled too...\n",
    "        for key in map.keys():\n",
    "            if set(code) == set(key):\n",
    "                number += map[key]\n",
    "        \n",
    "    return int(number)"
   ]
  },
  {
   "cell_type": "code",
   "execution_count": 11,
   "metadata": {},
   "outputs": [],
   "source": [
    "def sum_numbers(data):\n",
    "    \"\"\"Return tue sum of all the encoded numbers in the outputs.\"\"\"\n",
    "    total = 0\n",
    "    \n",
    "    for row in data:\n",
    "        signals = row[0]\n",
    "        outputs = row[1]\n",
    "        \n",
    "        letter_map = make_map(signals)\n",
    "        number = decode_number(outputs, letter_map)\n",
    "        \n",
    "        total += number\n",
    "    \n",
    "    return total"
   ]
  },
  {
   "cell_type": "markdown",
   "metadata": {},
   "source": [
    "### Run on Test Data"
   ]
  },
  {
   "cell_type": "code",
   "execution_count": 12,
   "metadata": {},
   "outputs": [
    {
     "data": {
      "text/plain": [
       "61229"
      ]
     },
     "execution_count": 12,
     "metadata": {},
     "output_type": "execute_result"
    }
   ],
   "source": [
    "sum_numbers(test_data)  # Should return 61229"
   ]
  },
  {
   "cell_type": "markdown",
   "metadata": {},
   "source": [
    "### Run on Input Data"
   ]
  },
  {
   "cell_type": "code",
   "execution_count": 13,
   "metadata": {},
   "outputs": [
    {
     "data": {
      "text/plain": [
       "1083859"
      ]
     },
     "execution_count": 13,
     "metadata": {},
     "output_type": "execute_result"
    }
   ],
   "source": [
    "sum_numbers(data)"
   ]
  }
 ],
 "metadata": {
  "kernelspec": {
   "display_name": "Python 3",
   "language": "python",
   "name": "python3"
  },
  "language_info": {
   "codemirror_mode": {
    "name": "ipython",
    "version": 3
   },
   "file_extension": ".py",
   "mimetype": "text/x-python",
   "name": "python",
   "nbconvert_exporter": "python",
   "pygments_lexer": "ipython3",
   "version": "3.8.8"
  }
 },
 "nbformat": 4,
 "nbformat_minor": 4
}
