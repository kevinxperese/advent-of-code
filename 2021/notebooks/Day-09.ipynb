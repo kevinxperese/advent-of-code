{
 "cells": [
  {
   "cell_type": "markdown",
   "metadata": {},
   "source": [
    "# --- Day 9:  Smoke Basin --- \n",
    "\n",
    "https://adventofcode.com/2021/day/9"
   ]
  },
  {
   "cell_type": "markdown",
   "metadata": {},
   "source": [
    "## Get Input Data"
   ]
  },
  {
   "cell_type": "code",
   "execution_count": 1,
   "metadata": {},
   "outputs": [
    {
     "data": {
      "text/plain": [
       "['5456789349886456890123985435578996543213456789656899996467789234989765442345789778999989652349879899',\n",
       " '4349891298765348789339875323456789665434568996545698874356679959879898321457893569998879931998765668',\n",
       " '1298910989873234595498764312345678976746899989656987563234567899767987442578954678987968899897654457']"
      ]
     },
     "execution_count": 1,
     "metadata": {},
     "output_type": "execute_result"
    }
   ],
   "source": [
    "filename = 'heightmap.txt'\n",
    "with open(f'../inputs/{filename}') as file:\n",
    "    heightmap = [line.strip() for line in file.readlines()]\n",
    "heightmap[:3]"
   ]
  },
  {
   "cell_type": "code",
   "execution_count": 2,
   "metadata": {},
   "outputs": [
    {
     "data": {
      "text/plain": [
       "['2199943210', '3987894921', '9856789892', '8767896789', '9899965678']"
      ]
     },
     "execution_count": 2,
     "metadata": {},
     "output_type": "execute_result"
    }
   ],
   "source": [
    "filename = 'test_heightmap.txt'\n",
    "with open(f'../inputs/{filename}') as file:\n",
    "    test_heightmap = [line.strip() for line in file.readlines()]\n",
    "test_heightmap"
   ]
  },
  {
   "cell_type": "markdown",
   "metadata": {},
   "source": [
    "## Part 1\n",
    "---"
   ]
  },
  {
   "cell_type": "code",
   "execution_count": 3,
   "metadata": {},
   "outputs": [],
   "source": [
    "def get_neighbors(point, max_height, max_length):\n",
    "    \"\"\"Return a list of horizontal and vertical neighbors.\"\"\"\n",
    "    \n",
    "    i, j = point[0], point[1]\n",
    "    neighbors = [(i+1, j), (i-1, j), (i, j+1), (i, j-1)]\n",
    "    \n",
    "    # Filter out neighbors who have gone over the edge!\n",
    "    good_neighbors = list(filter(lambda n: 0 <= n[0] <= max_height and 0 <= n[1] <= max_length, neighbors))\n",
    "\n",
    "    return good_neighbors"
   ]
  },
  {
   "cell_type": "code",
   "execution_count": 4,
   "metadata": {},
   "outputs": [
    {
     "data": {
      "text/plain": [
       "[(1, 0), (0, 1)]"
      ]
     },
     "execution_count": 4,
     "metadata": {},
     "output_type": "execute_result"
    }
   ],
   "source": [
    "get_neighbors((0, 0), 4, 9)"
   ]
  },
  {
   "cell_type": "code",
   "execution_count": 5,
   "metadata": {},
   "outputs": [],
   "source": [
    "def find_low_points(heightmap):\n",
    "    \"\"\"Return a list of values at low points in the heightmap, and a list of their height values.\"\"\"\n",
    "\n",
    "    low_points = []\n",
    "    low_point_values = []\n",
    "\n",
    "    max_height = len(heightmap) - 1\n",
    "    max_length = len(heightmap[0]) - 1\n",
    "\n",
    "    for i, row in enumerate(heightmap):\n",
    "        for j in range(len(row)):\n",
    "\n",
    "            neighbors = get_neighbors((i, j), max_height, max_length)\n",
    "            filtered_neighbors = list(filter(lambda n: heightmap[n[0]][n[1]] > heightmap[i][j], neighbors))\n",
    "\n",
    "            if len(filtered_neighbors) == len(neighbors):\n",
    "                low_points.append((i, j))\n",
    "                low_point_values.append(int(heightmap[i][j]))\n",
    "\n",
    "    return low_points, low_point_values"
   ]
  },
  {
   "cell_type": "code",
   "execution_count": 6,
   "metadata": {},
   "outputs": [
    {
     "data": {
      "text/plain": [
       "([(0, 1), (0, 9), (2, 2), (4, 6)], [1, 0, 5, 5])"
      ]
     },
     "execution_count": 6,
     "metadata": {},
     "output_type": "execute_result"
    }
   ],
   "source": [
    "find_low_points(test_heightmap)"
   ]
  },
  {
   "cell_type": "code",
   "execution_count": 7,
   "metadata": {},
   "outputs": [],
   "source": [
    "def tally_risk_levels(low_point_heights):\n",
    "    \"\"\"Sum up all the risk levels. Risk level = 1 + low_point height.\"\"\"\n",
    "\n",
    "    risk_level = 0\n",
    "    for lp in low_point_heights:\n",
    "        risk_level += (1 + lp)\n",
    "\n",
    "    return risk_level"
   ]
  },
  {
   "cell_type": "markdown",
   "metadata": {},
   "source": [
    "### Run on Test Data"
   ]
  },
  {
   "cell_type": "code",
   "execution_count": 8,
   "metadata": {},
   "outputs": [
    {
     "data": {
      "text/plain": [
       "15"
      ]
     },
     "execution_count": 8,
     "metadata": {},
     "output_type": "execute_result"
    }
   ],
   "source": [
    "low_points, low_point_values = find_low_points(test_heightmap)\n",
    "tally_risk_levels(low_point_values)  # Should return 15"
   ]
  },
  {
   "cell_type": "markdown",
   "metadata": {},
   "source": [
    "### Run on Input Data"
   ]
  },
  {
   "cell_type": "code",
   "execution_count": 9,
   "metadata": {},
   "outputs": [
    {
     "data": {
      "text/plain": [
       "506"
      ]
     },
     "execution_count": 9,
     "metadata": {},
     "output_type": "execute_result"
    }
   ],
   "source": [
    "low_points, low_point_values = find_low_points(heightmap)\n",
    "tally_risk_levels(low_point_values)"
   ]
  },
  {
   "cell_type": "markdown",
   "metadata": {},
   "source": [
    "## Part 2\n",
    "---"
   ]
  },
  {
   "cell_type": "code",
   "execution_count": 10,
   "metadata": {},
   "outputs": [],
   "source": [
    "def get_basin_points(point, heightmap):\n",
    "    \"\"\"Recursively get all basin points for a given low point.\"\"\"\n",
    "\n",
    "    basin_points = []\n",
    "\n",
    "    # Stopping condition\n",
    "    if len(point) == 0:\n",
    "        return list(set(basin_points))\n",
    "\n",
    "    max_height = len(heightmap) - 1\n",
    "    max_length = len(heightmap[0]) - 1\n",
    "\n",
    "    for p in point:\n",
    "        basin_points.append(p)\n",
    "        p_i, p_j = p[0], p[1]\n",
    "        \n",
    "        neighbors = get_neighbors(p, max_height, max_length)\n",
    "\n",
    "        in_basin = []\n",
    "        for neighbor in neighbors:\n",
    "            n_i, n_j = neighbor[0], neighbor[1]\n",
    "\n",
    "            if heightmap[n_i][n_j] > heightmap[p_i][p_j] and heightmap[n_i][n_j] != '9':\n",
    "                in_basin.append((n_i, n_j))\n",
    "\n",
    "        basin_points += get_basin_points(in_basin, heightmap)\n",
    "\n",
    "    return list(set(basin_points))"
   ]
  },
  {
   "cell_type": "code",
   "execution_count": 11,
   "metadata": {},
   "outputs": [
    {
     "data": {
      "text/plain": [
       "[(0, 1), (1, 0), (0, 0)]"
      ]
     },
     "execution_count": 11,
     "metadata": {},
     "output_type": "execute_result"
    }
   ],
   "source": [
    "# Note: first argument needs to be a list!\n",
    "get_basin_points([(0,1)], test_heightmap)"
   ]
  },
  {
   "cell_type": "code",
   "execution_count": 12,
   "metadata": {},
   "outputs": [],
   "source": [
    "def get_basin_size(point, heightmap):\n",
    "    \"Return basin size for a given low point.\"\n",
    "   \n",
    "    return len(get_basin_points([point], heightmap))"
   ]
  },
  {
   "cell_type": "code",
   "execution_count": 13,
   "metadata": {},
   "outputs": [],
   "source": [
    "def muliply_top_three_basin_sizes(basin_sizes):\n",
    "    \"\"\"Multiply the top three basin sizes, to get the answer.\"\"\"\n",
    "\n",
    "    top_three = sorted(basin_sizes, reverse=True)[:3]\n",
    "    \n",
    "    result = 1\n",
    "    for size in top_three:\n",
    "        result *= size\n",
    "\n",
    "    return result    "
   ]
  },
  {
   "cell_type": "code",
   "execution_count": 14,
   "metadata": {},
   "outputs": [],
   "source": [
    "def get_answer_to_part_2(heightmap):\n",
    "    \"\"\"Return the answer to part 2!\"\"\"\n",
    "\n",
    "    low_points, _ = find_low_points(heightmap)\n",
    "\n",
    "    basin_sizes = []\n",
    "    for point in low_points:\n",
    "        basin_sizes.append(get_basin_size(point, heightmap))\n",
    "\n",
    "    answer = muliply_top_three_basin_sizes(basin_sizes)\n",
    "\n",
    "    return answer"
   ]
  },
  {
   "cell_type": "markdown",
   "metadata": {},
   "source": [
    "### Run on Test Data"
   ]
  },
  {
   "cell_type": "code",
   "execution_count": 15,
   "metadata": {},
   "outputs": [
    {
     "data": {
      "text/plain": [
       "1134"
      ]
     },
     "execution_count": 15,
     "metadata": {},
     "output_type": "execute_result"
    }
   ],
   "source": [
    "get_answer_to_part_2(test_heightmap)  # Should return 1134"
   ]
  },
  {
   "cell_type": "markdown",
   "metadata": {},
   "source": [
    "### Run on Input Data"
   ]
  },
  {
   "cell_type": "code",
   "execution_count": 16,
   "metadata": {},
   "outputs": [
    {
     "data": {
      "text/plain": [
       "931200"
      ]
     },
     "execution_count": 16,
     "metadata": {},
     "output_type": "execute_result"
    }
   ],
   "source": [
    "get_answer_to_part_2(heightmap) "
   ]
  }
 ],
 "metadata": {
  "kernelspec": {
   "display_name": "Python 3",
   "language": "python",
   "name": "python3"
  },
  "language_info": {
   "codemirror_mode": {
    "name": "ipython",
    "version": 3
   },
   "file_extension": ".py",
   "mimetype": "text/x-python",
   "name": "python",
   "nbconvert_exporter": "python",
   "pygments_lexer": "ipython3",
   "version": "3.8.8"
  }
 },
 "nbformat": 4,
 "nbformat_minor": 4
}
