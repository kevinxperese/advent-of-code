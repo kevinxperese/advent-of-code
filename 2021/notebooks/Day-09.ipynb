{
 "cells": [
  {
   "cell_type": "markdown",
   "metadata": {},
   "source": [
    "# --- Day 9:  Smoke Basin --- \n",
    "\n",
    "https://adventofcode.com/2021/day/9"
   ]
  },
  {
   "cell_type": "markdown",
   "metadata": {},
   "source": [
    "## Get Input Data"
   ]
  },
  {
   "cell_type": "code",
   "execution_count": 5,
   "metadata": {},
   "outputs": [
    {
     "data": {
      "text/plain": [
       "['5456789349886456890123985435578996543213456789656899996467789234989765442345789778999989652349879899',\n",
       " '4349891298765348789339875323456789665434568996545698874356679959879898321457893569998879931998765668',\n",
       " '1298910989873234595498764312345678976746899989656987563234567899767987442578954678987968899897654457']"
      ]
     },
     "execution_count": 5,
     "metadata": {},
     "output_type": "execute_result"
    }
   ],
   "source": [
    "filename = 'heightmap.txt'\n",
    "with open(f'../inputs/{filename}') as file:\n",
    "    heightmap = [line.strip() for line in file.readlines()]\n",
    "heightmap[:3]"
   ]
  },
  {
   "cell_type": "code",
   "execution_count": 7,
   "metadata": {},
   "outputs": [
    {
     "data": {
      "text/plain": [
       "['2199943210', '3987894921', '9856789892', '8767896789', '9899965678']"
      ]
     },
     "execution_count": 7,
     "metadata": {},
     "output_type": "execute_result"
    }
   ],
   "source": [
    "filename = 'test_heightmap.txt'\n",
    "with open(f'../inputs/{filename}') as file:\n",
    "    test_heightmap = [line.strip() for line in file.readlines()]\n",
    "test_heightmap"
   ]
  },
  {
   "cell_type": "markdown",
   "metadata": {},
   "source": [
    "## Part 1\n",
    "---"
   ]
  },
  {
   "cell_type": "code",
   "execution_count": 39,
   "metadata": {},
   "outputs": [],
   "source": [
    "def find_low_points(heightmap):\n",
    "    \"\"\"Return a list of values at low points in the heightmap.\"\"\"\n",
    "    \n",
    "    low_points = []\n",
    "    \n",
    "    for i, row in enumerate(heightmap):\n",
    "        for j in range(len(row)):\n",
    "    \n",
    "            # top row\n",
    "            if i == 0:\n",
    "                # left edge\n",
    "                if j == 0:\n",
    "                    if (heightmap[i][j] < heightmap[i][j+1] and \n",
    "                        heightmap[i][j] < heightmap[i+1][j]):\n",
    "                        low_points.append(int(heightmap[i][j]))\n",
    "    \n",
    "                # right edge\n",
    "                elif j == len(row) - 1:\n",
    "                    if (heightmap[i][j] < heightmap[i][j-1] and \n",
    "                        heightmap[i][j] < heightmap[i+1][j]):\n",
    "                        low_points.append(int(heightmap[i][j]))\n",
    "\n",
    "                # all others\n",
    "                else: \n",
    "                    if (heightmap[i][j] < heightmap[i][j-1] and \n",
    "                        heightmap[i][j] < heightmap[i][j+1] and \n",
    "                        heightmap[i][j] < heightmap[i+1][j]):\n",
    "                        low_points.append(int(heightmap[i][j]))        \n",
    "            \n",
    "            # bottom row\n",
    "            elif i == len(heightmap) - 1:\n",
    "                # left edge\n",
    "                if j == 0:\n",
    "                    if (heightmap[i][j] < heightmap[i][j+1] and \n",
    "                        heightmap[i][j] < heightmap[i-1][j]):\n",
    "                        low_points.append(int(heightmap[i][j]))\n",
    "    \n",
    "                # right edge\n",
    "                elif j == len(row) - 1:\n",
    "                    if (heightmap[i][j] < heightmap[i][j-1] and \n",
    "                        heightmap[i][j] < heightmap[i-1][j]):\n",
    "                        low_points.append(int(heightmap[i][j]))\n",
    "\n",
    "                # all other middle columns\n",
    "                else: \n",
    "                    if (heightmap[i][j] < heightmap[i][j-1] and \n",
    "                        heightmap[i][j] < heightmap[i][j+1] and \n",
    "                        heightmap[i][j] < heightmap[i-1][j]):\n",
    "                        low_points.append(int(heightmap[i][j]))        \n",
    "\n",
    "            # all other middle rows\n",
    "            else:\n",
    "                # left edge\n",
    "                if j == 0:\n",
    "                    if (heightmap[i][j] < heightmap[i][j+1] and \n",
    "                        heightmap[i][j] < heightmap[i-1][j] and \n",
    "                        heightmap[i][j] < heightmap[i+1][j]):\n",
    "                        low_points.append(int(heightmap[i][j]))\n",
    "\n",
    "                # right edge\n",
    "                elif j == len(row) - 1:\n",
    "                    if (heightmap[i][j] < heightmap[i][j-1] and \n",
    "                        heightmap[i][j] < heightmap[i-1][j] and \n",
    "                        heightmap[i][j] < heightmap[i+1][j]):\n",
    "                        low_points.append(int(heightmap[i][j]))\n",
    "\n",
    "                # all other middle columns\n",
    "                else:\n",
    "                    if (heightmap[i][j] < heightmap[i][j-1] and\n",
    "                        heightmap[i][j] < heightmap[i][j+1] and \n",
    "                        heightmap[i][j] < heightmap[i-1][j] and\n",
    "                        heightmap[i][j] < heightmap[i+1][j]):\n",
    "                        low_points.append(int(heightmap[i][j]))\n",
    "\n",
    "            \n",
    "    return low_points"
   ]
  },
  {
   "cell_type": "code",
   "execution_count": 40,
   "metadata": {},
   "outputs": [
    {
     "data": {
      "text/plain": [
       "[1, 0, 5, 5]"
      ]
     },
     "execution_count": 40,
     "metadata": {},
     "output_type": "execute_result"
    }
   ],
   "source": [
    "find_low_points(test_heightmap)"
   ]
  },
  {
   "cell_type": "code",
   "execution_count": 9,
   "metadata": {},
   "outputs": [],
   "source": [
    "def tally_risk_levels(low_points):\n",
    "    \"\"\"Sum up all the risk levels. Risk level = 1 + low_point height.\"\"\"\n",
    "\n",
    "    risk_level = 0\n",
    "    for lp in low_points:\n",
    "        risk_level += (1 + lp)\n",
    "\n",
    "    return risk_level"
   ]
  },
  {
   "cell_type": "markdown",
   "metadata": {},
   "source": [
    "### Run on Test Data"
   ]
  },
  {
   "cell_type": "code",
   "execution_count": 41,
   "metadata": {},
   "outputs": [
    {
     "data": {
      "text/plain": [
       "15"
      ]
     },
     "execution_count": 41,
     "metadata": {},
     "output_type": "execute_result"
    }
   ],
   "source": [
    "tally_risk_levels(find_low_points(test_heightmap))  # Should return 15"
   ]
  },
  {
   "cell_type": "markdown",
   "metadata": {},
   "source": [
    "### Run on Input Data"
   ]
  },
  {
   "cell_type": "code",
   "execution_count": 42,
   "metadata": {},
   "outputs": [
    {
     "data": {
      "text/plain": [
       "506"
      ]
     },
     "execution_count": 42,
     "metadata": {},
     "output_type": "execute_result"
    }
   ],
   "source": [
    "tally_risk_levels(find_low_points(heightmap))"
   ]
  },
  {
   "cell_type": "markdown",
   "metadata": {},
   "source": [
    "## Part 2\n",
    "---"
   ]
  },
  {
   "cell_type": "code",
   "execution_count": null,
   "metadata": {},
   "outputs": [],
   "source": []
  },
  {
   "cell_type": "markdown",
   "metadata": {},
   "source": [
    "### Run on Test Data"
   ]
  },
  {
   "cell_type": "code",
   "execution_count": null,
   "metadata": {},
   "outputs": [],
   "source": []
  },
  {
   "cell_type": "markdown",
   "metadata": {},
   "source": [
    "### Run on Input Data"
   ]
  },
  {
   "cell_type": "code",
   "execution_count": null,
   "metadata": {},
   "outputs": [],
   "source": []
  }
 ],
 "metadata": {
  "kernelspec": {
   "display_name": "Python 3",
   "language": "python",
   "name": "python3"
  },
  "language_info": {
   "codemirror_mode": {
    "name": "ipython",
    "version": 3
   },
   "file_extension": ".py",
   "mimetype": "text/x-python",
   "name": "python",
   "nbconvert_exporter": "python",
   "pygments_lexer": "ipython3",
   "version": "3.8.8"
  }
 },
 "nbformat": 4,
 "nbformat_minor": 4
}
