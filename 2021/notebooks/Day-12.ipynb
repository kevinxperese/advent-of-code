{
 "cells": [
  {
   "cell_type": "markdown",
   "metadata": {},
   "source": [
    "# --- Day 12: Passage Pathing ---\n",
    "\n",
    "https://adventofcode.com/2021/day/12"
   ]
  },
  {
   "cell_type": "markdown",
   "metadata": {},
   "source": [
    "## Get Input Data"
   ]
  },
  {
   "cell_type": "code",
   "execution_count": 1,
   "metadata": {},
   "outputs": [],
   "source": [
    "from collections import defaultdict"
   ]
  },
  {
   "cell_type": "markdown",
   "metadata": {},
   "source": [
    "### Bring in the data as a dictionary/graph"
   ]
  },
  {
   "cell_type": "code",
   "execution_count": 2,
   "metadata": {},
   "outputs": [],
   "source": [
    "def parse_data(filename):\n",
    "    \"\"\"Read in the data and fill a dictionary/graph with all the linkages between caves.\"\"\"\n",
    "\n",
    "    graph = defaultdict(list)\n",
    "\n",
    "    with open(f'../inputs/{filename}') as file:\n",
    "        for line in file:\n",
    "            link = line.strip().split('-')\n",
    "\n",
    "            graph[link[0]].append(link[1])\n",
    "            graph[link[1]].append(link[0])\n",
    "\n",
    "    return graph"
   ]
  },
  {
   "cell_type": "code",
   "execution_count": 3,
   "metadata": {},
   "outputs": [
    {
     "data": {
      "text/plain": [
       "defaultdict(list,\n",
       "            {'start': ['A', 'b'],\n",
       "             'A': ['start', 'c', 'b', 'end'],\n",
       "             'b': ['start', 'A', 'd', 'end'],\n",
       "             'c': ['A'],\n",
       "             'd': ['b'],\n",
       "             'end': ['A', 'b']})"
      ]
     },
     "execution_count": 3,
     "metadata": {},
     "output_type": "execute_result"
    }
   ],
   "source": [
    "small_test = parse_data('small_test_cave_paths.txt')\n",
    "small_test"
   ]
  },
  {
   "cell_type": "code",
   "execution_count": 4,
   "metadata": {},
   "outputs": [],
   "source": [
    "medium_test = parse_data('medium_test_cave_paths.txt')"
   ]
  },
  {
   "cell_type": "code",
   "execution_count": 5,
   "metadata": {},
   "outputs": [],
   "source": [
    "large_test = parse_data('large_test_cave_paths.txt')"
   ]
  },
  {
   "cell_type": "code",
   "execution_count": 6,
   "metadata": {},
   "outputs": [
    {
     "data": {
      "text/plain": [
       "defaultdict(list,\n",
       "            {'start': ['YY', 'gp', 'VG'],\n",
       "             'YY': ['start', 'gp', 'rz', 'sk'],\n",
       "             'av': ['rz', 'fh', 'ae', 'VH', 'gp', 'VG'],\n",
       "             'rz': ['av', 'VH', 'YY', 'gp', 'sk', 'qz'],\n",
       "             'VH': ['rz', 'end', 'sk', 'av', 'fh'],\n",
       "             'fh': ['av', 'end', 'VH', 'sk'],\n",
       "             'end': ['fh', 'VH', 'qz'],\n",
       "             'sk': ['gp', 'VG', 'VH', 'rz', 'YY', 'fh'],\n",
       "             'gp': ['sk', 'YY', 'start', 'rz', 'av'],\n",
       "             'ae': ['av'],\n",
       "             'CF': ['qz'],\n",
       "             'qz': ['CF', 'end', 'VG', 'rz'],\n",
       "             'VG': ['qz', 'sk', 'start', 'av']})"
      ]
     },
     "execution_count": 6,
     "metadata": {},
     "output_type": "execute_result"
    }
   ],
   "source": [
    "cave_paths = parse_data('cave_paths.txt')\n",
    "cave_paths"
   ]
  },
  {
   "cell_type": "markdown",
   "metadata": {},
   "source": [
    "## Part 1\n",
    "---"
   ]
  },
  {
   "cell_type": "code",
   "execution_count": 7,
   "metadata": {},
   "outputs": [],
   "source": [
    "def find_paths(graph, start, path=[]):\n",
    "    \"\"\"Recursively find all paths in the graph, allowing multiple visits to large caves.\"\"\"\n",
    "\n",
    "    path = path.copy()\n",
    "    path.append(start)\n",
    "\n",
    "    # Stopping condition\n",
    "    if start == 'end':\n",
    "        return [path]\n",
    "\n",
    "    paths = []\n",
    "    for node in graph[start]:\n",
    "\n",
    "        node_is_a_large_cave = node.isupper()\n",
    "        node_is_a_small_cave = node.islower()\n",
    "\n",
    "        small_cave_not_yet_visited = node_is_a_small_cave and node not in path\n",
    "\n",
    "        # Allow large caves to be visited more than once, but small caves only once\n",
    "        if small_cave_not_yet_visited or node_is_a_large_cave:\n",
    "            paths += find_paths(graph, node, path)\n",
    "\n",
    "    return paths"
   ]
  },
  {
   "cell_type": "code",
   "execution_count": 8,
   "metadata": {},
   "outputs": [
    {
     "data": {
      "text/plain": [
       "[['start', 'A', 'c', 'A', 'b', 'A', 'end'],\n",
       " ['start', 'A', 'c', 'A', 'b', 'end'],\n",
       " ['start', 'A', 'c', 'A', 'end'],\n",
       " ['start', 'A', 'b', 'A', 'c', 'A', 'end'],\n",
       " ['start', 'A', 'b', 'A', 'end'],\n",
       " ['start', 'A', 'b', 'end'],\n",
       " ['start', 'A', 'end'],\n",
       " ['start', 'b', 'A', 'c', 'A', 'end'],\n",
       " ['start', 'b', 'A', 'end'],\n",
       " ['start', 'b', 'end']]"
      ]
     },
     "execution_count": 8,
     "metadata": {},
     "output_type": "execute_result"
    }
   ],
   "source": [
    "find_paths(small_test, 'start')"
   ]
  },
  {
   "cell_type": "markdown",
   "metadata": {},
   "source": [
    "### Run on Test Data"
   ]
  },
  {
   "cell_type": "code",
   "execution_count": 9,
   "metadata": {},
   "outputs": [
    {
     "data": {
      "text/plain": [
       "10"
      ]
     },
     "execution_count": 9,
     "metadata": {},
     "output_type": "execute_result"
    }
   ],
   "source": [
    "len(find_paths(small_test, 'start'))  # Should return 10"
   ]
  },
  {
   "cell_type": "code",
   "execution_count": 10,
   "metadata": {},
   "outputs": [
    {
     "data": {
      "text/plain": [
       "19"
      ]
     },
     "execution_count": 10,
     "metadata": {},
     "output_type": "execute_result"
    }
   ],
   "source": [
    "len(find_paths(medium_test, 'start'))  # Should return 19"
   ]
  },
  {
   "cell_type": "code",
   "execution_count": 11,
   "metadata": {},
   "outputs": [
    {
     "data": {
      "text/plain": [
       "226"
      ]
     },
     "execution_count": 11,
     "metadata": {},
     "output_type": "execute_result"
    }
   ],
   "source": [
    "len(find_paths(large_test, 'start'))  # Should return 226"
   ]
  },
  {
   "cell_type": "markdown",
   "metadata": {},
   "source": [
    "### Run on Input Data"
   ]
  },
  {
   "cell_type": "code",
   "execution_count": 12,
   "metadata": {},
   "outputs": [
    {
     "data": {
      "text/plain": [
       "4707"
      ]
     },
     "execution_count": 12,
     "metadata": {},
     "output_type": "execute_result"
    }
   ],
   "source": [
    "len(find_paths(cave_paths, 'start'))"
   ]
  },
  {
   "cell_type": "markdown",
   "metadata": {},
   "source": [
    "## Part 2\n",
    "---"
   ]
  },
  {
   "cell_type": "code",
   "execution_count": 13,
   "metadata": {},
   "outputs": [],
   "source": [
    "from collections import Counter"
   ]
  },
  {
   "cell_type": "code",
   "execution_count": 14,
   "metadata": {},
   "outputs": [],
   "source": [
    "def find_paths2(graph, start, path=[]):\n",
    "    \"\"\"Recursively find all paths in the graph, allowing multiple visits to large caves,\n",
    "       but allowing one small cave to be visited twice.\n",
    "    \"\"\"\n",
    "    \n",
    "    path = path.copy()\n",
    "    path.append(start)\n",
    "    \n",
    "    # Stopping condition\n",
    "    if start == 'end':\n",
    "        return [path]\n",
    "\n",
    "    paths = []\n",
    "\n",
    "    for node in graph[start]:\n",
    "\n",
    "        if node != 'start':\n",
    "\n",
    "            node_is_a_large_cave = node.isupper()\n",
    "            node_is_a_small_cave = node.islower()\n",
    "\n",
    "            small_cave_not_yet_visited = node_is_a_small_cave and node not in path\n",
    "\n",
    "            small_caves_in_path = [x for x in path if x.islower()]\n",
    "            small_cave_counts = Counter(small_caves_in_path)\n",
    "\n",
    "            max_small_cave_counts = max(small_cave_counts.values())\n",
    "\n",
    "            # Allow large caves to be visited more than once, but one small cave can be visited *TWICE*\n",
    "            if max_small_cave_counts < 2 or (small_cave_not_yet_visited or node_is_a_large_cave):\n",
    "                paths += find_paths2(graph, node, path)\n",
    "\n",
    "    return paths"
   ]
  },
  {
   "cell_type": "markdown",
   "metadata": {},
   "source": [
    "### Run on Test Data"
   ]
  },
  {
   "cell_type": "code",
   "execution_count": 15,
   "metadata": {},
   "outputs": [
    {
     "data": {
      "text/plain": [
       "36"
      ]
     },
     "execution_count": 15,
     "metadata": {},
     "output_type": "execute_result"
    }
   ],
   "source": [
    "len(find_paths2(small_test, 'start'))  # Should return 36"
   ]
  },
  {
   "cell_type": "code",
   "execution_count": 16,
   "metadata": {},
   "outputs": [
    {
     "data": {
      "text/plain": [
       "103"
      ]
     },
     "execution_count": 16,
     "metadata": {},
     "output_type": "execute_result"
    }
   ],
   "source": [
    "len(find_paths2(medium_test, 'start'))  # Should return 103"
   ]
  },
  {
   "cell_type": "code",
   "execution_count": 17,
   "metadata": {},
   "outputs": [
    {
     "data": {
      "text/plain": [
       "3509"
      ]
     },
     "execution_count": 17,
     "metadata": {},
     "output_type": "execute_result"
    }
   ],
   "source": [
    "len(find_paths2(large_test, 'start')) # Should return 3509"
   ]
  },
  {
   "cell_type": "markdown",
   "metadata": {},
   "source": [
    "### Run on Input Data"
   ]
  },
  {
   "cell_type": "code",
   "execution_count": 18,
   "metadata": {},
   "outputs": [
    {
     "data": {
      "text/plain": [
       "130493"
      ]
     },
     "execution_count": 18,
     "metadata": {},
     "output_type": "execute_result"
    }
   ],
   "source": [
    "len(find_paths2(cave_paths, 'start'))"
   ]
  }
 ],
 "metadata": {
  "kernelspec": {
   "display_name": "Python 3",
   "language": "python",
   "name": "python3"
  },
  "language_info": {
   "codemirror_mode": {
    "name": "ipython",
    "version": 3
   },
   "file_extension": ".py",
   "mimetype": "text/x-python",
   "name": "python",
   "nbconvert_exporter": "python",
   "pygments_lexer": "ipython3",
   "version": "3.8.8"
  }
 },
 "nbformat": 4,
 "nbformat_minor": 4
}
