{
 "cells": [
  {
   "cell_type": "markdown",
   "metadata": {},
   "source": [
    "# --- Day 15: Chiton --- \n",
    "\n",
    "https://adventofcode.com/2021/day/15"
   ]
  },
  {
   "cell_type": "markdown",
   "metadata": {},
   "source": [
    "## Get Input Data"
   ]
  },
  {
   "cell_type": "code",
   "execution_count": 9,
   "metadata": {},
   "outputs": [],
   "source": [
    "import numpy as np"
   ]
  },
  {
   "cell_type": "code",
   "execution_count": 61,
   "metadata": {},
   "outputs": [],
   "source": [
    "def parse_data(filename):\n",
    "    \"\"\"Read in risk map data.\"\"\"\n",
    "\n",
    "    with open(f'../inputs/{filename}') as file:\n",
    "        risk_map = [[int(x) for x in line.strip()] for line in file.readlines()]\n",
    "\n",
    "    risk_map = np.matrix(risk_map)\n",
    "    return risk_map"
   ]
  },
  {
   "cell_type": "code",
   "execution_count": 62,
   "metadata": {},
   "outputs": [
    {
     "data": {
      "text/plain": [
       "matrix([[1, 1, 6, 3, 7, 5, 1, 7, 4, 2],\n",
       "        [1, 3, 8, 1, 3, 7, 3, 6, 7, 2],\n",
       "        [2, 1, 3, 6, 5, 1, 1, 3, 2, 8],\n",
       "        [3, 6, 9, 4, 9, 3, 1, 5, 6, 9],\n",
       "        [7, 4, 6, 3, 4, 1, 7, 1, 1, 1],\n",
       "        [1, 3, 1, 9, 1, 2, 8, 1, 3, 7],\n",
       "        [1, 3, 5, 9, 9, 1, 2, 4, 2, 1],\n",
       "        [3, 1, 2, 5, 4, 2, 1, 6, 3, 9],\n",
       "        [1, 2, 9, 3, 1, 3, 8, 5, 2, 1],\n",
       "        [2, 3, 1, 1, 9, 4, 4, 5, 8, 1]])"
      ]
     },
     "execution_count": 62,
     "metadata": {},
     "output_type": "execute_result"
    }
   ],
   "source": [
    "test_risk_map = parse_data('test_risk_map.txt')\n",
    "test_risk_map"
   ]
  },
  {
   "cell_type": "code",
   "execution_count": 15,
   "metadata": {},
   "outputs": [
    {
     "data": {
      "text/plain": [
       "matrix([[1, 1, 6],\n",
       "        [1, 3, 8],\n",
       "        [2, 1, 3]])"
      ]
     },
     "execution_count": 15,
     "metadata": {},
     "output_type": "execute_result"
    }
   ],
   "source": [
    "smaller_test_risk_map = test_risk_map[:3, :3]\n",
    "smaller_test_risk_map"
   ]
  },
  {
   "cell_type": "code",
   "execution_count": 71,
   "metadata": {},
   "outputs": [
    {
     "data": {
      "text/plain": [
       "matrix([[1, 1, 6],\n",
       "        [1, 3, 8]])"
      ]
     },
     "execution_count": 71,
     "metadata": {},
     "output_type": "execute_result"
    }
   ],
   "source": [
    "# Get row slices\n",
    "smaller_test_risk_map[:2, ...]"
   ]
  },
  {
   "cell_type": "code",
   "execution_count": 72,
   "metadata": {},
   "outputs": [
    {
     "data": {
      "text/plain": [
       "matrix([[1, 1],\n",
       "        [1, 3],\n",
       "        [2, 1]])"
      ]
     },
     "execution_count": 72,
     "metadata": {},
     "output_type": "execute_result"
    }
   ],
   "source": [
    "# Get column slices\n",
    "smaller_test_risk_map[..., :2]"
   ]
  },
  {
   "cell_type": "code",
   "execution_count": 16,
   "metadata": {},
   "outputs": [
    {
     "data": {
      "text/plain": [
       "matrix([[6, 8, 9, ..., 4, 7, 4],\n",
       "        [5, 3, 7, ..., 2, 9, 8],\n",
       "        [8, 7, 9, ..., 8, 5, 1],\n",
       "        ...,\n",
       "        [9, 1, 2, ..., 8, 5, 6],\n",
       "        [3, 7, 9, ..., 5, 8, 4],\n",
       "        [9, 9, 8, ..., 8, 9, 2]])"
      ]
     },
     "execution_count": 16,
     "metadata": {},
     "output_type": "execute_result"
    }
   ],
   "source": [
    "risk_map = parse_data('risk_map.txt')\n",
    "risk_map"
   ]
  },
  {
   "cell_type": "code",
   "execution_count": 29,
   "metadata": {},
   "outputs": [
    {
     "data": {
      "text/plain": [
       "(100, 100)"
      ]
     },
     "execution_count": 29,
     "metadata": {},
     "output_type": "execute_result"
    }
   ],
   "source": [
    "risk_map.shape"
   ]
  },
  {
   "cell_type": "markdown",
   "metadata": {},
   "source": [
    "## Part 1\n",
    "---"
   ]
  },
  {
   "cell_type": "markdown",
   "metadata": {},
   "source": [
    "Will need to apply [Dijkstra's Algorithm](https://en.wikipedia.org/wiki/Dijkstra%27s_algorithm) to solve.\n",
    "\n",
    "Chapter 7 in [Grokking Algorithms](https://www.manning.com/books/grokking-algorithms) provides an excellent tutorial on the algorithm -- highly recommend this book:\n",
    "\n",
    "[![Grokking Algorithms](https://images.manning.com/360/480/resize/book/3/0b325da-eb26-4e50-8a2a-46042c647083/Bhargava-Algorithms_hires.png)](https://www.manning.com/books/grokking-algorithms)\n",
    "\n",
    "Code for the algorithm can be found [here](https://github.com/egonSchiele/grokking_algorithms/blob/master/07_dijkstras_algorithm/python/01_dijkstras_algorithm.py)."
   ]
  },
  {
   "cell_type": "code",
   "execution_count": 80,
   "metadata": {},
   "outputs": [],
   "source": [
    "def get_neighbors(position, map):\n",
    "    \"\"\"Return a list of [(y, x)] neighbor coordinates.\"\"\"\n",
    "\n",
    "    y, x = position[0], position[1]\n",
    "    neighbors = [(y+1, x), (y-1, x), (y, x+1), (y, x-1)]\n",
    "    \n",
    "    max_height, max_length = map.shape[0]-1, map.shape[1]-1\n",
    "\n",
    "    # Filter out neighbors who have gone over the edge!\n",
    "    good_neighbors = list(filter(lambda n: 0 <= n[0] <= max_height and 0 <= n[1] <= max_length, neighbors))\n",
    "\n",
    "    return good_neighbors"
   ]
  },
  {
   "cell_type": "code",
   "execution_count": 90,
   "metadata": {},
   "outputs": [],
   "source": [
    "def make_graph(map):\n",
    "    \"\"\"Convert a map into a dictionary/graph with appropriate weight/risk values for each node.\"\"\"\n",
    "\n",
    "    graph = {}\n",
    "\n",
    "    for y in range(map.shape[0]):\n",
    "        for x in range(map.shape[1]):\n",
    "            neighbors = get_neighbors((y, x), map)\n",
    "\n",
    "            graph[(y, x)] = {}\n",
    "            for n in neighbors:\n",
    "                graph[(y, x)][n] = map[n]\n",
    "\n",
    "            print(f'({y}, {x}): neighbors: {neighbors}')\n",
    "\n",
    "    # Set the \"finish\" node to have no neighbors\n",
    "    graph[(map.shape[0]-1, map.shape[1]-1)] = {}\n",
    "\n",
    "    return graph"
   ]
  },
  {
   "cell_type": "code",
   "execution_count": 91,
   "metadata": {},
   "outputs": [
    {
     "name": "stdout",
     "output_type": "stream",
     "text": [
      "(0, 0): neighbors: [(1, 0), (0, 1)]\n",
      "(0, 1): neighbors: [(1, 1), (0, 2), (0, 0)]\n",
      "(0, 2): neighbors: [(1, 2), (0, 1)]\n",
      "(1, 0): neighbors: [(2, 0), (0, 0), (1, 1)]\n",
      "(1, 1): neighbors: [(2, 1), (0, 1), (1, 2), (1, 0)]\n",
      "(1, 2): neighbors: [(2, 2), (0, 2), (1, 1)]\n",
      "(2, 0): neighbors: [(1, 0), (2, 1)]\n",
      "(2, 1): neighbors: [(1, 1), (2, 2), (2, 0)]\n",
      "(2, 2): neighbors: [(1, 2), (2, 1)]\n"
     ]
    },
    {
     "data": {
      "text/plain": [
       "{(0, 0): {(1, 0): 1, (0, 1): 1},\n",
       " (0, 1): {(1, 1): 3, (0, 2): 6, (0, 0): 1},\n",
       " (0, 2): {(1, 2): 8, (0, 1): 1},\n",
       " (1, 0): {(2, 0): 2, (0, 0): 1, (1, 1): 3},\n",
       " (1, 1): {(2, 1): 1, (0, 1): 1, (1, 2): 8, (1, 0): 1},\n",
       " (1, 2): {(2, 2): 3, (0, 2): 6, (1, 1): 3},\n",
       " (2, 0): {(1, 0): 1, (2, 1): 1},\n",
       " (2, 1): {(1, 1): 3, (2, 2): 3, (2, 0): 2},\n",
       " (2, 2): {}}"
      ]
     },
     "execution_count": 91,
     "metadata": {},
     "output_type": "execute_result"
    }
   ],
   "source": [
    "make_graph(smaller_test_risk_map)"
   ]
  },
  {
   "cell_type": "code",
   "execution_count": 74,
   "metadata": {},
   "outputs": [
    {
     "name": "stdout",
     "output_type": "stream",
     "text": [
      "3 3\n"
     ]
    }
   ],
   "source": [
    "foo, bar = smaller_test_risk_map.shape\n",
    "print(foo, bar)"
   ]
  },
  {
   "cell_type": "code",
   "execution_count": 51,
   "metadata": {},
   "outputs": [],
   "source": [
    "def find_minimum_risk_path(risk_graph):\n",
    "    \n",
    "    visited = [position]\n",
    "    total_risk = risk_dict[position]\n",
    "\n",
    "    while position != (0, 0):\n",
    "        print(f'visited so far: {visited}')\n",
    "        print(f'total risk so far: {total_risk}\\n')\n",
    "        position = make_move(position, start_position, risk_dict, visited)\n",
    "        visited.append(position)\n",
    "        total_risk += risk_dict[position]\n",
    "\n",
    "    return total_risk"
   ]
  },
  {
   "cell_type": "markdown",
   "metadata": {},
   "source": [
    "### Run on Test Data"
   ]
  },
  {
   "cell_type": "code",
   "execution_count": null,
   "metadata": {},
   "outputs": [],
   "source": [
    "find_minimum_risk_path(smaller_test_risk_map)  # Should return 7"
   ]
  },
  {
   "cell_type": "code",
   "execution_count": 52,
   "metadata": {},
   "outputs": [
    {
     "name": "stdout",
     "output_type": "stream",
     "text": [
      "visited so far: [(9, 9)]\n",
      "total risk so far: 1\n",
      "\n",
      "current position: (9, 9)\n",
      "good neighbors: [(8, 9), (9, 8)]\n",
      "best neighbor: (8, 9), with a risk of 1\n",
      "visited so far: [(9, 9), (8, 9)]\n",
      "total risk so far: 2\n",
      "\n",
      "current position: (8, 9)\n",
      "good neighbors: [(7, 9), (8, 8)]\n",
      "best neighbor: (8, 8), with a risk of 2\n",
      "visited so far: [(9, 9), (8, 9), (8, 8)]\n",
      "total risk so far: 4\n",
      "\n",
      "current position: (8, 8)\n",
      "good neighbors: [(8, 7), (9, 8), (7, 8)]\n",
      "best neighbor: (7, 8), with a risk of 3\n",
      "visited so far: [(9, 9), (8, 9), (8, 8), (7, 8)]\n",
      "total risk so far: 7\n",
      "\n",
      "current position: (7, 8)\n",
      "good neighbors: [(7, 9), (6, 8), (7, 7)]\n",
      "best neighbor: (6, 8), with a risk of 2\n",
      "visited so far: [(9, 9), (8, 9), (8, 8), (7, 8), (6, 8)]\n",
      "total risk so far: 9\n",
      "\n",
      "current position: (6, 8)\n",
      "good neighbors: [(6, 7), (6, 9), (5, 8)]\n",
      "best neighbor: (6, 9), with a risk of 1\n",
      "visited so far: [(9, 9), (8, 9), (8, 8), (7, 8), (6, 8), (6, 9)]\n",
      "total risk so far: 10\n",
      "\n",
      "current position: (6, 9)\n",
      "good neighbors: [(7, 9), (5, 9)]\n",
      "best neighbor: (5, 9), with a risk of 7\n",
      "visited so far: [(9, 9), (8, 9), (8, 8), (7, 8), (6, 8), (6, 9), (5, 9)]\n",
      "total risk so far: 17\n",
      "\n",
      "current position: (5, 9)\n",
      "good neighbors: [(4, 9), (5, 8)]\n",
      "best neighbor: (4, 9), with a risk of 1\n",
      "visited so far: [(9, 9), (8, 9), (8, 8), (7, 8), (6, 8), (6, 9), (5, 9), (4, 9)]\n",
      "total risk so far: 18\n",
      "\n",
      "current position: (4, 9)\n",
      "good neighbors: [(3, 9), (4, 8)]\n",
      "best neighbor: (4, 8), with a risk of 1\n",
      "visited so far: [(9, 9), (8, 9), (8, 8), (7, 8), (6, 8), (6, 9), (5, 9), (4, 9), (4, 8)]\n",
      "total risk so far: 19\n",
      "\n",
      "current position: (4, 8)\n",
      "good neighbors: [(3, 8), (4, 7), (5, 8)]\n",
      "best neighbor: (4, 7), with a risk of 1\n",
      "visited so far: [(9, 9), (8, 9), (8, 8), (7, 8), (6, 8), (6, 9), (5, 9), (4, 9), (4, 8), (4, 7)]\n",
      "total risk so far: 20\n",
      "\n",
      "current position: (4, 7)\n",
      "good neighbors: [(3, 7), (4, 6), (5, 7)]\n",
      "best neighbor: (5, 7), with a risk of 1\n",
      "visited so far: [(9, 9), (8, 9), (8, 8), (7, 8), (6, 8), (6, 9), (5, 9), (4, 9), (4, 8), (4, 7), (5, 7)]\n",
      "total risk so far: 21\n",
      "\n",
      "current position: (5, 7)\n",
      "good neighbors: [(6, 7), (5, 6), (5, 8)]\n",
      "best neighbor: (5, 8), with a risk of 3\n",
      "visited so far: [(9, 9), (8, 9), (8, 8), (7, 8), (6, 8), (6, 9), (5, 9), (4, 9), (4, 8), (4, 7), (5, 7), (5, 8)]\n",
      "total risk so far: 24\n",
      "\n",
      "current position: (5, 8)\n",
      "good neighbors: []\n"
     ]
    },
    {
     "ename": "ValueError",
     "evalue": "min() arg is an empty sequence",
     "output_type": "error",
     "traceback": [
      "\u001b[1;31m---------------------------------------------------------------------------\u001b[0m",
      "\u001b[1;31mValueError\u001b[0m                                Traceback (most recent call last)",
      "\u001b[1;32m<ipython-input-52-7df4af54b9a5>\u001b[0m in \u001b[0;36m<module>\u001b[1;34m\u001b[0m\n\u001b[1;32m----> 1\u001b[1;33m \u001b[0mfind_path_with_minimum_risk\u001b[0m\u001b[1;33m(\u001b[0m\u001b[0mtest_start_position\u001b[0m\u001b[1;33m,\u001b[0m \u001b[0mtest_start_position\u001b[0m\u001b[1;33m,\u001b[0m \u001b[0mtest_risk_dict\u001b[0m\u001b[1;33m)\u001b[0m  \u001b[1;31m# Should return 40\u001b[0m\u001b[1;33m\u001b[0m\u001b[1;33m\u001b[0m\u001b[0m\n\u001b[0m",
      "\u001b[1;32m<ipython-input-51-4a8db738f470>\u001b[0m in \u001b[0;36mfind_path_with_minimum_risk\u001b[1;34m(position, start_position, risk_dict)\u001b[0m\n\u001b[0;32m     10\u001b[0m         \u001b[0mprint\u001b[0m\u001b[1;33m(\u001b[0m\u001b[1;34mf'visited so far: {visited}'\u001b[0m\u001b[1;33m)\u001b[0m\u001b[1;33m\u001b[0m\u001b[1;33m\u001b[0m\u001b[0m\n\u001b[0;32m     11\u001b[0m         \u001b[0mprint\u001b[0m\u001b[1;33m(\u001b[0m\u001b[1;34mf'total risk so far: {total_risk}\\n'\u001b[0m\u001b[1;33m)\u001b[0m\u001b[1;33m\u001b[0m\u001b[1;33m\u001b[0m\u001b[0m\n\u001b[1;32m---> 12\u001b[1;33m         \u001b[0mposition\u001b[0m \u001b[1;33m=\u001b[0m \u001b[0mmake_move\u001b[0m\u001b[1;33m(\u001b[0m\u001b[0mposition\u001b[0m\u001b[1;33m,\u001b[0m \u001b[0mstart_position\u001b[0m\u001b[1;33m,\u001b[0m \u001b[0mrisk_dict\u001b[0m\u001b[1;33m,\u001b[0m \u001b[0mvisited\u001b[0m\u001b[1;33m)\u001b[0m\u001b[1;33m\u001b[0m\u001b[1;33m\u001b[0m\u001b[0m\n\u001b[0m\u001b[0;32m     13\u001b[0m         \u001b[0mvisited\u001b[0m\u001b[1;33m.\u001b[0m\u001b[0mappend\u001b[0m\u001b[1;33m(\u001b[0m\u001b[0mposition\u001b[0m\u001b[1;33m)\u001b[0m\u001b[1;33m\u001b[0m\u001b[1;33m\u001b[0m\u001b[0m\n\u001b[0;32m     14\u001b[0m         \u001b[0mtotal_risk\u001b[0m \u001b[1;33m+=\u001b[0m \u001b[0mrisk_dict\u001b[0m\u001b[1;33m[\u001b[0m\u001b[0mposition\u001b[0m\u001b[1;33m]\u001b[0m\u001b[1;33m\u001b[0m\u001b[1;33m\u001b[0m\u001b[0m\n",
      "\u001b[1;32m<ipython-input-48-fa6153022c0b>\u001b[0m in \u001b[0;36mmake_move\u001b[1;34m(current_position, start_position, risk_dict, visited)\u001b[0m\n\u001b[0;32m      7\u001b[0m     \u001b[0mprint\u001b[0m\u001b[1;33m(\u001b[0m\u001b[1;34mf'current position: {current_position}'\u001b[0m\u001b[1;33m)\u001b[0m\u001b[1;33m\u001b[0m\u001b[1;33m\u001b[0m\u001b[0m\n\u001b[0;32m      8\u001b[0m     \u001b[0mprint\u001b[0m\u001b[1;33m(\u001b[0m\u001b[1;34mf'good neighbors: {good_neighbors}'\u001b[0m\u001b[1;33m)\u001b[0m\u001b[1;33m\u001b[0m\u001b[1;33m\u001b[0m\u001b[0m\n\u001b[1;32m----> 9\u001b[1;33m     \u001b[0mnext_position\u001b[0m \u001b[1;33m=\u001b[0m \u001b[0mmin\u001b[0m\u001b[1;33m(\u001b[0m\u001b[0mgood_neighbors\u001b[0m\u001b[1;33m,\u001b[0m \u001b[0mkey\u001b[0m\u001b[1;33m=\u001b[0m\u001b[0mrisk_dict\u001b[0m\u001b[1;33m.\u001b[0m\u001b[0m__getitem__\u001b[0m\u001b[1;33m)\u001b[0m\u001b[1;33m\u001b[0m\u001b[1;33m\u001b[0m\u001b[0m\n\u001b[0m\u001b[0;32m     10\u001b[0m     \u001b[0mprint\u001b[0m\u001b[1;33m(\u001b[0m\u001b[1;34mf'best neighbor: {next_position}, with a risk of {risk_dict[next_position]}'\u001b[0m\u001b[1;33m)\u001b[0m\u001b[1;33m\u001b[0m\u001b[1;33m\u001b[0m\u001b[0m\n\u001b[0;32m     11\u001b[0m \u001b[1;33m\u001b[0m\u001b[0m\n",
      "\u001b[1;31mValueError\u001b[0m: min() arg is an empty sequence"
     ]
    }
   ],
   "source": [
    "find_minimum_risk_path(test_risk_map)  # Should return 40"
   ]
  },
  {
   "cell_type": "markdown",
   "metadata": {},
   "source": [
    "### Run on Input Data"
   ]
  },
  {
   "cell_type": "code",
   "execution_count": null,
   "metadata": {},
   "outputs": [],
   "source": []
  },
  {
   "cell_type": "markdown",
   "metadata": {},
   "source": [
    "## Part 2\n",
    "---"
   ]
  },
  {
   "cell_type": "code",
   "execution_count": null,
   "metadata": {},
   "outputs": [],
   "source": []
  },
  {
   "cell_type": "markdown",
   "metadata": {},
   "source": [
    "### Run on Test Data"
   ]
  },
  {
   "cell_type": "code",
   "execution_count": null,
   "metadata": {},
   "outputs": [],
   "source": []
  },
  {
   "cell_type": "markdown",
   "metadata": {},
   "source": [
    "### Run on Input Data"
   ]
  },
  {
   "cell_type": "code",
   "execution_count": null,
   "metadata": {},
   "outputs": [],
   "source": []
  }
 ],
 "metadata": {
  "kernelspec": {
   "display_name": "Python 3",
   "language": "python",
   "name": "python3"
  },
  "language_info": {
   "codemirror_mode": {
    "name": "ipython",
    "version": 3
   },
   "file_extension": ".py",
   "mimetype": "text/x-python",
   "name": "python",
   "nbconvert_exporter": "python",
   "pygments_lexer": "ipython3",
   "version": "3.8.8"
  }
 },
 "nbformat": 4,
 "nbformat_minor": 4
}
