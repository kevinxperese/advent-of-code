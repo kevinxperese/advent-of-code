{
 "cells": [
  {
   "cell_type": "markdown",
   "metadata": {},
   "source": [
    "# --- Day 15: Chiton --- \n",
    "\n",
    "https://adventofcode.com/2021/day/15"
   ]
  },
  {
   "cell_type": "markdown",
   "metadata": {},
   "source": [
    "## Get Input Data"
   ]
  },
  {
   "cell_type": "code",
   "execution_count": 1,
   "metadata": {},
   "outputs": [],
   "source": [
    "import numpy as np"
   ]
  },
  {
   "cell_type": "code",
   "execution_count": 2,
   "metadata": {},
   "outputs": [],
   "source": [
    "def parse_data(filename):\n",
    "    \"\"\"Read in risk map data.\"\"\"\n",
    "\n",
    "    with open(f'../inputs/{filename}') as file:\n",
    "        risk_map = [[int(x) for x in line.strip()] for line in file.readlines()]\n",
    "\n",
    "    risk_map = np.matrix(risk_map)\n",
    "    return risk_map"
   ]
  },
  {
   "cell_type": "code",
   "execution_count": 3,
   "metadata": {},
   "outputs": [
    {
     "data": {
      "text/plain": [
       "matrix([[1, 1, 6, 3, 7, 5, 1, 7, 4, 2],\n",
       "        [1, 3, 8, 1, 3, 7, 3, 6, 7, 2],\n",
       "        [2, 1, 3, 6, 5, 1, 1, 3, 2, 8],\n",
       "        [3, 6, 9, 4, 9, 3, 1, 5, 6, 9],\n",
       "        [7, 4, 6, 3, 4, 1, 7, 1, 1, 1],\n",
       "        [1, 3, 1, 9, 1, 2, 8, 1, 3, 7],\n",
       "        [1, 3, 5, 9, 9, 1, 2, 4, 2, 1],\n",
       "        [3, 1, 2, 5, 4, 2, 1, 6, 3, 9],\n",
       "        [1, 2, 9, 3, 1, 3, 8, 5, 2, 1],\n",
       "        [2, 3, 1, 1, 9, 4, 4, 5, 8, 1]])"
      ]
     },
     "execution_count": 3,
     "metadata": {},
     "output_type": "execute_result"
    }
   ],
   "source": [
    "test_risk_map = parse_data('test_risk_map.txt')\n",
    "test_risk_map"
   ]
  },
  {
   "cell_type": "code",
   "execution_count": 4,
   "metadata": {},
   "outputs": [
    {
     "data": {
      "text/plain": [
       "matrix([[1, 1, 6],\n",
       "        [1, 3, 8],\n",
       "        [2, 1, 3]])"
      ]
     },
     "execution_count": 4,
     "metadata": {},
     "output_type": "execute_result"
    }
   ],
   "source": [
    "smaller_test_risk_map = test_risk_map[:3, :3]\n",
    "smaller_test_risk_map"
   ]
  },
  {
   "cell_type": "code",
   "execution_count": 5,
   "metadata": {},
   "outputs": [
    {
     "data": {
      "text/plain": [
       "matrix([[1, 1, 6],\n",
       "        [1, 3, 8]])"
      ]
     },
     "execution_count": 5,
     "metadata": {},
     "output_type": "execute_result"
    }
   ],
   "source": [
    "# Get row slices\n",
    "smaller_test_risk_map[:2, ...]"
   ]
  },
  {
   "cell_type": "code",
   "execution_count": 6,
   "metadata": {},
   "outputs": [
    {
     "data": {
      "text/plain": [
       "matrix([[1, 1],\n",
       "        [1, 3],\n",
       "        [2, 1]])"
      ]
     },
     "execution_count": 6,
     "metadata": {},
     "output_type": "execute_result"
    }
   ],
   "source": [
    "# Get column slices\n",
    "smaller_test_risk_map[..., :2]"
   ]
  },
  {
   "cell_type": "code",
   "execution_count": 7,
   "metadata": {},
   "outputs": [
    {
     "data": {
      "text/plain": [
       "matrix([[6, 8, 9, ..., 4, 7, 4],\n",
       "        [5, 3, 7, ..., 2, 9, 8],\n",
       "        [8, 7, 9, ..., 8, 5, 1],\n",
       "        ...,\n",
       "        [9, 1, 2, ..., 8, 5, 6],\n",
       "        [3, 7, 9, ..., 5, 8, 4],\n",
       "        [9, 9, 8, ..., 8, 9, 2]])"
      ]
     },
     "execution_count": 7,
     "metadata": {},
     "output_type": "execute_result"
    }
   ],
   "source": [
    "risk_map = parse_data('risk_map.txt')\n",
    "risk_map"
   ]
  },
  {
   "cell_type": "code",
   "execution_count": 8,
   "metadata": {},
   "outputs": [
    {
     "data": {
      "text/plain": [
       "(100, 100)"
      ]
     },
     "execution_count": 8,
     "metadata": {},
     "output_type": "execute_result"
    }
   ],
   "source": [
    "risk_map.shape"
   ]
  },
  {
   "cell_type": "markdown",
   "metadata": {},
   "source": [
    "## Part 1\n",
    "---"
   ]
  },
  {
   "cell_type": "markdown",
   "metadata": {},
   "source": [
    "Will need to apply [Dijkstra's Algorithm](https://en.wikipedia.org/wiki/Dijkstra%27s_algorithm) to solve.\n",
    "\n",
    "Chapter 7 in [Grokking Algorithms](https://www.manning.com/books/grokking-algorithms) provides an excellent tutorial on the algorithm -- highly recommend this book:\n",
    "\n",
    "[![Grokking Algorithms](https://images.manning.com/360/480/resize/book/3/0b325da-eb26-4e50-8a2a-46042c647083/Bhargava-Algorithms_hires.png)](https://www.manning.com/books/grokking-algorithms)\n",
    "\n",
    "Code for the algorithm can be found [here](https://github.com/egonSchiele/grokking_algorithms/blob/master/07_dijkstras_algorithm/python/01_dijkstras_algorithm.py).\n",
    "\n",
    "<br>\n",
    "\n",
    "This [blog post](https://www.udacity.com/blog/2021/10/implementing-dijkstras-algorithm-in-python.html) from Udacity also gives an excellent overview/tutorial/code example of the algorithm."
   ]
  },
  {
   "cell_type": "code",
   "execution_count": 43,
   "metadata": {},
   "outputs": [],
   "source": [
    "def get_neighbors(position, map):\n",
    "    \"\"\"Return a list of [(y, x)] neighbor coordinates.\"\"\"\n",
    "\n",
    "    y, x = position[0], position[1]\n",
    "    neighbors = [(y+1, x), (y-1, x), (y, x+1), (y, x-1)]\n",
    "    \n",
    "    max_y, max_x = map.shape[0]-1, map.shape[1]-1\n",
    "\n",
    "    # Filter out neighbors who have gone over the edge!\n",
    "    good_neighbors = list(filter(lambda n: 0 <= n[0] <= max_y and 0 <= n[1] <= max_x, neighbors))\n",
    "\n",
    "    return good_neighbors"
   ]
  },
  {
   "cell_type": "code",
   "execution_count": 44,
   "metadata": {},
   "outputs": [],
   "source": [
    "def make_graph(map):\n",
    "    \"\"\"Convert a map into a dictionary/graph with appropriate weight/risk values for each node.\"\"\"\n",
    "\n",
    "    graph = {}\n",
    "\n",
    "    for y in range(map.shape[0]):\n",
    "        for x in range(map.shape[1]):\n",
    "            neighbors = get_neighbors((y, x), map)\n",
    "            \n",
    "            graph[(y, x)] = {}\n",
    "            for n in neighbors:\n",
    "                if n != (0, 0):  # Don't add the starting node from neighbors lists\n",
    "                    graph[(y, x)][n] = map[n]\n",
    "\n",
    "            # print(f'({y}, {x}): neighbors: {neighbors}')\n",
    "\n",
    "    # Set the \"finish\" node to have no neighbors\n",
    "    graph[(map.shape[0]-1, map.shape[1]-1)] = {}\n",
    "\n",
    "    return graph"
   ]
  },
  {
   "cell_type": "code",
   "execution_count": 45,
   "metadata": {},
   "outputs": [
    {
     "data": {
      "text/plain": [
       "{(0, 0): {(1, 0): 1, (0, 1): 1},\n",
       " (0, 1): {(1, 1): 3, (0, 2): 6},\n",
       " (0, 2): {(1, 2): 8, (0, 1): 1},\n",
       " (1, 0): {(2, 0): 2, (1, 1): 3},\n",
       " (1, 1): {(2, 1): 1, (0, 1): 1, (1, 2): 8, (1, 0): 1},\n",
       " (1, 2): {(2, 2): 3, (0, 2): 6, (1, 1): 3},\n",
       " (2, 0): {(1, 0): 1, (2, 1): 1},\n",
       " (2, 1): {(1, 1): 3, (2, 2): 3, (2, 0): 2},\n",
       " (2, 2): {}}"
      ]
     },
     "execution_count": 45,
     "metadata": {},
     "output_type": "execute_result"
    }
   ],
   "source": [
    "smaller_test_risk_graph = make_graph(smaller_test_risk_map)\n",
    "smaller_test_risk_graph"
   ]
  },
  {
   "cell_type": "code",
   "execution_count": 47,
   "metadata": {},
   "outputs": [],
   "source": [
    "def make_risk_table(map):\n",
    "    \"\"\"Return a hash table for every node on the map. Set the risk values to infinity, except\n",
    "    for the first two neighbor nodes.\"\"\"\n",
    "\n",
    "    risk_table = {}\n",
    "\n",
    "    for y in range(map.shape[0]):\n",
    "        for x in range(map.shape[1]):\n",
    "            risk_table[(y, x)] = float('inf')\n",
    "\n",
    "    # # Get risk values for starting node:\n",
    "    # start_neighbors = get_neighbors((0, 0), map)\n",
    "    # for n in start_neighbors:\n",
    "    #     risk_table[n] = map[n]\n",
    "\n",
    "    # Then remove starting node from risk table\n",
    "    # risk_table.pop((0, 0))\n",
    "\n",
    "    # Set starting node risk value equal to zero\n",
    "    risk_table[(0, 0)] = 0\n",
    "\n",
    "    return risk_table"
   ]
  },
  {
   "cell_type": "code",
   "execution_count": 48,
   "metadata": {},
   "outputs": [
    {
     "data": {
      "text/plain": [
       "{(0, 0): 0,\n",
       " (0, 1): inf,\n",
       " (0, 2): inf,\n",
       " (1, 0): inf,\n",
       " (1, 1): inf,\n",
       " (1, 2): inf,\n",
       " (2, 0): inf,\n",
       " (2, 1): inf,\n",
       " (2, 2): inf}"
      ]
     },
     "execution_count": 48,
     "metadata": {},
     "output_type": "execute_result"
    }
   ],
   "source": [
    "smaller_test_risk_table = make_risk_table(smaller_test_risk_map)\n",
    "smaller_test_risk_table"
   ]
  },
  {
   "cell_type": "code",
   "execution_count": 49,
   "metadata": {},
   "outputs": [],
   "source": [
    "def find_lowest_risk_node(risk_table, processed_nodes):\n",
    "    \"\"\" \"\"\"\n",
    "    lowest_risk = float(\"inf\")\n",
    "    lowest_risk_node = None\n",
    "    \n",
    "    # Go through each node.\n",
    "    for node in risk_table:\n",
    "        risk = risk_table[node]\n",
    "        \n",
    "        # If it's the lowest cost so far and hasn't been processed yet...\n",
    "        if risk < lowest_risk and node not in processed_nodes:\n",
    "            # ... set it as the new lowest-cost node.\n",
    "            lowest_risk = risk\n",
    "            lowest_risk_node = node\n",
    "\n",
    "    return lowest_risk_node"
   ]
  },
  {
   "cell_type": "code",
   "execution_count": 50,
   "metadata": {},
   "outputs": [
    {
     "data": {
      "text/plain": [
       "(0, 0)"
      ]
     },
     "execution_count": 50,
     "metadata": {},
     "output_type": "execute_result"
    }
   ],
   "source": [
    "find_lowest_risk_node(smaller_test_risk_table, [])"
   ]
  },
  {
   "cell_type": "code",
   "execution_count": 51,
   "metadata": {},
   "outputs": [],
   "source": [
    "def find_minimum_risk_path(risk_graph, risk_table):\n",
    "    \"\"\" \"\"\"\n",
    "    processed_nodes = [(0, 0)]\n",
    "\n",
    "    node = find_lowest_risk_node(risk_table, processed_nodes)\n",
    "    \n",
    "    while node is not None:\n",
    "        # breakpoint()\n",
    "        risk = risk_table[node]\n",
    "    \n",
    "        # Go through all the neighbors of this node.\n",
    "        neighbors = risk_graph[node]\n",
    "\n",
    "        for n in neighbors.keys():\n",
    "            new_risk = risk + neighbors[n]\n",
    "\n",
    "            # If it's less risky to get to this neighbor by going through this node...\n",
    "            if risk_table[n] > new_risk:\n",
    "                # ... update the risk for this node.\n",
    "                risk_table[n] = new_risk\n",
    "\n",
    "        # Mark the node as processed.\n",
    "        processed_nodes.append(node)\n",
    "        print(processed_nodes)\n",
    "        # Find the next node to process, and loop.\n",
    "        node = find_lowest_risk_node(risk_table, processed_nodes)\n",
    "\n",
    "    end_node = max(risk_table.keys())\n",
    "\n",
    "    return risk_table[end_node]"
   ]
  },
  {
   "cell_type": "code",
   "execution_count": 55,
   "metadata": {},
   "outputs": [],
   "source": [
    "def find_minimum_risk_path2(risk_graph, risk_table):\n",
    "    \"\"\" \"\"\"\n",
    "\n",
    "    unvisited_nodes = list(risk_table.keys())\n",
    "\n",
    "    while unvisited_nodes:\n",
    "\n",
    "        # The code block below finds the node with the lowest score\n",
    "        current_min_node = None\n",
    "        # KP: This seems very inefficient!\n",
    "        for node in unvisited_nodes: # Iterate over the nodes\n",
    "            if current_min_node == None:\n",
    "                current_min_node = node\n",
    "            elif risk_table[node] < risk_table[current_min_node]:\n",
    "                current_min_node = node\n",
    "\n",
    "        \n",
    "\n",
    "        risk = risk_table[current_min_node]\n",
    "\n",
    "        # Go through all the neighbors of this node.\n",
    "        neighbors = risk_graph[current_min_node]\n",
    "\n",
    "        for n in neighbors.keys():\n",
    "            new_risk = risk + neighbors[n]\n",
    "\n",
    "            # If it's less risky to get to this neighbor by going through this node...\n",
    "            if new_risk < risk_table[n]:\n",
    "                # ... update the risk for this node.\n",
    "                risk_table[n] = new_risk\n",
    "\n",
    "        unvisited_nodes.remove(current_min_node)\n",
    "\n",
    "    end_node = max(risk_table.keys())\n",
    "\n",
    "    return risk_table[end_node]"
   ]
  },
  {
   "cell_type": "markdown",
   "metadata": {},
   "source": [
    "### Run on Test Data"
   ]
  },
  {
   "cell_type": "code",
   "execution_count": 37,
   "metadata": {},
   "outputs": [
    {
     "data": {
      "text/plain": [
       "matrix([[1, 1, 6],\n",
       "        [1, 3, 8],\n",
       "        [2, 1, 3]])"
      ]
     },
     "execution_count": 37,
     "metadata": {},
     "output_type": "execute_result"
    }
   ],
   "source": [
    "smaller_test_risk_map"
   ]
  },
  {
   "cell_type": "code",
   "execution_count": 53,
   "metadata": {},
   "outputs": [
    {
     "name": "stdout",
     "output_type": "stream",
     "text": [
      "{(0, 0): 0, (0, 1): 1, (0, 2): 7, (1, 0): 1, (1, 1): 4, (1, 2): 12, (2, 0): 3, (2, 1): 4, (2, 2): 7}\n"
     ]
    },
    {
     "data": {
      "text/plain": [
       "7"
      ]
     },
     "execution_count": 53,
     "metadata": {},
     "output_type": "execute_result"
    }
   ],
   "source": [
    "find_minimum_risk_path2(smaller_test_risk_graph, smaller_test_risk_table)  # Should return 7"
   ]
  },
  {
   "cell_type": "code",
   "execution_count": 54,
   "metadata": {},
   "outputs": [
    {
     "name": "stdout",
     "output_type": "stream",
     "text": [
      "{(0, 0): 0, (0, 1): 1, (0, 2): 7, (0, 3): 10, (0, 4): 17, (0, 5): 22, (0, 6): 23, (0, 7): 30, (0, 8): 34, (0, 9): 36, (1, 0): 1, (1, 1): 4, (1, 2): 12, (1, 3): 11, (1, 4): 14, (1, 5): 21, (1, 6): 23, (1, 7): 29, (1, 8): 32, (1, 9): 34, (2, 0): 3, (2, 1): 4, (2, 2): 7, (2, 3): 13, (2, 4): 18, (2, 5): 19, (2, 6): 20, (2, 7): 23, (2, 8): 25, (2, 9): 33, (3, 0): 6, (3, 1): 10, (3, 2): 16, (3, 3): 17, (3, 4): 26, (3, 5): 22, (3, 6): 21, (3, 7): 26, (3, 8): 31, (3, 9): 38, (4, 0): 13, (4, 1): 14, (4, 2): 20, (4, 3): 20, (4, 4): 24, (4, 5): 23, (4, 6): 28, (4, 7): 27, (4, 8): 28, (4, 9): 29, (5, 0): 14, (5, 1): 17, (5, 2): 18, (5, 3): 27, (5, 4): 25, (5, 5): 25, (5, 6): 33, (5, 7): 28, (5, 8): 31, (5, 9): 36, (6, 0): 15, (6, 1): 18, (6, 2): 23, (6, 3): 32, (6, 4): 34, (6, 5): 26, (6, 6): 28, (6, 7): 32, (6, 8): 33, (6, 9): 34, (7, 0): 18, (7, 1): 19, (7, 2): 21, (7, 3): 26, (7, 4): 30, (7, 5): 28, (7, 6): 29, (7, 7): 35, (7, 8): 36, (7, 9): 43, (8, 0): 19, (8, 1): 21, (8, 2): 30, (8, 3): 29, (8, 4): 30, (8, 5): 31, (8, 6): 37, (8, 7): 40, (8, 8): 38, (8, 9): 39, (9, 0): 21, (9, 1): 24, (9, 2): 25, (9, 3): 26, (9, 4): 35, (9, 5): 35, (9, 6): 39, (9, 7): 44, (9, 8): 46, (9, 9): 40}\n"
     ]
    },
    {
     "data": {
      "text/plain": [
       "40"
      ]
     },
     "execution_count": 54,
     "metadata": {},
     "output_type": "execute_result"
    }
   ],
   "source": [
    "test_risk_table = make_risk_table(test_risk_map)\n",
    "test_risk_graph = make_graph(test_risk_map)\n",
    "find_minimum_risk_path2(test_risk_graph, test_risk_table)  # Should return 40"
   ]
  },
  {
   "cell_type": "markdown",
   "metadata": {},
   "source": [
    "### Run on Input Data"
   ]
  },
  {
   "cell_type": "code",
   "execution_count": 56,
   "metadata": {},
   "outputs": [
    {
     "ename": "KeyboardInterrupt",
     "evalue": "",
     "output_type": "error",
     "traceback": [
      "\u001b[1;31m---------------------------------------------------------------------------\u001b[0m",
      "\u001b[1;31mKeyboardInterrupt\u001b[0m                         Traceback (most recent call last)",
      "\u001b[1;32m<ipython-input-56-eff617cf0af1>\u001b[0m in \u001b[0;36m<module>\u001b[1;34m\u001b[0m\n\u001b[0;32m      1\u001b[0m \u001b[0mrisk_table\u001b[0m \u001b[1;33m=\u001b[0m \u001b[0mmake_risk_table\u001b[0m\u001b[1;33m(\u001b[0m\u001b[0mrisk_map\u001b[0m\u001b[1;33m)\u001b[0m\u001b[1;33m\u001b[0m\u001b[1;33m\u001b[0m\u001b[0m\n\u001b[0;32m      2\u001b[0m \u001b[0mrisk_graph\u001b[0m \u001b[1;33m=\u001b[0m \u001b[0mmake_graph\u001b[0m\u001b[1;33m(\u001b[0m\u001b[0mrisk_map\u001b[0m\u001b[1;33m)\u001b[0m\u001b[1;33m\u001b[0m\u001b[1;33m\u001b[0m\u001b[0m\n\u001b[1;32m----> 3\u001b[1;33m \u001b[0mfind_minimum_risk_path2\u001b[0m\u001b[1;33m(\u001b[0m\u001b[0mrisk_graph\u001b[0m\u001b[1;33m,\u001b[0m \u001b[0mrisk_table\u001b[0m\u001b[1;33m)\u001b[0m\u001b[1;33m\u001b[0m\u001b[1;33m\u001b[0m\u001b[0m\n\u001b[0m",
      "\u001b[1;32m<ipython-input-55-a5c611e1412c>\u001b[0m in \u001b[0;36mfind_minimum_risk_path2\u001b[1;34m(risk_graph, risk_table)\u001b[0m\n\u001b[0;32m     12\u001b[0m             \u001b[1;32mif\u001b[0m \u001b[0mcurrent_min_node\u001b[0m \u001b[1;33m==\u001b[0m \u001b[1;32mNone\u001b[0m\u001b[1;33m:\u001b[0m\u001b[1;33m\u001b[0m\u001b[1;33m\u001b[0m\u001b[0m\n\u001b[0;32m     13\u001b[0m                 \u001b[0mcurrent_min_node\u001b[0m \u001b[1;33m=\u001b[0m \u001b[0mnode\u001b[0m\u001b[1;33m\u001b[0m\u001b[1;33m\u001b[0m\u001b[0m\n\u001b[1;32m---> 14\u001b[1;33m             \u001b[1;32melif\u001b[0m \u001b[0mrisk_table\u001b[0m\u001b[1;33m[\u001b[0m\u001b[0mnode\u001b[0m\u001b[1;33m]\u001b[0m \u001b[1;33m<\u001b[0m \u001b[0mrisk_table\u001b[0m\u001b[1;33m[\u001b[0m\u001b[0mcurrent_min_node\u001b[0m\u001b[1;33m]\u001b[0m\u001b[1;33m:\u001b[0m\u001b[1;33m\u001b[0m\u001b[1;33m\u001b[0m\u001b[0m\n\u001b[0m\u001b[0;32m     15\u001b[0m                 \u001b[0mcurrent_min_node\u001b[0m \u001b[1;33m=\u001b[0m \u001b[0mnode\u001b[0m\u001b[1;33m\u001b[0m\u001b[1;33m\u001b[0m\u001b[0m\n\u001b[0;32m     16\u001b[0m \u001b[1;33m\u001b[0m\u001b[0m\n",
      "\u001b[1;31mKeyboardInterrupt\u001b[0m: "
     ]
    }
   ],
   "source": [
    "risk_table = make_risk_table(risk_map)\n",
    "risk_graph = make_graph(risk_map)\n",
    "find_minimum_risk_path2(risk_graph, risk_table)"
   ]
  },
  {
   "cell_type": "code",
   "execution_count": null,
   "metadata": {},
   "outputs": [],
   "source": [
    "import sys\n",
    " \n",
    "class Graph(object):\n",
    "    def __init__(self, nodes, init_graph):\n",
    "        self.nodes = nodes\n",
    "        self.graph = self.construct_graph(nodes, init_graph)\n",
    "        \n",
    "    def construct_graph(self, nodes, init_graph):\n",
    "        '''\n",
    "        This method makes sure that the graph is symmetrical. In other words, if there's a path from node A to B with a value V, there needs to be a path from node B to node A with a value V.\n",
    "        '''\n",
    "        graph = {}\n",
    "        for node in nodes:\n",
    "            graph[node] = {}\n",
    "        \n",
    "        graph.update(init_graph)\n",
    "        \n",
    "        for node, edges in graph.items():\n",
    "            for adjacent_node, value in edges.items():\n",
    "                if graph[adjacent_node].get(node, False) == False:\n",
    "                    graph[adjacent_node][node] = value\n",
    "                    \n",
    "        return graph\n",
    "    \n",
    "    def get_nodes(self):\n",
    "        \"Returns the nodes of the graph.\"\n",
    "        return self.nodes\n",
    "    \n",
    "    def get_outgoing_edges(self, node):\n",
    "        \"Returns the neighbors of a node.\"\n",
    "        connections = []\n",
    "        for out_node in self.nodes:\n",
    "            if self.graph[node].get(out_node, False) != False:\n",
    "                connections.append(out_node)\n",
    "        return connections\n",
    "    \n",
    "    def value(self, node1, node2):\n",
    "        \"Returns the value of an edge between two nodes.\"\n",
    "        return self.graph[node1][node2]"
   ]
  },
  {
   "cell_type": "code",
   "execution_count": null,
   "metadata": {},
   "outputs": [],
   "source": [
    "def dijkstra_algorithm(graph, start_node):\n",
    "    unvisited_nodes = list(graph.get_nodes())\n",
    " \n",
    "    # We'll use this dict to save the cost of visiting each node and update it as we move along the graph   \n",
    "    shortest_path = {}\n",
    " \n",
    "    # We'll use this dict to save the shortest known path to a node found so far\n",
    "    previous_nodes = {}\n",
    " \n",
    "    # We'll use max_value to initialize the \"infinity\" value of the unvisited nodes   \n",
    "    max_value = sys.maxsize\n",
    "    for node in unvisited_nodes:\n",
    "        shortest_path[node] = max_value\n",
    "    # However, we initialize the starting node's value with 0   \n",
    "    shortest_path[start_node] = 0\n",
    "    \n",
    "    # The algorithm executes until we visit all nodes\n",
    "    while unvisited_nodes:\n",
    "        # The code block below finds the node with the lowest score\n",
    "        current_min_node = None\n",
    "        for node in unvisited_nodes: # Iterate over the nodes\n",
    "            if current_min_node == None:\n",
    "                current_min_node = node\n",
    "            elif shortest_path[node] < shortest_path[current_min_node]:\n",
    "                current_min_node = node\n",
    "                \n",
    "        # The code block below retrieves the current node's neighbors and updates their distances\n",
    "        neighbors = graph.get_outgoing_edges(current_min_node)\n",
    "        for neighbor in neighbors:\n",
    "            tentative_value = shortest_path[current_min_node] + graph.value(current_min_node, neighbor)\n",
    "            if tentative_value < shortest_path[neighbor]:\n",
    "                shortest_path[neighbor] = tentative_value\n",
    "                # We also update the best path to the current node\n",
    "                previous_nodes[neighbor] = current_min_node\n",
    " \n",
    "        # After visiting its neighbors, we mark the node as \"visited\"\n",
    "        unvisited_nodes.remove(current_min_node)\n",
    "    \n",
    "    return previous_nodes, shortest_path"
   ]
  },
  {
   "cell_type": "code",
   "execution_count": null,
   "metadata": {},
   "outputs": [],
   "source": [
    "dijkstra_algorithm(risk_graph, (0, 0))"
   ]
  },
  {
   "cell_type": "markdown",
   "metadata": {},
   "source": [
    "## Part 2\n",
    "---"
   ]
  },
  {
   "cell_type": "code",
   "execution_count": null,
   "metadata": {},
   "outputs": [],
   "source": []
  },
  {
   "cell_type": "markdown",
   "metadata": {},
   "source": [
    "### Run on Test Data"
   ]
  },
  {
   "cell_type": "code",
   "execution_count": null,
   "metadata": {},
   "outputs": [],
   "source": []
  },
  {
   "cell_type": "markdown",
   "metadata": {},
   "source": [
    "### Run on Input Data"
   ]
  },
  {
   "cell_type": "code",
   "execution_count": null,
   "metadata": {},
   "outputs": [],
   "source": []
  }
 ],
 "metadata": {
  "kernelspec": {
   "display_name": "Python 3",
   "language": "python",
   "name": "python3"
  },
  "language_info": {
   "codemirror_mode": {
    "name": "ipython",
    "version": 3
   },
   "file_extension": ".py",
   "mimetype": "text/x-python",
   "name": "python",
   "nbconvert_exporter": "python",
   "pygments_lexer": "ipython3",
   "version": "3.8.8"
  }
 },
 "nbformat": 4,
 "nbformat_minor": 4
}
