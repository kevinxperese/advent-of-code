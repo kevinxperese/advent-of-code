{
 "cells": [
  {
   "cell_type": "markdown",
   "metadata": {},
   "source": [
    "# --- Day 15: Chiton --- \n",
    "\n",
    "https://adventofcode.com/2021/day/15"
   ]
  },
  {
   "cell_type": "markdown",
   "metadata": {},
   "source": [
    "## Get Input Data"
   ]
  },
  {
   "cell_type": "code",
   "execution_count": 17,
   "metadata": {},
   "outputs": [],
   "source": [
    "def parse_data(filename):\n",
    "    \"\"\"Read in risk map data.\"\"\"\n",
    "\n",
    "    with open(f'../inputs/{filename}') as file:\n",
    "        risk_map = [[int(x) for x in line.strip()] for line in file.readlines()]\n",
    "    \n",
    "    risk_dict = {}\n",
    "\n",
    "    for i in range(len(risk_map[0])):\n",
    "        for j in range(len(risk_map)):\n",
    "            risk_dict[(i, j)] = risk_map[i][j]\n",
    "\n",
    "    # We're gonna start at the bottom right corner when we search for the min risk path\n",
    "    start_position = (len(risk_map[0])-1, len(risk_map)-1)\n",
    "\n",
    "    return risk_map, risk_dict, start_position"
   ]
  },
  {
   "cell_type": "code",
   "execution_count": 19,
   "metadata": {},
   "outputs": [
    {
     "name": "stdout",
     "output_type": "stream",
     "text": [
      "test risk map:\n",
      " [[1, 1, 6, 3, 7, 5, 1, 7, 4, 2], [1, 3, 8, 1, 3, 7, 3, 6, 7, 2], [2, 1, 3, 6, 5, 1, 1, 3, 2, 8], [3, 6, 9, 4, 9, 3, 1, 5, 6, 9], [7, 4, 6, 3, 4, 1, 7, 1, 1, 1], [1, 3, 1, 9, 1, 2, 8, 1, 3, 7], [1, 3, 5, 9, 9, 1, 2, 4, 2, 1], [3, 1, 2, 5, 4, 2, 1, 6, 3, 9], [1, 2, 9, 3, 1, 3, 8, 5, 2, 1], [2, 3, 1, 1, 9, 4, 4, 5, 8, 1]]\n",
      "\n",
      "test risk dict:\n",
      " {(0, 0): 1, (0, 1): 1, (0, 2): 6, (0, 3): 3, (0, 4): 7, (0, 5): 5, (0, 6): 1, (0, 7): 7, (0, 8): 4, (0, 9): 2, (1, 0): 1, (1, 1): 3, (1, 2): 8, (1, 3): 1, (1, 4): 3, (1, 5): 7, (1, 6): 3, (1, 7): 6, (1, 8): 7, (1, 9): 2, (2, 0): 2, (2, 1): 1, (2, 2): 3, (2, 3): 6, (2, 4): 5, (2, 5): 1, (2, 6): 1, (2, 7): 3, (2, 8): 2, (2, 9): 8, (3, 0): 3, (3, 1): 6, (3, 2): 9, (3, 3): 4, (3, 4): 9, (3, 5): 3, (3, 6): 1, (3, 7): 5, (3, 8): 6, (3, 9): 9, (4, 0): 7, (4, 1): 4, (4, 2): 6, (4, 3): 3, (4, 4): 4, (4, 5): 1, (4, 6): 7, (4, 7): 1, (4, 8): 1, (4, 9): 1, (5, 0): 1, (5, 1): 3, (5, 2): 1, (5, 3): 9, (5, 4): 1, (5, 5): 2, (5, 6): 8, (5, 7): 1, (5, 8): 3, (5, 9): 7, (6, 0): 1, (6, 1): 3, (6, 2): 5, (6, 3): 9, (6, 4): 9, (6, 5): 1, (6, 6): 2, (6, 7): 4, (6, 8): 2, (6, 9): 1, (7, 0): 3, (7, 1): 1, (7, 2): 2, (7, 3): 5, (7, 4): 4, (7, 5): 2, (7, 6): 1, (7, 7): 6, (7, 8): 3, (7, 9): 9, (8, 0): 1, (8, 1): 2, (8, 2): 9, (8, 3): 3, (8, 4): 1, (8, 5): 3, (8, 6): 8, (8, 7): 5, (8, 8): 2, (8, 9): 1, (9, 0): 2, (9, 1): 3, (9, 2): 1, (9, 3): 1, (9, 4): 9, (9, 5): 4, (9, 6): 4, (9, 7): 5, (9, 8): 8, (9, 9): 1}\n",
      "\n",
      "test start position: (9, 9)\n"
     ]
    }
   ],
   "source": [
    "test_risk_map, test_risk_dict, test_start_position = parse_data('test_risk_map.txt')\n",
    "print(f'test risk map:\\n {test_risk_map}\\n')\n",
    "print(f'test risk dict:\\n {test_risk_dict}\\n')\n",
    "print(f'test start position: {test_start_position}')"
   ]
  },
  {
   "cell_type": "code",
   "execution_count": null,
   "metadata": {},
   "outputs": [],
   "source": [
    "risk_map, risk_dict, start_position = parse_data('risk_map.txt')"
   ]
  },
  {
   "cell_type": "markdown",
   "metadata": {},
   "source": [
    "## Part 1\n",
    "---"
   ]
  },
  {
   "cell_type": "markdown",
   "metadata": {},
   "source": [
    "Need to take a dynamic programming approach and solve from the end to the beginning to find the path with the least risk."
   ]
  },
  {
   "cell_type": "code",
   "execution_count": 44,
   "metadata": {},
   "outputs": [],
   "source": [
    "def get_neighbors(current_position, start_position, visited):\n",
    "    \"\"\"Return a list of possible next moves; can only move horizontally or vertically, and\n",
    "    we don't want to allow for any backtracking.\n",
    "    \"\"\"\n",
    "\n",
    "    y, x = current_position[0], current_position[1]\n",
    "    neighbors = [(y+1, x), (y-1, x), (y, x+1), (y, x-1)]\n",
    "    \n",
    "    max_height, max_length = start_position[0], start_position[1]\n",
    "\n",
    "    # Filter out neighbors who have gone over the edge!\n",
    "    good_neighbors = list(filter(lambda n: 0 <= n[0] <= max_height and 0 <= n[1] <= max_length, neighbors))\n",
    "\n",
    "    # Also filter out neighbors if they aren't already in the visited list\n",
    "    good_neighbors = list(set(good_neighbors) - set(visited))\n",
    "\n",
    "    return good_neighbors"
   ]
  },
  {
   "cell_type": "code",
   "execution_count": 48,
   "metadata": {},
   "outputs": [],
   "source": [
    "def make_move(current_position, start_position, risk_dict, visited):\n",
    "    \"\"\"Return the position of the next move along the path, which will be the horizontal or\n",
    "    vertical neighbor (that hasn't already been visited) with the lowest risk score.\n",
    "    \"\"\"\n",
    "\n",
    "    good_neighbors = get_neighbors(current_position, start_position, visited)\n",
    "    print(f'current position: {current_position}')\n",
    "    print(f'good neighbors: {good_neighbors}')\n",
    "    next_position = min(good_neighbors, key=risk_dict.__getitem__)\n",
    "    print(f'best neighbor: {next_position}, with a risk of {risk_dict[next_position]}')\n",
    "\n",
    "    return next_position"
   ]
  },
  {
   "cell_type": "code",
   "execution_count": 51,
   "metadata": {},
   "outputs": [],
   "source": [
    "def find_path_with_minimum_risk(position, start_position, risk_dict):\n",
    "    \"\"\"Reverse through the risk map from the end position and find the path with the least risk;\n",
    "    Return the total risk for the path.\n",
    "    \"\"\"\n",
    "    \n",
    "    visited = [position]\n",
    "    total_risk = risk_dict[position]\n",
    "\n",
    "    while position != (0, 0):\n",
    "        print(f'visited so far: {visited}')\n",
    "        print(f'total risk so far: {total_risk}\\n')\n",
    "        position = make_move(position, start_position, risk_dict, visited)\n",
    "        visited.append(position)\n",
    "        total_risk += risk_dict[position]\n",
    "\n",
    "    return total_risk"
   ]
  },
  {
   "cell_type": "markdown",
   "metadata": {},
   "source": [
    "### Run on Test Data"
   ]
  },
  {
   "cell_type": "code",
   "execution_count": 52,
   "metadata": {},
   "outputs": [
    {
     "name": "stdout",
     "output_type": "stream",
     "text": [
      "visited so far: [(9, 9)]\n",
      "total risk so far: 1\n",
      "\n",
      "current position: (9, 9)\n",
      "good neighbors: [(8, 9), (9, 8)]\n",
      "best neighbor: (8, 9), with a risk of 1\n",
      "visited so far: [(9, 9), (8, 9)]\n",
      "total risk so far: 2\n",
      "\n",
      "current position: (8, 9)\n",
      "good neighbors: [(7, 9), (8, 8)]\n",
      "best neighbor: (8, 8), with a risk of 2\n",
      "visited so far: [(9, 9), (8, 9), (8, 8)]\n",
      "total risk so far: 4\n",
      "\n",
      "current position: (8, 8)\n",
      "good neighbors: [(8, 7), (9, 8), (7, 8)]\n",
      "best neighbor: (7, 8), with a risk of 3\n",
      "visited so far: [(9, 9), (8, 9), (8, 8), (7, 8)]\n",
      "total risk so far: 7\n",
      "\n",
      "current position: (7, 8)\n",
      "good neighbors: [(7, 9), (6, 8), (7, 7)]\n",
      "best neighbor: (6, 8), with a risk of 2\n",
      "visited so far: [(9, 9), (8, 9), (8, 8), (7, 8), (6, 8)]\n",
      "total risk so far: 9\n",
      "\n",
      "current position: (6, 8)\n",
      "good neighbors: [(6, 7), (6, 9), (5, 8)]\n",
      "best neighbor: (6, 9), with a risk of 1\n",
      "visited so far: [(9, 9), (8, 9), (8, 8), (7, 8), (6, 8), (6, 9)]\n",
      "total risk so far: 10\n",
      "\n",
      "current position: (6, 9)\n",
      "good neighbors: [(7, 9), (5, 9)]\n",
      "best neighbor: (5, 9), with a risk of 7\n",
      "visited so far: [(9, 9), (8, 9), (8, 8), (7, 8), (6, 8), (6, 9), (5, 9)]\n",
      "total risk so far: 17\n",
      "\n",
      "current position: (5, 9)\n",
      "good neighbors: [(4, 9), (5, 8)]\n",
      "best neighbor: (4, 9), with a risk of 1\n",
      "visited so far: [(9, 9), (8, 9), (8, 8), (7, 8), (6, 8), (6, 9), (5, 9), (4, 9)]\n",
      "total risk so far: 18\n",
      "\n",
      "current position: (4, 9)\n",
      "good neighbors: [(3, 9), (4, 8)]\n",
      "best neighbor: (4, 8), with a risk of 1\n",
      "visited so far: [(9, 9), (8, 9), (8, 8), (7, 8), (6, 8), (6, 9), (5, 9), (4, 9), (4, 8)]\n",
      "total risk so far: 19\n",
      "\n",
      "current position: (4, 8)\n",
      "good neighbors: [(3, 8), (4, 7), (5, 8)]\n",
      "best neighbor: (4, 7), with a risk of 1\n",
      "visited so far: [(9, 9), (8, 9), (8, 8), (7, 8), (6, 8), (6, 9), (5, 9), (4, 9), (4, 8), (4, 7)]\n",
      "total risk so far: 20\n",
      "\n",
      "current position: (4, 7)\n",
      "good neighbors: [(3, 7), (4, 6), (5, 7)]\n",
      "best neighbor: (5, 7), with a risk of 1\n",
      "visited so far: [(9, 9), (8, 9), (8, 8), (7, 8), (6, 8), (6, 9), (5, 9), (4, 9), (4, 8), (4, 7), (5, 7)]\n",
      "total risk so far: 21\n",
      "\n",
      "current position: (5, 7)\n",
      "good neighbors: [(6, 7), (5, 6), (5, 8)]\n",
      "best neighbor: (5, 8), with a risk of 3\n",
      "visited so far: [(9, 9), (8, 9), (8, 8), (7, 8), (6, 8), (6, 9), (5, 9), (4, 9), (4, 8), (4, 7), (5, 7), (5, 8)]\n",
      "total risk so far: 24\n",
      "\n",
      "current position: (5, 8)\n",
      "good neighbors: []\n"
     ]
    },
    {
     "ename": "ValueError",
     "evalue": "min() arg is an empty sequence",
     "output_type": "error",
     "traceback": [
      "\u001b[1;31m---------------------------------------------------------------------------\u001b[0m",
      "\u001b[1;31mValueError\u001b[0m                                Traceback (most recent call last)",
      "\u001b[1;32m<ipython-input-52-7df4af54b9a5>\u001b[0m in \u001b[0;36m<module>\u001b[1;34m\u001b[0m\n\u001b[1;32m----> 1\u001b[1;33m \u001b[0mfind_path_with_minimum_risk\u001b[0m\u001b[1;33m(\u001b[0m\u001b[0mtest_start_position\u001b[0m\u001b[1;33m,\u001b[0m \u001b[0mtest_start_position\u001b[0m\u001b[1;33m,\u001b[0m \u001b[0mtest_risk_dict\u001b[0m\u001b[1;33m)\u001b[0m  \u001b[1;31m# Should return 40\u001b[0m\u001b[1;33m\u001b[0m\u001b[1;33m\u001b[0m\u001b[0m\n\u001b[0m",
      "\u001b[1;32m<ipython-input-51-4a8db738f470>\u001b[0m in \u001b[0;36mfind_path_with_minimum_risk\u001b[1;34m(position, start_position, risk_dict)\u001b[0m\n\u001b[0;32m     10\u001b[0m         \u001b[0mprint\u001b[0m\u001b[1;33m(\u001b[0m\u001b[1;34mf'visited so far: {visited}'\u001b[0m\u001b[1;33m)\u001b[0m\u001b[1;33m\u001b[0m\u001b[1;33m\u001b[0m\u001b[0m\n\u001b[0;32m     11\u001b[0m         \u001b[0mprint\u001b[0m\u001b[1;33m(\u001b[0m\u001b[1;34mf'total risk so far: {total_risk}\\n'\u001b[0m\u001b[1;33m)\u001b[0m\u001b[1;33m\u001b[0m\u001b[1;33m\u001b[0m\u001b[0m\n\u001b[1;32m---> 12\u001b[1;33m         \u001b[0mposition\u001b[0m \u001b[1;33m=\u001b[0m \u001b[0mmake_move\u001b[0m\u001b[1;33m(\u001b[0m\u001b[0mposition\u001b[0m\u001b[1;33m,\u001b[0m \u001b[0mstart_position\u001b[0m\u001b[1;33m,\u001b[0m \u001b[0mrisk_dict\u001b[0m\u001b[1;33m,\u001b[0m \u001b[0mvisited\u001b[0m\u001b[1;33m)\u001b[0m\u001b[1;33m\u001b[0m\u001b[1;33m\u001b[0m\u001b[0m\n\u001b[0m\u001b[0;32m     13\u001b[0m         \u001b[0mvisited\u001b[0m\u001b[1;33m.\u001b[0m\u001b[0mappend\u001b[0m\u001b[1;33m(\u001b[0m\u001b[0mposition\u001b[0m\u001b[1;33m)\u001b[0m\u001b[1;33m\u001b[0m\u001b[1;33m\u001b[0m\u001b[0m\n\u001b[0;32m     14\u001b[0m         \u001b[0mtotal_risk\u001b[0m \u001b[1;33m+=\u001b[0m \u001b[0mrisk_dict\u001b[0m\u001b[1;33m[\u001b[0m\u001b[0mposition\u001b[0m\u001b[1;33m]\u001b[0m\u001b[1;33m\u001b[0m\u001b[1;33m\u001b[0m\u001b[0m\n",
      "\u001b[1;32m<ipython-input-48-fa6153022c0b>\u001b[0m in \u001b[0;36mmake_move\u001b[1;34m(current_position, start_position, risk_dict, visited)\u001b[0m\n\u001b[0;32m      7\u001b[0m     \u001b[0mprint\u001b[0m\u001b[1;33m(\u001b[0m\u001b[1;34mf'current position: {current_position}'\u001b[0m\u001b[1;33m)\u001b[0m\u001b[1;33m\u001b[0m\u001b[1;33m\u001b[0m\u001b[0m\n\u001b[0;32m      8\u001b[0m     \u001b[0mprint\u001b[0m\u001b[1;33m(\u001b[0m\u001b[1;34mf'good neighbors: {good_neighbors}'\u001b[0m\u001b[1;33m)\u001b[0m\u001b[1;33m\u001b[0m\u001b[1;33m\u001b[0m\u001b[0m\n\u001b[1;32m----> 9\u001b[1;33m     \u001b[0mnext_position\u001b[0m \u001b[1;33m=\u001b[0m \u001b[0mmin\u001b[0m\u001b[1;33m(\u001b[0m\u001b[0mgood_neighbors\u001b[0m\u001b[1;33m,\u001b[0m \u001b[0mkey\u001b[0m\u001b[1;33m=\u001b[0m\u001b[0mrisk_dict\u001b[0m\u001b[1;33m.\u001b[0m\u001b[0m__getitem__\u001b[0m\u001b[1;33m)\u001b[0m\u001b[1;33m\u001b[0m\u001b[1;33m\u001b[0m\u001b[0m\n\u001b[0m\u001b[0;32m     10\u001b[0m     \u001b[0mprint\u001b[0m\u001b[1;33m(\u001b[0m\u001b[1;34mf'best neighbor: {next_position}, with a risk of {risk_dict[next_position]}'\u001b[0m\u001b[1;33m)\u001b[0m\u001b[1;33m\u001b[0m\u001b[1;33m\u001b[0m\u001b[0m\n\u001b[0;32m     11\u001b[0m \u001b[1;33m\u001b[0m\u001b[0m\n",
      "\u001b[1;31mValueError\u001b[0m: min() arg is an empty sequence"
     ]
    }
   ],
   "source": [
    "find_path_with_minimum_risk(test_start_position, test_start_position, test_risk_dict)  # Should return 40"
   ]
  },
  {
   "cell_type": "markdown",
   "metadata": {},
   "source": [
    "### Run on Input Data"
   ]
  },
  {
   "cell_type": "code",
   "execution_count": null,
   "metadata": {},
   "outputs": [],
   "source": []
  },
  {
   "cell_type": "markdown",
   "metadata": {},
   "source": [
    "## Part 2\n",
    "---"
   ]
  },
  {
   "cell_type": "code",
   "execution_count": null,
   "metadata": {},
   "outputs": [],
   "source": []
  },
  {
   "cell_type": "markdown",
   "metadata": {},
   "source": [
    "### Run on Test Data"
   ]
  },
  {
   "cell_type": "code",
   "execution_count": null,
   "metadata": {},
   "outputs": [],
   "source": []
  },
  {
   "cell_type": "markdown",
   "metadata": {},
   "source": [
    "### Run on Input Data"
   ]
  },
  {
   "cell_type": "code",
   "execution_count": null,
   "metadata": {},
   "outputs": [],
   "source": []
  }
 ],
 "metadata": {
  "kernelspec": {
   "display_name": "Python 3",
   "language": "python",
   "name": "python3"
  },
  "language_info": {
   "codemirror_mode": {
    "name": "ipython",
    "version": 3
   },
   "file_extension": ".py",
   "mimetype": "text/x-python",
   "name": "python",
   "nbconvert_exporter": "python",
   "pygments_lexer": "ipython3",
   "version": "3.8.8"
  }
 },
 "nbformat": 4,
 "nbformat_minor": 4
}
