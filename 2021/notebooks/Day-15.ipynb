{
 "cells": [
  {
   "cell_type": "markdown",
   "metadata": {},
   "source": [
    "# --- Day 15: Chiton --- \n",
    "\n",
    "https://adventofcode.com/2021/day/15"
   ]
  },
  {
   "cell_type": "markdown",
   "metadata": {},
   "source": [
    "## Get Input Data"
   ]
  },
  {
   "cell_type": "code",
   "execution_count": 1,
   "metadata": {},
   "outputs": [],
   "source": [
    "import numpy as np"
   ]
  },
  {
   "cell_type": "code",
   "execution_count": 2,
   "metadata": {},
   "outputs": [],
   "source": [
    "def parse_data(filename):\n",
    "    \"\"\"Read in risk map data.\"\"\"\n",
    "\n",
    "    with open(f'../inputs/{filename}') as file:\n",
    "        risk_map = [[int(x) for x in line.strip()] for line in file.readlines()]\n",
    "\n",
    "    risk_map = np.matrix(risk_map)\n",
    "    return risk_map"
   ]
  },
  {
   "cell_type": "code",
   "execution_count": 3,
   "metadata": {},
   "outputs": [
    {
     "data": {
      "text/plain": [
       "matrix([[1, 1, 6, 3, 7, 5, 1, 7, 4, 2],\n",
       "        [1, 3, 8, 1, 3, 7, 3, 6, 7, 2],\n",
       "        [2, 1, 3, 6, 5, 1, 1, 3, 2, 8],\n",
       "        [3, 6, 9, 4, 9, 3, 1, 5, 6, 9],\n",
       "        [7, 4, 6, 3, 4, 1, 7, 1, 1, 1],\n",
       "        [1, 3, 1, 9, 1, 2, 8, 1, 3, 7],\n",
       "        [1, 3, 5, 9, 9, 1, 2, 4, 2, 1],\n",
       "        [3, 1, 2, 5, 4, 2, 1, 6, 3, 9],\n",
       "        [1, 2, 9, 3, 1, 3, 8, 5, 2, 1],\n",
       "        [2, 3, 1, 1, 9, 4, 4, 5, 8, 1]])"
      ]
     },
     "execution_count": 3,
     "metadata": {},
     "output_type": "execute_result"
    }
   ],
   "source": [
    "test_risk_map = parse_data('test_risk_map.txt')\n",
    "test_risk_map"
   ]
  },
  {
   "cell_type": "code",
   "execution_count": 4,
   "metadata": {},
   "outputs": [
    {
     "data": {
      "text/plain": [
       "matrix([[1, 1, 6],\n",
       "        [1, 3, 8],\n",
       "        [2, 1, 3]])"
      ]
     },
     "execution_count": 4,
     "metadata": {},
     "output_type": "execute_result"
    }
   ],
   "source": [
    "smaller_test_risk_map = test_risk_map[:3, :3]\n",
    "smaller_test_risk_map"
   ]
  },
  {
   "cell_type": "code",
   "execution_count": 5,
   "metadata": {},
   "outputs": [
    {
     "data": {
      "text/plain": [
       "(100, 100)"
      ]
     },
     "execution_count": 5,
     "metadata": {},
     "output_type": "execute_result"
    }
   ],
   "source": [
    "risk_map = parse_data('risk_map.txt')\n",
    "risk_map.shape"
   ]
  },
  {
   "cell_type": "markdown",
   "metadata": {},
   "source": [
    "## Part 1\n",
    "---"
   ]
  },
  {
   "cell_type": "markdown",
   "metadata": {},
   "source": [
    "Will need to apply [Dijkstra's Algorithm](https://en.wikipedia.org/wiki/Dijkstra%27s_algorithm) to solve.\n",
    "\n",
    "Chapter 7 in [Grokking Algorithms](https://www.manning.com/books/grokking-algorithms) provides an excellent tutorial on the algorithm -- highly recommend this book:\n",
    "\n",
    "[![Grokking Algorithms](https://images.manning.com/360/480/resize/book/3/0b325da-eb26-4e50-8a2a-46042c647083/Bhargava-Algorithms_hires.png)](https://www.manning.com/books/grokking-algorithms)\n",
    "\n",
    "Code for the algorithm can be found [here](https://github.com/egonSchiele/grokking_algorithms/blob/master/07_dijkstras_algorithm/python/01_dijkstras_algorithm.py).\n",
    "\n",
    "<br>\n",
    "\n",
    "This [blog post](https://www.udacity.com/blog/2021/10/implementing-dijkstras-algorithm-in-python.html) from Udacity also gives an excellent overview/tutorial/code example of the algorithm.\n",
    "\n",
    "<br>\n",
    "\n",
    "But, actually, both of those implementations of Dijkstra's Algorithm are fairly inefficient and require checking all nodes for every node ($O(n^2)$?).  \n",
    "\n",
    "<br>\n",
    "\n",
    "This implementation uses a \"[priority queue](),\" and goes MUCH, MUCH faster: https://bradfieldcs.com/algos/graphs/dijkstras-algorithm/"
   ]
  },
  {
   "cell_type": "code",
   "execution_count": 6,
   "metadata": {},
   "outputs": [],
   "source": [
    "def get_neighbors(y, x, max_dim):\n",
    "    \"\"\"Return a list of [(y, x)] neighbor coordinates.\"\"\"\n",
    "\n",
    "    neighbors = [(y+1, x), (y-1, x), (y, x+1), (y, x-1)]\n",
    "    \n",
    "    # Filter out neighbors who have gone over the edge!\n",
    "    good_neighbors = list(filter(lambda n: 0 <= n[0] <= max_dim and 0 <= n[1] <= max_dim, neighbors))\n",
    "\n",
    "    return good_neighbors"
   ]
  },
  {
   "cell_type": "code",
   "execution_count": 7,
   "metadata": {},
   "outputs": [],
   "source": [
    "def make_graph(map):\n",
    "    \"\"\"Convert a map into a dictionary/graph with appropriate weight/risk values for each node.\"\"\"\n",
    "\n",
    "    graph = {}\n",
    "    # processed = []\n",
    "\n",
    "    max_dim = map.shape[0] - 1\n",
    "\n",
    "    for y in range(map.shape[0]):\n",
    "        for x in range(map.shape[1]):\n",
    "\n",
    "            # processed.append((y, x))\n",
    "            neighbors = get_neighbors(y, x, max_dim)\n",
    "\n",
    "            graph[(y, x)] = {}\n",
    "            for n in neighbors:\n",
    "                # if n not in processed:\n",
    "                graph[(y, x)][n] = map[n]\n",
    "\n",
    "    # Set the \"finish\" node to have no neighbors\n",
    "    graph[(map.shape[0]-1, map.shape[1]-1)] = {}\n",
    "\n",
    "    return graph"
   ]
  },
  {
   "cell_type": "code",
   "execution_count": 8,
   "metadata": {},
   "outputs": [
    {
     "data": {
      "text/plain": [
       "{(0, 0): {(1, 0): 1, (0, 1): 1},\n",
       " (0, 1): {(1, 1): 3, (0, 2): 6, (0, 0): 1},\n",
       " (0, 2): {(1, 2): 8, (0, 1): 1},\n",
       " (1, 0): {(2, 0): 2, (0, 0): 1, (1, 1): 3},\n",
       " (1, 1): {(2, 1): 1, (0, 1): 1, (1, 2): 8, (1, 0): 1},\n",
       " (1, 2): {(2, 2): 3, (0, 2): 6, (1, 1): 3},\n",
       " (2, 0): {(1, 0): 1, (2, 1): 1},\n",
       " (2, 1): {(1, 1): 3, (2, 2): 3, (2, 0): 2},\n",
       " (2, 2): {}}"
      ]
     },
     "execution_count": 8,
     "metadata": {},
     "output_type": "execute_result"
    }
   ],
   "source": [
    "smaller_test_risk_graph = make_graph(smaller_test_risk_map)\n",
    "smaller_test_risk_graph"
   ]
  },
  {
   "cell_type": "code",
   "execution_count": 9,
   "metadata": {},
   "outputs": [],
   "source": [
    "def make_risk_table(map):\n",
    "    \"\"\"Return a hash table for every node on the map. Set the risk values to infinity, except\n",
    "    for the first two neighbor nodes.\"\"\"\n",
    "\n",
    "    risk_table = {}\n",
    "\n",
    "    for y in range(map.shape[0]):\n",
    "        for x in range(map.shape[1]):\n",
    "            risk_table[(y, x)] = float('inf')\n",
    "\n",
    "    # Get risk values for starting node\n",
    "    max_dim = map.shape[0] - 1\n",
    "    start_neighbors = get_neighbors(0, 0, max_dim)\n",
    "    for n in start_neighbors:\n",
    "        risk_table[n] = map[n]\n",
    "\n",
    "    # Set starting node risk to 0\n",
    "    risk_table[(0, 0)] = 0\n",
    "\n",
    "    return risk_table"
   ]
  },
  {
   "cell_type": "code",
   "execution_count": 10,
   "metadata": {},
   "outputs": [
    {
     "data": {
      "text/plain": [
       "{(0, 0): 0,\n",
       " (0, 1): 1,\n",
       " (0, 2): inf,\n",
       " (1, 0): 1,\n",
       " (1, 1): inf,\n",
       " (1, 2): inf,\n",
       " (2, 0): inf,\n",
       " (2, 1): inf,\n",
       " (2, 2): inf}"
      ]
     },
     "execution_count": 10,
     "metadata": {},
     "output_type": "execute_result"
    }
   ],
   "source": [
    "smaller_test_risk_table = make_risk_table(smaller_test_risk_map)\n",
    "smaller_test_risk_table"
   ]
  },
  {
   "cell_type": "code",
   "execution_count": 11,
   "metadata": {},
   "outputs": [],
   "source": [
    "def find_lowest_risk_node(risk_table, processed_nodes):\n",
    "    \"\"\"Reten the node in the risk table with the lowest risk.\"\"\"\n",
    "    lowest_risk = float(\"inf\")\n",
    "    lowest_risk_node = None\n",
    "    \n",
    "    # Go through each node.  # KP: This is super inefficient!\n",
    "    for node in risk_table:\n",
    "        risk = risk_table[node]\n",
    "        \n",
    "        # If it's the lowest cost so far and hasn't been processed yet...\n",
    "        if risk < lowest_risk and node not in processed_nodes:\n",
    "            # ... set it as the new lowest-cost node.\n",
    "            lowest_risk = risk\n",
    "            lowest_risk_node = node\n",
    "\n",
    "    return lowest_risk_node"
   ]
  },
  {
   "cell_type": "code",
   "execution_count": 12,
   "metadata": {},
   "outputs": [],
   "source": [
    "def find_min_cum_risk(risk_graph, risk_table):\n",
    "    \"\"\"Use Dijkstra's algorithm to find the miniumum cumulative risk through the graph.\"\"\"\n",
    "    \n",
    "    processed_nodes = [(0, 0)]\n",
    "    node = find_lowest_risk_node(risk_table, processed_nodes)\n",
    "\n",
    "    while node is not None:\n",
    "\n",
    "        risk = risk_table[node]\n",
    "\n",
    "        # Go through all the neighbors of this node.\n",
    "        neighbors = risk_graph[node]\n",
    "        for n in neighbors.keys():\n",
    "            new_risk = risk + neighbors[n]\n",
    "\n",
    "            # If it's less risky to get to this neighbor by going through this node...\n",
    "            if new_risk < risk_table[n]:\n",
    "                # ... update the risk for this node.\n",
    "                risk_table[n] = new_risk\n",
    "\n",
    "        # Mark the node as processed.\n",
    "        processed_nodes.append(node)\n",
    "        # print(processed_nodes)\n",
    "\n",
    "        # Find the next node to process, and loop.\n",
    "        node = find_lowest_risk_node(risk_table, processed_nodes)\n",
    "\n",
    "    end_node = max(risk_table.keys())\n",
    "\n",
    "    return risk_table[end_node]"
   ]
  },
  {
   "cell_type": "code",
   "execution_count": 13,
   "metadata": {},
   "outputs": [],
   "source": [
    "def find1(current_min_node, unvisited_nodes, risk_table):\n",
    "    \"\"\"Slightly different implementation of find_lowest_risk_node().\n",
    "    From Udacity blog post on Dijkstra's algorithm.\n",
    "    \"\"\"\n",
    "\n",
    "    for node in unvisited_nodes: # Iterate over the nodes\n",
    "        if current_min_node == None:\n",
    "            current_min_node = node\n",
    "        elif risk_table[node] < risk_table[current_min_node]:\n",
    "            current_min_node = node\n",
    "\n",
    "    return current_min_node"
   ]
  },
  {
   "cell_type": "code",
   "execution_count": 14,
   "metadata": {},
   "outputs": [],
   "source": [
    "def find2(risk_table, unvisited):\n",
    "    \"\"\"My attempt at a slightly more efficient version of find1()\"\"\"\n",
    "\n",
    "    # Source: https://stackoverflow.com/questions/21584601/most-efficient-way-to-find-the-key-of-the-smallest-value-in-a-dictionary-from-a\n",
    "    min_node = min(risk_table.keys() & unvisited, key=risk_table.get)\n",
    "\n",
    "    return min_node"
   ]
  },
  {
   "cell_type": "code",
   "execution_count": 15,
   "metadata": {},
   "outputs": [],
   "source": [
    "def find_min_cum_risk2(risk_graph, risk_table):\n",
    "    \"\"\"Test out the Udacity implementation of Dijkstra's algorithm\"\"\"\n",
    "\n",
    "    unvisited_nodes = list(risk_table.keys())\n",
    "\n",
    "    while unvisited_nodes:\n",
    "\n",
    "        # The code block below finds the node with the lowest score\n",
    "        current_min_node = None\n",
    "\n",
    "        # KP: This seems very inefficient!\n",
    "        # current_min_node = find1(current_min_node, unvisited_nodes, risk_table)\n",
    "        # KP: Test a (hopefully more efficient) approach\n",
    "        current_min_node = find2(risk_table, unvisited_nodes)\n",
    "        # KP: Turn out, they're not terribly different. Ugh.\n",
    "\n",
    "        current_risk = risk_table[current_min_node]\n",
    "\n",
    "        # Go through all the neighbors of this node.\n",
    "        neighbors = risk_graph[current_min_node]\n",
    "        for n in neighbors.keys():\n",
    "            new_risk = current_risk + neighbors[n]\n",
    "\n",
    "            # If it's less risky to get to this neighbor by going through this node...\n",
    "            if new_risk < risk_table[n]:\n",
    "                # ... update the risk for this node.\n",
    "                risk_table[n] = new_risk\n",
    "\n",
    "        unvisited_nodes.remove(current_min_node)\n",
    "\n",
    "    end_node = max(risk_table.keys())\n",
    "\n",
    "    return risk_table[end_node]"
   ]
  },
  {
   "cell_type": "markdown",
   "metadata": {},
   "source": [
    "### Run on Test Data"
   ]
  },
  {
   "cell_type": "code",
   "execution_count": 16,
   "metadata": {},
   "outputs": [
    {
     "name": "stdout",
     "output_type": "stream",
     "text": [
      "Wall time: 0 ns\n"
     ]
    },
    {
     "data": {
      "text/plain": [
       "7"
      ]
     },
     "execution_count": 16,
     "metadata": {},
     "output_type": "execute_result"
    }
   ],
   "source": [
    "%time find_min_cum_risk(smaller_test_risk_graph, smaller_test_risk_table)  # Should return 7"
   ]
  },
  {
   "cell_type": "code",
   "execution_count": 17,
   "metadata": {},
   "outputs": [
    {
     "name": "stdout",
     "output_type": "stream",
     "text": [
      "Wall time: 0 ns\n"
     ]
    },
    {
     "data": {
      "text/plain": [
       "7"
      ]
     },
     "execution_count": 17,
     "metadata": {},
     "output_type": "execute_result"
    }
   ],
   "source": [
    "%time find_min_cum_risk2(smaller_test_risk_graph, smaller_test_risk_table)  # Should return 7"
   ]
  },
  {
   "cell_type": "code",
   "execution_count": 18,
   "metadata": {},
   "outputs": [
    {
     "name": "stdout",
     "output_type": "stream",
     "text": [
      "Wall time: 22 ms\n"
     ]
    },
    {
     "data": {
      "text/plain": [
       "40"
      ]
     },
     "execution_count": 18,
     "metadata": {},
     "output_type": "execute_result"
    }
   ],
   "source": [
    "test_risk_table = make_risk_table(test_risk_map)\n",
    "test_risk_graph = make_graph(test_risk_map)\n",
    "%time find_min_cum_risk(test_risk_graph, test_risk_table)  # Should return 40"
   ]
  },
  {
   "cell_type": "code",
   "execution_count": 19,
   "metadata": {},
   "outputs": [
    {
     "name": "stdout",
     "output_type": "stream",
     "text": [
      "Wall time: 2 ms\n"
     ]
    },
    {
     "data": {
      "text/plain": [
       "40"
      ]
     },
     "execution_count": 19,
     "metadata": {},
     "output_type": "execute_result"
    }
   ],
   "source": [
    "%time find_min_cum_risk2(test_risk_graph, test_risk_table)  # Should return 40"
   ]
  },
  {
   "cell_type": "markdown",
   "metadata": {},
   "source": [
    "### Run on Input Data"
   ]
  },
  {
   "cell_type": "code",
   "execution_count": 20,
   "metadata": {},
   "outputs": [
    {
     "name": "stdout",
     "output_type": "stream",
     "text": [
      "Wall time: 2min 26s\n"
     ]
    },
    {
     "data": {
      "text/plain": [
       "824"
      ]
     },
     "execution_count": 20,
     "metadata": {},
     "output_type": "execute_result"
    }
   ],
   "source": [
    "risk_table = make_risk_table(risk_map)\n",
    "risk_graph = make_graph(risk_map)\n",
    "%time find_min_cum_risk2(risk_graph, risk_table)"
   ]
  },
  {
   "cell_type": "markdown",
   "metadata": {},
   "source": [
    "### This one is the bomb.\n",
    "\n",
    "Source: https://bradfieldcs.com/algos/graphs/dijkstras-algorithm/\n",
    "\n",
    "The algorithm uses python's [heapq library](https://docs.python.org/3/library/heapq.html), which implements a min heap as the default, even though  \n",
    "a max heap is more cannnical. "
   ]
  },
  {
   "cell_type": "code",
   "execution_count": 21,
   "metadata": {},
   "outputs": [],
   "source": [
    "import heapq"
   ]
  },
  {
   "cell_type": "code",
   "execution_count": 22,
   "metadata": {},
   "outputs": [],
   "source": [
    "def calculate_risks(graph, starting_node):\n",
    "    \"\"\"Implementation of Dijkstra's agorithm, using a min heap priority queue.\n",
    "    Returns the cumulative risk for the path with the lowest cumulative risk through\n",
    "    the graph.\n",
    "    \"\"\"\n",
    "    risks = {node: float('infinity') for node in graph}\n",
    "    risks[starting_node] = 0\n",
    "\n",
    "    pq = [(0, starting_node)]  # Priqority Queue\n",
    "    while len(pq) > 0:\n",
    "        current_risk, current_node = heapq.heappop(pq)\n",
    "\n",
    "        # Nodes can get added to the priority queue multiple times.\n",
    "        # Only process a node the first time we remove it from the priority queue.\n",
    "        # KP: This isn't necessary.\n",
    "        if current_risk > risks[current_node]:\n",
    "            continue\n",
    "\n",
    "        for neighbor, next_risk in graph[current_node].items():\n",
    "            risk = current_risk + next_risk\n",
    "\n",
    "            # Only consider this new path if it's better than any path we've already found.\n",
    "            if risk < risks[neighbor]:\n",
    "                risks[neighbor] = risk\n",
    "                heapq.heappush(pq, (risk, neighbor))\n",
    "\n",
    "    end_node = max(graph)\n",
    "\n",
    "    return risks[end_node]"
   ]
  },
  {
   "cell_type": "code",
   "execution_count": 23,
   "metadata": {},
   "outputs": [
    {
     "name": "stdout",
     "output_type": "stream",
     "text": [
      "Wall time: 0 ns\n"
     ]
    },
    {
     "data": {
      "text/plain": [
       "7"
      ]
     },
     "execution_count": 23,
     "metadata": {},
     "output_type": "execute_result"
    }
   ],
   "source": [
    "%time calculate_risks(smaller_test_risk_graph, (0, 0))"
   ]
  },
  {
   "cell_type": "code",
   "execution_count": 24,
   "metadata": {},
   "outputs": [
    {
     "name": "stdout",
     "output_type": "stream",
     "text": [
      "Wall time: 0 ns\n"
     ]
    },
    {
     "data": {
      "text/plain": [
       "40"
      ]
     },
     "execution_count": 24,
     "metadata": {},
     "output_type": "execute_result"
    }
   ],
   "source": [
    "%time calculate_risks(test_risk_graph, (0, 0))"
   ]
  },
  {
   "cell_type": "code",
   "execution_count": 25,
   "metadata": {},
   "outputs": [
    {
     "name": "stdout",
     "output_type": "stream",
     "text": [
      "Wall time: 80 ms\n"
     ]
    },
    {
     "data": {
      "text/plain": [
       "824"
      ]
     },
     "execution_count": 25,
     "metadata": {},
     "output_type": "execute_result"
    }
   ],
   "source": [
    "%time calculate_risks(risk_graph, (0, 0))"
   ]
  },
  {
   "cell_type": "markdown",
   "metadata": {},
   "source": [
    "## Part 2\n",
    "---"
   ]
  },
  {
   "cell_type": "code",
   "execution_count": 26,
   "metadata": {},
   "outputs": [],
   "source": [
    "def make_bigger_map(map):\n",
    "    \"\"\"Make a copy of map that is 5x bigger, and risk values increase to the right and down.\n",
    "    Risk values wrap from 9 back to 1.\n",
    "    \"\"\"\n",
    "\n",
    "    map = map.copy()\n",
    "\n",
    "    rows = []\n",
    "    for j in range(5):\n",
    "        start_map = np.where(map + j <=9, map + j, (map + j) % 9)\n",
    "\n",
    "        row = []\n",
    "        for i in range(5):\n",
    "            i_map = np.where(start_map + i <= 9, start_map + i, (start_map + i) % 9)\n",
    "            row.append(i_map)\n",
    "\n",
    "        rows.append(np.concatenate(row, axis=1))\n",
    "\n",
    "    new_map = np.concatenate(rows, axis=0)\n",
    "\n",
    "    return new_map"
   ]
  },
  {
   "cell_type": "code",
   "execution_count": 27,
   "metadata": {},
   "outputs": [
    {
     "data": {
      "text/plain": [
       "array([[1, 1, 6, 2, 2, 7, 3, 3, 8, 4, 4, 9, 5, 5, 1],\n",
       "       [1, 3, 8, 2, 4, 9, 3, 5, 1, 4, 6, 2, 5, 7, 3],\n",
       "       [2, 1, 3, 3, 2, 4, 4, 3, 5, 5, 4, 6, 6, 5, 7],\n",
       "       [2, 2, 7, 3, 3, 8, 4, 4, 9, 5, 5, 1, 6, 6, 2],\n",
       "       [2, 4, 9, 3, 5, 1, 4, 6, 2, 5, 7, 3, 6, 8, 4],\n",
       "       [3, 2, 4, 4, 3, 5, 5, 4, 6, 6, 5, 7, 7, 6, 8],\n",
       "       [3, 3, 8, 4, 4, 9, 5, 5, 1, 6, 6, 2, 7, 7, 3],\n",
       "       [3, 5, 1, 4, 6, 2, 5, 7, 3, 6, 8, 4, 7, 9, 5],\n",
       "       [4, 3, 5, 5, 4, 6, 6, 5, 7, 7, 6, 8, 8, 7, 9],\n",
       "       [4, 4, 9, 5, 5, 1, 6, 6, 2, 7, 7, 3, 8, 8, 4],\n",
       "       [4, 6, 2, 5, 7, 3, 6, 8, 4, 7, 9, 5, 8, 1, 6],\n",
       "       [5, 4, 6, 6, 5, 7, 7, 6, 8, 8, 7, 9, 9, 8, 1],\n",
       "       [5, 5, 1, 6, 6, 2, 7, 7, 3, 8, 8, 4, 9, 9, 5],\n",
       "       [5, 7, 3, 6, 8, 4, 7, 9, 5, 8, 1, 6, 9, 2, 7],\n",
       "       [6, 5, 7, 7, 6, 8, 8, 7, 9, 9, 8, 1, 1, 9, 2]])"
      ]
     },
     "execution_count": 27,
     "metadata": {},
     "output_type": "execute_result"
    }
   ],
   "source": [
    "make_bigger_map(smaller_test_risk_map)"
   ]
  },
  {
   "cell_type": "markdown",
   "metadata": {},
   "source": [
    "### Run on Test Data"
   ]
  },
  {
   "cell_type": "code",
   "execution_count": 28,
   "metadata": {},
   "outputs": [
    {
     "data": {
      "text/plain": [
       "315"
      ]
     },
     "execution_count": 28,
     "metadata": {},
     "output_type": "execute_result"
    }
   ],
   "source": [
    "test_bigger_risk_map = make_bigger_map(test_risk_map)\n",
    "test_bigger_risk_graph = make_graph(test_bigger_risk_map)\n",
    "calculate_risks(test_bigger_risk_graph, (0, 0))  # Should return 315"
   ]
  },
  {
   "cell_type": "markdown",
   "metadata": {},
   "source": [
    "### Run on Input Data"
   ]
  },
  {
   "cell_type": "code",
   "execution_count": 29,
   "metadata": {},
   "outputs": [
    {
     "data": {
      "text/plain": [
       "3063"
      ]
     },
     "execution_count": 29,
     "metadata": {},
     "output_type": "execute_result"
    }
   ],
   "source": [
    "bigger_risk_map = make_bigger_map(risk_map)\n",
    "bigger_risk_graph = make_graph(bigger_risk_map)\n",
    "calculate_risks(bigger_risk_graph, (0, 0))"
   ]
  }
 ],
 "metadata": {
  "kernelspec": {
   "display_name": "Python 3",
   "language": "python",
   "name": "python3"
  },
  "language_info": {
   "codemirror_mode": {
    "name": "ipython",
    "version": 3
   },
   "file_extension": ".py",
   "mimetype": "text/x-python",
   "name": "python",
   "nbconvert_exporter": "python",
   "pygments_lexer": "ipython3",
   "version": "3.8.8"
  }
 },
 "nbformat": 4,
 "nbformat_minor": 4
}
