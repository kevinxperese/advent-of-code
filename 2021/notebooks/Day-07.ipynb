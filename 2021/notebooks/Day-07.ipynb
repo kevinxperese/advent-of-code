{
 "cells": [
  {
   "cell_type": "markdown",
   "metadata": {},
   "source": [
    "# --- Day 7:  The Treachery of Whales --- \n",
    "\n",
    "https://adventofcode.com/2021/day/7"
   ]
  },
  {
   "cell_type": "markdown",
   "metadata": {},
   "source": [
    "## Get Input Data"
   ]
  },
  {
   "cell_type": "code",
   "execution_count": 1,
   "metadata": {},
   "outputs": [
    {
     "data": {
      "text/plain": [
       "[1101, 1, 29, 67, 1102]"
      ]
     },
     "execution_count": 1,
     "metadata": {},
     "output_type": "execute_result"
    }
   ],
   "source": [
    "filename = 'crab_positions'\n",
    "with open(f'../inputs/{filename}.txt') as file:\n",
    "    crab_positions = [int(x) for x in file.readline().strip().split(',')]\n",
    "crab_positions[:5]"
   ]
  },
  {
   "cell_type": "code",
   "execution_count": 2,
   "metadata": {},
   "outputs": [],
   "source": [
    "test_crab_positions = [16,1,2,0,4,2,7,1,2,14]"
   ]
  },
  {
   "cell_type": "markdown",
   "metadata": {},
   "source": [
    "## Part 1\n",
    "---"
   ]
  },
  {
   "cell_type": "code",
   "execution_count": 3,
   "metadata": {},
   "outputs": [],
   "source": [
    "def calc_min_fuel_to_align(crab_positions):\n",
    "    \"\"\"Return the minimum amount of fuel required to align all the crabs to the same horizontal position.\n",
    "    \n",
    "    Each movement from initial position to initial position +/- 1 == 1 unit of fuel.\n",
    "    \"\"\"\n",
    "    \n",
    "    fuel_costs = {}\n",
    "    \n",
    "    for p in range(max(crab_positions)):\n",
    "        fuel_cost = []\n",
    "        for cp in crab_positions:\n",
    "            fuel_cost.append(abs(p - cp))\n",
    "        \n",
    "        fuel_costs[p] = sum(fuel_cost)\n",
    "    \n",
    "    return min(fuel_costs.values())"
   ]
  },
  {
   "cell_type": "markdown",
   "metadata": {},
   "source": [
    "### Run on Test Data"
   ]
  },
  {
   "cell_type": "code",
   "execution_count": 4,
   "metadata": {},
   "outputs": [
    {
     "data": {
      "text/plain": [
       "37"
      ]
     },
     "execution_count": 4,
     "metadata": {},
     "output_type": "execute_result"
    }
   ],
   "source": [
    "calc_min_fuel_to_align(test_crab_positions) # Should return 37"
   ]
  },
  {
   "cell_type": "markdown",
   "metadata": {},
   "source": [
    "### Run on Input Data"
   ]
  },
  {
   "cell_type": "code",
   "execution_count": 5,
   "metadata": {},
   "outputs": [
    {
     "data": {
      "text/plain": [
       "355592"
      ]
     },
     "execution_count": 5,
     "metadata": {},
     "output_type": "execute_result"
    }
   ],
   "source": [
    "calc_min_fuel_to_align(crab_positions)"
   ]
  },
  {
   "cell_type": "markdown",
   "metadata": {},
   "source": [
    "## Part 2\n",
    "---"
   ]
  },
  {
   "cell_type": "code",
   "execution_count": 6,
   "metadata": {},
   "outputs": [],
   "source": [
    "def calc_min_fuel_to_align_2(crab_positions):\n",
    "    \"\"\"Return the minimum amount of fuel required to align all the crabs to the same horizontal position.\n",
    "    \n",
    "    Each movement from initial position to aligned position +/- n == n units of fuel.\n",
    "    That is, the cost follows a triangular number pattern: https://en.wikipedia.org/wiki/Triangular_number, \n",
    "    \n",
    "    The formula, for TN(n) = (n * (n+1) / 2).\n",
    "    \n",
    "    \"One Hippo, alone once more, misses the other 44.\"\n",
    "    https://www.amazon.com/Hippos-Go-Berserk-Sandra-Boynton/dp/0689834349\n",
    "    \"\"\"\n",
    "    \n",
    "    fuel_costs = {}\n",
    "    \n",
    "    for p in range(max(crab_positions)):\n",
    "        fuel_cost = []\n",
    "        for cp in crab_positions:\n",
    "            diff = abs(p - cp)\n",
    "            fuel_cost.append((diff * (diff+1)) / 2)\n",
    "        fuel_costs[p] = sum(fuel_cost)\n",
    "    \n",
    "    return min(fuel_costs.values())"
   ]
  },
  {
   "cell_type": "markdown",
   "metadata": {},
   "source": [
    "### Run on Test Data"
   ]
  },
  {
   "cell_type": "code",
   "execution_count": 7,
   "metadata": {},
   "outputs": [
    {
     "data": {
      "text/plain": [
       "168.0"
      ]
     },
     "execution_count": 7,
     "metadata": {},
     "output_type": "execute_result"
    }
   ],
   "source": [
    "calc_min_fuel_to_align_2(test_crab_positions)  # Should return 168"
   ]
  },
  {
   "cell_type": "markdown",
   "metadata": {},
   "source": [
    "### Run on Input Data"
   ]
  },
  {
   "cell_type": "code",
   "execution_count": 8,
   "metadata": {},
   "outputs": [
    {
     "data": {
      "text/plain": [
       "101618069.0"
      ]
     },
     "execution_count": 8,
     "metadata": {},
     "output_type": "execute_result"
    }
   ],
   "source": [
    "calc_min_fuel_to_align_2(crab_positions) "
   ]
  }
 ],
 "metadata": {
  "kernelspec": {
   "display_name": "Python 3",
   "language": "python",
   "name": "python3"
  },
  "language_info": {
   "codemirror_mode": {
    "name": "ipython",
    "version": 3
   },
   "file_extension": ".py",
   "mimetype": "text/x-python",
   "name": "python",
   "nbconvert_exporter": "python",
   "pygments_lexer": "ipython3",
   "version": "3.8.8"
  }
 },
 "nbformat": 4,
 "nbformat_minor": 4
}
