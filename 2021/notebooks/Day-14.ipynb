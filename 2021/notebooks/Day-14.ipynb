{
 "cells": [
  {
   "cell_type": "markdown",
   "metadata": {},
   "source": [
    "# --- Day 14: Extended Polymerization --- \n",
    "\n",
    "https://adventofcode.com/2021/day/14"
   ]
  },
  {
   "cell_type": "markdown",
   "metadata": {},
   "source": [
    "## Get Input Data"
   ]
  },
  {
   "cell_type": "code",
   "execution_count": 1,
   "metadata": {},
   "outputs": [],
   "source": [
    "def parse_data(filename):\n",
    "    \"\"\"Read in polymer template and pair insertion data.\"\"\"\n",
    "    \n",
    "    with open(f'../inputs/{filename}') as file:\n",
    "        lines = [line.strip() for line in file.readlines()]\n",
    "\n",
    "    polymer_template = lines[0]\n",
    "\n",
    "    pair_insertion_rules = {}\n",
    "    for line in lines[2:]:\n",
    "        # For each key, create a value that contains list of two items.\n",
    "        # v[0] => The first two characters (this will get used most of the time)\n",
    "        # v[1] => The full insertion string with all three characters\n",
    "        # For most insertions, use v[0]; for the last insertion use v[1]\n",
    "        pair_insertion_rules[line[:2]] = [line[0] + line[-1], line[0] + line[-1] + line[1]] \n",
    "\n",
    "    return polymer_template, pair_insertion_rules"
   ]
  },
  {
   "cell_type": "code",
   "execution_count": 2,
   "metadata": {},
   "outputs": [
    {
     "data": {
      "text/plain": [
       "('NNCB',\n",
       " {'CH': ['CB', 'CBH'],\n",
       "  'HH': ['HN', 'HNH'],\n",
       "  'CB': ['CH', 'CHB'],\n",
       "  'NH': ['NC', 'NCH'],\n",
       "  'HB': ['HC', 'HCB'],\n",
       "  'HC': ['HB', 'HBC'],\n",
       "  'HN': ['HC', 'HCN'],\n",
       "  'NN': ['NC', 'NCN'],\n",
       "  'BH': ['BH', 'BHH'],\n",
       "  'NC': ['NB', 'NBC'],\n",
       "  'NB': ['NB', 'NBB'],\n",
       "  'BN': ['BB', 'BBN'],\n",
       "  'BB': ['BN', 'BNB'],\n",
       "  'BC': ['BB', 'BBC'],\n",
       "  'CC': ['CN', 'CNC'],\n",
       "  'CN': ['CC', 'CCN']})"
      ]
     },
     "execution_count": 2,
     "metadata": {},
     "output_type": "execute_result"
    }
   ],
   "source": [
    "test_polymer_template, test_pair_insertion_rules = parse_data('test_polymer_data.txt')\n",
    "test_polymer_template, test_pair_insertion_rules"
   ]
  },
  {
   "cell_type": "code",
   "execution_count": 3,
   "metadata": {},
   "outputs": [],
   "source": [
    "polymer_template, pair_insertion_rules = parse_data('polymer_data.txt')"
   ]
  },
  {
   "cell_type": "markdown",
   "metadata": {},
   "source": [
    "## Part 1\n",
    "---"
   ]
  },
  {
   "cell_type": "code",
   "execution_count": 4,
   "metadata": {},
   "outputs": [],
   "source": [
    "from more_itertools import pairwise\n",
    "from collections import Counter"
   ]
  },
  {
   "cell_type": "code",
   "execution_count": 5,
   "metadata": {},
   "outputs": [
    {
     "data": {
      "text/plain": [
       "<generator object _pairwise at 0x00000132B8980900>"
      ]
     },
     "execution_count": 5,
     "metadata": {},
     "output_type": "execute_result"
    }
   ],
   "source": [
    "pairwise(test_polymer_template)"
   ]
  },
  {
   "cell_type": "code",
   "execution_count": 6,
   "metadata": {},
   "outputs": [],
   "source": [
    "def calc_part_1(template, rules, num_steps):\n",
    "    \"\"\"Return the difference of the most and least common counts of a polymer template, \n",
    "    after pair insertion rules have been applied for num_steps.\n",
    "    \"\"\"\n",
    "\n",
    "    for _ in range(num_steps):\n",
    "        pairs = list(pairwise(template))\n",
    "\n",
    "        next_template = ''\n",
    "        for i, pair in enumerate(pairs):\n",
    "            if i != len(pairs) - 1:\n",
    "                next_template += ''.join(rules[''.join(pair)][0])  # Most insertions just take the first two chars\n",
    "            else:\n",
    "                next_template += ''.join(rules[''.join(pair)][1])  # The last insertion takes all three\n",
    "\n",
    "        template = next_template\n",
    "\n",
    "    counts = Counter(template)\n",
    "\n",
    "    most_common = counts.most_common()[0][1]\n",
    "    least_common = counts.most_common()[-1][1]\n",
    "    diff = most_common - least_common\n",
    "\n",
    "    return diff\n"
   ]
  },
  {
   "cell_type": "markdown",
   "metadata": {},
   "source": [
    "### Run on Test Data"
   ]
  },
  {
   "cell_type": "code",
   "execution_count": 7,
   "metadata": {},
   "outputs": [
    {
     "data": {
      "text/plain": [
       "1588"
      ]
     },
     "execution_count": 7,
     "metadata": {},
     "output_type": "execute_result"
    }
   ],
   "source": [
    "calc_part_1(test_polymer_template, test_pair_insertion_rules, 10)  # Should return 1588"
   ]
  },
  {
   "cell_type": "markdown",
   "metadata": {},
   "source": [
    "### Run on Input Data"
   ]
  },
  {
   "cell_type": "code",
   "execution_count": 8,
   "metadata": {},
   "outputs": [
    {
     "data": {
      "text/plain": [
       "3118"
      ]
     },
     "execution_count": 8,
     "metadata": {},
     "output_type": "execute_result"
    }
   ],
   "source": [
    "calc_part_1(polymer_template, pair_insertion_rules, 10)"
   ]
  },
  {
   "cell_type": "markdown",
   "metadata": {},
   "source": [
    "## Part 2\n",
    "---"
   ]
  },
  {
   "cell_type": "code",
   "execution_count": null,
   "metadata": {},
   "outputs": [],
   "source": []
  },
  {
   "cell_type": "markdown",
   "metadata": {},
   "source": [
    "### Run on Test Data"
   ]
  },
  {
   "cell_type": "code",
   "execution_count": null,
   "metadata": {},
   "outputs": [],
   "source": []
  },
  {
   "cell_type": "markdown",
   "metadata": {},
   "source": [
    "### Run on Input Data"
   ]
  },
  {
   "cell_type": "code",
   "execution_count": null,
   "metadata": {},
   "outputs": [],
   "source": []
  }
 ],
 "metadata": {
  "kernelspec": {
   "display_name": "Python 3",
   "language": "python",
   "name": "python3"
  },
  "language_info": {
   "codemirror_mode": {
    "name": "ipython",
    "version": 3
   },
   "file_extension": ".py",
   "mimetype": "text/x-python",
   "name": "python",
   "nbconvert_exporter": "python",
   "pygments_lexer": "ipython3",
   "version": "3.8.8"
  }
 },
 "nbformat": 4,
 "nbformat_minor": 4
}
