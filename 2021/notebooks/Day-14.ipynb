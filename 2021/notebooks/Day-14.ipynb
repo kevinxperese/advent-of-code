{
 "cells": [
  {
   "cell_type": "markdown",
   "metadata": {},
   "source": [
    "# --- Day 14: Extended Polymerization --- \n",
    "\n",
    "https://adventofcode.com/2021/day/14"
   ]
  },
  {
   "cell_type": "markdown",
   "metadata": {},
   "source": [
    "## Get Input Data"
   ]
  },
  {
   "cell_type": "code",
   "execution_count": 1,
   "metadata": {},
   "outputs": [],
   "source": [
    "def parse_data(filename):\n",
    "    \"\"\"Read in polymer template and pair insertion data.\"\"\"\n",
    "    \n",
    "    with open(f'../inputs/{filename}') as file:\n",
    "        lines = [line.strip() for line in file.readlines()]\n",
    "\n",
    "    polymer_template = lines[0]\n",
    "\n",
    "    pair_insertion_rules = {}\n",
    "    for line in lines[2:]:\n",
    "        # For each key, create a value that contains list of two items.\n",
    "        # v[0] => The first two characters (this will get used most of the time)\n",
    "        # v[1] => The full insertion string with all three characters\n",
    "        # For most insertions, use v[0]; for the last insertion use v[1]\n",
    "        pair_insertion_rules[line[:2]] = {\n",
    "            '2_chars' : line[0] + line[-1], \n",
    "            '3_chars' : line[0] + line[-1] + line[1],\n",
    "            'new_pairs' : [line[0] + line[-1], line[-1] + line[1]]\n",
    "        }\n",
    "\n",
    "    return polymer_template, pair_insertion_rules"
   ]
  },
  {
   "cell_type": "code",
   "execution_count": 2,
   "metadata": {},
   "outputs": [
    {
     "data": {
      "text/plain": [
       "('NNCB',\n",
       " {'CH': {'2_chars': 'CB', '3_chars': 'CBH', 'new_pairs': ['CB', 'BH']},\n",
       "  'HH': {'2_chars': 'HN', '3_chars': 'HNH', 'new_pairs': ['HN', 'NH']},\n",
       "  'CB': {'2_chars': 'CH', '3_chars': 'CHB', 'new_pairs': ['CH', 'HB']},\n",
       "  'NH': {'2_chars': 'NC', '3_chars': 'NCH', 'new_pairs': ['NC', 'CH']},\n",
       "  'HB': {'2_chars': 'HC', '3_chars': 'HCB', 'new_pairs': ['HC', 'CB']},\n",
       "  'HC': {'2_chars': 'HB', '3_chars': 'HBC', 'new_pairs': ['HB', 'BC']},\n",
       "  'HN': {'2_chars': 'HC', '3_chars': 'HCN', 'new_pairs': ['HC', 'CN']},\n",
       "  'NN': {'2_chars': 'NC', '3_chars': 'NCN', 'new_pairs': ['NC', 'CN']},\n",
       "  'BH': {'2_chars': 'BH', '3_chars': 'BHH', 'new_pairs': ['BH', 'HH']},\n",
       "  'NC': {'2_chars': 'NB', '3_chars': 'NBC', 'new_pairs': ['NB', 'BC']},\n",
       "  'NB': {'2_chars': 'NB', '3_chars': 'NBB', 'new_pairs': ['NB', 'BB']},\n",
       "  'BN': {'2_chars': 'BB', '3_chars': 'BBN', 'new_pairs': ['BB', 'BN']},\n",
       "  'BB': {'2_chars': 'BN', '3_chars': 'BNB', 'new_pairs': ['BN', 'NB']},\n",
       "  'BC': {'2_chars': 'BB', '3_chars': 'BBC', 'new_pairs': ['BB', 'BC']},\n",
       "  'CC': {'2_chars': 'CN', '3_chars': 'CNC', 'new_pairs': ['CN', 'NC']},\n",
       "  'CN': {'2_chars': 'CC', '3_chars': 'CCN', 'new_pairs': ['CC', 'CN']}})"
      ]
     },
     "execution_count": 2,
     "metadata": {},
     "output_type": "execute_result"
    }
   ],
   "source": [
    "test_polymer_template, test_pair_insertion_rules = parse_data('test_polymer_data.txt')\n",
    "test_polymer_template, test_pair_insertion_rules"
   ]
  },
  {
   "cell_type": "code",
   "execution_count": 3,
   "metadata": {},
   "outputs": [],
   "source": [
    "polymer_template, pair_insertion_rules = parse_data('polymer_data.txt')"
   ]
  },
  {
   "cell_type": "markdown",
   "metadata": {},
   "source": [
    "## Part 1\n",
    "---"
   ]
  },
  {
   "cell_type": "code",
   "execution_count": 4,
   "metadata": {},
   "outputs": [],
   "source": [
    "from more_itertools import pairwise\n",
    "from collections import Counter"
   ]
  },
  {
   "cell_type": "code",
   "execution_count": 5,
   "metadata": {},
   "outputs": [],
   "source": [
    "def calc_part_1(template, rules, num_steps):\n",
    "    \"\"\"Return the difference of the most and least common counts of a polymer template, \n",
    "    after pair insertion rules have been applied for num_steps.\n",
    "    \"\"\"\n",
    "\n",
    "    for _ in range(num_steps):\n",
    "        pairs = list(pairwise(template))\n",
    "\n",
    "        next_template = ''\n",
    "        for i, pair in enumerate(pairs):\n",
    "            \n",
    "            # Most insertions, append just the first two characters\n",
    "            if i != len(pairs) - 1:\n",
    "                next_template += ''.join(rules[''.join(pair)]['2_chars'])\n",
    "            \n",
    "            # For the last last insertion, insertion, append all three\n",
    "            else:\n",
    "                next_template += ''.join(rules[''.join(pair)]['3_chars'])\n",
    "\n",
    "        template = next_template\n",
    "\n",
    "    counts = Counter(template)\n",
    "\n",
    "    most_common = counts.most_common()[0][1]\n",
    "    least_common = counts.most_common()[-1][1]\n",
    "    diff = most_common - least_common\n",
    "\n",
    "    return diff"
   ]
  },
  {
   "cell_type": "markdown",
   "metadata": {},
   "source": [
    "### Run on Test Data"
   ]
  },
  {
   "cell_type": "code",
   "execution_count": 6,
   "metadata": {},
   "outputs": [
    {
     "data": {
      "text/plain": [
       "1588"
      ]
     },
     "execution_count": 6,
     "metadata": {},
     "output_type": "execute_result"
    }
   ],
   "source": [
    "calc_part_1(test_polymer_template, test_pair_insertion_rules, 10)  # Should return 1588"
   ]
  },
  {
   "cell_type": "markdown",
   "metadata": {},
   "source": [
    "### Run on Input Data"
   ]
  },
  {
   "cell_type": "code",
   "execution_count": 7,
   "metadata": {},
   "outputs": [
    {
     "data": {
      "text/plain": [
       "3118"
      ]
     },
     "execution_count": 7,
     "metadata": {},
     "output_type": "execute_result"
    }
   ],
   "source": [
    "calc_part_1(polymer_template, pair_insertion_rules, 10)"
   ]
  },
  {
   "cell_type": "markdown",
   "metadata": {},
   "source": [
    "## Part 2\n",
    "---"
   ]
  },
  {
   "cell_type": "markdown",
   "metadata": {},
   "source": [
    "Part 2 is another \"Your answer to Part 1 was probably too naive/inefficient.\" type of problem.\n",
    "\n",
    "Gotta run this one out 40 steps (instead of 10).\n",
    "\n",
    "I'm thinking I need to just keep track of the counts, and **NOT** try to build a new template at each step."
   ]
  },
  {
   "cell_type": "code",
   "execution_count": 8,
   "metadata": {},
   "outputs": [],
   "source": [
    "from copy import copy \n",
    "\n",
    "def calc_part_2(template, rules, num_steps):\n",
    "    \"\"\"Return the difference of the most and least common counts of a polymer template, \n",
    "    after pair insertion rules have been applied for num_steps.\n",
    "    \"\"\"\n",
    "\n",
    "    first_char = template[0]\n",
    "\n",
    "    pairs = [''.join(p) for p in pairwise(template)]\n",
    "    pairs_counts = Counter(pairs)\n",
    "\n",
    "    for _ in range(num_steps):\n",
    "\n",
    "        old_pairs = pairs_counts.copy()\n",
    "        new_pairs = Counter()\n",
    "\n",
    "        for pair in list(pairs_counts):\n",
    "\n",
    "            # Calc new pairs\n",
    "            for p in rules[pair]['new_pairs']:\n",
    "                new_pairs[p] += pairs_counts[pair]\n",
    "\n",
    "        # Subtract pre-insertion pairs and add in new pairs\n",
    "        pairs_counts = pairs_counts - old_pairs + new_pairs\n",
    "\n",
    "    # After all the steps, only count up the second portion of each pair\n",
    "    single_char_counts = Counter()\n",
    "    for p in pairs_counts:\n",
    "        single_char_counts[p[1]] += pairs_counts[p]\n",
    "\n",
    "    # Then add in a count for the first character in the template\n",
    "    single_char_counts[first_char] += 1\n",
    "\n",
    "    most_common = single_char_counts.most_common()[0][1]\n",
    "    least_common = single_char_counts.most_common()[-1][1]\n",
    "    diff = most_common - least_common\n",
    "\n",
    "    return diff"
   ]
  },
  {
   "cell_type": "markdown",
   "metadata": {},
   "source": [
    "### Run on Test Data"
   ]
  },
  {
   "cell_type": "code",
   "execution_count": 9,
   "metadata": {},
   "outputs": [
    {
     "data": {
      "text/plain": [
       "1588"
      ]
     },
     "execution_count": 9,
     "metadata": {},
     "output_type": "execute_result"
    }
   ],
   "source": [
    "calc_part_2(test_polymer_template, test_pair_insertion_rules, 10)  # Should return 1588, just like in part 1"
   ]
  },
  {
   "cell_type": "code",
   "execution_count": 10,
   "metadata": {},
   "outputs": [
    {
     "data": {
      "text/plain": [
       "2188189693529"
      ]
     },
     "execution_count": 10,
     "metadata": {},
     "output_type": "execute_result"
    }
   ],
   "source": [
    "calc_part_2(test_polymer_template, test_pair_insertion_rules, 40)  # Should return 2188189693529"
   ]
  },
  {
   "cell_type": "markdown",
   "metadata": {},
   "source": [
    "### Run on Input Data"
   ]
  },
  {
   "cell_type": "code",
   "execution_count": 11,
   "metadata": {},
   "outputs": [
    {
     "data": {
      "text/plain": [
       "4332887448171"
      ]
     },
     "execution_count": 11,
     "metadata": {},
     "output_type": "execute_result"
    }
   ],
   "source": [
    "calc_part_2(polymer_template, pair_insertion_rules, 40)"
   ]
  }
 ],
 "metadata": {
  "kernelspec": {
   "display_name": "Python 3",
   "language": "python",
   "name": "python3"
  },
  "language_info": {
   "codemirror_mode": {
    "name": "ipython",
    "version": 3
   },
   "file_extension": ".py",
   "mimetype": "text/x-python",
   "name": "python",
   "nbconvert_exporter": "python",
   "pygments_lexer": "ipython3",
   "version": "3.8.8"
  }
 },
 "nbformat": 4,
 "nbformat_minor": 4
}
