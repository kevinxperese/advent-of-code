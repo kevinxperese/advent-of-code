{
 "cells": [
  {
   "cell_type": "markdown",
   "metadata": {},
   "source": [
    "# --- Day 14: Extended Polymerization --- \n",
    "\n",
    "https://adventofcode.com/2021/day/14"
   ]
  },
  {
   "cell_type": "markdown",
   "metadata": {},
   "source": [
    "## Get Input Data"
   ]
  },
  {
   "cell_type": "code",
   "execution_count": 2,
   "metadata": {},
   "outputs": [],
   "source": [
    "def parse_data(filename):\n",
    "    \"\"\"Read in polymer template and pair insertion data.\"\"\"\n",
    "    \n",
    "    with open(f'../inputs/{filename}') as file:\n",
    "        lines = [line.strip() for line in file.readlines()]\n",
    "\n",
    "    polymer_template = lines[0]\n",
    "\n",
    "    pair_insertion_rules = {}\n",
    "    for line in lines[2:]:\n",
    "        # For each key, create a value that contains list of two items.\n",
    "        # v[0] => The first two characters (this will get used most of the time)\n",
    "        # v[1] => The full insertion string with all three characters\n",
    "        # For most insertions, use v[0]; for the last insertion use v[1]\n",
    "        pair_insertion_rules[line[:2]] = {\n",
    "            '2_chars' : line[0] + line[-1], \n",
    "            '3_chars' : line[0] + line[-1] + line[1],\n",
    "            'new_pairs' : [line[0] + line[-1], line[-1] + line[1]]\n",
    "        }\n",
    "\n",
    "    return polymer_template, pair_insertion_rules"
   ]
  },
  {
   "cell_type": "code",
   "execution_count": 3,
   "metadata": {},
   "outputs": [
    {
     "data": {
      "text/plain": [
       "('NNCB',\n",
       " {'CH': {'2_chars': 'CB', '3_chars': 'CBH', 'new_pairs': ['CB', 'BH']},\n",
       "  'HH': {'2_chars': 'HN', '3_chars': 'HNH', 'new_pairs': ['HN', 'NH']},\n",
       "  'CB': {'2_chars': 'CH', '3_chars': 'CHB', 'new_pairs': ['CH', 'HB']},\n",
       "  'NH': {'2_chars': 'NC', '3_chars': 'NCH', 'new_pairs': ['NC', 'CH']},\n",
       "  'HB': {'2_chars': 'HC', '3_chars': 'HCB', 'new_pairs': ['HC', 'CB']},\n",
       "  'HC': {'2_chars': 'HB', '3_chars': 'HBC', 'new_pairs': ['HB', 'BC']},\n",
       "  'HN': {'2_chars': 'HC', '3_chars': 'HCN', 'new_pairs': ['HC', 'CN']},\n",
       "  'NN': {'2_chars': 'NC', '3_chars': 'NCN', 'new_pairs': ['NC', 'CN']},\n",
       "  'BH': {'2_chars': 'BH', '3_chars': 'BHH', 'new_pairs': ['BH', 'HH']},\n",
       "  'NC': {'2_chars': 'NB', '3_chars': 'NBC', 'new_pairs': ['NB', 'BC']},\n",
       "  'NB': {'2_chars': 'NB', '3_chars': 'NBB', 'new_pairs': ['NB', 'BB']},\n",
       "  'BN': {'2_chars': 'BB', '3_chars': 'BBN', 'new_pairs': ['BB', 'BN']},\n",
       "  'BB': {'2_chars': 'BN', '3_chars': 'BNB', 'new_pairs': ['BN', 'NB']},\n",
       "  'BC': {'2_chars': 'BB', '3_chars': 'BBC', 'new_pairs': ['BB', 'BC']},\n",
       "  'CC': {'2_chars': 'CN', '3_chars': 'CNC', 'new_pairs': ['CN', 'NC']},\n",
       "  'CN': {'2_chars': 'CC', '3_chars': 'CCN', 'new_pairs': ['CC', 'CN']}})"
      ]
     },
     "execution_count": 3,
     "metadata": {},
     "output_type": "execute_result"
    }
   ],
   "source": [
    "test_polymer_template, test_pair_insertion_rules = parse_data('test_polymer_data.txt')\n",
    "test_polymer_template, test_pair_insertion_rules"
   ]
  },
  {
   "cell_type": "code",
   "execution_count": 4,
   "metadata": {},
   "outputs": [],
   "source": [
    "polymer_template, pair_insertion_rules = parse_data('polymer_data.txt')"
   ]
  },
  {
   "cell_type": "markdown",
   "metadata": {},
   "source": [
    "## Part 1\n",
    "---"
   ]
  },
  {
   "cell_type": "code",
   "execution_count": 5,
   "metadata": {},
   "outputs": [],
   "source": [
    "from more_itertools import pairwise\n",
    "from collections import Counter"
   ]
  },
  {
   "cell_type": "code",
   "execution_count": 6,
   "metadata": {},
   "outputs": [],
   "source": [
    "def calc_part_1(template, rules, num_steps):\n",
    "    \"\"\"Return the difference of the most and least common counts of a polymer template, \n",
    "    after pair insertion rules have been applied for num_steps.\n",
    "    \"\"\"\n",
    "\n",
    "    for _ in range(num_steps):\n",
    "        pairs = list(pairwise(template))\n",
    "\n",
    "        next_template = ''\n",
    "        for i, pair in enumerate(pairs):\n",
    "            \n",
    "            # Most insertions, append just the first two characters\n",
    "            if i != len(pairs) - 1:\n",
    "                next_template += ''.join(rules[''.join(pair)]['2_chars'])\n",
    "            \n",
    "            # For the last last insertion, insertion, append all three\n",
    "            else:\n",
    "                next_template += ''.join(rules[''.join(pair)]['3_chars'])\n",
    "\n",
    "        template = next_template\n",
    "\n",
    "    counts = Counter(template)\n",
    "\n",
    "    most_common = counts.most_common()[0][1]\n",
    "    least_common = counts.most_common()[-1][1]\n",
    "    diff = most_common - least_common\n",
    "\n",
    "    return diff"
   ]
  },
  {
   "cell_type": "markdown",
   "metadata": {},
   "source": [
    "### Run on Test Data"
   ]
  },
  {
   "cell_type": "code",
   "execution_count": 7,
   "metadata": {},
   "outputs": [
    {
     "data": {
      "text/plain": [
       "1588"
      ]
     },
     "execution_count": 7,
     "metadata": {},
     "output_type": "execute_result"
    }
   ],
   "source": [
    "calc_part_1(test_polymer_template, test_pair_insertion_rules, 10)  # Should return 1588"
   ]
  },
  {
   "cell_type": "markdown",
   "metadata": {},
   "source": [
    "### Run on Input Data"
   ]
  },
  {
   "cell_type": "code",
   "execution_count": 8,
   "metadata": {},
   "outputs": [
    {
     "data": {
      "text/plain": [
       "3118"
      ]
     },
     "execution_count": 8,
     "metadata": {},
     "output_type": "execute_result"
    }
   ],
   "source": [
    "calc_part_1(polymer_template, pair_insertion_rules, 10)"
   ]
  },
  {
   "cell_type": "markdown",
   "metadata": {},
   "source": [
    "## Part 2\n",
    "---"
   ]
  },
  {
   "cell_type": "markdown",
   "metadata": {},
   "source": [
    "Part 2 is another \"Your answer to Part 1 was probably too naive/inefficient.\" type of problem.\n",
    "\n",
    "Gotta run this one out 40 steps (instead of 10).\n",
    "\n",
    "I'm thinking I need to just keep track of the counts, and **NOT** try to build a new template at each step."
   ]
  },
  {
   "cell_type": "code",
   "execution_count": null,
   "metadata": {},
   "outputs": [],
   "source": [
    "def calc_part_2(template, rules, num_steps):\n",
    "    \"\"\"Return the difference of the most and least common counts of a polymer template, \n",
    "    after pair insertion rules have been applied for num_steps.\n",
    "    \"\"\"\n",
    "\n",
    "    first_char = template[0]\n",
    "\n",
    "    pairs = [''.join(p) for p in pairwise(template)]\n",
    "    pairs_counts = Counter(pairs)\n",
    "\n",
    "\n",
    "    for i in range(num_steps):\n",
    "        print(f'\\nstep {i+1}')\n",
    "        print(f'beginning pairs counts: {pairs_counts}')\n",
    "\n",
    "        foo = list(pairs_counts)  # old\n",
    "        bar = []                  # new\n",
    "        \n",
    "        old_pairs = Counter(list(pairs_counts))  # This makes a copy of pairs_counts?\n",
    "        # new_pairs = Counter()\n",
    "        new_pairs = []   ################  THIS IS BLOWING UP!!!!! I CAN'T USE THIS.\n",
    "        for pair in list(pairs_counts):\n",
    "            # count_of_pair = pairs_counts[pair]\n",
    "            # print(pair, count_of_pair)\n",
    "\n",
    "            # Add new pairs\n",
    "            # for p in rules[pair]['new_pairs']:\n",
    "            #     # print(f'pair: {pair}, p: {p}, pairs_counts[pair]: {pairs_counts[pair]}')\n",
    "            #     # pairs_counts[p] += pairs_counts[pair]\n",
    "            #     new_pairs[p] += pairs_counts[pair]\n",
    "\n",
    "\n",
    "            # Subtract old pairs\n",
    "            # pairs_counts[pair] -= count_of_pair\n",
    "\n",
    "            # bar += rules[pair]['new_pairs'] * pairs_counts[pair]\n",
    "            new_pairs += rules[pair]['new_pairs'] * pairs_counts[pair]\n",
    "\n",
    "            # # if pair == first_pair:\n",
    "            # #     first_pair = new_pairs[0]\n",
    "\n",
    "            # if i == 2: print(f'old pair: {pair}  --> new pairs: {new_pairs}')\n",
    "            # pairs_counts[pair] -= 1  # Reset to 0?\n",
    "            # pairs_counts += Counter(new_pairs)   # Then add in the new pairs created in its place\n",
    "            # if i == 2: print(f'pair counts after adding new pairs: {pairs_counts}')\n",
    "\n",
    "        # print(f'step {i+1}\\nlen of old pairs: {len(old_pairs)}\\nlen new pairs: {len(new_pairs)}')\n",
    "        # # Subtract old pairs\n",
    "        for pair in old_pairs:\n",
    "        #     # if i == 2: print(f'old pair: {pair} --> new pairs: {new_pairs}')\n",
    "            pairs_counts[pair] -= pairs_counts[pair]\n",
    "\n",
    "        # # # print(f'Old counts to remove: {Counter(old_pairs)}')\n",
    "        # # # print(f'new pairs to add: {Counter(new_pairs)}')\n",
    "        # Then add new pairs\n",
    "        pairs_counts += Counter(new_pairs)\n",
    "\n",
    "        # print(f'Old counts to remove: {old_pairs}')\n",
    "        # print(f'new pairs to add: {new_pairs}')\n",
    "\n",
    "        # pairs_counts = pairs_counts - old_pairs + new_pairs\n",
    "\n",
    "        print(f'ending pairs counts: {pairs_counts}')\n",
    "\n",
    "    single_char_counts = Counter()\n",
    "    for j, p in enumerate(pairs_counts):\n",
    "\n",
    "        # if p == first_pair:\n",
    "        #     if i == 2: print(f'first pair {first_pair}')\n",
    "        #     single_char_counts[p[0]] += 1\n",
    "        #     single_char_counts[p[1]] += pairs_counts[p]\n",
    "        #     if i == 2: print(f'single char counts, j=={j}: {single_char_counts}')\n",
    "        # else:\n",
    "            single_char_counts[p[1]] += pairs_counts[p]\n",
    "            # if i == 2: print(f'single char counts, j=={j}: {p} getting added to {single_char_counts}')\n",
    "\n",
    "    # Add in a count for the first character in the template\n",
    "    single_char_counts[first_char] += 1\n",
    "\n",
    "        # print(f'Single char counts: {single_char_counts}')\n",
    "\n",
    "    most_common = single_char_counts.most_common()[0][1]\n",
    "    least_common = single_char_counts.most_common()[-1][1]\n",
    "    diff = most_common - least_common\n",
    "\n",
    "    return diff"
   ]
  },
  {
   "cell_type": "code",
   "execution_count": 173,
   "metadata": {},
   "outputs": [],
   "source": [
    "def calc_part_2(template, rules, num_steps):\n",
    "    \"\"\"Return the difference of the most and least common counts of a polymer template, \n",
    "    after pair insertion rules have been applied for num_steps.\n",
    "    \"\"\"\n",
    "\n",
    "    first_char = template[0]\n",
    "\n",
    "    pairs = [''.join(p) for p in pairwise(template)]\n",
    "    pairs_counts = Counter(pairs)\n",
    "\n",
    "    for i in range(num_steps):\n",
    "\n",
    "        print(f'\\nstep {i+1}')\n",
    "        print(f'beginning pairs counts: {pairs_counts}')\n",
    "\n",
    "        old_pairs = list(pairs_counts)\n",
    "        new_pairs = Counter()\n",
    "        for pair in list(pairs_counts):\n",
    "            # Add new pairs\n",
    "            for p in rules[pair]['new_pairs']:\n",
    "                new_pairs[p] += pairs_counts[pair]\n",
    "\n",
    "        pairs_counts = pairs_counts - Counter(old_pairs) + new_pairs\n",
    "        print(f'ending pairs counts: {pairs_counts}')\n",
    "\n",
    "\n",
    "    single_char_counts = Counter()\n",
    "    for p in enumerate(pairs_counts):\n",
    "        single_char_counts[p[1]] += pairs_counts[p]\n",
    "\n",
    "    # Add in a count for the first character in the template\n",
    "    single_char_counts[first_char] += 1\n",
    "\n",
    "    most_common = single_char_counts.most_common()[0][1]\n",
    "    least_common = single_char_counts.most_common()[-1][1]\n",
    "    diff = most_common - least_common\n",
    "\n",
    "    return diff"
   ]
  },
  {
   "cell_type": "code",
   "execution_count": 174,
   "metadata": {},
   "outputs": [
    {
     "name": "stdout",
     "output_type": "stream",
     "text": [
      "\n",
      "step 1\n",
      "beginning pairs counts: Counter({'NN': 1, 'NC': 1, 'CB': 1})\n",
      "ending pairs counts: Counter({'NC': 1, 'CN': 1, 'NB': 1, 'BC': 1, 'CH': 1, 'HB': 1})\n",
      "\n",
      "step 2\n",
      "beginning pairs counts: Counter({'NC': 1, 'CN': 1, 'NB': 1, 'BC': 1, 'CH': 1, 'HB': 1})\n",
      "ending pairs counts: Counter({'NB': 2, 'BC': 2, 'BB': 2, 'CB': 2, 'CC': 1, 'CN': 1, 'BH': 1, 'HC': 1})\n",
      "\n",
      "step 3\n",
      "beginning pairs counts: Counter({'NB': 2, 'BC': 2, 'BB': 2, 'CB': 2, 'CC': 1, 'CN': 1, 'BH': 1, 'HC': 1})\n",
      "ending pairs counts: Counter({'NB': 5, 'BB': 5, 'BC': 4, 'HB': 3, 'CN': 2, 'BN': 2, 'CH': 2, 'CB': 1, 'NC': 1, 'CC': 1, 'BH': 1, 'HH': 1})\n"
     ]
    },
    {
     "data": {
      "text/plain": [
       "1"
      ]
     },
     "execution_count": 174,
     "metadata": {},
     "output_type": "execute_result"
    }
   ],
   "source": [
    "calc_part_2(test_polymer_template, test_pair_insertion_rules, 3)  # Should return 1588, just like in part 1"
   ]
  },
  {
   "cell_type": "code",
   "execution_count": null,
   "metadata": {},
   "outputs": [],
   "source": [
    "ending pairs counts: Counter({'NB': 4, 'BB': 4, 'BC': 3, 'HB': 3, 'CN': 2, 'BN': 2, 'CH': 2, 'CC': 1, 'BH': 1, 'NC': 1, 'HH': 1})"
   ]
  },
  {
   "cell_type": "markdown",
   "metadata": {},
   "source": [
    "### Run on Test Data"
   ]
  },
  {
   "cell_type": "code",
   "execution_count": 159,
   "metadata": {},
   "outputs": [
    {
     "name": "stdout",
     "output_type": "stream",
     "text": [
      "\n",
      "step 1\n",
      "beginning pairs counts: Counter({'NN': 1, 'NC': 1, 'CB': 1})\n",
      "ending pairs counts: Counter({'NC': 1, 'CN': 1, 'NB': 1, 'BC': 1, 'CH': 1, 'HB': 1})\n",
      "\n",
      "step 2\n",
      "beginning pairs counts: Counter({'NC': 1, 'CN': 1, 'NB': 1, 'BC': 1, 'CH': 1, 'HB': 1})\n",
      "ending pairs counts: Counter({'NB': 2, 'BC': 2, 'BB': 2, 'CB': 2, 'CN': 1, 'CC': 1, 'BH': 1, 'HC': 1})\n",
      "\n",
      "step 3\n",
      "beginning pairs counts: Counter({'NB': 2, 'BC': 2, 'BB': 2, 'CB': 2, 'CN': 1, 'CC': 1, 'BH': 1, 'HC': 1})\n",
      "ending pairs counts: Counter({'NB': 4, 'BB': 4, 'BC': 3, 'HB': 3, 'CN': 2, 'BN': 2, 'CH': 2, 'CC': 1, 'BH': 1, 'NC': 1, 'HH': 1})\n",
      "\n",
      "step 4\n",
      "beginning pairs counts: Counter({'NB': 4, 'BB': 4, 'BC': 3, 'HB': 3, 'CN': 2, 'BN': 2, 'CH': 2, 'CC': 1, 'BH': 1, 'NC': 1, 'HH': 1})\n",
      "ending pairs counts: Counter({'NB': 9, 'BB': 9, 'BN': 6, 'CB': 5, 'BC': 4, 'CN': 3, 'BH': 3, 'HC': 3, 'CC': 2, 'NC': 1, 'HH': 1, 'HN': 1, 'NH': 1})\n",
      "\n",
      "step 5\n",
      "beginning pairs counts: Counter({'NB': 9, 'BB': 9, 'BN': 6, 'CB': 5, 'BC': 4, 'CN': 3, 'BH': 3, 'HC': 3, 'CC': 2, 'NC': 1, 'HH': 1, 'HN': 1, 'NH': 1})\n",
      "ending pairs counts: Counter({'NB': 19, 'BB': 19, 'BN': 15, 'BC': 8, 'HB': 8, 'CN': 6, 'CH': 6, 'CC': 3, 'BH': 3, 'NC': 3, 'HH': 3, 'HC': 1, 'HN': 1, 'NH': 1})\n",
      "\n",
      "step 6\n",
      "beginning pairs counts: Counter({'NB': 19, 'BB': 19, 'BN': 15, 'BC': 8, 'HB': 8, 'CN': 6, 'CH': 6, 'CC': 3, 'BH': 3, 'NC': 3, 'HH': 3, 'HC': 1, 'HN': 1, 'NH': 1})\n",
      "ending pairs counts: Counter({'BB': 42, 'NB': 41, 'BN': 34, 'CB': 14, 'BC': 12, 'CN': 10, 'BH': 9, 'HC': 9, 'CC': 6, 'NC': 4, 'HH': 3, 'HN': 3, 'NH': 3, 'CH': 1, 'HB': 1})\n",
      "\n",
      "step 7\n",
      "beginning pairs counts: Counter({'BB': 42, 'NB': 41, 'BN': 34, 'CB': 14, 'BC': 12, 'CN': 10, 'BH': 9, 'HC': 9, 'CC': 6, 'NC': 4, 'HH': 3, 'HN': 3, 'NH': 3, 'CH': 1, 'HB': 1})\n",
      "ending pairs counts: Counter({'NB': 87, 'BB': 87, 'BN': 76, 'BC': 25, 'HB': 23, 'CN': 19, 'CH': 17, 'CC': 10, 'BH': 10, 'NC': 9, 'HH': 9, 'HC': 4, 'HN': 3, 'NH': 3, 'CB': 2})\n",
      "\n",
      "step 8\n",
      "beginning pairs counts: Counter({'NB': 87, 'BB': 87, 'BN': 76, 'BC': 25, 'HB': 23, 'CN': 19, 'CH': 17, 'CC': 10, 'BH': 10, 'NC': 9, 'HH': 9, 'HC': 4, 'HN': 3, 'NH': 3, 'CB': 2})\n",
      "ending pairs counts: Counter({'BB': 188, 'NB': 183, 'BN': 163, 'CB': 40, 'BC': 38, 'CN': 32, 'BH': 27, 'HC': 26, 'CC': 19, 'NC': 13, 'HH': 10, 'HN': 9, 'NH': 9, 'HB': 6, 'CH': 5})\n",
      "\n",
      "step 9\n",
      "beginning pairs counts: Counter({'BB': 188, 'NB': 183, 'BN': 163, 'CB': 40, 'BC': 38, 'CN': 32, 'BH': 27, 'HC': 26, 'CC': 19, 'NC': 13, 'HH': 10, 'HN': 9, 'NH': 9, 'HB': 6, 'CH': 5})\n",
      "ending pairs counts: Counter({'NB': 384, 'BB': 384, 'BN': 351, 'BC': 77, 'HB': 66, 'CN': 60, 'CH': 49, 'CC': 32, 'BH': 32, 'NC': 28, 'HH': 27, 'HC': 15, 'CB': 11, 'HN': 10, 'NH': 10})\n",
      "\n",
      "step 10\n",
      "beginning pairs counts: Counter({'NB': 384, 'BB': 384, 'BN': 351, 'BC': 77, 'HB': 66, 'CN': 60, 'CH': 49, 'CC': 32, 'BH': 32, 'NC': 28, 'HH': 27, 'HC': 15, 'CB': 11, 'HN': 10, 'NH': 10})\n",
      "ending pairs counts: Counter({'BB': 812, 'NB': 796, 'BN': 735, 'BC': 120, 'CB': 115, 'CN': 102, 'BH': 81, 'HC': 76, 'CC': 60, 'NC': 42, 'HH': 32, 'HN': 27, 'NH': 27, 'HB': 26, 'CH': 21})\n"
     ]
    },
    {
     "data": {
      "text/plain": [
       "1588"
      ]
     },
     "execution_count": 159,
     "metadata": {},
     "output_type": "execute_result"
    }
   ],
   "source": [
    "calc_part_2(test_polymer_template, test_pair_insertion_rules, 3)  # Should return 1588, just like in part 1"
   ]
  },
  {
   "cell_type": "code",
   "execution_count": 169,
   "metadata": {},
   "outputs": [
    {
     "name": "stdout",
     "output_type": "stream",
     "text": [
      "\n",
      "step 1\n",
      "beginning pairs counts: Counter({'NN': 1, 'NC': 1, 'CB': 1})\n",
      "ending pairs counts: Counter({'NC': 2, 'NN': 1, 'CB': 1, 'CN': 1, 'NB': 1, 'BC': 1, 'CH': 1, 'HB': 1})\n",
      "\n",
      "step 2\n",
      "beginning pairs counts: Counter({'NC': 2, 'NN': 1, 'CB': 1, 'CN': 1, 'NB': 1, 'BC': 1, 'CH': 1, 'HB': 1})\n",
      "ending pairs counts: Counter({'NC': 3, 'CB': 2, 'CN': 2, 'NB': 2, 'BC': 2, 'CH': 2, 'HB': 2, 'NN': 1, 'CC': 1, 'BB': 1, 'BH': 1, 'HC': 1})\n",
      "\n",
      "step 3\n",
      "beginning pairs counts: Counter({'NC': 3, 'CB': 2, 'CN': 2, 'NB': 2, 'BC': 2, 'CH': 2, 'HB': 2, 'NN': 1, 'CC': 1, 'BB': 1, 'BH': 1, 'HC': 1})\n",
      "ending pairs counts: Counter({'NC': 4, 'CB': 3, 'CN': 3, 'NB': 3, 'BC': 3, 'CH': 3, 'HB': 3, 'CC': 2, 'BB': 2, 'BH': 2, 'HC': 2, 'NN': 1, 'BN': 1, 'HH': 1})\n",
      "\n",
      "step 4\n",
      "beginning pairs counts: Counter({'NC': 4, 'CB': 3, 'CN': 3, 'NB': 3, 'BC': 3, 'CH': 3, 'HB': 3, 'CC': 2, 'BB': 2, 'BH': 2, 'HC': 2, 'NN': 1, 'BN': 1, 'HH': 1})\n",
      "ending pairs counts: Counter({'NC': 5, 'CB': 4, 'CN': 4, 'NB': 4, 'BC': 4, 'CH': 4, 'HB': 4, 'CC': 3, 'BB': 3, 'BH': 3, 'HC': 3, 'BN': 2, 'HH': 2, 'NN': 1, 'HN': 1, 'NH': 1})\n",
      "\n",
      "step 5\n",
      "beginning pairs counts: Counter({'NC': 5, 'CB': 4, 'CN': 4, 'NB': 4, 'BC': 4, 'CH': 4, 'HB': 4, 'CC': 3, 'BB': 3, 'BH': 3, 'HC': 3, 'BN': 2, 'HH': 2, 'NN': 1, 'HN': 1, 'NH': 1})\n",
      "ending pairs counts: Counter({'NC': 6, 'CB': 5, 'CN': 5, 'NB': 5, 'BC': 5, 'CH': 5, 'HB': 5, 'CC': 4, 'BB': 4, 'BH': 4, 'HC': 4, 'BN': 3, 'HH': 3, 'HN': 2, 'NH': 2, 'NN': 1})\n",
      "\n",
      "step 6\n",
      "beginning pairs counts: Counter({'NC': 6, 'CB': 5, 'CN': 5, 'NB': 5, 'BC': 5, 'CH': 5, 'HB': 5, 'CC': 4, 'BB': 4, 'BH': 4, 'HC': 4, 'BN': 3, 'HH': 3, 'HN': 2, 'NH': 2, 'NN': 1})\n",
      "ending pairs counts: Counter({'NC': 7, 'CB': 6, 'CN': 6, 'NB': 6, 'BC': 6, 'CH': 6, 'HB': 6, 'CC': 5, 'BB': 5, 'BH': 5, 'HC': 5, 'BN': 4, 'HH': 4, 'HN': 3, 'NH': 3, 'NN': 1})\n",
      "\n",
      "step 7\n",
      "beginning pairs counts: Counter({'NC': 7, 'CB': 6, 'CN': 6, 'NB': 6, 'BC': 6, 'CH': 6, 'HB': 6, 'CC': 5, 'BB': 5, 'BH': 5, 'HC': 5, 'BN': 4, 'HH': 4, 'HN': 3, 'NH': 3, 'NN': 1})\n",
      "ending pairs counts: Counter({'NC': 8, 'CB': 7, 'CN': 7, 'NB': 7, 'BC': 7, 'CH': 7, 'HB': 7, 'CC': 6, 'BB': 6, 'BH': 6, 'HC': 6, 'BN': 5, 'HH': 5, 'HN': 4, 'NH': 4, 'NN': 1})\n",
      "\n",
      "step 8\n",
      "beginning pairs counts: Counter({'NC': 8, 'CB': 7, 'CN': 7, 'NB': 7, 'BC': 7, 'CH': 7, 'HB': 7, 'CC': 6, 'BB': 6, 'BH': 6, 'HC': 6, 'BN': 5, 'HH': 5, 'HN': 4, 'NH': 4, 'NN': 1})\n",
      "ending pairs counts: Counter({'NC': 9, 'CB': 8, 'CN': 8, 'NB': 8, 'BC': 8, 'CH': 8, 'HB': 8, 'CC': 7, 'BB': 7, 'BH': 7, 'HC': 7, 'BN': 6, 'HH': 6, 'HN': 5, 'NH': 5, 'NN': 1})\n",
      "\n",
      "step 9\n",
      "beginning pairs counts: Counter({'NC': 9, 'CB': 8, 'CN': 8, 'NB': 8, 'BC': 8, 'CH': 8, 'HB': 8, 'CC': 7, 'BB': 7, 'BH': 7, 'HC': 7, 'BN': 6, 'HH': 6, 'HN': 5, 'NH': 5, 'NN': 1})\n",
      "ending pairs counts: Counter({'NC': 10, 'CB': 9, 'CN': 9, 'NB': 9, 'BC': 9, 'CH': 9, 'HB': 9, 'CC': 8, 'BB': 8, 'BH': 8, 'HC': 8, 'BN': 7, 'HH': 7, 'HN': 6, 'NH': 6, 'NN': 1})\n",
      "\n",
      "step 10\n",
      "beginning pairs counts: Counter({'NC': 10, 'CB': 9, 'CN': 9, 'NB': 9, 'BC': 9, 'CH': 9, 'HB': 9, 'CC': 8, 'BB': 8, 'BH': 8, 'HC': 8, 'BN': 7, 'HH': 7, 'HN': 6, 'NH': 6, 'NN': 1})\n",
      "ending pairs counts: Counter({'NC': 11, 'CB': 10, 'CN': 10, 'NB': 10, 'BC': 10, 'CH': 10, 'HB': 10, 'CC': 9, 'BB': 9, 'BH': 9, 'HC': 9, 'BN': 8, 'HH': 8, 'HN': 7, 'NH': 7, 'NN': 1})\n",
      "\n",
      "step 11\n",
      "beginning pairs counts: Counter({'NC': 11, 'CB': 10, 'CN': 10, 'NB': 10, 'BC': 10, 'CH': 10, 'HB': 10, 'CC': 9, 'BB': 9, 'BH': 9, 'HC': 9, 'BN': 8, 'HH': 8, 'HN': 7, 'NH': 7, 'NN': 1})\n",
      "ending pairs counts: Counter({'NC': 12, 'CB': 11, 'CN': 11, 'NB': 11, 'BC': 11, 'CH': 11, 'HB': 11, 'CC': 10, 'BB': 10, 'BH': 10, 'HC': 10, 'BN': 9, 'HH': 9, 'HN': 8, 'NH': 8, 'NN': 1})\n",
      "\n",
      "step 12\n",
      "beginning pairs counts: Counter({'NC': 12, 'CB': 11, 'CN': 11, 'NB': 11, 'BC': 11, 'CH': 11, 'HB': 11, 'CC': 10, 'BB': 10, 'BH': 10, 'HC': 10, 'BN': 9, 'HH': 9, 'HN': 8, 'NH': 8, 'NN': 1})\n",
      "ending pairs counts: Counter({'NC': 13, 'CB': 12, 'CN': 12, 'NB': 12, 'BC': 12, 'CH': 12, 'HB': 12, 'CC': 11, 'BB': 11, 'BH': 11, 'HC': 11, 'BN': 10, 'HH': 10, 'HN': 9, 'NH': 9, 'NN': 1})\n",
      "\n",
      "step 13\n",
      "beginning pairs counts: Counter({'NC': 13, 'CB': 12, 'CN': 12, 'NB': 12, 'BC': 12, 'CH': 12, 'HB': 12, 'CC': 11, 'BB': 11, 'BH': 11, 'HC': 11, 'BN': 10, 'HH': 10, 'HN': 9, 'NH': 9, 'NN': 1})\n",
      "ending pairs counts: Counter({'NC': 14, 'CB': 13, 'CN': 13, 'NB': 13, 'BC': 13, 'CH': 13, 'HB': 13, 'CC': 12, 'BB': 12, 'BH': 12, 'HC': 12, 'BN': 11, 'HH': 11, 'HN': 10, 'NH': 10, 'NN': 1})\n",
      "\n",
      "step 14\n",
      "beginning pairs counts: Counter({'NC': 14, 'CB': 13, 'CN': 13, 'NB': 13, 'BC': 13, 'CH': 13, 'HB': 13, 'CC': 12, 'BB': 12, 'BH': 12, 'HC': 12, 'BN': 11, 'HH': 11, 'HN': 10, 'NH': 10, 'NN': 1})\n",
      "ending pairs counts: Counter({'NC': 15, 'CB': 14, 'CN': 14, 'NB': 14, 'BC': 14, 'CH': 14, 'HB': 14, 'CC': 13, 'BB': 13, 'BH': 13, 'HC': 13, 'BN': 12, 'HH': 12, 'HN': 11, 'NH': 11, 'NN': 1})\n",
      "\n",
      "step 15\n",
      "beginning pairs counts: Counter({'NC': 15, 'CB': 14, 'CN': 14, 'NB': 14, 'BC': 14, 'CH': 14, 'HB': 14, 'CC': 13, 'BB': 13, 'BH': 13, 'HC': 13, 'BN': 12, 'HH': 12, 'HN': 11, 'NH': 11, 'NN': 1})\n",
      "ending pairs counts: Counter({'NC': 16, 'CB': 15, 'CN': 15, 'NB': 15, 'BC': 15, 'CH': 15, 'HB': 15, 'CC': 14, 'BB': 14, 'BH': 14, 'HC': 14, 'BN': 13, 'HH': 13, 'HN': 12, 'NH': 12, 'NN': 1})\n",
      "\n",
      "step 16\n",
      "beginning pairs counts: Counter({'NC': 16, 'CB': 15, 'CN': 15, 'NB': 15, 'BC': 15, 'CH': 15, 'HB': 15, 'CC': 14, 'BB': 14, 'BH': 14, 'HC': 14, 'BN': 13, 'HH': 13, 'HN': 12, 'NH': 12, 'NN': 1})\n",
      "ending pairs counts: Counter({'NC': 17, 'CB': 16, 'CN': 16, 'NB': 16, 'BC': 16, 'CH': 16, 'HB': 16, 'CC': 15, 'BB': 15, 'BH': 15, 'HC': 15, 'BN': 14, 'HH': 14, 'HN': 13, 'NH': 13, 'NN': 1})\n",
      "\n",
      "step 17\n",
      "beginning pairs counts: Counter({'NC': 17, 'CB': 16, 'CN': 16, 'NB': 16, 'BC': 16, 'CH': 16, 'HB': 16, 'CC': 15, 'BB': 15, 'BH': 15, 'HC': 15, 'BN': 14, 'HH': 14, 'HN': 13, 'NH': 13, 'NN': 1})\n",
      "ending pairs counts: Counter({'NC': 18, 'CB': 17, 'CN': 17, 'NB': 17, 'BC': 17, 'CH': 17, 'HB': 17, 'CC': 16, 'BB': 16, 'BH': 16, 'HC': 16, 'BN': 15, 'HH': 15, 'HN': 14, 'NH': 14, 'NN': 1})\n",
      "\n",
      "step 18\n",
      "beginning pairs counts: Counter({'NC': 18, 'CB': 17, 'CN': 17, 'NB': 17, 'BC': 17, 'CH': 17, 'HB': 17, 'CC': 16, 'BB': 16, 'BH': 16, 'HC': 16, 'BN': 15, 'HH': 15, 'HN': 14, 'NH': 14, 'NN': 1})\n",
      "ending pairs counts: Counter({'NC': 19, 'CB': 18, 'CN': 18, 'NB': 18, 'BC': 18, 'CH': 18, 'HB': 18, 'CC': 17, 'BB': 17, 'BH': 17, 'HC': 17, 'BN': 16, 'HH': 16, 'HN': 15, 'NH': 15, 'NN': 1})\n",
      "\n",
      "step 19\n",
      "beginning pairs counts: Counter({'NC': 19, 'CB': 18, 'CN': 18, 'NB': 18, 'BC': 18, 'CH': 18, 'HB': 18, 'CC': 17, 'BB': 17, 'BH': 17, 'HC': 17, 'BN': 16, 'HH': 16, 'HN': 15, 'NH': 15, 'NN': 1})\n",
      "ending pairs counts: Counter({'NC': 20, 'CB': 19, 'CN': 19, 'NB': 19, 'BC': 19, 'CH': 19, 'HB': 19, 'CC': 18, 'BB': 18, 'BH': 18, 'HC': 18, 'BN': 17, 'HH': 17, 'HN': 16, 'NH': 16, 'NN': 1})\n",
      "\n",
      "step 20\n",
      "beginning pairs counts: Counter({'NC': 20, 'CB': 19, 'CN': 19, 'NB': 19, 'BC': 19, 'CH': 19, 'HB': 19, 'CC': 18, 'BB': 18, 'BH': 18, 'HC': 18, 'BN': 17, 'HH': 17, 'HN': 16, 'NH': 16, 'NN': 1})\n",
      "ending pairs counts: Counter({'NC': 21, 'CB': 20, 'CN': 20, 'NB': 20, 'BC': 20, 'CH': 20, 'HB': 20, 'CC': 19, 'BB': 19, 'BH': 19, 'HC': 19, 'BN': 18, 'HH': 18, 'HN': 17, 'NH': 17, 'NN': 1})\n",
      "\n",
      "step 21\n",
      "beginning pairs counts: Counter({'NC': 21, 'CB': 20, 'CN': 20, 'NB': 20, 'BC': 20, 'CH': 20, 'HB': 20, 'CC': 19, 'BB': 19, 'BH': 19, 'HC': 19, 'BN': 18, 'HH': 18, 'HN': 17, 'NH': 17, 'NN': 1})\n",
      "ending pairs counts: Counter({'NC': 22, 'CB': 21, 'CN': 21, 'NB': 21, 'BC': 21, 'CH': 21, 'HB': 21, 'CC': 20, 'BB': 20, 'BH': 20, 'HC': 20, 'BN': 19, 'HH': 19, 'HN': 18, 'NH': 18, 'NN': 1})\n",
      "\n",
      "step 22\n",
      "beginning pairs counts: Counter({'NC': 22, 'CB': 21, 'CN': 21, 'NB': 21, 'BC': 21, 'CH': 21, 'HB': 21, 'CC': 20, 'BB': 20, 'BH': 20, 'HC': 20, 'BN': 19, 'HH': 19, 'HN': 18, 'NH': 18, 'NN': 1})\n",
      "ending pairs counts: Counter({'NC': 23, 'CB': 22, 'CN': 22, 'NB': 22, 'BC': 22, 'CH': 22, 'HB': 22, 'CC': 21, 'BB': 21, 'BH': 21, 'HC': 21, 'BN': 20, 'HH': 20, 'HN': 19, 'NH': 19, 'NN': 1})\n",
      "\n",
      "step 23\n",
      "beginning pairs counts: Counter({'NC': 23, 'CB': 22, 'CN': 22, 'NB': 22, 'BC': 22, 'CH': 22, 'HB': 22, 'CC': 21, 'BB': 21, 'BH': 21, 'HC': 21, 'BN': 20, 'HH': 20, 'HN': 19, 'NH': 19, 'NN': 1})\n",
      "ending pairs counts: Counter({'NC': 24, 'CB': 23, 'CN': 23, 'NB': 23, 'BC': 23, 'CH': 23, 'HB': 23, 'CC': 22, 'BB': 22, 'BH': 22, 'HC': 22, 'BN': 21, 'HH': 21, 'HN': 20, 'NH': 20, 'NN': 1})\n",
      "\n",
      "step 24\n",
      "beginning pairs counts: Counter({'NC': 24, 'CB': 23, 'CN': 23, 'NB': 23, 'BC': 23, 'CH': 23, 'HB': 23, 'CC': 22, 'BB': 22, 'BH': 22, 'HC': 22, 'BN': 21, 'HH': 21, 'HN': 20, 'NH': 20, 'NN': 1})\n",
      "ending pairs counts: Counter({'NC': 25, 'CB': 24, 'CN': 24, 'NB': 24, 'BC': 24, 'CH': 24, 'HB': 24, 'CC': 23, 'BB': 23, 'BH': 23, 'HC': 23, 'BN': 22, 'HH': 22, 'HN': 21, 'NH': 21, 'NN': 1})\n",
      "\n",
      "step 25\n",
      "beginning pairs counts: Counter({'NC': 25, 'CB': 24, 'CN': 24, 'NB': 24, 'BC': 24, 'CH': 24, 'HB': 24, 'CC': 23, 'BB': 23, 'BH': 23, 'HC': 23, 'BN': 22, 'HH': 22, 'HN': 21, 'NH': 21, 'NN': 1})\n",
      "ending pairs counts: Counter({'NC': 26, 'CB': 25, 'CN': 25, 'NB': 25, 'BC': 25, 'CH': 25, 'HB': 25, 'CC': 24, 'BB': 24, 'BH': 24, 'HC': 24, 'BN': 23, 'HH': 23, 'HN': 22, 'NH': 22, 'NN': 1})\n",
      "\n",
      "step 26\n",
      "beginning pairs counts: Counter({'NC': 26, 'CB': 25, 'CN': 25, 'NB': 25, 'BC': 25, 'CH': 25, 'HB': 25, 'CC': 24, 'BB': 24, 'BH': 24, 'HC': 24, 'BN': 23, 'HH': 23, 'HN': 22, 'NH': 22, 'NN': 1})\n",
      "ending pairs counts: Counter({'NC': 27, 'CB': 26, 'CN': 26, 'NB': 26, 'BC': 26, 'CH': 26, 'HB': 26, 'CC': 25, 'BB': 25, 'BH': 25, 'HC': 25, 'BN': 24, 'HH': 24, 'HN': 23, 'NH': 23, 'NN': 1})\n",
      "\n",
      "step 27\n",
      "beginning pairs counts: Counter({'NC': 27, 'CB': 26, 'CN': 26, 'NB': 26, 'BC': 26, 'CH': 26, 'HB': 26, 'CC': 25, 'BB': 25, 'BH': 25, 'HC': 25, 'BN': 24, 'HH': 24, 'HN': 23, 'NH': 23, 'NN': 1})\n",
      "ending pairs counts: Counter({'NC': 28, 'CB': 27, 'CN': 27, 'NB': 27, 'BC': 27, 'CH': 27, 'HB': 27, 'CC': 26, 'BB': 26, 'BH': 26, 'HC': 26, 'BN': 25, 'HH': 25, 'HN': 24, 'NH': 24, 'NN': 1})\n",
      "\n",
      "step 28\n",
      "beginning pairs counts: Counter({'NC': 28, 'CB': 27, 'CN': 27, 'NB': 27, 'BC': 27, 'CH': 27, 'HB': 27, 'CC': 26, 'BB': 26, 'BH': 26, 'HC': 26, 'BN': 25, 'HH': 25, 'HN': 24, 'NH': 24, 'NN': 1})\n",
      "ending pairs counts: Counter({'NC': 29, 'CB': 28, 'CN': 28, 'NB': 28, 'BC': 28, 'CH': 28, 'HB': 28, 'CC': 27, 'BB': 27, 'BH': 27, 'HC': 27, 'BN': 26, 'HH': 26, 'HN': 25, 'NH': 25, 'NN': 1})\n",
      "\n",
      "step 29\n",
      "beginning pairs counts: Counter({'NC': 29, 'CB': 28, 'CN': 28, 'NB': 28, 'BC': 28, 'CH': 28, 'HB': 28, 'CC': 27, 'BB': 27, 'BH': 27, 'HC': 27, 'BN': 26, 'HH': 26, 'HN': 25, 'NH': 25, 'NN': 1})\n",
      "ending pairs counts: Counter({'NC': 30, 'CB': 29, 'CN': 29, 'NB': 29, 'BC': 29, 'CH': 29, 'HB': 29, 'CC': 28, 'BB': 28, 'BH': 28, 'HC': 28, 'BN': 27, 'HH': 27, 'HN': 26, 'NH': 26, 'NN': 1})\n",
      "\n",
      "step 30\n",
      "beginning pairs counts: Counter({'NC': 30, 'CB': 29, 'CN': 29, 'NB': 29, 'BC': 29, 'CH': 29, 'HB': 29, 'CC': 28, 'BB': 28, 'BH': 28, 'HC': 28, 'BN': 27, 'HH': 27, 'HN': 26, 'NH': 26, 'NN': 1})\n",
      "ending pairs counts: Counter({'NC': 31, 'CB': 30, 'CN': 30, 'NB': 30, 'BC': 30, 'CH': 30, 'HB': 30, 'CC': 29, 'BB': 29, 'BH': 29, 'HC': 29, 'BN': 28, 'HH': 28, 'HN': 27, 'NH': 27, 'NN': 1})\n",
      "\n",
      "step 31\n",
      "beginning pairs counts: Counter({'NC': 31, 'CB': 30, 'CN': 30, 'NB': 30, 'BC': 30, 'CH': 30, 'HB': 30, 'CC': 29, 'BB': 29, 'BH': 29, 'HC': 29, 'BN': 28, 'HH': 28, 'HN': 27, 'NH': 27, 'NN': 1})\n",
      "ending pairs counts: Counter({'NC': 32, 'CB': 31, 'CN': 31, 'NB': 31, 'BC': 31, 'CH': 31, 'HB': 31, 'CC': 30, 'BB': 30, 'BH': 30, 'HC': 30, 'BN': 29, 'HH': 29, 'HN': 28, 'NH': 28, 'NN': 1})\n",
      "\n",
      "step 32\n",
      "beginning pairs counts: Counter({'NC': 32, 'CB': 31, 'CN': 31, 'NB': 31, 'BC': 31, 'CH': 31, 'HB': 31, 'CC': 30, 'BB': 30, 'BH': 30, 'HC': 30, 'BN': 29, 'HH': 29, 'HN': 28, 'NH': 28, 'NN': 1})\n",
      "ending pairs counts: Counter({'NC': 33, 'CB': 32, 'CN': 32, 'NB': 32, 'BC': 32, 'CH': 32, 'HB': 32, 'CC': 31, 'BB': 31, 'BH': 31, 'HC': 31, 'BN': 30, 'HH': 30, 'HN': 29, 'NH': 29, 'NN': 1})\n",
      "\n",
      "step 33\n",
      "beginning pairs counts: Counter({'NC': 33, 'CB': 32, 'CN': 32, 'NB': 32, 'BC': 32, 'CH': 32, 'HB': 32, 'CC': 31, 'BB': 31, 'BH': 31, 'HC': 31, 'BN': 30, 'HH': 30, 'HN': 29, 'NH': 29, 'NN': 1})\n",
      "ending pairs counts: Counter({'NC': 34, 'CB': 33, 'CN': 33, 'NB': 33, 'BC': 33, 'CH': 33, 'HB': 33, 'CC': 32, 'BB': 32, 'BH': 32, 'HC': 32, 'BN': 31, 'HH': 31, 'HN': 30, 'NH': 30, 'NN': 1})\n",
      "\n",
      "step 34\n",
      "beginning pairs counts: Counter({'NC': 34, 'CB': 33, 'CN': 33, 'NB': 33, 'BC': 33, 'CH': 33, 'HB': 33, 'CC': 32, 'BB': 32, 'BH': 32, 'HC': 32, 'BN': 31, 'HH': 31, 'HN': 30, 'NH': 30, 'NN': 1})\n",
      "ending pairs counts: Counter({'NC': 35, 'CB': 34, 'CN': 34, 'NB': 34, 'BC': 34, 'CH': 34, 'HB': 34, 'CC': 33, 'BB': 33, 'BH': 33, 'HC': 33, 'BN': 32, 'HH': 32, 'HN': 31, 'NH': 31, 'NN': 1})\n",
      "\n",
      "step 35\n",
      "beginning pairs counts: Counter({'NC': 35, 'CB': 34, 'CN': 34, 'NB': 34, 'BC': 34, 'CH': 34, 'HB': 34, 'CC': 33, 'BB': 33, 'BH': 33, 'HC': 33, 'BN': 32, 'HH': 32, 'HN': 31, 'NH': 31, 'NN': 1})\n",
      "ending pairs counts: Counter({'NC': 36, 'CB': 35, 'CN': 35, 'NB': 35, 'BC': 35, 'CH': 35, 'HB': 35, 'CC': 34, 'BB': 34, 'BH': 34, 'HC': 34, 'BN': 33, 'HH': 33, 'HN': 32, 'NH': 32, 'NN': 1})\n",
      "\n",
      "step 36\n",
      "beginning pairs counts: Counter({'NC': 36, 'CB': 35, 'CN': 35, 'NB': 35, 'BC': 35, 'CH': 35, 'HB': 35, 'CC': 34, 'BB': 34, 'BH': 34, 'HC': 34, 'BN': 33, 'HH': 33, 'HN': 32, 'NH': 32, 'NN': 1})\n",
      "ending pairs counts: Counter({'NC': 37, 'CB': 36, 'CN': 36, 'NB': 36, 'BC': 36, 'CH': 36, 'HB': 36, 'CC': 35, 'BB': 35, 'BH': 35, 'HC': 35, 'BN': 34, 'HH': 34, 'HN': 33, 'NH': 33, 'NN': 1})\n",
      "\n",
      "step 37\n",
      "beginning pairs counts: Counter({'NC': 37, 'CB': 36, 'CN': 36, 'NB': 36, 'BC': 36, 'CH': 36, 'HB': 36, 'CC': 35, 'BB': 35, 'BH': 35, 'HC': 35, 'BN': 34, 'HH': 34, 'HN': 33, 'NH': 33, 'NN': 1})\n",
      "ending pairs counts: Counter({'NC': 38, 'CB': 37, 'CN': 37, 'NB': 37, 'BC': 37, 'CH': 37, 'HB': 37, 'CC': 36, 'BB': 36, 'BH': 36, 'HC': 36, 'BN': 35, 'HH': 35, 'HN': 34, 'NH': 34, 'NN': 1})\n",
      "\n",
      "step 38\n",
      "beginning pairs counts: Counter({'NC': 38, 'CB': 37, 'CN': 37, 'NB': 37, 'BC': 37, 'CH': 37, 'HB': 37, 'CC': 36, 'BB': 36, 'BH': 36, 'HC': 36, 'BN': 35, 'HH': 35, 'HN': 34, 'NH': 34, 'NN': 1})\n",
      "ending pairs counts: Counter({'NC': 39, 'CB': 38, 'CN': 38, 'NB': 38, 'BC': 38, 'CH': 38, 'HB': 38, 'CC': 37, 'BB': 37, 'BH': 37, 'HC': 37, 'BN': 36, 'HH': 36, 'HN': 35, 'NH': 35, 'NN': 1})\n",
      "\n",
      "step 39\n",
      "beginning pairs counts: Counter({'NC': 39, 'CB': 38, 'CN': 38, 'NB': 38, 'BC': 38, 'CH': 38, 'HB': 38, 'CC': 37, 'BB': 37, 'BH': 37, 'HC': 37, 'BN': 36, 'HH': 36, 'HN': 35, 'NH': 35, 'NN': 1})\n",
      "ending pairs counts: Counter({'NC': 40, 'CB': 39, 'CN': 39, 'NB': 39, 'BC': 39, 'CH': 39, 'HB': 39, 'CC': 38, 'BB': 38, 'BH': 38, 'HC': 38, 'BN': 37, 'HH': 37, 'HN': 36, 'NH': 36, 'NN': 1})\n",
      "\n",
      "step 40\n",
      "beginning pairs counts: Counter({'NC': 40, 'CB': 39, 'CN': 39, 'NB': 39, 'BC': 39, 'CH': 39, 'HB': 39, 'CC': 38, 'BB': 38, 'BH': 38, 'HC': 38, 'BN': 37, 'HH': 37, 'HN': 36, 'NH': 36, 'NN': 1})\n",
      "ending pairs counts: Counter({'NC': 41, 'CB': 40, 'CN': 40, 'NB': 40, 'BC': 40, 'CH': 40, 'HB': 40, 'CC': 39, 'BB': 39, 'BH': 39, 'HC': 39, 'BN': 38, 'HH': 38, 'HN': 37, 'NH': 37, 'NN': 1})\n"
     ]
    },
    {
     "data": {
      "text/plain": [
       "1"
      ]
     },
     "execution_count": 169,
     "metadata": {},
     "output_type": "execute_result"
    }
   ],
   "source": [
    "calc_part_2(test_polymer_template, test_pair_insertion_rules, 40)  # Should return 2188189693529"
   ]
  },
  {
   "cell_type": "code",
   "execution_count": 101,
   "metadata": {},
   "outputs": [
    {
     "name": "stdout",
     "output_type": "stream",
     "text": [
      "\n",
      "step 1\n",
      "beginning pairs counts: Counter({'NN': 1, 'NC': 1, 'CB': 1})\n",
      "Old counts to remove: Counter({'NN': 1, 'NC': 1, 'CB': 1})\n",
      "new pairs to add: Counter({'NC': 1, 'CN': 1, 'NB': 1, 'BC': 1, 'CH': 1, 'HB': 1})\n",
      "ending pairs counts: Counter({'NC': 1, 'CN': 1, 'NB': 1, 'BC': 1, 'CH': 1, 'HB': 1})\n",
      "Single char counts: Counter({'C': 2, 'N': 2, 'B': 2, 'H': 1})\n",
      "\n",
      "step 2\n",
      "beginning pairs counts: Counter({'NC': 1, 'CN': 1, 'NB': 1, 'BC': 1, 'CH': 1, 'HB': 1})\n",
      "Old counts to remove: Counter({'NC': 1, 'CN': 1, 'NB': 1, 'BC': 1, 'CH': 1, 'HB': 1})\n",
      "new pairs to add: Counter({'NB': 2, 'BC': 2, 'BB': 2, 'CB': 2, 'CC': 1, 'CN': 1, 'BH': 1, 'HC': 1})\n",
      "ending pairs counts: Counter({'NB': 2, 'BC': 2, 'BB': 2, 'CB': 2, 'CN': 1, 'CC': 1, 'BH': 1, 'HC': 1})\n",
      "Single char counts: Counter({'B': 6, 'C': 4, 'N': 2, 'H': 1})\n",
      "\n",
      "step 3\n",
      "beginning pairs counts: Counter({'NB': 2, 'BC': 2, 'BB': 2, 'CB': 2, 'CN': 1, 'CC': 1, 'BH': 1, 'HC': 1})\n",
      "old pair: CN  --> new pairs: ['CC', 'CN']\n",
      "old pair: NB  --> new pairs: ['CC', 'CN', 'NB', 'BB', 'NB', 'BB']\n",
      "old pair: BC  --> new pairs: ['CC', 'CN', 'NB', 'BB', 'NB', 'BB', 'BB', 'BC', 'BB', 'BC']\n",
      "old pair: CC  --> new pairs: ['CC', 'CN', 'NB', 'BB', 'NB', 'BB', 'BB', 'BC', 'BB', 'BC', 'CN', 'NC']\n",
      "old pair: BB  --> new pairs: ['CC', 'CN', 'NB', 'BB', 'NB', 'BB', 'BB', 'BC', 'BB', 'BC', 'CN', 'NC', 'BN', 'NB', 'BN', 'NB']\n",
      "old pair: CB  --> new pairs: ['CC', 'CN', 'NB', 'BB', 'NB', 'BB', 'BB', 'BC', 'BB', 'BC', 'CN', 'NC', 'BN', 'NB', 'BN', 'NB', 'CH', 'HB', 'CH', 'HB']\n",
      "old pair: BH  --> new pairs: ['CC', 'CN', 'NB', 'BB', 'NB', 'BB', 'BB', 'BC', 'BB', 'BC', 'CN', 'NC', 'BN', 'NB', 'BN', 'NB', 'CH', 'HB', 'CH', 'HB', 'BH', 'HH']\n",
      "old pair: HC  --> new pairs: ['CC', 'CN', 'NB', 'BB', 'NB', 'BB', 'BB', 'BC', 'BB', 'BC', 'CN', 'NC', 'BN', 'NB', 'BN', 'NB', 'CH', 'HB', 'CH', 'HB', 'BH', 'HH', 'HB', 'BC']\n",
      "Old counts to remove: Counter({'CN': 1, 'NB': 1, 'BC': 1, 'CC': 1, 'BB': 1, 'CB': 1, 'BH': 1, 'HC': 1})\n",
      "new pairs to add: Counter({'NB': 4, 'BB': 4, 'BC': 3, 'HB': 3, 'CN': 2, 'BN': 2, 'CH': 2, 'CC': 1, 'NC': 1, 'BH': 1, 'HH': 1})\n",
      "ending pairs counts: Counter({'NB': 4, 'BB': 4, 'BC': 3, 'HB': 3, 'CN': 2, 'BN': 2, 'CH': 2, 'CC': 1, 'BH': 1, 'NC': 1, 'HH': 1})\n",
      "single char counts, j==0: CN getting added to Counter({'N': 2})\n",
      "single char counts, j==1: NB getting added to Counter({'B': 4, 'N': 2})\n",
      "single char counts, j==2: BC getting added to Counter({'B': 4, 'C': 3, 'N': 2})\n",
      "single char counts, j==3: CC getting added to Counter({'B': 4, 'C': 4, 'N': 2})\n",
      "single char counts, j==4: BB getting added to Counter({'B': 8, 'C': 4, 'N': 2})\n",
      "single char counts, j==5: BH getting added to Counter({'B': 8, 'C': 4, 'N': 2, 'H': 1})\n",
      "single char counts, j==6: NC getting added to Counter({'B': 8, 'C': 5, 'N': 2, 'H': 1})\n",
      "single char counts, j==7: BN getting added to Counter({'B': 8, 'C': 5, 'N': 4, 'H': 1})\n",
      "single char counts, j==8: CH getting added to Counter({'B': 8, 'C': 5, 'N': 4, 'H': 3})\n",
      "single char counts, j==9: HB getting added to Counter({'B': 11, 'C': 5, 'N': 4, 'H': 3})\n",
      "single char counts, j==10: HH getting added to Counter({'B': 11, 'C': 5, 'N': 4, 'H': 4})\n",
      "Single char counts: Counter({'B': 11, 'N': 5, 'C': 5, 'H': 4})\n"
     ]
    },
    {
     "data": {
      "text/plain": [
       "7"
      ]
     },
     "execution_count": 101,
     "metadata": {},
     "output_type": "execute_result"
    }
   ],
   "source": [
    "calc_part_2(test_polymer_template, test_pair_insertion_rules, 3)  # Should return 2188189693529"
   ]
  },
  {
   "cell_type": "code",
   "execution_count": 21,
   "metadata": {},
   "outputs": [
    {
     "data": {
      "text/plain": [
       "Counter({'N': 2, 'C': 2, 'B': 2, 'H': 1})"
      ]
     },
     "execution_count": 21,
     "metadata": {},
     "output_type": "execute_result"
    }
   ],
   "source": [
    "Counter('NCNBCHB')"
   ]
  },
  {
   "cell_type": "code",
   "execution_count": 22,
   "metadata": {},
   "outputs": [
    {
     "data": {
      "text/plain": [
       "Counter({'N': 2, 'B': 6, 'C': 4, 'H': 1})"
      ]
     },
     "execution_count": 22,
     "metadata": {},
     "output_type": "execute_result"
    }
   ],
   "source": [
    "Counter('NBCCNBBBCBHCB')"
   ]
  },
  {
   "cell_type": "code",
   "execution_count": 97,
   "metadata": {},
   "outputs": [
    {
     "data": {
      "text/plain": [
       "Counter({'NB': 2,\n",
       "         'BC': 2,\n",
       "         'CC': 1,\n",
       "         'CN': 1,\n",
       "         'BB': 2,\n",
       "         'CB': 2,\n",
       "         'BH': 1,\n",
       "         'HC': 1})"
      ]
     },
     "execution_count": 97,
     "metadata": {},
     "output_type": "execute_result"
    }
   ],
   "source": [
    "Counter([''.join(p) for p in pairwise('NBCCNBBBCBHCB')])"
   ]
  },
  {
   "cell_type": "code",
   "execution_count": null,
   "metadata": {},
   "outputs": [],
   "source": [
    "ending pairs counts: Counter({'NB': 2, 'BC': 2, 'BB': 2, 'CB': 2, 'CN': 1, 'CC': 1, 'BH': 1, 'HC': 1})"
   ]
  },
  {
   "cell_type": "code",
   "execution_count": 64,
   "metadata": {},
   "outputs": [
    {
     "data": {
      "text/plain": [
       "Counter({'N': 5, 'B': 11, 'C': 5, 'H': 4})"
      ]
     },
     "execution_count": 64,
     "metadata": {},
     "output_type": "execute_result"
    }
   ],
   "source": [
    "Counter('NBBBCNCCNBBNBNBBCHBHHBCHB')"
   ]
  },
  {
   "cell_type": "code",
   "execution_count": 69,
   "metadata": {},
   "outputs": [
    {
     "data": {
      "text/plain": [
       "Counter({'NB': 4,\n",
       "         'BB': 4,\n",
       "         'BC': 3,\n",
       "         'CN': 2,\n",
       "         'NC': 1,\n",
       "         'CC': 1,\n",
       "         'BN': 2,\n",
       "         'CH': 2,\n",
       "         'HB': 3,\n",
       "         'BH': 1,\n",
       "         'HH': 1})"
      ]
     },
     "execution_count": 69,
     "metadata": {},
     "output_type": "execute_result"
    }
   ],
   "source": [
    "Counter([''.join(p) for p in pairwise('NBBBCNCCNBBNBNBBCHBHHBCHB')])"
   ]
  },
  {
   "cell_type": "code",
   "execution_count": null,
   "metadata": {},
   "outputs": [],
   "source": [
    "ending pairs counts: Counter({'NB': 3, 'BC': 3, 'BB': 3, 'CN': 2, 'HB': 2, 'CC': 1, 'CB': 1, 'BH': 1, 'NC': 1, 'BN': 1, 'CH': 1, 'HH': 1})"
   ]
  },
  {
   "cell_type": "code",
   "execution_count": 74,
   "metadata": {},
   "outputs": [
    {
     "data": {
      "text/plain": [
       "Counter({'NB': 2,\n",
       "         'BC': 2,\n",
       "         'CC': 1,\n",
       "         'CN': 1,\n",
       "         'BB': 2,\n",
       "         'CB': 2,\n",
       "         'BH': 1,\n",
       "         'HC': 1})"
      ]
     },
     "execution_count": 74,
     "metadata": {},
     "output_type": "execute_result"
    }
   ],
   "source": [
    "Counter([''.join(p) for p in pairwise('NBCCNBBBCBHCB')])"
   ]
  },
  {
   "cell_type": "code",
   "execution_count": null,
   "metadata": {},
   "outputs": [],
   "source": []
  },
  {
   "cell_type": "markdown",
   "metadata": {},
   "source": [
    "### Run on Input Data"
   ]
  },
  {
   "cell_type": "code",
   "execution_count": null,
   "metadata": {},
   "outputs": [],
   "source": []
  }
 ],
 "metadata": {
  "kernelspec": {
   "display_name": "Python 3",
   "language": "python",
   "name": "python3"
  },
  "language_info": {
   "codemirror_mode": {
    "name": "ipython",
    "version": 3
   },
   "file_extension": ".py",
   "mimetype": "text/x-python",
   "name": "python",
   "nbconvert_exporter": "python",
   "pygments_lexer": "ipython3",
   "version": "3.8.8"
  }
 },
 "nbformat": 4,
 "nbformat_minor": 4
}
