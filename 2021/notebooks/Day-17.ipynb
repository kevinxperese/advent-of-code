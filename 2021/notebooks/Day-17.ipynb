{
 "cells": [
  {
   "cell_type": "markdown",
   "metadata": {},
   "source": [
    "# --- Day 17: Trick Shot --- \n",
    "\n",
    "https://adventofcode.com/2021/day/17"
   ]
  },
  {
   "cell_type": "markdown",
   "metadata": {},
   "source": [
    "## Get Input Data"
   ]
  },
  {
   "cell_type": "code",
   "execution_count": 1,
   "metadata": {},
   "outputs": [],
   "source": [
    "def parse_data(str):\n",
    "    \"\"\"Parse data for Trick Shot.\"\"\"\n",
    "\n",
    "    import re\n",
    "\n",
    "    range_values = re.findall('-?\\d+', str) \n",
    "\n",
    "    target_range = {\n",
    "        'x_min' : int(range_values[0]),\n",
    "        'x_max' : int(range_values[1]),\n",
    "        'y_min' : int(range_values[2]),\n",
    "        'y_max' : int(range_values[3])\n",
    "    }\n",
    "\n",
    "    return target_range"
   ]
  },
  {
   "cell_type": "code",
   "execution_count": 2,
   "metadata": {},
   "outputs": [
    {
     "data": {
      "text/plain": [
       "{'x_min': 20, 'x_max': 30, 'y_min': -10, 'y_max': -5}"
      ]
     },
     "execution_count": 2,
     "metadata": {},
     "output_type": "execute_result"
    }
   ],
   "source": [
    "test_target = parse_data('target area: x=20..30, y=-10..-5')\n",
    "test_target"
   ]
  },
  {
   "cell_type": "code",
   "execution_count": 3,
   "metadata": {},
   "outputs": [
    {
     "data": {
      "text/plain": [
       "{'x_min': 288, 'x_max': 330, 'y_min': -96, 'y_max': -50}"
      ]
     },
     "execution_count": 3,
     "metadata": {},
     "output_type": "execute_result"
    }
   ],
   "source": [
    "target = parse_data('target area: x=288..330, y=-96..-50')\n",
    "target"
   ]
  },
  {
   "cell_type": "markdown",
   "metadata": {},
   "source": [
    "## Part 1\n",
    "---"
   ]
  },
  {
   "cell_type": "code",
   "execution_count": 4,
   "metadata": {},
   "outputs": [],
   "source": [
    "def in_target(position, target):\n",
    "    \"\"\"Determine whether a given x, y position is within the target range.\"\"\"\n",
    "\n",
    "    if ((target['x_min'] <= position['x'] <= target['x_max']) and \n",
    "        (target['y_min'] <= position['y'] <= target['y_max'])):\n",
    "        return True\n",
    "\n",
    "    else:\n",
    "        return False"
   ]
  },
  {
   "cell_type": "code",
   "execution_count": 5,
   "metadata": {},
   "outputs": [
    {
     "data": {
      "text/plain": [
       "True"
      ]
     },
     "execution_count": 5,
     "metadata": {},
     "output_type": "execute_result"
    }
   ],
   "source": [
    "position = {'x':25, 'y':-8}\n",
    "in_target(position, test_target)  # Should return True"
   ]
  },
  {
   "cell_type": "code",
   "execution_count": 6,
   "metadata": {},
   "outputs": [
    {
     "data": {
      "text/plain": [
       "False"
      ]
     },
     "execution_count": 6,
     "metadata": {},
     "output_type": "execute_result"
    }
   ],
   "source": [
    "position = {'x':0, 'y':10}\n",
    "in_target(position, test_target)  # Should return False"
   ]
  },
  {
   "cell_type": "code",
   "execution_count": 7,
   "metadata": {},
   "outputs": [],
   "source": [
    "def next_step(position, velocity):\n",
    "    \"\"\"Return the next x, y position and x, y velocity.\"\"\"\n",
    "\n",
    "    position['x'] += velocity['x']\n",
    "    position['y'] += velocity['y']\n",
    "\n",
    "    if velocity['x'] > 0:\n",
    "        velocity['x'] -= 1\n",
    "    elif velocity['x'] < 0:\n",
    "        velocity['x'] += 1\n",
    "\n",
    "    velocity['y'] -= 1\n",
    "\n",
    "    return position, velocity"
   ]
  },
  {
   "cell_type": "code",
   "execution_count": 8,
   "metadata": {},
   "outputs": [
    {
     "data": {
      "text/plain": [
       "({'x': 10, 'y': 10}, {'x': 9, 'y': 9})"
      ]
     },
     "execution_count": 8,
     "metadata": {},
     "output_type": "execute_result"
    }
   ],
   "source": [
    "position = {'x':0, 'y':0}; velocity = {'x':10, 'y':10}\n",
    "next_step(position, velocity)  # Should return position{'x':10, 'y':10}, velocity{'x':9, 'y':9}"
   ]
  },
  {
   "cell_type": "code",
   "execution_count": 9,
   "metadata": {},
   "outputs": [],
   "source": [
    "def run_steps(position, velocity, target):\n",
    "    \"\"\"Run through steps to see if a given x, y velocity lands in the given target.\n",
    "    (All starting positions are at 0, 0.)\n",
    "\n",
    "    If it does hit the target, return the maximum height of the arc.\n",
    "    \"\"\"\n",
    "    \n",
    "    position = position.copy()\n",
    "    velocity = velocity.copy()\n",
    "\n",
    "    max_y = position['y']\n",
    "\n",
    "    while position['y'] >= target['y_min'] and position['x'] <= target['x_max']:\n",
    "        max_y = max(max_y, position['y'])\n",
    "        \n",
    "        if in_target(position, target):\n",
    "            return max_y\n",
    "        else:\n",
    "            position, velocity = next_step(position, velocity)\n",
    "        # print(position)\n",
    "\n",
    "    return 'missed target'"
   ]
  },
  {
   "cell_type": "code",
   "execution_count": 10,
   "metadata": {},
   "outputs": [
    {
     "data": {
      "text/plain": [
       "3"
      ]
     },
     "execution_count": 10,
     "metadata": {},
     "output_type": "execute_result"
    }
   ],
   "source": [
    "position = {'x':0, 'y':0}; velocity = {'x':7, 'y':2}\n",
    "run_steps(position, velocity, test_target)  # Should return 3"
   ]
  },
  {
   "cell_type": "code",
   "execution_count": 11,
   "metadata": {},
   "outputs": [
    {
     "data": {
      "text/plain": [
       "6"
      ]
     },
     "execution_count": 11,
     "metadata": {},
     "output_type": "execute_result"
    }
   ],
   "source": [
    "position = {'x':0, 'y':0}; velocity = {'x':6, 'y':3}\n",
    "run_steps(position, velocity, test_target)  # Should return 6"
   ]
  },
  {
   "cell_type": "code",
   "execution_count": 12,
   "metadata": {},
   "outputs": [
    {
     "data": {
      "text/plain": [
       "0"
      ]
     },
     "execution_count": 12,
     "metadata": {},
     "output_type": "execute_result"
    }
   ],
   "source": [
    "position = {'x':0, 'y':0}; velocity = {'x':9, 'y':0}\n",
    "run_steps(position, velocity, test_target)  # Should return 0"
   ]
  },
  {
   "cell_type": "code",
   "execution_count": 13,
   "metadata": {},
   "outputs": [
    {
     "data": {
      "text/plain": [
       "'missed target'"
      ]
     },
     "execution_count": 13,
     "metadata": {},
     "output_type": "execute_result"
    }
   ],
   "source": [
    "position = {'x':0, 'y':0}; velocity = {'x':17, 'y':-4}\n",
    "run_steps(position, velocity, test_target)  # Should return 'missed target'"
   ]
  },
  {
   "cell_type": "code",
   "execution_count": 14,
   "metadata": {},
   "outputs": [
    {
     "data": {
      "text/plain": [
       "45"
      ]
     },
     "execution_count": 14,
     "metadata": {},
     "output_type": "execute_result"
    }
   ],
   "source": [
    "position = {'x':0, 'y':0}; velocity = {'x':6, 'y':9}\n",
    "run_steps(position, velocity, test_target)  # Should return 45"
   ]
  },
  {
   "cell_type": "code",
   "execution_count": 15,
   "metadata": {},
   "outputs": [
    {
     "data": {
      "text/plain": [
       "'missed target'"
      ]
     },
     "execution_count": 15,
     "metadata": {},
     "output_type": "execute_result"
    }
   ],
   "source": [
    "position = {'x':0, 'y':0}; velocity = {'x':6, 'y':10}\n",
    "run_steps(position, velocity, test_target)  # Should return 'missed target'"
   ]
  },
  {
   "cell_type": "code",
   "execution_count": 16,
   "metadata": {},
   "outputs": [
    {
     "data": {
      "text/plain": [
       "'missed target'"
      ]
     },
     "execution_count": 16,
     "metadata": {},
     "output_type": "execute_result"
    }
   ],
   "source": [
    "position = {'x':0, 'y':0}; velocity = {'x':5, 'y':3}\n",
    "run_steps(position, velocity, test_target)  # Should return 'missed target' -- undershoots target"
   ]
  },
  {
   "cell_type": "code",
   "execution_count": 17,
   "metadata": {},
   "outputs": [],
   "source": [
    "def find_x_velocity(target):\n",
    "    \"\"\"Find the x velocity that produces a vertical drop over the target.\n",
    "    \n",
    "    The peak x velocity will be one that is a triangle number within the target range.\n",
    "    There could be more than one, so I will have to test each of them.\n",
    "    \"\"\"\n",
    "\n",
    "    x_start = 0\n",
    "    triangle_number = 0\n",
    "\n",
    "    while triangle_number < target['x_min']:\n",
    "        x_start += 1\n",
    "        triangle_number = (x_start * (x_start + 1)) / 2\n",
    "\n",
    "    x_stop = x_start\n",
    "    while triangle_number < target['x_max']:\n",
    "        x_stop += 1\n",
    "        triangle_number = (x_stop * (x_stop + 1)) / 2\n",
    "\n",
    "    return x_start, x_stop - 1"
   ]
  },
  {
   "cell_type": "code",
   "execution_count": 18,
   "metadata": {},
   "outputs": [
    {
     "data": {
      "text/plain": [
       "(6, 7)"
      ]
     },
     "execution_count": 18,
     "metadata": {},
     "output_type": "execute_result"
    }
   ],
   "source": [
    "find_x_velocity(test_target)  # Should return 6, 7"
   ]
  },
  {
   "cell_type": "code",
   "execution_count": 19,
   "metadata": {},
   "outputs": [],
   "source": [
    "def find_y_velocity(target):\n",
    "    \"\"\"Find the y velocity that produces the peak value and still lands in the target.\n",
    "    \n",
    "    The peak y velocity will be when there's just a single step left to get from 0 to the \n",
    "    target. That is, the peak y velocity will produce a target hit on the bottom line of the\n",
    "    target, in one of the x columns that are triangle numbers.\n",
    "    \"\"\"\n",
    "\n",
    "    y_velocity = abs(target['y_min']) - 1\n",
    "    return y_velocity"
   ]
  },
  {
   "cell_type": "code",
   "execution_count": 20,
   "metadata": {},
   "outputs": [
    {
     "data": {
      "text/plain": [
       "9"
      ]
     },
     "execution_count": 20,
     "metadata": {},
     "output_type": "execute_result"
    }
   ],
   "source": [
    "find_y_velocity(test_target)  # Should return 9"
   ]
  },
  {
   "cell_type": "code",
   "execution_count": 21,
   "metadata": {},
   "outputs": [],
   "source": [
    "def get_answer(target):\n",
    "\n",
    "    x_start, x_stop = find_x_velocity(target)\n",
    "    y_velocity = find_y_velocity(target)\n",
    "\n",
    "    position = {'x':0, 'y':0}\n",
    "    max_ys = []\n",
    "\n",
    "    for x_velocity in range(x_start, x_stop+1):\n",
    "        velocity = {'x':x_velocity, 'y':y_velocity}\n",
    "        max_y = run_steps(position, velocity, target)\n",
    "        max_ys.append(max_y)\n",
    "\n",
    "    return max(max_ys)"
   ]
  },
  {
   "cell_type": "markdown",
   "metadata": {},
   "source": [
    "### Run on Test Data"
   ]
  },
  {
   "cell_type": "code",
   "execution_count": 22,
   "metadata": {},
   "outputs": [
    {
     "data": {
      "text/plain": [
       "45"
      ]
     },
     "execution_count": 22,
     "metadata": {},
     "output_type": "execute_result"
    }
   ],
   "source": [
    "get_answer(test_target)  # Should return 45"
   ]
  },
  {
   "cell_type": "markdown",
   "metadata": {},
   "source": [
    "### Run on Input Data"
   ]
  },
  {
   "cell_type": "code",
   "execution_count": 23,
   "metadata": {},
   "outputs": [
    {
     "data": {
      "text/plain": [
       "4560"
      ]
     },
     "execution_count": 23,
     "metadata": {},
     "output_type": "execute_result"
    }
   ],
   "source": [
    "get_answer(target)"
   ]
  },
  {
   "cell_type": "markdown",
   "metadata": {},
   "source": [
    "## Part 2\n",
    "---"
   ]
  },
  {
   "cell_type": "code",
   "execution_count": 24,
   "metadata": {},
   "outputs": [],
   "source": [
    "def hits_target(position, velocity, target):\n",
    "    \"\"\"Return initial velocity if it hits the target; return 'missed target' otherwise.\"\"\"\n",
    "\n",
    "    position = position.copy()\n",
    "    initial_velocity = velocity.copy()\n",
    "    velocity = velocity.copy()\n",
    "\n",
    "    while position['y'] >= target['y_min'] and position['x'] <= target['x_max']:\n",
    "\n",
    "        if in_target(position, target):\n",
    "            return initial_velocity\n",
    "        else:\n",
    "            position, velocity = next_step(position, velocity)\n",
    "        # print(position)\n",
    "\n",
    "    return 'missed target'"
   ]
  },
  {
   "cell_type": "code",
   "execution_count": 25,
   "metadata": {},
   "outputs": [],
   "source": [
    "def get_answer2(target):\n",
    "    \"\"\"Return a count of all the possible initial velocities that land in the target.\"\"\"\n",
    "\n",
    "    position = {'x':0, 'y':0}\n",
    "    hits = []\n",
    "\n",
    "    for x in range(target['x_max']+1):\n",
    "        for y in range(target['y_min'], abs(target['y_min'])+1):\n",
    "\n",
    "            velocity = {'x':x, 'y':y}\n",
    "            hit = hits_target(position, velocity, target)\n",
    "\n",
    "            if hit != 'missed target':\n",
    "                hits.append(hit)\n",
    "\n",
    "    return len(hits)"
   ]
  },
  {
   "cell_type": "markdown",
   "metadata": {},
   "source": [
    "### Run on Test Data"
   ]
  },
  {
   "cell_type": "code",
   "execution_count": 26,
   "metadata": {},
   "outputs": [
    {
     "data": {
      "text/plain": [
       "112"
      ]
     },
     "execution_count": 26,
     "metadata": {},
     "output_type": "execute_result"
    }
   ],
   "source": [
    "get_answer2(test_target)  # Should return 112"
   ]
  },
  {
   "cell_type": "markdown",
   "metadata": {},
   "source": [
    "### Run on Input Data"
   ]
  },
  {
   "cell_type": "code",
   "execution_count": 27,
   "metadata": {},
   "outputs": [
    {
     "data": {
      "text/plain": [
       "3344"
      ]
     },
     "execution_count": 27,
     "metadata": {},
     "output_type": "execute_result"
    }
   ],
   "source": [
    "get_answer2(target)"
   ]
  }
 ],
 "metadata": {
  "kernelspec": {
   "display_name": "Python 3",
   "language": "python",
   "name": "python3"
  },
  "language_info": {
   "codemirror_mode": {
    "name": "ipython",
    "version": 3
   },
   "file_extension": ".py",
   "mimetype": "text/x-python",
   "name": "python",
   "nbconvert_exporter": "python",
   "pygments_lexer": "ipython3",
   "version": "3.9.0"
  }
 },
 "nbformat": 4,
 "nbformat_minor": 4
}
