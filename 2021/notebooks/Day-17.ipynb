{
 "cells": [
  {
   "cell_type": "markdown",
   "metadata": {},
   "source": [
    "# --- Day 17: Trick Shot --- \n",
    "\n",
    "https://adventofcode.com/2021/day/17"
   ]
  },
  {
   "cell_type": "markdown",
   "metadata": {},
   "source": [
    "## Get Input Data"
   ]
  },
  {
   "cell_type": "code",
   "execution_count": 26,
   "metadata": {},
   "outputs": [],
   "source": [
    "def parse_data(str):\n",
    "    \"\"\"Parse data for Trick Shot.\"\"\"\n",
    "\n",
    "    import re\n",
    "\n",
    "    range = re.findall('-?\\d+', str) \n",
    "\n",
    "    target_range = {\n",
    "        'x_min' : int(range[0]),\n",
    "        'x_max' : int(range[1]),\n",
    "        'y_min' : int(range[2]),\n",
    "        'y_max' : int(range[3])\n",
    "    }\n",
    "\n",
    "    return target_range"
   ]
  },
  {
   "cell_type": "code",
   "execution_count": 34,
   "metadata": {},
   "outputs": [
    {
     "data": {
      "text/plain": [
       "{'x_min': 20, 'x_max': 30, 'y_min': -10, 'y_max': -5}"
      ]
     },
     "execution_count": 34,
     "metadata": {},
     "output_type": "execute_result"
    }
   ],
   "source": [
    "test_target = parse_data('target area: x=20..30, y=-10..-5')\n",
    "test_target"
   ]
  },
  {
   "cell_type": "code",
   "execution_count": 35,
   "metadata": {},
   "outputs": [
    {
     "data": {
      "text/plain": [
       "{'x_min': 288, 'x_max': 330, 'y_min': -96, 'y_max': -50}"
      ]
     },
     "execution_count": 35,
     "metadata": {},
     "output_type": "execute_result"
    }
   ],
   "source": [
    "target = parse_data('target area: x=288..330, y=-96..-50')\n",
    "target"
   ]
  },
  {
   "cell_type": "markdown",
   "metadata": {},
   "source": [
    "## Part 1\n",
    "---"
   ]
  },
  {
   "cell_type": "code",
   "execution_count": 40,
   "metadata": {},
   "outputs": [],
   "source": [
    "def in_target(position, target):\n",
    "    \"\"\"Determine whether a given x, y position is within the target range.\"\"\"\n",
    "\n",
    "    if ((target['x_min'] <= position['x'] <= target['x_max']) and \n",
    "        (target['y_min'] <= position['y'] <= target['y_max'])):\n",
    "        return True\n",
    "\n",
    "    else:\n",
    "        return False"
   ]
  },
  {
   "cell_type": "code",
   "execution_count": 42,
   "metadata": {},
   "outputs": [
    {
     "data": {
      "text/plain": [
       "True"
      ]
     },
     "execution_count": 42,
     "metadata": {},
     "output_type": "execute_result"
    }
   ],
   "source": [
    "position = {'x':25, 'y':-8}\n",
    "in_target(position, test_target)  # Should return True"
   ]
  },
  {
   "cell_type": "code",
   "execution_count": 43,
   "metadata": {},
   "outputs": [
    {
     "data": {
      "text/plain": [
       "False"
      ]
     },
     "execution_count": 43,
     "metadata": {},
     "output_type": "execute_result"
    }
   ],
   "source": [
    "position = {'x':0, 'y':10}\n",
    "in_target(position, test_target)  # Should return False"
   ]
  },
  {
   "cell_type": "code",
   "execution_count": 45,
   "metadata": {},
   "outputs": [],
   "source": [
    "def next_step(position, velocity):\n",
    "    \"\"\"Return the next x, y position and x, y velocity.\"\"\"\n",
    "\n",
    "    position['x'] += velocity['x']\n",
    "    position['y'] += velocity['y']\n",
    "\n",
    "    if velocity['x'] > 0:\n",
    "        velocity['x'] -= 1\n",
    "    elif velocity['x'] < 0:\n",
    "        velocity['x'] += 1\n",
    "\n",
    "    velocity['y'] -= 1\n",
    "\n",
    "    return position, velocity"
   ]
  },
  {
   "cell_type": "code",
   "execution_count": 46,
   "metadata": {},
   "outputs": [
    {
     "data": {
      "text/plain": [
       "({'x': 10, 'y': 10}, {'x': 9, 'y': 9})"
      ]
     },
     "execution_count": 46,
     "metadata": {},
     "output_type": "execute_result"
    }
   ],
   "source": [
    "position = {'x':0, 'y':0}; velocity = {'x':10, 'y':10}\n",
    "next_step(position, velocity)  # Should return position{'x':10, 'y':10}, velocity{'x':9, 'y':9}"
   ]
  },
  {
   "cell_type": "code",
   "execution_count": 77,
   "metadata": {},
   "outputs": [],
   "source": [
    "def run_steps(position, velocity, target):\n",
    "    \"\"\" \"\"\"\n",
    "    \n",
    "    max_y = position['y']\n",
    "\n",
    "    while position['y'] >= target['y_min']:\n",
    "        max_y = max(max_y, position['y'])\n",
    "        \n",
    "        if in_target(position, target):\n",
    "            return max_y\n",
    "        else:\n",
    "            position, velocity = next_step(position, velocity)\n",
    "\n",
    "    return 'missed target'"
   ]
  },
  {
   "cell_type": "code",
   "execution_count": 78,
   "metadata": {},
   "outputs": [
    {
     "data": {
      "text/plain": [
       "3"
      ]
     },
     "execution_count": 78,
     "metadata": {},
     "output_type": "execute_result"
    }
   ],
   "source": [
    "position = {'x':0, 'y':0}; velocity = {'x':7, 'y':2}\n",
    "run_steps(position, velocity, test_target)  # Should return 3"
   ]
  },
  {
   "cell_type": "code",
   "execution_count": 79,
   "metadata": {},
   "outputs": [
    {
     "data": {
      "text/plain": [
       "6"
      ]
     },
     "execution_count": 79,
     "metadata": {},
     "output_type": "execute_result"
    }
   ],
   "source": [
    "position = {'x':0, 'y':0}; velocity = {'x':6, 'y':3}\n",
    "run_steps(position, velocity, test_target)  # Should return 6"
   ]
  },
  {
   "cell_type": "code",
   "execution_count": 80,
   "metadata": {},
   "outputs": [
    {
     "data": {
      "text/plain": [
       "0"
      ]
     },
     "execution_count": 80,
     "metadata": {},
     "output_type": "execute_result"
    }
   ],
   "source": [
    "position = {'x':0, 'y':0}; velocity = {'x':9, 'y':0}\n",
    "run_steps(position, velocity, test_target)  # Should return 0"
   ]
  },
  {
   "cell_type": "code",
   "execution_count": 81,
   "metadata": {},
   "outputs": [
    {
     "data": {
      "text/plain": [
       "'missed target'"
      ]
     },
     "execution_count": 81,
     "metadata": {},
     "output_type": "execute_result"
    }
   ],
   "source": [
    "position = {'x':0, 'y':0}; velocity = {'x':17, 'y':-4}\n",
    "run_steps(position, velocity, test_target)  # Should return 'missed target'"
   ]
  },
  {
   "cell_type": "code",
   "execution_count": 82,
   "metadata": {},
   "outputs": [
    {
     "data": {
      "text/plain": [
       "45"
      ]
     },
     "execution_count": 82,
     "metadata": {},
     "output_type": "execute_result"
    }
   ],
   "source": [
    "position = {'x':0, 'y':0}; velocity = {'x':6, 'y':9}\n",
    "run_steps(position, velocity, test_target)  # Should return 45"
   ]
  },
  {
   "cell_type": "markdown",
   "metadata": {},
   "source": [
    "### Run on Test Data"
   ]
  },
  {
   "cell_type": "code",
   "execution_count": null,
   "metadata": {},
   "outputs": [],
   "source": []
  },
  {
   "cell_type": "markdown",
   "metadata": {},
   "source": [
    "### Run on Input Data"
   ]
  },
  {
   "cell_type": "code",
   "execution_count": null,
   "metadata": {},
   "outputs": [],
   "source": []
  },
  {
   "cell_type": "markdown",
   "metadata": {},
   "source": [
    "## Part 2\n",
    "---"
   ]
  },
  {
   "cell_type": "code",
   "execution_count": null,
   "metadata": {},
   "outputs": [],
   "source": []
  },
  {
   "cell_type": "markdown",
   "metadata": {},
   "source": [
    "### Run on Test Data"
   ]
  },
  {
   "cell_type": "code",
   "execution_count": null,
   "metadata": {},
   "outputs": [],
   "source": []
  },
  {
   "cell_type": "markdown",
   "metadata": {},
   "source": [
    "### Run on Input Data"
   ]
  },
  {
   "cell_type": "code",
   "execution_count": null,
   "metadata": {},
   "outputs": [],
   "source": []
  }
 ],
 "metadata": {
  "kernelspec": {
   "display_name": "Python 3",
   "language": "python",
   "name": "python3"
  },
  "language_info": {
   "codemirror_mode": {
    "name": "ipython",
    "version": 3
   },
   "file_extension": ".py",
   "mimetype": "text/x-python",
   "name": "python",
   "nbconvert_exporter": "python",
   "pygments_lexer": "ipython3",
   "version": "3.9.0"
  }
 },
 "nbformat": 4,
 "nbformat_minor": 4
}
