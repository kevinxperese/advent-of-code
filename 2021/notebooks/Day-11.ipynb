{
 "cells": [
  {
   "cell_type": "markdown",
   "metadata": {},
   "source": [
    "# --- Day 11: Dumbo Octopus --- \n",
    "\n",
    "https://adventofcode.com/2021/day/11"
   ]
  },
  {
   "cell_type": "markdown",
   "metadata": {},
   "source": [
    "## Get Input Data"
   ]
  },
  {
   "cell_type": "code",
   "execution_count": 1,
   "metadata": {},
   "outputs": [],
   "source": [
    "import numpy as np"
   ]
  },
  {
   "cell_type": "code",
   "execution_count": 2,
   "metadata": {},
   "outputs": [
    {
     "data": {
      "text/plain": [
       "matrix([[1, 1, 1, 1, 1],\n",
       "        [1, 9, 9, 9, 1],\n",
       "        [1, 9, 1, 9, 1],\n",
       "        [1, 9, 9, 9, 1],\n",
       "        [1, 1, 1, 1, 1]])"
      ]
     },
     "execution_count": 2,
     "metadata": {},
     "output_type": "execute_result"
    }
   ],
   "source": [
    "small_test_data = '11111\\n19991\\n19191\\n19991\\n11111'\n",
    "small_test_energy_levels = np.matrix([[int(x) for x in line] for line in small_test_data.split('\\n')])\n",
    "small_test_energy_levels"
   ]
  },
  {
   "cell_type": "code",
   "execution_count": 3,
   "metadata": {},
   "outputs": [],
   "source": [
    "with open('../inputs/test_energy_levels.txt') as file:\n",
    "    test_energy_levels = np.matrix([[int(x) for x in line.strip()] for line in file.readlines()])"
   ]
  },
  {
   "cell_type": "code",
   "execution_count": 4,
   "metadata": {},
   "outputs": [],
   "source": [
    "with open('../inputs/energy_levels.txt') as file:\n",
    "    energy_levels = np.matrix([[int(x) for x in line.strip()] for line in file.readlines()])"
   ]
  },
  {
   "cell_type": "markdown",
   "metadata": {},
   "source": [
    "## Part 1\n",
    "---"
   ]
  },
  {
   "cell_type": "code",
   "execution_count": 5,
   "metadata": {},
   "outputs": [],
   "source": [
    "def get_neighbors(point, max_n):\n",
    "    \"\"\"Return a list of all good neighbors, vertically, horizontally, and diagonally.\n",
    "    max_n = size of square\n",
    "    \"\"\"\n",
    "\n",
    "    i, j = point[0], point[1]\n",
    "    \n",
    "    neighbor_i = np.array([i+1, i-1, i+0, i+0, i+1, i-1, i+1, i-1], dtype='int64')\n",
    "    neighbor_j = np.array([j+0, j+0, j+1, j-1, j+1, j-1, j-1, j+1], dtype='int64')\n",
    "\n",
    "    # Reverse through range of len(neighbor_i) and remove from both\n",
    "    # neighbor_i and neighbor_j any i, j pair that is outside permitted range (0:max_n)\n",
    "    for pos in range(len(neighbor_i)-1, -1, -1):\n",
    "        if not 0 <= neighbor_i[pos] <= max_n or not 0 <= neighbor_j[pos] <= max_n:\n",
    "            neighbor_i = np.delete(neighbor_i, pos)\n",
    "            neighbor_j = np.delete(neighbor_j, pos)\n",
    "\n",
    "    return [neighbor_i, neighbor_j]"
   ]
  },
  {
   "cell_type": "code",
   "execution_count": 6,
   "metadata": {},
   "outputs": [],
   "source": [
    "def find_flashes(points, grid):\n",
    "    \"\"\"Recursively count the number of flashes in a step.\"\"\"\n",
    "\n",
    "    num_flashes = 0\n",
    "\n",
    "    # Stopping condition:\n",
    "    # If there are no 9s in the grid[points], then this will be the \n",
    "    # last recursive call, so increment one more time, then return\n",
    "    if not 9 in grid[tuple(points)]:\n",
    "        grid[tuple(points)] += 1\n",
    "        return num_flashes\n",
    "\n",
    "    for i, j in zip(*points):\n",
    "        grid[i, j] += 1\n",
    "\n",
    "        if grid[i, j] == 10:\n",
    "            num_flashes += 1\n",
    "            neighbors = get_neighbors((i, j), len(grid)-1)\n",
    "            num_flashes += find_flashes(neighbors, grid)\n",
    "\n",
    "    return num_flashes"
   ]
  },
  {
   "cell_type": "code",
   "execution_count": 7,
   "metadata": {},
   "outputs": [],
   "source": [
    "def run_steps(grid, n):\n",
    "    \"\"\"Run grid through n steps.\"\"\"\n",
    "\n",
    "    grid = grid.copy()\n",
    "\n",
    "    num_flashes = 0\n",
    "    for _ in range(n):\n",
    "        \n",
    "        points = np.where(grid >= 0)\n",
    "        num_flashes += find_flashes(points, grid)\n",
    "\n",
    "        # Reset energy levels > 9 back to 0\n",
    "        grid = np.where(grid > 9, 0, grid)\n",
    "\n",
    "    return num_flashes    "
   ]
  },
  {
   "cell_type": "markdown",
   "metadata": {},
   "source": [
    "### Run on Test Data"
   ]
  },
  {
   "cell_type": "code",
   "execution_count": 8,
   "metadata": {},
   "outputs": [
    {
     "data": {
      "text/plain": [
       "204"
      ]
     },
     "execution_count": 8,
     "metadata": {},
     "output_type": "execute_result"
    }
   ],
   "source": [
    "run_steps(test_energy_levels, 10)  # Should return 204"
   ]
  },
  {
   "cell_type": "code",
   "execution_count": 9,
   "metadata": {},
   "outputs": [
    {
     "data": {
      "text/plain": [
       "1656"
      ]
     },
     "execution_count": 9,
     "metadata": {},
     "output_type": "execute_result"
    }
   ],
   "source": [
    "run_steps(test_energy_levels, 100)  # Should return 1656"
   ]
  },
  {
   "cell_type": "markdown",
   "metadata": {},
   "source": [
    "### Run on Input Data"
   ]
  },
  {
   "cell_type": "code",
   "execution_count": 10,
   "metadata": {},
   "outputs": [
    {
     "data": {
      "text/plain": [
       "1705"
      ]
     },
     "execution_count": 10,
     "metadata": {},
     "output_type": "execute_result"
    }
   ],
   "source": [
    "run_steps(energy_levels, 100)"
   ]
  },
  {
   "cell_type": "markdown",
   "metadata": {},
   "source": [
    "## Part 2\n",
    "---"
   ]
  },
  {
   "cell_type": "code",
   "execution_count": 11,
   "metadata": {},
   "outputs": [],
   "source": [
    "def run_steps_until_all_flash(grid):\n",
    "    \"\"\"Run grid through steps until all cells flash at the same time.\"\"\"\n",
    "\n",
    "    grid = grid.copy()\n",
    "\n",
    "    step = 0\n",
    "    while grid.sum() > 0:\n",
    "        step += 1\n",
    "\n",
    "        points = np.where(grid >= 0)\n",
    "        _ = find_flashes(points, grid)\n",
    "\n",
    "        # Reset energy levels > 9 back to 0\n",
    "        grid = np.where(grid > 9, 0, grid)\n",
    "\n",
    "    return step"
   ]
  },
  {
   "cell_type": "markdown",
   "metadata": {},
   "source": [
    "### Run on Test Data"
   ]
  },
  {
   "cell_type": "code",
   "execution_count": 12,
   "metadata": {},
   "outputs": [
    {
     "data": {
      "text/plain": [
       "195"
      ]
     },
     "execution_count": 12,
     "metadata": {},
     "output_type": "execute_result"
    }
   ],
   "source": [
    "run_steps_until_all_flash(test_energy_levels)  # Should return 195"
   ]
  },
  {
   "cell_type": "markdown",
   "metadata": {},
   "source": [
    "### Run on Input Data"
   ]
  },
  {
   "cell_type": "code",
   "execution_count": 13,
   "metadata": {},
   "outputs": [
    {
     "data": {
      "text/plain": [
       "265"
      ]
     },
     "execution_count": 13,
     "metadata": {},
     "output_type": "execute_result"
    }
   ],
   "source": [
    "run_steps_until_all_flash(energy_levels)"
   ]
  }
 ],
 "metadata": {
  "kernelspec": {
   "display_name": "Python 3",
   "language": "python",
   "name": "python3"
  },
  "language_info": {
   "codemirror_mode": {
    "name": "ipython",
    "version": 3
   },
   "file_extension": ".py",
   "mimetype": "text/x-python",
   "name": "python",
   "nbconvert_exporter": "python",
   "pygments_lexer": "ipython3",
   "version": "3.8.8"
  }
 },
 "nbformat": 4,
 "nbformat_minor": 4
}
