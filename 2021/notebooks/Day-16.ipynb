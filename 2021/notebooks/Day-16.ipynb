{
 "cells": [
  {
   "cell_type": "markdown",
   "metadata": {},
   "source": [
    "# --- Day 16: Packet Decoder --- \n",
    "\n",
    "https://adventofcode.com/2021/day/16"
   ]
  },
  {
   "cell_type": "markdown",
   "metadata": {},
   "source": [
    "## Get Input Data"
   ]
  },
  {
   "cell_type": "code",
   "execution_count": 1,
   "metadata": {},
   "outputs": [
    {
     "data": {
      "text/plain": [
       "'40541D900AEDC01A88002191FE2F45D1006A2FC2388D278D4653E3910020F2E2F3E24C007ECD7ABA6A200E6E8017F92C934CFA0E5290B569CE0F4BA5180213D963C00DC40010A87905A0900021B0D624C34600906725FFCF597491C6008C01B0004223342488A200F4378C9198401B87311A0C0803E600FC4887F14CC01C8AF16A2010021D1260DC7530042C012957193779F96AD9B36100907A00980021513E3943600043225C1A8EB2C3040043CC3B1802B400D3CA4B8D3292E37C30600B325A541D979606E384B524C06008E802515A638A73A226009CDA5D8026200D473851150401E8BF16E2ACDFB7DCD4F5C02897A5288D299D89CA6AA672AD5118804F592FC5BE8037000042217C64876000874728550D4C0149F29D00524ACCD2566795A0D880432BEAC79995C86483A6F3B9F6833397DEA03E401004F28CD894B9C48A34BC371CF7AA840155E002012E21260923DC4C248035299ECEB0AC4DFC0179B864865CF8802F9A005E264C25372ABAC8DEA706009F005C32B7FCF1BF91CADFF3C6FE4B3FB073005A6F93B633B12E0054A124BEE9C570004B245126F6E11E5C0199BDEDCE589275C10027E97BE7EF330F126DF3817354FFC82671BB5402510C803788DFA009CAFB14ECDFE57D8A766F0001A74F924AC99678864725F253FD134400F9B5D3004A46489A00A4BEAD8F7F1F7497C39A0020F357618C71648032BB004E4BBC4292EF1167274F1AA0078902262B0D4718229C8608A5226528F86008CFA6E802F275E2248C65F3610066274CEA9A86794E58AA5E5BDE73F34945E2008D27D2278EE30C489B3D20336D00C2F002DF480AC820287D8096F700288082C001DE1400C50035005AA2013E5400B10028C009600A74001EF2004F8400C92B172801F0F4C0139B8E19A8017D96A510A7E698800EAC9294A6E985783A400AE4A2945E9170'"
      ]
     },
     "execution_count": 1,
     "metadata": {},
     "output_type": "execute_result"
    }
   ],
   "source": [
    "with open('../inputs/BITS.txt') as file:\n",
    "    BITS = file.readline().strip()\n",
    "BITS"
   ]
  },
  {
   "cell_type": "markdown",
   "metadata": {},
   "source": [
    "## Part 1\n",
    "---"
   ]
  },
  {
   "cell_type": "code",
   "execution_count": 2,
   "metadata": {},
   "outputs": [],
   "source": [
    "def hex_to_bin(hex_str):\n",
    "    \"Take a string of hexadecimal characters and convert each to a 4 character binary string.\"\n",
    "\n",
    "    bin_str = ''\n",
    "\n",
    "    for char in hex_str:\n",
    "        bin_str += bin(int(char, 16))[2:].zfill(4)  # left pad with zeros so len(bin_str) == 4\n",
    "\n",
    "    return bin_str"
   ]
  },
  {
   "cell_type": "markdown",
   "metadata": {},
   "source": [
    "#### Run some tests"
   ]
  },
  {
   "cell_type": "code",
   "execution_count": 3,
   "metadata": {},
   "outputs": [
    {
     "data": {
      "text/plain": [
       "'0000'"
      ]
     },
     "execution_count": 3,
     "metadata": {},
     "output_type": "execute_result"
    }
   ],
   "source": [
    "hex_to_bin('0')  # Should return '0000'"
   ]
  },
  {
   "cell_type": "code",
   "execution_count": 4,
   "metadata": {},
   "outputs": [
    {
     "data": {
      "text/plain": [
       "'0101'"
      ]
     },
     "execution_count": 4,
     "metadata": {},
     "output_type": "execute_result"
    }
   ],
   "source": [
    "hex_to_bin('5')  # Should return '0101'"
   ]
  },
  {
   "cell_type": "code",
   "execution_count": 5,
   "metadata": {},
   "outputs": [
    {
     "data": {
      "text/plain": [
       "'1111'"
      ]
     },
     "execution_count": 5,
     "metadata": {},
     "output_type": "execute_result"
    }
   ],
   "source": [
    "hex_to_bin('f')  # Should return '1111'"
   ]
  },
  {
   "cell_type": "code",
   "execution_count": 6,
   "metadata": {},
   "outputs": [
    {
     "data": {
      "text/plain": [
       "True"
      ]
     },
     "execution_count": 6,
     "metadata": {},
     "output_type": "execute_result"
    }
   ],
   "source": [
    "hex_to_bin('D2FE28') == '110100101111111000101000'"
   ]
  },
  {
   "cell_type": "code",
   "execution_count": 7,
   "metadata": {},
   "outputs": [
    {
     "data": {
      "text/plain": [
       "True"
      ]
     },
     "execution_count": 7,
     "metadata": {},
     "output_type": "execute_result"
    }
   ],
   "source": [
    "hex_to_bin('38006F45291200') == '00111000000000000110111101000101001010010001001000000000'"
   ]
  },
  {
   "cell_type": "code",
   "execution_count": 8,
   "metadata": {},
   "outputs": [
    {
     "data": {
      "text/plain": [
       "True"
      ]
     },
     "execution_count": 8,
     "metadata": {},
     "output_type": "execute_result"
    }
   ],
   "source": [
    "hex_to_bin('EE00D40C823060') == '11101110000000001101010000001100100000100011000001100000'"
   ]
  },
  {
   "cell_type": "code",
   "execution_count": 9,
   "metadata": {},
   "outputs": [],
   "source": [
    "def get_header_info(bin_str, position):\n",
    "    \"\"\"Extract the packet header info.\n",
    "    Return integer representation of packet version, and packet type, and position.\n",
    "    \"\"\"\n",
    "\n",
    "    version = int(bin_str[position : position + 3], base=2)\n",
    "    type = int(bin_str[position + 3 : position + 6], base=2)\n",
    "\n",
    "    # Move position to next place in bin_str\n",
    "    position = position + 6\n",
    "\n",
    "    return version, type, position"
   ]
  },
  {
   "cell_type": "markdown",
   "metadata": {},
   "source": [
    "#### Run a test"
   ]
  },
  {
   "cell_type": "code",
   "execution_count": 10,
   "metadata": {},
   "outputs": [
    {
     "data": {
      "text/plain": [
       "(6, 4, 6)"
      ]
     },
     "execution_count": 10,
     "metadata": {},
     "output_type": "execute_result"
    }
   ],
   "source": [
    "get_header_info(hex_to_bin('D2FE28'), 0)  # Should return 6, 4, 6"
   ]
  },
  {
   "cell_type": "code",
   "execution_count": 11,
   "metadata": {},
   "outputs": [],
   "source": [
    "def decode_packet(packet, version_sum, position):\n",
    "    \"\"\"Decode a transmission packet.\"\"\"\n",
    "\n",
    "    version, type_id, position = get_header_info(packet, position)\n",
    "    version_sum += version\n",
    "\n",
    "    # Literal value packets -- stopping condition, essentially\n",
    "    if type_id == 4:\n",
    "        value, position = decode_literal_value(packet, position)\n",
    "\n",
    "    # Operator packets -- can contain subpackets, so recurssive calls to decode_packet() are made.\n",
    "    else:\n",
    "        version_sum, position = decode_operator_packet(packet, position, version_sum)\n",
    "\n",
    "    return version_sum, position"
   ]
  },
  {
   "cell_type": "code",
   "execution_count": 12,
   "metadata": {},
   "outputs": [],
   "source": [
    "def decode_literal_value(bin_str, position):\n",
    "    \"\"\"Decode literal value packet.\"\"\"\n",
    "\n",
    "    # Build up binary string of the literal value\n",
    "    value_bin = ''\n",
    "\n",
    "    while bin_str[position] != '0':\n",
    "        value_bin += bin_str[(position + 1) : (position + 5)]\n",
    "        position += 5\n",
    "\n",
    "    # Get last binary string group after bin_str[position] == 0\n",
    "    value_bin += bin_str[(position + 1) : (position + 5)]\n",
    "\n",
    "    # Convert from bindary string to integer\n",
    "    value = int(value_bin, base=2)\n",
    "\n",
    "    # And increment the position past the last group, too\n",
    "    position += 5\n",
    "\n",
    "    return value, position"
   ]
  },
  {
   "cell_type": "markdown",
   "metadata": {},
   "source": [
    "#### Run a test"
   ]
  },
  {
   "cell_type": "code",
   "execution_count": 13,
   "metadata": {},
   "outputs": [
    {
     "data": {
      "text/plain": [
       "(2021, 21)"
      ]
     },
     "execution_count": 13,
     "metadata": {},
     "output_type": "execute_result"
    }
   ],
   "source": [
    "decode_literal_value(hex_to_bin('D2FE28'), 6)  # Should return 2021, 21"
   ]
  },
  {
   "cell_type": "code",
   "execution_count": 14,
   "metadata": {},
   "outputs": [
    {
     "data": {
      "text/plain": [
       "(6, 21)"
      ]
     },
     "execution_count": 14,
     "metadata": {},
     "output_type": "execute_result"
    }
   ],
   "source": [
    "decode_packet(hex_to_bin('D2FE28'), 0, 0)  # Should return 6, 21"
   ]
  },
  {
   "cell_type": "code",
   "execution_count": 15,
   "metadata": {},
   "outputs": [],
   "source": [
    "def decode_operator_packet(bin_str, position, version_sum):\n",
    "    \"\"\"Decode operater packet, which can contain multiple subpackets.\"\"\"\n",
    "\n",
    "    # Length type ID == '0' means next 15 bits represent\n",
    "    # the total length (in bits) of the subpackets contained in this packet\n",
    "    if bin_str[position] == '0':\n",
    "\n",
    "        subpacket_length = int(bin_str[(position + 1) : (position + 16)], base=2)\n",
    "        position += 16\n",
    "        end_subpackets = position + subpacket_length\n",
    "        \n",
    "        while position < end_subpackets:\n",
    "            version_sum, position = decode_packet(bin_str, version_sum, position)\n",
    "\n",
    "    # Lenght type ID == '1' means next 11 bits represent\n",
    "    # the number of subpackets contained in this packet\n",
    "    elif bin_str[position] == '1':\n",
    "\n",
    "        num_subpackets = int(bin_str[(position + 1) : (position + 12)], base=2)\n",
    "        position += 12\n",
    "        for _ in range(num_subpackets):\n",
    "            version_sum, position = decode_packet(bin_str, version_sum, position)\n",
    "\n",
    "    return version_sum, position"
   ]
  },
  {
   "cell_type": "markdown",
   "metadata": {},
   "source": [
    "#### Run some tests"
   ]
  },
  {
   "cell_type": "markdown",
   "metadata": {},
   "source": [
    "**Example 1:** hex string => `38006F45291200`"
   ]
  },
  {
   "cell_type": "code",
   "execution_count": 16,
   "metadata": {},
   "outputs": [
    {
     "data": {
      "text/plain": [
       "'00111000000000000110111101000101001010010001001000000000'"
      ]
     },
     "execution_count": 16,
     "metadata": {},
     "output_type": "execute_result"
    }
   ],
   "source": [
    "example_bin_str = hex_to_bin('38006F45291200')\n",
    "example_bin_str"
   ]
  },
  {
   "cell_type": "code",
   "execution_count": 17,
   "metadata": {},
   "outputs": [
    {
     "data": {
      "text/plain": [
       "1"
      ]
     },
     "execution_count": 17,
     "metadata": {},
     "output_type": "execute_result"
    }
   ],
   "source": [
    "get_header_info(example_bin_str, 0)[0]  # Should return 1"
   ]
  },
  {
   "cell_type": "code",
   "execution_count": 18,
   "metadata": {},
   "outputs": [
    {
     "data": {
      "text/plain": [
       "6"
      ]
     },
     "execution_count": 18,
     "metadata": {},
     "output_type": "execute_result"
    }
   ],
   "source": [
    "# Version for subpacket A:\n",
    "get_header_info('11010001010', 0)[0]"
   ]
  },
  {
   "cell_type": "code",
   "execution_count": 19,
   "metadata": {},
   "outputs": [
    {
     "data": {
      "text/plain": [
       "2"
      ]
     },
     "execution_count": 19,
     "metadata": {},
     "output_type": "execute_result"
    }
   ],
   "source": [
    "# Version for subpacket B:\n",
    "get_header_info('0101001000100100', 0)[0]"
   ]
  },
  {
   "cell_type": "code",
   "execution_count": 20,
   "metadata": {},
   "outputs": [
    {
     "data": {
      "text/plain": [
       "9"
      ]
     },
     "execution_count": 20,
     "metadata": {},
     "output_type": "execute_result"
    }
   ],
   "source": [
    "decode_packet(hex_to_bin('38006F45291200'), 0, 0)[0]  # Should return 9 (1 + 6 + 2)"
   ]
  },
  {
   "cell_type": "markdown",
   "metadata": {},
   "source": [
    "**Example 2:** hex string => `EE00D40C823060`"
   ]
  },
  {
   "cell_type": "code",
   "execution_count": 21,
   "metadata": {},
   "outputs": [
    {
     "data": {
      "text/plain": [
       "'11101110000000001101010000001100100000100011000001100000'"
      ]
     },
     "execution_count": 21,
     "metadata": {},
     "output_type": "execute_result"
    }
   ],
   "source": [
    "example2_bin_str = hex_to_bin('EE00D40C823060')\n",
    "example2_bin_str"
   ]
  },
  {
   "cell_type": "code",
   "execution_count": 22,
   "metadata": {},
   "outputs": [
    {
     "data": {
      "text/plain": [
       "7"
      ]
     },
     "execution_count": 22,
     "metadata": {},
     "output_type": "execute_result"
    }
   ],
   "source": [
    "get_header_info(example2_bin_str, 0)[0]  # Should return 7"
   ]
  },
  {
   "cell_type": "code",
   "execution_count": 23,
   "metadata": {},
   "outputs": [
    {
     "data": {
      "text/plain": [
       "2"
      ]
     },
     "execution_count": 23,
     "metadata": {},
     "output_type": "execute_result"
    }
   ],
   "source": [
    "# Version for subpacket A\n",
    "get_header_info('01010000001', 0)[0]"
   ]
  },
  {
   "cell_type": "code",
   "execution_count": 24,
   "metadata": {},
   "outputs": [
    {
     "data": {
      "text/plain": [
       "4"
      ]
     },
     "execution_count": 24,
     "metadata": {},
     "output_type": "execute_result"
    }
   ],
   "source": [
    "# Version for subpackat B\n",
    "get_header_info('10010000010', 0)[0]"
   ]
  },
  {
   "cell_type": "code",
   "execution_count": 25,
   "metadata": {},
   "outputs": [
    {
     "data": {
      "text/plain": [
       "1"
      ]
     },
     "execution_count": 25,
     "metadata": {},
     "output_type": "execute_result"
    }
   ],
   "source": [
    "# Version for subpacket C\n",
    "get_header_info('00110000011', 0)[0]"
   ]
  },
  {
   "cell_type": "code",
   "execution_count": 26,
   "metadata": {},
   "outputs": [
    {
     "data": {
      "text/plain": [
       "14"
      ]
     },
     "execution_count": 26,
     "metadata": {},
     "output_type": "execute_result"
    }
   ],
   "source": [
    "decode_packet(hex_to_bin('EE00D40C823060'), 0, 0)[0]  # Should return 14 (7 + 2 + 4 + 1)"
   ]
  },
  {
   "cell_type": "markdown",
   "metadata": {},
   "source": [
    "### Run on Test Data"
   ]
  },
  {
   "cell_type": "code",
   "execution_count": 27,
   "metadata": {},
   "outputs": [
    {
     "data": {
      "text/plain": [
       "16"
      ]
     },
     "execution_count": 27,
     "metadata": {},
     "output_type": "execute_result"
    }
   ],
   "source": [
    "decode_packet(hex_to_bin('8A004A801A8002F478'), 0, 0)[0]  # Should return 16"
   ]
  },
  {
   "cell_type": "code",
   "execution_count": 28,
   "metadata": {},
   "outputs": [
    {
     "data": {
      "text/plain": [
       "12"
      ]
     },
     "execution_count": 28,
     "metadata": {},
     "output_type": "execute_result"
    }
   ],
   "source": [
    "decode_packet(hex_to_bin('620080001611562C8802118E34'), 0, 0)[0]  # Should return 12"
   ]
  },
  {
   "cell_type": "code",
   "execution_count": 29,
   "metadata": {},
   "outputs": [
    {
     "data": {
      "text/plain": [
       "23"
      ]
     },
     "execution_count": 29,
     "metadata": {},
     "output_type": "execute_result"
    }
   ],
   "source": [
    "decode_packet(hex_to_bin('C0015000016115A2E0802F182340'), 0, 0)[0]  # Should return 23"
   ]
  },
  {
   "cell_type": "code",
   "execution_count": 30,
   "metadata": {},
   "outputs": [
    {
     "data": {
      "text/plain": [
       "31"
      ]
     },
     "execution_count": 30,
     "metadata": {},
     "output_type": "execute_result"
    }
   ],
   "source": [
    "decode_packet(hex_to_bin('A0016C880162017C3686B18A3D4780'), 0, 0)[0]  # Should return 31"
   ]
  },
  {
   "cell_type": "markdown",
   "metadata": {},
   "source": [
    "### Run on Input Data"
   ]
  },
  {
   "cell_type": "code",
   "execution_count": 31,
   "metadata": {},
   "outputs": [
    {
     "data": {
      "text/plain": [
       "945"
      ]
     },
     "execution_count": 31,
     "metadata": {},
     "output_type": "execute_result"
    }
   ],
   "source": [
    "decode_packet(hex_to_bin(BITS), 0, 0)[0] "
   ]
  },
  {
   "cell_type": "markdown",
   "metadata": {},
   "source": [
    "## Part 2\n",
    "---"
   ]
  },
  {
   "cell_type": "code",
   "execution_count": 109,
   "metadata": {},
   "outputs": [],
   "source": [
    "def decode_packet2(packet, position, values):\n",
    "    \"\"\"Decode a transmission packet.\"\"\"\n",
    "\n",
    "    _, type_id, position = get_header_info(packet, position)\n",
    "\n",
    "    # Literal value packets\n",
    "    if type_id == 4:\n",
    "        value, position = decode_literal_value2(packet, position)\n",
    "        values.append(value)\n",
    "\n",
    "    # Operator packets\n",
    "    elif type_id == 0:\n",
    "        values, position = decode_operator_packet2(packet, position, values)\n",
    "\n",
    "    elif type_id == 1:\n",
    "        values, position = decode_operator_packet2(packet, position, values)\n",
    "\n",
    "    elif type_id == 2:\n",
    "        values, position = decode_operator_packet2(packet, position, values)\n",
    "\n",
    "    elif type_id == 3:\n",
    "        values, position = decode_operator_packet2(packet, position, values)\n",
    "\n",
    "    elif type_id == 5:\n",
    "        values, position = decode_operator_packet2(packet, position, values)\n",
    "\n",
    "    elif type_id == 6: \n",
    "        values, position = decode_operator_packet2(packet, position, values)\n",
    "\n",
    "    elif type_id == 7:\n",
    "        values, position = decode_operator_packet2(packet, position, values)\n",
    "\n",
    "    return values, position"
   ]
  },
  {
   "cell_type": "code",
   "execution_count": 110,
   "metadata": {},
   "outputs": [],
   "source": [
    "def decode_literal_value2(bin_str, position):\n",
    "    \"\"\"Decode literal value packet.\"\"\"\n",
    "\n",
    "    # Build up binary string of the literal value\n",
    "    value_bin = ''\n",
    "\n",
    "    while bin_str[position] != '0':\n",
    "        value_bin += bin_str[(position + 1) : (position + 5)]\n",
    "        position += 5\n",
    "\n",
    "    # Get last binary string group after bin_str[position] == 0\n",
    "    value_bin += bin_str[(position + 1) : (position + 5)]\n",
    "\n",
    "    # Convert from bindary string to integer\n",
    "    value = int(value_bin, base=2)\n",
    "\n",
    "    # And increment the position past the last group, too\n",
    "    position += 5\n",
    "\n",
    "    return value, position"
   ]
  },
  {
   "cell_type": "code",
   "execution_count": 111,
   "metadata": {},
   "outputs": [],
   "source": [
    "def decode_operator_packet2(bin_str, position, values):\n",
    "    \"\"\"Decode operater packet, which can contain multiple subpackets.\"\"\"\n",
    "\n",
    "    # Length type ID == '0' means next 15 bits represent\n",
    "    # the total length (in bits) of the subpackets contained in this packet\n",
    "    if bin_str[position] == '0':\n",
    "\n",
    "        subpacket_length = int(bin_str[(position + 1) : (position + 16)], base=2)\n",
    "        position += 16\n",
    "        end_subpackets = position + subpacket_length\n",
    "        \n",
    "        while position < end_subpackets:\n",
    "            values, position = decode_packet2(bin_str, position, values)\n",
    "\n",
    "    # Lenght type ID == '1' means next 11 bits represent\n",
    "    # the number of subpackets contained in this packet\n",
    "    elif bin_str[position] == '1':\n",
    "\n",
    "        num_subpackets = int(bin_str[(position + 1) : (position + 12)], base=2)\n",
    "        position += 12\n",
    "        for _ in range(num_subpackets):\n",
    "            values, position = decode_packet2(bin_str, position, values)\n",
    "\n",
    "    return values, position"
   ]
  },
  {
   "cell_type": "markdown",
   "metadata": {},
   "source": [
    "### Run on Test Data"
   ]
  },
  {
   "cell_type": "code",
   "execution_count": 112,
   "metadata": {},
   "outputs": [
    {
     "data": {
      "text/plain": [
       "([1, 2], 40)"
      ]
     },
     "execution_count": 112,
     "metadata": {},
     "output_type": "execute_result"
    }
   ],
   "source": [
    "decode_packet2(hex_to_bin('C200B40A82'), 0, [])  # Should return 3, because 1 + 2 == 3"
   ]
  },
  {
   "cell_type": "code",
   "execution_count": 113,
   "metadata": {},
   "outputs": [
    {
     "data": {
      "text/plain": [
       "([6, 9], 44)"
      ]
     },
     "execution_count": 113,
     "metadata": {},
     "output_type": "execute_result"
    }
   ],
   "source": [
    "decode_packet2(hex_to_bin('04005AC33890'), 0, [])  # Should return 54, because 6 * 9 == 54"
   ]
  },
  {
   "cell_type": "code",
   "execution_count": 114,
   "metadata": {},
   "outputs": [
    {
     "data": {
      "text/plain": [
       "([7, 8, 9], 55)"
      ]
     },
     "execution_count": 114,
     "metadata": {},
     "output_type": "execute_result"
    }
   ],
   "source": [
    "decode_packet2(hex_to_bin('880086C3E88112'), 0, [])  # Should return 7, because 7 == min(7, 8, 9)"
   ]
  },
  {
   "cell_type": "code",
   "execution_count": 116,
   "metadata": {},
   "outputs": [
    {
     "data": {
      "text/plain": [
       "([7, 8, 9], 51)"
      ]
     },
     "execution_count": 116,
     "metadata": {},
     "output_type": "execute_result"
    }
   ],
   "source": [
    "decode_packet2(hex_to_bin('CE00C43D881120'), 0, [])  # Should return 9, because 9 == max(7, 8, 9)"
   ]
  },
  {
   "cell_type": "code",
   "execution_count": 117,
   "metadata": {},
   "outputs": [
    {
     "data": {
      "text/plain": [
       "([5, 15], 44)"
      ]
     },
     "execution_count": 117,
     "metadata": {},
     "output_type": "execute_result"
    }
   ],
   "source": [
    "decode_packet2(hex_to_bin('D8005AC2A8F0'), 0, [])  # Should return 1, because 5 < 15 => True"
   ]
  },
  {
   "cell_type": "code",
   "execution_count": 118,
   "metadata": {},
   "outputs": [
    {
     "data": {
      "text/plain": [
       "([5, 15], 40)"
      ]
     },
     "execution_count": 118,
     "metadata": {},
     "output_type": "execute_result"
    }
   ],
   "source": [
    "decode_packet2(hex_to_bin('F600BC2D8F'), 0, [])  # Should return 0, because 5 > 15 => False"
   ]
  },
  {
   "cell_type": "code",
   "execution_count": 119,
   "metadata": {},
   "outputs": [
    {
     "data": {
      "text/plain": [
       "([5, 15], 44)"
      ]
     },
     "execution_count": 119,
     "metadata": {},
     "output_type": "execute_result"
    }
   ],
   "source": [
    "decode_packet2(hex_to_bin('9C005AC2F8F0'), 0, [])  # Should return 0, because 5 == 15 => False"
   ]
  },
  {
   "cell_type": "code",
   "execution_count": 121,
   "metadata": {},
   "outputs": [
    {
     "data": {
      "text/plain": [
       "([1, 3, 2, 2], 102)"
      ]
     },
     "execution_count": 121,
     "metadata": {},
     "output_type": "execute_result"
    }
   ],
   "source": [
    "decode_packet2(hex_to_bin('9C0141080250320F1802104A08'), 0, []) # Should return 1, because 1 + 3 == 2 * 2"
   ]
  },
  {
   "cell_type": "markdown",
   "metadata": {},
   "source": [
    "### Run on Input Data"
   ]
  },
  {
   "cell_type": "code",
   "execution_count": null,
   "metadata": {},
   "outputs": [],
   "source": []
  }
 ],
 "metadata": {
  "kernelspec": {
   "display_name": "Python 3",
   "language": "python",
   "name": "python3"
  },
  "language_info": {
   "codemirror_mode": {
    "name": "ipython",
    "version": 3
   },
   "file_extension": ".py",
   "mimetype": "text/x-python",
   "name": "python",
   "nbconvert_exporter": "python",
   "pygments_lexer": "ipython3",
   "version": "3.9.0"
  }
 },
 "nbformat": 4,
 "nbformat_minor": 4
}
