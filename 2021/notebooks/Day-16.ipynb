{
 "cells": [
  {
   "cell_type": "markdown",
   "metadata": {},
   "source": [
    "# --- Day 16: Packet Decoder --- \n",
    "\n",
    "https://adventofcode.com/2021/day/16"
   ]
  },
  {
   "cell_type": "markdown",
   "metadata": {},
   "source": [
    "## Get Input Data"
   ]
  },
  {
   "cell_type": "code",
   "execution_count": 9,
   "metadata": {},
   "outputs": [
    {
     "data": {
      "text/plain": [
       "'40541D900AEDC01A88002191FE2F45D1006A2FC2388D278D4653E3910020F2E2F3E24C007ECD7ABA6A200E6E8017F92C934CFA0E5290B569CE0F4BA5180213D963C00DC40010A87905A0900021B0D624C34600906725FFCF597491C6008C01B0004223342488A200F4378C9198401B87311A0C0803E600FC4887F14CC01C8AF16A2010021D1260DC7530042C012957193779F96AD9B36100907A00980021513E3943600043225C1A8EB2C3040043CC3B1802B400D3CA4B8D3292E37C30600B325A541D979606E384B524C06008E802515A638A73A226009CDA5D8026200D473851150401E8BF16E2ACDFB7DCD4F5C02897A5288D299D89CA6AA672AD5118804F592FC5BE8037000042217C64876000874728550D4C0149F29D00524ACCD2566795A0D880432BEAC79995C86483A6F3B9F6833397DEA03E401004F28CD894B9C48A34BC371CF7AA840155E002012E21260923DC4C248035299ECEB0AC4DFC0179B864865CF8802F9A005E264C25372ABAC8DEA706009F005C32B7FCF1BF91CADFF3C6FE4B3FB073005A6F93B633B12E0054A124BEE9C570004B245126F6E11E5C0199BDEDCE589275C10027E97BE7EF330F126DF3817354FFC82671BB5402510C803788DFA009CAFB14ECDFE57D8A766F0001A74F924AC99678864725F253FD134400F9B5D3004A46489A00A4BEAD8F7F1F7497C39A0020F357618C71648032BB004E4BBC4292EF1167274F1AA0078902262B0D4718229C8608A5226528F86008CFA6E802F275E2248C65F3610066274CEA9A86794E58AA5E5BDE73F34945E2008D27D2278EE30C489B3D20336D00C2F002DF480AC820287D8096F700288082C001DE1400C50035005AA2013E5400B10028C009600A74001EF2004F8400C92B172801F0F4C0139B8E19A8017D96A510A7E698800EAC9294A6E985783A400AE4A2945E9170'"
      ]
     },
     "execution_count": 9,
     "metadata": {},
     "output_type": "execute_result"
    }
   ],
   "source": [
    "with open('../inputs/BITS.txt') as file:\n",
    "    BITS = file.readline().strip()\n",
    "BITS"
   ]
  },
  {
   "cell_type": "markdown",
   "metadata": {},
   "source": [
    "## Part 1\n",
    "---"
   ]
  },
  {
   "cell_type": "code",
   "execution_count": 10,
   "metadata": {},
   "outputs": [],
   "source": [
    "def hex_to_bin(hex):\n",
    "    \"Take a hexadecimal string and convert it to a 4 character binary string.\"\n",
    "    return bin(int(hex, base=16))[2:].zfill(4)"
   ]
  },
  {
   "cell_type": "markdown",
   "metadata": {},
   "source": [
    "#### Run some tests"
   ]
  },
  {
   "cell_type": "code",
   "execution_count": 21,
   "metadata": {},
   "outputs": [
    {
     "data": {
      "text/plain": [
       "'0000'"
      ]
     },
     "execution_count": 21,
     "metadata": {},
     "output_type": "execute_result"
    }
   ],
   "source": [
    "hex_to_bin('0')  # Should return '0000'"
   ]
  },
  {
   "cell_type": "code",
   "execution_count": 22,
   "metadata": {},
   "outputs": [
    {
     "data": {
      "text/plain": [
       "'0101'"
      ]
     },
     "execution_count": 22,
     "metadata": {},
     "output_type": "execute_result"
    }
   ],
   "source": [
    "hex_to_bin('5')  # Should return '0101'"
   ]
  },
  {
   "cell_type": "code",
   "execution_count": 23,
   "metadata": {},
   "outputs": [
    {
     "data": {
      "text/plain": [
       "'1111'"
      ]
     },
     "execution_count": 23,
     "metadata": {},
     "output_type": "execute_result"
    }
   ],
   "source": [
    "hex_to_bin('f')  # Should return '1111'"
   ]
  },
  {
   "cell_type": "code",
   "execution_count": 26,
   "metadata": {},
   "outputs": [],
   "source": [
    "def get_header_info(BITS, position):\n",
    "    \"\"\"Extract the packet header info. Return integer representation of packet version and packet type. \"\"\"\n",
    "\n",
    "    # Just need the first two hexadecimal values to get the header info\n",
    "    header = BITS[position:position+2]\n",
    "\n",
    "    header_bin = hex_to_bin(header)\n",
    "\n",
    "    # Finally convert binary strings back to integers\n",
    "    version = int(header_bin[0:3], base=2)\n",
    "    type = int(header_bin[3:6], base=2)\n",
    "    last2 = header_bin[-2:]\n",
    "    position = position + 1\n",
    "\n",
    "    return version, type, last2, position"
   ]
  },
  {
   "cell_type": "markdown",
   "metadata": {},
   "source": [
    "#### Run a test"
   ]
  },
  {
   "cell_type": "code",
   "execution_count": 28,
   "metadata": {},
   "outputs": [
    {
     "data": {
      "text/plain": [
       "(6, 4, '10', 1)"
      ]
     },
     "execution_count": 28,
     "metadata": {},
     "output_type": "execute_result"
    }
   ],
   "source": [
    "get_header_info('D2FE28', 0)  # Should return 6, 4, '10', 1"
   ]
  },
  {
   "cell_type": "code",
   "execution_count": 24,
   "metadata": {},
   "outputs": [],
   "source": [
    "def decode_literal_value(BITS, position, last2):\n",
    "    \"\"\"Decode literal value packet.\"\"\"\n",
    "\n",
    "    BITS_bin = last2\n",
    "    bin_pos = 0\n",
    "    value_bin = ''\n",
    "\n",
    "    while BITS_bin[bin_pos] != '0':\n",
    "        if len(BITS_bin)-1 <= bin_pos + 5:\n",
    "            # Get another 2 hex char off BITS, convert them to bin, then add it to BITS_bin\n",
    "            for hex_char in BITS[position+1 : position+3]:\n",
    "                BITS_bin += hex_to_bin(hex_char)\n",
    "                position += 1\n",
    "\n",
    "        value_bin += BITS_bin[bin_pos+1 : bin_pos+5]\n",
    "        bin_pos += 5\n",
    "\n",
    "    # Get value in last group\n",
    "    value_bin += BITS_bin[bin_pos+1 : bin_pos+5]\n",
    "\n",
    "    value = int(value_bin, base=2)\n",
    "\n",
    "    return value, position"
   ]
  },
  {
   "cell_type": "markdown",
   "metadata": {},
   "source": [
    "#### Run a test"
   ]
  },
  {
   "cell_type": "code",
   "execution_count": 25,
   "metadata": {},
   "outputs": [
    {
     "data": {
      "text/plain": [
       "(2021, 5)"
      ]
     },
     "execution_count": 25,
     "metadata": {},
     "output_type": "execute_result"
    }
   ],
   "source": [
    "decode_literal_value('D2FE28', 1, '10')  # Should return 2021, 5"
   ]
  },
  {
   "cell_type": "code",
   "execution_count": 15,
   "metadata": {},
   "outputs": [],
   "source": [
    "def decode_operator_packet(BITS, position, last2):\n",
    "    \"\"\" \"\"\"\n",
    "\n",
    "    BITS_bin = last2\n",
    "    bin_pos = 0\n",
    "\n",
    "    subpacket_length, num_subpackets = None, None\n",
    "\n",
    "\n",
    "    if last2[0] == '0':\n",
    "        # Subpacket length in bits contained in next 15 binary characters.\n",
    "        # Therefore, grab 4 more hex characters from BITS\n",
    "        for hex_char in BITS[position+1 : position+5]:\n",
    "            BITS_bin += hex_to_bin(hex_char)\n",
    "            position += 1\n",
    "\n",
    "        subpacket_length = int(BITS_bin[1:16], base=2)\n",
    "        position += ???\n",
    "        return subpacket_length, num_subpackets, position\n",
    "\n",
    "    elif last2[0] == '1':\n",
    "        # NUMBER OF SUBPACKETS contained in next 11 binary characters.\n",
    "        # Therefore, grab 3 more hex characters from BITS\n",
    "        for hex_char in BITS[position+1 : position+4]:\n",
    "            BITS_bin += hex_to_bin(hex_char)\n",
    "            position += 1\n",
    "\n",
    "        num_subpackets = int(BITS_bin[1:12], base=2)\n",
    "        position += ???\n",
    "        return subpacket_length, num_subpackets, position"
   ]
  },
  {
   "cell_type": "markdown",
   "metadata": {},
   "source": [
    "#### Run some tests"
   ]
  },
  {
   "cell_type": "code",
   "execution_count": 16,
   "metadata": {},
   "outputs": [
    {
     "data": {
      "text/plain": [
       "(27, None)"
      ]
     },
     "execution_count": 16,
     "metadata": {},
     "output_type": "execute_result"
    }
   ],
   "source": [
    "decode_operator_packet('38006F45291200', 1, '00')  # Should return 27, None"
   ]
  },
  {
   "cell_type": "code",
   "execution_count": 17,
   "metadata": {},
   "outputs": [
    {
     "data": {
      "text/plain": [
       "(None, 3)"
      ]
     },
     "execution_count": 17,
     "metadata": {},
     "output_type": "execute_result"
    }
   ],
   "source": [
    "decode_operator_packet('EE00D40C823060', 1, '10')  # Should return None, 3"
   ]
  },
  {
   "cell_type": "code",
   "execution_count": null,
   "metadata": {},
   "outputs": [],
   "source": [
    "def process_BITS(BITS):\n",
    "    \"\"\" \"\"\"\n",
    "    position = 0\n",
    "    version, type, last2 = get_header_info(BITS, position)\n",
    "    total_version = version\n",
    "\n",
    "    # Literal value packets\n",
    "    if type == 6:\n",
    "        \n",
    "        pass\n",
    "    # Operator packets\n",
    "    else:\n",
    "        pass\n",
    "\n",
    "    return total_version"
   ]
  },
  {
   "cell_type": "markdown",
   "metadata": {},
   "source": [
    "### Run on Test Data"
   ]
  },
  {
   "cell_type": "code",
   "execution_count": null,
   "metadata": {},
   "outputs": [],
   "source": [
    "# Should return 16"
   ]
  },
  {
   "cell_type": "code",
   "execution_count": null,
   "metadata": {},
   "outputs": [],
   "source": [
    "# Should return 23"
   ]
  },
  {
   "cell_type": "code",
   "execution_count": null,
   "metadata": {},
   "outputs": [],
   "source": [
    "# Should return 31"
   ]
  },
  {
   "cell_type": "markdown",
   "metadata": {},
   "source": [
    "### Run on Input Data"
   ]
  },
  {
   "cell_type": "code",
   "execution_count": null,
   "metadata": {},
   "outputs": [],
   "source": []
  },
  {
   "cell_type": "markdown",
   "metadata": {},
   "source": [
    "## Part 2\n",
    "---"
   ]
  },
  {
   "cell_type": "code",
   "execution_count": null,
   "metadata": {},
   "outputs": [],
   "source": []
  },
  {
   "cell_type": "markdown",
   "metadata": {},
   "source": [
    "### Run on Test Data"
   ]
  },
  {
   "cell_type": "code",
   "execution_count": null,
   "metadata": {},
   "outputs": [],
   "source": []
  },
  {
   "cell_type": "markdown",
   "metadata": {},
   "source": [
    "### Run on Input Data"
   ]
  },
  {
   "cell_type": "code",
   "execution_count": null,
   "metadata": {},
   "outputs": [],
   "source": []
  }
 ],
 "metadata": {
  "kernelspec": {
   "display_name": "Python 3",
   "language": "python",
   "name": "python3"
  },
  "language_info": {
   "codemirror_mode": {
    "name": "ipython",
    "version": 3
   },
   "file_extension": ".py",
   "mimetype": "text/x-python",
   "name": "python",
   "nbconvert_exporter": "python",
   "pygments_lexer": "ipython3",
   "version": "3.8.8"
  }
 },
 "nbformat": 4,
 "nbformat_minor": 4
}
