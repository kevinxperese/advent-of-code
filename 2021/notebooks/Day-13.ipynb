{
 "cells": [
  {
   "cell_type": "markdown",
   "metadata": {},
   "source": [
    "# --- Day 13: Transparent Origami --- \n",
    "\n",
    "https://adventofcode.com/2021/day/13"
   ]
  },
  {
   "cell_type": "markdown",
   "metadata": {},
   "source": [
    "## Get Input Data"
   ]
  },
  {
   "cell_type": "code",
   "execution_count": 1,
   "metadata": {},
   "outputs": [],
   "source": [
    "def parse_data(filename):\n",
    "    \"\"\" \"\"\"\n",
    "    transparency = []\n",
    "    folds = []\n",
    "\n",
    "    with open (f'../inputs/{filename}') as file:\n",
    "        for line in file.readlines():\n",
    "            if line[0].isdigit():\n",
    "                line = line.strip().split(',')\n",
    "                transparency.append([int(line[0]), int(line[1])])\n",
    "            elif line.startswith('fold along '):\n",
    "                fold = line.strip().split('=')\n",
    "                folds.append([fold[0][-1], int(fold[1])])\n",
    "\n",
    "    return transparency, folds"
   ]
  },
  {
   "cell_type": "code",
   "execution_count": 2,
   "metadata": {},
   "outputs": [
    {
     "data": {
      "text/plain": [
       "([[6, 10],\n",
       "  [0, 14],\n",
       "  [9, 10],\n",
       "  [0, 3],\n",
       "  [10, 4],\n",
       "  [4, 11],\n",
       "  [6, 0],\n",
       "  [6, 12],\n",
       "  [4, 1],\n",
       "  [0, 13],\n",
       "  [10, 12],\n",
       "  [3, 4],\n",
       "  [3, 0],\n",
       "  [8, 4],\n",
       "  [1, 10],\n",
       "  [2, 14],\n",
       "  [8, 10],\n",
       "  [9, 0]],\n",
       " [['y', 7], ['x', 5]])"
      ]
     },
     "execution_count": 2,
     "metadata": {},
     "output_type": "execute_result"
    }
   ],
   "source": [
    "test_transparency, test_folds = parse_data('test_transparency.txt')\n",
    "test_transparency, test_folds"
   ]
  },
  {
   "cell_type": "code",
   "execution_count": 3,
   "metadata": {},
   "outputs": [],
   "source": [
    "transparency, folds = parse_data('transparency.txt')"
   ]
  },
  {
   "cell_type": "markdown",
   "metadata": {},
   "source": [
    "## Part 1\n",
    "---"
   ]
  },
  {
   "cell_type": "markdown",
   "metadata": {},
   "source": [
    "## First, do some testing to figure out how `np.flip()` works."
   ]
  },
  {
   "cell_type": "code",
   "execution_count": 4,
   "metadata": {},
   "outputs": [],
   "source": [
    "import numpy as np"
   ]
  },
  {
   "cell_type": "code",
   "execution_count": 5,
   "metadata": {},
   "outputs": [
    {
     "data": {
      "text/plain": [
       "array([[1, 0, 1, 1, 0],\n",
       "       [1, 0, 0, 0, 1],\n",
       "       [1, 1, 1, 0, 1],\n",
       "       [0, 1, 1, 0, 1],\n",
       "       [1, 0, 1, 1, 0]])"
      ]
     },
     "execution_count": 5,
     "metadata": {},
     "output_type": "execute_result"
    }
   ],
   "source": [
    "foo = np.random.randint(2, size=(5, 5))\n",
    "foo"
   ]
  },
  {
   "cell_type": "code",
   "execution_count": 6,
   "metadata": {},
   "outputs": [
    {
     "data": {
      "text/plain": [
       "array([[1, 0, 1, 1, 0],\n",
       "       [0, 1, 1, 0, 1],\n",
       "       [1, 1, 1, 0, 1],\n",
       "       [1, 0, 0, 0, 1],\n",
       "       [1, 0, 1, 1, 0]])"
      ]
     },
     "execution_count": 6,
     "metadata": {},
     "output_type": "execute_result"
    }
   ],
   "source": [
    "bar = np.flip(foo, axis=(0))\n",
    "bar"
   ]
  },
  {
   "cell_type": "code",
   "execution_count": 7,
   "metadata": {},
   "outputs": [
    {
     "data": {
      "text/plain": [
       "array([[0, 1, 1, 0, 1],\n",
       "       [1, 0, 0, 0, 1],\n",
       "       [1, 0, 1, 1, 1],\n",
       "       [1, 0, 1, 1, 0],\n",
       "       [0, 1, 1, 0, 1]])"
      ]
     },
     "execution_count": 7,
     "metadata": {},
     "output_type": "execute_result"
    }
   ],
   "source": [
    "baz = np.flip(foo, axis=(1))\n",
    "baz"
   ]
  },
  {
   "cell_type": "markdown",
   "metadata": {},
   "source": [
    "### Cool. Good to go now."
   ]
  },
  {
   "cell_type": "code",
   "execution_count": 8,
   "metadata": {},
   "outputs": [],
   "source": [
    "def make_matrix(dots_data):\n",
    "    \"\"\"Read in data for the position of dots on transparency sheet.\"\"\"\n",
    "\n",
    "    x_y = list(zip(*dots_data))\n",
    "    max_x = max(x_y[0]) + 1\n",
    "    max_y = max(x_y[1]) + 1\n",
    "\n",
    "    matrix = np.zeros((max_x, max_y), dtype='int')\n",
    "    matrix[tuple(x_y)] += 1\n",
    "\n",
    "    # Transpose the matrix because (0, 0) is in the top left corner\n",
    "    matrix = matrix.T\n",
    "\n",
    "    return matrix"
   ]
  },
  {
   "cell_type": "code",
   "execution_count": 9,
   "metadata": {},
   "outputs": [
    {
     "data": {
      "text/plain": [
       "array([[0, 0, 0, 1, 0, 0, 1, 0, 0, 1, 0],\n",
       "       [0, 0, 0, 0, 1, 0, 0, 0, 0, 0, 0],\n",
       "       [0, 0, 0, 0, 0, 0, 0, 0, 0, 0, 0],\n",
       "       [1, 0, 0, 0, 0, 0, 0, 0, 0, 0, 0],\n",
       "       [0, 0, 0, 1, 0, 0, 0, 0, 1, 0, 1],\n",
       "       [0, 0, 0, 0, 0, 0, 0, 0, 0, 0, 0],\n",
       "       [0, 0, 0, 0, 0, 0, 0, 0, 0, 0, 0],\n",
       "       [0, 0, 0, 0, 0, 0, 0, 0, 0, 0, 0],\n",
       "       [0, 0, 0, 0, 0, 0, 0, 0, 0, 0, 0],\n",
       "       [0, 0, 0, 0, 0, 0, 0, 0, 0, 0, 0],\n",
       "       [0, 1, 0, 0, 0, 0, 1, 0, 1, 1, 0],\n",
       "       [0, 0, 0, 0, 1, 0, 0, 0, 0, 0, 0],\n",
       "       [0, 0, 0, 0, 0, 0, 1, 0, 0, 0, 1],\n",
       "       [1, 0, 0, 0, 0, 0, 0, 0, 0, 0, 0],\n",
       "       [1, 0, 1, 0, 0, 0, 0, 0, 0, 0, 0]])"
      ]
     },
     "execution_count": 9,
     "metadata": {},
     "output_type": "execute_result"
    }
   ],
   "source": [
    "# Make sure this is producing what I'm expecting!\n",
    "make_matrix(test_transparency)"
   ]
  },
  {
   "cell_type": "code",
   "execution_count": 10,
   "metadata": {},
   "outputs": [],
   "source": [
    "def fold_and_count_dots(matrix, folds):\n",
    "    \"\"\"Fold the transparency paper (matrix) along the axis and position specified in fold,\n",
    "    then return the count of positive cells in the new matrix.\n",
    "    \"\"\"\n",
    "\n",
    "    matrix = matrix.copy()\n",
    "\n",
    "    for i, fold in enumerate(folds):\n",
    "        \n",
    "        # Part 1 has just one fold in it\n",
    "        if i == 0:\n",
    "\n",
    "            if fold[0] == 'x':\n",
    "                # Fold left \n",
    "                left = matrix[:, :fold[1]]\n",
    "                right = matrix[:, fold[1]+1:]\n",
    "                left_flipped = np.flip(left, axis=(1))\n",
    "                folded_matrix = right + left_flipped\n",
    "\n",
    "            elif fold[0] == 'y':\n",
    "                # Fold up\n",
    "                top = matrix[:fold[1], :]\n",
    "                bottom = matrix[fold[1]+1:, :]\n",
    "                bottom_flipped = np.flip(bottom, axis=(0))\n",
    "                folded_matrix = top + bottom_flipped\n",
    "\n",
    "        else:\n",
    "            break\n",
    "        \n",
    "    dot_count = np.count_nonzero(folded_matrix)\n",
    "    return dot_count\n"
   ]
  },
  {
   "cell_type": "markdown",
   "metadata": {},
   "source": [
    "### Run on Test Data"
   ]
  },
  {
   "cell_type": "code",
   "execution_count": 11,
   "metadata": {},
   "outputs": [
    {
     "data": {
      "text/plain": [
       "17"
      ]
     },
     "execution_count": 11,
     "metadata": {},
     "output_type": "execute_result"
    }
   ],
   "source": [
    "fold_and_count_dots(make_matrix(test_transparency), test_folds)  # Should return 17"
   ]
  },
  {
   "cell_type": "markdown",
   "metadata": {},
   "source": [
    "### Run on Input Data"
   ]
  },
  {
   "cell_type": "code",
   "execution_count": 12,
   "metadata": {},
   "outputs": [
    {
     "data": {
      "text/plain": [
       "724"
      ]
     },
     "execution_count": 12,
     "metadata": {},
     "output_type": "execute_result"
    }
   ],
   "source": [
    "fold_and_count_dots(make_matrix(transparency), folds)"
   ]
  },
  {
   "cell_type": "markdown",
   "metadata": {},
   "source": [
    "## Part 2\n",
    "---"
   ]
  },
  {
   "cell_type": "code",
   "execution_count": null,
   "metadata": {},
   "outputs": [],
   "source": []
  },
  {
   "cell_type": "markdown",
   "metadata": {},
   "source": [
    "### Run on Test Data"
   ]
  },
  {
   "cell_type": "code",
   "execution_count": null,
   "metadata": {},
   "outputs": [],
   "source": []
  },
  {
   "cell_type": "markdown",
   "metadata": {},
   "source": [
    "### Run on Input Data"
   ]
  },
  {
   "cell_type": "code",
   "execution_count": null,
   "metadata": {},
   "outputs": [],
   "source": []
  }
 ],
 "metadata": {
  "kernelspec": {
   "display_name": "Python 3",
   "language": "python",
   "name": "python3"
  },
  "language_info": {
   "codemirror_mode": {
    "name": "ipython",
    "version": 3
   },
   "file_extension": ".py",
   "mimetype": "text/x-python",
   "name": "python",
   "nbconvert_exporter": "python",
   "pygments_lexer": "ipython3",
   "version": "3.8.8"
  }
 },
 "nbformat": 4,
 "nbformat_minor": 4
}
