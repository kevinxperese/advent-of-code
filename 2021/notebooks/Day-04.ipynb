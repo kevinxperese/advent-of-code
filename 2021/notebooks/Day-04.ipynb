{
 "cells": [
  {
   "cell_type": "markdown",
   "metadata": {},
   "source": [
    "# --- Day 4: Giant Squid  --- \n",
    "\n",
    "https://adventofcode.com/2021/day/4"
   ]
  },
  {
   "cell_type": "markdown",
   "metadata": {},
   "source": [
    "## Get Input Data"
   ]
  },
  {
   "cell_type": "code",
   "execution_count": 1,
   "metadata": {},
   "outputs": [],
   "source": [
    "def parse_input_data(file):\n",
    "    with open(f'../inputs/{file}', 'r') as file:\n",
    "        lines = file.readlines()\n",
    "    \n",
    "    draws = lines[0].strip().split(',')\n",
    "\n",
    "    board = []\n",
    "    boards = []\n",
    "    \n",
    "    for i in range(2, len(lines)):\n",
    "        if lines[i] == '\\n':\n",
    "            boards.append(board)\n",
    "            board = []\n",
    "        else:\n",
    "            board.append(lines[i].strip().split())\n",
    "\n",
    "    # Don't forget the last board!\n",
    "    boards.append(board)        \n",
    "        \n",
    "    return draws, boards"
   ]
  },
  {
   "cell_type": "markdown",
   "metadata": {},
   "source": [
    "### Test data"
   ]
  },
  {
   "cell_type": "code",
   "execution_count": 2,
   "metadata": {},
   "outputs": [],
   "source": [
    "test_draws, test_boards = parse_input_data('test_bingo.txt')"
   ]
  },
  {
   "cell_type": "code",
   "execution_count": 3,
   "metadata": {},
   "outputs": [
    {
     "data": {
      "text/plain": [
       "['7', '4', '9', '5', '11']"
      ]
     },
     "execution_count": 3,
     "metadata": {},
     "output_type": "execute_result"
    }
   ],
   "source": [
    "test_draws[:5]"
   ]
  },
  {
   "cell_type": "code",
   "execution_count": 4,
   "metadata": {},
   "outputs": [
    {
     "data": {
      "text/plain": [
       "[[['22', '13', '17', '11', '0'],\n",
       "  ['8', '2', '23', '4', '24'],\n",
       "  ['21', '9', '14', '16', '7'],\n",
       "  ['6', '10', '3', '18', '5'],\n",
       "  ['1', '12', '20', '15', '19']],\n",
       " [['3', '15', '0', '2', '22'],\n",
       "  ['9', '18', '13', '17', '5'],\n",
       "  ['19', '8', '7', '25', '23'],\n",
       "  ['20', '11', '10', '24', '4'],\n",
       "  ['14', '21', '16', '12', '6']],\n",
       " [['14', '21', '17', '24', '4'],\n",
       "  ['10', '16', '15', '9', '19'],\n",
       "  ['18', '8', '23', '26', '20'],\n",
       "  ['22', '11', '13', '6', '5'],\n",
       "  ['2', '0', '12', '3', '7']]]"
      ]
     },
     "execution_count": 4,
     "metadata": {},
     "output_type": "execute_result"
    }
   ],
   "source": [
    "test_boards"
   ]
  },
  {
   "cell_type": "markdown",
   "metadata": {},
   "source": [
    "### Input data"
   ]
  },
  {
   "cell_type": "code",
   "execution_count": 5,
   "metadata": {},
   "outputs": [],
   "source": [
    "draws, boards = parse_input_data('bingo.txt')"
   ]
  },
  {
   "cell_type": "markdown",
   "metadata": {},
   "source": [
    "## Part 1\n",
    "---"
   ]
  },
  {
   "cell_type": "code",
   "execution_count": 6,
   "metadata": {},
   "outputs": [],
   "source": [
    "from copy import deepcopy"
   ]
  },
  {
   "cell_type": "code",
   "execution_count": 7,
   "metadata": {},
   "outputs": [],
   "source": [
    "def has_a_bingo(board):\n",
    "    \"\"\"Test whether there's a bingo on the board.\"\"\"\n",
    "    \n",
    "    # Test rows\n",
    "    for row in board:\n",
    "        if all([i == True for i in row]):\n",
    "            return True\n",
    "\n",
    "    # Test cols (transpose board, first)\n",
    "    transpose = [c for c in zip(*board)]\n",
    "    for col in transpose:\n",
    "        if all([i == True for i in col]):\n",
    "            return True\n",
    "    \n",
    "    return False"
   ]
  },
  {
   "cell_type": "code",
   "execution_count": 8,
   "metadata": {},
   "outputs": [],
   "source": [
    "def sum_up_board(board):\n",
    "    \"\"\"Sum up all the remaining values on a winning bingo board.\"\"\"\n",
    "    return sum([int(col) for row in board for col in row if col != True])"
   ]
  },
  {
   "cell_type": "code",
   "execution_count": 9,
   "metadata": {},
   "outputs": [],
   "source": [
    "def play_bingo(draws, boards):\n",
    "    \"\"\"Play bingo!\"\"\"\n",
    "    \n",
    "    boards = deepcopy(boards)\n",
    "    \n",
    "    for draw in draws:\n",
    "        for board in boards:\n",
    "            for i, row in enumerate(board):\n",
    "                # Flip value to True when there's a match with draw\n",
    "                board[i] = [True if col == draw else col for col in row]   \n",
    "                                \n",
    "            if has_a_bingo(board):\n",
    "                # Final score = draw that won * value of remaining numbers on board that won\n",
    "                return int(draw) * sum_up_board(board)"
   ]
  },
  {
   "cell_type": "markdown",
   "metadata": {},
   "source": [
    "### Run on Test Data"
   ]
  },
  {
   "cell_type": "code",
   "execution_count": 10,
   "metadata": {},
   "outputs": [
    {
     "data": {
      "text/plain": [
       "4512"
      ]
     },
     "execution_count": 10,
     "metadata": {},
     "output_type": "execute_result"
    }
   ],
   "source": [
    "play_bingo(test_draws, test_boards)  # Should be 4512"
   ]
  },
  {
   "cell_type": "markdown",
   "metadata": {},
   "source": [
    "### Run on Input Data"
   ]
  },
  {
   "cell_type": "code",
   "execution_count": 11,
   "metadata": {},
   "outputs": [
    {
     "data": {
      "text/plain": [
       "69579"
      ]
     },
     "execution_count": 11,
     "metadata": {},
     "output_type": "execute_result"
    }
   ],
   "source": [
    "play_bingo(draws, boards)"
   ]
  },
  {
   "cell_type": "markdown",
   "metadata": {},
   "source": [
    "## Part 2\n",
    "---"
   ]
  },
  {
   "cell_type": "code",
   "execution_count": 12,
   "metadata": {},
   "outputs": [],
   "source": [
    "def play_bingo_2(draws, boards):\n",
    "    \"\"\"Play bingo! (but let the giant squid win -- figure out which board will win *last*)\"\"\"\n",
    "    \n",
    "    boards = deepcopy(boards)\n",
    "    remove_a_board = False\n",
    "    \n",
    "    for draw in draws:\n",
    "        for b, board in enumerate(boards):\n",
    "\n",
    "            for i, row in enumerate(board):\n",
    "                # Flip value to True when there's a match with draw\n",
    "                board[i] = [True if col == draw else col for col in row]   \n",
    "            \n",
    "            if has_a_bingo(board):\n",
    "                # NB: Can't boards.pop(b) here because boards.pop(b) essentially\n",
    "                # breaks the loop, and there might be other boards below that \n",
    "                # will have matches with the current draw.\n",
    "                boards[b] = 'bingo!'\n",
    "                remove_a_board = True\n",
    "\n",
    "                if len(boards) == 1:\n",
    "                    # Last winning bingo! board!\n",
    "                    # Final score = draw that won * value of remaining numbers on board that won\n",
    "                    return int(draw) * sum_up_board(board)\n",
    "        \n",
    "        # Remove any boards that hit bingo on the current draw\n",
    "        # NB: boards.remove('bingo!') doesn't work because there can be *multiple* board that \n",
    "        # hit bingo on a given drawn, and remove('bingo!') only removes the *first* occurance...\n",
    "        if remove_a_board == True:\n",
    "            boards = [b for b in boards if b != 'bingo!']\n",
    "            remove_a_board = False"
   ]
  },
  {
   "cell_type": "markdown",
   "metadata": {},
   "source": [
    "### Run on Test Data"
   ]
  },
  {
   "cell_type": "code",
   "execution_count": 13,
   "metadata": {
    "scrolled": false
   },
   "outputs": [
    {
     "data": {
      "text/plain": [
       "1924"
      ]
     },
     "execution_count": 13,
     "metadata": {},
     "output_type": "execute_result"
    }
   ],
   "source": [
    "play_bingo_2(test_draws, test_boards)  # Should be 1924"
   ]
  },
  {
   "cell_type": "markdown",
   "metadata": {},
   "source": [
    "### Run on Input Data"
   ]
  },
  {
   "cell_type": "code",
   "execution_count": 14,
   "metadata": {
    "scrolled": false
   },
   "outputs": [
    {
     "data": {
      "text/plain": [
       "14877"
      ]
     },
     "execution_count": 14,
     "metadata": {},
     "output_type": "execute_result"
    }
   ],
   "source": [
    "play_bingo_2(draws, boards)"
   ]
  }
 ],
 "metadata": {
  "kernelspec": {
   "display_name": "Python 3",
   "language": "python",
   "name": "python3"
  },
  "language_info": {
   "codemirror_mode": {
    "name": "ipython",
    "version": 3
   },
   "file_extension": ".py",
   "mimetype": "text/x-python",
   "name": "python",
   "nbconvert_exporter": "python",
   "pygments_lexer": "ipython3",
   "version": "3.8.8"
  }
 },
 "nbformat": 4,
 "nbformat_minor": 4
}
