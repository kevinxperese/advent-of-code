{
 "cells": [
  {
   "cell_type": "markdown",
   "metadata": {},
   "source": [
    "# --- Day 6:  Lanternfish --- \n",
    "\n",
    "https://adventofcode.com/2021/day/6"
   ]
  },
  {
   "cell_type": "markdown",
   "metadata": {},
   "source": [
    "## Get Input Data"
   ]
  },
  {
   "cell_type": "code",
   "execution_count": 1,
   "metadata": {},
   "outputs": [
    {
     "data": {
      "text/plain": [
       "[1, 2, 4, 5, 5]"
      ]
     },
     "execution_count": 1,
     "metadata": {},
     "output_type": "execute_result"
    }
   ],
   "source": [
    "filename = 'fish_ages'\n",
    "with open(f'../inputs/{filename}.txt') as file:\n",
    "    fish_ages = [int(x) for x in file.readline().strip() if x != ',']\n",
    "fish_ages[:5]"
   ]
  },
  {
   "cell_type": "code",
   "execution_count": 2,
   "metadata": {},
   "outputs": [
    {
     "data": {
      "text/plain": [
       "[3, 4, 3, 1, 2]"
      ]
     },
     "execution_count": 2,
     "metadata": {},
     "output_type": "execute_result"
    }
   ],
   "source": [
    "test_fish_ages = [3,4,3,1,2]\n",
    "test_fish_ages"
   ]
  },
  {
   "cell_type": "markdown",
   "metadata": {},
   "source": [
    "## Part 1\n",
    "---"
   ]
  },
  {
   "cell_type": "code",
   "execution_count": 3,
   "metadata": {},
   "outputs": [],
   "source": [
    "def count_fish(rep_freq=None, offset=None, num_days=None):\n",
    "    \"\"\"Recursively count the number of fish produced by a given fish.\"\"\"\n",
    "    \n",
    "    num_fish = 1  # Count current fish\n",
    "    \n",
    "    # Stopping condition\n",
    "    if num_days - offset == 0:\n",
    "        return num_fish\n",
    "    \n",
    "    for day in range(0, num_days - offset, rep_freq):\n",
    "        num_fish += count_fish(rep_freq=rep_freq, offset=day+offset+9, num_days=num_days)\n",
    "        \n",
    "        # Debugging\n",
    "        # age = (rep_freq - 1) - (day % rep_freq)\n",
    "        # print(day+offset+1, age, num_fish)\n",
    "            \n",
    "    return num_fish"
   ]
  },
  {
   "cell_type": "code",
   "execution_count": 4,
   "metadata": {},
   "outputs": [
    {
     "data": {
      "text/plain": [
       "5"
      ]
     },
     "execution_count": 4,
     "metadata": {},
     "output_type": "execute_result"
    }
   ],
   "source": [
    "count_fish(rep_freq=7, offset=3, num_days=18)  # Should return 5"
   ]
  },
  {
   "cell_type": "code",
   "execution_count": 5,
   "metadata": {},
   "outputs": [
    {
     "data": {
      "text/plain": [
       "4"
      ]
     },
     "execution_count": 5,
     "metadata": {},
     "output_type": "execute_result"
    }
   ],
   "source": [
    "count_fish(rep_freq=7, offset=4, num_days=18)  # Should return 4"
   ]
  },
  {
   "cell_type": "code",
   "execution_count": 6,
   "metadata": {},
   "outputs": [
    {
     "data": {
      "text/plain": [
       "7"
      ]
     },
     "execution_count": 6,
     "metadata": {},
     "output_type": "execute_result"
    }
   ],
   "source": [
    "count_fish(rep_freq=7, offset=1, num_days=18)  # Should return 7"
   ]
  },
  {
   "cell_type": "code",
   "execution_count": 7,
   "metadata": {},
   "outputs": [
    {
     "data": {
      "text/plain": [
       "5"
      ]
     },
     "execution_count": 7,
     "metadata": {},
     "output_type": "execute_result"
    }
   ],
   "source": [
    "count_fish(rep_freq=7, offset=2, num_days=18)  # Should return 5"
   ]
  },
  {
   "cell_type": "code",
   "execution_count": 8,
   "metadata": {},
   "outputs": [],
   "source": [
    "def count_all_the_fish(starting_fish_ages, num_days):\n",
    "    \"\"\"Count all the fish produces from a starting list of fish.\n",
    "    \n",
    "    The starting list contains each fish's \"age\", which is passed as an \"offset\" to the\n",
    "    count_fish() function.\n",
    "    \"\"\"\n",
    "    \n",
    "    num_fish = 0\n",
    "    \n",
    "    for fish_age in starting_fish_ages:\n",
    "        num_fish += count_fish(rep_freq=7, offset=fish_age, num_days=num_days)\n",
    "        \n",
    "    return num_fish"
   ]
  },
  {
   "cell_type": "markdown",
   "metadata": {},
   "source": [
    "### Run on Test Data"
   ]
  },
  {
   "cell_type": "code",
   "execution_count": 9,
   "metadata": {},
   "outputs": [
    {
     "data": {
      "text/plain": [
       "26"
      ]
     },
     "execution_count": 9,
     "metadata": {},
     "output_type": "execute_result"
    }
   ],
   "source": [
    "count_all_the_fish(test_fish_ages, 18)  # Should return 26"
   ]
  },
  {
   "cell_type": "code",
   "execution_count": 10,
   "metadata": {},
   "outputs": [
    {
     "data": {
      "text/plain": [
       "5934"
      ]
     },
     "execution_count": 10,
     "metadata": {},
     "output_type": "execute_result"
    }
   ],
   "source": [
    "count_all_the_fish(test_fish_ages, 80)  # Should return 5934"
   ]
  },
  {
   "cell_type": "markdown",
   "metadata": {},
   "source": [
    "### Run on Input Data"
   ]
  },
  {
   "cell_type": "code",
   "execution_count": 11,
   "metadata": {},
   "outputs": [
    {
     "data": {
      "text/plain": [
       "352872"
      ]
     },
     "execution_count": 11,
     "metadata": {},
     "output_type": "execute_result"
    }
   ],
   "source": [
    "count_all_the_fish(fish_ages, 80)"
   ]
  },
  {
   "cell_type": "markdown",
   "metadata": {},
   "source": [
    "## Part 2\n",
    "---"
   ]
  },
  {
   "cell_type": "markdown",
   "metadata": {},
   "source": [
    "Part 2 is basically just running Part 1 out 256 days.  \n",
    "\n",
    "In this case, a recursive solution just won't work.\n",
    "\n",
    "Another key insight is that I shouldn't be running any algorithm for *every* fish. \n",
    "All fish of age 3, for example, will have the same behavior, so I should be memoizing for each of the 8 possible ages of fish.\n",
    "\n"
   ]
  },
  {
   "cell_type": "code",
   "execution_count": null,
   "metadata": {},
   "outputs": [],
   "source": [
    "def count_fish_2(fish_ages):\n",
    "    \"\"\"A MUCH better fish counting algorithm!\"\"\"\n",
    "    \n",
    "    "
   ]
  },
  {
   "cell_type": "markdown",
   "metadata": {},
   "source": [
    "### Run on Test Data"
   ]
  },
  {
   "cell_type": "code",
   "execution_count": null,
   "metadata": {},
   "outputs": [],
   "source": [
    "# count_all_the_fish(test_fish_ages, 256)  # Should return 26984457539\n",
    "# This ran on the original algorithm and produced the correct answer, but it took FOREVER to finish."
   ]
  },
  {
   "cell_type": "markdown",
   "metadata": {},
   "source": [
    "### Run on Input Data"
   ]
  },
  {
   "cell_type": "code",
   "execution_count": null,
   "metadata": {},
   "outputs": [],
   "source": [
    "count_all_the_fish(fish_ages, 256)"
   ]
  }
 ],
 "metadata": {
  "kernelspec": {
   "display_name": "Python 3",
   "language": "python",
   "name": "python3"
  },
  "language_info": {
   "codemirror_mode": {
    "name": "ipython",
    "version": 3
   },
   "file_extension": ".py",
   "mimetype": "text/x-python",
   "name": "python",
   "nbconvert_exporter": "python",
   "pygments_lexer": "ipython3",
   "version": "3.8.8"
  }
 },
 "nbformat": 4,
 "nbformat_minor": 4
}
