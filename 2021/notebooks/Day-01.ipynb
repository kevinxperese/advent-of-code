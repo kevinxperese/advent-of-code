{
 "cells": [
  {
   "cell_type": "markdown",
   "metadata": {},
   "source": [
    "# --- Day 1: Sonar Sweep --- \n",
    "\n",
    "https://adventofcode.com/2021/day/1"
   ]
  },
  {
   "cell_type": "markdown",
   "metadata": {},
   "source": [
    "## Get Input Data"
   ]
  },
  {
   "cell_type": "code",
   "execution_count": 1,
   "metadata": {},
   "outputs": [],
   "source": [
    "with open ('../inputs/sonar-sweep-depth-data.txt') as d:\n",
    "    depth_data = [int(line.strip()) for line in d.readlines()]"
   ]
  },
  {
   "cell_type": "code",
   "execution_count": 2,
   "metadata": {},
   "outputs": [
    {
     "data": {
      "text/plain": [
       "[173, 179, 200, 210, 226]"
      ]
     },
     "execution_count": 2,
     "metadata": {},
     "output_type": "execute_result"
    }
   ],
   "source": [
    "depth_data[:5]"
   ]
  },
  {
   "cell_type": "code",
   "execution_count": 3,
   "metadata": {},
   "outputs": [
    {
     "data": {
      "text/plain": [
       "2000"
      ]
     },
     "execution_count": 3,
     "metadata": {},
     "output_type": "execute_result"
    }
   ],
   "source": [
    "len(depth_data)"
   ]
  },
  {
   "cell_type": "markdown",
   "metadata": {},
   "source": [
    "## Part 1"
   ]
  },
  {
   "cell_type": "code",
   "execution_count": 4,
   "metadata": {},
   "outputs": [],
   "source": [
    "def calc_num_increases(depth_data):\n",
    "    \"Return the number of increases in a list of depth data.\"\n",
    "    num_increases = 0\n",
    "    \n",
    "    for measure in range (1, len(depth_data)):\n",
    "        if depth_data[measure-1] < depth_data[measure]:\n",
    "            num_increases += 1\n",
    "            \n",
    "    return num_increases"
   ]
  },
  {
   "cell_type": "markdown",
   "metadata": {},
   "source": [
    "### Run on test data"
   ]
  },
  {
   "cell_type": "code",
   "execution_count": 5,
   "metadata": {},
   "outputs": [
    {
     "data": {
      "text/plain": [
       "7"
      ]
     },
     "execution_count": 5,
     "metadata": {},
     "output_type": "execute_result"
    }
   ],
   "source": [
    "test_depth_data = [199, 200, 208, 210, 200, 207, 240, 269, 260, 263]\n",
    "\n",
    "calc_num_increases(test_depth_data) # Should return 7"
   ]
  },
  {
   "cell_type": "markdown",
   "metadata": {},
   "source": [
    "### Run on input data"
   ]
  },
  {
   "cell_type": "code",
   "execution_count": 6,
   "metadata": {},
   "outputs": [
    {
     "data": {
      "text/plain": [
       "1681"
      ]
     },
     "execution_count": 6,
     "metadata": {},
     "output_type": "execute_result"
    }
   ],
   "source": [
    "calc_num_increases(depth_data)"
   ]
  },
  {
   "cell_type": "markdown",
   "metadata": {},
   "source": [
    "## Part 2"
   ]
  },
  {
   "cell_type": "code",
   "execution_count": 7,
   "metadata": {},
   "outputs": [],
   "source": [
    "def calc_sliding_sums(depth_data):\n",
    "    \"\"\"Return the sums of a three-measurement sliding window of depth data.\"\"\"\n",
    "    sliding_sums = []\n",
    "    \n",
    "    for measure in range (len(depth_data)-2):\n",
    "        sliding_sums.append(depth_data[measure] + depth_data[measure+1] + depth_data[measure+2])\n",
    "            \n",
    "    return sliding_sums    "
   ]
  },
  {
   "cell_type": "markdown",
   "metadata": {},
   "source": [
    "### Run on test data"
   ]
  },
  {
   "cell_type": "code",
   "execution_count": 8,
   "metadata": {},
   "outputs": [
    {
     "data": {
      "text/plain": [
       "5"
      ]
     },
     "execution_count": 8,
     "metadata": {},
     "output_type": "execute_result"
    }
   ],
   "source": [
    "calc_num_increases(calc_sliding_sums(test_depth_data)) # Should return 5"
   ]
  },
  {
   "cell_type": "markdown",
   "metadata": {},
   "source": [
    "### Run on input data"
   ]
  },
  {
   "cell_type": "code",
   "execution_count": 9,
   "metadata": {},
   "outputs": [
    {
     "data": {
      "text/plain": [
       "1704"
      ]
     },
     "execution_count": 9,
     "metadata": {},
     "output_type": "execute_result"
    }
   ],
   "source": [
    " calc_num_increases(calc_sliding_sums(depth_data))"
   ]
  },
  {
   "cell_type": "markdown",
   "metadata": {},
   "source": [
    "---\n",
    "## Alternate solutions"
   ]
  },
  {
   "cell_type": "code",
   "execution_count": 10,
   "metadata": {},
   "outputs": [],
   "source": [
    "def calc_num_increases_alt(depth_data, offset):\n",
    "    \"\"\"Return the number of increases in a list of depth data.\n",
    "    \n",
    "    `offset` is how far ahead to look to determine if there's an increase in the depth measures.\n",
    "    \n",
    "    For Part 2, the puzzle sets up a sliding window of 3 measures to sum and then compare.\n",
    "    But calculating the sliding sums (like above) is unnecessary because each adjacent sum will\n",
    "    have two measures in commmon. \n",
    "    \n",
    "    So just need to compare the exiting value (measure[i]) and the entering value (measure[i+3])\n",
    "    \"\"\"\n",
    "    num_inc = 0\n",
    "    \n",
    "    for measure in range (len(depth_data) - offset):\n",
    "        if depth_data[measure + offset] > depth_data[measure]:\n",
    "            num_inc += 1\n",
    "            \n",
    "    return num_inc"
   ]
  },
  {
   "cell_type": "code",
   "execution_count": 11,
   "metadata": {},
   "outputs": [
    {
     "data": {
      "text/plain": [
       "1681"
      ]
     },
     "execution_count": 11,
     "metadata": {},
     "output_type": "execute_result"
    }
   ],
   "source": [
    "calc_num_increases_alt(depth_data, 1)"
   ]
  },
  {
   "cell_type": "code",
   "execution_count": 12,
   "metadata": {},
   "outputs": [
    {
     "data": {
      "text/plain": [
       "1704"
      ]
     },
     "execution_count": 12,
     "metadata": {},
     "output_type": "execute_result"
    }
   ],
   "source": [
    "calc_num_increases_alt(depth_data, 3)"
   ]
  },
  {
   "cell_type": "markdown",
   "metadata": {},
   "source": [
    "## Another solution, using `more_itertools` methods\n",
    "\n",
    "See: https://more-itertools.readthedocs.io/en/stable/"
   ]
  },
  {
   "cell_type": "code",
   "execution_count": 13,
   "metadata": {},
   "outputs": [],
   "source": [
    "from more_itertools import pairwise, windowed"
   ]
  },
  {
   "cell_type": "code",
   "execution_count": 14,
   "metadata": {},
   "outputs": [
    {
     "name": "stdout",
     "output_type": "stream",
     "text": [
      "1681\n"
     ]
    }
   ],
   "source": [
    "pairs = pairwise(depth_data)\n",
    "num_increases = 0\n",
    "for pair in pairs:\n",
    "    if pair[0] < pair[1]:\n",
    "        num_increases += 1\n",
    "print(num_increases)"
   ]
  },
  {
   "cell_type": "code",
   "execution_count": 15,
   "metadata": {},
   "outputs": [
    {
     "name": "stdout",
     "output_type": "stream",
     "text": [
      "1704\n"
     ]
    }
   ],
   "source": [
    "windows = windowed(depth_data, 4)\n",
    "num_increases = 0\n",
    "for window in windows:\n",
    "    if window[0] < window[3]:\n",
    "        num_increases += 1\n",
    "print(num_increases)"
   ]
  }
 ],
 "metadata": {
  "kernelspec": {
   "display_name": "Python 3",
   "language": "python",
   "name": "python3"
  },
  "language_info": {
   "codemirror_mode": {
    "name": "ipython",
    "version": 3
   },
   "file_extension": ".py",
   "mimetype": "text/x-python",
   "name": "python",
   "nbconvert_exporter": "python",
   "pygments_lexer": "ipython3",
   "version": "3.8.8"
  }
 },
 "nbformat": 4,
 "nbformat_minor": 4
}
