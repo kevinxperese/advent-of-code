{
 "cells": [
  {
   "cell_type": "markdown",
   "metadata": {},
   "source": [
    "# --- Day 4: Ceres Search ---\n",
    "\n",
    "https://adventofcode.com/2024/day/4"
   ]
  },
  {
   "cell_type": "markdown",
   "metadata": {},
   "source": [
    "## Parse the Input Data"
   ]
  },
  {
   "cell_type": "code",
   "execution_count": 1,
   "metadata": {},
   "outputs": [],
   "source": [
    "def parse(filename):\n",
    "    \"\"\"Parse input data for puzzle.\n",
    "\n",
    "    Parameters\n",
    "    ----------\n",
    "    filename : str\n",
    "        The name of the *.txt file in the inputs/ directory.\n",
    "\n",
    "    Returns\n",
    "    -------\n",
    "    ws : dict\n",
    "        Dictionary of all the points in the word search puzzle\n",
    "        as (r , c) tuples for keys and the letter associated\n",
    "        with that point in the puzzle.\n",
    "    \"\"\"\n",
    "    with open(f'../inputs/{filename}.txt') as f:\n",
    "        ws = {}\n",
    "        for r, row in enumerate(f.read().split(\"\\n\")):\n",
    "            for c, letter in enumerate(row):\n",
    "                ws[(r, c)] = letter\n",
    "\n",
    "    return ws"
   ]
  },
  {
   "cell_type": "markdown",
   "metadata": {},
   "source": [
    "## Part 1\n",
    "---"
   ]
  },
  {
   "cell_type": "code",
   "execution_count": 2,
   "metadata": {},
   "outputs": [],
   "source": [
    "dirs = [ # row, col\n",
    "    (1, 0),   # up\n",
    "    (1, 1),   # up, right\n",
    "    (0, 1),   # right\n",
    "    (-1, 1),  # down, right\n",
    "    (-1, 0),  # down\n",
    "    (-1, -1), # down, left\n",
    "    (0, -1),  # left\n",
    "    (1, -1)   # up, left\n",
    "]"
   ]
  },
  {
   "cell_type": "code",
   "execution_count": 3,
   "metadata": {},
   "outputs": [],
   "source": [
    "def next_p(p, d):\n",
    "    \"\"\"Return the next point, p, in a given direction, d.\"\"\"\n",
    "    return tuple(map(sum,zip(p, d)))"
   ]
  },
  {
   "cell_type": "code",
   "execution_count": 4,
   "metadata": {},
   "outputs": [],
   "source": [
    "def find_xmas(ws, p, d):\n",
    "    \"\"\"Find an XMAS. Assume we are starting from an X.\"\"\"\n",
    "    p = next_p(p, d)\n",
    "    if ws.get(p) == 'M':\n",
    "        p = next_p(p, d)\n",
    "        if ws.get(p) == 'A':\n",
    "            p = next_p(p, d)\n",
    "            if ws.get(p) == 'S':\n",
    "                return True\n",
    "\n",
    "    return False"
   ]
  },
  {
   "cell_type": "code",
   "execution_count": 5,
   "metadata": {},
   "outputs": [],
   "source": [
    "def solve(ws):\n",
    "    num_xmas = 0\n",
    "    for p in ws.keys():\n",
    "        if ws[p] == 'X':\n",
    "            for d in dirs:\n",
    "                num_xmas += find_xmas(ws, p, d)\n",
    "    return num_xmas"
   ]
  },
  {
   "cell_type": "markdown",
   "metadata": {},
   "source": [
    "### Run on Test Data"
   ]
  },
  {
   "cell_type": "code",
   "execution_count": 6,
   "metadata": {},
   "outputs": [
    {
     "data": {
      "text/plain": [
       "True"
      ]
     },
     "execution_count": 6,
     "metadata": {},
     "output_type": "execute_result"
    }
   ],
   "source": [
    "solve(parse(\"test_word_search\")) == 18"
   ]
  },
  {
   "cell_type": "markdown",
   "metadata": {},
   "source": [
    "### Run on Input Data"
   ]
  },
  {
   "cell_type": "code",
   "execution_count": 7,
   "metadata": {},
   "outputs": [
    {
     "data": {
      "text/plain": [
       "2583"
      ]
     },
     "execution_count": 7,
     "metadata": {},
     "output_type": "execute_result"
    }
   ],
   "source": [
    "solve(parse(\"word_search\"))"
   ]
  },
  {
   "cell_type": "markdown",
   "metadata": {},
   "source": [
    "## Part 2\n",
    "---"
   ]
  },
  {
   "cell_type": "code",
   "execution_count": null,
   "metadata": {},
   "outputs": [],
   "source": []
  },
  {
   "cell_type": "markdown",
   "metadata": {},
   "source": [
    "### Run on Test Data"
   ]
  },
  {
   "cell_type": "code",
   "execution_count": null,
   "metadata": {},
   "outputs": [],
   "source": []
  },
  {
   "cell_type": "markdown",
   "metadata": {},
   "source": [
    "### Run on Input Data"
   ]
  },
  {
   "cell_type": "code",
   "execution_count": null,
   "metadata": {},
   "outputs": [],
   "source": []
  }
 ],
 "metadata": {
  "kernelspec": {
   "display_name": "advent-of-code",
   "language": "python",
   "name": "python3"
  },
  "language_info": {
   "codemirror_mode": {
    "name": "ipython",
    "version": 3
   },
   "file_extension": ".py",
   "mimetype": "text/x-python",
   "name": "python",
   "nbconvert_exporter": "python",
   "pygments_lexer": "ipython3",
   "version": "3.11.0"
  }
 },
 "nbformat": 4,
 "nbformat_minor": 4
}
