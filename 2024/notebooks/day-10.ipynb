{
 "cells": [
  {
   "cell_type": "markdown",
   "metadata": {},
   "source": [
    "# --- Day 10: Hoof It ---\n",
    "\n",
    "https://adventofcode.com/2024/day/10"
   ]
  },
  {
   "cell_type": "markdown",
   "metadata": {},
   "source": [
    "## Parse the Input Data"
   ]
  },
  {
   "cell_type": "code",
   "execution_count": 1,
   "metadata": {},
   "outputs": [],
   "source": [
    "def parse(filename):\n",
    "    \"\"\"Parse input data for puzzle.\n",
    "\n",
    "    Parameters\n",
    "    ----------\n",
    "    filename : str\n",
    "        The name of the *.txt file in the inputs/ directory.\n",
    "\n",
    "    Returns\n",
    "    -------\n",
    "\n",
    "    \"\"\"\n",
    "    topo_map = {}\n",
    "    trailheads = []\n",
    "    with open(f'../inputs/{filename}.txt') as f:\n",
    "        for row, line in enumerate(f.readlines()):\n",
    "            for col, n in enumerate(line.strip()):\n",
    "                topo_map[(row, col)] = int(n)\n",
    "                if n == '0':\n",
    "                    trailheads.append((row, col))\n",
    "\n",
    "    return topo_map, trailheads"
   ]
  },
  {
   "cell_type": "code",
   "execution_count": 2,
   "metadata": {},
   "outputs": [
    {
     "data": {
      "text/plain": [
       "({(0, 0): 8,\n",
       "  (0, 1): 9,\n",
       "  (0, 2): 0,\n",
       "  (0, 3): 1,\n",
       "  (0, 4): 0,\n",
       "  (0, 5): 1,\n",
       "  (0, 6): 2,\n",
       "  (0, 7): 3,\n",
       "  (1, 0): 7,\n",
       "  (1, 1): 8,\n",
       "  (1, 2): 1,\n",
       "  (1, 3): 2,\n",
       "  (1, 4): 1,\n",
       "  (1, 5): 8,\n",
       "  (1, 6): 7,\n",
       "  (1, 7): 4,\n",
       "  (2, 0): 8,\n",
       "  (2, 1): 7,\n",
       "  (2, 2): 4,\n",
       "  (2, 3): 3,\n",
       "  (2, 4): 0,\n",
       "  (2, 5): 9,\n",
       "  (2, 6): 6,\n",
       "  (2, 7): 5,\n",
       "  (3, 0): 9,\n",
       "  (3, 1): 6,\n",
       "  (3, 2): 5,\n",
       "  (3, 3): 4,\n",
       "  (3, 4): 9,\n",
       "  (3, 5): 8,\n",
       "  (3, 6): 7,\n",
       "  (3, 7): 4,\n",
       "  (4, 0): 4,\n",
       "  (4, 1): 5,\n",
       "  (4, 2): 6,\n",
       "  (4, 3): 7,\n",
       "  (4, 4): 8,\n",
       "  (4, 5): 9,\n",
       "  (4, 6): 0,\n",
       "  (4, 7): 3,\n",
       "  (5, 0): 3,\n",
       "  (5, 1): 2,\n",
       "  (5, 2): 0,\n",
       "  (5, 3): 1,\n",
       "  (5, 4): 9,\n",
       "  (5, 5): 0,\n",
       "  (5, 6): 1,\n",
       "  (5, 7): 2,\n",
       "  (6, 0): 0,\n",
       "  (6, 1): 1,\n",
       "  (6, 2): 3,\n",
       "  (6, 3): 2,\n",
       "  (6, 4): 9,\n",
       "  (6, 5): 8,\n",
       "  (6, 6): 0,\n",
       "  (6, 7): 1,\n",
       "  (7, 0): 1,\n",
       "  (7, 1): 0,\n",
       "  (7, 2): 4,\n",
       "  (7, 3): 5,\n",
       "  (7, 4): 6,\n",
       "  (7, 5): 7,\n",
       "  (7, 6): 3,\n",
       "  (7, 7): 2},\n",
       " [(0, 2), (0, 4), (2, 4), (4, 6), (5, 2), (5, 5), (6, 0), (6, 6), (7, 1)])"
      ]
     },
     "execution_count": 2,
     "metadata": {},
     "output_type": "execute_result"
    }
   ],
   "source": [
    "parse('test_topo_map')"
   ]
  },
  {
   "cell_type": "markdown",
   "metadata": {},
   "source": [
    "## Part 1\n",
    "---"
   ]
  },
  {
   "cell_type": "code",
   "execution_count": 3,
   "metadata": {},
   "outputs": [],
   "source": [
    "dirs = [  # row, col\n",
    "    (-1, 0),  # Up\n",
    "    (1, 0),   # Down\n",
    "    (0, -1),  # Left\n",
    "    (0, 1)    # Right\n",
    "]"
   ]
  },
  {
   "cell_type": "code",
   "execution_count": 4,
   "metadata": {},
   "outputs": [],
   "source": [
    "def hike(topo_map, pos, ends):\n",
    "    curr_level = topo_map.get(pos)\n",
    "    if curr_level and curr_level == 9:\n",
    "        ends.add(pos)\n",
    "        return len(ends)\n",
    "\n",
    "    for d in dirs:\n",
    "        next_pos = tuple(map(sum, zip(pos, d)))\n",
    "        next_level = topo_map.get(next_pos)\n",
    "\n",
    "        if next_level and next_level - curr_level == 1:\n",
    "            hike(topo_map, next_pos, ends)\n",
    "\n",
    "    return len(ends)"
   ]
  },
  {
   "cell_type": "code",
   "execution_count": 5,
   "metadata": {},
   "outputs": [],
   "source": [
    "def solve(topo_map, trailheads):\n",
    "    ends = set()\n",
    "    num_full_trails = 0\n",
    "\n",
    "    for start_pos in trailheads:\n",
    "        ends.clear()\n",
    "        num_full_trails += hike(topo_map, start_pos, ends)\n",
    "\n",
    "    return num_full_trails"
   ]
  },
  {
   "cell_type": "markdown",
   "metadata": {},
   "source": [
    "### Run on Test Data"
   ]
  },
  {
   "cell_type": "code",
   "execution_count": 6,
   "metadata": {},
   "outputs": [
    {
     "data": {
      "text/plain": [
       "True"
      ]
     },
     "execution_count": 6,
     "metadata": {},
     "output_type": "execute_result"
    }
   ],
   "source": [
    "solve(*parse('test_topo_map')) == 36"
   ]
  },
  {
   "cell_type": "markdown",
   "metadata": {},
   "source": [
    "### Run on Input Data"
   ]
  },
  {
   "cell_type": "code",
   "execution_count": 7,
   "metadata": {},
   "outputs": [
    {
     "data": {
      "text/plain": [
       "617"
      ]
     },
     "execution_count": 7,
     "metadata": {},
     "output_type": "execute_result"
    }
   ],
   "source": [
    "solve(*parse('topo_map'))"
   ]
  },
  {
   "cell_type": "markdown",
   "metadata": {},
   "source": [
    "## Part 2\n",
    "---"
   ]
  },
  {
   "cell_type": "markdown",
   "metadata": {},
   "source": [
    "Use `ends` as a list instead of as a `set()`."
   ]
  },
  {
   "cell_type": "code",
   "execution_count": 8,
   "metadata": {},
   "outputs": [],
   "source": [
    "def hike2(topo_map, pos, ends):\n",
    "    curr_level = topo_map.get(pos)\n",
    "    if curr_level and curr_level == 9:\n",
    "        ends.append(pos)\n",
    "        return len(ends)\n",
    "\n",
    "    for d in dirs:\n",
    "        next_pos = tuple(map(sum, zip(pos, d)))\n",
    "        next_level = topo_map.get(next_pos)\n",
    "\n",
    "        if next_level and next_level - curr_level == 1:\n",
    "            hike2(topo_map, next_pos, ends)\n",
    "\n",
    "    return len(ends)"
   ]
  },
  {
   "cell_type": "code",
   "execution_count": 9,
   "metadata": {},
   "outputs": [],
   "source": [
    "def solve2(topo_map, trailheads):\n",
    "    num_full_trails = 0\n",
    "\n",
    "    for start_pos in trailheads:\n",
    "        ends = []\n",
    "        num_full_trails += hike2(topo_map, start_pos, ends)\n",
    "\n",
    "    return num_full_trails"
   ]
  },
  {
   "cell_type": "markdown",
   "metadata": {},
   "source": [
    "### Run on Test Data"
   ]
  },
  {
   "cell_type": "code",
   "execution_count": 10,
   "metadata": {},
   "outputs": [
    {
     "data": {
      "text/plain": [
       "True"
      ]
     },
     "execution_count": 10,
     "metadata": {},
     "output_type": "execute_result"
    }
   ],
   "source": [
    "solve2(*parse('test_topo_map')) == 81"
   ]
  },
  {
   "cell_type": "markdown",
   "metadata": {},
   "source": [
    "### Run on Input Data"
   ]
  },
  {
   "cell_type": "code",
   "execution_count": 11,
   "metadata": {},
   "outputs": [
    {
     "data": {
      "text/plain": [
       "1477"
      ]
     },
     "execution_count": 11,
     "metadata": {},
     "output_type": "execute_result"
    }
   ],
   "source": [
    "solve2(*parse('topo_map'))"
   ]
  }
 ],
 "metadata": {
  "kernelspec": {
   "display_name": "advent-of-code",
   "language": "python",
   "name": "python3"
  },
  "language_info": {
   "codemirror_mode": {
    "name": "ipython",
    "version": 3
   },
   "file_extension": ".py",
   "mimetype": "text/x-python",
   "name": "python",
   "nbconvert_exporter": "python",
   "pygments_lexer": "ipython3",
   "version": "3.11.0"
  }
 },
 "nbformat": 4,
 "nbformat_minor": 4
}
