{
 "cells": [
  {
   "cell_type": "markdown",
   "metadata": {},
   "source": [
    "# --- Day 12: Garden Groups ---\n",
    "\n",
    "https://adventofcode.com/2024/day/12"
   ]
  },
  {
   "cell_type": "markdown",
   "metadata": {},
   "source": [
    "## Parse the Input Data"
   ]
  },
  {
   "cell_type": "code",
   "execution_count": 1,
   "metadata": {},
   "outputs": [],
   "source": [
    "def parse(filename):\n",
    "    \"\"\"Parse input data for puzzle.\n",
    "\n",
    "    Parameters\n",
    "    ----------\n",
    "    filename : str\n",
    "        The name of the *.txt file in the inputs/ directory.\n",
    "\n",
    "    Returns\n",
    "    -------\n",
    "    plot_map : dict\n",
    "    \"\"\"\n",
    "    plot_map = {}\n",
    "\n",
    "    with open(f'../inputs/{filename}.txt') as f:\n",
    "        for row, line in enumerate(f):\n",
    "            for col, c in enumerate(line.strip()):\n",
    "                plot_map[(row, col)] = c\n",
    "\n",
    "    return plot_map"
   ]
  },
  {
   "cell_type": "code",
   "execution_count": 2,
   "metadata": {},
   "outputs": [
    {
     "data": {
      "text/plain": [
       "{(0, 0): 'A',\n",
       " (0, 1): 'A',\n",
       " (0, 2): 'A',\n",
       " (0, 3): 'A',\n",
       " (1, 0): 'B',\n",
       " (1, 1): 'B',\n",
       " (1, 2): 'C',\n",
       " (1, 3): 'D',\n",
       " (2, 0): 'B',\n",
       " (2, 1): 'B',\n",
       " (2, 2): 'C',\n",
       " (2, 3): 'C',\n",
       " (3, 0): 'E',\n",
       " (3, 1): 'E',\n",
       " (3, 2): 'E',\n",
       " (3, 3): 'C'}"
      ]
     },
     "execution_count": 2,
     "metadata": {},
     "output_type": "execute_result"
    }
   ],
   "source": [
    "parse('test_garden_plot_1')"
   ]
  },
  {
   "cell_type": "markdown",
   "metadata": {},
   "source": [
    "## Part 1\n",
    "---"
   ]
  },
  {
   "cell_type": "code",
   "execution_count": 3,
   "metadata": {},
   "outputs": [],
   "source": [
    "from collections import deque"
   ]
  },
  {
   "cell_type": "code",
   "execution_count": 4,
   "metadata": {},
   "outputs": [],
   "source": [
    "def solve(plot_map):\n",
    "    dirs = [(-1, 0), (0, 1), (1, 0), (0, -1)]\n",
    "    price = 0\n",
    "\n",
    "    plots = list(plot_map.keys())\n",
    "    visited = []\n",
    "\n",
    "    while plots:\n",
    "        area, perim = 0, 0\n",
    "        dq = deque([plots[0]])\n",
    "\n",
    "        while dq:\n",
    "            plot = dq.popleft()\n",
    "            visited.append(plot)\n",
    "            plots.remove(plot)\n",
    "\n",
    "            area += 1\n",
    "            delta_perim = 0\n",
    "\n",
    "            for d in dirs:\n",
    "                neighbor = tuple(map(sum, zip(plot, d)))\n",
    "                if plot_map[plot] == plot_map.get(neighbor):\n",
    "                    if neighbor not in visited and neighbor not in dq:\n",
    "                        dq.append(neighbor)\n",
    "                else:\n",
    "                    delta_perim += 1\n",
    "\n",
    "            perim += delta_perim\n",
    "\n",
    "        price += area * perim\n",
    "\n",
    "    return price"
   ]
  },
  {
   "cell_type": "markdown",
   "metadata": {},
   "source": [
    "### Run on Test Data"
   ]
  },
  {
   "cell_type": "code",
   "execution_count": 5,
   "metadata": {},
   "outputs": [
    {
     "data": {
      "text/plain": [
       "True"
      ]
     },
     "execution_count": 5,
     "metadata": {},
     "output_type": "execute_result"
    }
   ],
   "source": [
    "solve({(0, 0) : 'A'}) == 4"
   ]
  },
  {
   "cell_type": "code",
   "execution_count": 6,
   "metadata": {},
   "outputs": [
    {
     "data": {
      "text/plain": [
       "True"
      ]
     },
     "execution_count": 6,
     "metadata": {},
     "output_type": "execute_result"
    }
   ],
   "source": [
    "solve({(0, 0) : 'A', (0, 1) : 'A'}) == 12"
   ]
  },
  {
   "cell_type": "code",
   "execution_count": 7,
   "metadata": {},
   "outputs": [
    {
     "data": {
      "text/plain": [
       "True"
      ]
     },
     "execution_count": 7,
     "metadata": {},
     "output_type": "execute_result"
    }
   ],
   "source": [
    "solve({(0, 0) : 'A', (0, 1) : 'A', (0, 2) : 'A'}) == 24"
   ]
  },
  {
   "cell_type": "code",
   "execution_count": 8,
   "metadata": {},
   "outputs": [
    {
     "data": {
      "text/plain": [
       "True"
      ]
     },
     "execution_count": 8,
     "metadata": {},
     "output_type": "execute_result"
    }
   ],
   "source": [
    "solve(parse('test_garden_plot_1')) == 140"
   ]
  },
  {
   "cell_type": "code",
   "execution_count": 9,
   "metadata": {},
   "outputs": [
    {
     "data": {
      "text/plain": [
       "True"
      ]
     },
     "execution_count": 9,
     "metadata": {},
     "output_type": "execute_result"
    }
   ],
   "source": [
    "solve(parse('test_garden_plot_2')) == 772"
   ]
  },
  {
   "cell_type": "code",
   "execution_count": 10,
   "metadata": {},
   "outputs": [
    {
     "data": {
      "text/plain": [
       "True"
      ]
     },
     "execution_count": 10,
     "metadata": {},
     "output_type": "execute_result"
    }
   ],
   "source": [
    "solve(parse('test_garden_plot_3')) == 1930"
   ]
  },
  {
   "cell_type": "markdown",
   "metadata": {},
   "source": [
    "### Run on Input Data"
   ]
  },
  {
   "cell_type": "code",
   "execution_count": 11,
   "metadata": {},
   "outputs": [
    {
     "data": {
      "text/plain": [
       "1361494"
      ]
     },
     "execution_count": 11,
     "metadata": {},
     "output_type": "execute_result"
    }
   ],
   "source": [
    "solve(parse('garden_plot'))"
   ]
  },
  {
   "cell_type": "markdown",
   "metadata": {},
   "source": [
    "## Part 2\n",
    "---"
   ]
  },
  {
   "cell_type": "code",
   "execution_count": 12,
   "metadata": {},
   "outputs": [],
   "source": [
    "from collections import defaultdict"
   ]
  },
  {
   "cell_type": "code",
   "execution_count": 13,
   "metadata": {},
   "outputs": [],
   "source": [
    "def calc_num_sides(sides):\n",
    "    num_sides = 0\n",
    "    for side in sides:\n",
    "        num_sides += 1\n",
    "        if len(sides[side]) > 1:\n",
    "            sorted_side = sorted(sides[side])\n",
    "            num_sides += sum([x - y != 1 for x, y in zip(sorted_side[1:], sorted_side[:-1])])\n",
    "\n",
    "    return num_sides"
   ]
  },
  {
   "cell_type": "code",
   "execution_count": 14,
   "metadata": {},
   "outputs": [],
   "source": [
    "def solve2(plot_map):\n",
    "    dirs = [(-1, 0), (0, 1), (1, 0), (0, -1)]\n",
    "    price = 0\n",
    "\n",
    "    plots = list(plot_map.keys())\n",
    "    visited = []\n",
    "\n",
    "    while plots:\n",
    "        area = 0\n",
    "        sides = defaultdict(list)\n",
    "        dq = deque([plots[0]])\n",
    "\n",
    "        while dq:\n",
    "            plot = dq.popleft()\n",
    "            visited.append(plot)\n",
    "            plots.remove(plot)\n",
    "            area += 1\n",
    "\n",
    "            for d in dirs:\n",
    "                neighbor = tuple(map(sum, zip(plot, d)))\n",
    "                if plot_map[plot] == plot_map.get(neighbor):\n",
    "                    if neighbor not in visited and neighbor not in dq:\n",
    "                        dq.append(neighbor)\n",
    "                else:\n",
    "                    if d == (-1, 0):  # top\n",
    "                        sides[(d, neighbor[0])].append(neighbor[1])\n",
    "                    elif d == (0, 1):  # right\n",
    "                        sides[(d, neighbor[1])].append(neighbor[0])\n",
    "                    elif d == (1, 0):  # bottom\n",
    "                        sides[(d, neighbor[0])].append(neighbor[1])\n",
    "                    elif d == (0, -1):  # left\n",
    "                        sides[(d, neighbor[1])].append(neighbor[0])\n",
    "\n",
    "        num_sides = calc_num_sides(sides)\n",
    "        # print(f'A region of {plot_map[plot]} with price {area} * {num_sides} = {area * num_sides}.')\n",
    "        price += area * num_sides\n",
    "\n",
    "    return price"
   ]
  },
  {
   "cell_type": "markdown",
   "metadata": {},
   "source": [
    "### Run on Test Data"
   ]
  },
  {
   "cell_type": "code",
   "execution_count": 15,
   "metadata": {},
   "outputs": [
    {
     "data": {
      "text/plain": [
       "True"
      ]
     },
     "execution_count": 15,
     "metadata": {},
     "output_type": "execute_result"
    }
   ],
   "source": [
    "solve2(parse('test_garden_plot_1')) == 80"
   ]
  },
  {
   "cell_type": "code",
   "execution_count": 16,
   "metadata": {},
   "outputs": [
    {
     "data": {
      "text/plain": [
       "True"
      ]
     },
     "execution_count": 16,
     "metadata": {},
     "output_type": "execute_result"
    }
   ],
   "source": [
    "solve2(parse('test_garden_plot_2')) == 436"
   ]
  },
  {
   "cell_type": "code",
   "execution_count": 17,
   "metadata": {},
   "outputs": [
    {
     "data": {
      "text/plain": [
       "True"
      ]
     },
     "execution_count": 17,
     "metadata": {},
     "output_type": "execute_result"
    }
   ],
   "source": [
    "solve2(parse('test_garden_plot_4')) == 236"
   ]
  },
  {
   "cell_type": "code",
   "execution_count": 18,
   "metadata": {},
   "outputs": [
    {
     "data": {
      "text/plain": [
       "True"
      ]
     },
     "execution_count": 18,
     "metadata": {},
     "output_type": "execute_result"
    }
   ],
   "source": [
    "solve2(parse('test_garden_plot_5')) == 368"
   ]
  },
  {
   "cell_type": "code",
   "execution_count": 19,
   "metadata": {},
   "outputs": [
    {
     "data": {
      "text/plain": [
       "True"
      ]
     },
     "execution_count": 19,
     "metadata": {},
     "output_type": "execute_result"
    }
   ],
   "source": [
    "solve2(parse('test_garden_plot_3')) == 1206"
   ]
  },
  {
   "cell_type": "markdown",
   "metadata": {},
   "source": [
    "### Run on Input Data"
   ]
  },
  {
   "cell_type": "code",
   "execution_count": 20,
   "metadata": {},
   "outputs": [
    {
     "data": {
      "text/plain": [
       "830516"
      ]
     },
     "execution_count": 20,
     "metadata": {},
     "output_type": "execute_result"
    }
   ],
   "source": [
    "solve2(parse('garden_plot'))"
   ]
  }
 ],
 "metadata": {
  "kernelspec": {
   "display_name": "advent-of-code",
   "language": "python",
   "name": "python3"
  },
  "language_info": {
   "codemirror_mode": {
    "name": "ipython",
    "version": 3
   },
   "file_extension": ".py",
   "mimetype": "text/x-python",
   "name": "python",
   "nbconvert_exporter": "python",
   "pygments_lexer": "ipython3",
   "version": "3.11.0"
  }
 },
 "nbformat": 4,
 "nbformat_minor": 4
}
