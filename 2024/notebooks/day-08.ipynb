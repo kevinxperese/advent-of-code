{
 "cells": [
  {
   "cell_type": "markdown",
   "metadata": {},
   "source": [
    "# --- Day 8: Resonant Collinearity ---\n",
    "\n",
    "https://adventofcode.com/2024/day/8"
   ]
  },
  {
   "cell_type": "markdown",
   "metadata": {},
   "source": [
    "## Parse the Input Data"
   ]
  },
  {
   "cell_type": "code",
   "execution_count": 1,
   "metadata": {},
   "outputs": [],
   "source": [
    "from collections import defaultdict"
   ]
  },
  {
   "cell_type": "code",
   "execution_count": 2,
   "metadata": {},
   "outputs": [],
   "source": [
    "def parse(filename):\n",
    "    \"\"\"Parse input data for puzzle.\n",
    "\n",
    "    Parameters\n",
    "    ----------\n",
    "    filename : str\n",
    "        The name of the *.txt file in the inputs/ directory.\n",
    "\n",
    "    Returns\n",
    "    -------\n",
    "    tuple: (antennas, map_shape)\n",
    "        antennas : defaultdict(list)\n",
    "            keys : antenna types\n",
    "            vals : list of antenna locations on map\n",
    "        map_shape : tuple\n",
    "            max row, col shape of map\n",
    "    \"\"\"\n",
    "    antennas = defaultdict(list)\n",
    "    with open(f'../inputs/{filename}.txt') as f:\n",
    "        for r, row in enumerate(f.read().split(\"\\n\")):\n",
    "            for c, val in enumerate(row):\n",
    "                if val != '.':\n",
    "                    antennas[val].append((r, c))\n",
    "\n",
    "    map_shape = (r, c)\n",
    "\n",
    "    return antennas, map_shape"
   ]
  },
  {
   "cell_type": "code",
   "execution_count": 3,
   "metadata": {},
   "outputs": [
    {
     "data": {
      "text/plain": [
       "(defaultdict(list,\n",
       "             {'0': [(1, 8), (2, 5), (3, 7), (4, 4)],\n",
       "              'A': [(5, 6), (8, 8), (9, 9)]}),\n",
       " (11, 11))"
      ]
     },
     "execution_count": 3,
     "metadata": {},
     "output_type": "execute_result"
    }
   ],
   "source": [
    "parse('test_antennas')"
   ]
  },
  {
   "cell_type": "markdown",
   "metadata": {},
   "source": [
    "## Part 1\n",
    "---"
   ]
  },
  {
   "cell_type": "code",
   "execution_count": 4,
   "metadata": {},
   "outputs": [],
   "source": [
    "def on_map(p, map_shape):\n",
    "    map_h, map_w = map_shape\n",
    "    return (0 <= p[0] <= map_h) and (0 <= p[1] <= map_w)"
   ]
  },
  {
   "cell_type": "code",
   "execution_count": 5,
   "metadata": {},
   "outputs": [],
   "source": [
    "def get_good_antinodes(a1, a2, map_shape):\n",
    "    good_antinodes = []\n",
    "\n",
    "    two_delta = (2 * (a1[0] - a2[0]), 2 * (a1[1] - a2[1]))\n",
    "    an1 = tuple([one - two for one, two in zip(a1, two_delta)])\n",
    "    an2 = tuple([one + two for one, two in zip(a2, two_delta)])\n",
    "\n",
    "    if on_map(an1, map_shape):\n",
    "        good_antinodes.append(an1)\n",
    "    if on_map(an2, map_shape):\n",
    "        good_antinodes.append(an2)\n",
    "\n",
    "    return good_antinodes"
   ]
  },
  {
   "cell_type": "code",
   "execution_count": 6,
   "metadata": {},
   "outputs": [],
   "source": [
    "from itertools import combinations"
   ]
  },
  {
   "cell_type": "code",
   "execution_count": 7,
   "metadata": {},
   "outputs": [],
   "source": [
    "def solve(antennas, map_shape):\n",
    "    antinodes = set()\n",
    "\n",
    "    for _, locs in antennas.items():\n",
    "        for pair in combinations(locs, r=2):\n",
    "            antinodes.update(get_good_antinodes(*pair, map_shape))\n",
    "\n",
    "    return len(antinodes)"
   ]
  },
  {
   "cell_type": "markdown",
   "metadata": {},
   "source": [
    "### Run on Test Data"
   ]
  },
  {
   "cell_type": "code",
   "execution_count": 8,
   "metadata": {},
   "outputs": [
    {
     "data": {
      "text/plain": [
       "True"
      ]
     },
     "execution_count": 8,
     "metadata": {},
     "output_type": "execute_result"
    }
   ],
   "source": [
    "solve(*parse('test_antennas')) == 14"
   ]
  },
  {
   "cell_type": "markdown",
   "metadata": {},
   "source": [
    "### Run on Input Data"
   ]
  },
  {
   "cell_type": "code",
   "execution_count": 9,
   "metadata": {},
   "outputs": [
    {
     "data": {
      "text/plain": [
       "344"
      ]
     },
     "execution_count": 9,
     "metadata": {},
     "output_type": "execute_result"
    }
   ],
   "source": [
    "solve(*parse('antennas'))"
   ]
  },
  {
   "cell_type": "markdown",
   "metadata": {},
   "source": [
    "## Part 2\n",
    "---"
   ]
  },
  {
   "cell_type": "code",
   "execution_count": 10,
   "metadata": {},
   "outputs": [],
   "source": [
    "def get_good_antinodes2(a1, a2, map_shape):\n",
    "    good_antinodes = [a1, a2]\n",
    "    len_map_diag = map_shape[0] + 1\n",
    "\n",
    "    for i in range(1, len_map_diag + 1):\n",
    "        delta = (i * (a1[0] - a2[0]), i * (a1[1] - a2[1]))\n",
    "        an1 = tuple([one - two for one, two in zip(a1, delta)])\n",
    "        if on_map(an1, map_shape):\n",
    "            good_antinodes.append(an1)\n",
    "        else:\n",
    "            break\n",
    "\n",
    "    for i in range(1, len_map_diag + 1):\n",
    "        delta = (i * (a1[0] - a2[0]), i * (a1[1] - a2[1]))\n",
    "        an2 = tuple([one + two for one, two in zip(a2, delta)])\n",
    "        if on_map(an2, map_shape):\n",
    "            good_antinodes.append(an2)\n",
    "        else:\n",
    "            break\n",
    "\n",
    "    return good_antinodes"
   ]
  },
  {
   "cell_type": "code",
   "execution_count": 11,
   "metadata": {},
   "outputs": [],
   "source": [
    "def solve2(antennas, map_shape):\n",
    "    antinodes = set()\n",
    "\n",
    "    for _, locs in antennas.items():\n",
    "        for pair in combinations(locs, r=2):\n",
    "            antinodes.update(get_good_antinodes2(*pair, map_shape))\n",
    "\n",
    "    return len(antinodes)"
   ]
  },
  {
   "cell_type": "markdown",
   "metadata": {},
   "source": [
    "### Run on Test Data"
   ]
  },
  {
   "cell_type": "code",
   "execution_count": 12,
   "metadata": {},
   "outputs": [
    {
     "data": {
      "text/plain": [
       "True"
      ]
     },
     "execution_count": 12,
     "metadata": {},
     "output_type": "execute_result"
    }
   ],
   "source": [
    "solve2(*parse('test_antennas'))  == 34"
   ]
  },
  {
   "cell_type": "markdown",
   "metadata": {},
   "source": [
    "### Run on Input Data"
   ]
  },
  {
   "cell_type": "code",
   "execution_count": 13,
   "metadata": {},
   "outputs": [
    {
     "data": {
      "text/plain": [
       "1182"
      ]
     },
     "execution_count": 13,
     "metadata": {},
     "output_type": "execute_result"
    }
   ],
   "source": [
    "solve2(*parse('antennas'))"
   ]
  }
 ],
 "metadata": {
  "kernelspec": {
   "display_name": "advent-of-code",
   "language": "python",
   "name": "python3"
  },
  "language_info": {
   "codemirror_mode": {
    "name": "ipython",
    "version": 3
   },
   "file_extension": ".py",
   "mimetype": "text/x-python",
   "name": "python",
   "nbconvert_exporter": "python",
   "pygments_lexer": "ipython3",
   "version": "3.11.0"
  }
 },
 "nbformat": 4,
 "nbformat_minor": 4
}
