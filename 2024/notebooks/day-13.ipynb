{
 "cells": [
  {
   "cell_type": "markdown",
   "metadata": {},
   "source": [
    "# --- Day 13: Claw Contraption ---\n",
    "\n",
    "https://adventofcode.com/2024/day/13"
   ]
  },
  {
   "cell_type": "markdown",
   "metadata": {},
   "source": [
    "## Parse the Input Data"
   ]
  },
  {
   "cell_type": "code",
   "execution_count": 1,
   "metadata": {},
   "outputs": [],
   "source": [
    "import re"
   ]
  },
  {
   "cell_type": "code",
   "execution_count": 2,
   "metadata": {},
   "outputs": [],
   "source": [
    "def parse(filename):\n",
    "    \"\"\"Parse input data for puzzle.\n",
    "\n",
    "    Parameters\n",
    "    ----------\n",
    "    filename : str\n",
    "        The name of the *.txt file in the inputs/ directory.\n",
    "\n",
    "    Returns\n",
    "    -------\n",
    "    machines : list\n",
    "        A list of a list of tuples: [[(a1, a2), (b1, b2), (c1, c2)], etc.]\n",
    "    \"\"\"\n",
    "    machines = []\n",
    "\n",
    "    with open(f'../inputs/{filename}.txt') as f:\n",
    "        machine = []\n",
    "        for line in f:\n",
    "            if line.startswith('\\n'):\n",
    "                machines.append(machine)\n",
    "                machine = []\n",
    "            else:\n",
    "                machine.append(tuple([int(x) for x in re.findall(r'\\d+', line)]))\n",
    "\n",
    "        machines.append(machine)\n",
    "\n",
    "    return machines"
   ]
  },
  {
   "cell_type": "code",
   "execution_count": 3,
   "metadata": {},
   "outputs": [
    {
     "data": {
      "text/plain": [
       "[[(94, 34), (22, 67), (8400, 5400)],\n",
       " [(26, 66), (67, 21), (12748, 12176)],\n",
       " [(17, 86), (84, 37), (7870, 6450)],\n",
       " [(69, 23), (27, 71), (18641, 10279)]]"
      ]
     },
     "execution_count": 3,
     "metadata": {},
     "output_type": "execute_result"
    }
   ],
   "source": [
    "parse('test_claw_machines')"
   ]
  },
  {
   "cell_type": "markdown",
   "metadata": {},
   "source": [
    "## Part 1\n",
    "---"
   ]
  },
  {
   "cell_type": "code",
   "execution_count": 4,
   "metadata": {},
   "outputs": [],
   "source": [
    "def round_close(f, tol=0.1):\n",
    "    \"\"\"Need to deal with floating point precision,\n",
    "    I'm surprised, however, that the tolerance needs to be so large\n",
    "    for the second part, and still works for part 1.\n",
    "    \"\"\"\n",
    "    if abs(round(f) - f) < tol:\n",
    "        return round(f)\n",
    "    else:\n",
    "        return f"
   ]
  },
  {
   "cell_type": "code",
   "execution_count": 5,
   "metadata": {},
   "outputs": [
    {
     "data": {
      "text/plain": [
       "90"
      ]
     },
     "execution_count": 5,
     "metadata": {},
     "output_type": "execute_result"
    }
   ],
   "source": [
    "round_close(5023.285714285714 / 55.81428571428572)"
   ]
  },
  {
   "cell_type": "code",
   "execution_count": 6,
   "metadata": {},
   "outputs": [],
   "source": [
    "def find_intersection(a, b, p):\n",
    "    \"\"\"Solve for the intersection of two lines.\n",
    "\n",
    "    Lines expressed as:\n",
    "    a1A + b1B = p1\n",
    "    a2A + b2B = p2\n",
    "\n",
    "    Parameters\n",
    "    ----------\n",
    "    a : tuple\n",
    "        (a1, a2): coefficients on number of times to press\n",
    "        the A button.\n",
    "    b : tuple\n",
    "        (b1, b2): coefficients on number of times to press\n",
    "        the B button.\n",
    "    p : tuple\n",
    "        (p1, p2): coefficients for the prizes\n",
    "\n",
    "    Returns\n",
    "    -------\n",
    "    tuple : (A, B)\n",
    "    \"\"\"\n",
    "    # Unpack the coefficients\n",
    "    a1, a2 = a\n",
    "    b1, b2 = b\n",
    "    p1, p2 = p\n",
    "\n",
    "    # Calc right-hand side and left-hand side values\n",
    "    # when subbing in value of B from second equation\n",
    "    # into the first equation and then solving for A.\n",
    "    rhs = p1 - ((b1 * p2) / b2)\n",
    "    lhs = a1 + ((b1 * a2 * -1) / b2)\n",
    "\n",
    "    try:\n",
    "        A = round_close(rhs / lhs)\n",
    "\n",
    "        if A in range(1, 101):\n",
    "            B = round_close(A * ((a1 * -1) / b1) + (p1 / b1))\n",
    "\n",
    "        if B in range(1, 101):\n",
    "            return (A, B)\n",
    "    except:\n",
    "        return (0, 0)\n",
    "    else:\n",
    "        return (0, 0)"
   ]
  },
  {
   "cell_type": "code",
   "execution_count": 7,
   "metadata": {},
   "outputs": [],
   "source": [
    "import numpy as np"
   ]
  },
  {
   "cell_type": "code",
   "execution_count": 8,
   "metadata": {},
   "outputs": [],
   "source": [
    "def solve(machines):\n",
    "    prices = np.array((3, 1))\n",
    "\n",
    "    intersections = []\n",
    "    for machine in machines:\n",
    "        intersections.append(find_intersection(*machine))\n",
    "\n",
    "    intersections = np.array(intersections)\n",
    "\n",
    "    return sum(intersections @ prices.T)"
   ]
  },
  {
   "cell_type": "markdown",
   "metadata": {},
   "source": [
    "### Run on Test Data"
   ]
  },
  {
   "cell_type": "code",
   "execution_count": 9,
   "metadata": {},
   "outputs": [
    {
     "data": {
      "text/plain": [
       "True"
      ]
     },
     "execution_count": 9,
     "metadata": {},
     "output_type": "execute_result"
    }
   ],
   "source": [
    "solve(parse('test_claw_machines')) == 480"
   ]
  },
  {
   "cell_type": "markdown",
   "metadata": {},
   "source": [
    "### Run on Input Data"
   ]
  },
  {
   "cell_type": "code",
   "execution_count": 10,
   "metadata": {},
   "outputs": [
    {
     "data": {
      "text/plain": [
       "40069"
      ]
     },
     "execution_count": 10,
     "metadata": {},
     "output_type": "execute_result"
    }
   ],
   "source": [
    "int(solve(parse('claw_machines')))"
   ]
  },
  {
   "cell_type": "markdown",
   "metadata": {},
   "source": [
    "## Part 2\n",
    "---"
   ]
  },
  {
   "cell_type": "code",
   "execution_count": 11,
   "metadata": {},
   "outputs": [],
   "source": [
    "def find_intersection2(a, b, p):\n",
    "    \"\"\"Solve for the intersection of two lines.\n",
    "\n",
    "    Lines expressed as:\n",
    "    a1A + b1B = p1\n",
    "    a2A + b2B = p2\n",
    "\n",
    "    Parameters\n",
    "    ----------\n",
    "    a : tuple\n",
    "        (a1, a2): coefficients on number of times to press\n",
    "        the A button.\n",
    "    b : tuple\n",
    "        (b1, b2): coefficients on number of times to press\n",
    "        the B button.\n",
    "    p : tuple\n",
    "        (p1, p2): coefficients for the prizes\n",
    "\n",
    "    Returns\n",
    "    -------\n",
    "    tuple : (A, B)\n",
    "    \"\"\"\n",
    "    # Unpack the coefficients\n",
    "    a1, a2 = a\n",
    "    b1, b2 = b\n",
    "    p1, p2 = p\n",
    "\n",
    "    p1 += 10000000000000\n",
    "    p2 += 10000000000000\n",
    "\n",
    "    # Calc right-hand side and left-hand side values\n",
    "    # when subbing in value of B from second equation\n",
    "    # into the first equation and then solving for A.\n",
    "    rhs = p1 - ((b1 * p2) / b2)\n",
    "    lhs = a1 + ((b1 * a2 * -1) / b2)\n",
    "\n",
    "    try:\n",
    "        A = round_close(rhs / lhs)\n",
    "        B = round_close(A * ((a1 * -1) / b1) + (p1 / b1))\n",
    "\n",
    "        if A % 1 == 0 and B % 1 == 0 and A > 0 and B > 0:\n",
    "            assert a1 * A + b1 * B == p1\n",
    "            assert a2 * A + b2 * B == p2\n",
    "            return (A, B)\n",
    "    except:\n",
    "        return (0, 0)\n",
    "    else:\n",
    "        return (0, 0)"
   ]
  },
  {
   "cell_type": "code",
   "execution_count": 12,
   "metadata": {},
   "outputs": [],
   "source": [
    "def solve2(machines):\n",
    "    prices = np.array((3, 1))\n",
    "\n",
    "    intersections = []\n",
    "    for machine in machines:\n",
    "        intersections.append(find_intersection2(*machine))\n",
    "\n",
    "    intersections = np.array(intersections)\n",
    "\n",
    "    return sum(intersections @ prices.T)"
   ]
  },
  {
   "cell_type": "markdown",
   "metadata": {},
   "source": [
    "### Run on Input Data"
   ]
  },
  {
   "cell_type": "code",
   "execution_count": 13,
   "metadata": {},
   "outputs": [
    {
     "data": {
      "text/plain": [
       "71493195288102"
      ]
     },
     "execution_count": 13,
     "metadata": {},
     "output_type": "execute_result"
    }
   ],
   "source": [
    "solve2(parse('claw_machines'))"
   ]
  }
 ],
 "metadata": {
  "kernelspec": {
   "display_name": "advent-of-code",
   "language": "python",
   "name": "python3"
  },
  "language_info": {
   "codemirror_mode": {
    "name": "ipython",
    "version": 3
   },
   "file_extension": ".py",
   "mimetype": "text/x-python",
   "name": "python",
   "nbconvert_exporter": "python",
   "pygments_lexer": "ipython3",
   "version": "3.11.0"
  }
 },
 "nbformat": 4,
 "nbformat_minor": 4
}
