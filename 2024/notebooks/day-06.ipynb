{
 "cells": [
  {
   "cell_type": "markdown",
   "metadata": {},
   "source": [
    "# --- Day 6: Guard Gallivant ---\n",
    "\n",
    "https://adventofcode.com/2024/day/6"
   ]
  },
  {
   "cell_type": "markdown",
   "metadata": {},
   "source": [
    "## Parse the Input Data"
   ]
  },
  {
   "cell_type": "code",
   "execution_count": 1,
   "metadata": {},
   "outputs": [],
   "source": [
    "def parse(filename):\n",
    "    \"\"\"Parse input data for puzzle.\n",
    "\n",
    "    Parameters\n",
    "    ----------\n",
    "    filename : str\n",
    "        The name of the *.txt file in the inputs/ directory.\n",
    "\n",
    "    Returns\n",
    "    -------\n",
    "    dict : A map of the North Pole prototype suit manufacturing lab\n",
    "    \"\"\"\n",
    "    with open(f'../inputs/{filename}.txt') as f:\n",
    "        lab = {}\n",
    "        for r, row in enumerate(f.read().split(\"\\n\")):\n",
    "            for c, val in enumerate(row):\n",
    "                lab[(r, c)] = val\n",
    "                if val == \"^\":\n",
    "                    start_pos = (r, c)\n",
    "\n",
    "    return lab, start_pos"
   ]
  },
  {
   "cell_type": "markdown",
   "metadata": {},
   "source": [
    "## Part 1\n",
    "---"
   ]
  },
  {
   "cell_type": "code",
   "execution_count": 2,
   "metadata": {},
   "outputs": [],
   "source": [
    "dirs = {  # (row, col)\n",
    "    'up' : (-1, 0),\n",
    "    'right' : (0, 1),\n",
    "    'down' : (1, 0),\n",
    "    'left' : (0, -1)\n",
    "}"
   ]
  },
  {
   "cell_type": "code",
   "execution_count": 3,
   "metadata": {},
   "outputs": [],
   "source": [
    "def turn_right(d):\n",
    "    turn = {\n",
    "        'up' : 'right',\n",
    "        'right' : 'down',\n",
    "        'down' : 'left',\n",
    "        'left' : 'up'\n",
    "    }\n",
    "\n",
    "    return turn[d]"
   ]
  },
  {
   "cell_type": "code",
   "execution_count": 4,
   "metadata": {},
   "outputs": [],
   "source": [
    "def backup(p, d):\n",
    "    move = {\n",
    "        'up' : 'down',\n",
    "        'right' : 'left',\n",
    "        'down' : 'up',\n",
    "        'left' : 'right'\n",
    "    }\n",
    "\n",
    "    return tuple(map(sum, zip(p, dirs[move[d]])))"
   ]
  },
  {
   "cell_type": "code",
   "execution_count": 5,
   "metadata": {},
   "outputs": [],
   "source": [
    "def solve(lab, p):\n",
    "    \"\"\"lab is a dictionary/map, p is starting point on the map.\"\"\"\n",
    "    visited = set()\n",
    "    visited.add(p)\n",
    "\n",
    "    d = 'up'\n",
    "    next_p = tuple(map(sum, zip(p, dirs[d])))\n",
    "\n",
    "    while lab.get(next_p):\n",
    "        visited.add(next_p)\n",
    "\n",
    "        if lab.get(next_p) == \"#\":\n",
    "            visited.remove(next_p)\n",
    "            next_p = backup(next_p, d)\n",
    "            d = turn_right(d)\n",
    "            next_p = tuple(map(sum, zip(next_p, dirs[d])))\n",
    "        else:\n",
    "            next_p = tuple(map(sum, zip(next_p, dirs[d])))\n",
    "\n",
    "    return len(visited)"
   ]
  },
  {
   "cell_type": "markdown",
   "metadata": {},
   "source": [
    "### Run on Test Data"
   ]
  },
  {
   "cell_type": "code",
   "execution_count": 6,
   "metadata": {},
   "outputs": [
    {
     "data": {
      "text/plain": [
       "True"
      ]
     },
     "execution_count": 6,
     "metadata": {},
     "output_type": "execute_result"
    }
   ],
   "source": [
    "solve(*parse(\"test_lab\")) == 41"
   ]
  },
  {
   "cell_type": "markdown",
   "metadata": {},
   "source": [
    "### Run on Input Data"
   ]
  },
  {
   "cell_type": "code",
   "execution_count": 7,
   "metadata": {},
   "outputs": [
    {
     "data": {
      "text/plain": [
       "4778"
      ]
     },
     "execution_count": 7,
     "metadata": {},
     "output_type": "execute_result"
    }
   ],
   "source": [
    "solve(*parse(\"lab\"))"
   ]
  },
  {
   "cell_type": "markdown",
   "metadata": {},
   "source": [
    "## Part 2\n",
    "---"
   ]
  },
  {
   "cell_type": "code",
   "execution_count": null,
   "metadata": {},
   "outputs": [],
   "source": []
  },
  {
   "cell_type": "markdown",
   "metadata": {},
   "source": [
    "### Run on Test Data"
   ]
  },
  {
   "cell_type": "code",
   "execution_count": null,
   "metadata": {},
   "outputs": [],
   "source": []
  },
  {
   "cell_type": "markdown",
   "metadata": {},
   "source": [
    "### Run on Input Data"
   ]
  },
  {
   "cell_type": "code",
   "execution_count": null,
   "metadata": {},
   "outputs": [],
   "source": []
  }
 ],
 "metadata": {
  "kernelspec": {
   "display_name": "advent-of-code",
   "language": "python",
   "name": "python3"
  },
  "language_info": {
   "codemirror_mode": {
    "name": "ipython",
    "version": 3
   },
   "file_extension": ".py",
   "mimetype": "text/x-python",
   "name": "python",
   "nbconvert_exporter": "python",
   "pygments_lexer": "ipython3",
   "version": "3.11.0"
  }
 },
 "nbformat": 4,
 "nbformat_minor": 4
}
