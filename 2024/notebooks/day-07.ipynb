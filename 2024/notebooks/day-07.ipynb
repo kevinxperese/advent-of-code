{
 "cells": [
  {
   "cell_type": "markdown",
   "metadata": {},
   "source": [
    "# --- Day 7: Bridge Repair ---\n",
    "\n",
    "https://adventofcode.com/2024/day/7"
   ]
  },
  {
   "cell_type": "markdown",
   "metadata": {},
   "source": [
    "## Parse the Input Data"
   ]
  },
  {
   "cell_type": "code",
   "execution_count": 1,
   "metadata": {},
   "outputs": [],
   "source": [
    "def parse(filename):\n",
    "    \"\"\"Parse input data for puzzle.\n",
    "\n",
    "    Parameters\n",
    "    ----------\n",
    "    filename : str\n",
    "        The name of the *.txt file in the inputs/ directory.\n",
    "\n",
    "    Returns\n",
    "    -------\n",
    "    answers, params : tuple of two lists\n",
    "    \"\"\"\n",
    "    answers, params = [], []\n",
    "\n",
    "    with open(f'../inputs/{filename}.txt') as f:\n",
    "        for line in f:\n",
    "            a, p = line.strip().split(\": \")\n",
    "            answers.append(int(a))\n",
    "            params.append(list(map(int, p.split())))\n",
    "\n",
    "        return answers, params"
   ]
  },
  {
   "cell_type": "code",
   "execution_count": 2,
   "metadata": {},
   "outputs": [
    {
     "data": {
      "text/plain": [
       "([190, 3267, 83, 156, 7290, 161011, 192, 21037, 292],\n",
       " [[10, 19],\n",
       "  [81, 40, 27],\n",
       "  [17, 5],\n",
       "  [15, 6],\n",
       "  [6, 8, 6, 15],\n",
       "  [16, 10, 13],\n",
       "  [17, 8, 14],\n",
       "  [9, 7, 18, 13],\n",
       "  [11, 6, 16, 20]])"
      ]
     },
     "execution_count": 2,
     "metadata": {},
     "output_type": "execute_result"
    }
   ],
   "source": [
    "parse(\"test_calibration_equations\")"
   ]
  },
  {
   "cell_type": "markdown",
   "metadata": {},
   "source": [
    "## Part 1\n",
    "---"
   ]
  },
  {
   "cell_type": "code",
   "execution_count": 3,
   "metadata": {},
   "outputs": [],
   "source": [
    "from operator import add, mul\n",
    "from itertools import product"
   ]
  },
  {
   "cell_type": "code",
   "execution_count": 4,
   "metadata": {},
   "outputs": [],
   "source": [
    "def apply_funcs(ops, params, answer):\n",
    "    ops = list(ops)\n",
    "\n",
    "    while len(params) > 1:\n",
    "        op = ops.pop(0)\n",
    "\n",
    "        p1, p2 = params.pop(0), params.pop(0)\n",
    "        intermediate_result = op(p1, p2)\n",
    "\n",
    "        if intermediate_result > answer:\n",
    "            return 0\n",
    "        else:\n",
    "            params.insert(0, intermediate_result)\n",
    "\n",
    "    return params[0]"
   ]
  },
  {
   "cell_type": "code",
   "execution_count": 5,
   "metadata": {},
   "outputs": [],
   "source": [
    "def solve(answers, params):\n",
    "    result = 0\n",
    "    ops = [add, mul]\n",
    "\n",
    "    for answer, param in zip(answers, params):\n",
    "        for op_list in product(ops, repeat=len(param) - 1):\n",
    "            test_answer = apply_funcs(op_list, param.copy(), answer)\n",
    "            if answer == test_answer:\n",
    "                result += answer\n",
    "                break\n",
    "\n",
    "    return result"
   ]
  },
  {
   "cell_type": "markdown",
   "metadata": {},
   "source": [
    "### Run on Test Data"
   ]
  },
  {
   "cell_type": "code",
   "execution_count": 6,
   "metadata": {},
   "outputs": [
    {
     "data": {
      "text/plain": [
       "True"
      ]
     },
     "execution_count": 6,
     "metadata": {},
     "output_type": "execute_result"
    }
   ],
   "source": [
    "solve(*parse(\"test_calibration_equations\")) == 3749"
   ]
  },
  {
   "cell_type": "markdown",
   "metadata": {},
   "source": [
    "### Run on Input Data"
   ]
  },
  {
   "cell_type": "code",
   "execution_count": 7,
   "metadata": {},
   "outputs": [
    {
     "data": {
      "text/plain": [
       "882304362421"
      ]
     },
     "execution_count": 7,
     "metadata": {},
     "output_type": "execute_result"
    }
   ],
   "source": [
    "solve(*parse(\"calibration_equations\"))"
   ]
  },
  {
   "cell_type": "markdown",
   "metadata": {},
   "source": [
    "## Part 2\n",
    "---"
   ]
  },
  {
   "cell_type": "code",
   "execution_count": 8,
   "metadata": {},
   "outputs": [],
   "source": [
    "def concat(p1, p2):\n",
    "    return int(str(p1) + str(p2))"
   ]
  },
  {
   "cell_type": "code",
   "execution_count": 9,
   "metadata": {},
   "outputs": [],
   "source": [
    "def solve2(answers, params):\n",
    "    result = 0\n",
    "    ops = [add, mul, concat]\n",
    "\n",
    "    for answer, param in zip(answers, params):\n",
    "        for op_list in product(ops, repeat=len(param) - 1):\n",
    "            test_answer = apply_funcs(op_list, param.copy(), answer)\n",
    "            if answer == test_answer:\n",
    "                result += answer\n",
    "                break\n",
    "\n",
    "    return result"
   ]
  },
  {
   "cell_type": "markdown",
   "metadata": {},
   "source": [
    "### Run on Test Data"
   ]
  },
  {
   "cell_type": "code",
   "execution_count": 10,
   "metadata": {},
   "outputs": [
    {
     "data": {
      "text/plain": [
       "True"
      ]
     },
     "execution_count": 10,
     "metadata": {},
     "output_type": "execute_result"
    }
   ],
   "source": [
    "solve2(*parse(\"test_calibration_equations\")) == 11387"
   ]
  },
  {
   "cell_type": "markdown",
   "metadata": {},
   "source": [
    "### Run on Input Data"
   ]
  },
  {
   "cell_type": "code",
   "execution_count": 11,
   "metadata": {},
   "outputs": [
    {
     "data": {
      "text/plain": [
       "145149066755184"
      ]
     },
     "execution_count": 11,
     "metadata": {},
     "output_type": "execute_result"
    }
   ],
   "source": [
    "solve2(*parse(\"calibration_equations\"))"
   ]
  }
 ],
 "metadata": {
  "kernelspec": {
   "display_name": "advent-of-code",
   "language": "python",
   "name": "python3"
  },
  "language_info": {
   "codemirror_mode": {
    "name": "ipython",
    "version": 3
   },
   "file_extension": ".py",
   "mimetype": "text/x-python",
   "name": "python",
   "nbconvert_exporter": "python",
   "pygments_lexer": "ipython3",
   "version": "3.11.0"
  }
 },
 "nbformat": 4,
 "nbformat_minor": 4
}
