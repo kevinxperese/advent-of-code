{
 "cells": [
  {
   "cell_type": "markdown",
   "metadata": {},
   "source": [
    "# --- Day X: ---\n",
    "\n",
    "https://adventofcode.com/2024/day/"
   ]
  },
  {
   "cell_type": "markdown",
   "metadata": {},
   "source": [
    "## Parse the Input Data"
   ]
  },
  {
   "cell_type": "code",
   "execution_count": 1,
   "metadata": {},
   "outputs": [],
   "source": [
    "import re"
   ]
  },
  {
   "cell_type": "code",
   "execution_count": 2,
   "metadata": {},
   "outputs": [],
   "source": [
    "def parse(filename):\n",
    "    \"\"\"Parse input data for puzzle.\n",
    "\n",
    "    Parameters\n",
    "    ----------\n",
    "    filename : str\n",
    "        The name of the *.txt file in the inputs/ directory.\n",
    "\n",
    "    Returns\n",
    "    -------\n",
    "    robots : list\n",
    "        Each element contains a list of two tuples:\n",
    "        p, the initial (x, y) position, and\n",
    "        v, the (x, y) velocity per second.\n",
    "    \"\"\"\n",
    "    robots = []\n",
    "\n",
    "    with open(f'../inputs/{filename}.txt') as f:\n",
    "        for line in f:\n",
    "            x, y, dx, dy = [int(x) for x in re.findall(r'-?\\d+', line)]\n",
    "            robots.append([(x, y), (dx, dy)])\n",
    "\n",
    "    return robots"
   ]
  },
  {
   "cell_type": "code",
   "execution_count": 3,
   "metadata": {},
   "outputs": [
    {
     "data": {
      "text/plain": [
       "[[(0, 4), (3, -3)],\n",
       " [(6, 3), (-1, -3)],\n",
       " [(10, 3), (-1, 2)],\n",
       " [(2, 0), (2, -1)],\n",
       " [(0, 0), (1, 3)],\n",
       " [(3, 0), (-2, -2)],\n",
       " [(7, 6), (-1, -3)],\n",
       " [(3, 0), (-1, -2)],\n",
       " [(9, 3), (2, 3)],\n",
       " [(7, 3), (-1, 2)],\n",
       " [(2, 4), (2, -3)],\n",
       " [(9, 5), (-3, -3)]]"
      ]
     },
     "execution_count": 3,
     "metadata": {},
     "output_type": "execute_result"
    }
   ],
   "source": [
    "parse('test_robots')"
   ]
  },
  {
   "cell_type": "markdown",
   "metadata": {},
   "source": [
    "## Part 1\n",
    "---"
   ]
  },
  {
   "cell_type": "code",
   "execution_count": 4,
   "metadata": {},
   "outputs": [],
   "source": [
    "def solve(robots, num_secs=100, dims=(101, 103)):\n",
    "    quad_counts = [0, 0, 0, 0]\n",
    "\n",
    "    for robot in robots:\n",
    "        p, v = robot[0], robot[1]\n",
    "        final_x = (p[0] + v[0] * num_secs) % dims[0]\n",
    "        final_y = (p[1] + v[1] * num_secs) % dims[1]\n",
    "\n",
    "        if final_x < dims[0] // 2:\n",
    "            if final_y < dims[1] // 2:\n",
    "                quad_counts[0] += 1\n",
    "            elif final_y > dims[1] // 2:\n",
    "                quad_counts[3] += 1\n",
    "        elif final_x > dims[0] // 2:\n",
    "            if final_y < dims[1] // 2:\n",
    "                quad_counts[1] += 1\n",
    "            elif final_y > dims[1] // 2:\n",
    "                quad_counts[2] += 1\n",
    "\n",
    "    safety_factor = 1\n",
    "    for q in quad_counts:\n",
    "        safety_factor *= q\n",
    "\n",
    "    return safety_factor"
   ]
  },
  {
   "cell_type": "markdown",
   "metadata": {},
   "source": [
    "### Run on Test Data"
   ]
  },
  {
   "cell_type": "code",
   "execution_count": 5,
   "metadata": {},
   "outputs": [
    {
     "data": {
      "text/plain": [
       "True"
      ]
     },
     "execution_count": 5,
     "metadata": {},
     "output_type": "execute_result"
    }
   ],
   "source": [
    "solve(parse('test_robots'), dims=(11, 7)) == 12"
   ]
  },
  {
   "cell_type": "markdown",
   "metadata": {},
   "source": [
    "### Run on Input Data"
   ]
  },
  {
   "cell_type": "code",
   "execution_count": 6,
   "metadata": {},
   "outputs": [
    {
     "data": {
      "text/plain": [
       "229069152"
      ]
     },
     "execution_count": 6,
     "metadata": {},
     "output_type": "execute_result"
    }
   ],
   "source": [
    "solve(parse('robots'))"
   ]
  },
  {
   "cell_type": "markdown",
   "metadata": {},
   "source": [
    "## Part 2\n",
    "---"
   ]
  },
  {
   "cell_type": "code",
   "execution_count": null,
   "metadata": {},
   "outputs": [],
   "source": []
  },
  {
   "cell_type": "markdown",
   "metadata": {},
   "source": [
    "### Run on Test Data"
   ]
  },
  {
   "cell_type": "code",
   "execution_count": null,
   "metadata": {},
   "outputs": [],
   "source": []
  },
  {
   "cell_type": "markdown",
   "metadata": {},
   "source": [
    "### Run on Input Data"
   ]
  },
  {
   "cell_type": "code",
   "execution_count": null,
   "metadata": {},
   "outputs": [],
   "source": []
  }
 ],
 "metadata": {
  "kernelspec": {
   "display_name": "advent-of-code",
   "language": "python",
   "name": "python3"
  },
  "language_info": {
   "codemirror_mode": {
    "name": "ipython",
    "version": 3
   },
   "file_extension": ".py",
   "mimetype": "text/x-python",
   "name": "python",
   "nbconvert_exporter": "python",
   "pygments_lexer": "ipython3",
   "version": "3.11.0"
  }
 },
 "nbformat": 4,
 "nbformat_minor": 4
}
