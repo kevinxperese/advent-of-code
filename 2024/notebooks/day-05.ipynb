{
 "cells": [
  {
   "cell_type": "markdown",
   "metadata": {},
   "source": [
    "# --- Day 5: Print Queue ---\n",
    "\n",
    "https://advenofcode.com/2024/day/5"
   ]
  },
  {
   "cell_type": "markdown",
   "metadata": {},
   "source": [
    "## Parse the Input Data"
   ]
  },
  {
   "cell_type": "code",
   "execution_count": 1,
   "metadata": {},
   "outputs": [],
   "source": [
    "from collections import defaultdict"
   ]
  },
  {
   "cell_type": "code",
   "execution_count": 2,
   "metadata": {},
   "outputs": [],
   "source": [
    "def parse(filename):\n",
    "    \"\"\"Parse input data for puzzle.\n",
    "\n",
    "    Parameters\n",
    "    ----------\n",
    "    filename : str\n",
    "        The name of the *.txt file in the inputs/ directory.\n",
    "\n",
    "    Returns\n",
    "    -------\n",
    "    tuple : rules, updates\n",
    "        rules : defaultdict(list)\n",
    "            keys are page nums, and values are the pages that have to come after the key value\n",
    "        updates : list\n",
    "            page orderings to test against the rules\n",
    "    \"\"\"\n",
    "    rules = defaultdict(list)\n",
    "    updates = []\n",
    "    start_updates = False\n",
    "\n",
    "    with open(f'../inputs/{filename}.txt') as f:\n",
    "        for line in f.readlines():\n",
    "            if line.startswith(\"\\n\"):\n",
    "                start_updates = True\n",
    "                continue\n",
    "            if not start_updates:\n",
    "                order = list(map(int, line.split(\"|\")))\n",
    "                rules[order[0]].append(order[1])\n",
    "            else:\n",
    "                updates.append(list(map(int, line.strip().split(','))))\n",
    "\n",
    "    return rules, updates"
   ]
  },
  {
   "cell_type": "code",
   "execution_count": 3,
   "metadata": {},
   "outputs": [
    {
     "data": {
      "text/plain": [
       "(defaultdict(list,\n",
       "             {47: [53, 13, 61, 29],\n",
       "              97: [13, 61, 47, 29, 53, 75],\n",
       "              75: [29, 53, 47, 61, 13],\n",
       "              61: [13, 53, 29],\n",
       "              29: [13],\n",
       "              53: [29, 13]}),\n",
       " [[75, 47, 61, 53, 29],\n",
       "  [97, 61, 53, 29, 13],\n",
       "  [75, 29, 13],\n",
       "  [75, 97, 47, 61, 53],\n",
       "  [61, 13, 29],\n",
       "  [97, 13, 75, 29, 47]])"
      ]
     },
     "execution_count": 3,
     "metadata": {},
     "output_type": "execute_result"
    }
   ],
   "source": [
    "parse(\"test_rules_updates\")"
   ]
  },
  {
   "cell_type": "markdown",
   "metadata": {},
   "source": [
    "## Part 1\n",
    "---"
   ]
  },
  {
   "cell_type": "code",
   "execution_count": 4,
   "metadata": {},
   "outputs": [],
   "source": [
    "def mid_value(update):\n",
    "    return update[len(update) // 2]"
   ]
  },
  {
   "cell_type": "code",
   "execution_count": 5,
   "metadata": {},
   "outputs": [],
   "source": [
    "def solve(rules, updates):\n",
    "    result = 0\n",
    "    for update in updates:\n",
    "        if all([update[i+1] in rules[update[i]] for i in range(len(update) - 1)]):\n",
    "            result += mid_value(update)\n",
    "\n",
    "    return result"
   ]
  },
  {
   "cell_type": "markdown",
   "metadata": {},
   "source": [
    "### Run on Test Data"
   ]
  },
  {
   "cell_type": "code",
   "execution_count": 6,
   "metadata": {},
   "outputs": [
    {
     "data": {
      "text/plain": [
       "True"
      ]
     },
     "execution_count": 6,
     "metadata": {},
     "output_type": "execute_result"
    }
   ],
   "source": [
    "solve(*parse(\"test_rules_updates\")) == 143"
   ]
  },
  {
   "cell_type": "markdown",
   "metadata": {},
   "source": [
    "### Run on Input Data"
   ]
  },
  {
   "cell_type": "code",
   "execution_count": 7,
   "metadata": {},
   "outputs": [
    {
     "data": {
      "text/plain": [
       "4924"
      ]
     },
     "execution_count": 7,
     "metadata": {},
     "output_type": "execute_result"
    }
   ],
   "source": [
    "solve(*parse(\"rules_updates\"))"
   ]
  },
  {
   "cell_type": "markdown",
   "metadata": {},
   "source": [
    "## Part 2\n",
    "---"
   ]
  },
  {
   "cell_type": "code",
   "execution_count": 8,
   "metadata": {},
   "outputs": [],
   "source": [
    "def reorder(update, rules, counter=1):\n",
    "    for i in range(len(update) - 1):\n",
    "        if not update[i+1] in rules[update[i]]:\n",
    "            update[i], update[i+1] = update[i+1], update[i]\n",
    "            counter += 1\n",
    "            reorder(update, rules, counter=counter)\n",
    "\n",
    "    if counter > 1:\n",
    "        # These are updates that needed to be reordered.\n",
    "        return mid_value(update)\n",
    "    else:\n",
    "        return 0"
   ]
  },
  {
   "cell_type": "code",
   "execution_count": 9,
   "metadata": {},
   "outputs": [],
   "source": [
    "def solve2(rules, updates):\n",
    "    result = 0\n",
    "\n",
    "    for update in updates:\n",
    "        result += reorder(update, rules)\n",
    "\n",
    "    return result"
   ]
  },
  {
   "cell_type": "markdown",
   "metadata": {},
   "source": [
    "### Run on Test Data"
   ]
  },
  {
   "cell_type": "code",
   "execution_count": 10,
   "metadata": {},
   "outputs": [
    {
     "data": {
      "text/plain": [
       "True"
      ]
     },
     "execution_count": 10,
     "metadata": {},
     "output_type": "execute_result"
    }
   ],
   "source": [
    "solve2(*parse(\"test_rules_updates\")) == 123"
   ]
  },
  {
   "cell_type": "markdown",
   "metadata": {},
   "source": [
    "### Run on Input Data"
   ]
  },
  {
   "cell_type": "code",
   "execution_count": 11,
   "metadata": {},
   "outputs": [
    {
     "data": {
      "text/plain": [
       "6085"
      ]
     },
     "execution_count": 11,
     "metadata": {},
     "output_type": "execute_result"
    }
   ],
   "source": [
    "solve2(*parse(\"rules_updates\"))"
   ]
  }
 ],
 "metadata": {
  "kernelspec": {
   "display_name": "advent-of-code",
   "language": "python",
   "name": "python3"
  },
  "language_info": {
   "codemirror_mode": {
    "name": "ipython",
    "version": 3
   },
   "file_extension": ".py",
   "mimetype": "text/x-python",
   "name": "python",
   "nbconvert_exporter": "python",
   "pygments_lexer": "ipython3",
   "version": "3.11.0"
  }
 },
 "nbformat": 4,
 "nbformat_minor": 4
}
