{
 "cells": [
  {
   "cell_type": "markdown",
   "metadata": {},
   "source": [
    "# --- Day 9: Disk Fragmenter ---\n",
    "\n",
    "https://adventofcode.com/2024/day/9"
   ]
  },
  {
   "cell_type": "markdown",
   "metadata": {},
   "source": [
    "## Parse the Input Data"
   ]
  },
  {
   "cell_type": "code",
   "execution_count": 1,
   "metadata": {},
   "outputs": [],
   "source": [
    "def parse(filename):\n",
    "    \"\"\"Parse input data for puzzle.\n",
    "\n",
    "    Parameters\n",
    "    ----------\n",
    "    filename : str\n",
    "        The name of the *.txt file in the inputs/ directory.\n",
    "\n",
    "    Returns\n",
    "    -------\n",
    "    disk_map : str\n",
    "    \"\"\"\n",
    "    with open(f'../inputs/{filename}.txt') as f:\n",
    "        disk_map = [int(c) for c in f.read().strip()]\n",
    "        return disk_map"
   ]
  },
  {
   "cell_type": "markdown",
   "metadata": {},
   "source": [
    "## Part 1\n",
    "---"
   ]
  },
  {
   "cell_type": "code",
   "execution_count": 2,
   "metadata": {},
   "outputs": [],
   "source": [
    "from collections import deque"
   ]
  },
  {
   "cell_type": "code",
   "execution_count": 3,
   "metadata": {},
   "outputs": [],
   "source": [
    "def sum_seq(start, stop):\n",
    "    assert start <= stop\n",
    "    n = stop - start + 1\n",
    "    return n * start + ((n * (n - 1)) / 2)"
   ]
  },
  {
   "cell_type": "code",
   "execution_count": 4,
   "metadata": {},
   "outputs": [],
   "source": [
    "def solve(dm):\n",
    "    \"\"\" dm == 'disk map' \"\"\"\n",
    "    checksum = 0\n",
    "    # Every odd position in dm corresponds to an ID value\n",
    "    ids = list(range(int((len(dm) + 1) / 2)))\n",
    "    i = 0  # Use to keep track of odd/even location in dm\n",
    "    pos = 0  # Use to keep track of location of final file layout\n",
    "    dq = deque()  # Use to hold IDs from the tail to slot into spaces\n",
    "\n",
    "    while dm:\n",
    "        n = int(dm.pop(0))\n",
    "\n",
    "        if not i % 2:\n",
    "            # Odd positions (0, 2, 4, etc.) corresponding to files\n",
    "            checksum += sum_seq(pos, pos + n - 1) * ids.pop(0)\n",
    "            pos += n\n",
    "\n",
    "        elif n > 0:\n",
    "            # Even positions (1, 3, 5, etc.) corresponding to spaces\n",
    "            while len(dq) <= n:\n",
    "                dq.extend([ids.pop()] * dm.pop())\n",
    "                dm.pop()  # Don't need the spaces on the end...\n",
    "\n",
    "            for p in range(pos, pos + n):\n",
    "                checksum += p * dq.popleft()\n",
    "\n",
    "            pos += n\n",
    "\n",
    "        i += 1\n",
    "\n",
    "    for _ in range(len(dq)):\n",
    "        checksum += pos * dq.popleft()\n",
    "        pos += 1\n",
    "\n",
    "    return int(checksum)"
   ]
  },
  {
   "cell_type": "code",
   "execution_count": 5,
   "metadata": {},
   "outputs": [
    {
     "data": {
      "text/plain": [
       "True"
      ]
     },
     "execution_count": 5,
     "metadata": {},
     "output_type": "execute_result"
    }
   ],
   "source": [
    "solve([1, 2, 3, 4, 5]) == 60"
   ]
  },
  {
   "cell_type": "markdown",
   "metadata": {},
   "source": [
    "### Run on Test Data"
   ]
  },
  {
   "cell_type": "code",
   "execution_count": 6,
   "metadata": {},
   "outputs": [
    {
     "data": {
      "text/plain": [
       "True"
      ]
     },
     "execution_count": 6,
     "metadata": {},
     "output_type": "execute_result"
    }
   ],
   "source": [
    "solve(parse('test_disk_map')) == 1928"
   ]
  },
  {
   "cell_type": "markdown",
   "metadata": {},
   "source": [
    "### Run on Input Data"
   ]
  },
  {
   "cell_type": "code",
   "execution_count": 7,
   "metadata": {},
   "outputs": [
    {
     "data": {
      "text/plain": [
       "6258319840548"
      ]
     },
     "execution_count": 7,
     "metadata": {},
     "output_type": "execute_result"
    }
   ],
   "source": [
    "solve(parse('disk_map'))"
   ]
  },
  {
   "cell_type": "markdown",
   "metadata": {},
   "source": [
    "## Part 2\n",
    "---"
   ]
  },
  {
   "cell_type": "code",
   "execution_count": null,
   "metadata": {},
   "outputs": [],
   "source": []
  },
  {
   "cell_type": "markdown",
   "metadata": {},
   "source": [
    "### Run on Test Data"
   ]
  },
  {
   "cell_type": "code",
   "execution_count": null,
   "metadata": {},
   "outputs": [],
   "source": []
  },
  {
   "cell_type": "markdown",
   "metadata": {},
   "source": [
    "### Run on Input Data"
   ]
  },
  {
   "cell_type": "code",
   "execution_count": null,
   "metadata": {},
   "outputs": [],
   "source": []
  }
 ],
 "metadata": {
  "kernelspec": {
   "display_name": "advent-of-code",
   "language": "python",
   "name": "python3"
  },
  "language_info": {
   "codemirror_mode": {
    "name": "ipython",
    "version": 3
   },
   "file_extension": ".py",
   "mimetype": "text/x-python",
   "name": "python",
   "nbconvert_exporter": "python",
   "pygments_lexer": "ipython3",
   "version": "3.11.0"
  }
 },
 "nbformat": 4,
 "nbformat_minor": 4
}
