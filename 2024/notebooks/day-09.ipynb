{
 "cells": [
  {
   "cell_type": "markdown",
   "metadata": {},
   "source": [
    "# --- Day 9: Disk Fragmenter ---\n",
    "\n",
    "https://adventofcode.com/2024/day/9"
   ]
  },
  {
   "cell_type": "markdown",
   "metadata": {},
   "source": [
    "## Parse the Input Data"
   ]
  },
  {
   "cell_type": "code",
   "execution_count": 1,
   "metadata": {},
   "outputs": [],
   "source": [
    "def parse(filename):\n",
    "    \"\"\"Parse input data for puzzle.\n",
    "\n",
    "    Parameters\n",
    "    ----------\n",
    "    filename : str\n",
    "        The name of the *.txt file in the inputs/ directory.\n",
    "\n",
    "    Returns\n",
    "    -------\n",
    "    disk_map : str\n",
    "    \"\"\"\n",
    "    with open(f'../inputs/{filename}.txt') as f:\n",
    "        disk_map = [int(c) for c in f.read().strip()]\n",
    "        return disk_map"
   ]
  },
  {
   "cell_type": "markdown",
   "metadata": {},
   "source": [
    "## Part 1\n",
    "---"
   ]
  },
  {
   "cell_type": "code",
   "execution_count": 2,
   "metadata": {},
   "outputs": [],
   "source": [
    "from collections import deque"
   ]
  },
  {
   "cell_type": "code",
   "execution_count": 3,
   "metadata": {},
   "outputs": [],
   "source": [
    "def sum_seq(start, stop):\n",
    "    assert start <= stop\n",
    "    n = stop - start + 1\n",
    "    return n * start + ((n * (n - 1)) / 2)"
   ]
  },
  {
   "cell_type": "code",
   "execution_count": 4,
   "metadata": {},
   "outputs": [],
   "source": [
    "def solve(dm):\n",
    "    \"\"\" dm == 'disk map' \"\"\"\n",
    "    checksum = 0\n",
    "    # Every odd position in dm corresponds to an ID value\n",
    "    ids = list(range(int((len(dm) + 1) / 2)))\n",
    "    i = 0  # Use to keep track of odd/even location in dm\n",
    "    pos = 0  # Use to keep track of location of final file layout\n",
    "    dq = deque()  # Use to hold IDs from the tail to slot into spaces\n",
    "\n",
    "    while dm:\n",
    "        n = int(dm.pop(0))\n",
    "\n",
    "        if not i % 2:\n",
    "            # Odd positions (0, 2, 4, etc.) corresponding to files\n",
    "            checksum += sum_seq(pos, pos + n - 1) * ids.pop(0)\n",
    "            pos += n\n",
    "\n",
    "        elif n > 0:\n",
    "            # Even positions (1, 3, 5, etc.) corresponding to spaces\n",
    "            while len(dq) <= n:\n",
    "                dq.extend([ids.pop()] * dm.pop())\n",
    "                dm.pop()  # Don't need the spaces on the end...\n",
    "\n",
    "            for p in range(pos, pos + n):\n",
    "                checksum += p * dq.popleft()\n",
    "\n",
    "            pos += n\n",
    "\n",
    "        i += 1\n",
    "\n",
    "    for _ in range(len(dq)):\n",
    "        checksum += pos * dq.popleft()\n",
    "        pos += 1\n",
    "\n",
    "    return int(checksum)"
   ]
  },
  {
   "cell_type": "code",
   "execution_count": 5,
   "metadata": {},
   "outputs": [
    {
     "data": {
      "text/plain": [
       "True"
      ]
     },
     "execution_count": 5,
     "metadata": {},
     "output_type": "execute_result"
    }
   ],
   "source": [
    "solve([1, 2, 3, 4, 5]) == 60"
   ]
  },
  {
   "cell_type": "markdown",
   "metadata": {},
   "source": [
    "### Run on Test Data"
   ]
  },
  {
   "cell_type": "code",
   "execution_count": 6,
   "metadata": {},
   "outputs": [
    {
     "data": {
      "text/plain": [
       "True"
      ]
     },
     "execution_count": 6,
     "metadata": {},
     "output_type": "execute_result"
    }
   ],
   "source": [
    "solve(parse('test_disk_map')) == 1928"
   ]
  },
  {
   "cell_type": "markdown",
   "metadata": {},
   "source": [
    "### Run on Input Data"
   ]
  },
  {
   "cell_type": "code",
   "execution_count": 7,
   "metadata": {},
   "outputs": [
    {
     "data": {
      "text/plain": [
       "6258319840548"
      ]
     },
     "execution_count": 7,
     "metadata": {},
     "output_type": "execute_result"
    }
   ],
   "source": [
    "solve(parse('disk_map'))"
   ]
  },
  {
   "cell_type": "markdown",
   "metadata": {},
   "source": [
    "## Part 2\n",
    "---"
   ]
  },
  {
   "cell_type": "code",
   "execution_count": 8,
   "metadata": {},
   "outputs": [],
   "source": [
    "def expand(dm):\n",
    "    block_map = ''\n",
    "    id_counter = 0\n",
    "    pos_counter = 0\n",
    "    pos_dict = {}\n",
    "    ids_dict = {}\n",
    "\n",
    "    for i, n in enumerate(dm):\n",
    "        if not i % 2:\n",
    "            ids_dict[id_counter] = {}\n",
    "            ids_dict[id_counter]['pos'] = pos_counter\n",
    "            ids_dict[id_counter]['len'] = int(n)\n",
    "\n",
    "            block_map += 'f' * int(n)\n",
    "\n",
    "            for _ in range(int(n)):\n",
    "                pos_dict[pos_counter] = id_counter\n",
    "                pos_counter += 1\n",
    "\n",
    "            id_counter += 1\n",
    "\n",
    "        elif int(n) > 0:\n",
    "            block_map += '.' * int(n)\n",
    "\n",
    "            for _ in range(int(n)):\n",
    "                pos_dict[pos_counter] = 0\n",
    "                pos_counter += 1\n",
    "\n",
    "    return block_map, pos_dict, ids_dict"
   ]
  },
  {
   "cell_type": "code",
   "execution_count": 9,
   "metadata": {},
   "outputs": [],
   "source": [
    "import numpy as np"
   ]
  },
  {
   "cell_type": "code",
   "execution_count": 10,
   "metadata": {},
   "outputs": [],
   "source": [
    "def solve2(dm):\n",
    "    block_map, pos_dict, ids_dict = expand(dm)\n",
    "    checksum = 0\n",
    "\n",
    "    for f in list(ids_dict.keys())[::-1]:\n",
    "        file_len = ids_dict[f]['len']\n",
    "        file_pos = ids_dict[f]['pos']\n",
    "        space_pos = block_map.find('.' * file_len)\n",
    "\n",
    "        if space_pos != -1 and space_pos < file_pos:\n",
    "            # Update block_map\n",
    "            block_map = block_map[:space_pos] + ('x' * file_len) + block_map[space_pos + file_len:]\n",
    "\n",
    "            # Move file\n",
    "            for p in range(space_pos, space_pos + file_len):\n",
    "                pos_dict[p] = f\n",
    "            for p in range(file_pos, file_pos + file_len):\n",
    "                pos_dict[p] = 0\n",
    "\n",
    "            ids_dict[f]['pos'] = space_pos\n",
    "\n",
    "    checksum = np.dot(np.array(list(pos_dict.keys())), np.array(list(pos_dict.values())))\n",
    "\n",
    "    return checksum"
   ]
  },
  {
   "cell_type": "markdown",
   "metadata": {},
   "source": [
    "### Run on Test Data"
   ]
  },
  {
   "cell_type": "code",
   "execution_count": 11,
   "metadata": {},
   "outputs": [
    {
     "data": {
      "text/plain": [
       "True"
      ]
     },
     "execution_count": 11,
     "metadata": {},
     "output_type": "execute_result"
    }
   ],
   "source": [
    "solve2(parse('test_disk_map')) == 2858"
   ]
  },
  {
   "cell_type": "markdown",
   "metadata": {},
   "source": [
    "### Run on Input Data"
   ]
  },
  {
   "cell_type": "code",
   "execution_count": 12,
   "metadata": {},
   "outputs": [
    {
     "data": {
      "text/plain": [
       "6286182965311"
      ]
     },
     "execution_count": 12,
     "metadata": {},
     "output_type": "execute_result"
    }
   ],
   "source": [
    "solve2(parse('disk_map'))"
   ]
  }
 ],
 "metadata": {
  "kernelspec": {
   "display_name": "advent-of-code",
   "language": "python",
   "name": "python3"
  },
  "language_info": {
   "codemirror_mode": {
    "name": "ipython",
    "version": 3
   },
   "file_extension": ".py",
   "mimetype": "text/x-python",
   "name": "python",
   "nbconvert_exporter": "python",
   "pygments_lexer": "ipython3",
   "version": "3.11.0"
  }
 },
 "nbformat": 4,
 "nbformat_minor": 4
}
