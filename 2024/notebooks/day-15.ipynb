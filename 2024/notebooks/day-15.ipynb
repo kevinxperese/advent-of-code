{
 "cells": [
  {
   "cell_type": "markdown",
   "metadata": {},
   "source": [
    "# --- Day X: ---\n",
    "\n",
    "https://adventofcode.com/2024/day/"
   ]
  },
  {
   "cell_type": "markdown",
   "metadata": {},
   "source": [
    "## Parse the Input Data"
   ]
  },
  {
   "cell_type": "code",
   "execution_count": 1,
   "metadata": {},
   "outputs": [],
   "source": [
    "def parse(filename):\n",
    "    \"\"\"Parse input data for puzzle.\n",
    "\n",
    "    Parameters\n",
    "    ----------\n",
    "    filename : str\n",
    "        The name of the *.txt file in the inputs/ directory.\n",
    "\n",
    "    Returns\n",
    "    -------\n",
    "\n",
    "    \"\"\"\n",
    "    warehouse = {}\n",
    "    moves = ''\n",
    "    with open(f'../inputs/{filename}.txt') as f:\n",
    "        top = True\n",
    "        for r, line in enumerate(f):\n",
    "            if r == 1:\n",
    "                width = len(line.strip())\n",
    "            if top:\n",
    "                for c, x in enumerate(line.strip()):\n",
    "                    warehouse[(r, c)] = x\n",
    "                    if x == '@':\n",
    "                        start = (r, c)\n",
    "                if line == '\\n':\n",
    "                    height = r\n",
    "                    top = False\n",
    "            else:\n",
    "                moves += line.strip()\n",
    "\n",
    "        dims = (height, width)\n",
    "\n",
    "    return warehouse, moves, start, dims"
   ]
  },
  {
   "cell_type": "code",
   "execution_count": 2,
   "metadata": {},
   "outputs": [
    {
     "data": {
      "text/plain": [
       "({(0, 0): '#',\n",
       "  (0, 1): '#',\n",
       "  (0, 2): '#',\n",
       "  (0, 3): '#',\n",
       "  (0, 4): '#',\n",
       "  (0, 5): '#',\n",
       "  (0, 6): '#',\n",
       "  (0, 7): '#',\n",
       "  (0, 8): '#',\n",
       "  (0, 9): '#',\n",
       "  (1, 0): '#',\n",
       "  (1, 1): '.',\n",
       "  (1, 2): '.',\n",
       "  (1, 3): 'O',\n",
       "  (1, 4): '.',\n",
       "  (1, 5): '.',\n",
       "  (1, 6): 'O',\n",
       "  (1, 7): '.',\n",
       "  (1, 8): 'O',\n",
       "  (1, 9): '#',\n",
       "  (2, 0): '#',\n",
       "  (2, 1): '.',\n",
       "  (2, 2): '.',\n",
       "  (2, 3): '.',\n",
       "  (2, 4): '.',\n",
       "  (2, 5): '.',\n",
       "  (2, 6): '.',\n",
       "  (2, 7): 'O',\n",
       "  (2, 8): '.',\n",
       "  (2, 9): '#',\n",
       "  (3, 0): '#',\n",
       "  (3, 1): '.',\n",
       "  (3, 2): 'O',\n",
       "  (3, 3): 'O',\n",
       "  (3, 4): '.',\n",
       "  (3, 5): '.',\n",
       "  (3, 6): 'O',\n",
       "  (3, 7): '.',\n",
       "  (3, 8): 'O',\n",
       "  (3, 9): '#',\n",
       "  (4, 0): '#',\n",
       "  (4, 1): '.',\n",
       "  (4, 2): '.',\n",
       "  (4, 3): 'O',\n",
       "  (4, 4): '@',\n",
       "  (4, 5): '.',\n",
       "  (4, 6): '.',\n",
       "  (4, 7): 'O',\n",
       "  (4, 8): '.',\n",
       "  (4, 9): '#',\n",
       "  (5, 0): '#',\n",
       "  (5, 1): 'O',\n",
       "  (5, 2): '#',\n",
       "  (5, 3): '.',\n",
       "  (5, 4): '.',\n",
       "  (5, 5): 'O',\n",
       "  (5, 6): '.',\n",
       "  (5, 7): '.',\n",
       "  (5, 8): '.',\n",
       "  (5, 9): '#',\n",
       "  (6, 0): '#',\n",
       "  (6, 1): 'O',\n",
       "  (6, 2): '.',\n",
       "  (6, 3): '.',\n",
       "  (6, 4): 'O',\n",
       "  (6, 5): '.',\n",
       "  (6, 6): '.',\n",
       "  (6, 7): 'O',\n",
       "  (6, 8): '.',\n",
       "  (6, 9): '#',\n",
       "  (7, 0): '#',\n",
       "  (7, 1): '.',\n",
       "  (7, 2): 'O',\n",
       "  (7, 3): 'O',\n",
       "  (7, 4): '.',\n",
       "  (7, 5): 'O',\n",
       "  (7, 6): '.',\n",
       "  (7, 7): 'O',\n",
       "  (7, 8): 'O',\n",
       "  (7, 9): '#',\n",
       "  (8, 0): '#',\n",
       "  (8, 1): '.',\n",
       "  (8, 2): '.',\n",
       "  (8, 3): '.',\n",
       "  (8, 4): '.',\n",
       "  (8, 5): 'O',\n",
       "  (8, 6): '.',\n",
       "  (8, 7): '.',\n",
       "  (8, 8): '.',\n",
       "  (8, 9): '#',\n",
       "  (9, 0): '#',\n",
       "  (9, 1): '#',\n",
       "  (9, 2): '#',\n",
       "  (9, 3): '#',\n",
       "  (9, 4): '#',\n",
       "  (9, 5): '#',\n",
       "  (9, 6): '#',\n",
       "  (9, 7): '#',\n",
       "  (9, 8): '#',\n",
       "  (9, 9): '#'},\n",
       " '<vv>^<v^>v>^vv^v>v<>v^v<v<^vv<<<^><<><>>v<vvv<>^v^>^<<<><<v<<<v^vv^v>^vvv<<^>^v^^><<>>><>^<<><^vv^^<>vvv<>><^^v>^>vv<>v<<<<v<^v>^<^^>>>^<v<v><>vv>v^v^<>><>>>><^^>vv>v<^^^>>v^v^<^^>v^^>v^<^v>v<>>v^v^<v>v^^<^^vv<<<v<^>>^^^^>>>v^<>vvv^><v<<<>^^^vv^<vvv>^>v<^^^^v<>^>vvvv><>>v^<<^^^^^^><^><>>><>^^<<^^v>>><^<v>^<vv>>v>>>^v><>^v><<<<v>>v<v<v>vvv>^<><<>^><^>><>^v<><^vvv<^^<><v<<<<<><^v<<<><<<^^<v<^^^><^>>^<v^><<<^>>^v<v^v<v^>^>>^v>vv>^<<^v<>><<><<v<<v><>v<^vv<<<>^^v^>^^>>><<^v>>v^v><^^>>^<>vv^<><^^>^^^<><vvvvv^v<v<<>^v<v>v<<^><<><<><<<^^<<<^<<>><<><^^^>^^<>^>v<>^^>vv<^v^v<vv>^<><v<^v>^^^>>>^^vvv^>vvv<>>>^<^>>>>>^<<^v>^vvv<>^<><<v>v^^>>><<^^<>>^v^<v^vv<>v^<<>^<^v^v><^<<<><<^<v><v<>vv>>v><v^<vv<>v^<<^',\n",
       " (4, 4),\n",
       " (10, 10))"
      ]
     },
     "execution_count": 2,
     "metadata": {},
     "output_type": "execute_result"
    }
   ],
   "source": [
    "parse('test_warehouse')"
   ]
  },
  {
   "cell_type": "markdown",
   "metadata": {},
   "source": [
    "## Part 1\n",
    "---"
   ]
  },
  {
   "cell_type": "code",
   "execution_count": 3,
   "metadata": {},
   "outputs": [],
   "source": [
    "dirs = {\n",
    "    'v' : (1, 0),\n",
    "    '^' : (-1, 0),\n",
    "    '<' : (0, -1),\n",
    "    '>' : (0, 1)\n",
    "}"
   ]
  },
  {
   "cell_type": "code",
   "execution_count": 4,
   "metadata": {},
   "outputs": [],
   "source": [
    "def move_boxes(warehouse, moves, start, dims):\n",
    "    p = start\n",
    "\n",
    "    for m in moves:\n",
    "        next_p = tuple(map(sum, zip(dirs[m], p)))\n",
    "\n",
    "        if warehouse[next_p] == '.':\n",
    "            warehouse[next_p], warehouse[p] = '@', '.'\n",
    "            p = next_p\n",
    "\n",
    "        elif warehouse[next_p] == '#':\n",
    "            pass\n",
    "\n",
    "        elif warehouse[next_p] == 'O':\n",
    "            if m == 'v':\n",
    "                rows = [warehouse[r, next_p[1]] for r in range(next_p[0], dims[0])]\n",
    "                wall_ind = rows.index('#')\n",
    "                try:\n",
    "                    space_ind = rows.index('.')\n",
    "                    if space_ind < wall_ind:\n",
    "                        warehouse[next_p], warehouse[p] = '@', '.'\n",
    "                        warehouse[(next_p[0] + space_ind, next_p[1])] = 'O'\n",
    "                        p = next_p\n",
    "                except:\n",
    "                    pass\n",
    "\n",
    "            elif m == '^':\n",
    "                rows = [warehouse[r, next_p[1]] for r in range(next_p[0], -1, -1)]\n",
    "                wall_ind = rows.index('#')\n",
    "                try:\n",
    "                    space_ind = rows.index('.')\n",
    "                    if space_ind < wall_ind:\n",
    "                        warehouse[next_p], warehouse[p] = '@', '.'\n",
    "                        warehouse[(next_p[0] - space_ind, next_p[1])] = 'O'\n",
    "                        p = next_p\n",
    "                except:\n",
    "                    pass\n",
    "\n",
    "            elif m == '<':\n",
    "                cols = [warehouse[next_p[0], c] for c in range(next_p[1], -1, -1)]\n",
    "                wall_ind = cols.index('#')\n",
    "                try:\n",
    "                    space_ind = cols.index('.')\n",
    "                    if space_ind < wall_ind:\n",
    "                        warehouse[next_p], warehouse[p] = '@', '.'\n",
    "                        warehouse[(next_p[0], next_p[1] - space_ind)] = 'O'\n",
    "                        p = next_p\n",
    "                except:\n",
    "                    pass\n",
    "\n",
    "            elif m == '>':\n",
    "                cols = [warehouse[next_p[0], c] for c in range(next_p[1], dims[1])]\n",
    "                wall_ind = cols.index('#')\n",
    "                try:\n",
    "                    space_ind = cols.index('.')\n",
    "                    if space_ind < wall_ind:\n",
    "                        warehouse[next_p], warehouse[p] = '@', '.'\n",
    "                        warehouse[(next_p[0], next_p[1] + space_ind)] = 'O'\n",
    "                        p = next_p\n",
    "                except:\n",
    "                    pass\n",
    "\n",
    "    return warehouse"
   ]
  },
  {
   "cell_type": "code",
   "execution_count": 5,
   "metadata": {},
   "outputs": [],
   "source": [
    "def calc_gps(warehouse):\n",
    "    gps = 0\n",
    "    for k in warehouse:\n",
    "        if warehouse[k] == 'O':\n",
    "            gps += k[0] * 100 + k[1]\n",
    "\n",
    "    return gps"
   ]
  },
  {
   "cell_type": "code",
   "execution_count": 6,
   "metadata": {},
   "outputs": [],
   "source": [
    "def solve(warehouse, moves, start, dims):\n",
    "    warehouse = move_boxes(warehouse, moves, start, dims)\n",
    "    gps = calc_gps(warehouse)\n",
    "\n",
    "    return gps"
   ]
  },
  {
   "cell_type": "markdown",
   "metadata": {},
   "source": [
    "### Run on Test Data"
   ]
  },
  {
   "cell_type": "code",
   "execution_count": 7,
   "metadata": {},
   "outputs": [
    {
     "data": {
      "text/plain": [
       "True"
      ]
     },
     "execution_count": 7,
     "metadata": {},
     "output_type": "execute_result"
    }
   ],
   "source": [
    "solve(*parse('test_warehouse')) == 10092"
   ]
  },
  {
   "cell_type": "markdown",
   "metadata": {},
   "source": [
    "### Run on Input Data"
   ]
  },
  {
   "cell_type": "code",
   "execution_count": 8,
   "metadata": {},
   "outputs": [
    {
     "data": {
      "text/plain": [
       "1568399"
      ]
     },
     "execution_count": 8,
     "metadata": {},
     "output_type": "execute_result"
    }
   ],
   "source": [
    "solve(*parse('warehouse'))"
   ]
  },
  {
   "cell_type": "markdown",
   "metadata": {},
   "source": [
    "## Part 2\n",
    "---"
   ]
  },
  {
   "cell_type": "code",
   "execution_count": null,
   "metadata": {},
   "outputs": [],
   "source": []
  },
  {
   "cell_type": "markdown",
   "metadata": {},
   "source": [
    "### Run on Test Data"
   ]
  },
  {
   "cell_type": "code",
   "execution_count": null,
   "metadata": {},
   "outputs": [],
   "source": []
  },
  {
   "cell_type": "markdown",
   "metadata": {},
   "source": [
    "### Run on Input Data"
   ]
  },
  {
   "cell_type": "code",
   "execution_count": null,
   "metadata": {},
   "outputs": [],
   "source": []
  }
 ],
 "metadata": {
  "kernelspec": {
   "display_name": "advent-of-code",
   "language": "python",
   "name": "python3"
  },
  "language_info": {
   "codemirror_mode": {
    "name": "ipython",
    "version": 3
   },
   "file_extension": ".py",
   "mimetype": "text/x-python",
   "name": "python",
   "nbconvert_exporter": "python",
   "pygments_lexer": "ipython3",
   "version": "3.11.0"
  }
 },
 "nbformat": 4,
 "nbformat_minor": 4
}
