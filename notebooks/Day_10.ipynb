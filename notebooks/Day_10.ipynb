{
 "cells": [
  {
   "cell_type": "markdown",
   "metadata": {},
   "source": [
    "# --- Day 10: Adapter Array ---\n",
    "\n",
    "https://adventofcode.com/2020/day/10"
   ]
  },
  {
   "cell_type": "code",
   "execution_count": 1,
   "metadata": {},
   "outputs": [],
   "source": [
    "path = '../inputs/'"
   ]
  },
  {
   "cell_type": "markdown",
   "metadata": {},
   "source": [
    "## Part 1"
   ]
  },
  {
   "cell_type": "code",
   "execution_count": 2,
   "metadata": {},
   "outputs": [],
   "source": [
    "def get_jolt_diffs(filename):\n",
    "    \"\"\"Given a list of joltage adapter ratings, return the number\n",
    "    of differences that are 1 and 3 jolts different.\n",
    "    \"\"\"\n",
    "    diff_1 = 0\n",
    "    diff_3 = 0\n",
    "    \n",
    "    with open(path + filename) as file:\n",
    "        jolts = [int(j) for j in file]\n",
    "        jolts = sorted(jolts)\n",
    "    \n",
    "    # Add a diff for first adapter and outlet of 0\n",
    "    if jolts[0] == 1:\n",
    "        diff_1 += 1\n",
    "    elif jolts[0] == 3:\n",
    "        diff_3 += 1\n",
    "    \n",
    "    for i in range(1, len(jolts)):\n",
    "        if jolts[i] - jolts[i-1] == 1:\n",
    "            diff_1 += 1\n",
    "        elif jolts[i] - jolts[i-1] == 3:\n",
    "            diff_3 += 1\n",
    "\n",
    "    # Add one to the diff_3 count for the last difference\n",
    "    diff_3 += 1\n",
    "    \n",
    "    \n",
    "    return [diff_1, diff_3]"
   ]
  },
  {
   "cell_type": "code",
   "execution_count": 3,
   "metadata": {},
   "outputs": [
    {
     "data": {
      "text/plain": [
       "[7, 5]"
      ]
     },
     "execution_count": 3,
     "metadata": {},
     "output_type": "execute_result"
    }
   ],
   "source": [
    "diffs_1_3 = get_jolt_diffs('example_joltage_adapters.txt')\n",
    "diffs_1_3 # Should return [7, 5]"
   ]
  },
  {
   "cell_type": "code",
   "execution_count": 4,
   "metadata": {},
   "outputs": [
    {
     "data": {
      "text/plain": [
       "[22, 10]"
      ]
     },
     "execution_count": 4,
     "metadata": {},
     "output_type": "execute_result"
    }
   ],
   "source": [
    "diffs_1_3 = get_jolt_diffs('example_2_joltage_adapters.txt')\n",
    "diffs_1_3 # Should return [22, 10]"
   ]
  },
  {
   "cell_type": "code",
   "execution_count": 5,
   "metadata": {},
   "outputs": [
    {
     "data": {
      "text/plain": [
       "[70, 29]"
      ]
     },
     "execution_count": 5,
     "metadata": {},
     "output_type": "execute_result"
    }
   ],
   "source": [
    "diffs_1_3 = get_jolt_diffs('joltage_adapters.txt')\n",
    "diffs_1_3"
   ]
  },
  {
   "cell_type": "code",
   "execution_count": 6,
   "metadata": {},
   "outputs": [
    {
     "data": {
      "text/plain": [
       "2030"
      ]
     },
     "execution_count": 6,
     "metadata": {},
     "output_type": "execute_result"
    }
   ],
   "source": [
    "answer = diffs_1_3[0] * diffs_1_3[1]\n",
    "answer"
   ]
  },
  {
   "cell_type": "markdown",
   "metadata": {},
   "source": [
    "## Part 2"
   ]
  },
  {
   "cell_type": "code",
   "execution_count": null,
   "metadata": {},
   "outputs": [],
   "source": []
  }
 ],
 "metadata": {
  "kernelspec": {
   "display_name": "Python 3",
   "language": "python",
   "name": "python3"
  },
  "language_info": {
   "codemirror_mode": {
    "name": "ipython",
    "version": 3
   },
   "file_extension": ".py",
   "mimetype": "text/x-python",
   "name": "python",
   "nbconvert_exporter": "python",
   "pygments_lexer": "ipython3",
   "version": "3.7.3"
  }
 },
 "nbformat": 4,
 "nbformat_minor": 4
}
