{
 "cells": [
  {
   "cell_type": "markdown",
   "metadata": {},
   "source": [
    "# --- Day 12: Rain Risk ---\n",
    "\n",
    "https://adventofcode.com/2020/day/12"
   ]
  },
  {
   "cell_type": "code",
   "execution_count": 1,
   "metadata": {},
   "outputs": [],
   "source": [
    "path = '../inputs/'"
   ]
  },
  {
   "cell_type": "markdown",
   "metadata": {},
   "source": [
    "## Part 1"
   ]
  },
  {
   "cell_type": "markdown",
   "metadata": {},
   "source": [
    "The Manhattan distance between two points $(x_1, y_1)$ and $(x_2, y_2)$ is calculated as:   \n",
    "   \n",
    "> $|x_1 - x_2| + |y_1 - y_2|$\n"
   ]
  },
  {
   "cell_type": "code",
   "execution_count": 2,
   "metadata": {},
   "outputs": [],
   "source": [
    "def calc_manhattan_dist(start_pos, end_pos):\n",
    "    return abs(start_pos[0] - end_pos[0]) + abs(start_pos[1] - end_pos[1])"
   ]
  },
  {
   "cell_type": "code",
   "execution_count": 3,
   "metadata": {},
   "outputs": [],
   "source": [
    "dirs = ['N', 'E', 'S', 'W']\n",
    "dirs_dict = {'N':0, 'E':1, 'S':2, 'W':3}"
   ]
  },
  {
   "cell_type": "code",
   "execution_count": 4,
   "metadata": {},
   "outputs": [],
   "source": [
    "def change_dir(curr_dir, instruction):\n",
    "\n",
    "    if instruction[0] == 'R':\n",
    "        change = int((dirs_dict[curr_dir] + (int(instruction[1:]) / 90)) % 4)\n",
    "        new_dir = dirs[change]\n",
    "    \n",
    "    elif instruction[0] == 'L':\n",
    "        change = int((dirs_dict[curr_dir] -  (int(instruction[1:]) / 90)) % 4)\n",
    "        new_dir = dirs[change]\n",
    "\n",
    "    return new_dir"
   ]
  },
  {
   "cell_type": "code",
   "execution_count": 5,
   "metadata": {},
   "outputs": [
    {
     "name": "stdout",
     "output_type": "stream",
     "text": [
      "N\n",
      "S\n",
      "W\n",
      "E\n"
     ]
    }
   ],
   "source": [
    "print(change_dir('S', 'R180')) # Should return 'N'\n",
    "print(change_dir('E', 'R90'))  # Should return 'S'\n",
    "print(change_dir('E', 'L180')) # Should return 'W'\n",
    "print(change_dir('N', 'L270')) # Should return 'E'    "
   ]
  },
  {
   "cell_type": "code",
   "execution_count": 6,
   "metadata": {},
   "outputs": [],
   "source": [
    "def move(pos, dir, distance):\n",
    "\n",
    "    if dir == 'N':\n",
    "        pos[1] += distance\n",
    "\n",
    "    elif dir == 'W':\n",
    "        pos[0] -= distance\n",
    "       \n",
    "    elif dir == 'S':\n",
    "        pos[1] -= distance\n",
    "        \n",
    "    elif dir == 'E':\n",
    "        pos[0] += distance\n",
    "\n",
    "    return pos"
   ]
  },
  {
   "cell_type": "code",
   "execution_count": 7,
   "metadata": {},
   "outputs": [],
   "source": [
    "def follow_instructions(filename):\n",
    "    pos = [0, 0]\n",
    "    dir = 'E'\n",
    "    \n",
    "    with open(path + filename) as file:\n",
    "        for instruction in file:\n",
    "            instruction = instruction.strip()\n",
    "\n",
    "            if instruction[0] in ['L', 'R']:\n",
    "                dir = change_dir(dir, instruction)\n",
    "            \n",
    "            elif instruction[0] == 'F':\n",
    "                pos = move(pos, dir, int(instruction[1:]))\n",
    "            \n",
    "            else:\n",
    "                pos = move(pos, instruction[0], int(instruction[1:]))\n",
    "    \n",
    "    return pos"
   ]
  },
  {
   "cell_type": "code",
   "execution_count": 8,
   "metadata": {},
   "outputs": [
    {
     "data": {
      "text/plain": [
       "25"
      ]
     },
     "execution_count": 8,
     "metadata": {},
     "output_type": "execute_result"
    }
   ],
   "source": [
    "start_pos = (0, 0)\n",
    "end_pos = follow_instructions('example_navigation_instructions.txt')\n",
    "calc_manhattan_dist(start_pos, end_pos) # Should return 25"
   ]
  },
  {
   "cell_type": "code",
   "execution_count": 9,
   "metadata": {},
   "outputs": [
    {
     "data": {
      "text/plain": [
       "2270"
      ]
     },
     "execution_count": 9,
     "metadata": {},
     "output_type": "execute_result"
    }
   ],
   "source": [
    "end_pos = follow_instructions('navigation_instructions.txt')\n",
    "calc_manhattan_dist(start_pos, end_pos)"
   ]
  },
  {
   "cell_type": "markdown",
   "metadata": {},
   "source": [
    "## Part 2"
   ]
  },
  {
   "cell_type": "code",
   "execution_count": 10,
   "metadata": {},
   "outputs": [],
   "source": [
    "def follow_instructions_2(filename):\n",
    "    ship_pos = [0, 0]\n",
    "    waypoint = [10, 1]\n",
    "    dir = 'E'\n",
    "    \n",
    "    with open(path + filename) as file:\n",
    "        for instruction in file:\n",
    "            instruction = instruction.strip()\n",
    "\n",
    "            if instruction[0] in ['L', 'R']:\n",
    "                waypoint = rotate_waypoint(ship_pos, waypoint, instruction)\n",
    "            \n",
    "            elif instruction[0] == 'F':\n",
    "                rel_pos = [waypoint[0] - ship_pos[0], waypoint[1] - ship_pos[1]]\n",
    "                \n",
    "                ship_pos = [ship_pos[0] + (rel_pos[0] * int(instruction[1:])),\n",
    "                            ship_pos[1] + (rel_pos[1] * int(instruction[1:]))]\n",
    "                waypoint = [ship_pos[0] + rel_pos[0],\n",
    "                            ship_pos[1] + rel_pos[1]]\n",
    "                \n",
    "            elif instruction[0] in ['N', 'E', 'S', 'W']:\n",
    "                waypoint = move(waypoint, instruction[0], int(instruction[1:]))\n",
    "    \n",
    "    return ship_pos"
   ]
  },
  {
   "cell_type": "code",
   "execution_count": 11,
   "metadata": {},
   "outputs": [],
   "source": [
    "def rotate_waypoint(ship_pos, waypoint, instructions):\n",
    "\n",
    "    rel_pos = [waypoint[0] - ship_pos[0], waypoint[1] - ship_pos[1]]\n",
    "    \n",
    "    if instructions in ['R180', 'L180']:\n",
    "        rel_pos = [-1 * rel_pos[0], -1 * rel_pos[1]]\n",
    "    if instructions in ['R90', 'L270']:\n",
    "        rel_pos = [rel_pos[1], -1 * rel_pos[0]]\n",
    "    if instructions in ['L90', 'R270']:\n",
    "        rel_pos = [-1 * rel_pos[1], rel_pos[0]]\n",
    "\n",
    "    waypoint = [ship_pos[0] + rel_pos[0], ship_pos[1] + rel_pos[1]]\n",
    "    \n",
    "    return waypoint"
   ]
  },
  {
   "cell_type": "code",
   "execution_count": 12,
   "metadata": {},
   "outputs": [
    {
     "name": "stdout",
     "output_type": "stream",
     "text": [
      "[4, -10]\n",
      "[-4, 10]\n",
      "[-4, 10]\n",
      "[-10, -4]\n"
     ]
    }
   ],
   "source": [
    "print(rotate_waypoint([0, 0], [10, 4], 'R90')) # Should return [4, -10]\n",
    "print(rotate_waypoint([0, 0], [10, 4], 'R270')) # Should return [-4, 10]\n",
    "print(rotate_waypoint([0, 0], [10, 4], 'L90'))  # Should return [-4, 10]\n",
    "print(rotate_waypoint([0, 0], [10, 4], 'L180')) # Should return [-10, -4]"
   ]
  },
  {
   "cell_type": "code",
   "execution_count": 13,
   "metadata": {},
   "outputs": [
    {
     "data": {
      "text/plain": [
       "286"
      ]
     },
     "execution_count": 13,
     "metadata": {},
     "output_type": "execute_result"
    }
   ],
   "source": [
    "start_pos = (0, 0)\n",
    "end_pos = follow_instructions_2('example_navigation_instructions.txt')\n",
    "calc_manhattan_dist(start_pos, end_pos) # Should return 286"
   ]
  },
  {
   "cell_type": "code",
   "execution_count": 14,
   "metadata": {},
   "outputs": [
    {
     "data": {
      "text/plain": [
       "138669"
      ]
     },
     "execution_count": 14,
     "metadata": {},
     "output_type": "execute_result"
    }
   ],
   "source": [
    "start_pos = (0, 0)\n",
    "end_pos = follow_instructions_2('navigation_instructions.txt')\n",
    "calc_manhattan_dist(start_pos, end_pos)"
   ]
  }
 ],
 "metadata": {
  "kernelspec": {
   "display_name": "Python 3",
   "language": "python",
   "name": "python3"
  },
  "language_info": {
   "codemirror_mode": {
    "name": "ipython",
    "version": 3
   },
   "file_extension": ".py",
   "mimetype": "text/x-python",
   "name": "python",
   "nbconvert_exporter": "python",
   "pygments_lexer": "ipython3",
   "version": "3.7.3"
  }
 },
 "nbformat": 4,
 "nbformat_minor": 4
}
