{
 "cells": [
  {
   "cell_type": "markdown",
   "metadata": {},
   "source": [
    "# --- Day : 11 Seating System ---\n",
    "\n",
    "https://adventofcode.com/2020/day/11"
   ]
  },
  {
   "cell_type": "code",
   "execution_count": 1,
   "metadata": {},
   "outputs": [],
   "source": [
    "path = '../inputs/'"
   ]
  },
  {
   "cell_type": "markdown",
   "metadata": {},
   "source": [
    "## Part 1"
   ]
  },
  {
   "cell_type": "markdown",
   "metadata": {},
   "source": [
    "### Map Legend\n",
    "floor = .   \n",
    "empty seat = L   \n",
    "occupied seat = #   "
   ]
  },
  {
   "cell_type": "code",
   "execution_count": 2,
   "metadata": {},
   "outputs": [],
   "source": [
    "import copy\n",
    "import numpy as np"
   ]
  },
  {
   "cell_type": "code",
   "execution_count": 3,
   "metadata": {},
   "outputs": [],
   "source": [
    "def get_initial_state(filename):\n",
    "    \n",
    "    with open(path + filename) as file:\n",
    "        # Set the floor as '9'\n",
    "        state = [row.strip().replace('L', '0').replace('.', '9') for row in file]\n",
    "        # Convert to numpy array, to be able to test for equality between states\n",
    "        state = np.array([[int(char) for char in row] for row in state])\n",
    "        # Convert 9s to nans\n",
    "        state = state.astype('float')\n",
    "        state[state==9] = np.nan\n",
    "    \n",
    "    return state"
   ]
  },
  {
   "cell_type": "code",
   "execution_count": 4,
   "metadata": {},
   "outputs": [
    {
     "data": {
      "text/plain": [
       "array([[ 0., nan,  0.,  0., nan,  0.,  0., nan,  0.,  0.],\n",
       "       [ 0.,  0.,  0.,  0.,  0.,  0.,  0., nan,  0.,  0.],\n",
       "       [ 0., nan,  0., nan,  0., nan, nan,  0., nan, nan],\n",
       "       [ 0.,  0.,  0.,  0., nan,  0.,  0., nan,  0.,  0.],\n",
       "       [ 0., nan,  0.,  0., nan,  0.,  0., nan,  0.,  0.],\n",
       "       [ 0., nan,  0.,  0.,  0.,  0.,  0., nan,  0.,  0.],\n",
       "       [nan, nan,  0., nan,  0., nan, nan, nan, nan, nan],\n",
       "       [ 0.,  0.,  0.,  0.,  0.,  0.,  0.,  0.,  0.,  0.],\n",
       "       [ 0., nan,  0.,  0.,  0.,  0.,  0.,  0., nan,  0.],\n",
       "       [ 0., nan,  0.,  0.,  0.,  0.,  0., nan,  0.,  0.]])"
      ]
     },
     "execution_count": 4,
     "metadata": {},
     "output_type": "execute_result"
    }
   ],
   "source": [
    "initial_state = get_initial_state('example_seat_layout.txt')\n",
    "initial_state"
   ]
  },
  {
   "cell_type": "code",
   "execution_count": 5,
   "metadata": {},
   "outputs": [],
   "source": [
    "def get_adjacents(array, i, j):\n",
    "    \n",
    "    num_rows = len(array)\n",
    "    num_cols = len(array[0])\n",
    "    adjacents = []\n",
    "    \n",
    "    for row in range(max(0, i-1), min(i+1+1, num_rows)):\n",
    "        for col in range(max(0, j-1), min(j+1+1, num_cols)):\n",
    "            if not (row == i and col == j):\n",
    "                adjacents.append(array[row][col])\n",
    "    \n",
    "    return adjacents"
   ]
  },
  {
   "cell_type": "code",
   "execution_count": 6,
   "metadata": {},
   "outputs": [],
   "source": [
    "def change_state(state, new_state):\n",
    "    \n",
    "    for i in range(len(state)):\n",
    "        for j in range(len(state[0])):\n",
    "\n",
    "            if not np.isnan(state[i][j]):\n",
    "                if np.nansum(get_adjacents(state, i, j)) == 0:\n",
    "                    new_state[i][j] = 1\n",
    "                elif np.nansum(get_adjacents(state, i, j)) >= 4:\n",
    "                    new_state[i][j] = 0\n",
    "                else:\n",
    "                    new_state[i][j] == state[i][j]\n",
    "    \n",
    "    return new_state"
   ]
  },
  {
   "cell_type": "code",
   "execution_count": 7,
   "metadata": {},
   "outputs": [],
   "source": [
    "def sim(state, num_calls=1):\n",
    "\n",
    "    new_state = copy.deepcopy(state)     \n",
    "    new_state = change_state(state, new_state)\n",
    "    \n",
    "    if np.array_equal(new_state, state, equal_nan=True):\n",
    "        return np.nansum(new_state), num_calls\n",
    "    \n",
    "    else:\n",
    "#         print('round ', calls)\n",
    "#         print(np.nansum(new_state))\n",
    "#         print('state\\n', state, '\\nnew_state\\n', new_state,'\\n\\n')\n",
    "    \n",
    "        return sim(new_state, num_calls+1)\n"
   ]
  },
  {
   "cell_type": "code",
   "execution_count": 8,
   "metadata": {},
   "outputs": [
    {
     "data": {
      "text/plain": [
       "(37.0, 6)"
      ]
     },
     "execution_count": 8,
     "metadata": {},
     "output_type": "execute_result"
    }
   ],
   "source": [
    "sim(initial_state) # Should return 37"
   ]
  },
  {
   "cell_type": "code",
   "execution_count": 9,
   "metadata": {},
   "outputs": [
    {
     "data": {
      "text/plain": [
       "(2108.0, 71)"
      ]
     },
     "execution_count": 9,
     "metadata": {},
     "output_type": "execute_result"
    }
   ],
   "source": [
    "sim(get_initial_state('seat_layout.txt'))"
   ]
  },
  {
   "cell_type": "markdown",
   "metadata": {},
   "source": [
    "## Part 2"
   ]
  },
  {
   "cell_type": "code",
   "execution_count": null,
   "metadata": {},
   "outputs": [],
   "source": []
  }
 ],
 "metadata": {
  "kernelspec": {
   "display_name": "Python 3",
   "language": "python",
   "name": "python3"
  },
  "language_info": {
   "codemirror_mode": {
    "name": "ipython",
    "version": 3
   },
   "file_extension": ".py",
   "mimetype": "text/x-python",
   "name": "python",
   "nbconvert_exporter": "python",
   "pygments_lexer": "ipython3",
   "version": "3.7.3"
  }
 },
 "nbformat": 4,
 "nbformat_minor": 4
}
