{
 "cells": [
  {
   "cell_type": "markdown",
   "metadata": {},
   "source": [
    "# Day 3\n",
    "\n",
    "https://adventofcode.com/2020/day/3"
   ]
  },
  {
   "cell_type": "markdown",
   "metadata": {},
   "source": [
    "## Part 1"
   ]
  },
  {
   "cell_type": "code",
   "execution_count": 1,
   "metadata": {},
   "outputs": [],
   "source": [
    "path = '../inputs/'"
   ]
  },
  {
   "cell_type": "code",
   "execution_count": 2,
   "metadata": {},
   "outputs": [],
   "source": [
    "x_delta = 3"
   ]
  },
  {
   "cell_type": "code",
   "execution_count": 3,
   "metadata": {},
   "outputs": [],
   "source": [
    "def get_num_trees(mapfile):\n",
    "    num_trees = 0\n",
    "    x_pos = 0\n",
    "\n",
    "    with open(path + mapfile) as file:\n",
    "        for line in file:\n",
    "            \n",
    "            line = line.strip()\n",
    "    \n",
    "            if line[x_pos] == '#':\n",
    "                num_trees += 1\n",
    "            \n",
    "            x_pos += x_delta\n",
    "            \n",
    "            if x_pos >= len(line):\n",
    "                x_pos = x_pos - len(line) \n",
    "                    \n",
    "    return num_trees"
   ]
  },
  {
   "cell_type": "code",
   "execution_count": 4,
   "metadata": {},
   "outputs": [
    {
     "data": {
      "text/plain": [
       "209"
      ]
     },
     "execution_count": 4,
     "metadata": {},
     "output_type": "execute_result"
    }
   ],
   "source": [
    "get_num_trees('tree_map.txt')"
   ]
  },
  {
   "cell_type": "markdown",
   "metadata": {},
   "source": [
    "## Part 2"
   ]
  },
  {
   "cell_type": "code",
   "execution_count": 5,
   "metadata": {},
   "outputs": [],
   "source": [
    "x_deltas = [1, 3, 5, 7, 1]\n",
    "y_deltas = [1, 1, 1, 1, 2]\n",
    "deltas = list(zip(x_deltas, y_deltas))"
   ]
  },
  {
   "cell_type": "code",
   "execution_count": 6,
   "metadata": {},
   "outputs": [],
   "source": [
    "def get_num_trees_2(mapfile, deltas):\n",
    "    num_trees = 0\n",
    "    x_pos = 0\n",
    "    row = 0\n",
    "    x_delta = deltas[0]\n",
    "    y_delta = deltas[1]\n",
    "    \n",
    "    with open(path + mapfile) as file:\n",
    "        for line in file:\n",
    "            \n",
    "            if row % y_delta == 0:\n",
    "                line = line.strip()\n",
    "\n",
    "                if line[x_pos] == '#':\n",
    "                    num_trees += 1\n",
    "\n",
    "                x_pos += x_delta\n",
    "\n",
    "                if x_pos >= len(line):\n",
    "                    x_pos = x_pos - len(line) \n",
    "            \n",
    "            row += 1\n",
    "            \n",
    "    return num_trees"
   ]
  },
  {
   "cell_type": "code",
   "execution_count": 7,
   "metadata": {},
   "outputs": [
    {
     "name": "stdout",
     "output_type": "stream",
     "text": [
      "1574890240\n"
     ]
    }
   ],
   "source": [
    "prod_trees = 1\n",
    "\n",
    "for d in deltas:\n",
    "    n_trees = get_num_trees_2('tree_map.txt', d)\n",
    "    prod_trees = prod_trees * n_trees\n",
    "\n",
    "print(prod_trees)"
   ]
  }
 ],
 "metadata": {
  "kernelspec": {
   "display_name": "Python 3",
   "language": "python",
   "name": "python3"
  },
  "language_info": {
   "codemirror_mode": {
    "name": "ipython",
    "version": 3
   },
   "file_extension": ".py",
   "mimetype": "text/x-python",
   "name": "python",
   "nbconvert_exporter": "python",
   "pygments_lexer": "ipython3",
   "version": "3.7.3"
  }
 },
 "nbformat": 4,
 "nbformat_minor": 4
}
