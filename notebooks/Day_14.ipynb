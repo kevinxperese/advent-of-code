{
 "cells": [
  {
   "cell_type": "markdown",
   "metadata": {},
   "source": [
    "# --- Day 14: Docking Data ---\n",
    "\n",
    "https://adventofcode.com/2020/day/14"
   ]
  },
  {
   "cell_type": "code",
   "execution_count": 1,
   "metadata": {},
   "outputs": [],
   "source": [
    "path = '../inputs/'"
   ]
  },
  {
   "cell_type": "markdown",
   "metadata": {},
   "source": [
    "## Part 1"
   ]
  },
  {
   "cell_type": "markdown",
   "metadata": {},
   "source": [
    "Algorithm for `int_to_bin()` from: https://www.rapidtables.com/convert/number/decimal-to-binary.html   \n",
    "\n",
    "How to convert decimal to binary:\n",
    "1. Divide the number by 2.\n",
    "2. Get the integer quotient for the next iteration.\n",
    "3. Get the remainder for the binary digit.\n",
    "4. Repeat the steps until the quotient is equal to 0."
   ]
  },
  {
   "cell_type": "code",
   "execution_count": 2,
   "metadata": {},
   "outputs": [],
   "source": [
    "def int_to_bin(integer):\n",
    "    \"\"\"Convert integer to binary string.\"\"\"\n",
    "    floor = integer // 2\n",
    "    \n",
    "    if floor == 0:\n",
    "        return str(integer % 2)\n",
    "    else:\n",
    "        return int_to_bin(floor) + str(integer % 2)"
   ]
  },
  {
   "cell_type": "code",
   "execution_count": 3,
   "metadata": {},
   "outputs": [],
   "source": [
    "print(int_to_bin(0)) # Should return '0'\n",
    "print(int_to_bin(5)) # Should return '101'\n",
    "print(int_to_bin(11)) # Should return '1011'\n",
    "print(int_to_bin(34359738368)) # Should return '100000000000000000000000000000000000'\n",
    "print(int_to_bin(68719476735)) # Should return '111111111111111111111111111111111111'"
   ]
  },
  {
   "cell_type": "code",
   "execution_count": 4,
   "metadata": {},
   "outputs": [],
   "source": [
    "def int_to_36_bit_binary(integer):\n",
    "    \"\"\"Convert integer to 36-bit binary string.\"\"\"\n",
    "    binary = int_to_bin(integer)\n",
    "    \n",
    "    if len(binary) == 36:\n",
    "        return binary\n",
    "    else:\n",
    "        leading_0s = '0' * (36 - len(binary))\n",
    "        return leading_0s + binary"
   ]
  },
  {
   "cell_type": "code",
   "execution_count": 5,
   "metadata": {},
   "outputs": [],
   "source": [
    "int_to_36_bit_binary(11)"
   ]
  },
  {
   "cell_type": "code",
   "execution_count": 6,
   "metadata": {},
   "outputs": [],
   "source": [
    "def bin_to_int(binary_str):\n",
    "    \"\"\"Convert binary string to an integer.\"\"\"\n",
    "    integer = 0\n",
    "    for bit in range(len(binary_str)):\n",
    "        integer += 2 ** (len(binary_str) - 1 - bit) * int(binary_str[bit])\n",
    "        \n",
    "    return integer    "
   ]
  },
  {
   "cell_type": "code",
   "execution_count": 7,
   "metadata": {},
   "outputs": [
    {
     "name": "stdout",
     "output_type": "stream",
     "text": [
      "0\n",
      "1\n",
      "5\n",
      "34359738368\n",
      "68719476735\n"
     ]
    }
   ],
   "source": [
    "print(bin_to_int('000000000000000000000000000000000000')) # Should return 0\n",
    "print(bin_to_int('000000000000000000000000000000000001')) # Should return 1\n",
    "print(bin_to_int('000000000000000000000000000000000101')) # Should return 5\n",
    "print(bin_to_int('100000000000000000000000000000000000')) # Should return 34359738368\n",
    "print(bin_to_int('111111111111111111111111111111111111')) # Should return 68719476735"
   ]
  },
  {
   "cell_type": "code",
   "execution_count": 8,
   "metadata": {},
   "outputs": [],
   "source": [
    "def run_program(filename):\n",
    "    memory = {}\n",
    "    \n",
    "    with open (path + filename) as file:\n",
    "        for line in file:\n",
    "            \n",
    "            if line.startswith('mask = '):\n",
    "                mask = line[7:].strip()\n",
    "            \n",
    "            elif line.startswith('mem['):\n",
    "                mem_key = int(line[line.index('[') + 1 : line.index(']')])\n",
    "                mem_val = int(line[line.index('= ') + 1 : line.index('\\n')])\n",
    "                \n",
    "                mem_val_bin = int_to_36_bit_binary(mem_val)\n",
    "                \n",
    "                # Apply mask\n",
    "                masked_mem_val = ''\n",
    "                for v, m in zip(mem_val_bin, mask):\n",
    "                    if m == 'X':\n",
    "                        masked_mem_val += v\n",
    "                    else:\n",
    "                        masked_mem_val += m\n",
    "                \n",
    "                # Add value to memory\n",
    "                memory[mem_key] = bin_to_int(masked_mem_val)\n",
    "    \n",
    "    return sum(memory.values())"
   ]
  },
  {
   "cell_type": "code",
   "execution_count": 9,
   "metadata": {},
   "outputs": [
    {
     "data": {
      "text/plain": [
       "165"
      ]
     },
     "execution_count": 9,
     "metadata": {},
     "output_type": "execute_result"
    }
   ],
   "source": [
    "run_program('example_initialization_program.txt') # Should return 165"
   ]
  },
  {
   "cell_type": "code",
   "execution_count": 10,
   "metadata": {},
   "outputs": [
    {
     "data": {
      "text/plain": [
       "12408060320841"
      ]
     },
     "execution_count": 10,
     "metadata": {},
     "output_type": "execute_result"
    }
   ],
   "source": [
    "run_program('initialization_program.txt')"
   ]
  },
  {
   "cell_type": "markdown",
   "metadata": {},
   "source": [
    "## Part 2"
   ]
  },
  {
   "cell_type": "code",
   "execution_count": 11,
   "metadata": {},
   "outputs": [],
   "source": [
    "from pprint import pprint"
   ]
  },
  {
   "cell_type": "code",
   "execution_count": 12,
   "metadata": {},
   "outputs": [],
   "source": [
    "def run_program_2(filename):\n",
    "    memory = {}\n",
    "    \n",
    "    with open (path + filename) as file:\n",
    "        for line in file:\n",
    "            \n",
    "            if line.startswith('mask = '):\n",
    "                mask = line[7:].strip()\n",
    "            \n",
    "            elif line.startswith('mem['):\n",
    "                mem_key = int(line[line.index('[') + 1 : line.index(']')])\n",
    "                mem_val = int(line[line.index('= ') + 1 : line.index('\\n')])\n",
    "                \n",
    "                mem_key_bin = int_to_36_bit_binary(mem_key)\n",
    "                \n",
    "#                 print(mem_key_bin)\n",
    "#                 print(mask)\n",
    "                \n",
    "                # Apply mask\n",
    "                mem_keys = []\n",
    "                masked_mem_key = ''\n",
    "\n",
    "                for k, m in zip(mem_key_bin, mask):\n",
    "                    \n",
    "                    if m == 'X':\n",
    "                        if len(mem_keys) == 0:\n",
    "                            mem_keys.append('1')\n",
    "                            mem_keys.append('0')\n",
    "                        else:\n",
    "                            new = []\n",
    "                            for mk in mem_keys:\n",
    "                                new.append(mk + '1')\n",
    "                                new.append(mk + '0')\n",
    "                            mem_keys += new\n",
    "\n",
    "                    elif m == '1':\n",
    "                        if len(mem_keys) == 0:\n",
    "                            mem_keys.append(m)\n",
    "                        else:\n",
    "                            for i, _ in enumerate(mem_keys):\n",
    "                                mem_keys[i] += m\n",
    "\n",
    "                    elif m == '0':\n",
    "                        if len(mem_keys) == 0:\n",
    "                            mem_keys.append(k)\n",
    "                        else:\n",
    "                            for i, _ in enumerate(mem_keys):\n",
    "                                mem_keys[i] += k\n",
    "\n",
    "                mem_keys = [i for i in mem_keys if len(i) == 36]\n",
    "#                 pprint(mem_keys)\n",
    "\n",
    "                # Add value to memory\n",
    "                for mk in mem_keys:\n",
    "                    memory[bin_to_int(mk)] = mem_val\n",
    "\n",
    "    return sum(memory.values())"
   ]
  },
  {
   "cell_type": "code",
   "execution_count": 13,
   "metadata": {},
   "outputs": [
    {
     "data": {
      "text/plain": [
       "208"
      ]
     },
     "execution_count": 13,
     "metadata": {},
     "output_type": "execute_result"
    }
   ],
   "source": [
    "run_program_2('example2_initialization_program.txt') # Should return 208"
   ]
  },
  {
   "cell_type": "code",
   "execution_count": 14,
   "metadata": {},
   "outputs": [
    {
     "name": "stdout",
     "output_type": "stream",
     "text": [
      "Wall time: 4.4 s\n"
     ]
    },
    {
     "data": {
      "text/plain": [
       "4466434626828"
      ]
     },
     "execution_count": 14,
     "metadata": {},
     "output_type": "execute_result"
    }
   ],
   "source": [
    "%time run_program_2('initialization_program.txt')"
   ]
  }
 ],
 "metadata": {
  "kernelspec": {
   "display_name": "Python 3",
   "language": "python",
   "name": "python3"
  },
  "language_info": {
   "codemirror_mode": {
    "name": "ipython",
    "version": 3
   },
   "file_extension": ".py",
   "mimetype": "text/x-python",
   "name": "python",
   "nbconvert_exporter": "python",
   "pygments_lexer": "ipython3",
   "version": "3.7.3"
  }
 },
 "nbformat": 4,
 "nbformat_minor": 4
}
