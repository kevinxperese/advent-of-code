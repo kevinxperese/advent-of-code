{
 "cells": [
  {
   "cell_type": "markdown",
   "metadata": {},
   "source": [
    "# --- Day 4: Passport Processing ---\n",
    "\n",
    "https://adventofcode.com/2020/day/4"
   ]
  },
  {
   "cell_type": "code",
   "execution_count": 1,
   "metadata": {},
   "outputs": [],
   "source": [
    "path = '../inputs/'"
   ]
  },
  {
   "cell_type": "markdown",
   "metadata": {},
   "source": [
    "## Part 1"
   ]
  },
  {
   "cell_type": "code",
   "execution_count": 3,
   "metadata": {},
   "outputs": [],
   "source": [
    "required_keys = ['byr', 'iyr', 'eyr', 'hgt', 'hcl', 'ecl', 'pid',]\n",
    "# cid (Country ID) is optional"
   ]
  },
  {
   "cell_type": "code",
   "execution_count": null,
   "metadata": {},
   "outputs": [],
   "source": [
    "def valid_passport(passport):\n",
    "    keys = [item.split(':')[0] for item in passport.split()]\n",
    "\n",
    "    if 'cid' in keys:\n",
    "        keys.remove('cid')\n",
    "\n",
    "    if len(keys) == len(required_keys):\n",
    "        return True\n",
    "    else:\n",
    "        return False"
   ]
  },
  {
   "cell_type": "code",
   "execution_count": 174,
   "metadata": {},
   "outputs": [],
   "source": [
    "def get_num_valid_passports(filename):\n",
    "    num_valid = 0\n",
    "    passport = ''\n",
    "    \n",
    "    with open (path + filename) as file:\n",
    "        for line in file:\n",
    "            \n",
    "            # Concatinate each line to make a passport 'record'\n",
    "            passport += line.strip('\\n') + ' '\n",
    "            \n",
    "            if (line == '\\n'):\n",
    "\n",
    "                if valid_passport(passport):\n",
    "                    num_valid +\n",
    "                # Reset passort\n",
    "                passport = ''\n",
    "\n",
    "        # Determine whether last passport is valid\n",
    "        keys = [item.split(':')[0] for item in passport.split()]\n",
    "\n",
    "        if 'cid' in keys:\n",
    "            keys.remove('cid')\n",
    "\n",
    "        if len(keys) == len(required_keys):\n",
    "            num_valid += 1\n",
    "                \n",
    "    return num_valid"
   ]
  },
  {
   "cell_type": "code",
   "execution_count": 176,
   "metadata": {},
   "outputs": [
    {
     "data": {
      "text/plain": [
       "226"
      ]
     },
     "execution_count": 176,
     "metadata": {},
     "output_type": "execute_result"
    }
   ],
   "source": [
    "get_num_valid_passports('batch_file.txt')"
   ]
  },
  {
   "cell_type": "markdown",
   "metadata": {},
   "source": [
    "## Part 2"
   ]
  },
  {
   "cell_type": "code",
   "execution_count": null,
   "metadata": {},
   "outputs": [],
   "source": []
  }
 ],
 "metadata": {
  "kernelspec": {
   "display_name": "Python 3",
   "language": "python",
   "name": "python3"
  },
  "language_info": {
   "codemirror_mode": {
    "name": "ipython",
    "version": 3
   },
   "file_extension": ".py",
   "mimetype": "text/x-python",
   "name": "python",
   "nbconvert_exporter": "python",
   "pygments_lexer": "ipython3",
   "version": "3.7.3"
  }
 },
 "nbformat": 4,
 "nbformat_minor": 4
}
