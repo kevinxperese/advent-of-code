{
 "cells": [
  {
   "cell_type": "markdown",
   "metadata": {},
   "source": [
    "# --- Day 4: Passport Processing ---\n",
    "\n",
    "https://adventofcode.com/2020/day/4"
   ]
  },
  {
   "cell_type": "code",
   "execution_count": 1,
   "metadata": {},
   "outputs": [],
   "source": [
    "path = '../inputs/'"
   ]
  },
  {
   "cell_type": "markdown",
   "metadata": {},
   "source": [
    "## Part 1"
   ]
  },
  {
   "cell_type": "code",
   "execution_count": 2,
   "metadata": {},
   "outputs": [],
   "source": [
    "required_keys = ['byr', 'iyr', 'eyr', 'hgt', 'hcl', 'ecl', 'pid',]\n",
    "# cid (Country ID) is optional"
   ]
  },
  {
   "cell_type": "code",
   "execution_count": 3,
   "metadata": {},
   "outputs": [],
   "source": [
    "def valid_passport(passport):\n",
    "    \n",
    "    # Create list of keys from passport string\n",
    "    keys = [item.split(':')[0] for item in passport.split()]\n",
    "\n",
    "    # Remove optional key, if present on the passport\n",
    "    if 'cid' in keys:\n",
    "        keys.remove('cid')\n",
    "\n",
    "    # Passport is valid if all the required keys are present\n",
    "    if len(keys) == len(required_keys):\n",
    "        return True\n",
    "    else:\n",
    "        return False"
   ]
  },
  {
   "cell_type": "code",
   "execution_count": 4,
   "metadata": {},
   "outputs": [],
   "source": [
    "def get_num_valid_passports(filename, validator):\n",
    "    num_valid = 0\n",
    "    passport = ''\n",
    "    \n",
    "    with open (path + filename) as file:\n",
    "        for line in file:\n",
    "            \n",
    "            # Concatinate each line to make a passport 'record'\n",
    "            passport += line.strip('\\n') + ' '\n",
    "            \n",
    "            # Passport end at blank lines, so check to see if it's valid \n",
    "            if (line == '\\n'):\n",
    "                if validator(passport):\n",
    "                    num_valid += 1\n",
    "                    \n",
    "                # Reset passort\n",
    "                passport = ''\n",
    "\n",
    "        # Determine whether last passport is valid\n",
    "        if validator(passport):\n",
    "            num_valid += 1\n",
    "                \n",
    "    return num_valid"
   ]
  },
  {
   "cell_type": "code",
   "execution_count": 5,
   "metadata": {},
   "outputs": [
    {
     "data": {
      "text/plain": [
       "226"
      ]
     },
     "execution_count": 5,
     "metadata": {},
     "output_type": "execute_result"
    }
   ],
   "source": [
    "get_num_valid_passports('batch_file.txt', valid_passport)"
   ]
  },
  {
   "cell_type": "markdown",
   "metadata": {},
   "source": [
    "## Part 2"
   ]
  },
  {
   "cell_type": "markdown",
   "metadata": {},
   "source": [
    "### Validator functions for each passport field"
   ]
  },
  {
   "cell_type": "code",
   "execution_count": 6,
   "metadata": {},
   "outputs": [],
   "source": [
    "import re"
   ]
  },
  {
   "cell_type": "code",
   "execution_count": 7,
   "metadata": {},
   "outputs": [],
   "source": [
    "def valid_byr(byr):\n",
    "    \"\"\"Validate birth year.\"\"\"\n",
    "    if len(byr) == 4:\n",
    "        if 1920 <= int(byr) <= 2002:\n",
    "            return True\n",
    "        else:\n",
    "            return False\n",
    "    else:\n",
    "        return False"
   ]
  },
  {
   "cell_type": "code",
   "execution_count": 8,
   "metadata": {},
   "outputs": [],
   "source": [
    "def valid_iyr(iyr):\n",
    "    \"\"\"Validate issue year.\"\"\"\n",
    "    if len(iyr) == 4:\n",
    "        if 2010 <= int(iyr) <= 2020:\n",
    "            return True\n",
    "        else:\n",
    "            return False\n",
    "    else:\n",
    "        return False"
   ]
  },
  {
   "cell_type": "code",
   "execution_count": 9,
   "metadata": {},
   "outputs": [],
   "source": [
    "def valid_eyr(eyr):\n",
    "    \"\"\"Validate expiration year.\"\"\"\n",
    "    if len(eyr) == 4:\n",
    "        if 2020 <= int(eyr) <= 2030:\n",
    "            return True\n",
    "        else:\n",
    "            return False\n",
    "    else:\n",
    "        return False"
   ]
  },
  {
   "cell_type": "code",
   "execution_count": 10,
   "metadata": {},
   "outputs": [],
   "source": [
    "def valid_hgt(hgt):\n",
    "    \"\"\"Validate height.\"\"\"\n",
    "    if hgt.endswith('cm'):\n",
    "        if 150 <= int(hgt[:-2]) <= 193:\n",
    "            return True\n",
    "        else:\n",
    "            return False\n",
    "\n",
    "    elif hgt.endswith('in'):\n",
    "        if 59 <= int(hgt[:-2]) <= 76:\n",
    "            return True\n",
    "        else:\n",
    "            return False\n",
    "    \n",
    "    else:\n",
    "        return False"
   ]
  },
  {
   "cell_type": "code",
   "execution_count": 11,
   "metadata": {},
   "outputs": [],
   "source": [
    "def valid_hcl(hcl):\n",
    "    \"\"\"Validate hair color.\"\"\"\n",
    "    if re.search('^#[0-9a-z]{6}$', hcl):\n",
    "        return True\n",
    "    else:\n",
    "        return False"
   ]
  },
  {
   "cell_type": "code",
   "execution_count": 12,
   "metadata": {},
   "outputs": [],
   "source": [
    "def valid_ecl(ecl):\n",
    "    \"\"\"Validate eye color.\"\"\"\n",
    "    if ecl in ['amb', 'blu', 'brn', 'gry', 'grn', 'hzl', 'oth']:\n",
    "        return True\n",
    "    else:\n",
    "        return False"
   ]
  },
  {
   "cell_type": "code",
   "execution_count": 13,
   "metadata": {},
   "outputs": [],
   "source": [
    "def valid_pid(pid):\n",
    "    \"\"\"Validate passport ID.\"\"\"\n",
    "    if re.search('^\\d{9}$', pid):\n",
    "        return True\n",
    "    else:\n",
    "        return False"
   ]
  },
  {
   "cell_type": "code",
   "execution_count": 14,
   "metadata": {},
   "outputs": [],
   "source": [
    "def valid_cid(cid):\n",
    "    \"\"\"Validate country ID.\"\"\"\n",
    "    return True # country ID is optional"
   ]
  },
  {
   "cell_type": "code",
   "execution_count": 15,
   "metadata": {},
   "outputs": [],
   "source": [
    "validators = {'byr' : valid_byr, \n",
    "              'iyr' : valid_iyr,\n",
    "              'eyr' : valid_eyr,\n",
    "              'hgt' : valid_hgt,\n",
    "              'hcl' : valid_hcl,\n",
    "              'ecl' : valid_ecl,\n",
    "              'pid' : valid_pid,\n",
    "              'cid' : valid_cid}"
   ]
  },
  {
   "cell_type": "code",
   "execution_count": 16,
   "metadata": {},
   "outputs": [],
   "source": [
    "def valid_passport_2(passport):\n",
    "\n",
    "    # Create list of keys and values from passport string\n",
    "    keys = [item.split(':')[0] for item in passport.split()]\n",
    "    values = [item.split(':')[1] for item in passport.split()]\n",
    "    kvs = list(zip(keys, values))\n",
    "\n",
    "    # Passport is valid if all the required keys are present...\n",
    "    keys_present = [key for key in keys if not key == 'cid']\n",
    "    if set(keys_present) == set(required_keys):\n",
    "        \n",
    "        # ... and each field passes the validation tests\n",
    "        TF_list = [validators[kv[0]](kv[1]) for kv in kvs if not kv[0] == 'cid']\n",
    "\n",
    "        if all(TF_list):\n",
    "            return True\n",
    "        else:\n",
    "            return False\n",
    "\n",
    "    else:\n",
    "        return False"
   ]
  },
  {
   "cell_type": "code",
   "execution_count": 17,
   "metadata": {
    "scrolled": true
   },
   "outputs": [
    {
     "data": {
      "text/plain": [
       "0"
      ]
     },
     "execution_count": 17,
     "metadata": {},
     "output_type": "execute_result"
    }
   ],
   "source": [
    "get_num_valid_passports('invalid_passports.txt', valid_passport_2) # should equal 0"
   ]
  },
  {
   "cell_type": "code",
   "execution_count": 18,
   "metadata": {},
   "outputs": [
    {
     "data": {
      "text/plain": [
       "4"
      ]
     },
     "execution_count": 18,
     "metadata": {},
     "output_type": "execute_result"
    }
   ],
   "source": [
    "get_num_valid_passports('valid_passports.txt', valid_passport_2) # should equal 4"
   ]
  },
  {
   "cell_type": "code",
   "execution_count": 19,
   "metadata": {},
   "outputs": [
    {
     "data": {
      "text/plain": [
       "160"
      ]
     },
     "execution_count": 19,
     "metadata": {},
     "output_type": "execute_result"
    }
   ],
   "source": [
    "get_num_valid_passports('batch_file.txt', valid_passport_2)"
   ]
  }
 ],
 "metadata": {
  "kernelspec": {
   "display_name": "Python 3",
   "language": "python",
   "name": "python3"
  },
  "language_info": {
   "codemirror_mode": {
    "name": "ipython",
    "version": 3
   },
   "file_extension": ".py",
   "mimetype": "text/x-python",
   "name": "python",
   "nbconvert_exporter": "python",
   "pygments_lexer": "ipython3",
   "version": "3.7.3"
  }
 },
 "nbformat": 4,
 "nbformat_minor": 4
}
