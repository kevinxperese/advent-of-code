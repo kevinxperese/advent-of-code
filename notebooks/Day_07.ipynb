{
 "cells": [
  {
   "cell_type": "markdown",
   "metadata": {},
   "source": [
    "# --- Day 7: Handy Haversacks ---\n",
    "\n",
    "https://adventofcode.com/2020/day/7"
   ]
  },
  {
   "cell_type": "code",
   "execution_count": 1,
   "metadata": {},
   "outputs": [],
   "source": [
    "path = '../inputs/'"
   ]
  },
  {
   "cell_type": "markdown",
   "metadata": {},
   "source": [
    "## Part 1"
   ]
  },
  {
   "cell_type": "markdown",
   "metadata": {},
   "source": [
    "Followed this pattern to generate the tree data structure:\n",
    "https://gist.github.com/hrldcpr/2012250"
   ]
  },
  {
   "cell_type": "code",
   "execution_count": 2,
   "metadata": {},
   "outputs": [],
   "source": [
    "from collections import defaultdict"
   ]
  },
  {
   "cell_type": "code",
   "execution_count": 3,
   "metadata": {},
   "outputs": [],
   "source": [
    "def tree(): \n",
    "    return defaultdict(tree)"
   ]
  },
  {
   "cell_type": "code",
   "execution_count": 4,
   "metadata": {},
   "outputs": [],
   "source": [
    "def fill_bags_tree(filename):\n",
    "    \n",
    "    bags = tree()\n",
    "    \n",
    "    with open(path + filename) as file:\n",
    "        for line in file:\n",
    "            bag, children = line.split('bags contain')\n",
    "            bag = bag.strip()\n",
    "\n",
    "            children = children.strip().split(', ')\n",
    "\n",
    "            for child in children:\n",
    "                child = child.strip().lstrip('0123456789 ')\n",
    "                child = child[:child.index(' bag')]\n",
    "\n",
    "                bags[child][bag] # Construct tree from child up to parent\n",
    "                \n",
    "    return bags"
   ]
  },
  {
   "cell_type": "code",
   "execution_count": 5,
   "metadata": {},
   "outputs": [],
   "source": [
    "example_tree = fill_bags_tree('example_bag_rules.txt')"
   ]
  },
  {
   "cell_type": "code",
   "execution_count": 6,
   "metadata": {},
   "outputs": [],
   "source": [
    "# Convert defaultdicts to normal dicts to allow for pretty printing (pprint)\n",
    "def dicts(t): \n",
    "    return {k : dicts(t[k]) for k in t}"
   ]
  },
  {
   "cell_type": "code",
   "execution_count": 7,
   "metadata": {},
   "outputs": [
    {
     "name": "stdout",
     "output_type": "stream",
     "text": [
      "{'bright white': {'dark orange': {}, 'light red': {}},\n",
      " 'dark olive': {'shiny gold': {}},\n",
      " 'dotted black': {'dark olive': {}, 'vibrant plum': {}},\n",
      " 'faded blue': {'dark olive': {}, 'muted yellow': {}, 'vibrant plum': {}},\n",
      " 'muted yellow': {'dark orange': {}, 'light red': {}},\n",
      " 'no other': {'dotted black': {}, 'faded blue': {}},\n",
      " 'shiny gold': {'bright white': {}, 'muted yellow': {}},\n",
      " 'vibrant plum': {'shiny gold': {}}}\n"
     ]
    }
   ],
   "source": [
    "# Check out the tree structure\n",
    "from pprint import pprint\n",
    "pprint(dicts(example_tree))"
   ]
  },
  {
   "cell_type": "code",
   "execution_count": 8,
   "metadata": {},
   "outputs": [],
   "source": [
    "def count_parents(tree, child, parents):\n",
    "    \n",
    "    # base case\n",
    "    if not child in list(tree):\n",
    "        parents.add(child)\n",
    "        return parents\n",
    "\n",
    "    # recursive case\n",
    "    else:\n",
    "        for key in list(tree[child]): \n",
    "            parents.add(key)\n",
    "            count_parents(tree, key, parents)\n",
    "    \n",
    "    return parents"
   ]
  },
  {
   "cell_type": "code",
   "execution_count": 9,
   "metadata": {},
   "outputs": [
    {
     "data": {
      "text/plain": [
       "4"
      ]
     },
     "execution_count": 9,
     "metadata": {},
     "output_type": "execute_result"
    }
   ],
   "source": [
    "parents = set()\n",
    "parents_set = count_parents(example_tree, 'shiny gold', parents) # Should return 4\n",
    "len(parents_set)"
   ]
  },
  {
   "cell_type": "code",
   "execution_count": 10,
   "metadata": {},
   "outputs": [
    {
     "data": {
      "text/plain": [
       "335"
      ]
     },
     "execution_count": 10,
     "metadata": {},
     "output_type": "execute_result"
    }
   ],
   "source": [
    "input_tree = fill_bags_tree('bag_rules.txt')\n",
    "parents = set()\n",
    "parents_set = count_parents(input_tree, 'shiny gold', parents)\n",
    "len(parents_set)"
   ]
  },
  {
   "cell_type": "markdown",
   "metadata": {},
   "source": [
    "## Part 2"
   ]
  },
  {
   "cell_type": "code",
   "execution_count": 11,
   "metadata": {},
   "outputs": [],
   "source": [
    "def fill_bags_tree_2(filename):\n",
    "    \n",
    "    bags = tree()\n",
    "    \n",
    "    with open(path + filename) as file:\n",
    "        for line in file:\n",
    "            bag, children = line.split('bags contain')\n",
    "            bag = bag.strip()\n",
    "\n",
    "            children = children.strip().split(', ')\n",
    "\n",
    "            for child in children:\n",
    "                n = child[:child.index(' ')]\n",
    "                if n.isdigit():\n",
    "                    n = int(n)\n",
    "                child = child[child.index(' ')+1 : child.index(' bag')]\n",
    "\n",
    "                bags[bag][child] = n\n",
    "                \n",
    "    return bags"
   ]
  },
  {
   "cell_type": "code",
   "execution_count": 12,
   "metadata": {},
   "outputs": [],
   "source": [
    "example_tree_2 = fill_bags_tree_2('example_bag_rules.txt')"
   ]
  },
  {
   "cell_type": "code",
   "execution_count": 13,
   "metadata": {},
   "outputs": [
    {
     "data": {
      "text/plain": [
       "defaultdict(<function __main__.tree()>,\n",
       "            {'light red': defaultdict(<function __main__.tree()>,\n",
       "                         {'bright white': 1, 'muted yellow': 2}),\n",
       "             'dark orange': defaultdict(<function __main__.tree()>,\n",
       "                         {'bright white': 3, 'muted yellow': 4}),\n",
       "             'bright white': defaultdict(<function __main__.tree()>,\n",
       "                         {'shiny gold': 1}),\n",
       "             'muted yellow': defaultdict(<function __main__.tree()>,\n",
       "                         {'shiny gold': 2, 'faded blue': 9}),\n",
       "             'shiny gold': defaultdict(<function __main__.tree()>,\n",
       "                         {'dark olive': 1, 'vibrant plum': 2}),\n",
       "             'dark olive': defaultdict(<function __main__.tree()>,\n",
       "                         {'faded blue': 3, 'dotted black': 4}),\n",
       "             'vibrant plum': defaultdict(<function __main__.tree()>,\n",
       "                         {'faded blue': 5, 'dotted black': 6}),\n",
       "             'faded blue': defaultdict(<function __main__.tree()>,\n",
       "                         {'other': 'no'}),\n",
       "             'dotted black': defaultdict(<function __main__.tree()>,\n",
       "                         {'other': 'no'})})"
      ]
     },
     "execution_count": 13,
     "metadata": {},
     "output_type": "execute_result"
    }
   ],
   "source": [
    "example_tree_2"
   ]
  },
  {
   "cell_type": "markdown",
   "metadata": {},
   "source": [
    "Got a little help from: https://github.com/aspittel/advent-of-code/blob/master/2020/dec-07/script.py\n",
    "to get me over the hump on with the recursive function..."
   ]
  },
  {
   "cell_type": "code",
   "execution_count": 14,
   "metadata": {},
   "outputs": [],
   "source": [
    "def count_bags(tree, child):\n",
    "\n",
    "    # base case\n",
    "    if list(tree[child])[0] == 'other':\n",
    "        return 0\n",
    "\n",
    "    # recursive case\n",
    "    else:\n",
    "        # Number of bags inside current bag\n",
    "        n_current_bags = sum(tree[child].values())\n",
    "        \n",
    "        # Get number of bags inside those\n",
    "        n_other_bags = 0\n",
    "        for bag in tree[child]:\n",
    "            n_other_bags += tree[child][bag] * count_bags(tree, bag)\n",
    "            \n",
    "        return n_current_bags + n_other_bags"
   ]
  },
  {
   "cell_type": "code",
   "execution_count": 15,
   "metadata": {},
   "outputs": [
    {
     "data": {
      "text/plain": [
       "32"
      ]
     },
     "execution_count": 15,
     "metadata": {},
     "output_type": "execute_result"
    }
   ],
   "source": [
    "count_bags(example_tree_2, 'shiny gold') # Should return 32"
   ]
  },
  {
   "cell_type": "code",
   "execution_count": 16,
   "metadata": {},
   "outputs": [],
   "source": [
    "example_tree_3 = fill_bags_tree_2('example_bag_rules_part_2.txt')"
   ]
  },
  {
   "cell_type": "code",
   "execution_count": 17,
   "metadata": {},
   "outputs": [
    {
     "data": {
      "text/plain": [
       "defaultdict(<function __main__.tree()>,\n",
       "            {'shiny gold': defaultdict(<function __main__.tree()>,\n",
       "                         {'dark red': 2}),\n",
       "             'dark red': defaultdict(<function __main__.tree()>,\n",
       "                         {'dark orange': 2}),\n",
       "             'dark orange': defaultdict(<function __main__.tree()>,\n",
       "                         {'dark yellow': 2}),\n",
       "             'dark yellow': defaultdict(<function __main__.tree()>,\n",
       "                         {'dark green': 2}),\n",
       "             'dark green': defaultdict(<function __main__.tree()>,\n",
       "                         {'dark blue': 2}),\n",
       "             'dark blue': defaultdict(<function __main__.tree()>,\n",
       "                         {'dark violet': 2}),\n",
       "             'dark violet': defaultdict(<function __main__.tree()>,\n",
       "                         {'other': 'no'})})"
      ]
     },
     "execution_count": 17,
     "metadata": {},
     "output_type": "execute_result"
    }
   ],
   "source": [
    "example_tree_3"
   ]
  },
  {
   "cell_type": "code",
   "execution_count": 18,
   "metadata": {},
   "outputs": [
    {
     "data": {
      "text/plain": [
       "126"
      ]
     },
     "execution_count": 18,
     "metadata": {},
     "output_type": "execute_result"
    }
   ],
   "source": [
    "count_bags(example_tree_3, 'shiny gold') # Should return 126"
   ]
  },
  {
   "cell_type": "code",
   "execution_count": 19,
   "metadata": {},
   "outputs": [],
   "source": [
    "bag_rules = fill_bags_tree_2('bag_rules.txt')"
   ]
  },
  {
   "cell_type": "code",
   "execution_count": 20,
   "metadata": {},
   "outputs": [
    {
     "data": {
      "text/plain": [
       "2431"
      ]
     },
     "execution_count": 20,
     "metadata": {},
     "output_type": "execute_result"
    }
   ],
   "source": [
    "count_bags(bag_rules, 'shiny gold')"
   ]
  }
 ],
 "metadata": {
  "kernelspec": {
   "display_name": "Python 3",
   "language": "python",
   "name": "python3"
  },
  "language_info": {
   "codemirror_mode": {
    "name": "ipython",
    "version": 3
   },
   "file_extension": ".py",
   "mimetype": "text/x-python",
   "name": "python",
   "nbconvert_exporter": "python",
   "pygments_lexer": "ipython3",
   "version": "3.7.3"
  }
 },
 "nbformat": 4,
 "nbformat_minor": 4
}
