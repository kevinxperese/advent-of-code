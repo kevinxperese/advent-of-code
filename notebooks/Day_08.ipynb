{
 "cells": [
  {
   "cell_type": "markdown",
   "metadata": {},
   "source": [
    "# --- Day 8 : Handheld Halting ---\n",
    "\n",
    "https://adventofcode.com/2020/day/8"
   ]
  },
  {
   "cell_type": "code",
   "execution_count": 1,
   "metadata": {},
   "outputs": [],
   "source": [
    "path = '../inputs/'"
   ]
  },
  {
   "cell_type": "markdown",
   "metadata": {},
   "source": [
    "## Part 1"
   ]
  },
  {
   "cell_type": "code",
   "execution_count": 2,
   "metadata": {},
   "outputs": [],
   "source": [
    "def get_boot_code(filename):\n",
    "    boot_code = []\n",
    "    with open (path + filename) as file:\n",
    "        for line in file:\n",
    "            boot_code.append(line.strip().split(' '))\n",
    "    return boot_code"
   ]
  },
  {
   "cell_type": "code",
   "execution_count": 3,
   "metadata": {},
   "outputs": [],
   "source": [
    "boot_code = get_boot_code('example_boot_code.txt')\n",
    "#boot_code"
   ]
  },
  {
   "cell_type": "code",
   "execution_count": 4,
   "metadata": {},
   "outputs": [],
   "source": [
    "def program(boot_code):\n",
    "    \n",
    "    accumulator = 0\n",
    "    seen = []\n",
    "    i = 0\n",
    "    \n",
    "    while i not in seen:\n",
    "        #print(i, seen, accumulator)\n",
    "        if i in seen:\n",
    "            break\n",
    "        else:\n",
    "            seen.append(i)\n",
    "        \n",
    "        if boot_code[i][0] == 'acc':\n",
    "            accumulator += int(boot_code[i][1])\n",
    "            i += 1\n",
    "        elif boot_code[i][0] == 'jmp':\n",
    "            i += int(boot_code[i][1])\n",
    "        elif boot_code[i][0] == 'nop':\n",
    "            i += 1\n",
    "    \n",
    "    return accumulator"
   ]
  },
  {
   "cell_type": "code",
   "execution_count": 5,
   "metadata": {},
   "outputs": [
    {
     "data": {
      "text/plain": [
       "5"
      ]
     },
     "execution_count": 5,
     "metadata": {},
     "output_type": "execute_result"
    }
   ],
   "source": [
    "program(boot_code) # Should return 5"
   ]
  },
  {
   "cell_type": "code",
   "execution_count": 6,
   "metadata": {},
   "outputs": [
    {
     "data": {
      "text/plain": [
       "1501"
      ]
     },
     "execution_count": 6,
     "metadata": {},
     "output_type": "execute_result"
    }
   ],
   "source": [
    "boot_code = get_boot_code('boot_code.txt')\n",
    "program(boot_code)"
   ]
  },
  {
   "cell_type": "markdown",
   "metadata": {},
   "source": [
    "## Part 2"
   ]
  },
  {
   "cell_type": "code",
   "execution_count": 7,
   "metadata": {},
   "outputs": [],
   "source": [
    "def calculator(instruct, arg, i, accumulator):\n",
    "    \n",
    "    if instruct == 'acc':\n",
    "        accumulator += int(arg)\n",
    "        i += 1\n",
    "    elif instruct == 'jmp':\n",
    "        i += int(arg)\n",
    "    elif instruct == 'nop':\n",
    "        i += 1\n",
    "\n",
    "    return i, accumulator"
   ]
  },
  {
   "cell_type": "code",
   "execution_count": 8,
   "metadata": {},
   "outputs": [],
   "source": [
    "checked = []\n",
    "\n",
    "def program_2(boot_code):\n",
    "    \n",
    "    accumulator = 0\n",
    "    seen = []\n",
    "    i = 0\n",
    "    switched = False\n",
    "    loop = True\n",
    "    \n",
    "    while loop == True:\n",
    "        \n",
    "        # base case\n",
    "        if i == len(boot_code):\n",
    "            # print('end', accumulator, checked, '\\n\\n')\n",
    "            return accumulator\n",
    "\n",
    "        else:\n",
    "\n",
    "            if i in seen:\n",
    "                print('try again')\n",
    "                accumulator = 0\n",
    "                seen = []\n",
    "                i = 0\n",
    "                switched = False\n",
    "                loop = True\n",
    "\n",
    "            else:\n",
    "                seen.append(i)        \n",
    "\n",
    "                instruct = boot_code[i][0]\n",
    "                arg = boot_code[i][1]\n",
    "\n",
    "                if instruct in ['nop', 'jmp'] and switched == False:\n",
    "                    if i not in checked:\n",
    "                        checked.append(i)\n",
    "\n",
    "                        if instruct == 'nop':\n",
    "                            instruct = 'jmp'\n",
    "                        elif instruct == 'jmp':\n",
    "                            instruct = 'nop'\n",
    "                        switched = True\n",
    "\n",
    "                i, accumulator = calculator(instruct, arg, i, accumulator)            "
   ]
  },
  {
   "cell_type": "code",
   "execution_count": 9,
   "metadata": {},
   "outputs": [
    {
     "name": "stdout",
     "output_type": "stream",
     "text": [
      "try again\n",
      "try again\n"
     ]
    },
    {
     "data": {
      "text/plain": [
       "8"
      ]
     },
     "execution_count": 9,
     "metadata": {},
     "output_type": "execute_result"
    }
   ],
   "source": [
    "boot_code = get_boot_code('example_boot_code.txt')\n",
    "program_2(boot_code) # Should return 8"
   ]
  },
  {
   "cell_type": "code",
   "execution_count": 10,
   "metadata": {},
   "outputs": [
    {
     "name": "stdout",
     "output_type": "stream",
     "text": [
      "try again\n",
      "try again\n",
      "try again\n",
      "try again\n",
      "try again\n",
      "try again\n",
      "try again\n",
      "try again\n",
      "try again\n"
     ]
    },
    {
     "data": {
      "text/plain": [
       "509"
      ]
     },
     "execution_count": 10,
     "metadata": {},
     "output_type": "execute_result"
    }
   ],
   "source": [
    "boot_code = get_boot_code('boot_code.txt')\n",
    "program_2(boot_code)"
   ]
  },
  {
   "cell_type": "code",
   "execution_count": null,
   "metadata": {},
   "outputs": [],
   "source": []
  }
 ],
 "metadata": {
  "kernelspec": {
   "display_name": "Python 3",
   "language": "python",
   "name": "python3"
  },
  "language_info": {
   "codemirror_mode": {
    "name": "ipython",
    "version": 3
   },
   "file_extension": ".py",
   "mimetype": "text/x-python",
   "name": "python",
   "nbconvert_exporter": "python",
   "pygments_lexer": "ipython3",
   "version": "3.7.3"
  }
 },
 "nbformat": 4,
 "nbformat_minor": 4
}
