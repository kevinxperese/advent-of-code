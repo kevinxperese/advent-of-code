{
 "cells": [
  {
   "cell_type": "markdown",
   "metadata": {},
   "source": [
    "# --- Day 8 : Handheld Halting ---\n",
    "\n",
    "https://adventofcode.com/2020/day/8"
   ]
  },
  {
   "cell_type": "code",
   "execution_count": 3,
   "metadata": {},
   "outputs": [],
   "source": [
    "path = '../inputs/'"
   ]
  },
  {
   "cell_type": "markdown",
   "metadata": {},
   "source": [
    "## Part 1"
   ]
  },
  {
   "cell_type": "code",
   "execution_count": 12,
   "metadata": {},
   "outputs": [],
   "source": [
    "def get_boot_code(filename):\n",
    "    boot_code = []\n",
    "    with open (path + filename) as file:\n",
    "        for line in file:\n",
    "            boot_code.append(line.strip().split(' '))\n",
    "    return boot_code"
   ]
  },
  {
   "cell_type": "code",
   "execution_count": 13,
   "metadata": {},
   "outputs": [
    {
     "data": {
      "text/plain": [
       "[['nop', '+0'],\n",
       " ['acc', '+1'],\n",
       " ['jmp', '+4'],\n",
       " ['acc', '+3'],\n",
       " ['jmp', '-3'],\n",
       " ['acc', '-99'],\n",
       " ['acc', '+1'],\n",
       " ['jmp', '-4'],\n",
       " ['acc', '+6']]"
      ]
     },
     "execution_count": 13,
     "metadata": {},
     "output_type": "execute_result"
    }
   ],
   "source": [
    "boot_code = get_boot_code('example_boot_code.txt')\n",
    "#boot_code"
   ]
  },
  {
   "cell_type": "code",
   "execution_count": 23,
   "metadata": {},
   "outputs": [],
   "source": [
    "def program(boot_code):\n",
    "    \n",
    "    accumulator = 0\n",
    "    seen = []\n",
    "    i = 0\n",
    "    \n",
    "    while i not in seen:\n",
    "        #print(i, seen, accumulator)\n",
    "        if i in seen:\n",
    "            break\n",
    "        else:\n",
    "            seen.append(i)\n",
    "        \n",
    "        if boot_code[i][0] == 'acc':\n",
    "            accumulator += int(boot_code[i][1])\n",
    "            i += 1\n",
    "        elif boot_code[i][0] == 'jmp':\n",
    "            i += int(boot_code[i][1])\n",
    "        elif boot_code[i][0] == 'nop':\n",
    "            i += 1\n",
    "    \n",
    "    return accumulator"
   ]
  },
  {
   "cell_type": "code",
   "execution_count": 25,
   "metadata": {},
   "outputs": [
    {
     "data": {
      "text/plain": [
       "5"
      ]
     },
     "execution_count": 25,
     "metadata": {},
     "output_type": "execute_result"
    }
   ],
   "source": [
    "program(boot_code) # Should return 5"
   ]
  },
  {
   "cell_type": "code",
   "execution_count": 28,
   "metadata": {},
   "outputs": [
    {
     "data": {
      "text/plain": [
       "1501"
      ]
     },
     "execution_count": 28,
     "metadata": {},
     "output_type": "execute_result"
    }
   ],
   "source": [
    "boot_code = get_boot_code('boot_code.txt')\n",
    "program(boot_code)"
   ]
  },
  {
   "cell_type": "markdown",
   "metadata": {},
   "source": [
    "## Part 2"
   ]
  },
  {
   "cell_type": "code",
   "execution_count": 46,
   "metadata": {},
   "outputs": [],
   "source": [
    "def calculator(instruct, arg, i, accumulator):\n",
    "    \n",
    "    if instruct == 'acc':\n",
    "        accumulator += int(arg)\n",
    "        i += 1\n",
    "    elif instruct == 'jmp':\n",
    "        i += int(arg)\n",
    "    elif instruct == 'nop':\n",
    "        i += 1\n",
    "\n",
    "    return i, accumulator"
   ]
  },
  {
   "cell_type": "code",
   "execution_count": 111,
   "metadata": {},
   "outputs": [],
   "source": [
    "checked = []\n",
    "\n",
    "def program_2(boot_code):\n",
    "    \n",
    "    accumulator = 0\n",
    "    seen = []\n",
    "    i = 0\n",
    "    \n",
    "    while True:\n",
    "\n",
    "        if i in seen:\n",
    "            program_2(boot_code)\n",
    "        else:\n",
    "            seen.append(i)        \n",
    "        \n",
    "        instruct = boot_code[i][0]\n",
    "        arg = boot_code[i][1]\n",
    "        print(i, seen, accumulator, instruct)\n",
    "        \n",
    "        # base case\n",
    "        if i == len(boot_code):\n",
    "            print('ha')\n",
    "            i, accumulator = calculator(instruct, arg, i, accumulator)\n",
    "            return accumulator\n",
    "        print('foo')\n",
    "        if instruct in ['nop', 'jmp']:\n",
    "            if i not in checked:\n",
    "                checked.append(i)\n",
    "            \n",
    "                if instruct == 'nop':\n",
    "                    instruct = 'jmp'\n",
    "                elif instruct == 'jmp':\n",
    "                    instruct = 'nop'\n",
    "        print('bar')\n",
    "        i, accumulator = calculator(instruct, arg, i, accumulator)\n",
    "        print('baz')"
   ]
  },
  {
   "cell_type": "code",
   "execution_count": 112,
   "metadata": {},
   "outputs": [
    {
     "name": "stdout",
     "output_type": "stream",
     "text": [
      "0 [0] 0 nop\n",
      "foo\n",
      "bar\n",
      "baz\n",
      "0 [0] 0 nop\n",
      "foo\n",
      "bar\n",
      "baz\n",
      "1 [0, 1] 0 acc\n",
      "foo\n",
      "bar\n",
      "baz\n",
      "2 [0, 1, 2] 1 jmp\n",
      "foo\n",
      "bar\n",
      "baz\n",
      "3 [0, 1, 2, 3] 1 acc\n",
      "foo\n",
      "bar\n",
      "baz\n",
      "4 [0, 1, 2, 3, 4] 4 jmp\n",
      "foo\n",
      "bar\n",
      "baz\n",
      "5 [0, 1, 2, 3, 4, 5] 4 acc\n",
      "foo\n",
      "bar\n",
      "baz\n",
      "6 [0, 1, 2, 3, 4, 5, 6] -95 acc\n",
      "foo\n",
      "bar\n",
      "baz\n",
      "7 [0, 1, 2, 3, 4, 5, 6, 7] -94 jmp\n",
      "foo\n",
      "bar\n",
      "baz\n",
      "8 [0, 1, 2, 3, 4, 5, 6, 7, 8] -94 acc\n",
      "foo\n",
      "bar\n",
      "baz\n"
     ]
    },
    {
     "ename": "IndexError",
     "evalue": "list index out of range",
     "output_type": "error",
     "traceback": [
      "\u001b[1;31m---------------------------------------------------------------------------\u001b[0m",
      "\u001b[1;31mIndexError\u001b[0m                                Traceback (most recent call last)",
      "\u001b[1;32m<ipython-input-112-070bb1cd115c>\u001b[0m in \u001b[0;36m<module>\u001b[1;34m\u001b[0m\n\u001b[0;32m      1\u001b[0m \u001b[0mboot_code\u001b[0m \u001b[1;33m=\u001b[0m \u001b[0mget_boot_code\u001b[0m\u001b[1;33m(\u001b[0m\u001b[1;34m'example_boot_code.txt'\u001b[0m\u001b[1;33m)\u001b[0m\u001b[1;33m\u001b[0m\u001b[1;33m\u001b[0m\u001b[0m\n\u001b[1;32m----> 2\u001b[1;33m \u001b[0mprogram_2\u001b[0m\u001b[1;33m(\u001b[0m\u001b[0mboot_code\u001b[0m\u001b[1;33m)\u001b[0m \u001b[1;31m# Should return 8\u001b[0m\u001b[1;33m\u001b[0m\u001b[1;33m\u001b[0m\u001b[0m\n\u001b[0m",
      "\u001b[1;32m<ipython-input-111-818eb9873b1d>\u001b[0m in \u001b[0;36mprogram_2\u001b[1;34m(boot_code)\u001b[0m\n\u001b[0;32m     10\u001b[0m \u001b[1;33m\u001b[0m\u001b[0m\n\u001b[0;32m     11\u001b[0m         \u001b[1;32mif\u001b[0m \u001b[0mi\u001b[0m \u001b[1;32min\u001b[0m \u001b[0mseen\u001b[0m\u001b[1;33m:\u001b[0m\u001b[1;33m\u001b[0m\u001b[1;33m\u001b[0m\u001b[0m\n\u001b[1;32m---> 12\u001b[1;33m             \u001b[0mprogram_2\u001b[0m\u001b[1;33m(\u001b[0m\u001b[0mboot_code\u001b[0m\u001b[1;33m)\u001b[0m\u001b[1;33m\u001b[0m\u001b[1;33m\u001b[0m\u001b[0m\n\u001b[0m\u001b[0;32m     13\u001b[0m         \u001b[1;32melse\u001b[0m\u001b[1;33m:\u001b[0m\u001b[1;33m\u001b[0m\u001b[1;33m\u001b[0m\u001b[0m\n\u001b[0;32m     14\u001b[0m             \u001b[0mseen\u001b[0m\u001b[1;33m.\u001b[0m\u001b[0mappend\u001b[0m\u001b[1;33m(\u001b[0m\u001b[0mi\u001b[0m\u001b[1;33m)\u001b[0m\u001b[1;33m\u001b[0m\u001b[1;33m\u001b[0m\u001b[0m\n",
      "\u001b[1;32m<ipython-input-111-818eb9873b1d>\u001b[0m in \u001b[0;36mprogram_2\u001b[1;34m(boot_code)\u001b[0m\n\u001b[0;32m     14\u001b[0m             \u001b[0mseen\u001b[0m\u001b[1;33m.\u001b[0m\u001b[0mappend\u001b[0m\u001b[1;33m(\u001b[0m\u001b[0mi\u001b[0m\u001b[1;33m)\u001b[0m\u001b[1;33m\u001b[0m\u001b[1;33m\u001b[0m\u001b[0m\n\u001b[0;32m     15\u001b[0m \u001b[1;33m\u001b[0m\u001b[0m\n\u001b[1;32m---> 16\u001b[1;33m         \u001b[0minstruct\u001b[0m \u001b[1;33m=\u001b[0m \u001b[0mboot_code\u001b[0m\u001b[1;33m[\u001b[0m\u001b[0mi\u001b[0m\u001b[1;33m]\u001b[0m\u001b[1;33m[\u001b[0m\u001b[1;36m0\u001b[0m\u001b[1;33m]\u001b[0m\u001b[1;33m\u001b[0m\u001b[1;33m\u001b[0m\u001b[0m\n\u001b[0m\u001b[0;32m     17\u001b[0m         \u001b[0marg\u001b[0m \u001b[1;33m=\u001b[0m \u001b[0mboot_code\u001b[0m\u001b[1;33m[\u001b[0m\u001b[0mi\u001b[0m\u001b[1;33m]\u001b[0m\u001b[1;33m[\u001b[0m\u001b[1;36m1\u001b[0m\u001b[1;33m]\u001b[0m\u001b[1;33m\u001b[0m\u001b[1;33m\u001b[0m\u001b[0m\n\u001b[0;32m     18\u001b[0m         \u001b[0mprint\u001b[0m\u001b[1;33m(\u001b[0m\u001b[0mi\u001b[0m\u001b[1;33m,\u001b[0m \u001b[0mseen\u001b[0m\u001b[1;33m,\u001b[0m \u001b[0maccumulator\u001b[0m\u001b[1;33m,\u001b[0m \u001b[0minstruct\u001b[0m\u001b[1;33m)\u001b[0m\u001b[1;33m\u001b[0m\u001b[1;33m\u001b[0m\u001b[0m\n",
      "\u001b[1;31mIndexError\u001b[0m: list index out of range"
     ]
    }
   ],
   "source": [
    "boot_code = get_boot_code('example_boot_code.txt')\n",
    "program_2(boot_code) # Should return 8"
   ]
  },
  {
   "cell_type": "code",
   "execution_count": 91,
   "metadata": {},
   "outputs": [
    {
     "name": "stdout",
     "output_type": "stream",
     "text": [
      "0 [] 0 jmp\n"
     ]
    },
    {
     "data": {
      "text/plain": [
       "0"
      ]
     },
     "execution_count": 91,
     "metadata": {},
     "output_type": "execute_result"
    }
   ],
   "source": [
    "boot_code = get_boot_code('boot_code.txt')\n",
    "program_2(boot_code)"
   ]
  }
 ],
 "metadata": {
  "kernelspec": {
   "display_name": "Python 3",
   "language": "python",
   "name": "python3"
  },
  "language_info": {
   "codemirror_mode": {
    "name": "ipython",
    "version": 3
   },
   "file_extension": ".py",
   "mimetype": "text/x-python",
   "name": "python",
   "nbconvert_exporter": "python",
   "pygments_lexer": "ipython3",
   "version": "3.7.3"
  }
 },
 "nbformat": 4,
 "nbformat_minor": 4
}
