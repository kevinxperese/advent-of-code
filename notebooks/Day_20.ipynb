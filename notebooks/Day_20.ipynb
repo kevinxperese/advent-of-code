{
 "cells": [
  {
   "cell_type": "markdown",
   "metadata": {},
   "source": [
    "# --- Day 20: Jurassic Jigsaw ---\n",
    "\n",
    "https://adventofcode.com/2020/day/20"
   ]
  },
  {
   "cell_type": "code",
   "execution_count": 1,
   "metadata": {},
   "outputs": [],
   "source": [
    "path = '../inputs/'"
   ]
  },
  {
   "cell_type": "code",
   "execution_count": 2,
   "metadata": {},
   "outputs": [],
   "source": [
    "import math"
   ]
  },
  {
   "cell_type": "markdown",
   "metadata": {},
   "source": [
    "## Part 1"
   ]
  },
  {
   "cell_type": "code",
   "execution_count": 3,
   "metadata": {},
   "outputs": [],
   "source": [
    "def read_tiles(filename):\n",
    "    tiles = {}\n",
    "    \n",
    "    with open(path + filename) as file:\n",
    "        tile_data = file.read().split('\\n\\n')\n",
    "\n",
    "    for tile in tile_data:\n",
    "        tile_num = int(tile[5:9])\n",
    "\n",
    "        t = tile.split('\\n')\n",
    "        t.pop(0) # Get rid of tile_num row\n",
    "\n",
    "        tiles[tile_num] = {}\n",
    "        tiles[tile_num]['top'] = t[0]\n",
    "        tiles[tile_num]['bottom'] = t[-1]\n",
    "\n",
    "        _left = []\n",
    "        _right = []\n",
    "        \n",
    "        for row in t:\n",
    "            _left.append(row[0])\n",
    "            _right.append(row[-1])\n",
    "\n",
    "        tiles[tile_num]['left'] = ''.join(_left)\n",
    "        tiles[tile_num]['right'] = ''.join(_right)\n",
    "    \n",
    "    return tiles"
   ]
  },
  {
   "cell_type": "code",
   "execution_count": 4,
   "metadata": {},
   "outputs": [],
   "source": [
    "def find_corners(tiles):\n",
    "    \n",
    "    corners = []\n",
    "    \n",
    "    for i in tiles.keys():\n",
    "        shared_sides = 0\n",
    "        for j in tiles.keys():\n",
    "            if i != j:\n",
    "                j_sides = [tiles[j]['bottom'], \n",
    "                           ''.join(reversed(tiles[j]['bottom'])),\n",
    "                           tiles[j]['top'],\n",
    "                           ''.join(reversed(tiles[j]['top'])),\n",
    "                           tiles[j]['left'],\n",
    "                           ''.join(reversed(tiles[j]['left'])),\n",
    "                           tiles[j]['right'],\n",
    "                           ''.join(reversed(tiles[j]['right']))]\n",
    "                \n",
    "                if tiles[i]['top'] in j_sides: \n",
    "                    shared_sides += 1\n",
    "                if tiles[i]['right'] in j_sides:\n",
    "                    shared_sides += 1\n",
    "                if tiles[i]['bottom'] in j_sides:\n",
    "                    shared_sides += 1\n",
    "                if tiles[i]['left'] in j_sides:\n",
    "                    shared_sides += 1\n",
    "        \n",
    "        if shared_sides == 2:\n",
    "            corners.append(i)\n",
    "    \n",
    "    return corners"
   ]
  },
  {
   "cell_type": "code",
   "execution_count": 5,
   "metadata": {},
   "outputs": [],
   "source": [
    "def multiply_corners(corners):\n",
    "    total = 1\n",
    "    for c in corners:\n",
    "        total *= c\n",
    "\n",
    "    return total"
   ]
  },
  {
   "cell_type": "code",
   "execution_count": 6,
   "metadata": {},
   "outputs": [
    {
     "name": "stdout",
     "output_type": "stream",
     "text": [
      "[1951, 1171, 2971, 3079]\n"
     ]
    },
    {
     "data": {
      "text/plain": [
       "20899048083289"
      ]
     },
     "execution_count": 6,
     "metadata": {},
     "output_type": "execute_result"
    }
   ],
   "source": [
    "tiles = read_tiles('example_tiles.txt')\n",
    "corners = find_corners(tiles)\n",
    "print(corners)\n",
    "multiply_corners(corners) # Should return 20899048083289"
   ]
  },
  {
   "cell_type": "code",
   "execution_count": 7,
   "metadata": {},
   "outputs": [
    {
     "name": "stdout",
     "output_type": "stream",
     "text": [
      "[1049, 2081, 2129, 3229]\n"
     ]
    },
    {
     "data": {
      "text/plain": [
       "15006909892229"
      ]
     },
     "execution_count": 7,
     "metadata": {},
     "output_type": "execute_result"
    }
   ],
   "source": [
    "tiles = read_tiles('tiles.txt')\n",
    "corners = find_corners(tiles)\n",
    "print(corners)\n",
    "multiply_corners(corners)"
   ]
  },
  {
   "cell_type": "markdown",
   "metadata": {},
   "source": [
    "## Part 2"
   ]
  }
 ],
 "metadata": {
  "kernelspec": {
   "display_name": "Python 3",
   "language": "python",
   "name": "python3"
  },
  "language_info": {
   "codemirror_mode": {
    "name": "ipython",
    "version": 3
   },
   "file_extension": ".py",
   "mimetype": "text/x-python",
   "name": "python",
   "nbconvert_exporter": "python",
   "pygments_lexer": "ipython3",
   "version": "3.7.3"
  }
 },
 "nbformat": 4,
 "nbformat_minor": 4
}
