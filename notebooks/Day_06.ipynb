{
 "cells": [
  {
   "cell_type": "markdown",
   "metadata": {},
   "source": [
    "# --- Day 6: Custom Customs ---\n",
    "\n",
    "https://adventofcode.com/2020/day/6"
   ]
  },
  {
   "cell_type": "code",
   "execution_count": 1,
   "metadata": {},
   "outputs": [],
   "source": [
    "path = '../inputs/'"
   ]
  },
  {
   "cell_type": "markdown",
   "metadata": {},
   "source": [
    "## Part 1"
   ]
  },
  {
   "cell_type": "code",
   "execution_count": 2,
   "metadata": {},
   "outputs": [],
   "source": [
    "def count_declarations(filename):\n",
    "    with open (path + filename) as file:\n",
    "        groups = [g.split() for g in file.read().split('\\n\\n')]\n",
    "        num_unique_declarations = [len(set(''.join(g))) for g in groups]\n",
    "    \n",
    "    return sum(num_unique_declarations)"
   ]
  },
  {
   "cell_type": "code",
   "execution_count": 3,
   "metadata": {},
   "outputs": [
    {
     "data": {
      "text/plain": [
       "11"
      ]
     },
     "execution_count": 3,
     "metadata": {},
     "output_type": "execute_result"
    }
   ],
   "source": [
    "count_declarations('example_customs_declarations.txt') # Should return 11 "
   ]
  },
  {
   "cell_type": "code",
   "execution_count": 4,
   "metadata": {},
   "outputs": [
    {
     "data": {
      "text/plain": [
       "6335"
      ]
     },
     "execution_count": 4,
     "metadata": {},
     "output_type": "execute_result"
    }
   ],
   "source": [
    "count_declarations('customs_declarations.txt')"
   ]
  },
  {
   "cell_type": "markdown",
   "metadata": {},
   "source": [
    "## Part 2"
   ]
  },
  {
   "cell_type": "code",
   "execution_count": 5,
   "metadata": {},
   "outputs": [],
   "source": [
    "def count_declarations_2(filename):\n",
    "    count = 0\n",
    "\n",
    "    with open (path + filename) as file:\n",
    "        groups = [g.split() for g in file.read().split('\\n\\n')]\n",
    "\n",
    "    for g in groups:\n",
    "        if len(g) == 1:\n",
    "            count += len(g[0])\n",
    "        else:\n",
    "            # Convert each person in the group into a set data-type\n",
    "            for i, person in enumerate(g):\n",
    "                g[i] = set(person)\n",
    "            \n",
    "            # Get the intersection of the sets in the group to find\n",
    "            # the count of items that everyone in the group has on \n",
    "            # their declaration. Note: *g unpacks the list of sets\n",
    "            count += len(set.intersection(*g)) \n",
    "                \n",
    "    return count"
   ]
  },
  {
   "cell_type": "code",
   "execution_count": 6,
   "metadata": {},
   "outputs": [
    {
     "data": {
      "text/plain": [
       "6"
      ]
     },
     "execution_count": 6,
     "metadata": {},
     "output_type": "execute_result"
    }
   ],
   "source": [
    "count_declarations_2('example_customs_declarations.txt') # Should return 6"
   ]
  },
  {
   "cell_type": "code",
   "execution_count": 7,
   "metadata": {},
   "outputs": [
    {
     "data": {
      "text/plain": [
       "3392"
      ]
     },
     "execution_count": 7,
     "metadata": {},
     "output_type": "execute_result"
    }
   ],
   "source": [
    "count_declarations_2('customs_declarations.txt')"
   ]
  }
 ],
 "metadata": {
  "kernelspec": {
   "display_name": "Python 3",
   "language": "python",
   "name": "python3"
  },
  "language_info": {
   "codemirror_mode": {
    "name": "ipython",
    "version": 3
   },
   "file_extension": ".py",
   "mimetype": "text/x-python",
   "name": "python",
   "nbconvert_exporter": "python",
   "pygments_lexer": "ipython3",
   "version": "3.7.3"
  }
 },
 "nbformat": 4,
 "nbformat_minor": 4
}
