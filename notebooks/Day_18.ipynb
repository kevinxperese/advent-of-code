{
 "cells": [
  {
   "cell_type": "markdown",
   "metadata": {},
   "source": [
    "# --- Day 18: Operation Order ---\n",
    "\n",
    "https://adventofcode.com/2020/day/18"
   ]
  },
  {
   "cell_type": "code",
   "execution_count": 1,
   "metadata": {},
   "outputs": [],
   "source": [
    "path = '../inputs/'"
   ]
  },
  {
   "cell_type": "markdown",
   "metadata": {},
   "source": [
    "## Part 1"
   ]
  },
  {
   "cell_type": "code",
   "execution_count": 2,
   "metadata": {},
   "outputs": [],
   "source": [
    "import re"
   ]
  },
  {
   "cell_type": "code",
   "execution_count": 3,
   "metadata": {},
   "outputs": [],
   "source": [
    "def solve(math_str):\n",
    "    \"\"\"Requires a clean string, that is: with 0 or just 1 set of parentheses.\"\"\"\n",
    "\n",
    "    nums = re.findall(r\"\\d+\", math_str)\n",
    "    operators = re.findall(r\"[\\*|\\+]\", math_str)\n",
    "\n",
    "    solution = int(nums[0])\n",
    "    \n",
    "    for i, _ in enumerate(operators):\n",
    "        if operators[i] == '*':\n",
    "            solution *= int(nums[i+1])  \n",
    "\n",
    "        elif operators[i] == '+':\n",
    "            solution += int(nums[i+1])\n",
    "    \n",
    "    return solution"
   ]
  },
  {
   "cell_type": "code",
   "execution_count": 4,
   "metadata": {},
   "outputs": [],
   "source": [
    "def solve_parens(math_str, solver_func):\n",
    "    \"\"\"Recursively solve inside parentheses.\"\"\"\n",
    "     \n",
    "    parens_regex = r\"(\\(\\d+(( [\\*|\\+] \\d+)+)\\))\"\n",
    "    parens = re.findall(parens_regex, math_str)\n",
    "\n",
    "    if len(parens) == 0:\n",
    "        return math_str\n",
    "    \n",
    "    else:\n",
    "        solution = solver_func(parens[0][0])\n",
    "        math_str = math_str.replace(parens[0][0], str(solution))\n",
    "        \n",
    "        return solve_parens(math_str, solver_func)"
   ]
  },
  {
   "cell_type": "code",
   "execution_count": 5,
   "metadata": {},
   "outputs": [],
   "source": [
    "def do_homework(filename, solver_func):\n",
    "    total = 0\n",
    "    \n",
    "    with open(path + filename) as file:\n",
    "        for line in file:\n",
    "            total += solver_func(solve_parens(line.strip(), solver_func))\n",
    "\n",
    "    return total"
   ]
  },
  {
   "cell_type": "code",
   "execution_count": 6,
   "metadata": {},
   "outputs": [
    {
     "data": {
      "text/plain": [
       "26457"
      ]
     },
     "execution_count": 6,
     "metadata": {},
     "output_type": "execute_result"
    }
   ],
   "source": [
    "do_homework('example_homework.txt', solve) # Should return 26457"
   ]
  },
  {
   "cell_type": "code",
   "execution_count": 7,
   "metadata": {},
   "outputs": [
    {
     "data": {
      "text/plain": [
       "98621258158412"
      ]
     },
     "execution_count": 7,
     "metadata": {},
     "output_type": "execute_result"
    }
   ],
   "source": [
    "do_homework('homework.txt', solve)"
   ]
  },
  {
   "cell_type": "markdown",
   "metadata": {},
   "source": [
    "## Part 2"
   ]
  },
  {
   "cell_type": "code",
   "execution_count": 8,
   "metadata": {},
   "outputs": [],
   "source": [
    "def solve2(math_str):\n",
    "    \"\"\"Requires a clean string, that is: with 0 or just 1 set of parentheses.\"\"\"\n",
    "\n",
    "    nums = re.findall(r\"\\d+\", math_str)\n",
    "    operators = re.findall(r\"[\\*|\\+]\", math_str)\n",
    "\n",
    "    # Only addition in the math string\n",
    "    if not '*' in operators:\n",
    "        solution = 0\n",
    "        for n in nums:\n",
    "            solution += int(n)\n",
    "        return solution\n",
    "\n",
    "    # Only multiplcation in the math string\n",
    "    elif not '+' in operators:\n",
    "        solution = 1\n",
    "        for n in nums:\n",
    "            solution *= int(n)\n",
    "        return solution\n",
    "\n",
    "    # Mix of addition and mutliplication\n",
    "    else:\n",
    "        \n",
    "        # First solve & swap addition operands and operators\n",
    "        while '+' in operators:\n",
    "            for i, _ in enumerate(operators):\n",
    "                if operators[i] == '+':\n",
    "                    _sum = int(nums[i]) + int(nums[i+1])\n",
    "                    del nums[i:i+2]\n",
    "                    del operators[i]\n",
    "                    nums.insert(i, str(_sum))\n",
    "                    \n",
    "        # Then loop through remaining operands and multiply them together\n",
    "        solution = 1\n",
    "        for n in nums:\n",
    "            solution *= int(n)\n",
    "            \n",
    "        return solution"
   ]
  },
  {
   "cell_type": "code",
   "execution_count": 9,
   "metadata": {},
   "outputs": [
    {
     "data": {
      "text/plain": [
       "694173"
      ]
     },
     "execution_count": 9,
     "metadata": {},
     "output_type": "execute_result"
    }
   ],
   "source": [
    "do_homework('example_homework.txt', solve2) # Should return 694173"
   ]
  },
  {
   "cell_type": "code",
   "execution_count": 10,
   "metadata": {},
   "outputs": [
    {
     "data": {
      "text/plain": [
       "241216538527890"
      ]
     },
     "execution_count": 10,
     "metadata": {},
     "output_type": "execute_result"
    }
   ],
   "source": [
    "do_homework('homework.txt', solve2)"
   ]
  }
 ],
 "metadata": {
  "kernelspec": {
   "display_name": "Python 3",
   "language": "python",
   "name": "python3"
  },
  "language_info": {
   "codemirror_mode": {
    "name": "ipython",
    "version": 3
   },
   "file_extension": ".py",
   "mimetype": "text/x-python",
   "name": "python",
   "nbconvert_exporter": "python",
   "pygments_lexer": "ipython3",
   "version": "3.7.3"
  }
 },
 "nbformat": 4,
 "nbformat_minor": 4
}
