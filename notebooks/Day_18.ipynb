{
 "cells": [
  {
   "cell_type": "markdown",
   "metadata": {},
   "source": [
    "# --- Day 18: Operation Order ---\n",
    "\n",
    "https://adventofcode.com/2020/day/18"
   ]
  },
  {
   "cell_type": "code",
   "execution_count": 1,
   "metadata": {},
   "outputs": [],
   "source": [
    "path = '../inputs/'"
   ]
  },
  {
   "cell_type": "markdown",
   "metadata": {},
   "source": [
    "## Part 1"
   ]
  },
  {
   "cell_type": "code",
   "execution_count": 2,
   "metadata": {},
   "outputs": [],
   "source": [
    "import re"
   ]
  },
  {
   "cell_type": "code",
   "execution_count": 3,
   "metadata": {},
   "outputs": [],
   "source": [
    "def solve_parens(math_str):\n",
    "    \"\"\"Recursively solve inside parentheses.\"\"\"\n",
    "    \n",
    "    parens_regex = r\"(\\(\\d+(( [\\*|\\+] \\d+)+)\\))\"\n",
    "    parens = re.findall(parens_regex, math_str)\n",
    "\n",
    "    if len(parens) == 0:\n",
    "        return math_str\n",
    "    \n",
    "    else:\n",
    "        solution = solve(parens[0][0])\n",
    "        math_str = math_str.replace(parens[0][0], str(solution))\n",
    "        \n",
    "        return solve_parens(math_str)"
   ]
  },
  {
   "cell_type": "code",
   "execution_count": 4,
   "metadata": {},
   "outputs": [],
   "source": [
    "def solve(math_str):\n",
    "    \"\"\"Requires a clean string, that is: with 0 or just 1 set of parentheses.\"\"\"\n",
    "\n",
    "    nums = re.findall(r\"\\d+\", math_str)\n",
    "    operators = re.findall(r\"[\\*|\\+]\", math_str)\n",
    "\n",
    "    solution = int(nums[0])\n",
    "    \n",
    "    for i, _ in enumerate(operators):\n",
    "        if operators[i] == '*':\n",
    "            solution *= int(nums[i+1])  \n",
    "\n",
    "        elif operators[i] == '+':\n",
    "            solution += int(nums[i+1])\n",
    "    \n",
    "    return solution"
   ]
  },
  {
   "cell_type": "code",
   "execution_count": 5,
   "metadata": {},
   "outputs": [],
   "source": [
    "def do_homework(filename):\n",
    "    total = 0\n",
    "    \n",
    "    with open(path + filename) as file:\n",
    "        for line in file:\n",
    "            total += solve(solve_parens(line.strip()))\n",
    "\n",
    "    return total"
   ]
  },
  {
   "cell_type": "code",
   "execution_count": 6,
   "metadata": {},
   "outputs": [
    {
     "data": {
      "text/plain": [
       "26386"
      ]
     },
     "execution_count": 6,
     "metadata": {},
     "output_type": "execute_result"
    }
   ],
   "source": [
    "do_homework('example_homework.txt') # Should return 26386"
   ]
  },
  {
   "cell_type": "code",
   "execution_count": 7,
   "metadata": {},
   "outputs": [
    {
     "data": {
      "text/plain": [
       "98621258158412"
      ]
     },
     "execution_count": 7,
     "metadata": {},
     "output_type": "execute_result"
    }
   ],
   "source": [
    "do_homework('homework.txt')"
   ]
  },
  {
   "cell_type": "markdown",
   "metadata": {},
   "source": [
    "## Part 2"
   ]
  },
  {
   "cell_type": "code",
   "execution_count": null,
   "metadata": {},
   "outputs": [],
   "source": []
  }
 ],
 "metadata": {
  "kernelspec": {
   "display_name": "Python 3",
   "language": "python",
   "name": "python3"
  },
  "language_info": {
   "codemirror_mode": {
    "name": "ipython",
    "version": 3
   },
   "file_extension": ".py",
   "mimetype": "text/x-python",
   "name": "python",
   "nbconvert_exporter": "python",
   "pygments_lexer": "ipython3",
   "version": "3.7.3"
  }
 },
 "nbformat": 4,
 "nbformat_minor": 4
}
