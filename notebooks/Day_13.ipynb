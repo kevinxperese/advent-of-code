{
 "cells": [
  {
   "cell_type": "markdown",
   "metadata": {},
   "source": [
    "# --- Day 13: Shuttle Search ---\n",
    "\n",
    "https://adventofcode.com/2020/day/13"
   ]
  },
  {
   "cell_type": "code",
   "execution_count": 1,
   "metadata": {},
   "outputs": [],
   "source": [
    "path = '../inputs/'"
   ]
  },
  {
   "cell_type": "markdown",
   "metadata": {},
   "source": [
    "## Part 1"
   ]
  },
  {
   "cell_type": "code",
   "execution_count": 42,
   "metadata": {},
   "outputs": [],
   "source": [
    "def part(filename):\n",
    "    with open (path + filename) as file:\n",
    "        lines = file.readlines() \n",
    "        print(lines)\n",
    "    arrival_time = int(lines[0].strip())\n",
    "    bus_schedule = lines[1].strip()\n",
    "    buses = [int(n) for n in bus_schedule.split(',') if not n == 'x']\n",
    "    print(arrival_time)\n",
    "    print(bus_schedule)\n",
    "    print(buses)\n",
    "    \n",
    "    wait_times = [b - (arrival_time % b)  for b in buses]\n",
    "    print(wait_times)\n",
    "    \n",
    "    min_wait_time = min(wait_times)\n",
    "    print(min_wait_time)\n",
    "    bus_with_min_wait_time = buses[wait_times.index(min_wait_time)]\n",
    "    print(bus_with_min_wait_time)\n",
    "    \n",
    "    return min_wait_time * bus_with_min_wait_time"
   ]
  },
  {
   "cell_type": "code",
   "execution_count": 43,
   "metadata": {},
   "outputs": [
    {
     "name": "stdout",
     "output_type": "stream",
     "text": [
      "['939\\n', '7,13,x,x,59,x,31,19\\n']\n",
      "939\n",
      "7,13,x,x,59,x,31,19\n",
      "[7, 13, 59, 31, 19]\n",
      "[6, 10, 5, 22, 11]\n",
      "5\n",
      "59\n"
     ]
    },
    {
     "data": {
      "text/plain": [
       "295"
      ]
     },
     "execution_count": 43,
     "metadata": {},
     "output_type": "execute_result"
    }
   ],
   "source": [
    "foo('example_bus_notes.txt') # Should return 295"
   ]
  },
  {
   "cell_type": "code",
   "execution_count": null,
   "metadata": {},
   "outputs": [],
   "source": [
    "def some_func():\n",
    "    \n",
    "    yield "
   ]
  },
  {
   "cell_type": "code",
   "execution_count": 25,
   "metadata": {},
   "outputs": [
    {
     "data": {
      "text/plain": [
       "134.14285714285714"
      ]
     },
     "execution_count": 25,
     "metadata": {},
     "output_type": "execute_result"
    }
   ],
   "source": [
    "939 / 7"
   ]
  },
  {
   "cell_type": "code",
   "execution_count": 26,
   "metadata": {},
   "outputs": [
    {
     "data": {
      "text/plain": [
       "938"
      ]
     },
     "execution_count": 26,
     "metadata": {},
     "output_type": "execute_result"
    }
   ],
   "source": [
    "7 * 134"
   ]
  },
  {
   "cell_type": "markdown",
   "metadata": {},
   "source": [
    "## Part 2"
   ]
  },
  {
   "cell_type": "code",
   "execution_count": null,
   "metadata": {},
   "outputs": [],
   "source": []
  }
 ],
 "metadata": {
  "kernelspec": {
   "display_name": "Python 3",
   "language": "python",
   "name": "python3"
  },
  "language_info": {
   "codemirror_mode": {
    "name": "ipython",
    "version": 3
   },
   "file_extension": ".py",
   "mimetype": "text/x-python",
   "name": "python",
   "nbconvert_exporter": "python",
   "pygments_lexer": "ipython3",
   "version": "3.7.3"
  }
 },
 "nbformat": 4,
 "nbformat_minor": 4
}
