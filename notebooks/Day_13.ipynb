{
 "cells": [
  {
   "cell_type": "markdown",
   "metadata": {},
   "source": [
    "# --- Day 13: Shuttle Search ---\n",
    "\n",
    "https://adventofcode.com/2020/day/13"
   ]
  },
  {
   "cell_type": "code",
   "execution_count": 1,
   "metadata": {},
   "outputs": [],
   "source": [
    "path = '../inputs/'"
   ]
  },
  {
   "cell_type": "markdown",
   "metadata": {},
   "source": [
    "## Part 1"
   ]
  },
  {
   "cell_type": "code",
   "execution_count": 2,
   "metadata": {},
   "outputs": [],
   "source": [
    "def part_1(filename):\n",
    "    with open (path + filename) as file:\n",
    "        lines = file.readlines() \n",
    "\n",
    "    arrival_time = int(lines[0].strip())\n",
    "    bus_schedule = lines[1].strip()\n",
    "    buses = [int(n) for n in bus_schedule.split(',') if not n == 'x']\n",
    "    \n",
    "    wait_times = [b - (arrival_time % b)  for b in buses]\n",
    "    \n",
    "    min_wait_time = min(wait_times)\n",
    "    bus_with_min_wait_time = buses[wait_times.index(min_wait_time)]\n",
    "    \n",
    "    return min_wait_time * bus_with_min_wait_time"
   ]
  },
  {
   "cell_type": "code",
   "execution_count": 3,
   "metadata": {},
   "outputs": [
    {
     "data": {
      "text/plain": [
       "295"
      ]
     },
     "execution_count": 3,
     "metadata": {},
     "output_type": "execute_result"
    }
   ],
   "source": [
    "part_1('example_bus_notes.txt') # Should return 295"
   ]
  },
  {
   "cell_type": "code",
   "execution_count": 4,
   "metadata": {},
   "outputs": [
    {
     "data": {
      "text/plain": [
       "3997"
      ]
     },
     "execution_count": 4,
     "metadata": {},
     "output_type": "execute_result"
    }
   ],
   "source": [
    "part_1('bus_notes.txt')"
   ]
  },
  {
   "cell_type": "markdown",
   "metadata": {},
   "source": [
    "## Part 2"
   ]
  },
  {
   "cell_type": "markdown",
   "metadata": {},
   "source": [
    "### Brute Force\n",
    "\n",
    "I don't even know why I tried...\n",
    "\n",
    "This works on the small example, but takes FOREVER on the actual puzzle data."
   ]
  },
  {
   "cell_type": "code",
   "execution_count": 5,
   "metadata": {},
   "outputs": [],
   "source": [
    "# def part_2(filename, start):\n",
    "#     with open (path + filename) as file:\n",
    "#         lines = file.readlines()\n",
    "\n",
    "#     bus_schedule = lines[1].strip()\n",
    "#     buses = [n for n in bus_schedule.split(',')]\n",
    "\n",
    "#     bus_ints = [int(n) for n in buses if not n == 'x']\n",
    "#     max_bus = str(max(bus_ints))\n",
    "#     max_bus_index = buses.index(str(max_bus))\n",
    "\n",
    "#     offsets = [i - max_bus_index for i, b in enumerate(buses) if not b == 'x']\n",
    "\n",
    "#     i = start + int(max_bus) - (start % int(max_bus))\n",
    "\n",
    "#     while True:\n",
    "#         test = []\n",
    "        \n",
    "#         for bus, offset in zip(bus_ints, offsets):\n",
    "#             test.append((i + offset) % bus == 0)\n",
    "        \n",
    "#         if all(test) == True:\n",
    "#             break\n",
    "    \n",
    "#         i += int(max_bus)\n",
    "        \n",
    "#     return i + min(offsets)"
   ]
  },
  {
   "cell_type": "code",
   "execution_count": 6,
   "metadata": {},
   "outputs": [],
   "source": [
    "# part_2('example_bus_notes.txt', 1000000) # Should return 1068781"
   ]
  },
  {
   "cell_type": "code",
   "execution_count": 7,
   "metadata": {},
   "outputs": [],
   "source": [
    "# I stopped this because it was running way too long...\n",
    "# part_2('bus_notes.txt', 100000000000000)"
   ]
  },
  {
   "cell_type": "markdown",
   "metadata": {},
   "source": [
    "### Chinese Remainder Theorem\n",
    "\n",
    "This is what we need!   \n",
    "\n",
    "Sources:   \n",
    "https://en.wikipedia.org/wiki/Chinese_remainder_theorem   \n",
    "https://www.youtube.com/watch?v=zIFehsBHB8o   \n",
    "https://www.youtube.com/watch?v=ru7mWZJlRQg   \n",
    "\n",
    "Here is the set up for 3 modulo equations:   \n",
    "$\n",
    "x\\equiv b_1 (mod\\ n_1) \\newline\n",
    "x\\equiv b_2 (mod\\ n_2) \\newline\n",
    "x\\equiv b_3 (mod\\ n_3)\n",
    "$\n",
    "\n",
    "We are interested in solving for x.   \n",
    "\n",
    "In the puzzle, $b_i$ is the offsets between the bus times, and $n_i$ is the bus number, or the *divisor*.\n",
    "\n",
    "It is possible to solve this system if (and only if -- $iff$) $n_i$ are *coprimes*. That is, there are no common factors among the $n_i$. (All the bus route numbers are primes, so we're good on this front.)\n",
    "\n",
    "To solve the system, we first will need to calculate $N$, which is the product of all the $n_i$:\n",
    "\n",
    "$N = \\prod_{i=1}^{3}\\ n_i$\n",
    "\n",
    "We then need to calculate $N_i$, which is:   \n",
    "$N_i = {{N}\\over{n_i}}$\n",
    "\n",
    "And one more piece that we need is $x_i$, which is the \"inverse of $N_i$\".   \n",
    "So for each equation, we need to solve for $x_i$ in this equation:   \n",
    "\n",
    "$N_ix_i\\equiv 1 (mod\\ n_i)$\n",
    "\n",
    "Finally, putting together all the pieces, we calculate the sum of the products $b_iN_ix_i$ and then calculate the modulo $N$:   \n",
    "\n",
    "$x = \\sum_{i=1}^{3}b_iN_ix_i (mod\\ N)$"
   ]
  },
  {
   "cell_type": "code",
   "execution_count": 8,
   "metadata": {},
   "outputs": [],
   "source": [
    "def part_2(filename):\n",
    "    with open (path + filename) as file:\n",
    "        lines = file.readlines()\n",
    "\n",
    "    bus_schedule = lines[1].strip()\n",
    "    buses = [n for n in bus_schedule.split(',')]\n",
    "\n",
    "    # bus_ints are the divisors (n_i) and offsets are the remainders (b_i)\n",
    "    bus_ints = [int(n) for n in buses if not n == 'x']\n",
    "    offsets = [i for i, b in enumerate(buses) if not b == 'x']\n",
    "    remainders = [b - o for b, o in zip(bus_ints, offsets)]\n",
    "\n",
    "    N = 1\n",
    "    for n in bus_ints:\n",
    "        N *= n\n",
    "    \n",
    "    N_i = [int(N/n) for n in bus_ints]\n",
    "    \n",
    "    print(bus_ints, remainders)\n",
    "    print(N, N_i)\n",
    "\n",
    "    x_i = [] \n",
    "    for n, x in zip(N_i, bus_ints):\n",
    "        i = 1\n",
    "        while True:\n",
    "            if int(n * i) % x == 1:\n",
    "                x_i.append(i)\n",
    "                break\n",
    "            i += 1\n",
    "        \n",
    "    product = [b*n*x for b, n, x in zip(remainders, N_i, x_i)]\n",
    "    \n",
    "    x = sum(product) % N\n",
    "    \n",
    "    return x"
   ]
  },
  {
   "cell_type": "code",
   "execution_count": 9,
   "metadata": {},
   "outputs": [
    {
     "name": "stdout",
     "output_type": "stream",
     "text": [
      "[7, 13, 59, 31, 19] [7, 12, 55, 25, 12]\n",
      "3162341 [451763, 243257, 53599, 102011, 166439]\n"
     ]
    },
    {
     "data": {
      "text/plain": [
       "1068781"
      ]
     },
     "execution_count": 9,
     "metadata": {},
     "output_type": "execute_result"
    }
   ],
   "source": [
    "part_2('example_bus_notes.txt') # Should return 1068781"
   ]
  },
  {
   "cell_type": "code",
   "execution_count": 10,
   "metadata": {},
   "outputs": [
    {
     "name": "stdout",
     "output_type": "stream",
     "text": [
      "[17, 13, 19] [17, 11, 16]\n",
      "4199 [247, 323, 221]\n"
     ]
    },
    {
     "data": {
      "text/plain": [
       "3417"
      ]
     },
     "execution_count": 10,
     "metadata": {},
     "output_type": "execute_result"
    }
   ],
   "source": [
    "part_2('example2_bus_notes.txt') # Should return 3417"
   ]
  },
  {
   "cell_type": "code",
   "execution_count": 11,
   "metadata": {},
   "outputs": [
    {
     "name": "stdout",
     "output_type": "stream",
     "text": [
      "[67, 7, 59, 61] [67, 6, 57, 58]\n",
      "1687931 [25193, 241133, 28609, 27671]\n"
     ]
    },
    {
     "data": {
      "text/plain": [
       "754018"
      ]
     },
     "execution_count": 11,
     "metadata": {},
     "output_type": "execute_result"
    }
   ],
   "source": [
    "part_2('example3_bus_notes.txt') # Should return 754018"
   ]
  },
  {
   "cell_type": "code",
   "execution_count": 12,
   "metadata": {},
   "outputs": [
    {
     "name": "stdout",
     "output_type": "stream",
     "text": [
      "[67, 7, 59, 61] [67, 5, 56, 57]\n",
      "1687931 [25193, 241133, 28609, 27671]\n"
     ]
    },
    {
     "data": {
      "text/plain": [
       "779210"
      ]
     },
     "execution_count": 12,
     "metadata": {},
     "output_type": "execute_result"
    }
   ],
   "source": [
    "part_2('example4_bus_notes.txt') # Should return 779210"
   ]
  },
  {
   "cell_type": "code",
   "execution_count": 13,
   "metadata": {},
   "outputs": [
    {
     "name": "stdout",
     "output_type": "stream",
     "text": [
      "[67, 7, 59, 61] [67, 6, 56, 57]\n",
      "1687931 [25193, 241133, 28609, 27671]\n"
     ]
    },
    {
     "data": {
      "text/plain": [
       "1261476"
      ]
     },
     "execution_count": 13,
     "metadata": {},
     "output_type": "execute_result"
    }
   ],
   "source": [
    "part_2('example5_bus_notes.txt') # Should return 1261476"
   ]
  },
  {
   "cell_type": "code",
   "execution_count": 14,
   "metadata": {},
   "outputs": [
    {
     "name": "stdout",
     "output_type": "stream",
     "text": [
      "[1789, 37, 47, 1889] [1789, 36, 45, 1886]\n",
      "5876813119 [3284971, 158832787, 125038577, 3111071]\n"
     ]
    },
    {
     "data": {
      "text/plain": [
       "1202161486"
      ]
     },
     "execution_count": 14,
     "metadata": {},
     "output_type": "execute_result"
    }
   ],
   "source": [
    "part_2('example6_bus_notes.txt') # Should return 1202161486"
   ]
  },
  {
   "cell_type": "code",
   "execution_count": 15,
   "metadata": {},
   "outputs": [
    {
     "name": "stdout",
     "output_type": "stream",
     "text": [
      "[19, 41, 37, 787, 13, 23, 29, 571, 17] [19, 32, 24, 768, -19, -19, -19, 521, -50]\n",
      "1909273434898297 [100488075520963, 46567644753617, 51601984726981, 2426014529731, 146867187299869, 83011888473839, 65837014996493, 3343736313307, 112310202052841]\n"
     ]
    },
    {
     "data": {
      "text/plain": [
       "500033211739354"
      ]
     },
     "execution_count": 15,
     "metadata": {},
     "output_type": "execute_result"
    }
   ],
   "source": [
    "part_2('bus_notes.txt')"
   ]
  }
 ],
 "metadata": {
  "kernelspec": {
   "display_name": "Python 3",
   "language": "python",
   "name": "python3"
  },
  "language_info": {
   "codemirror_mode": {
    "name": "ipython",
    "version": 3
   },
   "file_extension": ".py",
   "mimetype": "text/x-python",
   "name": "python",
   "nbconvert_exporter": "python",
   "pygments_lexer": "ipython3",
   "version": "3.7.3"
  }
 },
 "nbformat": 4,
 "nbformat_minor": 4
}
