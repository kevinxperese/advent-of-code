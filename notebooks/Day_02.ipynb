{
 "cells": [
  {
   "cell_type": "markdown",
   "metadata": {},
   "source": [
    "# Day 2\n",
    "\n",
    "https://adventofcode.com/2020/day/2"
   ]
  },
  {
   "cell_type": "code",
   "execution_count": 1,
   "metadata": {},
   "outputs": [],
   "source": [
    "import collections"
   ]
  },
  {
   "cell_type": "code",
   "execution_count": 2,
   "metadata": {},
   "outputs": [],
   "source": [
    "path = \"../inputs/\""
   ]
  },
  {
   "cell_type": "markdown",
   "metadata": {},
   "source": [
    "## Part 1"
   ]
  },
  {
   "cell_type": "code",
   "execution_count": 3,
   "metadata": {},
   "outputs": [],
   "source": [
    "def get_num_valid_passwords(filename):\n",
    "    num_valid = 0\n",
    "\n",
    "    with open(path + filename) as file:\n",
    "        for line in file:\n",
    "            rule, password = line.split(':')\n",
    "            min_max, letter = rule.split(' ')\n",
    "            min, max = min_max.split('-')\n",
    "            \n",
    "            # Remove leading and trailing spaces or \\n\n",
    "            password = password.strip()\n",
    "            \n",
    "            # Create dictionary of counts for each letter in password\n",
    "            counts = collections.Counter(password)\n",
    "\n",
    "            # Password is valid if letter occurs between min and max times in the password\n",
    "            if int(min) <= counts[letter] <= int(max):\n",
    "                num_valid += 1\n",
    "    \n",
    "    return num_valid"
   ]
  },
  {
   "cell_type": "code",
   "execution_count": 4,
   "metadata": {},
   "outputs": [
    {
     "data": {
      "text/plain": [
       "550"
      ]
     },
     "execution_count": 4,
     "metadata": {},
     "output_type": "execute_result"
    }
   ],
   "source": [
    "get_num_valid_passwords(\"passwords.txt\")"
   ]
  },
  {
   "cell_type": "markdown",
   "metadata": {},
   "source": [
    "## Part 2"
   ]
  },
  {
   "cell_type": "code",
   "execution_count": 5,
   "metadata": {},
   "outputs": [],
   "source": [
    "def get_num_valid_passwords_2(filename):\n",
    "    num_valid = 0\n",
    "\n",
    "    with open(path + filename) as file:\n",
    "        for line in file:\n",
    "            rule, password = line.split(':')\n",
    "            positions, letter = rule.split(' ')\n",
    "            pos1, pos2 = positions.split('-')\n",
    "            \n",
    "            # Remove leading and trailing spaces or \\n\n",
    "            password = password.strip()\n",
    "            \n",
    "            # Only need to look at 2 positions in the password, so create a subset with just those two\n",
    "            pw_subset = password[int(pos1)-1] + password[int(pos2)-1]\n",
    "            \n",
    "            # Create dictionary of counts for each letter in the password\n",
    "            counts = collections.Counter(pw_subset)\n",
    "            \n",
    "            # Password is valid if letter occurs exactly once in either position 1 or 2\n",
    "            if counts[letter] == 1:\n",
    "                num_valid += 1\n",
    "    \n",
    "    return num_valid"
   ]
  },
  {
   "cell_type": "code",
   "execution_count": 6,
   "metadata": {},
   "outputs": [
    {
     "data": {
      "text/plain": [
       "634"
      ]
     },
     "execution_count": 6,
     "metadata": {},
     "output_type": "execute_result"
    }
   ],
   "source": [
    "get_num_valid_passwords_2(\"passwords.txt\")"
   ]
  }
 ],
 "metadata": {
  "kernelspec": {
   "display_name": "Python 3",
   "language": "python",
   "name": "python3"
  },
  "language_info": {
   "codemirror_mode": {
    "name": "ipython",
    "version": 3
   },
   "file_extension": ".py",
   "mimetype": "text/x-python",
   "name": "python",
   "nbconvert_exporter": "python",
   "pygments_lexer": "ipython3",
   "version": "3.7.3"
  }
 },
 "nbformat": 4,
 "nbformat_minor": 4
}
