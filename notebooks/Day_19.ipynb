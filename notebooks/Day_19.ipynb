{
 "cells": [
  {
   "cell_type": "markdown",
   "metadata": {},
   "source": [
    "# --- Day 19: Monster Messages ---\n",
    "\n",
    "https://adventofcode.com/2020/day/19\n",
    "\n",
    "This one stumped me...   \n",
    "\n",
    "I got all the data structures set up on my own, but couldn't figure out an algorithm that would check all the messages against the decision tree of all the possible rules.   \n",
    "\n",
    "My input data had 120 or conditions ( | ), which (to my mind) indicated that constructing all the possible strings based on the rules wouldn't be possible because 2^120 creates an ASTRONOMICALLY large number. (This, however, turns out not to be an issue, because so many of the or conditions are identical.)"
   ]
  },
  {
   "cell_type": "code",
   "execution_count": 1,
   "metadata": {},
   "outputs": [
    {
     "data": {
      "text/plain": [
       "1329227995784915872903807060280344576"
      ]
     },
     "execution_count": 1,
     "metadata": {},
     "output_type": "execute_result"
    }
   ],
   "source": [
    "2 ** 120"
   ]
  },
  {
   "cell_type": "markdown",
   "metadata": {},
   "source": [
    "After reading a bunch of solutions, it appears that folks solved this problem using one of 3 techniques:\n",
    "\n",
    "### 1) Brute force\n",
    "This is what came to mind for me at first, but then I stopped because I thought that it wouldn't be possible with all the forks (or conditions). But it turns out it works.\n",
    "\n",
    "The strategy is to collect all the possible messages in a list (or better yet, a set) based on the rules, and then loop through all the messages and see if each message is in that valid set to determine whether or not the message is valid.\n",
    "\n",
    "**Examples:**  \n",
    "https://github.com/dylan-codesYT/AdventOfCode2020/blob/master/day19.py  \n",
    "https://github.com/TomBombadilV/advent-of-code-2020/blob/master/day-19/part-1.py\n",
    "\n",
    "### 2) Recursive decent parser\n",
    "When I first started poking around for clues to how to solve this puzzle, I saw folks referencing \"recursive decent parser,\" which I'd never heard of before. So then I feel down the rabbit hole of Context Free Grammars and compiler parsers:\n",
    "\n",
    "https://www.geeksforgeeks.org/classification-of-context-free-grammars/  \n",
    "https://www.geeksforgeeks.org/recursive-descent-parser/   \n",
    "https://www.geeksforgeeks.org/classification-of-top-down-parsers/  \n",
    "https://www.geeksforgeeks.org/difference-between-top-down-parsing-and-bottom-up-parsing/  \n",
    "https://www.booleanworld.com/building-recursive-descent-parsers-definitive-guide/  \n",
    "\n",
    "I didn't see too many of these solutions, but I *think* this is the most obvious approach to folks who are well-versed in computer science and have maybe written a compiler parser before.\n",
    "\n",
    "**Example:**  \n",
    "https://dev.to/qviper/advent-of-code-2020-python-solution-day-19-4p9d  \n",
    "\n",
    "### 3) Regular expresssions\n",
    "This was also a fairly common approach that I read about, but haven't found too many examples for.\n",
    "\n",
    "But I did learn a bit about Steven Cole Kleene (KLAY-nee):\n",
    "https://en.wikipedia.org/wiki/Kleene_star  \n",
    "\n",
    "\n",
    "**Examples:**  \n",
    "https://www.youtube.com/watch?v=X-oielWtL1A\n",
    "\n"
   ]
  },
  {
   "cell_type": "code",
   "execution_count": 2,
   "metadata": {},
   "outputs": [],
   "source": [
    "path = '../inputs/'"
   ]
  },
  {
   "cell_type": "markdown",
   "metadata": {},
   "source": [
    "## Part 1\n",
    "\n",
    "Part 1 requires a [\"recognizer\" function](https://en.wikipedia.org/wiki/Formal_grammar) to count the number of valid messages, according to a set of rule."
   ]
  },
  {
   "cell_type": "markdown",
   "metadata": {},
   "source": [
    "## Prep data"
   ]
  },
  {
   "cell_type": "code",
   "execution_count": 3,
   "metadata": {},
   "outputs": [],
   "source": [
    "def get_rules_messages(filename):\n",
    "    \n",
    "    rules = {}\n",
    "    messages = []\n",
    "    \n",
    "    with open(path + filename) as file:\n",
    "        for line in file:\n",
    "            # Parse rules into a dictionary \n",
    "            if ':' in line:\n",
    "                rule_num, temp_rule = line.strip().split(': ')\n",
    "                \n",
    "                if '\"a\"' in temp_rule:\n",
    "                    rule = 'a'\n",
    "                elif '\"b\"' in temp_rule:\n",
    "                    rule = 'b'\n",
    "                elif '|' in temp_rule:\n",
    "                    # Create list of lists when there are two options (has |)\n",
    "                    rule = [list(int(n) for n in r.split(' ')) \\\n",
    "                            for r in temp_rule.split(' | ')]\n",
    "                else:\n",
    "                    # Create list of list when there is just one option (no |)\n",
    "                    rule = [list(int(n) for n in temp_rule.split(' '))] \n",
    "                \n",
    "                # Fill in the dictionary\n",
    "                rules[int(rule_num)] = rule\n",
    "            \n",
    "            # Otherwise, parse the messages into a list\n",
    "            elif line.startswith('a') or line.startswith('b'):\n",
    "                messages.append(line.strip())\n",
    "                \n",
    "    return rules, messages"
   ]
  },
  {
   "cell_type": "code",
   "execution_count": 4,
   "metadata": {},
   "outputs": [
    {
     "data": {
      "text/plain": [
       "{0: [[4, 1, 5]],\n",
       " 1: [[2, 3], [3, 2]],\n",
       " 2: [[4, 4], [5, 5]],\n",
       " 3: [[4, 5], [5, 4]],\n",
       " 4: 'a',\n",
       " 5: 'b'}"
      ]
     },
     "execution_count": 4,
     "metadata": {},
     "output_type": "execute_result"
    }
   ],
   "source": [
    "rules, messages = get_rules_messages('example_rules_messages.txt')\n",
    "rules"
   ]
  },
  {
   "cell_type": "markdown",
   "metadata": {},
   "source": [
    "## 1) Brute Force approach\n",
    "Adapted from: https://github.com/TomBombadilV/advent-of-code-2020/blob/master/day-19/part-1.py  \n",
    "\n",
    "(Most of the comments were in the original. Impressive.)"
   ]
  },
  {
   "cell_type": "code",
   "execution_count": 5,
   "metadata": {},
   "outputs": [],
   "source": [
    "from typing import Dict, List, Set\n",
    "\n",
    "def parse_rule(rules: Dict[int, int], key: int) -> Set[str]:\n",
    "    \"\"\" Takes a dictionary of rules, takes one rule and makes\n",
    "        all possible matches out of it into a set\n",
    "    \"\"\"\n",
    "    # BASE CASES\n",
    "    if rules[key] == 'a':\n",
    "        return {'a'}\n",
    "    if rules[key] == 'b':\n",
    "        return {'b'}\n",
    "\n",
    "    # RECURSIVE CASE\n",
    "    else:\n",
    "        # Keep track of all possible messages\n",
    "        possible_messages = set()\n",
    "\n",
    "        # For each subrule in a rule (ex: [[1, 3], [3, 1]])\n",
    "        for sub_rule in rules[key]:\n",
    "            # Find all possible messages for this subrule\n",
    "            rule_messages = ['']\n",
    "\n",
    "            # Parse each part separately\n",
    "            for rule in sub_rule:\n",
    "                # Get list of all possible messages for that part\n",
    "                res = parse_rule(rules, rule)\n",
    "#                 print(rule_num, sub_rule, rule, res)\n",
    "                \n",
    "                # Create combinations of every rule message so far\n",
    "                # with every combination returned for current part\n",
    "                rule_messages = [rule_message + r \\\n",
    "                    for rule_message in rule_messages \\\n",
    "                    for r in res]\n",
    "#                 print(f\"rule_messages: {rule_messages}\")\n",
    "                \n",
    "            # Add messages generated by this subrule to the final message set\n",
    "            # ( | is union operator on two sets)\n",
    "            possible_messages = possible_messages | set(rule_messages)\n",
    "            \n",
    "#         print(f\"possible_messages: {possible_messages} \")\n",
    "        return possible_messages"
   ]
  },
  {
   "cell_type": "code",
   "execution_count": 6,
   "metadata": {},
   "outputs": [],
   "source": [
    "def num_matches(rules: Dict[str, List[str]], messages: List[int], rule=0) -> int:\n",
    "    \"\"\" Takes a dictionary of rules, a list of messages, and\n",
    "        counts how many messages match the first rule\n",
    "    \"\"\"\n",
    "    matches = 0\n",
    "    \n",
    "    # Calculate all possible messages\n",
    "    possible_messages = parse_rule(rules, rule)\n",
    "    print(f\"There are {len(possible_messages)} possible valid messages.\")\n",
    "\n",
    "    # Check if each rule matches the indicated rule\n",
    "    for message in messages:\n",
    "        matches += message in possible_messages\n",
    "\n",
    "    return matches"
   ]
  },
  {
   "cell_type": "code",
   "execution_count": 7,
   "metadata": {},
   "outputs": [
    {
     "name": "stdout",
     "output_type": "stream",
     "text": [
      "There are 8 possible valid messages.\n"
     ]
    },
    {
     "data": {
      "text/plain": [
       "2"
      ]
     },
     "execution_count": 7,
     "metadata": {},
     "output_type": "execute_result"
    }
   ],
   "source": [
    "rules, messages = get_rules_messages('example_rules_messages.txt')\n",
    "num_matches(rules, messages) # Should return 2"
   ]
  },
  {
   "cell_type": "code",
   "execution_count": 8,
   "metadata": {},
   "outputs": [
    {
     "name": "stdout",
     "output_type": "stream",
     "text": [
      "There are 2097152 possible valid messages.\n",
      "Wall time: 1.49 s\n"
     ]
    },
    {
     "data": {
      "text/plain": [
       "178"
      ]
     },
     "execution_count": 8,
     "metadata": {},
     "output_type": "execute_result"
    }
   ],
   "source": [
    "rules, messages = get_rules_messages('rules_messages.txt')\n",
    "%time num_matches(rules, messages)"
   ]
  },
  {
   "cell_type": "markdown",
   "metadata": {},
   "source": [
    "## 2) Recursive Decent Parser\n",
    "Code below adapted from: https://dev.to/qviper/advent-of-code-2020-python-solution-day-19-4p9d"
   ]
  },
  {
   "cell_type": "code",
   "execution_count": 9,
   "metadata": {},
   "outputs": [],
   "source": [
    "def match_rule(expression, rule_stack):\n",
    "    \"\"\"Recursive decsent parser that checks whether the expression is valid\n",
    "        according to the production rules for the grammar.\n",
    "        \n",
    "    Parameters\n",
    "    ----------\n",
    "    expression : str\n",
    "        The message (or remaining portion of the message) to be checked for validity.\n",
    "    \n",
    "    rule_stack : list of ints\n",
    "        A list of integers, which are keys to the production rules for the grammar.\n",
    "    \n",
    "    Returns\n",
    "    -------\n",
    "    Boolean\n",
    "        True if expression is valid, False otherwise.    \n",
    "    \"\"\"\n",
    "    \n",
    "    #print(expression, rule_stack)\n",
    "    \n",
    "    # BASE CASE\n",
    "    # If there are more rules to match (len(rule_stack)) than there are characters left in\n",
    "    # the message (len(expression)) then the message is too short for a full match,\n",
    "    # so return False\n",
    "    if len(rule_stack) > len(expression):\n",
    "        return False\n",
    "    \n",
    "    # ANOTHER BASE CASE\n",
    "    # If len(rule_stack) or len(expression) are zero, then stop recursion\n",
    "    elif len(rule_stack) == 0 or len(expression) == 0:\n",
    "        \n",
    "        # If both are equal to zero, then function returns True because\n",
    "        # the full requirements of the grammar have been met for the expression\n",
    "        if len(rule_stack) == 0 and len(expression) == 0:\n",
    "            return True\n",
    "        \n",
    "        # Otherwise, only one is equal to zero, which means the expression is \n",
    "        # either too short or too long relative to the required production rules,\n",
    "        # and the function will return False.\n",
    "        else:\n",
    "            return False \n",
    "    \n",
    "    # RECURSIVE CASE\n",
    "    else:\n",
    "        # Take the left-most rule off the stack (reversed rule list)\n",
    "        r = rule_stack.pop()\n",
    "\n",
    "        # if `r` is a string, that means we are at a terminus\n",
    "        if isinstance(r, str):\n",
    "            \n",
    "            # if the terminus matches the next letter in the message (expression[0]),\n",
    "            # then so far so go. \n",
    "            # Call match_rule again, but on the message advanced one position,\n",
    "            # and a copy of the rule_stack.\n",
    "            if expression[0] == r:\n",
    "                return match_rule(expression[1:], rule_stack.copy())\n",
    "\n",
    "            # If expression[0] != c, then the execution falls to the end of the function\n",
    "            # and returns False.\n",
    "\n",
    "        # Otherwise, we are not yet at a terminus, so add the left-most\n",
    "        # rule at rule[r] to the rule_stack and call match_rule again.\n",
    "        else:\n",
    "            for sub_rule in rules[r]:\n",
    "\n",
    "                # If we are at terminus, sub_rule will be either 'a' or 'b' and it will be\n",
    "                # added to the right end of the rule_stack\n",
    "                if match_rule(expression, rule_stack + list(reversed(sub_rule))):\n",
    "                    return True\n",
    "\n",
    "        return False"
   ]
  },
  {
   "cell_type": "code",
   "execution_count": 10,
   "metadata": {},
   "outputs": [],
   "source": [
    "def count_valid_messages(rules, messages):\n",
    "    num_valid_messages = 0\n",
    "    for message in messages:\n",
    "        if match_rule(message, list(reversed(rules[0][0]))):\n",
    "            num_valid_messages += 1\n",
    "    return num_valid_messages"
   ]
  },
  {
   "cell_type": "code",
   "execution_count": 11,
   "metadata": {},
   "outputs": [
    {
     "data": {
      "text/plain": [
       "2"
      ]
     },
     "execution_count": 11,
     "metadata": {},
     "output_type": "execute_result"
    }
   ],
   "source": [
    "rules, messages = get_rules_messages('example_rules_messages.txt')\n",
    "count_valid_messages(rules, messages) # Should return 2"
   ]
  },
  {
   "cell_type": "code",
   "execution_count": 12,
   "metadata": {},
   "outputs": [
    {
     "name": "stdout",
     "output_type": "stream",
     "text": [
      "Wall time: 481 ms\n"
     ]
    },
    {
     "data": {
      "text/plain": [
       "178"
      ]
     },
     "execution_count": 12,
     "metadata": {},
     "output_type": "execute_result"
    }
   ],
   "source": [
    "rules, messages = get_rules_messages('rules_messages.txt')\n",
    "%time count_valid_messages(rules, messages)"
   ]
  },
  {
   "cell_type": "markdown",
   "metadata": {},
   "source": [
    "## 3) Regular Expressions\n",
    "\n",
    "This approach produces the fastest run time and the most compact code...  \n",
    "(Bypass my get_rules_messages(), and use the (very compact) parsing in compute(), below)"
   ]
  },
  {
   "cell_type": "code",
   "execution_count": 13,
   "metadata": {},
   "outputs": [],
   "source": [
    "import re"
   ]
  },
  {
   "cell_type": "code",
   "execution_count": 14,
   "metadata": {},
   "outputs": [],
   "source": [
    "with open(path + 'example_rules_messages.txt') as file:\n",
    "    example_input = file.read()"
   ]
  },
  {
   "cell_type": "code",
   "execution_count": 15,
   "metadata": {},
   "outputs": [],
   "source": [
    "with open(path + 'rules_messages.txt') as file:\n",
    "    actual_input = file.read()"
   ]
  },
  {
   "cell_type": "code",
   "execution_count": 16,
   "metadata": {},
   "outputs": [],
   "source": [
    "def compute(s: str) -> int:\n",
    "    rules, lines = s.split('\\n\\n')\n",
    "\n",
    "    rules_s = {}\n",
    "    for line in rules.splitlines():\n",
    "        k, _, v = line.partition(': ')  # KP: partition() is new to me...\n",
    "        rules_s[k] = v\n",
    "\n",
    "    def _get_re(s: str) -> str:\n",
    "        if s == '|':\n",
    "            return s\n",
    "\n",
    "        rule_s = rules_s[s]\n",
    "\n",
    "        # BASE CASE\n",
    "        if rule_s.startswith('\"'):\n",
    "            return rule_s.strip('\"') # Will return either 'a' or 'b'\n",
    "        \n",
    "        # RECURSIVE CASE\n",
    "        else:\n",
    "            return f'({\"\".join(_get_re(part) for part in rule_s.split())})'\n",
    "\n",
    "    # Start at rule '0'\n",
    "    rules_re = re.compile(_get_re('0'))\n",
    "    print(rules_re)\n",
    "\n",
    "    return sum(bool(rules_re.fullmatch(line)) for line in lines.splitlines())"
   ]
  },
  {
   "cell_type": "code",
   "execution_count": 17,
   "metadata": {},
   "outputs": [
    {
     "name": "stdout",
     "output_type": "stream",
     "text": [
      "re.compile('(a((aa|bb)(ab|ba)|(ab|ba)(aa|bb))b)')\n"
     ]
    },
    {
     "data": {
      "text/plain": [
       "2"
      ]
     },
     "execution_count": 17,
     "metadata": {},
     "output_type": "execute_result"
    }
   ],
   "source": [
    "compute(example_input) # Should return 2"
   ]
  },
  {
   "cell_type": "code",
   "execution_count": 18,
   "metadata": {},
   "outputs": [
    {
     "name": "stdout",
     "output_type": "stream",
     "text": [
      "re.compile('((((((a(b(a(aa|ba)|b(ab))|a((bb)b|(b(b|a)|aa)a))|b((a(aa|bb)|b((b|a)(b|a)))b|((aa|bb)b|((b|a)a|ab)a)a))a|(((a(aa|ab)|b(ba))a|((bb|ba)b|(b(b|a)|aa)a)b)a|(a((ab|b(b|a))a|((b|a)(b|a))b)|b(a(ab)|b(ab|bb))\n",
      "Wall time: 36 ms\n"
     ]
    },
    {
     "data": {
      "text/plain": [
       "178"
      ]
     },
     "execution_count": 18,
     "metadata": {},
     "output_type": "execute_result"
    }
   ],
   "source": [
    "%time compute(actual_input)"
   ]
  },
  {
   "cell_type": "markdown",
   "metadata": {},
   "source": [
    "## Part 2"
   ]
  },
  {
   "cell_type": "code",
   "execution_count": null,
   "metadata": {},
   "outputs": [],
   "source": []
  }
 ],
 "metadata": {
  "kernelspec": {
   "display_name": "Python 3",
   "language": "python",
   "name": "python3"
  },
  "language_info": {
   "codemirror_mode": {
    "name": "ipython",
    "version": 3
   },
   "file_extension": ".py",
   "mimetype": "text/x-python",
   "name": "python",
   "nbconvert_exporter": "python",
   "pygments_lexer": "ipython3",
   "version": "3.7.3"
  }
 },
 "nbformat": 4,
 "nbformat_minor": 4
}
