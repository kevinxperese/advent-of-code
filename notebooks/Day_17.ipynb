{
 "cells": [
  {
   "cell_type": "markdown",
   "metadata": {},
   "source": [
    "# --- Day 17: Conway Cubes ---\n",
    "\n",
    "https://adventofcode.com/2020/day/17"
   ]
  },
  {
   "cell_type": "code",
   "execution_count": 1,
   "metadata": {},
   "outputs": [],
   "source": [
    "path = '../inputs/'"
   ]
  },
  {
   "cell_type": "markdown",
   "metadata": {},
   "source": [
    "## Part 1"
   ]
  },
  {
   "cell_type": "code",
   "execution_count": 2,
   "metadata": {},
   "outputs": [],
   "source": [
    "import copy\n",
    "from pprint import pprint\n",
    "import numpy as np"
   ]
  },
  {
   "cell_type": "code",
   "execution_count": 3,
   "metadata": {},
   "outputs": [
    {
     "data": {
      "text/plain": [
       "array([[[0, 1, 0],\n",
       "        [0, 0, 1],\n",
       "        [1, 1, 1]]])"
      ]
     },
     "execution_count": 3,
     "metadata": {},
     "output_type": "execute_result"
    }
   ],
   "source": [
    "def read_initial_state(filename):\n",
    "    initial_state = [[]]\n",
    "    \n",
    "    with open (path + filename) as file:\n",
    "        for line in file:\n",
    "            x = [int(c.replace('.', '0').replace('#', '1')) for c in line.strip()]\n",
    "            initial_state[0].append(x)\n",
    "\n",
    "    return np.array(initial_state)\n",
    "\n",
    "read_initial_state('example_initial_state.txt')"
   ]
  },
  {
   "cell_type": "code",
   "execution_count": 4,
   "metadata": {},
   "outputs": [],
   "source": [
    "def expand_state_space(state):\n",
    "    \n",
    "    len_z = state.shape[0]\n",
    "    len_y = state.shape[1]\n",
    "    len_x = state.shape[2]\n",
    "\n",
    "    new_z = np.zeros(((len_x+2) * (len_y+2))).reshape(1, len_y+2, len_x+2)\n",
    "    new_y = np.zeros(len_z * (len_x+2)).reshape(len_z, 1, len_x+2)\n",
    "    new_x = np.zeros(len_z * len_y).reshape((len_z, len_y, 1))\n",
    "\n",
    "    # Add extra x dimensions\n",
    "    state = np.append(state, new_x, 2)\n",
    "    state = np.append(new_x, state, 2)\n",
    "\n",
    "    # Add extra y dimensions\n",
    "    state = np.append(state, new_y, 1)\n",
    "    state = np.append(new_y, state, 1)\n",
    "\n",
    "    # Add extra z dimensions\n",
    "    state = np.append(state, new_z, 0)\n",
    "    state = np.append(new_z, state, 0)\n",
    "\n",
    "    return state                           "
   ]
  },
  {
   "cell_type": "code",
   "execution_count": 5,
   "metadata": {},
   "outputs": [
    {
     "data": {
      "text/plain": [
       "array([[[0., 0., 0., 0., 0.],\n",
       "        [0., 0., 0., 0., 0.],\n",
       "        [0., 0., 0., 0., 0.],\n",
       "        [0., 0., 0., 0., 0.],\n",
       "        [0., 0., 0., 0., 0.]],\n",
       "\n",
       "       [[0., 0., 0., 0., 0.],\n",
       "        [0., 0., 1., 0., 0.],\n",
       "        [0., 0., 0., 1., 0.],\n",
       "        [0., 1., 1., 1., 0.],\n",
       "        [0., 0., 0., 0., 0.]],\n",
       "\n",
       "       [[0., 0., 0., 0., 0.],\n",
       "        [0., 0., 0., 0., 0.],\n",
       "        [0., 0., 0., 0., 0.],\n",
       "        [0., 0., 0., 0., 0.],\n",
       "        [0., 0., 0., 0., 0.]]])"
      ]
     },
     "execution_count": 5,
     "metadata": {},
     "output_type": "execute_result"
    }
   ],
   "source": [
    "expand_state_space(read_initial_state('example_initial_state.txt'))"
   ]
  },
  {
   "cell_type": "code",
   "execution_count": 6,
   "metadata": {},
   "outputs": [],
   "source": [
    "def change_state(state):\n",
    "\n",
    "    new_state = copy.deepcopy(state)\n",
    "    \n",
    "    for z in range(1, state.shape[0]-1):\n",
    "        for y in range(1, state.shape[1]-1):\n",
    "            for x in range(1, state.shape[2]-1):\n",
    "\n",
    "                cube_and_neighbors = state[z-1:z+2, y-1:y+2, x-1:x+2]\n",
    "                num_active = cube_and_neighbors.sum()\n",
    "                \n",
    "                # Add 1 to account for the cube in the center being active\n",
    "                if state[z, y, x] == 1 and not (num_active == 2+1 or num_active == 3+1):\n",
    "                    new_state[z, y, x] = 0\n",
    "                elif state[z, y, x] == 0 and num_active == 3:\n",
    "                    new_state[z, y, x] = 1\n",
    "    \n",
    "    return new_state"
   ]
  },
  {
   "cell_type": "code",
   "execution_count": 7,
   "metadata": {},
   "outputs": [],
   "source": [
    "def run_boot_process(state, cycle_num=0, stop_at=6):\n",
    "    \n",
    "    if cycle_num == stop_at:\n",
    "        return state\n",
    "    \n",
    "    else:\n",
    "        new_state = change_state(expand_state_space(state))\n",
    "        cycle_num += 1\n",
    "        return run_boot_process(new_state, cycle_num=cycle_num)        "
   ]
  },
  {
   "cell_type": "code",
   "execution_count": 8,
   "metadata": {},
   "outputs": [
    {
     "data": {
      "text/plain": [
       "112.0"
      ]
     },
     "execution_count": 8,
     "metadata": {},
     "output_type": "execute_result"
    }
   ],
   "source": [
    "initial_state = read_initial_state('example_initial_state.txt')\n",
    "expanded_initial_state = expand_state_space(initial_state)\n",
    "final_state = run_boot_process(expanded_initial_state) \n",
    "final_state.sum() # Should return 112"
   ]
  },
  {
   "cell_type": "code",
   "execution_count": 9,
   "metadata": {},
   "outputs": [
    {
     "data": {
      "text/plain": [
       "372.0"
      ]
     },
     "execution_count": 9,
     "metadata": {},
     "output_type": "execute_result"
    }
   ],
   "source": [
    "initial_state = read_initial_state('initial_state.txt')\n",
    "expanded_initial_state = expand_state_space(initial_state)\n",
    "final_state = run_boot_process(expanded_initial_state) \n",
    "final_state.sum() "
   ]
  },
  {
   "cell_type": "markdown",
   "metadata": {},
   "source": [
    "## Part 2"
   ]
  },
  {
   "cell_type": "code",
   "execution_count": 10,
   "metadata": {},
   "outputs": [
    {
     "data": {
      "text/plain": [
       "array([[[[0, 1, 0],\n",
       "         [0, 0, 1],\n",
       "         [1, 1, 1]]]])"
      ]
     },
     "execution_count": 10,
     "metadata": {},
     "output_type": "execute_result"
    }
   ],
   "source": [
    "def read_initial_state2(filename):\n",
    "    initial_state = [[]]\n",
    "    \n",
    "    with open (path + filename) as file:\n",
    "        for line in file:\n",
    "            x = [int(c.replace('.', '0').replace('#', '1')) for c in line.strip()]\n",
    "            initial_state[0].append(x)\n",
    "\n",
    "    initial_state = np.array(initial_state)\n",
    "    initial_state = initial_state[None, ...] # Add w dimension\n",
    "        \n",
    "    return initial_state\n",
    "    \n",
    "read_initial_state2('example_initial_state.txt')"
   ]
  },
  {
   "cell_type": "code",
   "execution_count": 11,
   "metadata": {},
   "outputs": [],
   "source": [
    "def expand_state_space2(state):\n",
    "    \n",
    "    len_w = state.shape[0]\n",
    "    len_z = state.shape[1]\n",
    "    len_y = state.shape[2]\n",
    "    len_x = state.shape[3]\n",
    "\n",
    "    new_w = np.zeros((len_z+2) * (len_y+2) * (len_x+2)).reshape(1, len_z+2, len_y+2, len_x+2)\n",
    "    new_z = np.zeros(len_w * (len_y+2) * (len_x+2)).reshape(len_w, 1, len_y+2, len_x+2)\n",
    "    new_y = np.zeros(len_w * len_z * (len_x+2)).reshape(len_w, len_z, 1, len_x+2)\n",
    "    new_x = np.zeros(len_w * len_z * len_y).reshape(len_w, len_z, len_y, 1)\n",
    "\n",
    "    # Add extra x dimensions\n",
    "    state = np.append(state, new_x, 3)\n",
    "    state = np.append(new_x, state, 3)\n",
    "    \n",
    "    # Add extra y dimensions\n",
    "    state = np.append(state, new_y, 2)\n",
    "    state = np.append(new_y, state, 2)\n",
    "\n",
    "    # Add extra z dimensions\n",
    "    state = np.append(state, new_z, 1)\n",
    "    state = np.append(new_z, state, 1)\n",
    "\n",
    "    # Add extra w dimensions\n",
    "    state = np.append(state, new_w, 0)\n",
    "    state = np.append(new_w, state, 0)\n",
    "    \n",
    "    return state                           "
   ]
  },
  {
   "cell_type": "code",
   "execution_count": 12,
   "metadata": {},
   "outputs": [],
   "source": [
    "def change_state2(state):\n",
    "\n",
    "    new_state = copy.deepcopy(state)\n",
    "    for w in range(1, state.shape[0] - 1):\n",
    "        for z in range(1, state.shape[1] - 1):\n",
    "            for y in range(1, state.shape[2] - 1):\n",
    "                for x in range(1, state.shape[3] - 1):\n",
    "\n",
    "                    cube_and_neighbors = state[w-1:w+2, z-1:z+2, y-1:y+2, x-1:x+2]\n",
    "                    num_active = cube_and_neighbors.sum()\n",
    "\n",
    "                    # Add 1 to account for the cube in the center being active\n",
    "                    if state[w, z, y, x] == 1 and not (num_active == 2+1 or num_active == 3+1):\n",
    "                        new_state[w, z, y, x] = 0\n",
    "                    elif state[w, z, y, x] == 0 and num_active == 3:\n",
    "                        new_state[w, z, y, x] = 1\n",
    "    \n",
    "    return new_state"
   ]
  },
  {
   "cell_type": "code",
   "execution_count": 13,
   "metadata": {},
   "outputs": [],
   "source": [
    "def run_boot_process2(state, cycle_num=0, stop_at=6):\n",
    "    \n",
    "    if cycle_num == stop_at:\n",
    "        return state\n",
    "    \n",
    "    else:\n",
    "        new_state = change_state2(expand_state_space2(state))\n",
    "        cycle_num += 1\n",
    "        return run_boot_process2(new_state, cycle_num=cycle_num)  "
   ]
  },
  {
   "cell_type": "code",
   "execution_count": 14,
   "metadata": {},
   "outputs": [
    {
     "data": {
      "text/plain": [
       "848.0"
      ]
     },
     "execution_count": 14,
     "metadata": {},
     "output_type": "execute_result"
    }
   ],
   "source": [
    "initial_state2 = read_initial_state2('example_initial_state.txt')\n",
    "expanded_initial_state2 = expand_state_space2(initial_state2)\n",
    "final_state2 = run_boot_process2(expanded_initial_state2) \n",
    "final_state2.sum() # Should return 848"
   ]
  },
  {
   "cell_type": "code",
   "execution_count": 15,
   "metadata": {},
   "outputs": [
    {
     "data": {
      "text/plain": [
       "1896.0"
      ]
     },
     "execution_count": 15,
     "metadata": {},
     "output_type": "execute_result"
    }
   ],
   "source": [
    "initial_state2 = read_initial_state2('initial_state.txt')\n",
    "expanded_initial_state2 = expand_state_space2(initial_state2)\n",
    "final_state2 = run_boot_process2(expanded_initial_state2) \n",
    "final_state2.sum() "
   ]
  }
 ],
 "metadata": {
  "kernelspec": {
   "display_name": "Python 3",
   "language": "python",
   "name": "python3"
  },
  "language_info": {
   "codemirror_mode": {
    "name": "ipython",
    "version": 3
   },
   "file_extension": ".py",
   "mimetype": "text/x-python",
   "name": "python",
   "nbconvert_exporter": "python",
   "pygments_lexer": "ipython3",
   "version": "3.7.3"
  }
 },
 "nbformat": 4,
 "nbformat_minor": 4
}
