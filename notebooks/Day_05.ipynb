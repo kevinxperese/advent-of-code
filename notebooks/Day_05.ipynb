{
 "cells": [
  {
   "cell_type": "markdown",
   "metadata": {},
   "source": [
    "# --- Day 5: Binary Boarding ---\n",
    "\n",
    "https://adventofcode.com/2020/day/5"
   ]
  },
  {
   "cell_type": "code",
   "execution_count": 1,
   "metadata": {},
   "outputs": [],
   "source": [
    "path = '../inputs/'"
   ]
  },
  {
   "cell_type": "markdown",
   "metadata": {},
   "source": [
    "## Part 1"
   ]
  },
  {
   "cell_type": "code",
   "execution_count": 2,
   "metadata": {},
   "outputs": [],
   "source": [
    "def get_row_col(boarding_pass):\n",
    "    row_bin = boarding_pass[:7].replace('F', '0').replace('B', '1')\n",
    "    row = binary_to_int(row_bin)\n",
    "\n",
    "    col_bin = boarding_pass[7:].rstrip().replace('L', '0').replace('R', '1')\n",
    "    col = binary_to_int(col_bin)\n",
    "    \n",
    "    return row, col"
   ]
  },
  {
   "cell_type": "code",
   "execution_count": 3,
   "metadata": {},
   "outputs": [],
   "source": [
    "def binary_to_int(binary_str):\n",
    "    l = len(binary_str)\n",
    "    integer = 0\n",
    "    \n",
    "    for i, s in enumerate(binary_str):\n",
    "        integer += 2 ** (l - (i + 1)) * int(s)\n",
    "    \n",
    "    return integer"
   ]
  },
  {
   "cell_type": "code",
   "execution_count": 4,
   "metadata": {},
   "outputs": [],
   "source": [
    "def calc_seat_id(row, col):\n",
    "    return row * 8 + col"
   ]
  },
  {
   "cell_type": "code",
   "execution_count": 5,
   "metadata": {},
   "outputs": [],
   "source": [
    "def get_max_seat_id(filename):\n",
    "    \n",
    "    max_seat_id = 0\n",
    "    \n",
    "    with open (path + filename) as file:\n",
    "        for line in file:\n",
    "            row, col = get_row_col(line)\n",
    "            max_seat_id = max(max_seat_id, calc_seat_id(row, col))\n",
    "\n",
    "    return max_seat_id"
   ]
  },
  {
   "cell_type": "code",
   "execution_count": 6,
   "metadata": {},
   "outputs": [
    {
     "data": {
      "text/plain": [
       "820"
      ]
     },
     "execution_count": 6,
     "metadata": {},
     "output_type": "execute_result"
    }
   ],
   "source": [
    "get_max_seat_id('example_boarding_passes.txt') # should return 820"
   ]
  },
  {
   "cell_type": "code",
   "execution_count": 7,
   "metadata": {},
   "outputs": [
    {
     "name": "stdout",
     "output_type": "stream",
     "text": [
      "818\n"
     ]
    }
   ],
   "source": [
    "max_seat_id = get_max_seat_id('boarding_passes.txt')\n",
    "print(max_seat_id)"
   ]
  },
  {
   "cell_type": "markdown",
   "metadata": {},
   "source": [
    "## Part 2"
   ]
  },
  {
   "cell_type": "code",
   "execution_count": 8,
   "metadata": {},
   "outputs": [],
   "source": [
    "def find_seat(filename):\n",
    "    \n",
    "    # Create a list of all possible seats\n",
    "    seats = [s for s in range(max_seat_id + 1)]\n",
    "    \n",
    "    with open (path + filename) as file:\n",
    "        for line in file:\n",
    "            row, col = get_row_col(line)\n",
    "            occupied_seat = calc_seat_id(row, col)\n",
    "\n",
    "            seats.remove(occupied_seat)\n",
    "    \n",
    "    # Since the empty seats at the back have already been trimmed\n",
    "    # the last seat in the list is \n",
    "    return seats[-1]"
   ]
  },
  {
   "cell_type": "code",
   "execution_count": 9,
   "metadata": {},
   "outputs": [
    {
     "name": "stdout",
     "output_type": "stream",
     "text": [
      "559\n"
     ]
    },
    {
     "data": {
      "text/plain": [
       "559"
      ]
     },
     "execution_count": 9,
     "metadata": {},
     "output_type": "execute_result"
    }
   ],
   "source": [
    "find_seat('boarding_passes.txt')"
   ]
  }
 ],
 "metadata": {
  "kernelspec": {
   "display_name": "Python 3",
   "language": "python",
   "name": "python3"
  },
  "language_info": {
   "codemirror_mode": {
    "name": "ipython",
    "version": 3
   },
   "file_extension": ".py",
   "mimetype": "text/x-python",
   "name": "python",
   "nbconvert_exporter": "python",
   "pygments_lexer": "ipython3",
   "version": "3.7.3"
  }
 },
 "nbformat": 4,
 "nbformat_minor": 4
}
