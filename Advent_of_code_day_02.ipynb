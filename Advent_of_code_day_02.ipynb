{
 "cells": [
  {
   "cell_type": "markdown",
   "metadata": {},
   "source": [
    "# Advent of Code\n",
    "## Day 2: 1202 Program Alarm\n",
    "https://adventofcode.com/2019/day/2"
   ]
  },
  {
   "cell_type": "markdown",
   "metadata": {},
   "source": [
    "## Part 1"
   ]
  },
  {
   "cell_type": "markdown",
   "metadata": {},
   "source": [
    "### Test data"
   ]
  },
  {
   "cell_type": "code",
   "execution_count": 1,
   "metadata": {},
   "outputs": [],
   "source": [
    "test_intcode_programs = [[1,0,0,0,99], [2,3,0,3,99], [2,4,4,5,99,0], [1,1,1,4,99,5,6,0,99]]"
   ]
  },
  {
   "cell_type": "markdown",
   "metadata": {},
   "source": [
    "### Logic function"
   ]
  },
  {
   "cell_type": "code",
   "execution_count": 2,
   "metadata": {},
   "outputs": [],
   "source": [
    "def logic(program):\n",
    "    position = 0\n",
    "    while program[position] != 99:\n",
    "        \n",
    "        # opcode 1 is addition\n",
    "        if program[position] == 1:\n",
    "            program[program[position + 3]] = program[program[position + 1]] \\\n",
    "                                           + program[program[position + 2]]\n",
    "            \n",
    "            position += 4 # Move to next \"opcode\"\n",
    "            \n",
    "            if program[position] == 99:\n",
    "                return program\n",
    "            \n",
    "        # opcode 2 is multiplication\n",
    "        elif program[position] == 2:\n",
    "            program[program[position + 3]] = program[program[position + 1]] \\\n",
    "                                           * program[program[position + 2]]\n",
    "            \n",
    "            position += 4 # Move to next \"opcode\"\n",
    "\n",
    "            if program[position] == 99:\n",
    "                return program\n",
    "            \n",
    "        # opcode 99 is terminate\n",
    "        elif program[position] == 99:\n",
    "            return program"
   ]
  },
  {
   "cell_type": "markdown",
   "metadata": {},
   "source": [
    "### Test that function is working properly"
   ]
  },
  {
   "cell_type": "code",
   "execution_count": 3,
   "metadata": {},
   "outputs": [
    {
     "name": "stdout",
     "output_type": "stream",
     "text": [
      "[2, 0, 0, 0, 99]\n",
      "[2, 3, 0, 6, 99]\n",
      "[2, 4, 4, 5, 99, 9801]\n",
      "[30, 1, 1, 4, 2, 5, 6, 0, 99]\n"
     ]
    }
   ],
   "source": [
    "for program in test_intcode_programs:\n",
    "    print(logic(program))"
   ]
  },
  {
   "cell_type": "markdown",
   "metadata": {},
   "source": [
    "### Actual data"
   ]
  },
  {
   "cell_type": "code",
   "execution_count": 4,
   "metadata": {},
   "outputs": [],
   "source": [
    "intcode_program = [1,0,0,3,1,1,2,3,1,3,4,3,1,5,0,3,2,10,1,19,1,6,19,23,2,23,6,27,1,5,27,31,1,31,9,35,2,10,35,39,1,5,39,43,2,43,10,47,1,47,6,51,2,51,6,55,2,55,13,59,2,6,59,63,1,63,5,67,1,6,67,71,2,71,9,75,1,6,75,79,2,13,79,83,1,9,83,87,1,87,13,91,2,91,10,95,1,6,95,99,1,99,13,103,1,13,103,107,2,107,10,111,1,9,111,115,1,115,10,119,1,5,119,123,1,6,123,127,1,10,127,131,1,2,131,135,1,135,10,0,99,2,14,0,0]"
   ]
  },
  {
   "cell_type": "code",
   "execution_count": 5,
   "metadata": {},
   "outputs": [],
   "source": [
    "import copy"
   ]
  },
  {
   "cell_type": "markdown",
   "metadata": {},
   "source": [
    "### Wrapper function, with fixes to data"
   ]
  },
  {
   "cell_type": "code",
   "execution_count": 6,
   "metadata": {},
   "outputs": [],
   "source": [
    "def wrapper(program, fix_1, fix_2):\n",
    "\n",
    "    # Make a deep copy so we can re-use intcode_program in Part 2\n",
    "    fixed_program = copy.deepcopy(program)\n",
    "    \n",
    "    # First, fix the starting data\n",
    "    fixed_program[1] = fix_1\n",
    "    fixed_program[2] = fix_2\n",
    "    \n",
    "    # Then, run the logic\n",
    "    end_program = logic(fixed_program)\n",
    "    \n",
    "    return end_program[0]\n"
   ]
  },
  {
   "cell_type": "code",
   "execution_count": 7,
   "metadata": {},
   "outputs": [
    {
     "name": "stdout",
     "output_type": "stream",
     "text": [
      "8017076\n"
     ]
    }
   ],
   "source": [
    "print(wrapper(intcode_program, 12, 2))"
   ]
  },
  {
   "cell_type": "markdown",
   "metadata": {},
   "source": [
    "## Woot!"
   ]
  },
  {
   "cell_type": "markdown",
   "metadata": {},
   "source": [
    "----\n",
    "## Part 2"
   ]
  },
  {
   "cell_type": "code",
   "execution_count": 8,
   "metadata": {},
   "outputs": [],
   "source": [
    "from random import shuffle"
   ]
  },
  {
   "cell_type": "markdown",
   "metadata": {},
   "source": [
    "### Create lists of \"nouns\" and \"verbs\" to test"
   ]
  },
  {
   "cell_type": "code",
   "execution_count": 9,
   "metadata": {},
   "outputs": [],
   "source": [
    "nouns = [x for x in range(0, 100)]\n",
    "verbs = [x for x in range(0, 100)]\n",
    "\n",
    "# Put lists in random order -- maybe get better performance?\n",
    "shuffle(nouns)\n",
    "shuffle(verbs)"
   ]
  },
  {
   "cell_type": "code",
   "execution_count": 10,
   "metadata": {},
   "outputs": [],
   "source": [
    "target_answer = 19690720"
   ]
  },
  {
   "cell_type": "markdown",
   "metadata": {},
   "source": [
    "### New Wrapper function, to loop through possible fixes (\"nouns\", and \"verbs\")\n",
    "Going to test all possible fixes until we get our target answer in end_program[0]"
   ]
  },
  {
   "cell_type": "code",
   "execution_count": 11,
   "metadata": {},
   "outputs": [],
   "source": [
    "def wrapper_2(program, nouns, verbs):\n",
    "    \n",
    "    # loops\n",
    "    for noun in nouns:\n",
    "        for verb in verbs:\n",
    "\n",
    "            # re-initialize for each test\n",
    "            test_program = copy.deepcopy(program)\n",
    "    \n",
    "            # fixes\n",
    "            test_program[1] = noun\n",
    "            test_program[2] = verb\n",
    "            \n",
    "            end_program = logic(test_program)\n",
    "            \n",
    "            if end_program[0] == target_answer:\n",
    "                answer = 100 * noun + verb\n",
    "                return answer"
   ]
  },
  {
   "cell_type": "code",
   "execution_count": 12,
   "metadata": {},
   "outputs": [
    {
     "name": "stdout",
     "output_type": "stream",
     "text": [
      "3146\n"
     ]
    }
   ],
   "source": [
    "print(wrapper_2(intcode_program, nouns, verbs))"
   ]
  },
  {
   "cell_type": "markdown",
   "metadata": {},
   "source": [
    "## Yup! "
   ]
  }
 ],
 "metadata": {
  "kernelspec": {
   "display_name": "Python 3",
   "language": "python",
   "name": "python3"
  },
  "language_info": {
   "codemirror_mode": {
    "name": "ipython",
    "version": 3
   },
   "file_extension": ".py",
   "mimetype": "text/x-python",
   "name": "python",
   "nbconvert_exporter": "python",
   "pygments_lexer": "ipython3",
   "version": "3.7.3"
  }
 },
 "nbformat": 4,
 "nbformat_minor": 2
}
